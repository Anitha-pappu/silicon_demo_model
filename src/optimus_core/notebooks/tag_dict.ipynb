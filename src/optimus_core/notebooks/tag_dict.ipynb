{
 "cells": [
  {
   "cell_type": "markdown",
   "metadata": {},
   "source": [
    "# `TagDict` usage examples"
   ]
  },
  {
   "cell_type": "code",
   "execution_count": 1,
   "metadata": {},
   "outputs": [],
   "source": [
    "# Resolve path when used in a usecase project\n",
    "import sys\n",
    "from pathlib import Path\n",
    "\n",
    "sys.path.insert(0, str(Path(\"../../\").resolve()))"
   ]
  },
  {
   "cell_type": "markdown",
   "metadata": {},
   "source": [
    "## Creating Tag Dict\n",
    "\n",
    "It is possible to create a `TagDict` programmatically, and this may be useful to get started. Let's take a self-driving car example, and create the tag dictionary with only a single tag, engine, in it."
   ]
  },
  {
   "cell_type": "code",
   "execution_count": 2,
   "metadata": {},
   "outputs": [
    {
     "data": {
      "text/html": [
       "<b>TagDict data</b>:<tr><div>\n",
       "<style scoped>\n",
       "    .dataframe tbody tr th:only-of-type {\n",
       "        vertical-align: middle;\n",
       "    }\n",
       "\n",
       "    .dataframe tbody tr th {\n",
       "        vertical-align: top;\n",
       "    }\n",
       "\n",
       "    .dataframe thead th {\n",
       "        text-align: right;\n",
       "    }\n",
       "</style>\n",
       "<table border=\"1\" class=\"dataframe\">\n",
       "  <thead>\n",
       "    <tr style=\"text-align: right;\">\n",
       "      <th></th>\n",
       "      <th>tag</th>\n",
       "      <th>name</th>\n",
       "      <th>tag_type</th>\n",
       "      <th>data_type</th>\n",
       "      <th>unit</th>\n",
       "      <th>range_min</th>\n",
       "      <th>range_max</th>\n",
       "      <th>on_off_dependencies</th>\n",
       "      <th>derived</th>\n",
       "    </tr>\n",
       "  </thead>\n",
       "  <tbody>\n",
       "    <tr>\n",
       "      <th>0</th>\n",
       "      <td>engine</td>\n",
       "      <td>Engine On/Off Sensor</td>\n",
       "      <td>on_off</td>\n",
       "      <td>boolean</td>\n",
       "      <td>on/off</td>\n",
       "      <td>False</td>\n",
       "      <td>True</td>\n",
       "      <td>[]</td>\n",
       "      <td>False</td>\n",
       "    </tr>\n",
       "  </tbody>\n",
       "</table>\n",
       "</div>"
      ],
      "text/plain": [
       "TagDict data:\n",
       "      tag                  name tag_type data_type    unit  range_min  \\\n",
       "0  engine  Engine On/Off Sensor   on_off   boolean  on/off      False   \n",
       "\n",
       "   range_max on_off_dependencies  derived  \n",
       "0       True                  []    False  "
      ]
     },
     "execution_count": 2,
     "metadata": {},
     "output_type": "execute_result"
    }
   ],
   "source": [
    "import pandas as pd\n",
    "from optimus_core.tag_dict import TagDict\n",
    "\n",
    "td = TagDict(pd.DataFrame({\n",
    "    'tag': ['engine'],\n",
    "    'name': ['Engine On/Off Sensor'],\n",
    "    'tag_type': ['on_off'],\n",
    "    'data_type': ['boolean'],\n",
    "    'unit': ['on/off'],\n",
    "    'range_min': [False], \n",
    "    'range_max': [True],\n",
    "    'on_off_dependencies': [[]], \n",
    "    'derived': [False], \n",
    "}))\n",
    "td"
   ]
  },
  {
   "cell_type": "markdown",
   "metadata": {},
   "source": [
    "In this example we used a pandas dataframe. As a minimum we had to provide all of the required columns to describe the engine tag."
   ]
  },
  {
   "cell_type": "markdown",
   "metadata": {},
   "source": [
    "## Adding Tags\n",
    "\n",
    "Once you have a `TagDict`, it is also possible to add new tags to it programmatically. This can be done through the `add_tag` method of the dictionary. Let's extend our self-driving car example with 4 further tags: speedometer, accelerator, ron, and cof."
   ]
  },
  {
   "cell_type": "code",
   "execution_count": 3,
   "metadata": {},
   "outputs": [
    {
     "data": {
      "text/html": [
       "<b>TagDict data</b>:<tr><div>\n",
       "<style scoped>\n",
       "    .dataframe tbody tr th:only-of-type {\n",
       "        vertical-align: middle;\n",
       "    }\n",
       "\n",
       "    .dataframe tbody tr th {\n",
       "        vertical-align: top;\n",
       "    }\n",
       "\n",
       "    .dataframe thead th {\n",
       "        text-align: right;\n",
       "    }\n",
       "</style>\n",
       "<table border=\"1\" class=\"dataframe\">\n",
       "  <thead>\n",
       "    <tr style=\"text-align: right;\">\n",
       "      <th></th>\n",
       "      <th>tag</th>\n",
       "      <th>name</th>\n",
       "      <th>tag_type</th>\n",
       "      <th>data_type</th>\n",
       "      <th>unit</th>\n",
       "      <th>range_min</th>\n",
       "      <th>range_max</th>\n",
       "      <th>on_off_dependencies</th>\n",
       "      <th>derived</th>\n",
       "    </tr>\n",
       "  </thead>\n",
       "  <tbody>\n",
       "    <tr>\n",
       "      <th>0</th>\n",
       "      <td>engine</td>\n",
       "      <td>Engine On/Off Sensor</td>\n",
       "      <td>on_off</td>\n",
       "      <td>boolean</td>\n",
       "      <td>on/off</td>\n",
       "      <td>False</td>\n",
       "      <td>True</td>\n",
       "      <td>[]</td>\n",
       "      <td>False</td>\n",
       "    </tr>\n",
       "    <tr>\n",
       "      <th>1</th>\n",
       "      <td>speedometer</td>\n",
       "      <td>Speedometer</td>\n",
       "      <td>output</td>\n",
       "      <td>numeric</td>\n",
       "      <td>mph</td>\n",
       "      <td>0.0</td>\n",
       "      <td>150.0</td>\n",
       "      <td>[engine]</td>\n",
       "      <td>False</td>\n",
       "    </tr>\n",
       "    <tr>\n",
       "      <th>2</th>\n",
       "      <td>accelerator</td>\n",
       "      <td>Accelerator Pedal</td>\n",
       "      <td>control</td>\n",
       "      <td>numeric</td>\n",
       "      <td>travel %</td>\n",
       "      <td>0</td>\n",
       "      <td>100.0</td>\n",
       "      <td>[]</td>\n",
       "      <td>False</td>\n",
       "    </tr>\n",
       "    <tr>\n",
       "      <th>3</th>\n",
       "      <td>ron</td>\n",
       "      <td>Research Octane Number</td>\n",
       "      <td>input</td>\n",
       "      <td>categorical</td>\n",
       "      <td>RON</td>\n",
       "      <td>93</td>\n",
       "      <td>99</td>\n",
       "      <td>[]</td>\n",
       "      <td>False</td>\n",
       "    </tr>\n",
       "    <tr>\n",
       "      <th>4</th>\n",
       "      <td>cof</td>\n",
       "      <td>Road Coefficient of Friction</td>\n",
       "      <td>state</td>\n",
       "      <td>numeric</td>\n",
       "      <td>ratio</td>\n",
       "      <td>0.0</td>\n",
       "      <td>2</td>\n",
       "      <td>[]</td>\n",
       "      <td>True</td>\n",
       "    </tr>\n",
       "  </tbody>\n",
       "</table>\n",
       "</div>"
      ],
      "text/plain": [
       "TagDict data:\n",
       "           tag                          name tag_type    data_type      unit  \\\n",
       "0       engine          Engine On/Off Sensor   on_off      boolean    on/off   \n",
       "1  speedometer                   Speedometer   output      numeric       mph   \n",
       "2  accelerator             Accelerator Pedal  control      numeric  travel %   \n",
       "3          ron        Research Octane Number    input  categorical       RON   \n",
       "4          cof  Road Coefficient of Friction    state      numeric     ratio   \n",
       "\n",
       "  range_min range_max on_off_dependencies  derived  \n",
       "0     False      True                  []    False  \n",
       "1       0.0     150.0            [engine]    False  \n",
       "2         0     100.0                  []    False  \n",
       "3        93        99                  []    False  \n",
       "4       0.0         2                  []     True  "
      ]
     },
     "execution_count": 3,
     "metadata": {},
     "output_type": "execute_result"
    }
   ],
   "source": [
    "td.add_tag({\n",
    "        'tag': ['speedometer', 'accelerator', 'ron', 'cof'],\n",
    "        'name': ['Speedometer', 'Accelerator Pedal', 'Research Octane Number', 'Road Coefficient of Friction'], \n",
    "        'tag_type': ['output', 'control', 'input', 'state'], \n",
    "        'data_type': ['numeric', 'numeric', 'categorical', 'numeric'],\n",
    "        'unit': ['mph', 'travel %', 'RON', 'ratio'], \n",
    "        'range_min': [0.0, 0, '93', 0.0], \n",
    "        'range_max': [150.0 ,100.0 ,'99', 2],\n",
    "        'on_off_dependencies': ['engine', None, None, None], \n",
    "        'derived': [False,False,False,True], \n",
    "    })\n",
    "td"
   ]
  },
  {
   "cell_type": "markdown",
   "metadata": {},
   "source": [
    "## Querying The Tag Dict"
   ]
  },
  {
   "cell_type": "markdown",
   "metadata": {},
   "source": [
    "Most users will interact with the tag dictionary through an instance of the `TagDict` class. The `TagDict` class is a thin wrapper around the underlying `DataFrame` that makes it easy to query tag information."
   ]
  },
  {
   "cell_type": "markdown",
   "metadata": {},
   "source": [
    "### Reading Tag Properties\n",
    "\n",
    "To get all information for a single tag, simply subset the tag dict instance:"
   ]
  },
  {
   "cell_type": "code",
   "execution_count": 4,
   "metadata": {},
   "outputs": [
    {
     "data": {
      "text/plain": [
       "{'tag': 'engine',\n",
       " 'name': 'Engine On/Off Sensor',\n",
       " 'tag_type': 'on_off',\n",
       " 'data_type': 'boolean',\n",
       " 'unit': 'on/off',\n",
       " 'range_min': False,\n",
       " 'range_max': True,\n",
       " 'on_off_dependencies': [],\n",
       " 'derived': False}"
      ]
     },
     "execution_count": 4,
     "metadata": {},
     "output_type": "execute_result"
    }
   ],
   "source": [
    "td[\"engine\"]"
   ]
  },
  {
   "cell_type": "markdown",
   "metadata": {},
   "source": [
    "### Check If A Tag Exists\n",
    "\n",
    "To check whether the tag dict contains information about a given tag, use the `in` operator:"
   ]
  },
  {
   "cell_type": "code",
   "execution_count": 5,
   "metadata": {},
   "outputs": [
    {
     "data": {
      "text/plain": [
       "True"
      ]
     },
     "execution_count": 5,
     "metadata": {},
     "output_type": "execute_result"
    }
   ],
   "source": [
    "\"engine\" in td"
   ]
  },
  {
   "cell_type": "markdown",
   "metadata": {},
   "source": [
    "### Dependencies\n",
    "\n",
    "Dependencies can be queried via the `dependencies` and `dependents` methods."
   ]
  },
  {
   "cell_type": "code",
   "execution_count": 6,
   "metadata": {},
   "outputs": [
    {
     "data": {
      "text/plain": [
       "{'engine'}"
      ]
     },
     "execution_count": 6,
     "metadata": {},
     "output_type": "execute_result"
    }
   ],
   "source": [
    "td.dependencies(\"speedometer\")"
   ]
  },
  {
   "cell_type": "code",
   "execution_count": 7,
   "metadata": {},
   "outputs": [
    {
     "data": {
      "text/plain": [
       "{'speedometer'}"
      ]
     },
     "execution_count": 7,
     "metadata": {},
     "output_type": "execute_result"
    }
   ],
   "source": [
    "td.dependents(\"engine\")"
   ]
  },
  {
   "cell_type": "markdown",
   "metadata": {},
   "source": [
    "### Retrieve Sets of Tags"
   ]
  },
  {
   "cell_type": "markdown",
   "metadata": {},
   "source": [
    "The `select` method can be used to quickly retrieve sets of tags.\n",
    "\n",
    "Using `select` without any arguments will return all tags in the `TagDict`. \n",
    "\n",
    "Similar to \n",
    "```sql\n",
    "select tag from tags\n",
    "```"
   ]
  },
  {
   "cell_type": "code",
   "execution_count": 8,
   "metadata": {},
   "outputs": [
    {
     "data": {
      "text/plain": [
       "['engine', 'speedometer', 'accelerator', 'ron', 'cof']"
      ]
     },
     "execution_count": 8,
     "metadata": {},
     "output_type": "execute_result"
    }
   ],
   "source": [
    "td.select()"
   ]
  },
  {
   "cell_type": "markdown",
   "metadata": {},
   "source": [
    "Using `select` with a column name, only yields all tags with non-zero, non-null entries in that column. This is helpful for boolean flags, such as assignment of tags to a model.\n",
    "\n",
    "Similar to \n",
    "```sql\n",
    "select tag from tags \n",
    "where derived is not null \n",
    "and derived > 0\n",
    "```"
   ]
  },
  {
   "cell_type": "code",
   "execution_count": 9,
   "metadata": {},
   "outputs": [
    {
     "data": {
      "text/plain": [
       "['cof']"
      ]
     },
     "execution_count": 9,
     "metadata": {},
     "output_type": "execute_result"
    }
   ],
   "source": [
    "td.select(\"derived\")"
   ]
  },
  {
   "cell_type": "markdown",
   "metadata": {},
   "source": [
    "Using `select` with a column name and a value *x* yields all tags with the column entry *x*. This is helpful for filtering, e.g. by tag type.\n",
    "\n",
    "Similar to \n",
    "```sql\n",
    "select tag from tags\n",
    "where tag_type = \"on_off\"\n",
    "```"
   ]
  },
  {
   "cell_type": "code",
   "execution_count": 10,
   "metadata": {},
   "outputs": [
    {
     "data": {
      "text/plain": [
       "['engine']"
      ]
     },
     "execution_count": 10,
     "metadata": {},
     "output_type": "execute_result"
    }
   ],
   "source": [
    "td.select(\"tag_type\", \"on_off\")"
   ]
  },
  {
   "cell_type": "markdown",
   "metadata": {},
   "source": [
    "Using `select` with a column name and a callable *f* yields all tags where *f(column)* evaluates to True.\n",
    "\n",
    "Similar to\n",
    "```sql\n",
    "select tag from tags\n",
    "where lambda_udf(\"tag_type\") = True\n",
    "```"
   ]
  },
  {
   "cell_type": "code",
   "execution_count": 11,
   "metadata": {},
   "outputs": [
    {
     "data": {
      "text/plain": [
       "['speedometer', 'accelerator']"
      ]
     },
     "execution_count": 11,
     "metadata": {},
     "output_type": "execute_result"
    }
   ],
   "source": [
    "td.select(\"tag_type\", lambda col: col in [\"control\", \"output\"])"
   ]
  },
  {
   "cell_type": "markdown",
   "metadata": {},
   "source": [
    "Using `select` with only a callable _f_ passed through the `condition` argument yields all tags where _f(row)_ evaluates to True\n",
    "\n",
    "Similar to \n",
    "\n",
    "```sql\n",
    "select tag from tags\n",
    "where lambda_udf(*) = True\n",
    "```"
   ]
  },
  {
   "cell_type": "code",
   "execution_count": 12,
   "metadata": {},
   "outputs": [
    {
     "data": {
      "text/plain": [
       "['cof']"
      ]
     },
     "execution_count": 12,
     "metadata": {},
     "output_type": "execute_result"
    }
   ],
   "source": [
    "td.select(\n",
    "    condition=(\n",
    "        lambda row: (\n",
    "            row[\"data_type\"] == \"numeric\" \n",
    "            and row[\"range_max\"] > 0 \n",
    "            and row[\"derived\"])\n",
    "    )\n",
    ")"
   ]
  },
  {
   "cell_type": "markdown",
   "metadata": {},
   "source": [
    "### Get tag ranges"
   ]
  },
  {
   "cell_type": "markdown",
   "metadata": {},
   "source": [
    "The `get_tag_ranges` method can be used to quickly retrieve tags' ranges.\n",
    "\n",
    "Using `get_tag_ranges` without any arguments will return all tags' ranges. \n",
    "\n",
    "Similar to \n",
    "```sql\n",
    "select tag_ranges from tags\n",
    "```"
   ]
  },
  {
   "cell_type": "code",
   "execution_count": 13,
   "metadata": {},
   "outputs": [
    {
     "data": {
      "text/plain": [
       "{'engine': (False, True),\n",
       " 'speedometer': (0.0, 150.0),\n",
       " 'accelerator': (0, 100.0),\n",
       " 'ron': ('93', '99'),\n",
       " 'cof': (0.0, 2)}"
      ]
     },
     "execution_count": 13,
     "metadata": {},
     "output_type": "execute_result"
    }
   ],
   "source": [
    "td.get_tag_ranges()"
   ]
  },
  {
   "cell_type": "markdown",
   "metadata": {},
   "source": [
    "When specific tags' set is needed, one can simply pass it as an argument.\n",
    "\n",
    "Similar to \n",
    "```sql\n",
    "select tag_ranges from tags\n",
    "where tag in requested_tags\n",
    "```"
   ]
  },
  {
   "cell_type": "code",
   "execution_count": 14,
   "metadata": {},
   "outputs": [
    {
     "data": {
      "text/plain": [
       "{'speedometer': (0.0, 150.0), 'ron': ('93', '99')}"
      ]
     },
     "execution_count": 14,
     "metadata": {},
     "output_type": "execute_result"
    }
   ],
   "source": [
    "td.get_tag_ranges(['speedometer', 'ron'])"
   ]
  },
  {
   "cell_type": "markdown",
   "metadata": {},
   "source": [
    "## Querying with aggregation"
   ]
  },
  {
   "cell_type": "markdown",
   "metadata": {},
   "source": [
    "Sometimes we need aggregated outputs for our queries to tag dictionary."
   ]
  },
  {
   "cell_type": "markdown",
   "metadata": {},
   "source": [
    "### Getting groups"
   ]
  },
  {
   "cell_type": "markdown",
   "metadata": {},
   "source": [
    "Let's say we want to group our tags by \"tag_type\" and get list of tags for each group.\n",
    "\n",
    "Similar to \n",
    "\n",
    "```sql\n",
    "select list(tag) from tags\n",
    "group by tag\n",
    "```"
   ]
  },
  {
   "cell_type": "code",
   "execution_count": 15,
   "metadata": {},
   "outputs": [
    {
     "data": {
      "text/plain": [
       "{'control': ['accelerator'],\n",
       " 'input': ['ron'],\n",
       " 'on_off': ['engine'],\n",
       " 'output': ['speedometer'],\n",
       " 'state': ['cof']}"
      ]
     },
     "execution_count": 15,
     "metadata": {},
     "output_type": "execute_result"
    }
   ],
   "source": [
    "td.select_group_by(group_by=\"tag_type\", select=\"tag\")"
   ]
  },
  {
   "cell_type": "markdown",
   "metadata": {},
   "source": [
    "### Filtering values within groups"
   ]
  },
  {
   "cell_type": "markdown",
   "metadata": {},
   "source": [
    "Let's say we want to group our tags by \"tag_type\" and get list of tags for each group.\n",
    "\n",
    "Similar to \n",
    "\n",
    "```sql\n",
    "select list(tag) from tags\n",
    "where tag in (\"accelerator\", \"engine\", \"speedometer\")\n",
    "group by tag\n",
    "```"
   ]
  },
  {
   "cell_type": "code",
   "execution_count": 16,
   "metadata": {},
   "outputs": [
    {
     "data": {
      "text/plain": [
       "{'control': ['accelerator'], 'on_off': ['engine'], 'output': ['speedometer']}"
      ]
     },
     "execution_count": 16,
     "metadata": {},
     "output_type": "execute_result"
    }
   ],
   "source": [
    "td.select_group_by(\n",
    "    group_by=\"tag_type\",\n",
    "    select=\"tag\",\n",
    "    filter_by=[\"accelerator\", \"engine\", \"speedometer\"],\n",
    ")"
   ]
  },
  {
   "cell_type": "markdown",
   "metadata": {},
   "source": [
    "## Extending the Tag Dictionary\n",
    "\n",
    "Many of the modular pipelines within Optimus make use of the `TagDict` for parameterization. The advantage in doing this is that it is very easy to collaborate with domain experts, who can help construct the tag dictionary. As you create your own modular pipelines, you should make use of the Tag Dictionary to encode domain led parameterization.\n",
    "\n",
    "For example, you may want to specify permitted operating ranges (as expected by optimizer), which are narrower than the `range_min` to `range_max`. In this case, we could extend the tag dictionary to include two new attributes: `op_min` and `op_max`.\n"
   ]
  },
  {
   "cell_type": "code",
   "execution_count": 17,
   "metadata": {},
   "outputs": [
    {
     "data": {
      "text/html": [
       "<b>TagDict data</b>:<tr><div>\n",
       "<style scoped>\n",
       "    .dataframe tbody tr th:only-of-type {\n",
       "        vertical-align: middle;\n",
       "    }\n",
       "\n",
       "    .dataframe tbody tr th {\n",
       "        vertical-align: top;\n",
       "    }\n",
       "\n",
       "    .dataframe thead th {\n",
       "        text-align: right;\n",
       "    }\n",
       "</style>\n",
       "<table border=\"1\" class=\"dataframe\">\n",
       "  <thead>\n",
       "    <tr style=\"text-align: right;\">\n",
       "      <th></th>\n",
       "      <th>tag</th>\n",
       "      <th>name</th>\n",
       "      <th>tag_type</th>\n",
       "      <th>data_type</th>\n",
       "      <th>unit</th>\n",
       "      <th>range_min</th>\n",
       "      <th>range_max</th>\n",
       "      <th>on_off_dependencies</th>\n",
       "      <th>derived</th>\n",
       "      <th>op_min</th>\n",
       "      <th>op_max</th>\n",
       "    </tr>\n",
       "  </thead>\n",
       "  <tbody>\n",
       "    <tr>\n",
       "      <th>0</th>\n",
       "      <td>engine</td>\n",
       "      <td>Engine On/Off Sensor</td>\n",
       "      <td>on_off</td>\n",
       "      <td>boolean</td>\n",
       "      <td>on/off</td>\n",
       "      <td>False</td>\n",
       "      <td>True</td>\n",
       "      <td>[]</td>\n",
       "      <td>False</td>\n",
       "      <td>None</td>\n",
       "      <td>None</td>\n",
       "    </tr>\n",
       "    <tr>\n",
       "      <th>1</th>\n",
       "      <td>speedometer</td>\n",
       "      <td>Speedometer</td>\n",
       "      <td>output</td>\n",
       "      <td>numeric</td>\n",
       "      <td>mph</td>\n",
       "      <td>0.0</td>\n",
       "      <td>150.0</td>\n",
       "      <td>[engine]</td>\n",
       "      <td>False</td>\n",
       "      <td>None</td>\n",
       "      <td>None</td>\n",
       "    </tr>\n",
       "    <tr>\n",
       "      <th>2</th>\n",
       "      <td>accelerator</td>\n",
       "      <td>Accelerator Pedal</td>\n",
       "      <td>control</td>\n",
       "      <td>numeric</td>\n",
       "      <td>travel %</td>\n",
       "      <td>0</td>\n",
       "      <td>100.0</td>\n",
       "      <td>[]</td>\n",
       "      <td>False</td>\n",
       "      <td>0</td>\n",
       "      <td>50</td>\n",
       "    </tr>\n",
       "    <tr>\n",
       "      <th>3</th>\n",
       "      <td>ron</td>\n",
       "      <td>Research Octane Number</td>\n",
       "      <td>input</td>\n",
       "      <td>categorical</td>\n",
       "      <td>RON</td>\n",
       "      <td>93</td>\n",
       "      <td>99</td>\n",
       "      <td>[]</td>\n",
       "      <td>False</td>\n",
       "      <td>None</td>\n",
       "      <td>None</td>\n",
       "    </tr>\n",
       "    <tr>\n",
       "      <th>4</th>\n",
       "      <td>cof</td>\n",
       "      <td>Road Coefficient of Friction</td>\n",
       "      <td>state</td>\n",
       "      <td>numeric</td>\n",
       "      <td>ratio</td>\n",
       "      <td>0.0</td>\n",
       "      <td>2</td>\n",
       "      <td>[]</td>\n",
       "      <td>True</td>\n",
       "      <td>None</td>\n",
       "      <td>None</td>\n",
       "    </tr>\n",
       "  </tbody>\n",
       "</table>\n",
       "</div>"
      ],
      "text/plain": [
       "TagDict data:\n",
       "           tag                          name tag_type    data_type      unit  \\\n",
       "0       engine          Engine On/Off Sensor   on_off      boolean    on/off   \n",
       "1  speedometer                   Speedometer   output      numeric       mph   \n",
       "2  accelerator             Accelerator Pedal  control      numeric  travel %   \n",
       "3          ron        Research Octane Number    input  categorical       RON   \n",
       "4          cof  Road Coefficient of Friction    state      numeric     ratio   \n",
       "\n",
       "  range_min range_max on_off_dependencies  derived op_min op_max  \n",
       "0     False      True                  []    False   None   None  \n",
       "1       0.0     150.0            [engine]    False   None   None  \n",
       "2         0     100.0                  []    False      0     50  \n",
       "3        93        99                  []    False   None   None  \n",
       "4       0.0         2                  []     True   None   None  "
      ]
     },
     "execution_count": 17,
     "metadata": {},
     "output_type": "execute_result"
    }
   ],
   "source": [
    "# get copy of Tag Dict data\n",
    "tag_dict_df = td.to_frame()\n",
    "\n",
    "# add column to df\n",
    "tag_dict_df[\"op_min\"] = None\n",
    "tag_dict_df[\"op_max\"] = None\n",
    "\n",
    "# set min and max for accelerator\n",
    "tag_dict_df.loc[tag_dict_df[\"tag\"] == \"accelerator\", \"op_min\"] = 0\n",
    "tag_dict_df.loc[tag_dict_df[\"tag\"] == \"accelerator\", \"op_max\"] = 50\n",
    "\n",
    "# recreate tag dict\n",
    "td = TagDict(tag_dict_df)\n",
    "td"
   ]
  },
  {
   "cell_type": "markdown",
   "metadata": {},
   "source": [
    "## Loading and Saving the TagDict using Kedro\n",
    "\n",
    "While the TagDict class operates on an underlying pandas Dataframe, it can be exported to, and created from, in multiple formats. Currently supported formats are `csv` and `excel`.\n",
    "\n",
    "See `optimus_core.tag_management.io` for corresponding kedro DataSource classes."
   ]
  },
  {
   "cell_type": "markdown",
   "metadata": {},
   "source": [
    "### CSV\n",
    "\n",
    "The `catalog.yml` entry for a CSV-based `TagDict` looks like:\n",
    "\n",
    "```yaml\n",
    "td:\n",
    "  type: optimus_core.tag_management.TagDictCSVLocalDataSet\n",
    "  filepath: path/to/my/tag_dict.csv\n",
    "  layer: raw\n",
    "```\n",
    "\n",
    "This is an extension of the [Kedro Pandas CSV Dataset](https://kedro.readthedocs.io/en/stable/kedro.extras.datasets.pandas.CSVDataSet.html)\n",
    "\n"
   ]
  },
  {
   "cell_type": "markdown",
   "metadata": {},
   "source": [
    "### Excel\n",
    "\n",
    "The `catalog.yml` entry for an Excel-based `TagDict` looks like:\n",
    "\n",
    "```yaml\n",
    "td:\n",
    "  type: optimus_core.tag_management.TagDictExcelLocalDataSet\n",
    "  filepath: path/to/my/tag_dict.xlsx\n",
    "  layer: raw\n",
    "  load_args:\n",
    "     sheet_name: \"my_sheet\"  # if excluded, default is first sheet in workbook\n",
    "  save_args:\n",
    "     sheet_name: \"my_sheet\"\n",
    "```\n",
    "\n",
    "This is an extension of the [Kedro Text Dataset](https://kedro.readthedocs.io/en/stable/kedro.extras.datasets.pandas.ExcelDataSet.html)"
   ]
  }
 ],
 "metadata": {
  "celltoolbar": "Edit Metadata",
  "kernelspec": {
   "display_name": "Python 3 (ipykernel)",
   "language": "python",
   "name": "python3"
  },
  "language_info": {
   "codemirror_mode": {
    "name": "ipython",
    "version": 3
   },
   "file_extension": ".py",
   "mimetype": "text/x-python",
   "name": "python",
   "nbconvert_exporter": "python",
   "pygments_lexer": "ipython3",
   "version": "3.8.13"
  },
  "toc": {
   "base_numbering": 1,
   "nav_menu": {},
   "number_sections": true,
   "sideBar": true,
   "skip_h1_title": false,
   "title_cell": "Table of Contents",
   "title_sidebar": "Contents",
   "toc_cell": false,
   "toc_position": {
    "height": "calc(100% - 180px)",
    "left": "10px",
    "top": "150px",
    "width": "278.391px"
   },
   "toc_section_display": true,
   "toc_window_display": true
  },
  "vscode": {
   "interpreter": {
    "hash": "fafc7eee7de150c8a427b31921af63c0c3d0a2f414af683a5e82b516415abf3a"
   }
  }
 },
 "nbformat": 4,
 "nbformat_minor": 4
}
