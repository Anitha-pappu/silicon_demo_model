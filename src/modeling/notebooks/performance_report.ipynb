{
 "cells": [
  {
   "cell_type": "code",
   "execution_count": 1,
   "id": "dd934b30",
   "metadata": {},
   "outputs": [],
   "source": [
    "# Resolve path when used in a usecase project\n",
    "import sys\n",
    "from pathlib import Path\n",
    "\n",
    "sys.path.insert(0, str(Path(\"../../\").resolve()))"
   ]
  },
  {
   "cell_type": "markdown",
   "id": "9d55c5f7",
   "metadata": {},
   "source": [
    "# Plotting for Model Performance\n",
    "\n",
    "OAI reporting provides a function to create a series of useful charts that allow users to check and report model performance after fitting a model.\n",
    "Use of this function assumes that the OAI predictive modelling pipeline was used for training models and obtaining model results."
   ]
  },
  {
   "cell_type": "markdown",
   "id": "931797ed",
   "metadata": {},
   "source": [
    "## `get_modeling_overview` \n",
    "## Model Performance Plot \n",
    "\n",
    "**What it is**\n",
    "\n",
    "Mixed charts used for exploring the trained model performance, feature importance and model properties. \n",
    "\n",
    "More specifically, this includes:\n",
    "\n",
    "* model summary chart\n",
    "* model parameter report\n",
    "* model performance metrics on train and test dataset\n",
    "* prediction against actual value plot\n",
    "* residual plot\n",
    "* partial dependencies plot\n",
    "* feature importance chart\n",
    "* timeseries plot of prediction on train and test dataset\n",
    "\n",
    "**What we can learn**\n",
    "\n",
    "* model summary and model parameter report give an **overview** on the trained model properties. \n",
    "\n",
    "\n",
    "* model performance metrics on train and test dataset help evaluate the model performance from different metrics.\n",
    "\n",
    "\n",
    "* prediction, actual, and residual plots allow us to visually check how much the predicted values deviate from the actual values, and whether the model fit is sensible by examining the residuals..\n",
    "\n",
    "* the feature importance chart helps us understand how much each feature contributes to the prediction\n",
    "\n",
    "\n",
    "* partial dependencies plot can be used to visualize and analyze interaction between the target variable and features."
   ]
  },
  {
   "cell_type": "markdown",
   "id": "5f548265",
   "metadata": {},
   "source": [
    "### Example: Output quantity prediction model performance\n",
    "\n",
    "Suppose we have trained a model to predict output quantity of a mill, in this example we show how to generate a comprehensive model performance report using the `generate_performance_report_figures` function from oai `reporting.modeling` module. \n",
    "\n",
    "Note that since the function assumes the user to have obtained a series of trained model results from the predictive modeling pipeline, we will provide some mock dataframes below as inputs to the function. Details on what each dataframe is about can be found in their docstrings."
   ]
  },
  {
   "cell_type": "code",
   "execution_count": 2,
   "id": "487f974d",
   "metadata": {},
   "outputs": [
    {
     "name": "stderr",
     "output_type": "stream",
     "text": [
      "ExactExplainer explainer: 1105it [05:09,  3.48it/s]                                                                                                                   \n",
      "/Users/alexanderfalaleev/code/optimus/src/packages/modeling/src/modeling/report/charts/benchmark_models/_benchmark_model_base.py:139: UserWarning:\n",
      "\n",
      "Nulls detected in relevant data when fitting an instance of`AutoregressiveBenchmarkModel`.\n",
      "\n",
      "/Users/alexanderfalaleev/code/optimus/src/packages/modeling/src/modeling/report/charts/benchmark_models/_benchmark_model_base.py:139: UserWarning:\n",
      "\n",
      "Nulls detected in relevant data when fitting an instance of`MovingAverageBenchmarkModel`.\n",
      "\n",
      "/Users/alexanderfalaleev/code/optimus/src/packages/modeling/src/modeling/models/metrics_utils.py:59: UserWarning:\n",
      "\n",
      "Target contains nan values that will be omitted during metrics evaluation\n",
      "\n",
      "/Users/alexanderfalaleev/code/optimus/optimus_env/lib/python3.10/site-packages/numpy/core/_methods.py:265: RuntimeWarning:\n",
      "\n",
      "Degrees of freedom <= 0 for slice\n",
      "\n",
      "/Users/alexanderfalaleev/code/optimus/optimus_env/lib/python3.10/site-packages/numpy/core/_methods.py:223: RuntimeWarning:\n",
      "\n",
      "invalid value encountered in divide\n",
      "\n",
      "/Users/alexanderfalaleev/code/optimus/optimus_env/lib/python3.10/site-packages/numpy/core/_methods.py:257: RuntimeWarning:\n",
      "\n",
      "invalid value encountered in double_scalars\n",
      "\n"
     ]
    }
   ],
   "source": [
    "from modeling.report import get_modeling_overview\n",
    "from modeling.datasets import (\n",
    "    get_trained_model,\n",
    "    get_model_train_data,\n",
    "    get_model_test_data,\n",
    ")\n",
    "\n",
    "\n",
    "figs = get_modeling_overview(\n",
    "    model=get_trained_model(),\n",
    "    timestamp_column=\"timestamp\",\n",
    "    train_data=get_model_train_data(),\n",
    "    test_data=get_model_test_data(),\n",
    ")"
   ]
  },
  {
   "attachments": {},
   "cell_type": "markdown",
   "id": "de36d29a-0bf5-4447-8303-2a7dead86199",
   "metadata": {},
   "source": [
    "<div class=\"alert alert-info\">\n",
    "    \n",
    "**Looking for a way to switch to human-readable names in the report?**\n",
    "\n",
    "Please see the [modeling tutorial notebook](./modeling.ipynb) for a feature naming guidance. Each model feature name should represent a clear, human-readable physical property, not a copy-pasted tag identifier."
   ]
  },
  {
   "cell_type": "markdown",
   "id": "7aca951e",
   "metadata": {},
   "source": [
    "The function outputs a nested dictionary of charts, which includes full modeling report. The structure of the report looks like this:\n",
    "\n",
    "```python\n",
    "\n",
    "figs = {\n",
    "        SectionHeader(header_text=\"Model Introduction\"): {\n",
    "            \"Model Definition\": fig,\n",
    "            \"Target\": fig,\n",
    "            \"Features\": fig,\n",
    "        },\n",
    "        SectionHeader(header_text=(\"Validation Approach\"): {\n",
    "            \"Visual Representation Of Split\": fig,\n",
    "            \"Consecutive Periods\": fig,\n",
    "            \"Train vs. Test Comparisons\": {\n",
    "                \"Target\": fig,\n",
    "                \"Feature 1\": fig,\n",
    "                \"Feature 2\": fig,\n",
    "                ...\n",
    "            },\n",
    "        },\n",
    "        SectionHeader(header_text=\"Model Performance\"): {\n",
    "            \"Train/Test Split Metrics\": fig,\n",
    "            \"Train/Test Actual vs. Predicted\": fig,\n",
    "            \"Baselines\": {\n",
    "                \"Mean\": fig,\n",
    "                \"AR1\": fig,\n",
    "            },\n",
    "        },\n",
    "        ...\n",
    "}\n",
    "```\n",
    "\n",
    "\n",
    "\n",
    "Using `generate_html_report` we can easily generate a report based on this nested structure."
   ]
  },
  {
   "cell_type": "code",
   "execution_count": 3,
   "id": "8223b7cb",
   "metadata": {},
   "outputs": [
    {
     "data": {
      "text/html": [
       "<style>/*! EnlighterJS Syntax Highlighter 3.4.0 | Mozilla Public License 2.0 | https://enlighterjs.org */\n",
       ".enlighter-tooltip{z-index:100}.enlighter-default{font-family:\"Source Code Pro\",\"Liberation Mono\",\"Courier New\",Courier,monospace;font-size:12px;line-height:1.35em;overflow:hidden;white-space:pre-wrap;word-wrap:break-word;margin:0 0 20px 0;padding:0;position:relative;text-align:left;direction:ltr}.enlighter-default .enlighter-special:hover{background-color:#f4f8fc}.enlighter-default .enlighter-raw{display:none;min-width:100%;line-height:inherit;font-size:1em;font-family:inherit;margin:0;padding:0;white-space:pre-wrap;word-wrap:break-word;border:none;box-shadow:none}.enlighter-default:hover .enlighter-toolbar{display:block}.enlighter-default .enlighter-btn{display:inline-block;margin:0 5px 0 5px;padding:3px 5px 3px 5px;border:solid 1px #333;background-color:#f0f0f0;cursor:pointer;font-family:inherit}.enlighter-default .enlighter-toolbar .enlighter-btn-raw{background-image:url(data:image/svg+xml,%3C%3Fxml%20version%3D%221.0%22%20encoding%3D%22utf-8%22%3F%3E%0D%0A%3C!DOCTYPE%20svg%20PUBLIC%20%22-%2F%2FW3C%2F%2FDTD%20SVG%201.1%2F%2FEN%22%20%22http%3A%2F%2Fwww.w3.org%2FGraphics%2FSVG%2F1.1%2FDTD%2Fsvg11.dtd%22%3E%0D%0A%3Csvg%20version%3D%221.1%22%20id%3D%22Ebene_2%22%20xmlns%3D%22http%3A%2F%2Fwww.w3.org%2F2000%2Fsvg%22%20xmlns%3Axlink%3D%22http%3A%2F%2Fwww.w3.org%2F1999%2Fxlink%22%20x%3D%220px%22%20y%3D%220px%22%0D%0A%09%20width%3D%2246px%22%20height%3D%2246px%22%20viewBox%3D%220%200%2046%2046%22%20enable-background%3D%22new%200%200%2046%2046%22%20xml%3Aspace%3D%22preserve%22%3E%0D%0A%3Cg%3E%0D%0A%09%3Cpath%20d%3D%22M19.436%2C36.875L6.568%2C25.002v-3.863L19.436%2C9.267v5.041l-9.583%2C8.668v0.188l9.583%2C8.669V36.875z%22%2F%3E%0D%0A%09%3Cpath%20d%3D%22M26.343%2C36.875v-5.041l9.583-8.669v-0.188l-9.583-8.668V9.267l12.868%2C11.872v3.863L26.343%2C36.875z%22%2F%3E%0D%0A%3C%2Fg%3E%0D%0A%3C%2Fsvg%3E%0D%0A)}.enlighter-default .enlighter-toolbar .enlighter-btn-copy{background-image:url(data:image/svg+xml,%3C%3Fxml%20version%3D%221.0%22%20encoding%3D%22utf-8%22%3F%3E%0D%0A%3C!DOCTYPE%20svg%20PUBLIC%20%22-%2F%2FW3C%2F%2FDTD%20SVG%201.1%2F%2FEN%22%20%22http%3A%2F%2Fwww.w3.org%2FGraphics%2FSVG%2F1.1%2FDTD%2Fsvg11.dtd%22%3E%0D%0A%3Csvg%20version%3D%221.1%22%20id%3D%22Ebene_2%22%20xmlns%3D%22http%3A%2F%2Fwww.w3.org%2F2000%2Fsvg%22%20xmlns%3Axlink%3D%22http%3A%2F%2Fwww.w3.org%2F1999%2Fxlink%22%20x%3D%220px%22%20y%3D%220px%22%0D%0A%09%20width%3D%2246px%22%20height%3D%2246px%22%20viewBox%3D%220%200%2046%2046%22%20enable-background%3D%22new%200%200%2046%2046%22%20xml%3Aspace%3D%22preserve%22%3E%0D%0A%3Cline%20fill%3D%22none%22%20stroke%3D%22%23000000%22%20stroke-width%3D%224%22%20stroke-miterlimit%3D%2210%22%20x1%3D%2253.75%22%20y1%3D%2239.353%22%20x2%3D%2286.375%22%20y2%3D%2239.353%22%2F%3E%0D%0A%3Cline%20fill%3D%22none%22%20stroke%3D%22%23000000%22%20stroke-width%3D%224%22%20stroke-miterlimit%3D%2210%22%20x1%3D%2251.711%22%20y1%3D%2230.534%22%20x2%3D%2284.336%22%20y2%3D%2230.534%22%2F%3E%0D%0A%3Crect%20x%3D%228.932%22%20y%3D%227.334%22%20fill%3D%22%23FFFFFF%22%20stroke%3D%22%23000000%22%20stroke-width%3D%223%22%20stroke-miterlimit%3D%2210%22%20width%3D%2221.097%22%20height%3D%2224.952%22%2F%3E%0D%0A%3Crect%20x%3D%2218.942%22%20y%3D%2215.424%22%20fill%3D%22%23FFFFFF%22%20stroke%3D%22%23000000%22%20stroke-width%3D%223%22%20stroke-miterlimit%3D%2210%22%20width%3D%2221.096%22%20height%3D%2224.953%22%2F%3E%0D%0A%3C%2Fsvg%3E%0D%0A)}.enlighter-default .enlighter-toolbar .enlighter-btn-window{background-image:url(data:image/svg+xml,%3C%3Fxml%20version%3D%221.0%22%20encoding%3D%22utf-8%22%3F%3E%0D%0A%3C!DOCTYPE%20svg%20PUBLIC%20%22-%2F%2FW3C%2F%2FDTD%20SVG%201.1%2F%2FEN%22%20%22http%3A%2F%2Fwww.w3.org%2FGraphics%2FSVG%2F1.1%2FDTD%2Fsvg11.dtd%22%3E%0D%0A%3Csvg%20version%3D%221.1%22%20id%3D%22Ebene_2%22%20xmlns%3D%22http%3A%2F%2Fwww.w3.org%2F2000%2Fsvg%22%20xmlns%3Axlink%3D%22http%3A%2F%2Fwww.w3.org%2F1999%2Fxlink%22%20x%3D%220px%22%20y%3D%220px%22%0D%0A%09%20width%3D%2246px%22%20height%3D%2246px%22%20viewBox%3D%220%200%2046%2046%22%20enable-background%3D%22new%200%200%2046%2046%22%20xml%3Aspace%3D%22preserve%22%3E%0D%0A%3Cline%20fill%3D%22none%22%20stroke%3D%22%23000000%22%20stroke-width%3D%224%22%20stroke-miterlimit%3D%2210%22%20x1%3D%227.125%22%20y1%3D%229.25%22%20x2%3D%2239.75%22%20y2%3D%229.25%22%2F%3E%0D%0A%3Cline%20fill%3D%22none%22%20stroke%3D%22%23000000%22%20stroke-width%3D%224%22%20stroke-miterlimit%3D%2210%22%20x1%3D%227.125%22%20y1%3D%2218.167%22%20x2%3D%2239.75%22%20y2%3D%2218.167%22%2F%3E%0D%0A%3Cline%20fill%3D%22none%22%20stroke%3D%22%23000000%22%20stroke-width%3D%224%22%20stroke-miterlimit%3D%2210%22%20x1%3D%227.125%22%20y1%3D%2227.083%22%20x2%3D%2239.75%22%20y2%3D%2227.083%22%2F%3E%0D%0A%3Cline%20fill%3D%22none%22%20stroke%3D%22%23000000%22%20stroke-width%3D%224%22%20stroke-miterlimit%3D%2210%22%20x1%3D%227.125%22%20y1%3D%2236%22%20x2%3D%2229.809%22%20y2%3D%2236%22%2F%3E%0D%0A%3C%2Fsvg%3E%0D%0A)}.enlighter-default .enlighter-toolbar .enlighter-btn-website{background-image:url(data:image/svg+xml,%3C%3Fxml%20version%3D%221.0%22%20encoding%3D%22utf-8%22%3F%3E%0D%0A%3C!DOCTYPE%20svg%20PUBLIC%20%22-%2F%2FW3C%2F%2FDTD%20SVG%201.1%2F%2FEN%22%20%22http%3A%2F%2Fwww.w3.org%2FGraphics%2FSVG%2F1.1%2FDTD%2Fsvg11.dtd%22%3E%0D%0A%3Csvg%20version%3D%221.1%22%20id%3D%22E%22%20xmlns%3D%22http%3A%2F%2Fwww.w3.org%2F2000%2Fsvg%22%20xmlns%3Axlink%3D%22http%3A%2F%2Fwww.w3.org%2F1999%2Fxlink%22%20x%3D%220px%22%20y%3D%220px%22%0D%0A%09%20width%3D%2246px%22%20height%3D%2246px%22%20viewBox%3D%220%200%2046%2046%22%20enable-background%3D%22new%200%200%2046%2046%22%20xml%3Aspace%3D%22preserve%22%3E%0D%0A%3Cg%3E%0D%0A%09%3Cpath%20fill%3D%22%23202F65%22%20d%3D%22M32.48%2C25.614H19.64l-4.933%2C9.826l17.746%2C0.037l-6.173%2C5.358L8.167%2C40.912L16.29%2C6.055h22.974l-5.734%2C5.354%0D%0A%09%09l-13.306-0.027l0.672%2C8.797h12.841L32.48%2C25.614z%22%2F%3E%0D%0A%3C%2Fg%3E%0D%0A%3C%2Fsvg%3E%0D%0A)}.enlighter-origin{display:none!important}.enlighter-clipboard{position:absolute;left:0;bottom:0;width:1px;height:1px;overflow:hidden}.enlighter-v-inline{display:inline-block;overflow:inherit;margin:0}.enlighter-v-standard{display:block}.enlighter-v-codegroup{display:block}.enlighter-v-codegroup .enlighter-codegroup-wrapper{position:relative}div.enlighter{display:table;width:100%;border-collapse:collapse;border-spacing:0;empty-cells:show;min-width:100%;font-size:1em;margin:0;padding:0;text-indent:0;counter-reset:enlighter 0}div.enlighter>div{display:table-row;margin:0;border:solid 0 #fff;list-style:none;font-size:inherit;line-height:1.15em;min-height:14px}div.enlighter>div>div{display:table-cell;padding-left:10px}div.enlighter>div>div::before{content:\" \"}span.enlighter{display:inline-block;padding:3px 5px 1px 5px;margin:0 2px 0 2px}.enlighter span{margin:0;padding:0;line-height:inherit;font-size:1em;font-family:inherit}.enlighter-linenumbers div.enlighter>div::before{white-space:nowrap;display:block;display:table-cell;width:45px;min-width:45px;counter-increment:enlighter;content:counter(enlighter,decimal) \".\";text-align:right;padding-right:8px}.enlighter-toolbar{display:none;position:absolute;right:10px;top:10px;z-index:10}.enlighter-toolbar-bottom{top:unset;bottom:0}.enlighter-overflow-scroll.enlighter-v-standard{overflow-x:auto;word-wrap:normal!important}.enlighter-overflow-scroll.enlighter-v-codegroup .enlighter-codegroup-wrapper{overflow-x:auto;word-wrap:normal!important}.enlighter-overflow-scroll.enlighter-v-codegroup .enlighter>div>div,.enlighter-overflow-scroll.enlighter-v-standard .enlighter>div>div{white-space:pre!important}.enlighter-overflow-scroll.enlighter-v-codegroup .enlighter-raw,.enlighter-overflow-scroll.enlighter-v-standard .enlighter-raw{white-space:pre!important}.enlighter-collapse.enlighter-v-standard{overflow-y:auto;max-height:500px}.enlighter-collapse.enlighter-v-codegroup .enlighter-codegroup-wrapper{overflow-y:auto;max-height:500px}.enlighter-collapse.enlighter-collapse-full.enlighter-v-standard{max-height:none}.enlighter-collapse.enlighter-collapse-full.enlighter-v-codegroup .enlighter-codegroup-wrapper{max-height:none}.enlighter-show-rawcode .enlighter-raw{display:block}.enlighter-show-rawcode .enlighter{display:none!important}\n",
       ".enlighter-t-enlighter{color:#939393;border-radius:8px;border:solid 1px #e0e0e0}.enlighter-t-enlighter .enlighter-btn{border-radius:3px;background-color:#fff;color:#717171;font-size:1em;padding:0;border:1px solid #e0e0e0;margin:0 0 0 8px;text-decoration:none;width:23px;height:23px;background-position:0 0;background-size:contain}.enlighter-t-enlighter .enlighter-btn:hover{border-color:#c9c9c9}.enlighter-t-enlighter .enlighter-btn:after{content:''}.enlighter-t-enlighter.enlighter-hover.enlighter-linenumbers div.enlighter>div:hover{color:#444;background-color:#fffcd3}.enlighter-t-enlighter.enlighter-hover div.enlighter>div:hover{color:#444;background-color:#fffcd3}.enlighter-t-enlighter .enlighter-raw{font-size:1em;color:#000;background-color:#f9f9f9;border-radius:8px;line-height:1.4em;padding:0 5px 0 60px}.enlighter-t-enlighter div.enlighter>div{border:solid 0 #fff;line-height:1.35em;color:#aaa}.enlighter-t-enlighter div.enlighter>div:FIRST-CHILD{border-radius:8px 8px 0 0}.enlighter-t-enlighter div.enlighter>div:LAST-CHILD{border-radius:0 0 8px 8px}.enlighter-t-enlighter div.enlighter>div.enlighter-special{background-color:#fdf5f0}.enlighter-t-enlighter.enlighter-linenumbers div.enlighter>div::before{border-right:solid 1px #e0e0e0;background-color:#f9f9f9}.enlighter-t-enlighter.enlighter-linenumbers div.enlighter>div:FIRST-CHILD::before{border-radius:8px 0 0 0}.enlighter-t-enlighter.enlighter-linenumbers div.enlighter>div:LAST-CHILD::before{border-radius:0 0 0 8px}.enlighter-t-enlighter .enlighter-text{color:#000}.enlighter-t-enlighter .enlighter-c0{color:#99a}.enlighter-t-enlighter .enlighter-c1{color:#99a}.enlighter-t-enlighter .enlighter-c2{color:#99a}.enlighter-t-enlighter .enlighter-c9{color:#9baa8f}.enlighter-t-enlighter .enlighter-k0{color:#286491;font-weight:700}.enlighter-t-enlighter .enlighter-k1{color:#286491;font-weight:700}.enlighter-t-enlighter .enlighter-k2{color:#458;font-weight:700}.enlighter-t-enlighter .enlighter-k3{color:#4da0d2;background-color:#f0f0f0}.enlighter-t-enlighter .enlighter-k4{color:#4a9141;font-weight:700}.enlighter-t-enlighter .enlighter-k5{color:#286491;font-weight:700}.enlighter-t-enlighter .enlighter-k6{color:#286491;font-style:italic}.enlighter-t-enlighter .enlighter-k7{color:#286491;font-weight:700}.enlighter-t-enlighter .enlighter-k8{color:#4da0d2}.enlighter-t-enlighter .enlighter-k9{color:#990073;font-weight:700}.enlighter-t-enlighter .enlighter-k10{color:#4a9141;font-style:italic}.enlighter-t-enlighter .enlighter-k11{color:#99a}.enlighter-t-enlighter .enlighter-e0{color:#34068a;font-weight:700}.enlighter-t-enlighter .enlighter-e1{color:#34068a;font-weight:700}.enlighter-t-enlighter .enlighter-e2{color:#009926}.enlighter-t-enlighter .enlighter-e3{color:#286491}.enlighter-t-enlighter .enlighter-e4{color:#ff8c00;font-style:italic}.enlighter-t-enlighter .enlighter-s0{color:#d14}.enlighter-t-enlighter .enlighter-s1{color:#d14}.enlighter-t-enlighter .enlighter-s2{color:#d14}.enlighter-t-enlighter .enlighter-s3{color:#737383}.enlighter-t-enlighter .enlighter-s4{color:#ff8c00;font-weight:700}.enlighter-t-enlighter .enlighter-s5{color:#d14;font-style:italic}.enlighter-t-enlighter .enlighter-n0{color:#099}.enlighter-t-enlighter .enlighter-n1{color:#099}.enlighter-t-enlighter .enlighter-n2{color:#099;font-style:italic}.enlighter-t-enlighter .enlighter-n3{color:#099;font-style:italic}.enlighter-t-enlighter .enlighter-n4{color:#099;font-style:italic}.enlighter-t-enlighter .enlighter-n5{color:#099;text-decoration:underline}.enlighter-t-enlighter .enlighter-m0{color:#0086b3}.enlighter-t-enlighter .enlighter-m1{color:#0086b3}.enlighter-t-enlighter .enlighter-m2{color:#0086b3}.enlighter-t-enlighter .enlighter-m3{color:#0086b3}.enlighter-t-enlighter .enlighter-g0{color:#777}.enlighter-t-enlighter .enlighter-g1{color:#777}.enlighter-t-enlighter .enlighter-t0{color:#777}.enlighter-t-enlighter .enlighter-t1{color:#d14;font-weight:700}.enlighter-t-enlighter .enlighter-t2{color:#990073;font-weight:700}.enlighter-t-enlighter .enlighter-t3{color:#0086b3}.enlighter-t-enlighter .enlighter-t4{color:#009926}.enlighter-t-enlighter .enlighter-t5{color:#009926}.enlighter-t-enlighter .enlighter-t6{color:#d14}.enlighter-t-enlighter .enlighter-t7{color:#535353;font-weight:700}.enlighter-t-enlighter .enlighter-t8{color:#777;background-color:#f0f0f0;font-style:italic}.enlighter-t-enlighter .enlighter-x1{color:#286491;font-weight:700}.enlighter-t-enlighter .enlighter-x2{color:#4da0d2}.enlighter-t-enlighter .enlighter-x10{color:#000;font-weight:700}.enlighter-t-enlighter .enlighter-x11{color:#286491;font-weight:700}.enlighter-t-enlighter .enlighter-x12{color:#286491;text-decoration:underline}.enlighter-t-enlighter .enlighter-x13{color:#0086b3}.enlighter-t-enlighter .enlighter-x14{color:#099;font-style:italic}.enlighter-t-enlighter .enlighter-x15{color:#990073;font-style:italic}.enlighter-t-enlighter.enlighter-v-inline{border-radius:3px;background-color:#fafafa}.enlighter-t-enlighter.enlighter-v-codegroup .enlighter,.enlighter-t-enlighter.enlighter-v-codegroup .enlighter-raw{border-top-left-radius:0;border-top-right-radius:0}.enlighter-t-enlighter.enlighter-v-codegroup .enlighter div:first-child{border-radius:0}.enlighter-t-enlighter.enlighter-v-codegroup .enlighter-codegroup-wrapper{position:relative}.enlighter-t-enlighter.enlighter-v-codegroup .enlighter-codegroup-switch{border-radius:8px 8px 0 0;background-color:#f9f9f9;border-bottom:1px solid #e0e0e0;padding:5px 5px 5px 45px}.enlighter-t-enlighter.enlighter-v-codegroup .enlighter-codegroup-switch .enlighter-btn{padding:3px 10px 3px 10px;border-radius:4px;border:1px solid #e0e0e0;font-size:1em;color:#000;background-color:transparent;width:auto}.enlighter-t-enlighter.enlighter-v-codegroup .enlighter-codegroup-switch .enlighter-btn.enlighter-active{background-color:#e5e5e5;color:#000;border-color:#c9c9c9}\n",
       ".enlighter-t-beyond{color:#333;background-color:#f7f7fa;border-radius:5px;border:solid 2px #e2e2e8;padding:10px 10px 10px 5px}.enlighter-t-beyond .enlighter-btn{border-radius:3px;background-color:#fff;color:#717171;padding:0;border:1px solid #e0e0e0;margin:0 0 0 8px;width:23px;height:23px;background-position:0 0;background-size:contain;font-family:\"Open Sans\",Arial,Verdana,sans-serif}.enlighter-t-beyond .enlighter-btn:hover{border-color:#c9c9c9}.enlighter-t-beyond .enlighter-btn:after{content:''}.enlighter-t-beyond.enlighter-hover div.enlighter>div:hover{color:#444;background-color:#fff}.enlighter-t-beyond.enlighter-hover div.enlighter>div:hover.enlighter-special{background-color:#fffcd3;border:solid 0 #fff;color:#444}.enlighter-t-beyond .enlighter-raw{background-color:#f7f7fa;font-size:1.1em;color:#333;padding:10px 15px 10px 59px;line-height:1.7em}.enlighter-t-beyond div.enlighter>div{border:solid 0 #fff;padding:1px 5px 1px 10px;line-height:1.5em;color:#aaa;background-color:#f7f7fa}.enlighter-t-beyond div.enlighter>div:FIRST-CHILD{border-radius:8px 8px 0 0}.enlighter-t-beyond div.enlighter>div:LAST-CHILD{border-radius:0 0 8px 8px}.enlighter-t-beyond div.enlighter>div:AFTER{content:' '}.enlighter-t-beyond div.enlighter>div.enlighter-special{background-color:#fff}.enlighter-t-beyond.enlighter-linenumbers div.enlighter>div::before{padding:1px 5px 1px 14px;font-size:.9em}.enlighter-t-beyond.enlighter-linenumbers div.enlighter>div:FIRST-CHILD::before{border-radius:0 8px 0 0}.enlighter-t-beyond.enlighter-linenumbers div.enlighter>div:LAST-CHILD::before{border-radius:0 0 8px 0}.enlighter-t-beyond .enlighter span{font-size:1.1em}.enlighter-t-beyond .enlighter-text{color:#2f3235}.enlighter-t-beyond .enlighter-c0{color:#8181a1}.enlighter-t-beyond .enlighter-c1{color:#8181a1}.enlighter-t-beyond .enlighter-c2{color:#8181a1}.enlighter-t-beyond .enlighter-c9{color:#8181a1}.enlighter-t-beyond .enlighter-k0{color:#286491;font-weight:700}.enlighter-t-beyond .enlighter-k1{color:#286491;font-weight:700}.enlighter-t-beyond .enlighter-k2{color:#458;font-weight:700}.enlighter-t-beyond .enlighter-k3{color:#4da0d2;background-color:#f0f0f0}.enlighter-t-beyond .enlighter-k4{color:#4a9141;font-weight:700}.enlighter-t-beyond .enlighter-k5{color:#286491;font-weight:700}.enlighter-t-beyond .enlighter-k6{color:#286491;font-style:italic}.enlighter-t-beyond .enlighter-k7{color:#286491;font-weight:700}.enlighter-t-beyond .enlighter-k8{color:#4da0d2}.enlighter-t-beyond .enlighter-k9{color:#990073;font-weight:700}.enlighter-t-beyond .enlighter-k10{color:#4a9141;font-style:italic}.enlighter-t-beyond .enlighter-k11{color:#8181a1}.enlighter-t-beyond .enlighter-e0{color:#34068a;font-weight:700}.enlighter-t-beyond .enlighter-e1{color:#34068a;font-weight:700}.enlighter-t-beyond .enlighter-e2{color:#009926}.enlighter-t-beyond .enlighter-e3{color:#286491}.enlighter-t-beyond .enlighter-e4{color:#049595;font-style:italic}.enlighter-t-beyond .enlighter-s0{color:#d14}.enlighter-t-beyond .enlighter-s1{color:#d14}.enlighter-t-beyond .enlighter-s2{color:#d14}.enlighter-t-beyond .enlighter-s3{color:#737383}.enlighter-t-beyond .enlighter-s4{color:#049595;font-weight:700}.enlighter-t-beyond .enlighter-s5{color:#d14;font-style:italic}.enlighter-t-beyond .enlighter-n0{color:#099}.enlighter-t-beyond .enlighter-n1{color:#099}.enlighter-t-beyond .enlighter-n2{color:#099;font-style:italic}.enlighter-t-beyond .enlighter-n3{color:#099;font-style:italic}.enlighter-t-beyond .enlighter-n4{color:#099;font-style:italic}.enlighter-t-beyond .enlighter-n5{color:#099;text-decoration:underline}.enlighter-t-beyond .enlighter-m0{color:#0086b3}.enlighter-t-beyond .enlighter-m1{color:#0086b3}.enlighter-t-beyond .enlighter-m2{color:#0086b3}.enlighter-t-beyond .enlighter-m3{color:#0086b3}.enlighter-t-beyond .enlighter-g0{color:#777}.enlighter-t-beyond .enlighter-g1{color:#777}.enlighter-t-beyond .enlighter-t0{color:#777}.enlighter-t-beyond .enlighter-t1{color:#d14;font-weight:700}.enlighter-t-beyond .enlighter-t2{color:#990073;font-weight:700}.enlighter-t-beyond .enlighter-t3{color:#0086b3}.enlighter-t-beyond .enlighter-t4{color:#009926}.enlighter-t-beyond .enlighter-t5{color:#009926}.enlighter-t-beyond .enlighter-t6{color:#d14}.enlighter-t-beyond .enlighter-t7{color:#535353;font-weight:700}.enlighter-t-beyond .enlighter-t8{color:#777;background-color:#f0f0f0;font-style:italic}.enlighter-t-beyond .enlighter-x1{color:#286491;font-weight:700}.enlighter-t-beyond .enlighter-x2{color:#4da0d2}.enlighter-t-beyond .enlighter-x10{color:#000;font-weight:700}.enlighter-t-beyond .enlighter-x11{color:#286491;font-weight:700}.enlighter-t-beyond .enlighter-x12{color:#286491;text-decoration:underline}.enlighter-t-beyond .enlighter-x13{color:#0086b3}.enlighter-t-beyond .enlighter-x14{color:#099;font-style:italic}.enlighter-t-beyond .enlighter-x15{color:#990073;font-style:italic}.enlighter-t-beyond.enlighter-v-inline{border-radius:3px;background-color:#f7f7fa;border:dotted 1px #e2e2e8;padding:0}.enlighter-t-beyond.enlighter-v-codegroup{padding:0;border:none}.enlighter-t-beyond.enlighter-v-codegroup .enlighter-codegroup-wrapper{background-color:#f7f7fa;border-radius:5px;border:solid 2px #e2e2e8;padding:10px 10px 10px 5px}.enlighter-t-beyond.enlighter-v-codegroup .enlighter-codegroup-switch{background-color:#fff;padding:0 0 0 45px}.enlighter-t-beyond.enlighter-v-codegroup .enlighter-codegroup-switch .enlighter-btn{border:solid 2px #e2e2e8;border-radius:5px 5px 0 0;font-size:1em;color:#286491;font-weight:700;background-color:#fff;border-bottom:none;padding:3px 10px 3px 10px;width:auto}.enlighter-t-beyond.enlighter-v-codegroup .enlighter-codegroup-switch .enlighter-btn.enlighter-active{background-color:#e2e2e8;border-color:#d8d8dd;color:#505050;font-weight:700}\n",
       ".enlighter-t-classic{background-color:#fff;border:1px solid #e8e8e2}.enlighter-t-classic .enlighter-btn{background-color:#fff;color:#717171;font-size:1em;padding:0;border:1px solid #e0e0e0;margin:0 0 0 8px;text-decoration:none;width:23px;height:23px;background-position:0 0;background-size:contain;font-family:\"Open Sans\",Arial,Verdana,sans-serif}.enlighter-t-classic .enlighter-btn:hover{border-color:#c9c9c9}.enlighter-t-classic .enlighter-btn:after{content:''}.enlighter-t-classic.enlighter-hover div.enlighter>div:hover{background-color:#ddf0dd}.enlighter-t-classic .enlighter-raw{font-size:1.25em;color:#000;line-height:1.85em;padding:4px 5px 4px 58px}.enlighter-t-classic div.enlighter{line-height:1.7em}.enlighter-t-classic div.enlighter>div{padding:1px 5px 1px 14px;line-height:1.7em;color:#aaa}.enlighter-t-classic div.enlighter>div>div{border-left:solid 4px #52ce52}.enlighter-t-classic div.enlighter>div:FIRST-CHILD{padding-top:5px}.enlighter-t-classic div.enlighter>div:LAST-CHILD{padding-bottom:5px}.enlighter-t-classic div.enlighter>div:AFTER{content:' '}.enlighter-t-classic div.enlighter>div:nth-child(even){background-color:#f8f8f8}.enlighter-t-classic div.enlighter>div.enlighter-special{background-color:#edf9ec;border-left-color:#3fa03f}.enlighter-t-classic.enlighter-linenumbers div.enlighter>div::before{padding:1px 5px 1px 14px;color:#000;background-color:#f8f8f8;font-size:1.15em;width:55px;min-width:55px}.enlighter-t-classic .enlighter span{font-size:1.25em}.enlighter-t-classic .enlighter-text{color:#000}.enlighter-t-classic .enlighter-c0{color:#888}.enlighter-t-classic .enlighter-c1{color:#888}.enlighter-t-classic .enlighter-c2{color:#888}.enlighter-t-classic .enlighter-c9{color:#888}.enlighter-t-classic .enlighter-k0{color:#066da1;font-weight:700}.enlighter-t-classic .enlighter-k1{color:#066da1;font-weight:700}.enlighter-t-classic .enlighter-k2{color:#404247;font-weight:700}.enlighter-t-classic .enlighter-k3{color:#404247;background-color:#f0f0f0}.enlighter-t-classic .enlighter-k4{color:#404247;font-weight:700}.enlighter-t-classic .enlighter-k5{color:#404247;font-weight:700}.enlighter-t-classic .enlighter-k6{color:#066da1;font-style:italic}.enlighter-t-classic .enlighter-k7{color:#066da1;font-weight:700}.enlighter-t-classic .enlighter-k8{color:#404247}.enlighter-t-classic .enlighter-k9{color:#d53aa9;font-weight:700}.enlighter-t-classic .enlighter-k10{color:#404247;font-style:italic}.enlighter-t-classic .enlighter-k11{color:#888}.enlighter-t-classic .enlighter-e0{color:#d53aa9;font-weight:700}.enlighter-t-classic .enlighter-e1{color:#d53aa9;font-weight:700}.enlighter-t-classic .enlighter-e2{color:#009926}.enlighter-t-classic .enlighter-e3{color:#d53aa9}.enlighter-t-classic .enlighter-e4{color:#d53aa9;font-style:italic}.enlighter-t-classic .enlighter-s0{color:#2d47e6}.enlighter-t-classic .enlighter-s1{color:#2d47e6}.enlighter-t-classic .enlighter-s2{color:#2d47e6}.enlighter-t-classic .enlighter-s3{color:#2d47e6}.enlighter-t-classic .enlighter-s4{color:#2d47e6;font-weight:700}.enlighter-t-classic .enlighter-s5{color:#d53aa9;font-weight:700}.enlighter-t-classic .enlighter-n0{color:#d53aa9}.enlighter-t-classic .enlighter-n1{color:#d53aa9}.enlighter-t-classic .enlighter-n2{color:#d53aa9}.enlighter-t-classic .enlighter-n3{color:#d53aa9}.enlighter-t-classic .enlighter-n4{color:#d53aa9}.enlighter-t-classic .enlighter-n5{color:#d53aa9}.enlighter-t-classic .enlighter-m0{color:#404247}.enlighter-t-classic .enlighter-m1{color:#404247}.enlighter-t-classic .enlighter-m2{color:#404247}.enlighter-t-classic .enlighter-m3{color:#404247}.enlighter-t-classic .enlighter-g0{color:#444}.enlighter-t-classic .enlighter-g1{color:#444}.enlighter-t-classic .enlighter-t0{color:#444}.enlighter-t-classic .enlighter-t1{color:#d53aa9;font-weight:700}.enlighter-t-classic .enlighter-t2{color:#d53aa9;font-weight:700}.enlighter-t-classic .enlighter-t3{color:#066da1}.enlighter-t-classic .enlighter-t4{color:#009926}.enlighter-t-classic .enlighter-t5{color:#009926}.enlighter-t-classic .enlighter-t6{color:#d53aa9}.enlighter-t-classic .enlighter-t7{color:#444;font-weight:700}.enlighter-t-classic .enlighter-t8{color:#444;background-color:#f0f0f0;font-style:italic}.enlighter-t-classic .enlighter-x1{color:#066da1;font-weight:700}.enlighter-t-classic .enlighter-x2{color:#404247;font-weight:700}.enlighter-t-classic .enlighter-x10{color:#000;font-weight:700}.enlighter-t-classic .enlighter-x11{color:#286491;font-weight:700}.enlighter-t-classic .enlighter-x12{color:#286491;text-decoration:underline}.enlighter-t-classic .enlighter-x13{color:#0086b3}.enlighter-t-classic .enlighter-x14{color:#099;font-style:italic}.enlighter-t-classic .enlighter-x15{color:#990073;font-style:italic}.enlighter-t-classic.enlighter-v-inline{background-color:transparent;border:none}.enlighter-t-classic.enlighter-v-codegroup{display:block}.enlighter-t-classic.enlighter-v-codegroup .enlighter-codegroup-wrapper{position:relative}.enlighter-t-classic.enlighter-v-codegroup .enlighter-codegroup-switch{background-color:#f8f8f8;padding-left:45px}.enlighter-t-classic.enlighter-v-codegroup .enlighter-codegroup-switch .enlighter-btn{border:none;font-size:1.25em;line-height:2.1em;width:auto;height:auto;background-color:transparent;padding:5px 10px 5px 10px}.enlighter-t-classic.enlighter-v-codegroup .enlighter-codegroup-switch .enlighter-btn.enlighter-active{background-color:#52ce52;color:#f9f9f9;font-weight:700}\n",
       ".enlighter-t-godzilla{border-left:solid 6px #4a80b3;background-image:url(data:image/gif;base64,R0lGODlhHgAeAJEAAPLz9ezt7vf39wAAACwAAAAAHgAeAAACYYyPqXvi/wCccr5gY3Y1491Z4fRlI3Rem5ByaymurQBT8nuDuM57wA8MCodEQA2V8yRjm6OmZ3G6oKSlrWlFYqlaJffpNWUvxbL5J2WNHenZrL2mxd/znfjLrm/v/Kg+UwAAOw==);background-repeat:repeat;background-position:0 0}.enlighter-t-godzilla .enlighter-btn{border-radius:3px;background-color:#fff;color:#717171;font-size:1em;padding:0;border:1px solid #e0e0e0;margin:0 0 0 8px;text-decoration:none;width:23px;height:23px;background-position:0 0;background-size:contain}.enlighter-t-godzilla .enlighter-btn:hover{border-color:#c9c9c9}.enlighter-t-godzilla .enlighter-btn:after{content:''}.enlighter-t-godzilla.enlighter-hover div.enlighter>div:hover{background-color:#f0f0f1}.enlighter-t-godzilla .enlighter-raw{font-size:1.15em;line-height:1.6em;color:#2b333a;padding:4px 5px 4px 54px}.enlighter-t-godzilla div.enlighter>div{padding:1px 5px 1px 14px;line-height:1.35em;color:#9c9ea0}.enlighter-t-godzilla div.enlighter>div:FIRST-CHILD{padding-top:5px}.enlighter-t-godzilla div.enlighter>div:LAST-CHILD{padding-bottom:5px}.enlighter-t-godzilla div.enlighter>div:AFTER{content:' '}.enlighter-t-godzilla div.enlighter>div.enlighter-special{background-color:#fffcd3}.enlighter-t-godzilla.enlighter-linenumbers div.enlighter>div::before{padding:1px 5px 1px 14px;background-color:transparent;font-size:.9em}.enlighter-t-godzilla .enlighter span{font-size:1.15em}.enlighter-t-godzilla .enlighter-text{color:#2b333a}.enlighter-t-godzilla .enlighter-c0{color:#6b7c8b}.enlighter-t-godzilla .enlighter-c1{color:#6b7c8b}.enlighter-t-godzilla .enlighter-c2{color:#6b7c8b}.enlighter-t-godzilla .enlighter-c9{color:#5b7c9c}.enlighter-t-godzilla .enlighter-k0{color:#085789;font-weight:700}.enlighter-t-godzilla .enlighter-k1{color:#085789;font-weight:700}.enlighter-t-godzilla .enlighter-k2{color:#4284ae;font-weight:700}.enlighter-t-godzilla .enlighter-k3{color:#4284ae;background-color:#f0f0f0}.enlighter-t-godzilla .enlighter-k4{color:#4284ae;font-weight:700}.enlighter-t-godzilla .enlighter-k5{color:#085789;font-weight:700}.enlighter-t-godzilla .enlighter-k6{color:#085789;font-style:italic}.enlighter-t-godzilla .enlighter-k7{color:#085789;font-weight:700}.enlighter-t-godzilla .enlighter-k8{color:#4284ae}.enlighter-t-godzilla .enlighter-k9{color:#ae42a0;font-weight:700}.enlighter-t-godzilla .enlighter-k10{color:#ae42a0;font-style:italic}.enlighter-t-godzilla .enlighter-k11{color:#6b7c8b}.enlighter-t-godzilla .enlighter-e0{color:#085789;font-weight:700}.enlighter-t-godzilla .enlighter-e1{color:#085789;font-weight:700}.enlighter-t-godzilla .enlighter-e2{color:#085789}.enlighter-t-godzilla .enlighter-e3{color:#085789}.enlighter-t-godzilla .enlighter-e4{color:#d2901d}.enlighter-t-godzilla .enlighter-s0{color:#5e860f}.enlighter-t-godzilla .enlighter-s1{color:#5e860f}.enlighter-t-godzilla .enlighter-s2{color:#5e860f}.enlighter-t-godzilla .enlighter-s3{color:#5e860f}.enlighter-t-godzilla .enlighter-s4{color:#5e860f}.enlighter-t-godzilla .enlighter-s5{color:#5e860f}.enlighter-t-godzilla .enlighter-n0{color:#9b0d5c}.enlighter-t-godzilla .enlighter-n1{color:#9b0d5c}.enlighter-t-godzilla .enlighter-n2{color:#9b0d5c;font-style:italic}.enlighter-t-godzilla .enlighter-n3{color:#9b0d5c;font-style:italic}.enlighter-t-godzilla .enlighter-n4{color:#9b0d5c;font-style:italic}.enlighter-t-godzilla .enlighter-n5{color:#9b0d5c;text-decoration:underline}.enlighter-t-godzilla .enlighter-m0{color:#d0284a}.enlighter-t-godzilla .enlighter-m1{color:#d0284a}.enlighter-t-godzilla .enlighter-m2{color:#d0284a}.enlighter-t-godzilla .enlighter-m3{color:#d0284a}.enlighter-t-godzilla .enlighter-g0{color:#35434c}.enlighter-t-godzilla .enlighter-g1{color:#35434c}.enlighter-t-godzilla .enlighter-t0{color:#35434c}.enlighter-t-godzilla .enlighter-t1{color:#d0284a;font-weight:700}.enlighter-t-godzilla .enlighter-t2{color:#9b0d5c;font-weight:700}.enlighter-t-godzilla .enlighter-t3{color:#085789}.enlighter-t-godzilla .enlighter-t4{color:#085789}.enlighter-t-godzilla .enlighter-t5{color:#085789}.enlighter-t-godzilla .enlighter-t6{color:#d0284a}.enlighter-t-godzilla .enlighter-t7{color:#35434c;font-weight:700}.enlighter-t-godzilla .enlighter-t8{color:#35434c;background-color:#f0f0f0;font-style:italic}.enlighter-t-godzilla .enlighter-x1{color:#085789;font-weight:700}.enlighter-t-godzilla .enlighter-x2{color:#4284ae}.enlighter-t-godzilla .enlighter-x10{color:#35434c;font-weight:700}.enlighter-t-godzilla .enlighter-x11{color:#085789;font-weight:700}.enlighter-t-godzilla .enlighter-x12{color:#085789;text-decoration:underline}.enlighter-t-godzilla .enlighter-x13{color:#4284ae}.enlighter-t-godzilla .enlighter-x14{color:#4284ae;font-style:italic}.enlighter-t-godzilla .enlighter-x15{color:#9b0d5c;font-style:italic}.enlighter-t-godzilla.enlighter-v-inline{background-color:#f7f7f7;border:dotted 1px #e0e0e1;border-left:solid 2px #4a80b3}.enlighter-t-godzilla.enlighter-v-codegroup .enlighter-codegroup-switch{font-family:\"Open Sans\",Arial,Verdana,sans-serif;background-color:#4a80b3;padding:5px 5px 5px 5px}.enlighter-t-godzilla.enlighter-v-codegroup .enlighter-codegroup-switch .enlighter-btn{padding:3px 10px 3px 10px;border:none;background-color:transparent;line-height:1.7em;font-size:1.15em;color:#f0f0f0;width:auto}.enlighter-t-godzilla.enlighter-v-codegroup .enlighter-codegroup-switch .enlighter-btn.enlighter-active{background-color:#00417f}\n",
       ".enlighter-t-atomic{font-family:Inconsolata,Consolas,\"Source Code Pro\",\"Liberation Mono\",\"Courier New\",Courier,monospace;background-color:#272b33;font-size:12px;color:#939393}.enlighter-t-atomic .enlighter-toolbar{top:10px;right:10px}.enlighter-t-atomic .enlighter-btn{font-family:\"Open Sans\",Arial,Verdana,sans-serif;background-image:none;background-color:transparent;color:#939393;font-size:1.1em;padding:2px 8px 2px 8px;margin:0 5px 0 5px;border:solid 1px #383e49;border-radius:4px;background-color:#13151a}.enlighter-t-atomic .enlighter-btn:hover{background-color:#121518;color:#f0f0f0}.enlighter-t-atomic .enlighter-toolbar .enlighter-btn-raw{background-image:none}.enlighter-t-atomic .enlighter-toolbar .enlighter-btn-raw:after{content:'Raw'}.enlighter-t-atomic .enlighter-toolbar .enlighter-btn-copy{background-image:none}.enlighter-t-atomic .enlighter-toolbar .enlighter-btn-copy:after{content:'Copy'}.enlighter-t-atomic .enlighter-toolbar .enlighter-btn-window{background-image:none}.enlighter-t-atomic .enlighter-toolbar .enlighter-btn-window:after{content:'Extern'}.enlighter-t-atomic .enlighter-toolbar .enlighter-btn-website{background-image:none}.enlighter-t-atomic .enlighter-toolbar .enlighter-btn-website:after{content:'EnlighterJS'}.enlighter-t-atomic .enlighter-raw{font-size:1.4em;color:#cfd5e0;background-color:#272b33;line-height:1.85em;padding:4px 5px 4px 54px}.enlighter-t-atomic div.enlighter>div{padding:1px 5px 1px 14px;line-height:1.6em;color:#596174;background-color:#272b33}.enlighter-t-atomic div.enlighter>div:FIRST-CHILD{padding-top:5px}.enlighter-t-atomic div.enlighter>div:LAST-CHILD{padding-bottom:5px}.enlighter-t-atomic div.enlighter>div:AFTER{content:' '}.enlighter-t-atomic div.enlighter>div.enlighter-special{background-color:#392d3b}.enlighter-t-atomic.enlighter-linenumbers div.enlighter>div::before{padding:1px 5px 1px 14px;font-size:1.3em}.enlighter-t-atomic.enlighter-hover div.enlighter>div:hover{background-color:#2e353e}.enlighter-t-atomic .enlighter span{font-size:1.4em}.enlighter-t-atomic .enlighter-text{color:#cfd5e0}.enlighter-t-atomic .enlighter-c0{color:#6b7c8b}.enlighter-t-atomic .enlighter-c1{color:#6b7c8b}.enlighter-t-atomic .enlighter-c2{color:#6b7c8b}.enlighter-t-atomic .enlighter-c9{color:#5b7c9c}.enlighter-t-atomic .enlighter-k0{color:#d171dd;font-weight:700}.enlighter-t-atomic .enlighter-k1{color:#d171dd;font-weight:700}.enlighter-t-atomic .enlighter-k2{color:#d19252;border-bottom:dotted 1px #d19252}.enlighter-t-atomic .enlighter-k3{color:#4284ae}.enlighter-t-atomic .enlighter-k4{color:#4284ae;font-weight:700}.enlighter-t-atomic .enlighter-k5{color:#d171dd;font-weight:700}.enlighter-t-atomic .enlighter-k6{color:#d171dd;font-style:italic}.enlighter-t-atomic .enlighter-k7{color:#d171dd;font-weight:700}.enlighter-t-atomic .enlighter-k8{color:#4284ae}.enlighter-t-atomic .enlighter-k9{color:#fff}.enlighter-t-atomic .enlighter-k10{color:#4284ae;font-style:italic}.enlighter-t-atomic .enlighter-k11{color:#6b7c8b}.enlighter-t-atomic .enlighter-e0{color:#d171dd;font-weight:700}.enlighter-t-atomic .enlighter-e1{color:#d171dd;font-weight:700}.enlighter-t-atomic .enlighter-e2{color:#d19252}.enlighter-t-atomic .enlighter-e3{color:#ae42a0}.enlighter-t-atomic .enlighter-e4{color:#d2901d;font-style:italic}.enlighter-t-atomic .enlighter-s0{color:#7cc379}.enlighter-t-atomic .enlighter-s1{color:#7cc379}.enlighter-t-atomic .enlighter-s2{color:#7cc379}.enlighter-t-atomic .enlighter-s3{color:#7cc379}.enlighter-t-atomic .enlighter-s4{color:#7cc379;font-weight:700}.enlighter-t-atomic .enlighter-s5{color:#5e860f;font-style:italic}.enlighter-t-atomic .enlighter-n0{color:#d19a66}.enlighter-t-atomic .enlighter-n1{color:#d19a66}.enlighter-t-atomic .enlighter-n2{color:#d19a66}.enlighter-t-atomic .enlighter-n3{color:#d19a66}.enlighter-t-atomic .enlighter-n4{color:#d19a66}.enlighter-t-atomic .enlighter-n5{color:#d19a66}.enlighter-t-atomic .enlighter-m0{color:#4284ae}.enlighter-t-atomic .enlighter-m1{color:#4284ae}.enlighter-t-atomic .enlighter-m2{color:#4284ae}.enlighter-t-atomic .enlighter-m3{color:#4284ae}.enlighter-t-atomic .enlighter-g0{color:#6b7c8b;font-weight:700}.enlighter-t-atomic .enlighter-g1{color:#6b7c8b;font-weight:700}.enlighter-t-atomic .enlighter-t0{color:#6b7c8b}.enlighter-t-atomic .enlighter-t1{color:#9b0d5c;font-weight:700}.enlighter-t-atomic .enlighter-t2{color:#990073;font-weight:700}.enlighter-t-atomic .enlighter-t3{color:#d171dd}.enlighter-t-atomic .enlighter-t4{color:#4284ae}.enlighter-t-atomic .enlighter-t5{color:#4284ae}.enlighter-t-atomic .enlighter-t6{color:#9b0d5c}.enlighter-t-atomic .enlighter-t7{color:#6b7c8b;font-weight:700}.enlighter-t-atomic .enlighter-t8{color:#6b7c8b}.enlighter-t-atomic .enlighter-x1{color:#d171dd;font-weight:700}.enlighter-t-atomic .enlighter-x2{color:#d19252;border-bottom:dotted 1px #d19252}.enlighter-t-atomic .enlighter-x10{color:#d171dd;font-weight:700}.enlighter-t-atomic .enlighter-x11{color:#d171dd;font-weight:700}.enlighter-t-atomic .enlighter-x12{color:#d171dd;text-decoration:underline}.enlighter-t-atomic .enlighter-x13{color:#d19252;border-bottom:dotted 1px #d19252}.enlighter-t-atomic .enlighter-x14{color:#d19a66;font-style:italic}.enlighter-t-atomic .enlighter-x15{color:#9b0d5c;font-style:italic}.enlighter-t-atomic.enlighter-v-codegroup .enlighter-codegroup-wrapper{position:relative}.enlighter-t-atomic.enlighter-v-codegroup .enlighter-codegroup-switch{padding:5px 5px 0 45px;background-color:#121518}.enlighter-t-atomic.enlighter-v-codegroup .enlighter-codegroup-switch .enlighter-btn{padding:2px 8px 0 8px;border:none;background-color:transparent;line-height:2.1em;font-weight:700;color:#f0f0f0;border-radius:5px 5px 0 0;text-transform:lowercase}.enlighter-t-atomic.enlighter-v-codegroup .enlighter-codegroup-switch .enlighter-btn.enlighter-active{background-color:#272b33}\n",
       ".enlighter-t-droide{background-color:#f7f7f9;border:solid 1px #e0e0e0}.enlighter-t-droide .enlighter-btn{background-color:#fff;color:#717171;font-size:1em;padding:0;border:1px solid #e0e0e0;margin:0 0 0 8px;text-decoration:none;width:23px;height:23px;background-position:0 0;background-size:contain}.enlighter-t-droide .enlighter-btn:hover{background-color:#fff}.enlighter-t-droide .enlighter-btn:after{content:''}.enlighter-t-droide.enlighter-hover div.enlighter>div:hover{background-color:#fae9d9}.enlighter-t-droide .enlighter-raw{font-size:1.1em;color:#404141;line-height:1.5em;padding:4px 5px 4px 55px}.enlighter-t-droide div.enlighter>div{border:solid 0 #fff;padding:1px 5px 1px 14px;line-height:1.35em;color:#aaa}.enlighter-t-droide div.enlighter>div:FIRST-CHILD{padding-top:5px}.enlighter-t-droide div.enlighter>div:LAST-CHILD{padding-bottom:5px}.enlighter-t-droide div.enlighter>div:AFTER{content:' '}.enlighter-t-droide div.enlighter>div.enlighter-special{background-color:#fae9d9;border-left:solid 5px #e07c19}.enlighter-t-droide.enlighter-linenumbers div.enlighter>div::before{padding:1px 5px 1px 0;border-right:1px dashed #e0e0e0;font-size:.9em;color:#707070;background-color:#f7f7f9}.enlighter-t-droide .enlighter span{font-size:1.1em}.enlighter-t-droide .enlighter-text{color:#000}.enlighter-t-droide .enlighter-c0{color:#086b08}.enlighter-t-droide .enlighter-c1{color:#086b08}.enlighter-t-droide .enlighter-c2{color:#086b08}.enlighter-t-droide .enlighter-c9{color:#086b08}.enlighter-t-droide .enlighter-k0{color:#12217c;font-weight:700}.enlighter-t-droide .enlighter-k1{color:#12217c;font-weight:700}.enlighter-t-droide .enlighter-k2{color:#458;font-weight:700}.enlighter-t-droide .enlighter-k3{color:#6e0d6e}.enlighter-t-droide .enlighter-k4{color:#6e0d6e;font-weight:700}.enlighter-t-droide .enlighter-k5{color:#12217c;font-weight:700}.enlighter-t-droide .enlighter-k6{color:#12217c;font-style:italic}.enlighter-t-droide .enlighter-k7{color:#12217c;font-weight:700}.enlighter-t-droide .enlighter-k8{color:#458}.enlighter-t-droide .enlighter-k9{color:#990073;font-weight:700}.enlighter-t-droide .enlighter-k10{color:#6e0d6e;font-style:italic}.enlighter-t-droide .enlighter-k11{color:#086b08}.enlighter-t-droide .enlighter-e0{color:#34068a;font-weight:700}.enlighter-t-droide .enlighter-e1{color:#34068a;font-weight:700}.enlighter-t-droide .enlighter-e2{color:#009926}.enlighter-t-droide .enlighter-e3{color:#286491}.enlighter-t-droide .enlighter-e4{color:#ff8c00;font-style:italic}.enlighter-t-droide .enlighter-s0{color:#961414}.enlighter-t-droide .enlighter-s1{color:#961414}.enlighter-t-droide .enlighter-s2{color:#961414}.enlighter-t-droide .enlighter-s3{color:#961414}.enlighter-t-droide .enlighter-s4{color:#963f14;font-weight:700}.enlighter-t-droide .enlighter-s5{color:#961414;font-style:italic}.enlighter-t-droide .enlighter-n0{color:#099}.enlighter-t-droide .enlighter-n1{color:#099}.enlighter-t-droide .enlighter-n2{color:#099;font-style:italic}.enlighter-t-droide .enlighter-n3{color:#099;font-style:italic}.enlighter-t-droide .enlighter-n4{color:#099;font-style:italic}.enlighter-t-droide .enlighter-n5{color:#099;text-decoration:underline}.enlighter-t-droide .enlighter-m0{color:#000}.enlighter-t-droide .enlighter-m1{color:#000}.enlighter-t-droide .enlighter-m2{color:#000}.enlighter-t-droide .enlighter-m3{color:#000}.enlighter-t-droide .enlighter-g0{color:#12217c}.enlighter-t-droide .enlighter-g1{color:#12217c}.enlighter-t-droide .enlighter-t0{color:#777}.enlighter-t-droide .enlighter-t1{color:#961414;font-weight:700}.enlighter-t-droide .enlighter-t2{color:#990073;font-weight:700}.enlighter-t-droide .enlighter-t3{color:#458}.enlighter-t-droide .enlighter-t4{color:#6e0d6e}.enlighter-t-droide .enlighter-t5{color:#6e0d6e}.enlighter-t-droide .enlighter-t6{color:#961414}.enlighter-t-droide .enlighter-t7{color:#535353;font-weight:700}.enlighter-t-droide .enlighter-t8{color:#777;font-style:italic}.enlighter-t-droide .enlighter-x1{color:#12217c;font-weight:700}.enlighter-t-droide .enlighter-x2{color:#6e0d6e}.enlighter-t-droide .enlighter-x10{color:#12217c;font-weight:700}.enlighter-t-droide .enlighter-x11{color:#12217c;font-weight:700}.enlighter-t-droide .enlighter-x12{color:#458}.enlighter-t-droide .enlighter-x13{color:#099}.enlighter-t-droide .enlighter-x14{color:#099}.enlighter-t-droide .enlighter-x15{color:#990073;font-style:italic}.enlighter-t-droide.enlighter-v-codegroup{background-color:transparent;border:none}.enlighter-t-droide.enlighter-v-codegroup .enlighter-codegroup-wrapper{background-color:#f7f7f9;border:solid 1px #e0e0e0}.enlighter-t-droide.enlighter-v-codegroup .enlighter-codegroup-switch{padding-left:15px}.enlighter-t-droide.enlighter-v-codegroup .enlighter-codegroup-switch .enlighter-btn{border:solid 1px #e0e0e0;font-size:1em;color:#000;background-color:transparent;border-radius:0;border-bottom-width:0;padding:5px 10px 5px 10px;font-weight:700;width:auto;height:auto}.enlighter-t-droide.enlighter-v-codegroup .enlighter-codegroup-switch .enlighter-btn.enlighter-active{background-color:#f7f7f9;color:#000;border-color:#c9c9c9}\n",
       ".enlighter-t-minimal{border-top:solid 3px #e0e0e0;border-bottom:solid 3px #e0e0e0;background-color:transparent;padding:10px 0 10px 0}.enlighter-t-minimal .enlighter-btn{background-color:#fff;color:#717171;font-size:1em;padding:0;border:1px solid #e0e0e0;margin:0 0 0 8px;text-decoration:none;width:23px;height:23px;background-position:0 0;background-size:contain}.enlighter-t-minimal .enlighter-btn:after{content:''}.enlighter-t-minimal.enlighter-hover div.enlighter>div:hover{background-color:#f0f0f0}.enlighter-t-minimal .enlighter-raw{font-size:1.1em;line-height:1.75em;padding:13px 5px 15px 50px;color:#404141}.enlighter-t-minimal div.enlighter>div{border:solid 0 #fff;background-color:transparent;padding:1px 5px 1px 0;line-height:1.5em;color:#a0a0a0}.enlighter-t-minimal div.enlighter>div:FIRST-CHILD{padding-top:5px}.enlighter-t-minimal div.enlighter>div:LAST-CHILD{padding-bottom:5px}.enlighter-t-minimal div.enlighter>div:AFTER{content:' '}.enlighter-t-minimal div.enlighter>div.enlighter-special{background-color:#f9f9f9}.enlighter-t-minimal.enlighter-linenumbers div.enlighter>div::before{padding:1px 10px 1px 10px;font-size:.8em;color:#404141}.enlighter-t-minimal .enlighter span{font-size:1.1em}.enlighter-t-minimal .enlighter-text{color:#2a2a2a}.enlighter-t-minimal .enlighter-c0{color:#a0a0a0}.enlighter-t-minimal .enlighter-c1{color:#a0a0a0}.enlighter-t-minimal .enlighter-c2{color:#a0a0a0}.enlighter-t-minimal .enlighter-c9{color:#a0a0a0}.enlighter-t-minimal .enlighter-k0{color:#12217c;font-weight:700}.enlighter-t-minimal .enlighter-k1{color:#12217c;font-weight:700}.enlighter-t-minimal .enlighter-k2{color:#458;border-bottom:dotted 1px #458}.enlighter-t-minimal .enlighter-k3{color:#458;border-bottom:dotted 1px #458}.enlighter-t-minimal .enlighter-k4{color:#458;border-bottom:dotted 1px #458}.enlighter-t-minimal .enlighter-k5{color:#12217c;font-weight:700}.enlighter-t-minimal .enlighter-k6{color:#12217c;font-style:italic}.enlighter-t-minimal .enlighter-k7{color:#12217c;font-weight:700}.enlighter-t-minimal .enlighter-k8{color:#458}.enlighter-t-minimal .enlighter-k9{color:#990073}.enlighter-t-minimal .enlighter-k10{color:#990073}.enlighter-t-minimal .enlighter-k11{color:#a0a0a0}.enlighter-t-minimal .enlighter-e0{color:#458;border-bottom:dotted 1px #458}.enlighter-t-minimal .enlighter-e1{color:#458;border-bottom:dotted 1px #458}.enlighter-t-minimal .enlighter-e2{color:#996700;border-bottom:solid 1px #996700}.enlighter-t-minimal .enlighter-e3{color:#458;border-bottom:dotted 1px #458}.enlighter-t-minimal .enlighter-e4{color:#458;border-bottom:dotted 1px #458}.enlighter-t-minimal .enlighter-s0{color:#217908;border-bottom:dotted 1px #387905}.enlighter-t-minimal .enlighter-s1{color:#217908;border-bottom:dotted 1px #387905}.enlighter-t-minimal .enlighter-s2{color:#cf6a4c}.enlighter-t-minimal .enlighter-s3{color:#217908;border-bottom:dotted 1px #387905}.enlighter-t-minimal .enlighter-s4{color:#217908;border-bottom:dotted 1px #387905}.enlighter-t-minimal .enlighter-s5{color:#217908;border-bottom:dotted 1px #387905}.enlighter-t-minimal .enlighter-n0{color:#a61d1b;font-weight:700}.enlighter-t-minimal .enlighter-n1{color:#a61d1b;font-weight:700}.enlighter-t-minimal .enlighter-n2{color:#a61d1b;font-weight:700}.enlighter-t-minimal .enlighter-n3{color:#a61d1b;font-weight:700}.enlighter-t-minimal .enlighter-n4{color:#a61d1b;font-weight:700}.enlighter-t-minimal .enlighter-n5{color:#a61d1b;font-weight:700}.enlighter-t-minimal .enlighter-m0{color:#12217c;background-color:#e0e0e0}.enlighter-t-minimal .enlighter-m1{color:#12217c;background-color:#e0e0e0}.enlighter-t-minimal .enlighter-m2{color:#12217c;background-color:#e0e0e0}.enlighter-t-minimal .enlighter-m3{color:#12217c;background-color:#e0e0e0}.enlighter-t-minimal .enlighter-g0{color:#12217c}.enlighter-t-minimal .enlighter-g1{color:#2a2a2a}.enlighter-t-minimal .enlighter-t0{color:#a0a0a0}.enlighter-t-minimal .enlighter-t1{color:#387905;font-weight:700}.enlighter-t-minimal .enlighter-t2{color:#990073;font-weight:700}.enlighter-t-minimal .enlighter-t3{color:#458}.enlighter-t-minimal .enlighter-t4{color:#458}.enlighter-t-minimal .enlighter-t5{color:#458}.enlighter-t-minimal .enlighter-t6{color:#387905}.enlighter-t-minimal .enlighter-t7{color:#a0a0a0;font-weight:700}.enlighter-t-minimal .enlighter-t8{color:#a0a0a0;font-style:italic}.enlighter-t-minimal .enlighter-x1{color:#12217c;font-weight:700}.enlighter-t-minimal .enlighter-x2{color:#458;border-bottom:dotted 1px #458}.enlighter-t-minimal .enlighter-x10{color:#12217c;font-weight:700}.enlighter-t-minimal .enlighter-x11{color:#12217c;font-weight:700}.enlighter-t-minimal .enlighter-x12{color:#458}.enlighter-t-minimal .enlighter-x13{color:#a61d1b;font-weight:700}.enlighter-t-minimal .enlighter-x14{color:#a61d1b;font-weight:700}.enlighter-t-minimal .enlighter-x15{color:#990073}.enlighter-t-minimal.enlighter-v-inline{background-color:transparent;border:none;padding:0}.enlighter-t-minimal.enlighter-v-codegroup{border-top:none;padding-top:0}.enlighter-t-minimal.enlighter-v-codegroup .enlighter-codegroup-wrapper{border-top:solid 3px #e0e0e0;padding-top:10px}.enlighter-t-minimal.enlighter-v-codegroup .enlighter-codegroup-switch{padding-left:5px;padding-bottom:5px}.enlighter-t-minimal.enlighter-v-codegroup .enlighter-codegroup-switch .enlighter-btn{font-size:1em;color:#000;background-color:transparent;font-weight:700;text-transform:uppercase;padding:1px 6px 1px 6px;border:none;width:auto;height:auto}.enlighter-t-minimal.enlighter-v-codegroup .enlighter-codegroup-switch .enlighter-btn.enlighter-active{background-color:#e0e0e0;color:#2a2a2a}\n",
       ".enlighter-t-eclipse{color:#787878;border-radius:5px;border:solid 8px #f3f3f3;background-color:#fff}.enlighter-t-eclipse .enlighter-toolbar{top:15px;right:15px}.enlighter-t-eclipse .enlighter-btn{background-color:#fff;color:#717171;font-size:1em;padding:0;border:1px solid #e0e0e0;margin:0 0 0 8px;text-decoration:none;width:23px;height:23px;background-position:0 0;background-size:contain;border-radius:8px}.enlighter-t-eclipse .enlighter-btn:hover{background-color:#e0e0e0}.enlighter-t-eclipse .enlighter-btn:after{content:''}.enlighter-t-eclipse.enlighter-hover.enlighter-linenumbers div.enlighter>div:hover{background-color:#e8f2fe;color:#444}.enlighter-t-eclipse.enlighter-hover div.enlighter>div:hover{background-color:#e8f2fe;color:#444;border-left-color:#e0e0e0}.enlighter-t-eclipse .enlighter-raw{font-size:1.1em;line-height:1.5em;padding:4px 5px 4px 56px;color:#717171}.enlighter-t-eclipse div.enlighter{background-color:#fff}.enlighter-t-eclipse div.enlighter>div{border:solid 0 #fff;background-color:transparent;padding:1px 5px 1px 0;line-height:1.35em;color:#787878}.enlighter-t-eclipse div.enlighter>div:FIRST-CHILD{padding-top:5px}.enlighter-t-eclipse div.enlighter>div:LAST-CHILD{padding-bottom:5px}.enlighter-t-eclipse div.enlighter>div:AFTER{content:' '}.enlighter-t-eclipse div.enlighter>div.enlighter-special{background-color:#f9f9f9}.enlighter-t-eclipse.enlighter-linenumbers div.enlighter>div::before{border-right:2px solid #f8f8f8;padding:1px 5px 1px 14px}.enlighter-t-eclipse .enlighter span{font-size:1.1em}.enlighter-t-eclipse .enlighter-text{color:#000}.enlighter-t-eclipse .enlighter-c0{color:#3f7f5f}.enlighter-t-eclipse .enlighter-c1{color:#3f5fbf}.enlighter-t-eclipse .enlighter-c2{color:#3f5fbf}.enlighter-t-eclipse .enlighter-c9{color:#3f5fbf}.enlighter-t-eclipse .enlighter-k0{color:#3f7f95;font-weight:700}.enlighter-t-eclipse .enlighter-k1{color:#3f7f95;font-weight:700}.enlighter-t-eclipse .enlighter-k2{color:#7f007f;font-weight:700}.enlighter-t-eclipse .enlighter-k3{color:#7f007f;font-weight:700}.enlighter-t-eclipse .enlighter-k4{color:#458}.enlighter-t-eclipse .enlighter-k5{color:#7f007f;font-weight:700}.enlighter-t-eclipse .enlighter-k6{color:#7f007f;font-weight:700}.enlighter-t-eclipse .enlighter-k7{color:#7f007f;font-weight:700}.enlighter-t-eclipse .enlighter-k8{color:#458}.enlighter-t-eclipse .enlighter-k9{color:#990073}.enlighter-t-eclipse .enlighter-k10{color:#990073}.enlighter-t-eclipse .enlighter-k11{color:#3f5fbf}.enlighter-t-eclipse .enlighter-e0{color:#7f007f;font-weight:700}.enlighter-t-eclipse .enlighter-e1{color:#7f007f;font-weight:700}.enlighter-t-eclipse .enlighter-e2{color:#009926}.enlighter-t-eclipse .enlighter-e3{color:#7f007f;font-weight:700}.enlighter-t-eclipse .enlighter-e4{color:#7f007f;font-weight:700}.enlighter-t-eclipse .enlighter-s0{color:#320fe3}.enlighter-t-eclipse .enlighter-s1{color:#320fe3}.enlighter-t-eclipse .enlighter-s2{color:#320fe3}.enlighter-t-eclipse .enlighter-s3{color:#320fe3}.enlighter-t-eclipse .enlighter-s4{color:#320fe3}.enlighter-t-eclipse .enlighter-s5{color:#990073}.enlighter-t-eclipse .enlighter-n0{color:#000}.enlighter-t-eclipse .enlighter-n1{color:#000}.enlighter-t-eclipse .enlighter-n2{color:#000}.enlighter-t-eclipse .enlighter-n3{color:#000}.enlighter-t-eclipse .enlighter-n4{color:#000}.enlighter-t-eclipse .enlighter-n5{color:#000}.enlighter-t-eclipse .enlighter-m0{color:#000}.enlighter-t-eclipse .enlighter-m1{color:#000}.enlighter-t-eclipse .enlighter-m2{color:#000}.enlighter-t-eclipse .enlighter-m3{color:#000}.enlighter-t-eclipse .enlighter-g0{color:#777}.enlighter-t-eclipse .enlighter-g1{color:#777}.enlighter-t-eclipse .enlighter-t0{color:#777}.enlighter-t-eclipse .enlighter-t1{color:#3f7f5f;font-weight:700}.enlighter-t-eclipse .enlighter-t2{color:#990073;font-weight:700}.enlighter-t-eclipse .enlighter-t3{color:#458}.enlighter-t-eclipse .enlighter-t4{color:#458}.enlighter-t-eclipse .enlighter-t5{color:#458}.enlighter-t-eclipse .enlighter-t6{color:#3f7f5f}.enlighter-t-eclipse .enlighter-t7{color:#a0a0a0;font-weight:700}.enlighter-t-eclipse .enlighter-t8{color:#a0a0a0;font-style:italic}.enlighter-t-eclipse .enlighter-x1{color:#3f7f95;font-weight:700}.enlighter-t-eclipse .enlighter-x2{color:#7f007f;font-weight:700}.enlighter-t-eclipse .enlighter-x10{color:#3f7f95;font-weight:700}.enlighter-t-eclipse .enlighter-x11{color:#3f7f95;font-weight:700}.enlighter-t-eclipse .enlighter-x12{color:#458}.enlighter-t-eclipse .enlighter-x13{color:#3f7f95}.enlighter-t-eclipse .enlighter-x14{color:#000}.enlighter-t-eclipse .enlighter-x15{color:#000}.enlighter-t-eclipse.enlighter-v-inline{border-radius:3px;background-color:#f8f8f8;border:solid 0 #fff}.enlighter-t-eclipse.enlighter-v-codegroup{display:block}.enlighter-t-eclipse.enlighter-v-codegroup .enlighter,.enlighter-t-eclipse.enlighter-v-codegroup .enlighter-raw{border-top:0;border-top-left-radius:0;border-top-right-radius:0}.enlighter-t-eclipse.enlighter-v-codegroup .enlighter-codegroup-wrapper{position:relative}.enlighter-t-eclipse.enlighter-v-codegroup .enlighter-codegroup-switch{background-color:#f3f3f3;padding:8px 5px 0 60px;border-radius:5px 5px 0 0}.enlighter-t-eclipse.enlighter-v-codegroup .enlighter-codegroup-switch .enlighter-btn{font-size:1em;color:#000;background-color:transparent;padding:5px 10px 5px 10px;border-radius:5px 5px 0 0;border:none;width:auto}.enlighter-t-eclipse.enlighter-v-codegroup .enlighter-codegroup-switch .enlighter-btn.enlighter-active{background-color:#fff;color:#000;border-color:#c9c9c9}\n",
       ".enlighter-t-mowtwo{background-color:#f0f0f1;border:solid 1px #f0f0f1;border-radius:7px}.enlighter-t-mowtwo .enlighter-btn{background-color:#fff;color:#717171;font-size:1em;padding:0;border:1px solid #e0e0e0;margin:0 0 0 8px;text-decoration:none;width:23px;height:23px;background-position:0 0;background-size:contain}.enlighter-t-mowtwo .enlighter-btn:after{content:''}.enlighter-t-mowtwo.enlighter-hover div.enlighter>div:hover{background-color:#e9e9e9}.enlighter-t-mowtwo .enlighter-raw{font-size:1.15em;line-height:1.75em;color:#313437;padding:5px 5px 5px 51px;background-color:transparent}.enlighter-t-mowtwo div.enlighter>div{line-height:1.5em;padding:1px 5px 1px 14px;color:#9c9ea0}.enlighter-t-mowtwo div.enlighter>div:FIRST-CHILD{padding-top:5px}.enlighter-t-mowtwo div.enlighter>div:LAST-CHILD{padding-bottom:5px}.enlighter-t-mowtwo div.enlighter>div:AFTER{content:' '}.enlighter-t-mowtwo div.enlighter>div.enlighter-special{background-color:#e9e9e9}.enlighter-t-mowtwo.enlighter-linenumbers div.enlighter>div::before{padding:1px 10px 1px 10px;font-size:.9em}.enlighter-t-mowtwo.enlighter-linenumbers div.enlighter>div:FIRST-CHILD::before{border-radius:0 8px 0 0}.enlighter-t-mowtwo.enlighter-linenumbers div.enlighter>div:LAST-CHILD::before{border-radius:0 0 8px 0}.enlighter-t-mowtwo .enlighter span{font-size:1.15em}.enlighter-t-mowtwo .enlighter-text{color:#313437}.enlighter-t-mowtwo .enlighter-c0{color:#9c9ea0}.enlighter-t-mowtwo .enlighter-c1{color:#9c9ea0}.enlighter-t-mowtwo .enlighter-c2{color:#9c9ea0}.enlighter-t-mowtwo .enlighter-c9{color:#9c9ea0}.enlighter-t-mowtwo .enlighter-k0{color:#b05098;font-weight:700}.enlighter-t-mowtwo .enlighter-k1{color:#b05098;font-weight:700}.enlighter-t-mowtwo .enlighter-k2{color:#b05098}.enlighter-t-mowtwo .enlighter-k3{color:#b05098}.enlighter-t-mowtwo .enlighter-k4{color:#b05098}.enlighter-t-mowtwo .enlighter-k5{color:#b05098}.enlighter-t-mowtwo .enlighter-k6{color:#b05098}.enlighter-t-mowtwo .enlighter-k7{color:#b05098}.enlighter-t-mowtwo .enlighter-k8{color:#313437}.enlighter-t-mowtwo .enlighter-k9{color:#313437}.enlighter-t-mowtwo .enlighter-k10{color:#313437}.enlighter-t-mowtwo .enlighter-k11{color:#9c9ea0}.enlighter-t-mowtwo .enlighter-e0{color:#b05098}.enlighter-t-mowtwo .enlighter-e1{color:#b05098}.enlighter-t-mowtwo .enlighter-e2{color:#864c08}.enlighter-t-mowtwo .enlighter-e3{color:#b05098}.enlighter-t-mowtwo .enlighter-e4{color:#b05098}.enlighter-t-mowtwo .enlighter-s0{color:#83a440}.enlighter-t-mowtwo .enlighter-s1{color:#83a440}.enlighter-t-mowtwo .enlighter-s2{color:#83a440}.enlighter-t-mowtwo .enlighter-s3{color:#83a440}.enlighter-t-mowtwo .enlighter-s4{color:#83a440}.enlighter-t-mowtwo .enlighter-s5{color:#83a440}.enlighter-t-mowtwo .enlighter-n0{color:#429bc1}.enlighter-t-mowtwo .enlighter-n1{color:#429bc1}.enlighter-t-mowtwo .enlighter-n2{color:#429bc1}.enlighter-t-mowtwo .enlighter-n3{color:#429bc1}.enlighter-t-mowtwo .enlighter-n4{color:#429bc1}.enlighter-t-mowtwo .enlighter-n5{color:#429bc1}.enlighter-t-mowtwo .enlighter-m0{color:#666}.enlighter-t-mowtwo .enlighter-m1{color:#666}.enlighter-t-mowtwo .enlighter-m2{color:#666}.enlighter-t-mowtwo .enlighter-m3{color:#666}.enlighter-t-mowtwo .enlighter-g0{color:#864c08}.enlighter-t-mowtwo .enlighter-g1{color:#909090}.enlighter-t-mowtwo .enlighter-t0{color:#909090}.enlighter-t-mowtwo .enlighter-t1{color:#b05098;font-weight:700}.enlighter-t-mowtwo .enlighter-t2{color:#b05098;font-weight:700}.enlighter-t-mowtwo .enlighter-t3{color:#b05098}.enlighter-t-mowtwo .enlighter-t4{color:#b05098}.enlighter-t-mowtwo .enlighter-t5{color:#83a440}.enlighter-t-mowtwo .enlighter-t6{color:#b05098}.enlighter-t-mowtwo .enlighter-t7{color:#909090;font-weight:700}.enlighter-t-mowtwo .enlighter-t8{color:#909090;font-style:italic}.enlighter-t-mowtwo .enlighter-x1{color:#b05098;font-weight:700}.enlighter-t-mowtwo .enlighter-x2{color:#b05098}.enlighter-t-mowtwo .enlighter-x10{color:#b05098;font-weight:700}.enlighter-t-mowtwo .enlighter-x11{color:#b05098;font-weight:700}.enlighter-t-mowtwo .enlighter-x12{color:#313437}.enlighter-t-mowtwo .enlighter-x13{color:#429bc1}.enlighter-t-mowtwo .enlighter-x14{color:#429bc1}.enlighter-t-mowtwo .enlighter-x15{color:#313437}.enlighter-t-mowtwo.enlighter-v-inline{border-radius:4px}.enlighter-t-mowtwo.enlighter-v-codegroup .enlighter-codegroup-switch{background-color:#585b5e;padding:10px 0 10px 20px;border-radius:8px;margin-bottom:5px}.enlighter-t-mowtwo.enlighter-v-codegroup .enlighter-codegroup-switch .enlighter-btn{border-radius:0;background-color:transparent;line-height:1.7em;font-size:1.25em;color:#f0f0f0;border:none;padding:0 10px 0 10px;width:auto;height:auto;font-family:\"Open Sans\",Arial,Verdana,sans-serif}.enlighter-t-mowtwo.enlighter-v-codegroup .enlighter-codegroup-switch .enlighter-btn.enlighter-active{text-decoration:underline}\n",
       ".enlighter-t-rowhammer{background-color:transparent;border:none}.enlighter-t-rowhammer .enlighter-toolbar{top:20px}.enlighter-t-rowhammer .enlighter-btn{background-color:#fff;color:#717171;font-size:1em;padding:0;border:1px solid #e0e0e0;margin:0 0 0 8px;text-decoration:none;width:23px;height:23px;background-position:0 0;background-size:contain}.enlighter-t-rowhammer .enlighter-btn:hover{background-color:#fff}.enlighter-t-rowhammer .enlighter-btn:after{content:''}.enlighter-t-rowhammer.enlighter-hover div.enlighter>div:hover{background-color:#f0f0f0}.enlighter-t-rowhammer .enlighter-raw{font-size:1.1em;color:#404141;background-color:transparent;padding:14px 0 15px 38px;line-height:2em}.enlighter-t-rowhammer div.enlighter>div{border:solid 0 #fff;padding:1px 5px 1px 0;line-height:1.67em;color:#94a9bf;background-color:transparent;border-bottom:dotted 1px #e9e9f0}.enlighter-t-rowhammer div.enlighter>div:nth-of-type(1){border-top:dotted 1px #e9e9f0}.enlighter-t-rowhammer div.enlighter>div:FIRST-CHILD{padding-top:5px}.enlighter-t-rowhammer div.enlighter>div:LAST-CHILD{padding-bottom:5px}.enlighter-t-rowhammer div.enlighter>div:AFTER{content:' '}.enlighter-t-rowhammer div.enlighter>div.enlighter-special{background-color:#f9f9f9}.enlighter-t-rowhammer.enlighter-linenumbers div.enlighter>div::before{padding:1px 5px 1px 14px;font-size:.8em;color:#94a9bf}.enlighter-t-rowhammer .enlighter span{font-size:1.1em}.enlighter-t-rowhammer .enlighter-text{color:#000}.enlighter-t-rowhammer .enlighter-c0{color:#758697}.enlighter-t-rowhammer .enlighter-c1{color:#758697}.enlighter-t-rowhammer .enlighter-c2{color:#758697}.enlighter-t-rowhammer .enlighter-c9{color:#758697}.enlighter-t-rowhammer .enlighter-k0{color:#07a;font-weight:700;border-bottom:dotted 1px #07a}.enlighter-t-rowhammer .enlighter-k1{color:#07a;font-weight:700;border-bottom:dotted 1px #07a}.enlighter-t-rowhammer .enlighter-k2{color:#07a;font-weight:700}.enlighter-t-rowhammer .enlighter-k3{color:#07a}.enlighter-t-rowhammer .enlighter-k4{color:#07a;font-weight:700}.enlighter-t-rowhammer .enlighter-k5{color:#07a;font-weight:700;border-bottom:dotted 1px #07a}.enlighter-t-rowhammer .enlighter-k6{color:#07a;font-weight:700;border-bottom:dotted 1px #07a}.enlighter-t-rowhammer .enlighter-k7{color:#07a;font-weight:700;border-bottom:dotted 1px #07a}.enlighter-t-rowhammer .enlighter-k8{color:#07a}.enlighter-t-rowhammer .enlighter-k9{color:#000}.enlighter-t-rowhammer .enlighter-k10{color:#07a;font-style:italic}.enlighter-t-rowhammer .enlighter-k11{color:#758697}.enlighter-t-rowhammer .enlighter-e0{color:#07a;font-weight:700}.enlighter-t-rowhammer .enlighter-e1{color:#07a;font-weight:700}.enlighter-t-rowhammer .enlighter-e2{color:#d2901d}.enlighter-t-rowhammer .enlighter-e3{color:#07a}.enlighter-t-rowhammer .enlighter-e4{color:#ff8c00;font-style:italic}.enlighter-t-rowhammer .enlighter-s0{color:#639500;border-bottom:dotted 1px #639500}.enlighter-t-rowhammer .enlighter-s1{color:#639500}.enlighter-t-rowhammer .enlighter-s2{color:#639500}.enlighter-t-rowhammer .enlighter-s3{color:#639500}.enlighter-t-rowhammer .enlighter-s4{color:#639500}.enlighter-t-rowhammer .enlighter-s5{color:#639500;font-style:italic}.enlighter-t-rowhammer .enlighter-n0{color:#9b0d5c}.enlighter-t-rowhammer .enlighter-n1{color:#9b0d5c}.enlighter-t-rowhammer .enlighter-n2{color:#9b0d5c}.enlighter-t-rowhammer .enlighter-n3{color:#9b0d5c}.enlighter-t-rowhammer .enlighter-n4{color:#9b0d5c}.enlighter-t-rowhammer .enlighter-n5{color:#9b0d5c}.enlighter-t-rowhammer .enlighter-m0{color:#d0284a;font-weight:700}.enlighter-t-rowhammer .enlighter-m1{color:#c2415b;font-weight:700}.enlighter-t-rowhammer .enlighter-m2{color:#c2415b;font-weight:700}.enlighter-t-rowhammer .enlighter-m3{color:#d0284a;font-weight:700}.enlighter-t-rowhammer .enlighter-g0{color:#35434c;font-weight:700}.enlighter-t-rowhammer .enlighter-g1{color:#6b7c8b;font-weight:700}.enlighter-t-rowhammer .enlighter-t0{color:#777}.enlighter-t-rowhammer .enlighter-t1{color:#961414;font-weight:700}.enlighter-t-rowhammer .enlighter-t2{color:#990073;font-weight:700}.enlighter-t-rowhammer .enlighter-t3{color:#458}.enlighter-t-rowhammer .enlighter-t4{color:#6e0d6e}.enlighter-t-rowhammer .enlighter-t5{color:#6e0d6e}.enlighter-t-rowhammer .enlighter-t6{color:#961414}.enlighter-t-rowhammer .enlighter-t7{color:#535353;font-weight:700}.enlighter-t-rowhammer .enlighter-t8{color:#777;font-style:italic}.enlighter-t-rowhammer .enlighter-x1{color:#07a;font-weight:700;border-bottom:dotted 1px #07a}.enlighter-t-rowhammer .enlighter-x2{color:#07a;font-weight:700}.enlighter-t-rowhammer .enlighter-x10{color:#07a;font-weight:700;border-bottom:dotted 1px #07a}.enlighter-t-rowhammer .enlighter-x11{color:#07a;font-weight:700;border-bottom:dotted 1px #07a}.enlighter-t-rowhammer .enlighter-x12{color:#07a}.enlighter-t-rowhammer .enlighter-x13{color:#9b0d5c}.enlighter-t-rowhammer .enlighter-x14{color:#9b0d5c}.enlighter-t-rowhammer .enlighter-x15{color:#121212}.enlighter-t-rowhammer.enlighter-v-codegroup .enlighter-codegroup-switch{padding-left:15px;padding-bottom:15px}.enlighter-t-rowhammer.enlighter-v-codegroup .enlighter-codegroup-switch .enlighter-btn{font-size:1em;color:#758697;background-color:transparent;border-radius:0;font-weight:700;text-transform:uppercase;padding:2px 10px 2px 10px;border:none;width:auto;height:auto}.enlighter-t-rowhammer.enlighter-v-codegroup .enlighter-codegroup-switch .enlighter-btn.enlighter-active{border-bottom:dotted 1px #758697;background-color:#f0f0f0}\n",
       ".enlighter-t-bootstrap4{color:#212529;background-color:#f8f9fa;padding:25px 25px 25px 25px}.enlighter-t-bootstrap4 .enlighter-toolbar{top:10px;right:10px}.enlighter-t-bootstrap4 .enlighter-btn{background-image:none;background-color:transparent;color:#818a91;font-size:1em;padding:2px 8px 2px 8px;margin:0 5px 0 5px;border:none;border-radius:4px;font-family:\"Open Sans\",Arial,Verdana,sans-serif}.enlighter-t-bootstrap4 .enlighter-btn:hover{background-color:#007bff;color:#f0f0f0}.enlighter-t-bootstrap4 .enlighter-toolbar .enlighter-btn-raw{background-image:none}.enlighter-t-bootstrap4 .enlighter-toolbar .enlighter-btn-raw:after{content:'Raw'}.enlighter-t-bootstrap4 .enlighter-toolbar .enlighter-btn-copy{background-image:none}.enlighter-t-bootstrap4 .enlighter-toolbar .enlighter-btn-copy:after{content:'Copy'}.enlighter-t-bootstrap4 .enlighter-toolbar .enlighter-btn-window{background-image:none}.enlighter-t-bootstrap4 .enlighter-toolbar .enlighter-btn-window:after{content:'Extern'}.enlighter-t-bootstrap4 .enlighter-toolbar .enlighter-btn-website{background-image:none}.enlighter-t-bootstrap4 .enlighter-toolbar .enlighter-btn-website:after{content:'EnlighterJS'}.enlighter-t-bootstrap4.enlighter-hover div.enlighter>div:hover{background-color:#eceef0}.enlighter-t-bootstrap4 .enlighter-raw{font-size:1.15em;color:#212529;background-color:#f8f9fa;line-height:1.7em;padding:0 0 0 61px}.enlighter-t-bootstrap4 div.enlighter>div{padding:1px 5px 1px 14px;line-height:1.35em;color:#999;background-color:transparent}.enlighter-t-bootstrap4 div.enlighter>div:FIRST-CHILD{padding-top:5px}.enlighter-t-bootstrap4 div.enlighter>div:LAST-CHILD{padding-bottom:5px}.enlighter-t-bootstrap4 div.enlighter>div:AFTER{content:' '}.enlighter-t-bootstrap4 div.enlighter>div.enlighter-special{background-color:#eceef0}.enlighter-t-bootstrap4.enlighter-linenumbers div.enlighter>div::before{padding:1px 5px 1px 0;font-size:.8em}.enlighter-t-bootstrap4 .enlighter span{font-size:1.15em}.enlighter-t-bootstrap4 .enlighter-text{color:#212529}.enlighter-t-bootstrap4 .enlighter-c0{color:#999}.enlighter-t-bootstrap4 .enlighter-c1{color:#999}.enlighter-t-bootstrap4 .enlighter-c2{color:#999}.enlighter-t-bootstrap4 .enlighter-c9{color:#999}.enlighter-t-bootstrap4 .enlighter-k0{color:#069}.enlighter-t-bootstrap4 .enlighter-k1{color:#069}.enlighter-t-bootstrap4 .enlighter-k2{color:#069}.enlighter-t-bootstrap4 .enlighter-k3{color:#069}.enlighter-t-bootstrap4 .enlighter-k4{color:#069;font-style:italic}.enlighter-t-bootstrap4 .enlighter-k5{color:#212529}.enlighter-t-bootstrap4 .enlighter-k6{color:#069}.enlighter-t-bootstrap4 .enlighter-k7{color:#069;border-bottom:dotted 1px #069}.enlighter-t-bootstrap4 .enlighter-k8{color:#212529}.enlighter-t-bootstrap4 .enlighter-k9{color:#069}.enlighter-t-bootstrap4 .enlighter-k10{color:#212529}.enlighter-t-bootstrap4 .enlighter-k11{color:#999}.enlighter-t-bootstrap4 .enlighter-e0{color:#069}.enlighter-t-bootstrap4 .enlighter-e1{color:#069}.enlighter-t-bootstrap4 .enlighter-e2{color:#009926}.enlighter-t-bootstrap4 .enlighter-e3{color:#069}.enlighter-t-bootstrap4 .enlighter-e4{color:#069}.enlighter-t-bootstrap4 .enlighter-s0{color:#d44950}.enlighter-t-bootstrap4 .enlighter-s1{color:#d44950}.enlighter-t-bootstrap4 .enlighter-s2{color:#d44950}.enlighter-t-bootstrap4 .enlighter-s3{color:#d44950}.enlighter-t-bootstrap4 .enlighter-s4{color:#d44950}.enlighter-t-bootstrap4 .enlighter-s5{color:#d44950}.enlighter-t-bootstrap4 .enlighter-n0{color:#f60}.enlighter-t-bootstrap4 .enlighter-n1{color:#f60}.enlighter-t-bootstrap4 .enlighter-n2{color:#f60}.enlighter-t-bootstrap4 .enlighter-n3{color:#f60}.enlighter-t-bootstrap4 .enlighter-n4{color:#f60}.enlighter-t-bootstrap4 .enlighter-n5{color:#f60}.enlighter-t-bootstrap4 .enlighter-m0{color:#99f}.enlighter-t-bootstrap4 .enlighter-m1{color:#212529}.enlighter-t-bootstrap4 .enlighter-m2{color:#212529}.enlighter-t-bootstrap4 .enlighter-m3{color:#212529}.enlighter-t-bootstrap4 .enlighter-g0{color:#2f6f9f}.enlighter-t-bootstrap4 .enlighter-g1{color:#999;font-weight:700}.enlighter-t-bootstrap4 .enlighter-t0{color:#999}.enlighter-t-bootstrap4 .enlighter-t1{color:#d44950;font-weight:700}.enlighter-t-bootstrap4 .enlighter-t2{color:#d44950;font-weight:700}.enlighter-t-bootstrap4 .enlighter-t3{color:#0086b3}.enlighter-t-bootstrap4 .enlighter-t4{color:#0a8}.enlighter-t-bootstrap4 .enlighter-t5{color:#0a8}.enlighter-t-bootstrap4 .enlighter-t6{color:#f60}.enlighter-t-bootstrap4 .enlighter-t7{color:#999;font-weight:700}.enlighter-t-bootstrap4 .enlighter-t8{color:#999}.enlighter-t-bootstrap4 .enlighter-x1{color:#2f6f9f}.enlighter-t-bootstrap4 .enlighter-x2{color:#4f9fcf}.enlighter-t-bootstrap4 .enlighter-x10{color:#0a8}.enlighter-t-bootstrap4 .enlighter-x11{color:#0a8}.enlighter-t-bootstrap4 .enlighter-x12{color:#99f}.enlighter-t-bootstrap4 .enlighter-x13{color:#f60}.enlighter-t-bootstrap4 .enlighter-x14{color:#f60}.enlighter-t-bootstrap4 .enlighter-x15{color:#f60}.enlighter-t-bootstrap4.enlighter-v-inline{background-color:#f8f9fa;border:none;border-radius:5px;padding:3px}.enlighter-t-bootstrap4.enlighter-v-codegroup .enlighter-codegroup-switch{border:solid 3px #f8f9fa;border-bottom-width:0;padding:15px}.enlighter-t-bootstrap4.enlighter-v-codegroup .enlighter-codegroup-switch .enlighter-btn{padding:3px 10px 3px 10px;border:none;font-size:.9em;color:#212529;font-weight:700;background-color:#f8f9fa;border-radius:5px}.enlighter-t-bootstrap4.enlighter-v-codegroup .enlighter-codegroup-switch .enlighter-btn.enlighter-active{background-color:#007bff;color:#f0f0f0}\n",
       ".enlighter-t-dracula{background-color:#282a36}.enlighter-t-dracula .enlighter-toolbar{top:10px;right:10px}.enlighter-t-dracula .enlighter-btn{background-image:none;background-color:#44475a;color:#f8f8f2;font-size:1em;padding:2px 8px 2px 8px;margin:0 5px 0 5px;border:none;border-radius:4px;font-family:Arial,Helvetica,sans-serif}.enlighter-t-dracula .enlighter-btn:hover{background-color:#6272a4;color:#f8f8f2}.enlighter-t-dracula .enlighter-toolbar .enlighter-btn-raw{background-image:none}.enlighter-t-dracula .enlighter-toolbar .enlighter-btn-raw:after{content:'Raw'}.enlighter-t-dracula .enlighter-toolbar .enlighter-btn-copy{background-image:none}.enlighter-t-dracula .enlighter-toolbar .enlighter-btn-copy:after{content:'Copy'}.enlighter-t-dracula .enlighter-toolbar .enlighter-btn-window{background-image:none}.enlighter-t-dracula .enlighter-toolbar .enlighter-btn-window:after{content:'Extern'}.enlighter-t-dracula .enlighter-toolbar .enlighter-btn-website{background-image:none}.enlighter-t-dracula .enlighter-toolbar .enlighter-btn-website:after{content:'EnlighterJS'}.enlighter-t-dracula.enlighter-hover div.enlighter>div:hover{background-color:#44475a}.enlighter-t-dracula .enlighter-raw{font-size:1.25em;color:#f8f8f2;line-height:1.85em;padding:4px 5px 4px 55px}.enlighter-t-dracula div.enlighter>div{padding:1px 5px 1px 14px;line-height:1.6em;color:#6272a4;background-color:#282a36}.enlighter-t-dracula div.enlighter>div:FIRST-CHILD{padding-top:5px}.enlighter-t-dracula div.enlighter>div:LAST-CHILD{padding-bottom:5px}.enlighter-t-dracula div.enlighter>div:AFTER{content:' '}.enlighter-t-dracula div.enlighter>div.enlighter-special{background-color:#44475a}.enlighter-t-dracula.enlighter-linenumbers div.enlighter>div::before{font-size:1em;color:#6272a4}.enlighter-t-dracula .enlighter span{font-size:1.25em}.enlighter-t-dracula .enlighter-text{color:#f8f8f2}.enlighter-t-dracula .enlighter-c0{color:#6272a4}.enlighter-t-dracula .enlighter-c1{color:#6272a4}.enlighter-t-dracula .enlighter-c2{color:#6272a4}.enlighter-t-dracula .enlighter-c9{color:#6272a4}.enlighter-t-dracula .enlighter-k0{color:#ff79c6;font-weight:700}.enlighter-t-dracula .enlighter-k1{color:#8be9fd;font-weight:700}.enlighter-t-dracula .enlighter-k2{color:#ff79c6;font-weight:700}.enlighter-t-dracula .enlighter-k3{color:#ff79c6}.enlighter-t-dracula .enlighter-k4{color:#8be9fd}.enlighter-t-dracula .enlighter-k5{color:#8be9fd}.enlighter-t-dracula .enlighter-k6{color:#8be9fd}.enlighter-t-dracula .enlighter-k7{color:#ffb86c}.enlighter-t-dracula .enlighter-k8{color:#8be9fd}.enlighter-t-dracula .enlighter-k9{color:#50fa7b}.enlighter-t-dracula .enlighter-k10{color:#50fa7b}.enlighter-t-dracula .enlighter-k11{color:#6272a4}.enlighter-t-dracula .enlighter-e0{color:#bd93f9;font-weight:700}.enlighter-t-dracula .enlighter-e1{color:#bd93f9;font-weight:700}.enlighter-t-dracula .enlighter-e2{color:#f1fa8c}.enlighter-t-dracula .enlighter-e3{color:#bd93f9}.enlighter-t-dracula .enlighter-e4{color:#bd93f9;font-style:italic}.enlighter-t-dracula .enlighter-s0{color:#f1fa8c}.enlighter-t-dracula .enlighter-s1{color:#f1fa8c}.enlighter-t-dracula .enlighter-s2{color:#f1fa8c}.enlighter-t-dracula .enlighter-s3{color:#f1fa8c}.enlighter-t-dracula .enlighter-s4{color:#f1fa8c;font-weight:700}.enlighter-t-dracula .enlighter-s5{color:#f1fa8c;font-style:italic}.enlighter-t-dracula .enlighter-n0{color:#bd93f9}.enlighter-t-dracula .enlighter-n1{color:#bd93f9}.enlighter-t-dracula .enlighter-n2{color:#bd93f9}.enlighter-t-dracula .enlighter-n3{color:#bd93f9}.enlighter-t-dracula .enlighter-n4{color:#bd93f9}.enlighter-t-dracula .enlighter-n5{color:#bd93f9}.enlighter-t-dracula .enlighter-m0{color:#8be9fd}.enlighter-t-dracula .enlighter-m1{color:#8be9fd}.enlighter-t-dracula .enlighter-m2{color:#8be9fd}.enlighter-t-dracula .enlighter-m3{color:#8be9fd}.enlighter-t-dracula .enlighter-g0{color:#f8f8f2;font-weight:700}.enlighter-t-dracula .enlighter-g1{color:#f8f8f2;font-weight:700}.enlighter-t-dracula .enlighter-t0{color:#6272a4}.enlighter-t-dracula .enlighter-t1{color:#8be9fd;font-weight:700}.enlighter-t-dracula .enlighter-t2{color:#8be9fd;font-weight:700}.enlighter-t-dracula .enlighter-t3{color:#ff79c6}.enlighter-t-dracula .enlighter-t4{color:#ffb86c}.enlighter-t-dracula .enlighter-t5{color:#50fa7b}.enlighter-t-dracula .enlighter-t6{color:#f55}.enlighter-t-dracula .enlighter-t7{color:#f8f8f2;font-weight:700}.enlighter-t-dracula .enlighter-t8{color:#f8f8f2}.enlighter-t-dracula .enlighter-x1{color:#ff79c6;font-weight:700}.enlighter-t-dracula .enlighter-x2{color:#50fa7b}.enlighter-t-dracula .enlighter-x10{color:#f8f8f2;font-weight:700}.enlighter-t-dracula .enlighter-x11{color:#50fa7b;font-weight:700}.enlighter-t-dracula .enlighter-x12{color:#8be9fd;font-style:italic}.enlighter-t-dracula .enlighter-x13{color:#bd93f9}.enlighter-t-dracula .enlighter-x14{color:#bd93f9;font-style:italic}.enlighter-t-dracula .enlighter-x15{color:#ffb86c;font-style:italic}.enlighter-t-dracula.enlighter-v-codegroup .enlighter-codegroup-switch{background-color:#282a36;padding:10px}.enlighter-t-dracula.enlighter-v-codegroup .enlighter-codegroup-switch .enlighter-btn{background-image:none;background-color:transparent;color:#f8f8f2;font-size:1.15em;padding:2px 8px 2px 8px;margin:0 5px 0 5px;border:none;border-radius:4px;font-family:Arial,Helvetica,sans-serif}.enlighter-t-dracula.enlighter-v-codegroup .enlighter-codegroup-switch .enlighter-btn.enlighter-active{background-color:#44475a;color:#f8f8f2}\n",
       ".enlighter-t-monokai{background-color:#272822}.enlighter-t-monokai .enlighter-toolbar{top:10px;right:10px}.enlighter-t-monokai .enlighter-btn{background-image:none;background-color:#414339;color:#f8f8f2;font-size:1em;padding:2px 8px 2px 8px;margin:0 5px 0 5px;border:solid 1px #1e1f1c;font-family:\"Open Sans\",Arial,Verdana,sans-serif}.enlighter-t-monokai .enlighter-btn:hover{background-color:#4e5145}.enlighter-t-monokai .enlighter-toolbar .enlighter-btn-raw{background-image:none}.enlighter-t-monokai .enlighter-toolbar .enlighter-btn-raw:after{content:'Raw'}.enlighter-t-monokai .enlighter-toolbar .enlighter-btn-copy{background-image:none}.enlighter-t-monokai .enlighter-toolbar .enlighter-btn-copy:after{content:'Copy'}.enlighter-t-monokai .enlighter-toolbar .enlighter-btn-window{background-image:none}.enlighter-t-monokai .enlighter-toolbar .enlighter-btn-window:after{content:'Extern'}.enlighter-t-monokai .enlighter-toolbar .enlighter-btn-website{background-image:none}.enlighter-t-monokai .enlighter-toolbar .enlighter-btn-website:after{content:'EnlighterJS'}.enlighter-t-monokai.enlighter-hover div.enlighter>div:hover{background-color:#75715e}.enlighter-t-monokai .enlighter-raw{font-size:1.25em;color:#f8f8f2;line-height:1.85em;padding:4px 5px 4px 55px}.enlighter-t-monokai div.enlighter>div{padding:1px 5px 1px 14px;line-height:1.6em}.enlighter-t-monokai div.enlighter>div:FIRST-CHILD{padding-top:5px}.enlighter-t-monokai div.enlighter>div:LAST-CHILD{padding-bottom:5px}.enlighter-t-monokai div.enlighter>div:AFTER{content:' '}.enlighter-t-monokai div.enlighter>div.enlighter-special{background-color:#414339}.enlighter-t-monokai.enlighter-linenumbers div.enlighter>div::before{font-size:1em;color:grey}.enlighter-t-monokai .enlighter span{font-size:1.25em}.enlighter-t-monokai .enlighter-text{color:#f8f8f2}.enlighter-t-monokai .enlighter-c0{color:#75715e}.enlighter-t-monokai .enlighter-c1{color:#75715e}.enlighter-t-monokai .enlighter-c2{color:#75715e}.enlighter-t-monokai .enlighter-c9{color:#75715e}.enlighter-t-monokai .enlighter-k0{color:#f92672}.enlighter-t-monokai .enlighter-k1{color:#f92672}.enlighter-t-monokai .enlighter-k2{color:#f92672}.enlighter-t-monokai .enlighter-k3{color:#f92672}.enlighter-t-monokai .enlighter-k4{color:#f92672}.enlighter-t-monokai .enlighter-k5{color:#f92672}.enlighter-t-monokai .enlighter-k6{color:#f92672}.enlighter-t-monokai .enlighter-k7{color:#f8f8f2}.enlighter-t-monokai .enlighter-k8{color:#f92672}.enlighter-t-monokai .enlighter-k9{color:#fd971f}.enlighter-t-monokai .enlighter-k10{color:#f92672}.enlighter-t-monokai .enlighter-k11{color:#75715e}.enlighter-t-monokai .enlighter-e0{color:#ae81ff}.enlighter-t-monokai .enlighter-e1{color:#ae81ff}.enlighter-t-monokai .enlighter-e2{color:#ae81ff}.enlighter-t-monokai .enlighter-e3{color:#ae81ff}.enlighter-t-monokai .enlighter-e4{color:#ae81ff}.enlighter-t-monokai .enlighter-s0{color:#e6db74}.enlighter-t-monokai .enlighter-s1{color:#e6db74}.enlighter-t-monokai .enlighter-s2{color:#e6db74}.enlighter-t-monokai .enlighter-s3{color:#e6db74}.enlighter-t-monokai .enlighter-s4{color:#e6db74;font-weight:700}.enlighter-t-monokai .enlighter-s5{color:#e6db74;font-style:italic}.enlighter-t-monokai .enlighter-n0{color:#ae81ff}.enlighter-t-monokai .enlighter-n1{color:#ae81ff}.enlighter-t-monokai .enlighter-n2{color:#ae81ff}.enlighter-t-monokai .enlighter-n3{color:#ae81ff}.enlighter-t-monokai .enlighter-n4{color:#ae81ff}.enlighter-t-monokai .enlighter-n5{color:#ae81ff}.enlighter-t-monokai .enlighter-m0{color:#66d9ef}.enlighter-t-monokai .enlighter-m1{color:#66d9ef}.enlighter-t-monokai .enlighter-m2{color:#66d9ef}.enlighter-t-monokai .enlighter-m3{color:#66d9ef}.enlighter-t-monokai .enlighter-g0{color:#f8f8f2;font-weight:700}.enlighter-t-monokai .enlighter-g1{color:#f8f8f2;font-weight:700}.enlighter-t-monokai .enlighter-t0{color:#f8f8f2}.enlighter-t-monokai .enlighter-t1{color:#a6e22e}.enlighter-t-monokai .enlighter-t2{color:#a6e22e}.enlighter-t-monokai .enlighter-t3{color:#e6db74}.enlighter-t-monokai .enlighter-t4{color:#e6db74}.enlighter-t-monokai .enlighter-t5{color:#a6e22e}.enlighter-t-monokai .enlighter-t6{color:#f92672}.enlighter-t-monokai .enlighter-t7{color:#f92672}.enlighter-t-monokai .enlighter-t8{color:#75715e}.enlighter-t-monokai .enlighter-x1{color:#f92672}.enlighter-t-monokai .enlighter-x2{color:#a6e22e}.enlighter-t-monokai .enlighter-x10{color:#a6e22e}.enlighter-t-monokai .enlighter-x11{color:#a6e22e}.enlighter-t-monokai .enlighter-x12{color:#66d9ef;font-style:italic}.enlighter-t-monokai .enlighter-x13{color:#f92672}.enlighter-t-monokai .enlighter-x14{color:#ae81ff}.enlighter-t-monokai .enlighter-x15{color:#a6e22e}.enlighter-t-monokai.enlighter-v-codegroup .enlighter-codegroup-switch{background-color:#414339;padding:10px 10px 0 30px}.enlighter-t-monokai.enlighter-v-codegroup .enlighter-codegroup-switch .enlighter-btn{background-image:none;background-color:#414339;color:#f8f8f2;font-size:1.15em;padding:2px 8px 2px 8px;margin:0 10px 0 10px;border:none;line-height:2.1em;border-radius:0;font-style:italic}.enlighter-t-monokai.enlighter-v-codegroup .enlighter-codegroup-switch .enlighter-btn.enlighter-active{background-color:#272822;color:#f8f8f2;font-weight:700;font-style:normal}</style><style>/*\n",
       " * Copyright (c) 2016 - present\n",
       " * QuantumBlack Visual Analytics Ltd (a McKinsey company).\n",
       " * All rights reserved.\n",
       " *\n",
       " * This software framework contains the confidential and proprietary information\n",
       " * of QuantumBlack, its affiliates, and its licensors. Your use of these\n",
       " * materials is governed by the terms of the Agreement between your organisation\n",
       " * and QuantumBlack, and any unauthorised use is forbidden. Except as otherwise\n",
       " * stated in the Agreement, this software framework is for your internal use\n",
       " * only and may only be shared outside your organisation with the prior written\n",
       " * permission of QuantumBlack.\n",
       " */\n",
       "\n",
       ".enlighter-default {\n",
       "    font-size: 14px;\n",
       "    margin: 0;\n",
       "    max-height: 500px;\n",
       "    overflow-y: auto;\n",
       "}\n",
       ".enlighter-default .enlighter-btn-window,\n",
       ".enlighter-default .enlighter-btn-website {\n",
       "    display: none;\n",
       "}\n",
       ".enlighter-t-enlighter {\n",
       "    border-radius: 0;\n",
       "}\n",
       "div.enlighter>div:FIRST-CHILD::before,\n",
       "div.enlighter>div:LAST-CHILD::before {\n",
       "    border-radius: 0 !important;\n",
       "}\n",
       "</style><script>/*! EnlighterJS Syntax Highlighter 3.4.0 | Mozilla Public License 2.0 | https://enlighterjs.org */\n",
       "var EnlighterJS=function(e){\"use strict\";var c={indent:4,ampersandCleanup:!0,linehover:!0,rawcodeDbclick:!1,textOverflow:\"break\",collapse:!1,retainCssClasses:!1,cssClasses:\"\",toolbarOuter:\"{BTN_TABS}\",toolbarTop:\"{BTN_RAW}{BTN_COPY}{BTN_WINDOW}{BTN_WEBSITE}\",toolbarBottom:\"{BTN_COLLAPSE}\",linenumbers:!0,lineoffset:0,highlight:\"\",layout:\"standard\",language:\"generic\",theme:\"enlighter\",title:\"\"};function r(e,t){if(!(e instanceof t))throw new TypeError(\"Cannot call a class as a function\")}function n(e,t){for(var r=0;r<t.length;r++){var n=t[r];n.enumerable=n.enumerable||!1,n.configurable=!0,\"value\"in n&&(n.writable=!0),Object.defineProperty(e,n.key,n)}}function i(e,t,r){return t&&n(e.prototype,t),r&&n(e,r),e}function a(e,t){if(\"function\"!=typeof t&&null!==t)throw new TypeError(\"Super expression must either be null or a function\");e.prototype=Object.create(t&&t.prototype,{constructor:{value:e,writable:!0,configurable:!0}}),t&&o(e,t)}function s(e){return(s=Object.setPrototypeOf?Object.getPrototypeOf:function(e){return e.__proto__||Object.getPrototypeOf(e)})(e)}function o(e,t){return(o=Object.setPrototypeOf||function(e,t){return e.__proto__=t,e})(e,t)}function l(){if(\"undefined\"==typeof Reflect||!Reflect.construct)return!1;if(Reflect.construct.sham)return!1;if(\"function\"==typeof Proxy)return!0;try{return Date.prototype.toString.call(Reflect.construct(Date,[],function(){})),!0}catch(e){return!1}}function g(e,t,r){return(g=l()?Reflect.construct:function(e,t,r){var n=[null];n.push.apply(n,t);var i=new(Function.bind.apply(e,n));return r&&o(i,r.prototype),i}).apply(null,arguments)}function u(e,t){return!t||\"object\"!=typeof t&&\"function\"!=typeof t?function(e){if(void 0===e)throw new ReferenceError(\"this hasn't been initialised - super() hasn't been called\");return e}(e):t}function p(r){var n=l();return function(){var e,t=s(r);return u(this,n?(e=s(this).constructor,Reflect.construct(t,arguments,e)):t.apply(this,arguments))}}function y(e,t,r){return(y=\"undefined\"!=typeof Reflect&&Reflect.get?Reflect.get:function(e,t,r){var n=function(e,t){for(;!Object.prototype.hasOwnProperty.call(e,t)&&null!==(e=s(e)););return e}(e,t);if(n){var i=Object.getOwnPropertyDescriptor(n,t);return i.get?i.get.call(r):i.value}})(e,t,r||e)}function f(e){return function(e){if(Array.isArray(e))return d(e)}(e)||function(e){if(\"undefined\"!=typeof Symbol&&Symbol.iterator in Object(e))return Array.from(e)}(e)||b(e)||function(){throw new TypeError(\"Invalid attempt to spread non-iterable instance.\\nIn order to be iterable, non-array objects must have a [Symbol.iterator]() method.\")}()}function b(e,t){if(e){if(\"string\"==typeof e)return d(e,t);var r=Object.prototype.toString.call(e).slice(8,-1);return\"Object\"===r&&e.constructor&&(r=e.constructor.name),\"Map\"===r||\"Set\"===r?Array.from(e):\"Arguments\"===r||/^(?:Ui|I)nt(?:8|16|32)(?:Clamped)?Array$/.test(r)?d(e,t):void 0}}function d(e,t){(null==t||t>e.length)&&(t=e.length);for(var r=0,n=new Array(t);r<t;r++)n[r]=e[r];return n}var h={sqStrings:{regex:/('(?:[^'\\\\]|\\\\.)*')/g,type:\"s0\"},dqStrings:{regex:/\"(?:[^\"\\\\]|\\\\.)*\"/g,type:\"s0\"},bqStrings:{regex:/`(?:[^`\\\\]|\\\\.)*`/g,type:\"s0\"},char:{regex:/('(\\\\.|.|\\\\\\w+)')/g,type:\"s1\"},slashComments:{regex:/(?:^|[^\\\\])\\/\\/.*$/gm,type:\"c0\"},poundComments:{regex:/(?:^|[^\\\\])#.*$/gm,type:\"c0\"},blockComments:{regex:/\\/\\*[\\s\\S]*?\\*\\//g,type:\"c1\"},docComments:{regex:/\\/\\*\\*[\\s\\S]*?\\*\\//g,type:\"c2\"},heredoc:{regex:/(<<[<-]?\\s*?(['\"]?)([A-Z0-9_]+)\\2\\s*\\n[\\s\\S]*?\\n\\3)/gi,type:\"s5\"},brackets:{regex:/[[\\](){}<>]+/g,type:\"g1\"},floats:{regex:/[\\b\\W](-?((?:\\d+\\.\\d+|\\.\\d+|\\d+\\.)(?:e[+-]?\\d+)?)|\\d+(?:e[+-]?\\d+))/gi,type:\"n0\"},complex:{regex:/[\\b\\W](?:-?(?:(?:\\d+\\.\\d+|\\.\\d+|\\d+\\.|\\d+)(?:e[+-]?\\d+)?)|\\d+(?:e[+-]?\\d+))[ij]/gi,type:\"n5\"},int:{regex:/[\\b\\W](-?\\d+)(?!\\.)\\b/g,type:\"n1\"},hex:{regex:/[\\b\\W](-?0x[A-F0-9]+)\\b/gi,type:\"n2\"},bin:{regex:/[\\b\\W](-?0b[01]+)\\b/gi,type:\"n3\"},octal:{regex:/[\\b\\W](-?0[0-7]+)(?!\\.)\\b/g,type:\"n4\"},prop:{regex:/[\\w\\])]\\.(\\w+)\\b/g,type:\"m3\"},fCalls:{regex:/\\b([\\w]+)\\s*\\(/gm,type:\"m0\"},mCalls:{regex:/\\.([\\w]+)\\s*\\(/gm,type:\"m1\"},boolean:{regex:/\\b(true|false)\\b/gi,type:\"e0\"},null:{regex:/\\b(null)\\b/gi,type:\"e1\"}};function C(e,t,r,n,i){return{text:e,type:t,index:n||0,end:e.length+n,filter:r||null,priority:i||0}}function m(e,t,r){for(var n=2<arguments.length&&void 0!==r?r:\"text\",i=[],a=0,s=0;s<t.length;s++){var o=t[s];if(!o||!o.type||!o.regex)return;for(var l=void 0;null!=(l=o.regex.exec(e));){if(5e4<++a)throw new Error(\"Infinite tokenizer loop detected; more than 50k tokens - language rule [\"+s+\"] \"+o.regex+\" seems to be broken\");if(0!=l[0].length){o.regex.lastIndex=l.index+1+l[0].length/3;var g=Array.isArray(o.type)?o.type[0]:o.type,u=(Array.isArray(o.filter)?o.filter[0]:o.filter)||null;if(1<l.length)for(var p,c,y,f=0,b=1;b<l.length;b++){l[b]&&(p=Array.isArray(o.type)&&o.type.length>=b?o.type[b-1]:g,c=Array.isArray(o.filter)&&o.filter.length>=b?o.filter[b-1]:u,f=y=l[0].indexOf(l[b],f),i.push(C(l[b],p,c,l.index+y,s)))}else i.push(C(l[0],g,u,l.index,s))}}}i=i.sort(function(e,t){return e.index==t.index?e.priority<t.priority?-1:1:e.index<t.index?-1:1});for(var d=[],h=0,m=0;m<i.length;m++){if(h<i[m].index&&d.push(C(e.substring(h,i[m].index),n,null,h)),i[m].filter)for(var x=i[m].filter(i[m])||[],k=0;k<x.length;k++)d.push(x[k]);else d.push(i[m]);h=i[m].end;for(var v=!1,w=m+1;w<i.length;w++)if(i[w].index>=h){m=w-1,v=!0;break}if(!1===v)break}return h<e.length&&d.push(C(e.substring(h),n,null,h)),d}var x=function(){function e(){r(this,e),this.rules=[],this.setupLanguage()}return i(e,[{key:\"setupLanguage\",value:function(){this.rules=[h.sqStrings,h.dqStrings,h.prop,h.slashComments,h.poundComments,h.blockComments,h.brackets,{regex:/\\W(true|false|null|nil|if|then|else|for|while|do|class|implements|extends|function|end|void|return|in|of|new|this|try|catch|def|except)\\W/gi,type:\"k1\"},h.mCalls,h.fCalls,h.octal,h.bin,h.hex,h.floats,h.int,{regex:/[\\b\\s]([$&|~*:;]+)[\\b\\s]/g,type:\"g0\"}]}},{key:\"analyze\",value:function(e){return m(e,this.rules)}}]),e}(),t=function(){a(t,x);var e=p(t);function t(){return r(this,t),e.apply(this,arguments)}return i(t,[{key:\"setupLanguage\",value:function(){this.rules=[h.sqStrings,{regex:/\\|.*?\\|/g,type:\"s2\"},{regex:/(\".*)$/gm,type:\"c0\"},{regex:/^\\s*(\\*.*)$/gm,type:\"c0\"},{regex:/(data):?\\s*(\\w+)\\s*/gi,type:[\"k2\",\"k7\"]},{regex:/(type)\\s+(\\w+)\\s*/gi,type:[\"k2\",\"k5\"]},{regex:/\\b(abap_true|abap_false)\\b/gi,type:\"e0\"},{regex:/\\b(abap_undefined)\\b/gi,type:\"e1\"},{regex:/\\b[A-Z_][A-Za-z0-9_]*\\b/g,type:\"k0\"},h.fCalls,h.int,h.brackets]}}]),t}();function k(e,t,r){for(var n,i=[],a=0;null!=(n=t.exec(e.text));){a<n.index&&i.push(C(e.text.substring(a,n.index),e.type,null,a));for(var s=r(n,e.type)||[],o=0;o<s.length;o++)i.push(s[o]);a=n.index+n[0].length,t.lastIndex=a}return 0==i.length?[e]:(a<e.text.length&&i.push(C(e.text.substring(a),e.type,null,a)),i)}var v=function(){a(t,x);var e=p(t);function t(){return r(this,t),e.apply(this,arguments)}return i(t,[{key:\"setupLanguage\",value:function(){this.rules=[h.dqStrings,h.poundComments,{regex:/(<)([A-Z:_][A-Z0-9:.-]*)([\\s\\S]*?)(\\/?>)/gi,type:[\"g1\",\"x1\",\"text\",\"g1\"],filter:[null,null,function(e){return k(e,h.dqStrings.regex,function(e){return[C(e[0],\"s0\")]})},null]},{regex:/(<\\/)([A-Z:_][A-Z0-9:.-]*\\s*)(>)/gi,type:[\"g1\",\"x1\",\"g1\"]},{regex:/^\\s*([A-Z]\\w+)\\b/gm,type:\"k0\"},{regex:/%\\{\\w+\\}/g,type:\"k7\"},{regex:/\\b(on|off)\\b/gi,type:\"e0\"},h.int]}}],[{key:\"alias\",value:function(){return[\"apacheconf\",\"httpd\"]}}]),t}(),w=function(){a(t,x);var e=p(t);function t(){return r(this,t),e.apply(this,arguments)}return i(t,[{key:\"setupLanguage\",value:function(){this.rules=[{regex:/(;.*)$/gm,type:\"co0\"},{regex:/(\\$.*)$/gm,type:\"k4\"},h.sqStrings,h.dqStrings,{regex:/(^|:)\\s*?(\\w+)\\s+/gm,type:\"k0\"},{regex:/^\\s*?([A-Z?_][A-Z0-9?_]+:)\\s*?/gim,type:\"k6\"},{regex:/@\\w+/gi,type:\"k9\"},{regex:/#\\w+/gi,type:\"k9\"},{regex:/[A-F0-9][A-F0-9$]+?H/gi,type:\"n2\"},{regex:/\\d[\\d$]+?D/gi,type:\"n1\"},{regex:/[01][01$]+?B/gi,type:\"n3\"},{regex:/[0-7][0-7$]+?(?:Q|O)/gi,type:\"nu4\"},{regex:/(0x[A-F0-9]+|\\$[A-F0-9]+)/gi,type:\"n2\"},{regex:/(0b[01]+)/g,type:\"n3\"},{regex:/\\b(\\d+)/g,type:\"n1\"},h.fCalls]}}],[{key:\"alias\",value:function(){return[\"asm\"]}}]),t}(),S=function(){a(t,x);var e=p(t);function t(){return r(this,t),e.apply(this,arguments)}return i(t,[{key:\"setupLanguage\",value:function(){this.rules=[{regex:/(;.*)$/gm,type:\"co0\"},h.sqStrings,h.dqStrings,{regex:/^\\s*?\\.\\w+\\s+/gm,type:\"kw4\"},{regex:/\\b(r\\d{1,2})/gi,type:\"kw0\"},{regex:/(@[0-9])/gi,type:\"k2\"},{regex:/^\\s*?(\\w+:)\\s*?/gm,type:\"kw6\"},{regex:/(^|:)\\s*?(\\w+)\\s+/gm,type:\"kw0\"},{regex:/(0x[A-F0-9]+|\\$[A-F0-9]+)/gi,type:\"nu2\"},h.bin,h.int,h.fCalls,{regex:/\\b[A-Z]{2,}[0-9]?[0-9]?\\b/g,type:\"kw9\"}]}}],[{key:\"alias\",value:function(){return[\"avrasm\"]}}]),t}(),_=function(){a(t,x);var e=p(t);function t(){return r(this,t),e.apply(this,arguments)}return i(t,[{key:\"setupLanguage\",value:function(){this.rules=[h.dqStrings,h.char,{regex:/@[\\W\\w_][\\w]+/gm,type:\"k11\"},h.boolean,h.null,h.prop,{regex:/#.*$/gm,type:\"k4\"},{regex:/\\b(break|case|catch|continue|do|else|for|if|goto|switch|try|throw|while)\\b/g,type:\"k1\"},{regex:/\\b(__[A-Z][A-Z0-9_]+__|__cplusplus)\\b/g,type:\"e3\"},{regex:/\\b(\\w+\\d+?_t)\\b/g,type:\"k5\"},{regex:/\\b(bool|char|double|float|int|long|short|void)\\b/g,type:\"k5\"},{regex:/\\b(enum|struct|typedef|union)\\b/g,type:\"k2\"},{regex:/\\b(const|volatile|unsigned|signed|restrict)\\b/g,type:\"k8\"},{regex:/\\b(asm|auto|class|auto|default|explicit|export|extern|friend|inline|thread_local|static_assert|nullptr|noexcept|friend|decltype|constexpr|alignof|alignas|virtual|using|typename|typeid|this|template|static|return|register|public|protected|private|operator|namespace|mutable|inline)\\b/g,type:\"k0\"},{regex:/\\b(new|delete|cast|const_cast|dynamic_cast|static_cast|reinterpret_cast|sizeof|and|bitand|and_eq|not|not_eq|or|bitor|or_eq|xor|xor_eq|compl)\\b/g,type:\"k3\"},h.mCalls,h.fCalls,h.slashComments,h.blockComments,h.octal,h.bin,h.hex,h.floats,h.brackets]}}],[{key:\"alias\",value:function(){return[\"c++\",\"c\"]}}]),t}(),E=function(){a(t,x);var e=p(t);function t(){return r(this,t),e.apply(this,arguments)}return i(t,[{key:\"setupLanguage\",value:function(){this.rules=[{regex:/\\$(\"(?:[^\"\\\\]|\\\\.)*\")/g,type:\"s0\",filter:function(e){return k(e,/\\{.*?}/g,function(e){return[C(e[0],\"s3\")]})}},h.dqStrings,h.char,h.null,h.boolean,h.prop,{regex:/\\b(bool|byte|char|decimal|double|float|int|long|sbyte|short|uint|ulong|ushort|void)\\b/g,type:\"k5\"},{regex:/\\b(while|try|throw|switch|if|goto|foreach|for|finally|else|do|continue|catch|case|break)\\b/g,type:\"k1\"},{regex:/^((?:using|namespace)\\s+)(\\w[\\w._]+[;{\\n])/gm,type:[\"k0\",\"k10\"]},{regex:/\\b(enum|struct|var)\\b/g,type:\"k2\"},{regex:/\\b(const|in|out)\\b/g,type:\"k8\"},{regex:/\\b(using|volatile|virtual|using|unsafe|unchecked|static|stackalloc|sealed|return|ref|readonly|public|protected|private|params|override|operator|object|namespace|lock|is|internal|interface|implicit|fixed|extern|explicit|event|delegate|default|class|checked|base|as|abstract)\\b/g,type:\"k0\"},{regex:/\\b(add|alias|ascending|async|await|by|descending|dynamic|equals|from|get|global|group|into|join|let|nameof|on|orderby|partial|remove|select|set|unmanaged|value|var|when|where|yield)\\b/g,type:\"k0\"},{regex:/\\b(this)\\b/g,type:\"k9\"},{regex:/\\b(new|sizeof|typeof)\\b/g,type:\"k3\"},h.fCalls,h.mCalls,h.slashComments,h.blockComments,h.docComments,h.int,h.floats,h.bin,h.hex,h.octal,h.brackets]}}],[{key:\"alias\",value:function(){return[\"c#\"]}}]),t}(),A={pseudoElements:{regex:/[\\w\\])](::?[\\w-]+)\\b/g,type:\"x15\"},idSelector:{regex:/(#[\\w-]+)/g,type:\"x10\"},classSelector:{regex:/(\\.[\\w-]+)/g,type:\"x11\"},elementSelector:{regex:/\\b([\\w-]+)/g,type:\"x16\"}},L=function(){a(t,x);var e=p(t);function t(){return r(this,t),e.apply(this,arguments)}return i(t,[{key:\"setupLanguage\",value:function(){var t=[A.pseudoElements,A.idSelector,A.classSelector,A.elementSelector,h.dqStrings,h.sqStrings];this.rules=[{regex:/(?:^|}|\\*\\/|;|{)\\s*([^{};/]+?)\\s*{/g,type:\"text\",filter:function(e){return m(e.text,t)}},h.dqStrings,h.sqStrings,{regex:/\\W@(charset|import|namespace|page|font-face|keyframes|viewport|document|supports)\\b/gi,type:\"k4\"},{regex:/(url\\s*)(\\(.*?\\))/gi,type:[\"m0\",\"s0\"]},{regex:/(#[a-z0-9]+)\\W/gi,type:\"x14\"},{regex:/(-?\\.?\\d+[.\\d]*(%|[a-z]{2,4})?)/gim,type:\"x13\"},{regex:/([\\w-]+)\\s*:/g,type:\"x12\"},h.blockComments,h.brackets]}}],[{key:\"alias\",value:function(){return[\"styles\"]}}]),t}(),q=function(){a(t,x);var e=p(t);function t(){return r(this,t),e.apply(this,arguments)}return i(t,[{key:\"setupLanguage\",value:function(){this.rules=[{regex:/^(\"\"\"[\\s\\S]*?\"\"\"|'''[\\s\\S]*?''')/gm,type:\"c9\"},{regex:/(\"\"\"[\\s\\S]*?\"\"\"|'''[\\s\\S]*?''')/g,type:\"s5\"},h.dqStrings,h.sqStrings,{regex:/\\b(__[a-z]+__)\\b/g,type:\"e3\"},{regex:/[^;]\\s*(from\\s+)([\\w.]+)(\\s+import)/gi,type:[\"k0\",\"k10\",\"k0\"]},{regex:/\\b(raise|while|try|if|for|finally|else|elif|continue|break)\\b/g,type:\"k1\"},{regex:/\\b(yield|with|return|pass|lambda|is|in|import|global|from|except|def|class|assert|as|async|await)\\b/g,type:\"k0\"},{regex:/\\b(and|or|not|del)\\b/g,type:\"k3\"},{regex:/\\b(True|False)\\b/g,type:\"e0\"},{regex:/\\b(None)\\b/g,type:\"e1\"},h.mCalls,h.fCalls,h.poundComments,h.int,h.hex,h.floats,h.octal,h.brackets]}}],[{key:\"alias\",value:function(){return[\"py\"]}}]),t}(),I=function(){a(t,q);var e=p(t);function t(){return r(this,t),e.apply(this,arguments)}return i(t,[{key:\"setupLanguage\",value:function(){y(s(t.prototype),\"setupLanguage\",this).call(this);this.rules=[{regex:/\\b(bool|char|double|float|int|long|short|void)\\b/g,type:\"k5\"},{regex:/\\b(enum|struct|typedef|union|object)\\b/g,type:\"k2\"},{regex:/\\b(const|volatile|unsigned|signed|restrict)\\b/g,type:\"k8\"},{regex:/\\b(readonly|extern|namespace|public|privat|include|cimport|pyximport|cythonize|cdef|cpdef|ctypedef|property|IF|ELIF|ELSE|DEF)\\b/g,type:\"k0\"}].concat(this.rules)}}]),t}(),W=function(){a(t,x);var e=p(t);function t(){return r(this,t),e.apply(this,arguments)}return i(t,[{key:\"setupLanguage\",value:function(){this.rules=[h.poundComments,h.brackets,{regex:/\\[(\\w+)\\]/gm,type:\"k9\"},{regex:/\\{([\\w_-]+)\\s*(?::\\s*(.*?))?}/gm,type:[\"k7\",\"s0\"]}]}}]),t}(),N=function(){a(t,x);var e=p(t);function t(){return r(this,t),e.apply(this,arguments)}return i(t,[{key:\"setupLanguage\",value:function(){this.rules=[{regex:/^([+-]{3}.*)$/gm,type:\"c0\"},{regex:/^(@@.*@@\\s*)/gm,type:\"t2\"},{regex:/^(\\+.*)/gm,type:\"t5\"},{regex:/^(-.*)/gm,type:\"t6\"}]}}]),t}(),D=function(){a(t,x);var e=p(t);function t(){return r(this,t),e.apply(this,arguments)}return i(t,[{key:\"setupLanguage\",value:function(){this.rules=[h.dqStrings,{regex:/\\$\\{\\w+\\}/gi,type:\"k7\"},{regex:/ARG\\s+(\\w+)(?:(=)(.*?)$)?/gim,type:[\"k7\",\"k3\",\"s0\"]},{regex:/ENV\\s+(\\w+)(?:(\\s+|=)(.*?)$)?/gim,type:[\"k7\",\"k3\",\"s0\"]},{regex:/(?:^|[^\\\\])#\\s*\\w+=.*$/gm,type:\"k4\"},h.poundComments,{regex:/^([a-z]+)\\b/gim,type:\"k0\"},{regex:/\\b(AS)\\b/gi,type:\"k0\"},{regex:/^\\s+(&&)/gim,type:\"k3\"},h.brackets]}}],[{key:\"alias\",value:function(){return[\"docker\"]}}]),t}(),$=function(){a(t,x);var e=p(t);function t(){return r(this,t),e.apply(this,arguments)}return i(t,[{key:\"setupLanguage\",value:function(){this.rules=[h.dqStrings,h.bqStrings,h.char,h.boolean,{regex:/\\b(nil)\\b/gi,type:\"e1\"},h.prop,{regex:/\\b(var)\\b/g,type:\"k2\"},{regex:/\\b(case|break|default|else|goto|switch|if|continue|for)\\b/g,type:\"k1\"},{regex:/\\b(func|interface|select|defer|go|map|chan|package|fallthrough|range|import|return)\\b/g,type:\"k0\"},{regex:/\\b(iota)\\b/g,type:\"k9\"},{regex:/\\b(bool|string|u?int(8|16|32|64)?|uintptr|byte|rune|float32|float64|complex64|complex128)\\b/g,type:\"k5\"},{regex:/\\b(struct|type)\\b/g,type:\"k2\"},{regex:/\\b(const)\\b/g,type:\"k8\"},h.mCalls,h.fCalls,h.slashComments,h.octal,h.int,h.complex,h.floats,h.hex,h.brackets]}}],[{key:\"alias\",value:function(){return[\"golang\"]}}]),t}(),O=function(){a(t,x);var e=p(t);function t(){return r(this,t),e.apply(this,arguments)}return i(t,[{key:\"setupLanguage\",value:function(){this.rules=[{regex:/(\"\"\"[\\s\\S]*?\"\"\"|'''[\\s\\S]*?''')/g,type:\"s5\"},h.dqStrings,h.sqStrings,h.char,h.slashComments,h.blockComments,h.docComments,{regex:/(\\/(?:[^/\\\\]|\\\\.)*\\/)/g,type:\"s5\"},h.prop,{regex:/\\b(byte|char|short|int|long|float|double|String)\\b/g,type:\"k5\"},{regex:/\\b(break|case|catch|continue|default|do|else|finally|for|goto|if|switch|throw|try|while)\\b/g,type:\"k1\"},{regex:/^(package|import)(\\s+[\\w.]+)/gm,type:[\"k0\",\"k10\"]},{regex:/\\b(const|enum|def)\\b/g,type:\"k2\"},{regex:/\\b(as|assert|class|extends|goto|implements|in|interface|return|thows|trait)\\b/g,type:\"k0\"},{regex:/\\b(this|super)\\b/g,type:\"k9\"},{regex:/\\b(instanceof|new)\\b/g,type:\"k3\"},h.fCalls,h.mCalls,h.null,h.boolean,{regex:/^#.*/g,type:\"k9\"},{regex:/[\\b\\W](-?0[0-7][0-7_]+[GLIDF]?)\\b/gi,type:\"n4\"},{regex:/[\\b\\W](-?\\d[\\d_]*[GLIDF]?)(?!\\.)\\b/gi,type:\"n1\"},{regex:/[\\b\\W](-?0x[A-F0-9][A-F0-9_]+[GLIDF]?)\\b/gi,type:\"n2\"},{regex:/[\\b\\W](-?0b[01][01_]+[GLIDF]?)\\b/gi,type:\"n3\"},{regex:/(-?((?:\\d+\\.\\d+|\\.\\d+|\\d+\\.)(?:e[+-]?\\d+)?)|\\d+(?:e[+-]?\\d+)?)/gi,type:\"n0\"},h.brackets]}}]),t}(),T=function(){a(t,x);var e=p(t);function t(){return r(this,t),e.apply(this,arguments)}return i(t,[{key:\"setupLanguage\",value:function(){this.rules=[h.dqStrings,{regex:/(;.*)$/gm,type:\"c0\"},h.poundComments,{regex:/^\\s*?(\\[.*])\\s*?$/gm,type:\"t2\"},{regex:/^(\\s*?[a-z0-9._-]+\\s*?)(=)/gim,type:[\"k2\",\"k3\"]},{regex:/\\b(true|false|on|off|yes|no)\\b/gim,type:\"e0\"},h.octal,h.bin,h.hex,h.floats,h.brackets]}}],[{key:\"alias\",value:function(){return[\"conf\",\"cnf\"]}}]),t}(),R=function(){a(t,x);var e=p(t);function t(){return r(this,t),e.apply(this,arguments)}return i(t,[{key:\"setupLanguage\",value:function(){this.rules=[h.dqStrings,h.char,{regex:/@[\\W\\w_][\\w]+/gm,type:\"k11\"},h.prop,{regex:/\\b(boolean|byte|char|short|int|long|float|double|String|void|Integer|Double|BigInt|Float|Boolean|Byte|Char|Long)\\b/g,type:\"k5\"},{regex:/\\b(while|try|catch|case|else|throw|break|if|do|goto|switch|for|continue)\\b/g,type:\"k1\"},{regex:/^(package|import)(\\s+[\\w.]+)/gm,type:[\"k0\",\"k10\"]},{regex:/\\b(enum)\\b/g,type:\"k2\"},{regex:/\\b(const)\\b/g,type:\"k8\"},{regex:/\\b(native|volatile|strictfp|finally|class|static|interface|final|extends|transient|return|throws|public|protected|implements|private|synchronized|default|assert|abstract)\\b/g,type:\"k0\"},{regex:/\\b(this|super)\\b/g,type:\"k9\"},{regex:/\\b(instanceof|new)\\b/g,type:\"k3\"},h.fCalls,h.mCalls,h.null,h.boolean,h.slashComments,h.blockComments,h.docComments,h.int,h.floats,h.bin,h.hex,h.octal,h.brackets]}}]),t}(),F=function(){a(t,x);var e=p(t);function t(){return r(this,t),e.apply(this,arguments)}return i(t,[{key:\"setupLanguage\",value:function(){function e(e){return k(e,/\\\\(x[A-F0-9]{2}|u[A-F0-9]{4}|.)/gi,function(e){return[C(e[0],\"s4\")]})}this.rules=[{regex:h.sqStrings.regex,type:\"s0\",filter:e},{regex:h.dqStrings.regex,type:\"s0\",filter:e},{regex:/`(?:[^`\\\\]|\\\\.)*`/g,type:\"s2\",filter:function(e){return k(e,/\\$\\{.*?}/g,function(e){return[C(e[0],\"s3\")]})}},h.boolean,h.null,h.prop,{regex:/\\b(var|let|enum|const)\\b/g,type:\"k2\"},{regex:/\\b(document|window|console)\\b/g,type:\"k9\"},{regex:/\\b(break|case|catch|continue|do|else|finally|for|if|switch|try|while|throw)\\b/g,type:\"k1\"},{regex:/\\b(as|async|class|constructor|debugger|default|export|extends|function|import|return|with|yield|implements|package|protected|static|interface|private|public|await|module)\\b/g,type:\"k0\"},{regex:/\\b(this|super)\\b/g,type:\"k9\"},{regex:/\\b(instanceof|new|delete|typeof|void|in)\\b/g,type:\"k3\"},{regex:/\\W(=>)\\W/g,type:\"k3\"},h.slashComments,h.blockComments,{regex:/\\W(\\/(?:[^/\\\\]|\\\\.)*\\/\\w*)/g,type:\"e2\"},h.mCalls,h.fCalls,{regex:/\\{|}|\\(|\\)|\\[|]/g,type:\"g1\"},{regex:/[\\b\\W](-?0o[0-7]+)(?!\\.)\\b/g,type:\"n4\"},h.bin,h.hex,h.floats,h.int]}}],[{key:\"alias\",value:function(){return[\"js\"]}}]),t}(),j=function(){a(t,x);var e=p(t);function t(){return r(this,t),e.apply(this,arguments)}return i(t,[{key:\"setupLanguage\",value:function(){this.rules=[{regex:/\"(?:[^\"\\\\]|\\\\.)*\"\\s*:/g,type:\"k2\"},h.dqStrings,h.boolean,h.null,{regex:/\\{|}|\\(|\\)|\\[|]/g,type:\"g1\"},h.int,h.floats,{regex:/,|:/g,type:\"g0\"}]}}]),t}(),z=function(){a(t,x);var e=p(t);function t(){return r(this,t),e.apply(this,arguments)}return i(t,[{key:\"setupLanguage\",value:function(){function e(e){return k(e,/\\$(?:\\{.*?}|\\w+)/g,function(e){return[C(e[0],\"s3\")]})}this.rules=[{regex:/\"\"\"[\\s\\S]*?\"\"\"/g,type:\"s5\",filter:e},{regex:h.dqStrings.regex,type:\"s0\",filter:e},h.char,h.prop,{regex:/\\b(Double|Float|Long|Int|Short|Byte|Any|String|Array)\\b/g,type:\"k5\"},{regex:/\\b(break|continue|do|else|for|if|throw|try|when|while|catch|finally)\\b/g,type:\"k1\"},{regex:/^(package|import)(\\s+[\\w.]+)/gm,type:[\"k0\",\"k10\"]},{regex:/\\b(enum|typealias|object|companion|val|var)\\b/g,type:\"k2\"},{regex:/\\b(actual|abstract|annotation|companion|crossinline|data|expect|external|final|infix|inline|inner|internal|lateinit|noinline|open|operator|out|override|private|protected|public|reified|sealed|suspend|tailrec|vararg)\\b/g,type:\"k8\"},{regex:/\\b(as|class|fun|in|interface|is|return|by|constructor|delegate|dynamic|field|file|get|init|param|property|receiver|set|setparam|where|field|it)\\b/g,type:\"k0\"},{regex:/\\b(this|super)\\b/g,type:\"k9\"},{regex:/\\b(instanceof|new)\\b/g,type:\"k3\"},{regex:/(@\\w+|\\w+@)/gm,type:\"k6\"},h.fCalls,h.mCalls,h.null,h.boolean,h.slashComments,h.blockComments,{regex:/[\\b\\W](-?\\d[\\d_]*L?)(?!\\.)\\b/g,type:\"n1\"},h.floats,{regex:/[\\b\\W](-?0x[A-F0-9][A-F0-9_]+)\\b/gi,type:\"n2\"},{regex:/[\\b\\W](-?0b[01][01_]+)\\b/gi,type:\"n3\"},h.brackets]}}]),t}(),B=function(){a(t,x);var e=p(t);function t(){return r(this,t),e.apply(this,arguments)}return i(t,[{key:\"setupLanguage\",value:function(){this.rules=[{regex:/(?:^|[^\\\\])%.*$/gm,type:\"c0\"},{regex:/[^\\\\](\\\\\\w+)(?:[\\W\\s])/gm,type:\"k0\"},{regex:/[$()]/g,type:[\"s3\"]},h.int,h.floats,h.brackets]}}],[{key:\"alias\",value:function(){return[\"tex\"]}}]),t}(),Z=function(){a(t,L);var e=p(t);function t(){return r(this,t),e.apply(this,arguments)}return i(t,[{key:\"setupLanguage\",value:function(){y(s(t.prototype),\"setupLanguage\",this).call(this),this.rules.shift();var e=[h.slashComments,A.pseudoElements,A.idSelector,A.classSelector,{regex:/\\b([\\w][\\w-]+)\\s*\\(/gm,type:\"m0\"},{regex:/@[\\w-]+\\b/g,type:\"k7\"},{regex:/&/gi,type:\"k3\"}];this.rules=this.rules.concat(e)}}]),t}(),M=function(){a(t,x);var e=p(t);function t(){return r(this,t),e.apply(this,arguments)}return i(t,[{key:\"setupLanguage\",value:function(){this.rules=[h.dqStrings,h.poundComments,{regex:/[\\w\\])]\\.([\\w-]+)\\b/g,type:\"m3\"},{regex:/\\b(else)\\b/g,type:\"k1\"},{regex:/\\s\\$[A-Z_]+/g,type:\"k7\"},{regex:/(==|!=|=~|!~)/g,type:\"k3\"},{regex:/\\b(\\w[\\w-]+)\\.\\w/g,type:\"k9\"},h.int,h.brackets]}}],[{key:\"alias\",value:function(){return[]}}]),t}(),P=function(){a(t,x);var e=p(t);function t(){return r(this,t),e.apply(this,arguments)}return i(t,[{key:\"setupLanguage\",value:function(){this.rules=[{regex:/---\\[\\[[\\s\\S]*?(]])/g,type:\"c1\"},{regex:/--\\[\\[[\\s\\S]*?]]/g,type:\"c1\"},{regex:/(--.*)$/gm,type:\"c0\"},h.dqStrings,h.sqStrings,{regex:/(\\[(=*)\\[[\\S\\s]*?]\\2])/g,type:\"s5\"},{regex:/\\b(true|false)\\b/gi,type:\"e0\"},{regex:/\\b(nil)\\b/gi,type:\"e1\"},{regex:/\\b(local)\\b/g,type:\"k2\"},{regex:/\\b(break|do|else|elseif|end|for|if|repeat|then|until|while)\\b/g,type:\"k1\"},{regex:/\\b(function|return|and|in|or|not)\\b/g,type:\"k0\"},h.brackets,h.floats,h.mCalls,h.fCalls]}}]),t}(),U=function(){a(t,x);var e=p(t);function t(){return r(this,t),e.apply(this,arguments)}return i(t,[{key:\"setupLanguage\",value:function(){this.rules=[{regex:/[\\r|\\n](```[a-z_-]*[\\r|\\n][\\S\\s]+?```)/gi,type:\"t8\"},{regex:/^\\s*#{1,6}.+$/gm,type:\"t1\"},{regex:/(.+[\\r|\\n][=-]{3,})[\\r|\\n]/g,type:\"t1\"},{regex:/`.+?`/g,type:\"t8\"},{regex:/^(?:\\*|_|-){3,}$/gm,type:\"t2\"},{regex:/\\W(\\*\\*|\\*|~~|~|__|_)(.*?\\1)\\W/gm,type:\"t4\"},{regex:/!?\\[.*?]\\(.*?\\)/g,type:\"t3\"}]}}],[{key:\"alias\",value:function(){return[\"md\",\"gfm\"]}}]),t}(),G=function(){a(t,x);var e=p(t);function t(){return r(this,t),e.apply(this,arguments)}return i(t,[{key:\"setupLanguage\",value:function(){this.rules=[{regex:/%.*$/gm,type:\"c0\"},{regex:/%%.*$/gm,type:\"c1\"},h.sqStrings,h.dqStrings,h.boolean,h.mCalls,h.prop,{regex:/\\b(break|case|catch|continue|do|else|elseif|end|end_try_catch|endfor|endif|endmethods|endparfor|endproperties|endswitch|endwhile|for|if|switch|try|until|while)\\b/gi,type:\"k1\"},{regex:/\\b(__FILE__|__LINE__|classdef|end_unwind_protect|endclassdef|endenumeration|endevents|endfunctionenumeration|events|function|global|methods|otherwise|parfor|persistent|properties|return|static|unwind_protect|unwind_protect_cleanup)\\b/gi,type:\"k0\"},{regex:/(@[\\w]+)\\s*/gm,type:\"k7\"},h.fCalls,h.floats,h.brackets]}}]),t}(),H=function(){a(t,x);var e=p(t);function t(){return r(this,t),e.apply(this,arguments)}return i(t,[{key:\"setupLanguage\",value:function(){this.rules=[h.dqStrings,h.sqStrings,h.poundComments,{regex:/([a-z]+)\\s*\\{/g,type:\"k9\"},{regex:/^\\s*([a-z]\\w+)\\s/gm,type:\"k0\"},{regex:/\\W([a-z]+:\\/\\/.*?);/g,type:\"k9\"},{regex:/\\b(\\d+\\.\\d+\\.\\d+\\.\\d+(?::\\d+))\\b/g,type:\"k9\"},{regex:/(?:\\W)\\$[a-z_]+/g,type:\"k7\"},{regex:/[\\b\\W](\\d+[kmgdyw])\\b/g,type:\"n0\"},h.int,h.brackets]}}],[{key:\"alias\",value:function(){return[]}}]),t}(),V=function(){a(t,x);var e=p(t);function t(){return r(this,t),e.apply(this,arguments)}return i(t,[{key:\"setupLanguage\",value:function(){this.rules=[h.dqStrings,h.sqStrings,h.bqStrings,{regex:/^\\s*(Var(\\s+\\\\GLOBAL)?)(\\s+\\w+)\\b/g,type:[\"k2\",\"k7\"]},{regex:/\\W(\\$\\{\\w+})\\W/g,type:\"k9\"},{regex:/\\W(\\$\\w+)\\b/g,type:\"k7\"},{regex:/^\\s*([A-Z]\\w+)\\s+/gm,type:\"k0\"},{regex:/\\b[A-Z][A-Z_]*[A-Z]\\b/g,type:\"e3\"},{regex:/^\\s*(!\\w+)\\s+/gm,type:\"k4\"},{regex:/^\\s*(\\w+:)\\s*$/gim,type:\"k6\"},{regex:/\\b(admin|all|auto|both|colored|false|force|hide|highest|lastused|leave|listonly|none|normal|notset|off|on|open|print|show|silent|silentlog|smooth|textonly|true|user)\\b/gi,type:\"k9\"},h.blockComments,{regex:/[#;].*?$/gm,type:\"c0\"},h.int,h.hex,h.octal,h.brackets]}}]),t}(),J=function(){a(t,x);var e=p(t);function t(){return r(this,t),e.apply(this,arguments)}return i(t,[{key:\"setupLanguage\",value:function(){this.rules=[h.sqStrings,h.dqStrings,h.heredoc,h.boolean,h.null,{regex:/(self|parent|\\$this)/gi,type:\"k9\"},{regex:/\\b(as|break|case|catch|do|else|elseif|enddeclare|endfor|endforeach|endif|endswitch|endwhile|finally|for|foreach|goto|if|switch|throw|try|while)\\b/g,type:\"k1\"},{regex:/\\b__[A-Z][A-Z0-9_]+__\\b/g,type:\"e3\"},{regex:/\\b(__halt_compiler|abstract|array|callable|class|const|continue|declare|default|die|echo|empty|eval|exit|extends|final|function|global|implements|include|include_once|instanceof|insteadof|interface|isset|list|namespace|print|private|protected|public|require|require_once|return|static|trait|use|var|yield)\\b/g,type:\"k0\"},{regex:/\\b(and|or|xor|clone|new|unset)\\b/g,type:\"k3\"},{regex:/\\b(int|float|bool|string|resource|object|mixed|numeric)\\b/g,type:\"k5\"},h.slashComments,h.poundComments,h.blockComments,{regex:/\\$[^\\s=;()]+/gim,type:\"k7\"},{regex:/\\b([^\\s(]+)\\s*\\(/gm,type:\"m0\"},{regex:/->([\\w]+)/gim,type:\"m1\"},{regex:/::([\\w]+)/gim,type:\"m2\"},h.octal,h.bin,h.hex,h.floats,h.brackets]}}]),t}(),X=function(){a(t,x);var e=p(t);function t(){return r(this,t),e.apply(this,arguments)}return i(t,[{key:\"setupLanguage\",value:function(){function e(e){return k(e,/\\$(?:\\w+|\\(.*?\\))/g,function(e){return[C(e[0],\"k7\")]})}this.rules=[{regex:/\"(?:[^\"`]|`.)*\"/g,type:\"s2\",filter:e},h.sqStrings,{regex:/@\"[\\S\\s]*?\\n\\s*\"@/g,type:\"s5\",filter:e},{regex:/@'[\\S\\s]*?\\n\\s*'@/g,type:\"s5\"},{regex:/\\b(Begin|Break|Catch|Continue|Else|Elseif|End|Finally|For|ForEach|If|Switch|Throw|Try|Until|While)\\b/gi,type:\"k1\"},{regex:/\\b(Data|Do|DynamicParam|Exit|Filter|From|Function|In|InlineScript|Hidden|Parallel|Param|Process|Return|Sequence|Trap|Workflow)\\b/gi,type:\"k0\"},{regex:/\\b([A-Z]\\w+(?:-\\w+)+)\\b/gi,type:\"m0\"},{regex:/<#[\\S\\s]+?#>/gi,type:\"c1\"},h.poundComments,{regex:/\\$[A-Z_][\\w]*/gim,type:\"k7\"},h.mCalls,h.fCalls,h.int,h.floats,h.brackets]}}]),t}(),Y=function(){a(t,x);var e=p(t);function t(){return r(this,t),e.apply(this,arguments)}return i(t,[{key:\"setupLanguage\",value:function(){this.rules=[{regex:/(%.*)$/gm,type:\"c0\"},h.blockComments,h.dqStrings,h.sqStrings,{regex:/^(\\w+)(?:\\(.*?\\))?\\s*(?::-|\\.)/gm,type:\"k9\"},{regex:/\\b(true|false|Yes|No|not|fail)\\b/gi,type:\"e0\"},{regex:/\\b(catch|throw|repeat)\\b/g,type:\"k1\"},{regex:/^(\\?-)/g,type:\"k9\"},{regex:/\\b(is)\\b/g,type:\"k3\"},{regex:/[A-Z_][\\w]*/g,type:\"k7\"},h.brackets,h.floats,h.int,h.fCalls]}}]),t}(),Q=function(){a(t,x);var e=p(t);function t(){return r(this,t),e.apply(this,arguments)}return i(t,[{key:\"setupLanguage\",value:function(){this.rules=[h.int,h.floats,{regex:/[\\b\\W](-?\\$[A-F0-9]+)\\b/gi,type:\"n2\"},{regex:/[\\b\\W](-?%[01]+)\\b/gi,type:\"n3\"},{regex:/[\\b\\W](\\*\\w+)\\b/gi,type:\"text\"},h.dqStrings,{regex:/[[\\]()]+/g,type:\"g0\"},{regex:/#\\w+/gim,type:\"g0\"},{regex:/[@?]\\w+/gim,type:\"g1\"},{regex:/(IncludeFile|XIncludeFile|IncludeBinary|IncludePath) (.*?)$/gim,type:\"k0\"},{regex:/\\b(Break|Case|Continue|Default|Else|ElseIf|End|EndIf|EndSelect|For|ForEver|ForEach|Gosub|Goto|If|Next|Repeat|Return|FakeReturn|Select|Until|Wend|While|To|Step)\\b/gi,type:\"k1\"},{regex:/\\b(Array|List|Map|Procedure(?:C|Dll|CDll)?|ProcedureReturn|EndProcedure|Declare(?:C|Dll|CDll)?|ImportC?|EndImport|As|Macro|MacroExpandedCount|EndMacro|UndefineMacro|DeclareModule|EndDeclareModule|Module|EndModule|UseModule|UnuseModule|With|EndWith|PrototypeC?|Runtime|Swap|Data|DataSection|EndDataSection|Read|Restore)\\b/gi,type:\"k2\"},{regex:/\\b(ReDim|Dim|NewList|NewMap|Enumeration|EndEnumeration|Interface|Extends|EndInterface|Structure(?:Union)?|EndStructure(?:Union)?)\\b/gi,type:\"k4\"},{regex:/\\b(?:ReDim|Dim|NewList|NewMap)\\s*([\\w]+)\\(/gim,type:\"text\"},{regex:/\\b(Define|Global|Protected|Shared|Static|Threaded)\\b/gi,type:\"k3\"},{regex:/[\\w\\])]\\.(s{\\d+}|(?:p-ascii|p-utf8|p-bstr|p-unicode|p-variant)|\\w+)(?:\\([\\d,]*\\))?/gi,type:\"k4\"},{regex:/\\b(CompilerIf|CompilerElse|CompilerElseIf|CompilerEndIf|CompilerSelect|CompilerCase|CompilerDefault|CompilerEndSelect|CompilerError|CompilerWarning|EnableExplicit|DisableExplicit|EnableASM|DisableASM|EnableDebugger|DisableDebugger|Debug|DebugLevel|CallDebugger)\\b/gi,type:\"k5\"},{regex:/\\W(And|Not|Or|Xor)\\W/gi,type:\"k6\"},{regex:/(<=|=<|>=|=>|<>|<<|>>|=|-|\\+|\\/|%|<|>|&|\\||!|~)/gi,type:\"k6\"},{regex:/(\\*)(?:\\d|\\s*(?:\\b|-|\\(|%|\\$|\\*))/gi,type:\"k6\"},{regex:/(\\w+)::/gi,type:\"k7\"},{regex:/(\\w+):/gi,type:\"k8\"},h.fCalls,{regex:/;.*$/gm,type:\"c0\"},{regex:/\\\\(\\w+)\\b/g,type:\"m3\"}]}}],[{key:\"alias\",value:function(){return[\"pb\"]}}]),t}(),K=function(){a(t,x);var e=p(t);function t(){return r(this,t),e.apply(this,arguments)}return i(t,[{key:\"setupLanguage\",value:function(){this.rules=[h.dqStrings,h.prop,{regex:/\\b([A-Z]\\w+)\\b/g,type:\"k5\"},{regex:/^(import)(\\s+[\\w.]+)/gm,type:[\"k0\",\"k5\"]},{regex:/\\b(bool|char|double|float|int|long|short|void|string)\\b/g,type:\"k5\"},h.mCalls,h.null,h.boolean,h.slashComments,h.blockComments,h.int,h.floats,h.brackets]}}]),t}(),ee=function(){a(t,x);var e=p(t);function t(){return r(this,t),e.apply(this,arguments)}return i(t,null,[{key:\"alias\",value:function(){return[]}}]),t}(),te=function(){a(t,x);var e=p(t);function t(){return r(this,t),e.apply(this,arguments)}return i(t,[{key:\"setupLanguage\",value:function(){this.rules=[{regex:/^(.*?)$/g,type:\"text\"}]}}]),t}(),re=function(){a(t,x);var e=p(t);function t(){return r(this,t),e.apply(this,arguments)}return i(t,[{key:\"setupLanguage\",value:function(){this.rules=[h.dqStrings,{regex:/(\"[\\s\\S]*?\")/g,type:\"s5\"},{regex:/\\b(yes|no)\\b/gi,type:\"e0\"},{regex:/\\b([\\w-]+)(=)/gi,type:[\"k6\",\"k3\"]},{regex:/[^\\b](:local|:global)\\s/gm,type:\"k2\"},{regex:/^\\/\\w+(?:\\s+[a-z-]+)*\\s*$/gm,type:\"k10\"},{regex:/\\b(add|set|print|enable|disable|export|find|get|move|remove)\\b/gi,type:\"k9\"},{regex:/[^\\b](:[a-z-]+)\\s/gm,type:\"k0\"},{regex:/\\$[\\w]*/gi,type:\"k7\"},{regex:/(?:[a-f0-9]{2}:){5}(?:[a-f0-9]{2})/gi,type:\"s0\"},{regex:/(?:\\d{1,3}\\.){3}(?:\\d{1,3})(?:\\/\\d{1,2})?/gi,type:\"s0\"},h.poundComments,{regex:/[\\b\\W](-?\\d+)([a-z]{1,4})?[\\b\\W]/gi,type:\"n0\"},h.int,h.hex,h.brackets]}}],[{key:\"alias\",value:function(){return[\"mikrotik\",\"mt\",\"switchos\",\"ros\"]}}]),t}(),ne=function(){a(t,x);var e=p(t);function t(){return r(this,t),e.apply(this,arguments)}return i(t,[{key:\"setupLanguage\",value:function(){function e(e){return e.text.match(/^%r/)?e.type=\"e2\":e.text.match(/^%x/)&&(e.type=\"e4\"),[e]}this.rules=[h.dqStrings,h.sqStrings,h.heredoc,{regex:/(`(?:[^`\\\\]|\\\\.)*`)/g,type:\"e4\"},h.boolean,{regex:/\\b(nil)\\b/gi,type:\"e1\"},h.fCalls,h.prop,{regex:/@{1,2}[A-Za-z_]\\w*\\W/g,type:\"k7\"},{regex:/[^:](:[\\w]+)\\b/g,type:\"k6\"},{regex:/(\\$[a-z0-9_-]+|\\$.)\\W/gi,type:\"k9\"},{regex:/\\b(begin|break|case|do|else|elsif|end|ensure|for|if|in|next|redo|rescue|retry|then|unless|until|when|while)\\b/gi,type:\"k1\"},{regex:/\\b((?:__)?[A-Z][A-Z0-9_]+)\\b/g,type:\"e3\"},{regex:/\\b(alias|class|defined\\?|undef|def|module|return|self|super|yield)\\W/gi,type:\"k0\"},{regex:/\\b(and|not|or)\\b/gi,type:\"k3\"},h.poundComments,{regex:/^=begin[\\S\\s]*?^=end/gim,type:\"c2\"},{regex:/(%[iqrswx](\\W)(?:[^\\2\\n\\\\]|\\\\.)*\\2[iomx]*)/gim,type:\"s2\",filter:e},{regex:/(%[iqrswx]?(\\{(?:[^}\\\\]|\\\\.)*}|\\[(?:[^}\\\\]|\\\\.)*]|\\((?:[^)\\\\]|\\\\.)*\\))[iomx]*)/gim,type:\"s2\",filter:e},{regex:/\\W(\\/(?:[^/\\\\]|\\\\.)*\\/\\w*)\\W/g,type:\"e2\"},{regex:/\\W\\?(?:\\w|\\\\M|\\\\C)(?:-\\w|-\\\\M|-\\\\C)*\\b/g,type:\"n1\"},{regex:/[\\b\\W](-?\\d[\\d_]+?)(?!\\.)\\b/g,type:\"n1\"},{regex:/[\\b\\W](-?0x[A-F0-9][A-F0-9_]+)\\b/gi,type:\"n2\"},{regex:/[\\b\\W](-?0b[01][01_]+)\\b/gi,type:\"n3\"},{regex:/[\\b\\W](-?[\\d_]+(?:\\.[\\d_]+)?(?:e[+-]?\\d+)?[ji]?)\\b/gi,type:\"n0\"},h.brackets]}}]),t}(),ie=function(){a(t,x);var e=p(t);function t(){return r(this,t),e.apply(this,arguments)}return i(t,[{key:\"setupLanguage\",value:function(){this.rules=[h.char,{regex:/r((#+)\".*?\"\\2)/gm,type:\"s0\"},{regex:/(\"(?:\\\\.|\\\\\\s*\\n|\\\\s*\\r\\n|[^\\\\\"])*\")/g,type:\"s0\"},{regex:/^\\s*#.*$/gm,type:\"k4\"},{regex:/fn\\s+([\\w]+)\\s*(<\\w+\\s*>)?\\(/gm,type:\"k0\"},{regex:/\\b\\.?([\\w]+)\\s*(\\(|::)/gm,type:\"k1\"},{regex:/\\b([\\w]+)!/gm,type:\"k9\"},{regex:/\\bself\\b/gi,type:\"k9\"},h.boolean,{regex:/\\b(while|loop|in|for|if|else|do|continue|break)\\b/g,type:\"k1\"},{regex:/\\b(type|struct|let|enum)\\b/g,type:\"k2\"},{regex:/\\b(const)\\b/g,type:\"k8\"},{regex:/\\b(yield|where|virtual|use|unsized|unsafe|trait|super|static|return|ref|pure|pub|proc|priv|override|offsetof|mut|move|mod|match|macro|impl|fn|final|extern|crate|box|become|as|alignof|abstract)\\b/g,type:\"k0\"},{regex:/\\b(sizeof|typeof)\\b/g,type:\"k3\"},{regex:/\\b([0-9_]+\\.?[0-9_]+?(e\\+[0-9_]+)?)(?:f32|f64)?\\b/gim,type:\"n0\"},{regex:/\\b([0-9_]+|0o[0-9_]+|0x[A-F0-9_]+|0b[0-1_]+)(?:u8|i8|u16|i16|u32|i32|u64|i64|isize|usize)?\\b/gim,type:\"n1\"},h.slashComments,h.blockComments,{regex:/(?:^|[^\\\\])\\/\\/[/!].*$/gm,type:\"c2\"},{regex:/\\/\\*[*!][\\s\\S]*?\\*\\//gm,type:\"c2\"},h.brackets,{regex:/\\W(&)\\w/g,type:\"k3\"}]}}]),t}(),ae=function(){a(t,x);var e=p(t);function t(){return r(this,t),e.apply(this,arguments)}return i(t,[{key:\"setupLanguage\",value:function(){this.rules=[h.dqStrings,h.char,{regex:/s\"(?:[^\"\\\\]|\\\\.)*\"/g,type:\"s2\"},{regex:/`(?:[^`\\\\]|\\\\.)*`/g,type:\"k7\"},{regex:/@[\\W\\w_][\\w]+/g,type:\"k11\"},{regex:/\\b([A-Z]\\w*)\\b/g,type:\"k5\"},{regex:/\\b(while|try|catch|else|throw|break|if|do|goto|switch|for|match)\\b/g,type:\"k1\"},{regex:/(package|import)(\\s+[\\w.]+)/gm,type:[\"k0\",\"k10\"]},{regex:/[\\b\\w\\s)](_|:|@|#|<-|←|<:|<%|=|=>|⇒|>:)[\\b\\w\\s]/g,type:\"k3\"},{regex:/\\b(abstract|class|case|extends|final|finally|forSome|implicit|lazy|object|override|private|protected|return|sealed|trait|with|yield)\\b/g,type:\"k0\"},{regex:/\\b(def)\\s+(\\w+)\\b/gm,type:[\"k2\",\"m0\"]},{regex:/\\b(type)\\s+(\\w+)\\b/gm,type:[\"k2\",\"k5\"]},{regex:/\\b(val)\\s+(\\w+)\\b/gm,type:[\"k2\",\"k7\"]},{regex:/\\b(var)\\s+(\\w+)\\b/gm,type:[\"k2\",\"k7\"]},{regex:/\\b(this|super)\\b/g,type:\"k9\"},{regex:/\\b(new)\\b/g,type:\"k3\"},h.mCalls,h.fCalls,h.null,h.boolean,h.slashComments,h.blockComments,h.docComments,h.int,h.floats,h.bin,h.brackets]}}]),t}(),se=function(){a(t,L);var e=p(t);function t(){return r(this,t),e.apply(this,arguments)}return i(t,[{key:\"setupLanguage\",value:function(){y(s(t.prototype),\"setupLanguage\",this).call(this),this.rules.shift();var e=[h.slashComments,A.pseudoElements,A.idSelector,A.classSelector,{regex:/\\b([\\w-]+)\\s*\\(/gm,type:\"m0\"},{regex:/\\$[\\w-]+\\b/g,type:\"k7\"},{regex:/@[\\w-]+\\b/g,type:\"k9\"},{regex:/&/gi,type:\"k3\"}];this.rules=this.rules.concat(e)}}],[{key:\"alias\",value:function(){return[\"sass\"]}}]),t}(),oe=function(){a(t,x);var e=p(t);function t(){return r(this,t),e.apply(this,arguments)}return i(t,[{key:\"setupLanguage\",value:function(){this.rules=[{regex:/(^#!.*?)\\n/gi,type:\"k4\"},h.poundComments,{regex:/[^\\\\](\"(?:[^\"\\\\]|\\\\.)*\")/g,type:\"s0\"},{regex:/`.*?`/gm,type:\"s2\"},{regex:/(\\$)\\(/gm,type:\"s2\"},{regex:/(\\$\\d)\\b/gim,type:\"k9\"},{regex:/(\\$\\w+)\\b/gim,type:\"k7\"},{regex:/^(\\s*\\w+)=/gm,type:\"k7\"},{regex:/^\\s*\\w+\\)\\s*$/gm,type:\"k6\"},{regex:/\\b(if|fi|then|elif|else|for|do|done|until|while|break|continue|case|esac|in|eq|ne|gt|lt|ge|le)\\b/gi,type:\"k1\"},{regex:/\\b(return|function)\\b/gi,type:\"k0\"},{regex:/^\\s*\\w+\\(\\)\\s*\\{/gm,type:\"k0\"},h.int]}}],[{key:\"alias\",value:function(){return[\"bash\",\"sh\",\"zsh\"]}}]),t}(),le=function(){a(t,x);var e=p(t);function t(){return r(this,t),e.apply(this,arguments)}return i(t,[{key:\"setupLanguage\",value:function(){this.rules=[h.poundComments,h.blockComments,{regex:/--.*$/gm,type:\"c0\"},h.null,h.sqStrings,{regex:/`\\w+?`(?:\\.`\\w+?`)*/g,type:\"k9\"},{regex:/\\b(all|and|any|between|exists|in|like|not|or|is null|is not null|unique|=|!=|<>|>|<|>=|<=|!<|!>)\\b/gi,type:\"k3\"},{regex:/\\b(bigint)\\b/g,type:\"k5\"},{regex:/\\b(unsigned)\\b/g,type:\"k8\"},{regex:/\\b(SELECT|INSERT|UPDATE|DELETE|INTO|FROM|CREATE|TABLE|VIEW|WHERE|TRIGGER|ALTER|ORDER BY|DESC|ASC|AS|BETWEEN|JOIN|LEFT|RIGHT|INNER|OUTER|USING|ON|UNION)\\b/gi,type:\"k0\"},{regex:/\\b[A-Z]+\\b/g,type:\"k0\"},h.int,h.floats]}}]),t}(),ge=function(){a(t,x);var e=p(t);function t(){return r(this,t),e.apply(this,arguments)}return i(t,[{key:\"setupLanguage\",value:function(){this.rules=[h.dqStrings,{regex:h.sqStrings.regex,type:\"n0\"},h.prop,h.slashComments,h.poundComments,h.blockComments,h.brackets,{regex:/\\b(const|enum|local)\\b/g,type:\"k2\"},{regex:/\\b(break|case|catch|continue|else|for|foreach|if|switch|while|try|do)\\b/g,type:\"k1\"},{regex:/\\b(base|class|clone|constructor|default|extends|false|function|null|resume|return|static|this|throw|true|yield)\\b/g,type:\"k0\"},{regex:/\\b(delete|in|instanceof|typeof)\\b/g,type:\"k3\"},h.mCalls,h.fCalls,h.octal,h.hex,h.floats,h.int]}}]),t}(),ue=function(){a(t,x);var e=p(t);function t(){return r(this,t),e.apply(this,arguments)}return i(t,[{key:\"setupLanguage\",value:function(){this.rules=[h.dqStrings,h.boolean,{regex:/#.*$/gm,type:\"k4\"},h.prop,{regex:/(import )(.*?)$/gm,type:[\"k0\",\"k10\"]},{regex:/\\b(nil)\\b/gi,type:\"e1\"},{regex:/\\b(break|case|continue|default|do|else|for|if|switch|while|catch|throw|try)\\b/g,type:\"k1\"},{regex:/\\b(var|let|enum|struct)\\b/g,type:\"k2\"},{regex:/\\b(Int|UInt|Float|Double|Bool|String|Character|Optional|Array|Dictionary)\\b/g,type:\"k5\"},{regex:/\\b(associatedtype|class|deinit|extension|func|init|inout|internal|operator|private|protocol|public|static|subscript|typealias|defer|fallthrough|guard|in|as|repeat|return|where|dynamicType|is|rethrows|super|self|Self|throws|associativity|convenience|dynamic|didSet|final|get|infix|indirect|lazy|left|mutating|none|nonmutating|optional|override|postfix|precedence|prefix|Protocol|required|right|set|Type|unowned|weak|willSet)\\b/g,type:\"k0\"},h.mCalls,h.fCalls,{regex:/(?:^|[^\\\\])\\/\\/\\/.*$/gm,type:\"c2\"},h.docComments,h.slashComments,h.blockComments,{regex:/[\\b\\W](-?0b[01_]+)\\b/gi,type:\"n3\"},{regex:/[\\b\\W](-?0x[A-F0-9_]+)(?!\\.)\\b/gi,type:\"n2\"},{regex:/[\\b\\W](-?0o[0-7_]+)(?!\\.)\\b/g,type:\"n4\"},{regex:/[\\b\\W](-?[\\d_]+)(?!\\.)\\b/g,type:\"n1\"},{regex:/(-?(?:[\\d_]+\\.[\\d_]+(?:e[+-]?[\\d_]+)?))/gi,type:\"n0\"},{regex:/(-?0x(?:[A-F0-9_]+\\.[A-F0-9_]+(?:p[+-]?[A-F0-9_]+)?))/gi,type:\"n2\"},h.brackets]}}]),t}(),pe=function(){a(t,F);var e=p(t);function t(){return r(this,t),e.apply(this,arguments)}return i(t,[{key:\"setupLanguage\",value:function(){y(s(t.prototype),\"setupLanguage\",this).call(this);this.rules=[{regex:/\\b(boolean|number|string|any|void|undefined|never|symbol)\\b/g,type:\"k5\"},{regex:/\\b(type|interface)\\b/g,type:\"k2\"},{regex:/\\b(abstract|implements|readonly)\\b/g,type:\"k8\"},{regex:/\\b(declare|namespace)\\b/g,type:\"k0\"},{regex:/\\b([\\w]+)\\s*</gm,type:\"m0\"},{regex:/[<>]/g,type:\"g1\"}].concat(this.rules)}}]),t}(),ce=function(){a(t,x);var e=p(t);function t(){return r(this,t),e.apply(this,arguments)}return i(t,[{key:\"setupLanguage\",value:function(){this.rules=[{regex:/((?:^\\s*|\\s+)--.*$)/gm,type:\"c0\"},{regex:/^\\s*(?:use|library)\\s*(\\S+);/gim,type:\"k9\"},h.fCalls,{regex:/\\*\\*|\\*|\\/|\\+|-|&|=|\\/=|<|<=|>|>=/g,type:\"g0\"},h.dqStrings,{regex:/('.')/g,type:\"s0\"},h.brackets,{regex:/\\b(alias|array|variable|downto|range|to|type|units)\\b/g,type:\"k2\"},{regex:/\\b(array|buffer|bus|file)\\b/g,type:\"k5\"},{regex:/\\b(if|else|elsif|end|for|while|loop|when|begin|block|case|exit|next|then)\\b/g,type:\"k1\"},{regex:/\\b(access|after|all|architecture|attribute|assert|body|component|configuration|constant|disconnect|entity|function|generate|generic|group|guarded|impure|in|inertial|inout|is|label|library|linkage|literal|map|null|of|on|open|others|out|package|port|postponed|procedure|process|pure|record|return|select|severity|signal|shared|subtype|transport|unaffected|use|vaiable|with|wait|until)\\b/g,type:\"k0\"},{regex:/\\b(abs|not|mod|rem|sll|srl|sla|sra|rol|ror|and|or|nand|nor|xor|xnor|new)\\b/g,type:\"k3\"},h.floats]}}]),t}(),ye=function(){a(t,x);var e=p(t);function t(){return r(this,t),e.apply(this,arguments)}return i(t,[{key:\"setupLanguage\",value:function(){this.rules=[h.dqStrings,h.boolean,h.prop,{regex:/(#.*?)(?:'|$)/gim,type:\"k4\"},{regex:/\\b(Case|Catch|Continue|Each|Else|ElseIf|End|EndIf|Do|Finally|For|If|Loop|Next|OrElse|Then|Throw|Try|When|While)\\b/g,type:\"k1\"},{regex:/(Imports )(.*?)$/gm,type:[\"k0\",\"k10\"]},{regex:/\\b(Boolean|Byte|CBool|CByte|CChar|CDate|CDbl|CDec|Char|CInt|CLng|CObj|CSByte|CShort|CSng|CStr|CType|CUInt|CULng|CUShort|Decimal|Double|Integer|Long|ParamArray|SByte|Short|Single|String|UInteger|ULong|UShort)\\b/g,type:\"k5\"},{regex:/\\b(Dim|Enum|Let|ReDim)\\b/g,type:\"k2\"},{regex:/\\b(Const|Shared|Static)\\b/g,type:\"k8\"},{regex:/\\b(AddHandler|AddressOf|Alias|As|ByRef|ByVal|Call|Class|Date|Declare|Default|Delegate|DirectCast|Erase|Error|Event|Exit|Friend|Function|Get|GetType|GetXMLNamespace|Global|GoSub|GoTo|Handles|Implements|In|Inherits|Interface|Lib|Like|Me|Module|MustInherit|MustOverride|MyBase|MyClass|Namespace|Narrowing|Nothing|NotInheritable|NotOverridable|Object|Of|On|Operator|Option|Optional|Out|Overloads|Overridable|Overrides|Partial|Private|Property|Protected|Public|RaiseEvent|ReadOnly|REM|RemoveHandler|Resume|Return|Select|Set|Shadows|Step|Stop|Structure|Sub|SyncLock|To|TryCast|Using|Variant|Wend|Widening|With|WithEvents|WriteOnly)\\b/gi,type:\"k0\"},{regex:/\\b(And|AndAlso|Is|IsNot|Mod|New|Not|Or|TypeOf|Xor)\\b/g,type:\"k3\"},h.mCalls,h.fCalls,{regex:/'.*$/gm,type:\"c0\"},h.int,h.floats,h.brackets]}}],[{key:\"alias\",value:function(){return[\"vb\"]}}]),t}(),fe=function(){a(t,x);var e=p(t);function t(){return r(this,t),e.apply(this,arguments)}return i(t,[{key:\"setupLanguage\",value:function(){this.rules=[{regex:/<!DOCTYPE[\\s\\S]+?>/g,type:\"k9\"},{regex:/<\\?xml[\\s\\S]+\\?>/gi,type:\"k4\"},{regex:/<!--[\\s\\S]*?-->/g,type:\"c1\"},{regex:/(<!\\[CDATA\\[)([\\s\\S]*?)(]]>)/gim,type:[\"c9\",\"text\",\"c9\"]},{regex:/(<)([A-Z:_][A-Z0-9:.-]*)([\\s\\S]*?)(\\/?>)/gi,type:[\"g1\",\"x1\",\"text\",\"g1\"],filter:[null,null,function(e){return k(e,/\\b([^\\s\\0\"'>/=]+)(\\s*=\\s*)((['\"]).*?\\4|[^'\" \\t]+)/gi,function(e){return[C(e[1],\"x2\"),C(e[2],\"k3\"),C(e[3],\"s0\")]})},null]},{regex:/(<\\/)([A-Z:_][A-Z0-9:.-]*\\s*)(>)/gi,type:[\"g1\",\"x1\",\"g1\"]}]}}],[{key:\"alias\",value:function(){return[\"html\"]}}]),t}(),be=function(){a(t,x);var e=p(t);function t(){return r(this,t),e.apply(this,arguments)}return i(t,[{key:\"setupLanguage\",value:function(){this.rules=[h.poundComments,h.boolean,h.null,{regex:/^%[A-Z]+\\s+.*$/gm,type:\"k4\"},{regex:/\\b!{1,2}[A-Z]+\\b/gi,type:\"k5\"},{regex:/\\b[a-z][a-z0-9_-]*:/gim,type:\"k7\"},{regex:/\\{|}|\\(|\\)|\\[|]/g,type:\"g1\"},{regex:/\\s+(?:>|\\|)[\\r|\\n]+((?:\\s+[^\\r\\n]+[\\r|\\n]+)+)/gi,type:\"s5\"},h.dqStrings,h.sqStrings,h.floats]}}]),t}(),de=function(){a(t,x);var e=p(t);function t(){return r(this,t),e.apply(this,arguments)}return i(t,[{key:\"setupLanguage\",value:function(){this.rules=[h.dqStrings,{regex:/`\\w*\\b/g,type:\"k4\"},{regex:/\\[( *\\d+(?: *\\: *\\d+) *)\\]/g,type:\"e3\"},{regex:/\\b(for|generate|if|else|repeat|case|endcase|begin|end|ifnone)\\b/g,type:\"k1\"},{regex:/\\b(output|input|inout|reg|wire|assign)\\b/g,type:\"k5\"},{regex:/\\b(module|endmodule|always|function|endfunction)\\b/g,type:\"k2\"},{regex:/\\b(or|rpmos|tranif1|and|initial|rtran|tri|parameter|rtranif0|tri0|pmos|rtranif1|tri1|buf|endprimitive|integer|posedge|scalared|triand|bufif0|endspecify|join|primitive|small|trior|bufif1|endtable|large|pull0|specify|trireg|endtask|macromodule|pull1|specparam|vectored|casex|event|medium|pullup|strong0|wait|casez|pulldown|strong1|wand|cmos|force|nand|rcmos|supply0|weak0|deassign|forever|negedge|real|supply1|weak1|default|nmos|realtime|table|defparam|nor|task|disable|highz0|not|release|time|wor|edge|highz1|notif0|tran|xnor|notif1|rnmos|tranif0|xor)\\b/g,type:\"k0\"},h.slashComments,h.blockComments,{regex:/-?\\d*'s?d[0-9_xz]+\\b/gi,type:\"n1\"},{regex:/-?\\d*'s?h[0-9a-f_xz]+\\b/gi,type:\"n2\"},{regex:/-?\\d*'s?b[01_xz]+\\b/gi,type:\"n3\"},{regex:/-?\\d*'s?o[0-7_xz]+\\b/gi,type:\"n4\"},h.int,h.brackets]}}]),t}(),he=Object.freeze({__proto__:null,generic:x,abap:t,apache:v,assembly:w,avrassembly:S,cpp:_,csharp:E,css:L,cython:I,cordpro:W,diff:N,dockerfile:D,go:$,groovy:O,ini:T,java:R,javascript:F,json:j,kotlin:z,latex:B,less:Z,lighttpd:M,lua:P,markdown:U,matlab:G,nginx:H,nsis:V,php:J,powershell:X,prolog:Y,purebasic:Q,python:q,qml:K,r:ee,raw:te,routeros:re,ruby:ne,rust:ie,scala:ae,scss:se,shell:oe,sql:le,squirrel:ge,swift:ue,typescript:pe,vhdl:ce,visualbasic:ye,xml:fe,yaml:be,verilog:de}),me={standard:\"generic\"},xe={},ke=!1;function ve(e){if(!ke)for(var t in ke=!0,he)if(\"function\"==typeof he[t].alias){var r,n=function(e,t){var r;if(\"undefined\"==typeof Symbol||null==e[Symbol.iterator]){if(Array.isArray(e)||(r=b(e))||t&&e&&\"number\"==typeof e.length){r&&(e=r);var n=0,i=function(){};return{s:i,n:function(){return n>=e.length?{done:!0}:{done:!1,value:e[n++]}},e:function(e){throw e},f:i}}throw new TypeError(\"Invalid attempt to iterate non-iterable instance.\\nIn order to be iterable, non-array objects must have a [Symbol.iterator]() method.\")}var a,s=!0,o=!1;return{s:function(){r=e[Symbol.iterator]()},n:function(){var e=r.next();return s=e.done,e},e:function(e){o=!0,a=e},f:function(){try{s||null==r.return||r.return()}finally{if(o)throw a}}}}(he[t].alias());try{for(n.s();!(r=n.n()).done;){var i=r.value;me[i]=t}}catch(e){n.e(e)}finally{n.f()}}return me[e]}function we(e){return e=ve(e=(e||\"\").toLowerCase())||e,he[e]?e:null}var Ce={document:document,window:window};function Se(){return document}function _e(){return window}function Ee(e){var t=!(1<arguments.length&&void 0!==arguments[1])||arguments[1];e.style.display=!0===t?\"block\":\"none\"}function Ae(e){e.parentNode.removeChild(e)}function Le(e){return null!=e&&0<e.length?Se().querySelectorAll(e):[]}function qe(e,t){return e.getAttribute(\"data-\"+t)||null}function Ie(e,t){return e.getAttribute(t)||null}function We(e,t){return e.parentNode.insertBefore(t,e)}function Ne(e,t,r){var n=Se(),i=n.createElement(e);if(0<r.length)for(var a=0;a<r.length;a++){var s=r[a];if(null!==s&&!1!==s)if(void 0!==s)if(s.push)for(var o=0;o<s.length;o++){var l=s[o];null!==l&&!1!==l&&(void 0!==l?l.appendChild?i.appendChild(l):i.appendChild(n.createTextNode(l)):i.appendChild(n.createTextNode(\"#INVALID_ELEMENT#\")))}else s.appendChild?i.appendChild(s):i.appendChild(n.createTextNode(s));else i.appendChild(n.createTextNode(\"#INVALID_ELEMENT#\"))}function g(e,t){i.addEventListener(e,function(e){e.preventDefault(),e.stopPropagation(),t&&t.apply(i,[e,i])})}for(var u in t)if(Object.prototype.hasOwnProperty.call(t,u)){var p=t[u];if(\"on\"===u.substr(0,2)){if(null===p)continue;g(u.substr(2).toLowerCase(),p)}else{if(null==p)continue;switch(u){case\"className\":i.setAttribute(\"class\",p);break;case\"htmlFor\":i.setAttribute(\"for\",p);break;default:i.setAttribute(u,p)}}}return i.on=g,i}function De(e,t){for(var r=arguments.length,n=new Array(2<r?r-2:0),i=2;i<r;i++)n[i-2]=arguments[i];if(\"function\"!=typeof e)return Ne(e,t,n);var a=g(e,[t||{}].concat(n));return\"function\"==typeof a.render?a.render():a instanceof HTMLElement?a:void Se().createTextNode(\"#INVALID_JSX_ELEMENT#\")}function $e(e,t){e.classList.contains(t)||e.classList.add(t)}function Oe(e,t){e.classList.contains(t)&&e.classList.remove(t)}function Te(e,t){return e.classList.contains(t)}function Re(e,t){e.classList.contains(t)?e.classList.remove(t):e.classList.add(t)}var Fe=_e();function je(){var e;void 0!==Fe.console&&Fe.console.log&&(e=Fe.console).log.apply(e,arguments)}var ze=Object.freeze({__proto__:null,globals:Ce,getDocument:Se,getWindow:_e,displayElement:Ee,disposeElement:Ae,getElements:Le,getElement:function(e){return null!=e&&0<e.length?Se().querySelector(e):null},getElementDataAttribute:qe,getElementAttribute:Ie,insertBefore:We,createNode:Ne,createElement:De,renderComponent:function(e){var t=1<arguments.length&&void 0!==arguments[1]?arguments[1]:null;return null!==t&&t.appendChild(e),e},addClass:$e,removeClass:Oe,hasClass:Te,toggleClass:Re,logInfo:je,logError:function(){var e;void 0!==Fe.console&&Fe.console.error?(e=Fe.console).error.apply(e,arguments):je.apply(void 0,arguments)}});function Be(e){var t=e.tokens,r=e.options,n=function(e,t){if(\"string\"!=typeof e||0===e.length)return function(){return!1};var r=parseInt(t),a=!isNaN(r)&&1<r?r-1:0,s={};return e.split(\",\").forEach(function(e){var t=e.match(/([0-9]+)-([0-9]+)/);if(null!=t){var r=parseInt(t[1])-a,n=parseInt(t[2])-a;if(r<n)for(var i=r;i<=n;i++)s[\"\"+i]=!0}else s[\"\"+(parseInt(e)-a)]=!0}),function(e){return s[\"\"+e]||!1}}(r.highlight,r.lineoffset),i=[],a=[];t.forEach(function(t){var e=t.text.split(\"\\n\");1===e.length?a.push([t.type,t.text]):(a.push([t.type,e.shift()]),e.forEach(function(e){i.push(a),(a=[]).push([t.type,e])}))}),i.push(a);var s=[];return 0<r.lineoffset&&s.push(\"counter-reset: enlighter \"+(parseInt(r.lineoffset)-1)),De(\"div\",{className:\"enlighter\",style:s.join(\";\")},i.map(function(e,t){return De(\"div\",{className:n(t+1)?\"enlighter-special\":\"\"},De(\"div\",null,e.map(function(e){return De(\"span\",{className:\"enlighter-\"+e[0]},e[1])})))}))}function Ze(e){var t=[];e.name&&t.push(\"enlighter-\"+e.name),e.className&&(\"string\"==typeof e.className?t.push(e.className):t.push.apply(t,f(e.className)));for(var r=arguments.length,n=new Array(1<r?r-1:0),i=1;i<r;i++)n[i-1]=arguments[i];return De.apply(ze,[\"div\",{className:t.join(\" \")}].concat(n))}function Me(e){var t=[\"enlighter-btn\"];return e.name&&t.push(\"enlighter-btn-\"+e.name),De(\"div\",{className:t.join(\" \"),onClick:e.onClick,title:e.tooltip},e.text||null)}function Pe(){_e().open(\"https://enlighterjs.org\")}var Ue=Object.freeze({__proto__:null,raw:function(e){return De(Me,{name:\"raw\",tooltip:\"Plain text\",onClick:function(){e.toggleClass(\"enlighter-show-rawcode\")}})},copy:function(e){return De(Me,{name:\"copy\",tooltip:\"Copy to clipboard\",onClick:function(){!function(e){var t=Se(),r=_e(),n=De(\"pre\",{className:\"enlighter-clipboard\"},e);t.body.appendChild(n);try{var i=t.createRange();i.selectNodeContents(n);var a=r.getSelection();a.removeAllRanges(),a.addRange(i)}catch(e){return}var s=function(){try{return t.execCommand(\"copy\")}catch(e){return!1}}();r.getSelection().removeAllRanges(),Ae(n)}(e.getRawCode())}})},window:function(r){var n=_e();return De(Me,{name:\"window\",tooltip:\"Open code in new window\",onClick:function(){var e=n.open(\"\",\"\",\"width=\"+n.screen.width/2+\", height=\"+n.screen.height/2+\", menubar=no, titlebar=no, toolbar=no, top=100, left=100, scrollbars=yes, status=no\"),t=r.getRawCode().replace(/&/g,\"&amp;\").replace(/</g,\"&lt;\").replace(/>/g,\"&gt;\");e.document.body.innerHTML=\"<pre>\"+t+\"</pre>\",e.document.title=\"Sourcecode | EnlighterJS Syntax Highlighter\"}})},website:function(){return De(Me,{name:\"website\",tooltip:\"EnlighterJS 3 Syntax Highlighter\",onClick:Pe})},collapse:function(e){return De(Me,{name:\"collapse\",tooltip:\"Expand\",onClick:function(){e.toggleClass(\"enlighter-collapse-full\")}})}});function Ge(t){var e=function(e){for(var t,r=[],n=/{BTN_([A-Z_]+)}/g;null!=(t=n.exec(e));)r.push(t[1].toLowerCase());return r}(t.layout).map(function(e){return Ue[e]?De(Ue[e],{getRawCode:t.getRawCode,toggleClass:t.toggleClass}):null}).filter(function(e){return null!==e});return De(Ze,{name:\"toolbar-\"+t.name,className:\"enlighter-toolbar\"},e)}function He(e,t){return De(\"div\",{className:\"enlighter-raw\"},t)}function Ve(e){var t=null,r=e[0].params,n=[\"enlighter-default\",\"enlighter-v-standard\",\"enlighter-t-\"+e[0].params.theme];function i(e){Re(t,e)}function a(){return e[0].code}return!0===r.linehover&&n.push(\"enlighter-hover\"),!0===r.linenumbers&&n.push(\"enlighter-linenumbers\"),\"scroll\"===r.textOverflow&&n.push(\"enlighter-overflow-scroll\"),!0===r.collapse&&n.push(\"enlighter-collapse\"),0<r.cssClasses.length&&n.push.apply(n,f(r.cssClasses)),t=De(Ze,{className:n},De(Ge,{name:\"top\",layout:r.toolbarTop,toggleClass:i,getRawCode:a}),De(Be,{tokens:e[0].tokens,options:e[0].params}),De(He,null,e[0].code),De(Ge,{name:\"bottom\",layout:r.toolbarBottom,toggleClass:i,getRawCode:a})),r.rawcodeDbclick&&t.on(\"dblclick\",function(){i(\"enlighter-show-rawcode\")}),t}function Je(e){return De(\"span\",{className:\"enlighter\"},e.tokens.map(function(e){return De(\"span\",{className:\"enlighter-\"+e.type},e.text)}))}function Xe(r){var n=0,i=[];return i=r.dataset.map(function(e,t){return De(Me,{onClick:function(){return e=t,Oe(i[n],\"enlighter-active\"),$e(i[e],\"enlighter-active\"),n=e,void r.onChange(e);var e},text:e.params.title||e.params.language})}),$e(i[0],\"enlighter-active\"),De(Ze,{name:\"codegroup-switch\"},i)}var Ye=Object.freeze({__proto__:null,standard:Ve,inline:function(e){var t=e[0].params,r=[\"enlighter-default\",\"enlighter-v-inline\",\"enlighter-t-\"+t.theme];return 0<t.cssClasses.length&&r.push.apply(r,f(t.cssClasses)),De(Ze,{className:r},De(Je,{tokens:e[0].tokens,options:t}))},codegroup:function(e){var t,r=null,n=e[0].params,i=0,a=[\"enlighter-default\",\"enlighter-v-codegroup\",\"enlighter-t-\"+n.theme];function s(e){Re(r,e)}function o(){return e[i].code}function l(e){Ee(t[i],!1),Ee(t[e],!0),i=e}return!0===n.linehover&&a.push(\"enlighter-hover\"),!0===n.linenumbers&&a.push(\"enlighter-linenumbers\"),\"scroll\"===n.textOverflow&&a.push(\"enlighter-overflow-scroll\"),!0===n.collapse&&a.push(\"enlighter-collapse\"),0<n.cssClasses.length&&a.push.apply(a,f(n.cssClasses)),t=e.map(function(e){return De(\"div\",{style:\"display:none\"},De(Be,{tokens:e.tokens,options:e.params}),De(He,null,e.code))}),l(0),r=De(Ze,{className:a},De(Xe,{onChange:l,dataset:e}),De(Ze,{name:\"codegroup-wrapper\"},De(Ge,{name:\"top\",layout:n.toolbarTop,toggleClass:s,getRawCode:o}),t,De(Ge,{name:\"bottom\",layout:n.toolbarBottom,toggleClass:s,getRawCode:o}))),n.rawcodeDbclick&&r.on(\"dblclick\",function(){s(\"enlighter-show-rawcode\")}),r}});function Qe(e){var t;return(t=((t=e[0].params.layout)||\"\").toLowerCase(),Ye[t]?Ye[t]:Ve)(e.map(function(e){var t,r,n,i=e.code,a=e.params;if(\"string\"!=typeof i)throw new TypeError(\"EnlighterJS Engine requires string input\");return{tokens:(t=a.language,r=c.language||null,n=we(t)||we(r)||\"generic\",xe[n]||(xe[n]=new he[n]),xe[n]).analyze(i),params:a,code:i}}))}function Ke(i,t){function a(e){return function(){for(var e=arguments.length,t=new Array(e),r=0;r<e;r++)t[r]=arguments[r];for(var n=t.pop(),i=0;i<t.length;i++){var a=t[i];if(null!=a)return a}return n}(t[e],c[e],null)}function e(e,t){var r=qe(i,\"enlighter-\"+e),n=a(e);if(!(r&&0<r.length))return n;switch(t){case\"boolean\":return\"true\"===(r=r.toLowerCase().trim())||\"false\"!==r&&n;case\"int\":return r=parseInt(r),isNaN(r)?n:r;default:return r}}var r=a(\"cssClasses\")||\"\";!0===a(\"retainCssClasses\")&&(r+=\" \"+(Ie(i,\"class\")||\"\"));var n=r.replace(/\\s+/g,\" \").trim().split(\" \");return{language:e(\"language\"),theme:e(\"theme\"),layout:e(\"layout\"),title:e(\"title\"),highlight:e(\"highlight\"),linenumbers:e(\"linenumbers\",\"boolean\"),lineoffset:e(\"lineoffset\",\"int\"),indent:a(\"indent\"),ampersandCleanup:a(\"ampersandCleanup\"),linehover:a(\"linehover\"),rawcodeDbclick:a(\"rawcodeDbclick\"),textOverflow:a(\"textOverflow\"),collapse:a(\"collapse\"),cssClasses:n,toolbarTop:a(\"toolbarTop\"),toolbarBottom:a(\"toolbarBottom\"),toolbarHeader:a(\"toolbarHeader\")}}var et=[];function tt(e){var t=function(e){for(var t=0;t<et.length;t++)for(var r=0;r<et[t].elements.length;r++)if(et[t].elements[r]===e)return t;return!1}(e);if(!1===t)return!1;var r=et.splice(t,1);return Ae(r[0].wrapper),r[0].elements.map(function(e){return Oe(e,\"enlighter-origin\")}),!0}function rt(e){var t,r,n=1<arguments.length&&void 0!==arguments[1]?arguments[1]:{};try{if(Array.isArray(e)||(e=[e]),0===e.length)return!1;if(!1===n)return tt(e[0]);if(Te(e[0],\"enlighter-origin\"))return!1;var i=Qe(e.map(function(e){var t=Ke(e,n),r=function(e,t){var r=e.innerHTML||\"\";r=(r=r.replace(/(^\\s*\\n|\\n\\s*$)/gi,\"\")).replace(/&lt;/gim,\"<\").replace(/&gt;/gim,\">\").replace(/&nbsp;/gim,\" \"),!0===t.ampersandCleanup&&(r=r.replace(/&amp;/gim,\"&\"));var n=t.indent;return!1!==n&&-1<n&&(r=r.replace(/(\\t*)/gim,function(e,t){return new Array(n*t.length+1).join(\" \")})),r}(e,t);return $e(e,\"enlighter-origin\"),{element:e,code:r,params:t}}));return We(e[0],i),t=e,r=i,et.push({elements:t,wrapper:r}),!0}catch(e){return console.error(\"EnlighterJS Internal Error:\",e),!1}}return e.enlight=rt,e.init=function(){var e,t=0<arguments.length&&void 0!==arguments[0]?arguments[0]:\"pre.ejs\",r=1<arguments.length&&void 0!==arguments[1]?arguments[1]:\"code.ejs\",n=3<arguments.length&&void 0!==arguments[3]?arguments[3]:{};e=2<arguments.length&&void 0!==arguments[2]?arguments[2]:null,Object.assign(c,e||{});for(var i=Le(t),a=Le(r),s=function(e){for(var t={},r=[],n=0;n<e.length;n++){var i=qe(e[n],\"enlighter-group\");i?(t[i]||(t[i]=[]),t[i].push(e[n])):r.push(e[n])}return{standalone:r,groups:Object.keys(t).map(function(e){return t[e]})}}(i),o=s.standalone,l=s.groups,g=0;g<o.length;g++)rt(o[g],{layout:n.block||\"standard\"});for(var u=0;u<l.length;u++)rt(l[u],{layout:n.codegroup||\"codegroup\"});for(var p=0;p<a.length;p++)rt(a[p],{layout:n.inline||\"inline\"})},e.version=\"3.4.0\",e}({});\n",
       "!function(n){\"function\"==typeof n&&n.fn&&(n.fn.enlight=function(n){return n=!0===(n=void 0===n?{}:n)?{}:n,this.each(function(){EnlighterJS.enlight(this,n)})})}(window.jQuery);</script>"
      ],
      "text/plain": [
       "<IPython.core.display.HTML object>"
      ]
     },
     "metadata": {},
     "output_type": "display_data"
    },
    {
     "data": {
      "text/html": [
       "<style>/*! EnlighterJS Syntax Highlighter 3.4.0 | Mozilla Public License 2.0 | https://enlighterjs.org */\n",
       ".enlighter-tooltip{z-index:100}.enlighter-default{font-family:\"Source Code Pro\",\"Liberation Mono\",\"Courier New\",Courier,monospace;font-size:12px;line-height:1.35em;overflow:hidden;white-space:pre-wrap;word-wrap:break-word;margin:0 0 20px 0;padding:0;position:relative;text-align:left;direction:ltr}.enlighter-default .enlighter-special:hover{background-color:#f4f8fc}.enlighter-default .enlighter-raw{display:none;min-width:100%;line-height:inherit;font-size:1em;font-family:inherit;margin:0;padding:0;white-space:pre-wrap;word-wrap:break-word;border:none;box-shadow:none}.enlighter-default:hover .enlighter-toolbar{display:block}.enlighter-default .enlighter-btn{display:inline-block;margin:0 5px 0 5px;padding:3px 5px 3px 5px;border:solid 1px #333;background-color:#f0f0f0;cursor:pointer;font-family:inherit}.enlighter-default .enlighter-toolbar .enlighter-btn-raw{background-image:url(data:image/svg+xml,%3C%3Fxml%20version%3D%221.0%22%20encoding%3D%22utf-8%22%3F%3E%0D%0A%3C!DOCTYPE%20svg%20PUBLIC%20%22-%2F%2FW3C%2F%2FDTD%20SVG%201.1%2F%2FEN%22%20%22http%3A%2F%2Fwww.w3.org%2FGraphics%2FSVG%2F1.1%2FDTD%2Fsvg11.dtd%22%3E%0D%0A%3Csvg%20version%3D%221.1%22%20id%3D%22Ebene_2%22%20xmlns%3D%22http%3A%2F%2Fwww.w3.org%2F2000%2Fsvg%22%20xmlns%3Axlink%3D%22http%3A%2F%2Fwww.w3.org%2F1999%2Fxlink%22%20x%3D%220px%22%20y%3D%220px%22%0D%0A%09%20width%3D%2246px%22%20height%3D%2246px%22%20viewBox%3D%220%200%2046%2046%22%20enable-background%3D%22new%200%200%2046%2046%22%20xml%3Aspace%3D%22preserve%22%3E%0D%0A%3Cg%3E%0D%0A%09%3Cpath%20d%3D%22M19.436%2C36.875L6.568%2C25.002v-3.863L19.436%2C9.267v5.041l-9.583%2C8.668v0.188l9.583%2C8.669V36.875z%22%2F%3E%0D%0A%09%3Cpath%20d%3D%22M26.343%2C36.875v-5.041l9.583-8.669v-0.188l-9.583-8.668V9.267l12.868%2C11.872v3.863L26.343%2C36.875z%22%2F%3E%0D%0A%3C%2Fg%3E%0D%0A%3C%2Fsvg%3E%0D%0A)}.enlighter-default .enlighter-toolbar .enlighter-btn-copy{background-image:url(data:image/svg+xml,%3C%3Fxml%20version%3D%221.0%22%20encoding%3D%22utf-8%22%3F%3E%0D%0A%3C!DOCTYPE%20svg%20PUBLIC%20%22-%2F%2FW3C%2F%2FDTD%20SVG%201.1%2F%2FEN%22%20%22http%3A%2F%2Fwww.w3.org%2FGraphics%2FSVG%2F1.1%2FDTD%2Fsvg11.dtd%22%3E%0D%0A%3Csvg%20version%3D%221.1%22%20id%3D%22Ebene_2%22%20xmlns%3D%22http%3A%2F%2Fwww.w3.org%2F2000%2Fsvg%22%20xmlns%3Axlink%3D%22http%3A%2F%2Fwww.w3.org%2F1999%2Fxlink%22%20x%3D%220px%22%20y%3D%220px%22%0D%0A%09%20width%3D%2246px%22%20height%3D%2246px%22%20viewBox%3D%220%200%2046%2046%22%20enable-background%3D%22new%200%200%2046%2046%22%20xml%3Aspace%3D%22preserve%22%3E%0D%0A%3Cline%20fill%3D%22none%22%20stroke%3D%22%23000000%22%20stroke-width%3D%224%22%20stroke-miterlimit%3D%2210%22%20x1%3D%2253.75%22%20y1%3D%2239.353%22%20x2%3D%2286.375%22%20y2%3D%2239.353%22%2F%3E%0D%0A%3Cline%20fill%3D%22none%22%20stroke%3D%22%23000000%22%20stroke-width%3D%224%22%20stroke-miterlimit%3D%2210%22%20x1%3D%2251.711%22%20y1%3D%2230.534%22%20x2%3D%2284.336%22%20y2%3D%2230.534%22%2F%3E%0D%0A%3Crect%20x%3D%228.932%22%20y%3D%227.334%22%20fill%3D%22%23FFFFFF%22%20stroke%3D%22%23000000%22%20stroke-width%3D%223%22%20stroke-miterlimit%3D%2210%22%20width%3D%2221.097%22%20height%3D%2224.952%22%2F%3E%0D%0A%3Crect%20x%3D%2218.942%22%20y%3D%2215.424%22%20fill%3D%22%23FFFFFF%22%20stroke%3D%22%23000000%22%20stroke-width%3D%223%22%20stroke-miterlimit%3D%2210%22%20width%3D%2221.096%22%20height%3D%2224.953%22%2F%3E%0D%0A%3C%2Fsvg%3E%0D%0A)}.enlighter-default .enlighter-toolbar .enlighter-btn-window{background-image:url(data:image/svg+xml,%3C%3Fxml%20version%3D%221.0%22%20encoding%3D%22utf-8%22%3F%3E%0D%0A%3C!DOCTYPE%20svg%20PUBLIC%20%22-%2F%2FW3C%2F%2FDTD%20SVG%201.1%2F%2FEN%22%20%22http%3A%2F%2Fwww.w3.org%2FGraphics%2FSVG%2F1.1%2FDTD%2Fsvg11.dtd%22%3E%0D%0A%3Csvg%20version%3D%221.1%22%20id%3D%22Ebene_2%22%20xmlns%3D%22http%3A%2F%2Fwww.w3.org%2F2000%2Fsvg%22%20xmlns%3Axlink%3D%22http%3A%2F%2Fwww.w3.org%2F1999%2Fxlink%22%20x%3D%220px%22%20y%3D%220px%22%0D%0A%09%20width%3D%2246px%22%20height%3D%2246px%22%20viewBox%3D%220%200%2046%2046%22%20enable-background%3D%22new%200%200%2046%2046%22%20xml%3Aspace%3D%22preserve%22%3E%0D%0A%3Cline%20fill%3D%22none%22%20stroke%3D%22%23000000%22%20stroke-width%3D%224%22%20stroke-miterlimit%3D%2210%22%20x1%3D%227.125%22%20y1%3D%229.25%22%20x2%3D%2239.75%22%20y2%3D%229.25%22%2F%3E%0D%0A%3Cline%20fill%3D%22none%22%20stroke%3D%22%23000000%22%20stroke-width%3D%224%22%20stroke-miterlimit%3D%2210%22%20x1%3D%227.125%22%20y1%3D%2218.167%22%20x2%3D%2239.75%22%20y2%3D%2218.167%22%2F%3E%0D%0A%3Cline%20fill%3D%22none%22%20stroke%3D%22%23000000%22%20stroke-width%3D%224%22%20stroke-miterlimit%3D%2210%22%20x1%3D%227.125%22%20y1%3D%2227.083%22%20x2%3D%2239.75%22%20y2%3D%2227.083%22%2F%3E%0D%0A%3Cline%20fill%3D%22none%22%20stroke%3D%22%23000000%22%20stroke-width%3D%224%22%20stroke-miterlimit%3D%2210%22%20x1%3D%227.125%22%20y1%3D%2236%22%20x2%3D%2229.809%22%20y2%3D%2236%22%2F%3E%0D%0A%3C%2Fsvg%3E%0D%0A)}.enlighter-default .enlighter-toolbar .enlighter-btn-website{background-image:url(data:image/svg+xml,%3C%3Fxml%20version%3D%221.0%22%20encoding%3D%22utf-8%22%3F%3E%0D%0A%3C!DOCTYPE%20svg%20PUBLIC%20%22-%2F%2FW3C%2F%2FDTD%20SVG%201.1%2F%2FEN%22%20%22http%3A%2F%2Fwww.w3.org%2FGraphics%2FSVG%2F1.1%2FDTD%2Fsvg11.dtd%22%3E%0D%0A%3Csvg%20version%3D%221.1%22%20id%3D%22E%22%20xmlns%3D%22http%3A%2F%2Fwww.w3.org%2F2000%2Fsvg%22%20xmlns%3Axlink%3D%22http%3A%2F%2Fwww.w3.org%2F1999%2Fxlink%22%20x%3D%220px%22%20y%3D%220px%22%0D%0A%09%20width%3D%2246px%22%20height%3D%2246px%22%20viewBox%3D%220%200%2046%2046%22%20enable-background%3D%22new%200%200%2046%2046%22%20xml%3Aspace%3D%22preserve%22%3E%0D%0A%3Cg%3E%0D%0A%09%3Cpath%20fill%3D%22%23202F65%22%20d%3D%22M32.48%2C25.614H19.64l-4.933%2C9.826l17.746%2C0.037l-6.173%2C5.358L8.167%2C40.912L16.29%2C6.055h22.974l-5.734%2C5.354%0D%0A%09%09l-13.306-0.027l0.672%2C8.797h12.841L32.48%2C25.614z%22%2F%3E%0D%0A%3C%2Fg%3E%0D%0A%3C%2Fsvg%3E%0D%0A)}.enlighter-origin{display:none!important}.enlighter-clipboard{position:absolute;left:0;bottom:0;width:1px;height:1px;overflow:hidden}.enlighter-v-inline{display:inline-block;overflow:inherit;margin:0}.enlighter-v-standard{display:block}.enlighter-v-codegroup{display:block}.enlighter-v-codegroup .enlighter-codegroup-wrapper{position:relative}div.enlighter{display:table;width:100%;border-collapse:collapse;border-spacing:0;empty-cells:show;min-width:100%;font-size:1em;margin:0;padding:0;text-indent:0;counter-reset:enlighter 0}div.enlighter>div{display:table-row;margin:0;border:solid 0 #fff;list-style:none;font-size:inherit;line-height:1.15em;min-height:14px}div.enlighter>div>div{display:table-cell;padding-left:10px}div.enlighter>div>div::before{content:\" \"}span.enlighter{display:inline-block;padding:3px 5px 1px 5px;margin:0 2px 0 2px}.enlighter span{margin:0;padding:0;line-height:inherit;font-size:1em;font-family:inherit}.enlighter-linenumbers div.enlighter>div::before{white-space:nowrap;display:block;display:table-cell;width:45px;min-width:45px;counter-increment:enlighter;content:counter(enlighter,decimal) \".\";text-align:right;padding-right:8px}.enlighter-toolbar{display:none;position:absolute;right:10px;top:10px;z-index:10}.enlighter-toolbar-bottom{top:unset;bottom:0}.enlighter-overflow-scroll.enlighter-v-standard{overflow-x:auto;word-wrap:normal!important}.enlighter-overflow-scroll.enlighter-v-codegroup .enlighter-codegroup-wrapper{overflow-x:auto;word-wrap:normal!important}.enlighter-overflow-scroll.enlighter-v-codegroup .enlighter>div>div,.enlighter-overflow-scroll.enlighter-v-standard .enlighter>div>div{white-space:pre!important}.enlighter-overflow-scroll.enlighter-v-codegroup .enlighter-raw,.enlighter-overflow-scroll.enlighter-v-standard .enlighter-raw{white-space:pre!important}.enlighter-collapse.enlighter-v-standard{overflow-y:auto;max-height:500px}.enlighter-collapse.enlighter-v-codegroup .enlighter-codegroup-wrapper{overflow-y:auto;max-height:500px}.enlighter-collapse.enlighter-collapse-full.enlighter-v-standard{max-height:none}.enlighter-collapse.enlighter-collapse-full.enlighter-v-codegroup .enlighter-codegroup-wrapper{max-height:none}.enlighter-show-rawcode .enlighter-raw{display:block}.enlighter-show-rawcode .enlighter{display:none!important}\n",
       ".enlighter-t-enlighter{color:#939393;border-radius:8px;border:solid 1px #e0e0e0}.enlighter-t-enlighter .enlighter-btn{border-radius:3px;background-color:#fff;color:#717171;font-size:1em;padding:0;border:1px solid #e0e0e0;margin:0 0 0 8px;text-decoration:none;width:23px;height:23px;background-position:0 0;background-size:contain}.enlighter-t-enlighter .enlighter-btn:hover{border-color:#c9c9c9}.enlighter-t-enlighter .enlighter-btn:after{content:''}.enlighter-t-enlighter.enlighter-hover.enlighter-linenumbers div.enlighter>div:hover{color:#444;background-color:#fffcd3}.enlighter-t-enlighter.enlighter-hover div.enlighter>div:hover{color:#444;background-color:#fffcd3}.enlighter-t-enlighter .enlighter-raw{font-size:1em;color:#000;background-color:#f9f9f9;border-radius:8px;line-height:1.4em;padding:0 5px 0 60px}.enlighter-t-enlighter div.enlighter>div{border:solid 0 #fff;line-height:1.35em;color:#aaa}.enlighter-t-enlighter div.enlighter>div:FIRST-CHILD{border-radius:8px 8px 0 0}.enlighter-t-enlighter div.enlighter>div:LAST-CHILD{border-radius:0 0 8px 8px}.enlighter-t-enlighter div.enlighter>div.enlighter-special{background-color:#fdf5f0}.enlighter-t-enlighter.enlighter-linenumbers div.enlighter>div::before{border-right:solid 1px #e0e0e0;background-color:#f9f9f9}.enlighter-t-enlighter.enlighter-linenumbers div.enlighter>div:FIRST-CHILD::before{border-radius:8px 0 0 0}.enlighter-t-enlighter.enlighter-linenumbers div.enlighter>div:LAST-CHILD::before{border-radius:0 0 0 8px}.enlighter-t-enlighter .enlighter-text{color:#000}.enlighter-t-enlighter .enlighter-c0{color:#99a}.enlighter-t-enlighter .enlighter-c1{color:#99a}.enlighter-t-enlighter .enlighter-c2{color:#99a}.enlighter-t-enlighter .enlighter-c9{color:#9baa8f}.enlighter-t-enlighter .enlighter-k0{color:#286491;font-weight:700}.enlighter-t-enlighter .enlighter-k1{color:#286491;font-weight:700}.enlighter-t-enlighter .enlighter-k2{color:#458;font-weight:700}.enlighter-t-enlighter .enlighter-k3{color:#4da0d2;background-color:#f0f0f0}.enlighter-t-enlighter .enlighter-k4{color:#4a9141;font-weight:700}.enlighter-t-enlighter .enlighter-k5{color:#286491;font-weight:700}.enlighter-t-enlighter .enlighter-k6{color:#286491;font-style:italic}.enlighter-t-enlighter .enlighter-k7{color:#286491;font-weight:700}.enlighter-t-enlighter .enlighter-k8{color:#4da0d2}.enlighter-t-enlighter .enlighter-k9{color:#990073;font-weight:700}.enlighter-t-enlighter .enlighter-k10{color:#4a9141;font-style:italic}.enlighter-t-enlighter .enlighter-k11{color:#99a}.enlighter-t-enlighter .enlighter-e0{color:#34068a;font-weight:700}.enlighter-t-enlighter .enlighter-e1{color:#34068a;font-weight:700}.enlighter-t-enlighter .enlighter-e2{color:#009926}.enlighter-t-enlighter .enlighter-e3{color:#286491}.enlighter-t-enlighter .enlighter-e4{color:#ff8c00;font-style:italic}.enlighter-t-enlighter .enlighter-s0{color:#d14}.enlighter-t-enlighter .enlighter-s1{color:#d14}.enlighter-t-enlighter .enlighter-s2{color:#d14}.enlighter-t-enlighter .enlighter-s3{color:#737383}.enlighter-t-enlighter .enlighter-s4{color:#ff8c00;font-weight:700}.enlighter-t-enlighter .enlighter-s5{color:#d14;font-style:italic}.enlighter-t-enlighter .enlighter-n0{color:#099}.enlighter-t-enlighter .enlighter-n1{color:#099}.enlighter-t-enlighter .enlighter-n2{color:#099;font-style:italic}.enlighter-t-enlighter .enlighter-n3{color:#099;font-style:italic}.enlighter-t-enlighter .enlighter-n4{color:#099;font-style:italic}.enlighter-t-enlighter .enlighter-n5{color:#099;text-decoration:underline}.enlighter-t-enlighter .enlighter-m0{color:#0086b3}.enlighter-t-enlighter .enlighter-m1{color:#0086b3}.enlighter-t-enlighter .enlighter-m2{color:#0086b3}.enlighter-t-enlighter .enlighter-m3{color:#0086b3}.enlighter-t-enlighter .enlighter-g0{color:#777}.enlighter-t-enlighter .enlighter-g1{color:#777}.enlighter-t-enlighter .enlighter-t0{color:#777}.enlighter-t-enlighter .enlighter-t1{color:#d14;font-weight:700}.enlighter-t-enlighter .enlighter-t2{color:#990073;font-weight:700}.enlighter-t-enlighter .enlighter-t3{color:#0086b3}.enlighter-t-enlighter .enlighter-t4{color:#009926}.enlighter-t-enlighter .enlighter-t5{color:#009926}.enlighter-t-enlighter .enlighter-t6{color:#d14}.enlighter-t-enlighter .enlighter-t7{color:#535353;font-weight:700}.enlighter-t-enlighter .enlighter-t8{color:#777;background-color:#f0f0f0;font-style:italic}.enlighter-t-enlighter .enlighter-x1{color:#286491;font-weight:700}.enlighter-t-enlighter .enlighter-x2{color:#4da0d2}.enlighter-t-enlighter .enlighter-x10{color:#000;font-weight:700}.enlighter-t-enlighter .enlighter-x11{color:#286491;font-weight:700}.enlighter-t-enlighter .enlighter-x12{color:#286491;text-decoration:underline}.enlighter-t-enlighter .enlighter-x13{color:#0086b3}.enlighter-t-enlighter .enlighter-x14{color:#099;font-style:italic}.enlighter-t-enlighter .enlighter-x15{color:#990073;font-style:italic}.enlighter-t-enlighter.enlighter-v-inline{border-radius:3px;background-color:#fafafa}.enlighter-t-enlighter.enlighter-v-codegroup .enlighter,.enlighter-t-enlighter.enlighter-v-codegroup .enlighter-raw{border-top-left-radius:0;border-top-right-radius:0}.enlighter-t-enlighter.enlighter-v-codegroup .enlighter div:first-child{border-radius:0}.enlighter-t-enlighter.enlighter-v-codegroup .enlighter-codegroup-wrapper{position:relative}.enlighter-t-enlighter.enlighter-v-codegroup .enlighter-codegroup-switch{border-radius:8px 8px 0 0;background-color:#f9f9f9;border-bottom:1px solid #e0e0e0;padding:5px 5px 5px 45px}.enlighter-t-enlighter.enlighter-v-codegroup .enlighter-codegroup-switch .enlighter-btn{padding:3px 10px 3px 10px;border-radius:4px;border:1px solid #e0e0e0;font-size:1em;color:#000;background-color:transparent;width:auto}.enlighter-t-enlighter.enlighter-v-codegroup .enlighter-codegroup-switch .enlighter-btn.enlighter-active{background-color:#e5e5e5;color:#000;border-color:#c9c9c9}\n",
       ".enlighter-t-beyond{color:#333;background-color:#f7f7fa;border-radius:5px;border:solid 2px #e2e2e8;padding:10px 10px 10px 5px}.enlighter-t-beyond .enlighter-btn{border-radius:3px;background-color:#fff;color:#717171;padding:0;border:1px solid #e0e0e0;margin:0 0 0 8px;width:23px;height:23px;background-position:0 0;background-size:contain;font-family:\"Open Sans\",Arial,Verdana,sans-serif}.enlighter-t-beyond .enlighter-btn:hover{border-color:#c9c9c9}.enlighter-t-beyond .enlighter-btn:after{content:''}.enlighter-t-beyond.enlighter-hover div.enlighter>div:hover{color:#444;background-color:#fff}.enlighter-t-beyond.enlighter-hover div.enlighter>div:hover.enlighter-special{background-color:#fffcd3;border:solid 0 #fff;color:#444}.enlighter-t-beyond .enlighter-raw{background-color:#f7f7fa;font-size:1.1em;color:#333;padding:10px 15px 10px 59px;line-height:1.7em}.enlighter-t-beyond div.enlighter>div{border:solid 0 #fff;padding:1px 5px 1px 10px;line-height:1.5em;color:#aaa;background-color:#f7f7fa}.enlighter-t-beyond div.enlighter>div:FIRST-CHILD{border-radius:8px 8px 0 0}.enlighter-t-beyond div.enlighter>div:LAST-CHILD{border-radius:0 0 8px 8px}.enlighter-t-beyond div.enlighter>div:AFTER{content:' '}.enlighter-t-beyond div.enlighter>div.enlighter-special{background-color:#fff}.enlighter-t-beyond.enlighter-linenumbers div.enlighter>div::before{padding:1px 5px 1px 14px;font-size:.9em}.enlighter-t-beyond.enlighter-linenumbers div.enlighter>div:FIRST-CHILD::before{border-radius:0 8px 0 0}.enlighter-t-beyond.enlighter-linenumbers div.enlighter>div:LAST-CHILD::before{border-radius:0 0 8px 0}.enlighter-t-beyond .enlighter span{font-size:1.1em}.enlighter-t-beyond .enlighter-text{color:#2f3235}.enlighter-t-beyond .enlighter-c0{color:#8181a1}.enlighter-t-beyond .enlighter-c1{color:#8181a1}.enlighter-t-beyond .enlighter-c2{color:#8181a1}.enlighter-t-beyond .enlighter-c9{color:#8181a1}.enlighter-t-beyond .enlighter-k0{color:#286491;font-weight:700}.enlighter-t-beyond .enlighter-k1{color:#286491;font-weight:700}.enlighter-t-beyond .enlighter-k2{color:#458;font-weight:700}.enlighter-t-beyond .enlighter-k3{color:#4da0d2;background-color:#f0f0f0}.enlighter-t-beyond .enlighter-k4{color:#4a9141;font-weight:700}.enlighter-t-beyond .enlighter-k5{color:#286491;font-weight:700}.enlighter-t-beyond .enlighter-k6{color:#286491;font-style:italic}.enlighter-t-beyond .enlighter-k7{color:#286491;font-weight:700}.enlighter-t-beyond .enlighter-k8{color:#4da0d2}.enlighter-t-beyond .enlighter-k9{color:#990073;font-weight:700}.enlighter-t-beyond .enlighter-k10{color:#4a9141;font-style:italic}.enlighter-t-beyond .enlighter-k11{color:#8181a1}.enlighter-t-beyond .enlighter-e0{color:#34068a;font-weight:700}.enlighter-t-beyond .enlighter-e1{color:#34068a;font-weight:700}.enlighter-t-beyond .enlighter-e2{color:#009926}.enlighter-t-beyond .enlighter-e3{color:#286491}.enlighter-t-beyond .enlighter-e4{color:#049595;font-style:italic}.enlighter-t-beyond .enlighter-s0{color:#d14}.enlighter-t-beyond .enlighter-s1{color:#d14}.enlighter-t-beyond .enlighter-s2{color:#d14}.enlighter-t-beyond .enlighter-s3{color:#737383}.enlighter-t-beyond .enlighter-s4{color:#049595;font-weight:700}.enlighter-t-beyond .enlighter-s5{color:#d14;font-style:italic}.enlighter-t-beyond .enlighter-n0{color:#099}.enlighter-t-beyond .enlighter-n1{color:#099}.enlighter-t-beyond .enlighter-n2{color:#099;font-style:italic}.enlighter-t-beyond .enlighter-n3{color:#099;font-style:italic}.enlighter-t-beyond .enlighter-n4{color:#099;font-style:italic}.enlighter-t-beyond .enlighter-n5{color:#099;text-decoration:underline}.enlighter-t-beyond .enlighter-m0{color:#0086b3}.enlighter-t-beyond .enlighter-m1{color:#0086b3}.enlighter-t-beyond .enlighter-m2{color:#0086b3}.enlighter-t-beyond .enlighter-m3{color:#0086b3}.enlighter-t-beyond .enlighter-g0{color:#777}.enlighter-t-beyond .enlighter-g1{color:#777}.enlighter-t-beyond .enlighter-t0{color:#777}.enlighter-t-beyond .enlighter-t1{color:#d14;font-weight:700}.enlighter-t-beyond .enlighter-t2{color:#990073;font-weight:700}.enlighter-t-beyond .enlighter-t3{color:#0086b3}.enlighter-t-beyond .enlighter-t4{color:#009926}.enlighter-t-beyond .enlighter-t5{color:#009926}.enlighter-t-beyond .enlighter-t6{color:#d14}.enlighter-t-beyond .enlighter-t7{color:#535353;font-weight:700}.enlighter-t-beyond .enlighter-t8{color:#777;background-color:#f0f0f0;font-style:italic}.enlighter-t-beyond .enlighter-x1{color:#286491;font-weight:700}.enlighter-t-beyond .enlighter-x2{color:#4da0d2}.enlighter-t-beyond .enlighter-x10{color:#000;font-weight:700}.enlighter-t-beyond .enlighter-x11{color:#286491;font-weight:700}.enlighter-t-beyond .enlighter-x12{color:#286491;text-decoration:underline}.enlighter-t-beyond .enlighter-x13{color:#0086b3}.enlighter-t-beyond .enlighter-x14{color:#099;font-style:italic}.enlighter-t-beyond .enlighter-x15{color:#990073;font-style:italic}.enlighter-t-beyond.enlighter-v-inline{border-radius:3px;background-color:#f7f7fa;border:dotted 1px #e2e2e8;padding:0}.enlighter-t-beyond.enlighter-v-codegroup{padding:0;border:none}.enlighter-t-beyond.enlighter-v-codegroup .enlighter-codegroup-wrapper{background-color:#f7f7fa;border-radius:5px;border:solid 2px #e2e2e8;padding:10px 10px 10px 5px}.enlighter-t-beyond.enlighter-v-codegroup .enlighter-codegroup-switch{background-color:#fff;padding:0 0 0 45px}.enlighter-t-beyond.enlighter-v-codegroup .enlighter-codegroup-switch .enlighter-btn{border:solid 2px #e2e2e8;border-radius:5px 5px 0 0;font-size:1em;color:#286491;font-weight:700;background-color:#fff;border-bottom:none;padding:3px 10px 3px 10px;width:auto}.enlighter-t-beyond.enlighter-v-codegroup .enlighter-codegroup-switch .enlighter-btn.enlighter-active{background-color:#e2e2e8;border-color:#d8d8dd;color:#505050;font-weight:700}\n",
       ".enlighter-t-classic{background-color:#fff;border:1px solid #e8e8e2}.enlighter-t-classic .enlighter-btn{background-color:#fff;color:#717171;font-size:1em;padding:0;border:1px solid #e0e0e0;margin:0 0 0 8px;text-decoration:none;width:23px;height:23px;background-position:0 0;background-size:contain;font-family:\"Open Sans\",Arial,Verdana,sans-serif}.enlighter-t-classic .enlighter-btn:hover{border-color:#c9c9c9}.enlighter-t-classic .enlighter-btn:after{content:''}.enlighter-t-classic.enlighter-hover div.enlighter>div:hover{background-color:#ddf0dd}.enlighter-t-classic .enlighter-raw{font-size:1.25em;color:#000;line-height:1.85em;padding:4px 5px 4px 58px}.enlighter-t-classic div.enlighter{line-height:1.7em}.enlighter-t-classic div.enlighter>div{padding:1px 5px 1px 14px;line-height:1.7em;color:#aaa}.enlighter-t-classic div.enlighter>div>div{border-left:solid 4px #52ce52}.enlighter-t-classic div.enlighter>div:FIRST-CHILD{padding-top:5px}.enlighter-t-classic div.enlighter>div:LAST-CHILD{padding-bottom:5px}.enlighter-t-classic div.enlighter>div:AFTER{content:' '}.enlighter-t-classic div.enlighter>div:nth-child(even){background-color:#f8f8f8}.enlighter-t-classic div.enlighter>div.enlighter-special{background-color:#edf9ec;border-left-color:#3fa03f}.enlighter-t-classic.enlighter-linenumbers div.enlighter>div::before{padding:1px 5px 1px 14px;color:#000;background-color:#f8f8f8;font-size:1.15em;width:55px;min-width:55px}.enlighter-t-classic .enlighter span{font-size:1.25em}.enlighter-t-classic .enlighter-text{color:#000}.enlighter-t-classic .enlighter-c0{color:#888}.enlighter-t-classic .enlighter-c1{color:#888}.enlighter-t-classic .enlighter-c2{color:#888}.enlighter-t-classic .enlighter-c9{color:#888}.enlighter-t-classic .enlighter-k0{color:#066da1;font-weight:700}.enlighter-t-classic .enlighter-k1{color:#066da1;font-weight:700}.enlighter-t-classic .enlighter-k2{color:#404247;font-weight:700}.enlighter-t-classic .enlighter-k3{color:#404247;background-color:#f0f0f0}.enlighter-t-classic .enlighter-k4{color:#404247;font-weight:700}.enlighter-t-classic .enlighter-k5{color:#404247;font-weight:700}.enlighter-t-classic .enlighter-k6{color:#066da1;font-style:italic}.enlighter-t-classic .enlighter-k7{color:#066da1;font-weight:700}.enlighter-t-classic .enlighter-k8{color:#404247}.enlighter-t-classic .enlighter-k9{color:#d53aa9;font-weight:700}.enlighter-t-classic .enlighter-k10{color:#404247;font-style:italic}.enlighter-t-classic .enlighter-k11{color:#888}.enlighter-t-classic .enlighter-e0{color:#d53aa9;font-weight:700}.enlighter-t-classic .enlighter-e1{color:#d53aa9;font-weight:700}.enlighter-t-classic .enlighter-e2{color:#009926}.enlighter-t-classic .enlighter-e3{color:#d53aa9}.enlighter-t-classic .enlighter-e4{color:#d53aa9;font-style:italic}.enlighter-t-classic .enlighter-s0{color:#2d47e6}.enlighter-t-classic .enlighter-s1{color:#2d47e6}.enlighter-t-classic .enlighter-s2{color:#2d47e6}.enlighter-t-classic .enlighter-s3{color:#2d47e6}.enlighter-t-classic .enlighter-s4{color:#2d47e6;font-weight:700}.enlighter-t-classic .enlighter-s5{color:#d53aa9;font-weight:700}.enlighter-t-classic .enlighter-n0{color:#d53aa9}.enlighter-t-classic .enlighter-n1{color:#d53aa9}.enlighter-t-classic .enlighter-n2{color:#d53aa9}.enlighter-t-classic .enlighter-n3{color:#d53aa9}.enlighter-t-classic .enlighter-n4{color:#d53aa9}.enlighter-t-classic .enlighter-n5{color:#d53aa9}.enlighter-t-classic .enlighter-m0{color:#404247}.enlighter-t-classic .enlighter-m1{color:#404247}.enlighter-t-classic .enlighter-m2{color:#404247}.enlighter-t-classic .enlighter-m3{color:#404247}.enlighter-t-classic .enlighter-g0{color:#444}.enlighter-t-classic .enlighter-g1{color:#444}.enlighter-t-classic .enlighter-t0{color:#444}.enlighter-t-classic .enlighter-t1{color:#d53aa9;font-weight:700}.enlighter-t-classic .enlighter-t2{color:#d53aa9;font-weight:700}.enlighter-t-classic .enlighter-t3{color:#066da1}.enlighter-t-classic .enlighter-t4{color:#009926}.enlighter-t-classic .enlighter-t5{color:#009926}.enlighter-t-classic .enlighter-t6{color:#d53aa9}.enlighter-t-classic .enlighter-t7{color:#444;font-weight:700}.enlighter-t-classic .enlighter-t8{color:#444;background-color:#f0f0f0;font-style:italic}.enlighter-t-classic .enlighter-x1{color:#066da1;font-weight:700}.enlighter-t-classic .enlighter-x2{color:#404247;font-weight:700}.enlighter-t-classic .enlighter-x10{color:#000;font-weight:700}.enlighter-t-classic .enlighter-x11{color:#286491;font-weight:700}.enlighter-t-classic .enlighter-x12{color:#286491;text-decoration:underline}.enlighter-t-classic .enlighter-x13{color:#0086b3}.enlighter-t-classic .enlighter-x14{color:#099;font-style:italic}.enlighter-t-classic .enlighter-x15{color:#990073;font-style:italic}.enlighter-t-classic.enlighter-v-inline{background-color:transparent;border:none}.enlighter-t-classic.enlighter-v-codegroup{display:block}.enlighter-t-classic.enlighter-v-codegroup .enlighter-codegroup-wrapper{position:relative}.enlighter-t-classic.enlighter-v-codegroup .enlighter-codegroup-switch{background-color:#f8f8f8;padding-left:45px}.enlighter-t-classic.enlighter-v-codegroup .enlighter-codegroup-switch .enlighter-btn{border:none;font-size:1.25em;line-height:2.1em;width:auto;height:auto;background-color:transparent;padding:5px 10px 5px 10px}.enlighter-t-classic.enlighter-v-codegroup .enlighter-codegroup-switch .enlighter-btn.enlighter-active{background-color:#52ce52;color:#f9f9f9;font-weight:700}\n",
       ".enlighter-t-godzilla{border-left:solid 6px #4a80b3;background-image:url(data:image/gif;base64,R0lGODlhHgAeAJEAAPLz9ezt7vf39wAAACwAAAAAHgAeAAACYYyPqXvi/wCccr5gY3Y1491Z4fRlI3Rem5ByaymurQBT8nuDuM57wA8MCodEQA2V8yRjm6OmZ3G6oKSlrWlFYqlaJffpNWUvxbL5J2WNHenZrL2mxd/znfjLrm/v/Kg+UwAAOw==);background-repeat:repeat;background-position:0 0}.enlighter-t-godzilla .enlighter-btn{border-radius:3px;background-color:#fff;color:#717171;font-size:1em;padding:0;border:1px solid #e0e0e0;margin:0 0 0 8px;text-decoration:none;width:23px;height:23px;background-position:0 0;background-size:contain}.enlighter-t-godzilla .enlighter-btn:hover{border-color:#c9c9c9}.enlighter-t-godzilla .enlighter-btn:after{content:''}.enlighter-t-godzilla.enlighter-hover div.enlighter>div:hover{background-color:#f0f0f1}.enlighter-t-godzilla .enlighter-raw{font-size:1.15em;line-height:1.6em;color:#2b333a;padding:4px 5px 4px 54px}.enlighter-t-godzilla div.enlighter>div{padding:1px 5px 1px 14px;line-height:1.35em;color:#9c9ea0}.enlighter-t-godzilla div.enlighter>div:FIRST-CHILD{padding-top:5px}.enlighter-t-godzilla div.enlighter>div:LAST-CHILD{padding-bottom:5px}.enlighter-t-godzilla div.enlighter>div:AFTER{content:' '}.enlighter-t-godzilla div.enlighter>div.enlighter-special{background-color:#fffcd3}.enlighter-t-godzilla.enlighter-linenumbers div.enlighter>div::before{padding:1px 5px 1px 14px;background-color:transparent;font-size:.9em}.enlighter-t-godzilla .enlighter span{font-size:1.15em}.enlighter-t-godzilla .enlighter-text{color:#2b333a}.enlighter-t-godzilla .enlighter-c0{color:#6b7c8b}.enlighter-t-godzilla .enlighter-c1{color:#6b7c8b}.enlighter-t-godzilla .enlighter-c2{color:#6b7c8b}.enlighter-t-godzilla .enlighter-c9{color:#5b7c9c}.enlighter-t-godzilla .enlighter-k0{color:#085789;font-weight:700}.enlighter-t-godzilla .enlighter-k1{color:#085789;font-weight:700}.enlighter-t-godzilla .enlighter-k2{color:#4284ae;font-weight:700}.enlighter-t-godzilla .enlighter-k3{color:#4284ae;background-color:#f0f0f0}.enlighter-t-godzilla .enlighter-k4{color:#4284ae;font-weight:700}.enlighter-t-godzilla .enlighter-k5{color:#085789;font-weight:700}.enlighter-t-godzilla .enlighter-k6{color:#085789;font-style:italic}.enlighter-t-godzilla .enlighter-k7{color:#085789;font-weight:700}.enlighter-t-godzilla .enlighter-k8{color:#4284ae}.enlighter-t-godzilla .enlighter-k9{color:#ae42a0;font-weight:700}.enlighter-t-godzilla .enlighter-k10{color:#ae42a0;font-style:italic}.enlighter-t-godzilla .enlighter-k11{color:#6b7c8b}.enlighter-t-godzilla .enlighter-e0{color:#085789;font-weight:700}.enlighter-t-godzilla .enlighter-e1{color:#085789;font-weight:700}.enlighter-t-godzilla .enlighter-e2{color:#085789}.enlighter-t-godzilla .enlighter-e3{color:#085789}.enlighter-t-godzilla .enlighter-e4{color:#d2901d}.enlighter-t-godzilla .enlighter-s0{color:#5e860f}.enlighter-t-godzilla .enlighter-s1{color:#5e860f}.enlighter-t-godzilla .enlighter-s2{color:#5e860f}.enlighter-t-godzilla .enlighter-s3{color:#5e860f}.enlighter-t-godzilla .enlighter-s4{color:#5e860f}.enlighter-t-godzilla .enlighter-s5{color:#5e860f}.enlighter-t-godzilla .enlighter-n0{color:#9b0d5c}.enlighter-t-godzilla .enlighter-n1{color:#9b0d5c}.enlighter-t-godzilla .enlighter-n2{color:#9b0d5c;font-style:italic}.enlighter-t-godzilla .enlighter-n3{color:#9b0d5c;font-style:italic}.enlighter-t-godzilla .enlighter-n4{color:#9b0d5c;font-style:italic}.enlighter-t-godzilla .enlighter-n5{color:#9b0d5c;text-decoration:underline}.enlighter-t-godzilla .enlighter-m0{color:#d0284a}.enlighter-t-godzilla .enlighter-m1{color:#d0284a}.enlighter-t-godzilla .enlighter-m2{color:#d0284a}.enlighter-t-godzilla .enlighter-m3{color:#d0284a}.enlighter-t-godzilla .enlighter-g0{color:#35434c}.enlighter-t-godzilla .enlighter-g1{color:#35434c}.enlighter-t-godzilla .enlighter-t0{color:#35434c}.enlighter-t-godzilla .enlighter-t1{color:#d0284a;font-weight:700}.enlighter-t-godzilla .enlighter-t2{color:#9b0d5c;font-weight:700}.enlighter-t-godzilla .enlighter-t3{color:#085789}.enlighter-t-godzilla .enlighter-t4{color:#085789}.enlighter-t-godzilla .enlighter-t5{color:#085789}.enlighter-t-godzilla .enlighter-t6{color:#d0284a}.enlighter-t-godzilla .enlighter-t7{color:#35434c;font-weight:700}.enlighter-t-godzilla .enlighter-t8{color:#35434c;background-color:#f0f0f0;font-style:italic}.enlighter-t-godzilla .enlighter-x1{color:#085789;font-weight:700}.enlighter-t-godzilla .enlighter-x2{color:#4284ae}.enlighter-t-godzilla .enlighter-x10{color:#35434c;font-weight:700}.enlighter-t-godzilla .enlighter-x11{color:#085789;font-weight:700}.enlighter-t-godzilla .enlighter-x12{color:#085789;text-decoration:underline}.enlighter-t-godzilla .enlighter-x13{color:#4284ae}.enlighter-t-godzilla .enlighter-x14{color:#4284ae;font-style:italic}.enlighter-t-godzilla .enlighter-x15{color:#9b0d5c;font-style:italic}.enlighter-t-godzilla.enlighter-v-inline{background-color:#f7f7f7;border:dotted 1px #e0e0e1;border-left:solid 2px #4a80b3}.enlighter-t-godzilla.enlighter-v-codegroup .enlighter-codegroup-switch{font-family:\"Open Sans\",Arial,Verdana,sans-serif;background-color:#4a80b3;padding:5px 5px 5px 5px}.enlighter-t-godzilla.enlighter-v-codegroup .enlighter-codegroup-switch .enlighter-btn{padding:3px 10px 3px 10px;border:none;background-color:transparent;line-height:1.7em;font-size:1.15em;color:#f0f0f0;width:auto}.enlighter-t-godzilla.enlighter-v-codegroup .enlighter-codegroup-switch .enlighter-btn.enlighter-active{background-color:#00417f}\n",
       ".enlighter-t-atomic{font-family:Inconsolata,Consolas,\"Source Code Pro\",\"Liberation Mono\",\"Courier New\",Courier,monospace;background-color:#272b33;font-size:12px;color:#939393}.enlighter-t-atomic .enlighter-toolbar{top:10px;right:10px}.enlighter-t-atomic .enlighter-btn{font-family:\"Open Sans\",Arial,Verdana,sans-serif;background-image:none;background-color:transparent;color:#939393;font-size:1.1em;padding:2px 8px 2px 8px;margin:0 5px 0 5px;border:solid 1px #383e49;border-radius:4px;background-color:#13151a}.enlighter-t-atomic .enlighter-btn:hover{background-color:#121518;color:#f0f0f0}.enlighter-t-atomic .enlighter-toolbar .enlighter-btn-raw{background-image:none}.enlighter-t-atomic .enlighter-toolbar .enlighter-btn-raw:after{content:'Raw'}.enlighter-t-atomic .enlighter-toolbar .enlighter-btn-copy{background-image:none}.enlighter-t-atomic .enlighter-toolbar .enlighter-btn-copy:after{content:'Copy'}.enlighter-t-atomic .enlighter-toolbar .enlighter-btn-window{background-image:none}.enlighter-t-atomic .enlighter-toolbar .enlighter-btn-window:after{content:'Extern'}.enlighter-t-atomic .enlighter-toolbar .enlighter-btn-website{background-image:none}.enlighter-t-atomic .enlighter-toolbar .enlighter-btn-website:after{content:'EnlighterJS'}.enlighter-t-atomic .enlighter-raw{font-size:1.4em;color:#cfd5e0;background-color:#272b33;line-height:1.85em;padding:4px 5px 4px 54px}.enlighter-t-atomic div.enlighter>div{padding:1px 5px 1px 14px;line-height:1.6em;color:#596174;background-color:#272b33}.enlighter-t-atomic div.enlighter>div:FIRST-CHILD{padding-top:5px}.enlighter-t-atomic div.enlighter>div:LAST-CHILD{padding-bottom:5px}.enlighter-t-atomic div.enlighter>div:AFTER{content:' '}.enlighter-t-atomic div.enlighter>div.enlighter-special{background-color:#392d3b}.enlighter-t-atomic.enlighter-linenumbers div.enlighter>div::before{padding:1px 5px 1px 14px;font-size:1.3em}.enlighter-t-atomic.enlighter-hover div.enlighter>div:hover{background-color:#2e353e}.enlighter-t-atomic .enlighter span{font-size:1.4em}.enlighter-t-atomic .enlighter-text{color:#cfd5e0}.enlighter-t-atomic .enlighter-c0{color:#6b7c8b}.enlighter-t-atomic .enlighter-c1{color:#6b7c8b}.enlighter-t-atomic .enlighter-c2{color:#6b7c8b}.enlighter-t-atomic .enlighter-c9{color:#5b7c9c}.enlighter-t-atomic .enlighter-k0{color:#d171dd;font-weight:700}.enlighter-t-atomic .enlighter-k1{color:#d171dd;font-weight:700}.enlighter-t-atomic .enlighter-k2{color:#d19252;border-bottom:dotted 1px #d19252}.enlighter-t-atomic .enlighter-k3{color:#4284ae}.enlighter-t-atomic .enlighter-k4{color:#4284ae;font-weight:700}.enlighter-t-atomic .enlighter-k5{color:#d171dd;font-weight:700}.enlighter-t-atomic .enlighter-k6{color:#d171dd;font-style:italic}.enlighter-t-atomic .enlighter-k7{color:#d171dd;font-weight:700}.enlighter-t-atomic .enlighter-k8{color:#4284ae}.enlighter-t-atomic .enlighter-k9{color:#fff}.enlighter-t-atomic .enlighter-k10{color:#4284ae;font-style:italic}.enlighter-t-atomic .enlighter-k11{color:#6b7c8b}.enlighter-t-atomic .enlighter-e0{color:#d171dd;font-weight:700}.enlighter-t-atomic .enlighter-e1{color:#d171dd;font-weight:700}.enlighter-t-atomic .enlighter-e2{color:#d19252}.enlighter-t-atomic .enlighter-e3{color:#ae42a0}.enlighter-t-atomic .enlighter-e4{color:#d2901d;font-style:italic}.enlighter-t-atomic .enlighter-s0{color:#7cc379}.enlighter-t-atomic .enlighter-s1{color:#7cc379}.enlighter-t-atomic .enlighter-s2{color:#7cc379}.enlighter-t-atomic .enlighter-s3{color:#7cc379}.enlighter-t-atomic .enlighter-s4{color:#7cc379;font-weight:700}.enlighter-t-atomic .enlighter-s5{color:#5e860f;font-style:italic}.enlighter-t-atomic .enlighter-n0{color:#d19a66}.enlighter-t-atomic .enlighter-n1{color:#d19a66}.enlighter-t-atomic .enlighter-n2{color:#d19a66}.enlighter-t-atomic .enlighter-n3{color:#d19a66}.enlighter-t-atomic .enlighter-n4{color:#d19a66}.enlighter-t-atomic .enlighter-n5{color:#d19a66}.enlighter-t-atomic .enlighter-m0{color:#4284ae}.enlighter-t-atomic .enlighter-m1{color:#4284ae}.enlighter-t-atomic .enlighter-m2{color:#4284ae}.enlighter-t-atomic .enlighter-m3{color:#4284ae}.enlighter-t-atomic .enlighter-g0{color:#6b7c8b;font-weight:700}.enlighter-t-atomic .enlighter-g1{color:#6b7c8b;font-weight:700}.enlighter-t-atomic .enlighter-t0{color:#6b7c8b}.enlighter-t-atomic .enlighter-t1{color:#9b0d5c;font-weight:700}.enlighter-t-atomic .enlighter-t2{color:#990073;font-weight:700}.enlighter-t-atomic .enlighter-t3{color:#d171dd}.enlighter-t-atomic .enlighter-t4{color:#4284ae}.enlighter-t-atomic .enlighter-t5{color:#4284ae}.enlighter-t-atomic .enlighter-t6{color:#9b0d5c}.enlighter-t-atomic .enlighter-t7{color:#6b7c8b;font-weight:700}.enlighter-t-atomic .enlighter-t8{color:#6b7c8b}.enlighter-t-atomic .enlighter-x1{color:#d171dd;font-weight:700}.enlighter-t-atomic .enlighter-x2{color:#d19252;border-bottom:dotted 1px #d19252}.enlighter-t-atomic .enlighter-x10{color:#d171dd;font-weight:700}.enlighter-t-atomic .enlighter-x11{color:#d171dd;font-weight:700}.enlighter-t-atomic .enlighter-x12{color:#d171dd;text-decoration:underline}.enlighter-t-atomic .enlighter-x13{color:#d19252;border-bottom:dotted 1px #d19252}.enlighter-t-atomic .enlighter-x14{color:#d19a66;font-style:italic}.enlighter-t-atomic .enlighter-x15{color:#9b0d5c;font-style:italic}.enlighter-t-atomic.enlighter-v-codegroup .enlighter-codegroup-wrapper{position:relative}.enlighter-t-atomic.enlighter-v-codegroup .enlighter-codegroup-switch{padding:5px 5px 0 45px;background-color:#121518}.enlighter-t-atomic.enlighter-v-codegroup .enlighter-codegroup-switch .enlighter-btn{padding:2px 8px 0 8px;border:none;background-color:transparent;line-height:2.1em;font-weight:700;color:#f0f0f0;border-radius:5px 5px 0 0;text-transform:lowercase}.enlighter-t-atomic.enlighter-v-codegroup .enlighter-codegroup-switch .enlighter-btn.enlighter-active{background-color:#272b33}\n",
       ".enlighter-t-droide{background-color:#f7f7f9;border:solid 1px #e0e0e0}.enlighter-t-droide .enlighter-btn{background-color:#fff;color:#717171;font-size:1em;padding:0;border:1px solid #e0e0e0;margin:0 0 0 8px;text-decoration:none;width:23px;height:23px;background-position:0 0;background-size:contain}.enlighter-t-droide .enlighter-btn:hover{background-color:#fff}.enlighter-t-droide .enlighter-btn:after{content:''}.enlighter-t-droide.enlighter-hover div.enlighter>div:hover{background-color:#fae9d9}.enlighter-t-droide .enlighter-raw{font-size:1.1em;color:#404141;line-height:1.5em;padding:4px 5px 4px 55px}.enlighter-t-droide div.enlighter>div{border:solid 0 #fff;padding:1px 5px 1px 14px;line-height:1.35em;color:#aaa}.enlighter-t-droide div.enlighter>div:FIRST-CHILD{padding-top:5px}.enlighter-t-droide div.enlighter>div:LAST-CHILD{padding-bottom:5px}.enlighter-t-droide div.enlighter>div:AFTER{content:' '}.enlighter-t-droide div.enlighter>div.enlighter-special{background-color:#fae9d9;border-left:solid 5px #e07c19}.enlighter-t-droide.enlighter-linenumbers div.enlighter>div::before{padding:1px 5px 1px 0;border-right:1px dashed #e0e0e0;font-size:.9em;color:#707070;background-color:#f7f7f9}.enlighter-t-droide .enlighter span{font-size:1.1em}.enlighter-t-droide .enlighter-text{color:#000}.enlighter-t-droide .enlighter-c0{color:#086b08}.enlighter-t-droide .enlighter-c1{color:#086b08}.enlighter-t-droide .enlighter-c2{color:#086b08}.enlighter-t-droide .enlighter-c9{color:#086b08}.enlighter-t-droide .enlighter-k0{color:#12217c;font-weight:700}.enlighter-t-droide .enlighter-k1{color:#12217c;font-weight:700}.enlighter-t-droide .enlighter-k2{color:#458;font-weight:700}.enlighter-t-droide .enlighter-k3{color:#6e0d6e}.enlighter-t-droide .enlighter-k4{color:#6e0d6e;font-weight:700}.enlighter-t-droide .enlighter-k5{color:#12217c;font-weight:700}.enlighter-t-droide .enlighter-k6{color:#12217c;font-style:italic}.enlighter-t-droide .enlighter-k7{color:#12217c;font-weight:700}.enlighter-t-droide .enlighter-k8{color:#458}.enlighter-t-droide .enlighter-k9{color:#990073;font-weight:700}.enlighter-t-droide .enlighter-k10{color:#6e0d6e;font-style:italic}.enlighter-t-droide .enlighter-k11{color:#086b08}.enlighter-t-droide .enlighter-e0{color:#34068a;font-weight:700}.enlighter-t-droide .enlighter-e1{color:#34068a;font-weight:700}.enlighter-t-droide .enlighter-e2{color:#009926}.enlighter-t-droide .enlighter-e3{color:#286491}.enlighter-t-droide .enlighter-e4{color:#ff8c00;font-style:italic}.enlighter-t-droide .enlighter-s0{color:#961414}.enlighter-t-droide .enlighter-s1{color:#961414}.enlighter-t-droide .enlighter-s2{color:#961414}.enlighter-t-droide .enlighter-s3{color:#961414}.enlighter-t-droide .enlighter-s4{color:#963f14;font-weight:700}.enlighter-t-droide .enlighter-s5{color:#961414;font-style:italic}.enlighter-t-droide .enlighter-n0{color:#099}.enlighter-t-droide .enlighter-n1{color:#099}.enlighter-t-droide .enlighter-n2{color:#099;font-style:italic}.enlighter-t-droide .enlighter-n3{color:#099;font-style:italic}.enlighter-t-droide .enlighter-n4{color:#099;font-style:italic}.enlighter-t-droide .enlighter-n5{color:#099;text-decoration:underline}.enlighter-t-droide .enlighter-m0{color:#000}.enlighter-t-droide .enlighter-m1{color:#000}.enlighter-t-droide .enlighter-m2{color:#000}.enlighter-t-droide .enlighter-m3{color:#000}.enlighter-t-droide .enlighter-g0{color:#12217c}.enlighter-t-droide .enlighter-g1{color:#12217c}.enlighter-t-droide .enlighter-t0{color:#777}.enlighter-t-droide .enlighter-t1{color:#961414;font-weight:700}.enlighter-t-droide .enlighter-t2{color:#990073;font-weight:700}.enlighter-t-droide .enlighter-t3{color:#458}.enlighter-t-droide .enlighter-t4{color:#6e0d6e}.enlighter-t-droide .enlighter-t5{color:#6e0d6e}.enlighter-t-droide .enlighter-t6{color:#961414}.enlighter-t-droide .enlighter-t7{color:#535353;font-weight:700}.enlighter-t-droide .enlighter-t8{color:#777;font-style:italic}.enlighter-t-droide .enlighter-x1{color:#12217c;font-weight:700}.enlighter-t-droide .enlighter-x2{color:#6e0d6e}.enlighter-t-droide .enlighter-x10{color:#12217c;font-weight:700}.enlighter-t-droide .enlighter-x11{color:#12217c;font-weight:700}.enlighter-t-droide .enlighter-x12{color:#458}.enlighter-t-droide .enlighter-x13{color:#099}.enlighter-t-droide .enlighter-x14{color:#099}.enlighter-t-droide .enlighter-x15{color:#990073;font-style:italic}.enlighter-t-droide.enlighter-v-codegroup{background-color:transparent;border:none}.enlighter-t-droide.enlighter-v-codegroup .enlighter-codegroup-wrapper{background-color:#f7f7f9;border:solid 1px #e0e0e0}.enlighter-t-droide.enlighter-v-codegroup .enlighter-codegroup-switch{padding-left:15px}.enlighter-t-droide.enlighter-v-codegroup .enlighter-codegroup-switch .enlighter-btn{border:solid 1px #e0e0e0;font-size:1em;color:#000;background-color:transparent;border-radius:0;border-bottom-width:0;padding:5px 10px 5px 10px;font-weight:700;width:auto;height:auto}.enlighter-t-droide.enlighter-v-codegroup .enlighter-codegroup-switch .enlighter-btn.enlighter-active{background-color:#f7f7f9;color:#000;border-color:#c9c9c9}\n",
       ".enlighter-t-minimal{border-top:solid 3px #e0e0e0;border-bottom:solid 3px #e0e0e0;background-color:transparent;padding:10px 0 10px 0}.enlighter-t-minimal .enlighter-btn{background-color:#fff;color:#717171;font-size:1em;padding:0;border:1px solid #e0e0e0;margin:0 0 0 8px;text-decoration:none;width:23px;height:23px;background-position:0 0;background-size:contain}.enlighter-t-minimal .enlighter-btn:after{content:''}.enlighter-t-minimal.enlighter-hover div.enlighter>div:hover{background-color:#f0f0f0}.enlighter-t-minimal .enlighter-raw{font-size:1.1em;line-height:1.75em;padding:13px 5px 15px 50px;color:#404141}.enlighter-t-minimal div.enlighter>div{border:solid 0 #fff;background-color:transparent;padding:1px 5px 1px 0;line-height:1.5em;color:#a0a0a0}.enlighter-t-minimal div.enlighter>div:FIRST-CHILD{padding-top:5px}.enlighter-t-minimal div.enlighter>div:LAST-CHILD{padding-bottom:5px}.enlighter-t-minimal div.enlighter>div:AFTER{content:' '}.enlighter-t-minimal div.enlighter>div.enlighter-special{background-color:#f9f9f9}.enlighter-t-minimal.enlighter-linenumbers div.enlighter>div::before{padding:1px 10px 1px 10px;font-size:.8em;color:#404141}.enlighter-t-minimal .enlighter span{font-size:1.1em}.enlighter-t-minimal .enlighter-text{color:#2a2a2a}.enlighter-t-minimal .enlighter-c0{color:#a0a0a0}.enlighter-t-minimal .enlighter-c1{color:#a0a0a0}.enlighter-t-minimal .enlighter-c2{color:#a0a0a0}.enlighter-t-minimal .enlighter-c9{color:#a0a0a0}.enlighter-t-minimal .enlighter-k0{color:#12217c;font-weight:700}.enlighter-t-minimal .enlighter-k1{color:#12217c;font-weight:700}.enlighter-t-minimal .enlighter-k2{color:#458;border-bottom:dotted 1px #458}.enlighter-t-minimal .enlighter-k3{color:#458;border-bottom:dotted 1px #458}.enlighter-t-minimal .enlighter-k4{color:#458;border-bottom:dotted 1px #458}.enlighter-t-minimal .enlighter-k5{color:#12217c;font-weight:700}.enlighter-t-minimal .enlighter-k6{color:#12217c;font-style:italic}.enlighter-t-minimal .enlighter-k7{color:#12217c;font-weight:700}.enlighter-t-minimal .enlighter-k8{color:#458}.enlighter-t-minimal .enlighter-k9{color:#990073}.enlighter-t-minimal .enlighter-k10{color:#990073}.enlighter-t-minimal .enlighter-k11{color:#a0a0a0}.enlighter-t-minimal .enlighter-e0{color:#458;border-bottom:dotted 1px #458}.enlighter-t-minimal .enlighter-e1{color:#458;border-bottom:dotted 1px #458}.enlighter-t-minimal .enlighter-e2{color:#996700;border-bottom:solid 1px #996700}.enlighter-t-minimal .enlighter-e3{color:#458;border-bottom:dotted 1px #458}.enlighter-t-minimal .enlighter-e4{color:#458;border-bottom:dotted 1px #458}.enlighter-t-minimal .enlighter-s0{color:#217908;border-bottom:dotted 1px #387905}.enlighter-t-minimal .enlighter-s1{color:#217908;border-bottom:dotted 1px #387905}.enlighter-t-minimal .enlighter-s2{color:#cf6a4c}.enlighter-t-minimal .enlighter-s3{color:#217908;border-bottom:dotted 1px #387905}.enlighter-t-minimal .enlighter-s4{color:#217908;border-bottom:dotted 1px #387905}.enlighter-t-minimal .enlighter-s5{color:#217908;border-bottom:dotted 1px #387905}.enlighter-t-minimal .enlighter-n0{color:#a61d1b;font-weight:700}.enlighter-t-minimal .enlighter-n1{color:#a61d1b;font-weight:700}.enlighter-t-minimal .enlighter-n2{color:#a61d1b;font-weight:700}.enlighter-t-minimal .enlighter-n3{color:#a61d1b;font-weight:700}.enlighter-t-minimal .enlighter-n4{color:#a61d1b;font-weight:700}.enlighter-t-minimal .enlighter-n5{color:#a61d1b;font-weight:700}.enlighter-t-minimal .enlighter-m0{color:#12217c;background-color:#e0e0e0}.enlighter-t-minimal .enlighter-m1{color:#12217c;background-color:#e0e0e0}.enlighter-t-minimal .enlighter-m2{color:#12217c;background-color:#e0e0e0}.enlighter-t-minimal .enlighter-m3{color:#12217c;background-color:#e0e0e0}.enlighter-t-minimal .enlighter-g0{color:#12217c}.enlighter-t-minimal .enlighter-g1{color:#2a2a2a}.enlighter-t-minimal .enlighter-t0{color:#a0a0a0}.enlighter-t-minimal .enlighter-t1{color:#387905;font-weight:700}.enlighter-t-minimal .enlighter-t2{color:#990073;font-weight:700}.enlighter-t-minimal .enlighter-t3{color:#458}.enlighter-t-minimal .enlighter-t4{color:#458}.enlighter-t-minimal .enlighter-t5{color:#458}.enlighter-t-minimal .enlighter-t6{color:#387905}.enlighter-t-minimal .enlighter-t7{color:#a0a0a0;font-weight:700}.enlighter-t-minimal .enlighter-t8{color:#a0a0a0;font-style:italic}.enlighter-t-minimal .enlighter-x1{color:#12217c;font-weight:700}.enlighter-t-minimal .enlighter-x2{color:#458;border-bottom:dotted 1px #458}.enlighter-t-minimal .enlighter-x10{color:#12217c;font-weight:700}.enlighter-t-minimal .enlighter-x11{color:#12217c;font-weight:700}.enlighter-t-minimal .enlighter-x12{color:#458}.enlighter-t-minimal .enlighter-x13{color:#a61d1b;font-weight:700}.enlighter-t-minimal .enlighter-x14{color:#a61d1b;font-weight:700}.enlighter-t-minimal .enlighter-x15{color:#990073}.enlighter-t-minimal.enlighter-v-inline{background-color:transparent;border:none;padding:0}.enlighter-t-minimal.enlighter-v-codegroup{border-top:none;padding-top:0}.enlighter-t-minimal.enlighter-v-codegroup .enlighter-codegroup-wrapper{border-top:solid 3px #e0e0e0;padding-top:10px}.enlighter-t-minimal.enlighter-v-codegroup .enlighter-codegroup-switch{padding-left:5px;padding-bottom:5px}.enlighter-t-minimal.enlighter-v-codegroup .enlighter-codegroup-switch .enlighter-btn{font-size:1em;color:#000;background-color:transparent;font-weight:700;text-transform:uppercase;padding:1px 6px 1px 6px;border:none;width:auto;height:auto}.enlighter-t-minimal.enlighter-v-codegroup .enlighter-codegroup-switch .enlighter-btn.enlighter-active{background-color:#e0e0e0;color:#2a2a2a}\n",
       ".enlighter-t-eclipse{color:#787878;border-radius:5px;border:solid 8px #f3f3f3;background-color:#fff}.enlighter-t-eclipse .enlighter-toolbar{top:15px;right:15px}.enlighter-t-eclipse .enlighter-btn{background-color:#fff;color:#717171;font-size:1em;padding:0;border:1px solid #e0e0e0;margin:0 0 0 8px;text-decoration:none;width:23px;height:23px;background-position:0 0;background-size:contain;border-radius:8px}.enlighter-t-eclipse .enlighter-btn:hover{background-color:#e0e0e0}.enlighter-t-eclipse .enlighter-btn:after{content:''}.enlighter-t-eclipse.enlighter-hover.enlighter-linenumbers div.enlighter>div:hover{background-color:#e8f2fe;color:#444}.enlighter-t-eclipse.enlighter-hover div.enlighter>div:hover{background-color:#e8f2fe;color:#444;border-left-color:#e0e0e0}.enlighter-t-eclipse .enlighter-raw{font-size:1.1em;line-height:1.5em;padding:4px 5px 4px 56px;color:#717171}.enlighter-t-eclipse div.enlighter{background-color:#fff}.enlighter-t-eclipse div.enlighter>div{border:solid 0 #fff;background-color:transparent;padding:1px 5px 1px 0;line-height:1.35em;color:#787878}.enlighter-t-eclipse div.enlighter>div:FIRST-CHILD{padding-top:5px}.enlighter-t-eclipse div.enlighter>div:LAST-CHILD{padding-bottom:5px}.enlighter-t-eclipse div.enlighter>div:AFTER{content:' '}.enlighter-t-eclipse div.enlighter>div.enlighter-special{background-color:#f9f9f9}.enlighter-t-eclipse.enlighter-linenumbers div.enlighter>div::before{border-right:2px solid #f8f8f8;padding:1px 5px 1px 14px}.enlighter-t-eclipse .enlighter span{font-size:1.1em}.enlighter-t-eclipse .enlighter-text{color:#000}.enlighter-t-eclipse .enlighter-c0{color:#3f7f5f}.enlighter-t-eclipse .enlighter-c1{color:#3f5fbf}.enlighter-t-eclipse .enlighter-c2{color:#3f5fbf}.enlighter-t-eclipse .enlighter-c9{color:#3f5fbf}.enlighter-t-eclipse .enlighter-k0{color:#3f7f95;font-weight:700}.enlighter-t-eclipse .enlighter-k1{color:#3f7f95;font-weight:700}.enlighter-t-eclipse .enlighter-k2{color:#7f007f;font-weight:700}.enlighter-t-eclipse .enlighter-k3{color:#7f007f;font-weight:700}.enlighter-t-eclipse .enlighter-k4{color:#458}.enlighter-t-eclipse .enlighter-k5{color:#7f007f;font-weight:700}.enlighter-t-eclipse .enlighter-k6{color:#7f007f;font-weight:700}.enlighter-t-eclipse .enlighter-k7{color:#7f007f;font-weight:700}.enlighter-t-eclipse .enlighter-k8{color:#458}.enlighter-t-eclipse .enlighter-k9{color:#990073}.enlighter-t-eclipse .enlighter-k10{color:#990073}.enlighter-t-eclipse .enlighter-k11{color:#3f5fbf}.enlighter-t-eclipse .enlighter-e0{color:#7f007f;font-weight:700}.enlighter-t-eclipse .enlighter-e1{color:#7f007f;font-weight:700}.enlighter-t-eclipse .enlighter-e2{color:#009926}.enlighter-t-eclipse .enlighter-e3{color:#7f007f;font-weight:700}.enlighter-t-eclipse .enlighter-e4{color:#7f007f;font-weight:700}.enlighter-t-eclipse .enlighter-s0{color:#320fe3}.enlighter-t-eclipse .enlighter-s1{color:#320fe3}.enlighter-t-eclipse .enlighter-s2{color:#320fe3}.enlighter-t-eclipse .enlighter-s3{color:#320fe3}.enlighter-t-eclipse .enlighter-s4{color:#320fe3}.enlighter-t-eclipse .enlighter-s5{color:#990073}.enlighter-t-eclipse .enlighter-n0{color:#000}.enlighter-t-eclipse .enlighter-n1{color:#000}.enlighter-t-eclipse .enlighter-n2{color:#000}.enlighter-t-eclipse .enlighter-n3{color:#000}.enlighter-t-eclipse .enlighter-n4{color:#000}.enlighter-t-eclipse .enlighter-n5{color:#000}.enlighter-t-eclipse .enlighter-m0{color:#000}.enlighter-t-eclipse .enlighter-m1{color:#000}.enlighter-t-eclipse .enlighter-m2{color:#000}.enlighter-t-eclipse .enlighter-m3{color:#000}.enlighter-t-eclipse .enlighter-g0{color:#777}.enlighter-t-eclipse .enlighter-g1{color:#777}.enlighter-t-eclipse .enlighter-t0{color:#777}.enlighter-t-eclipse .enlighter-t1{color:#3f7f5f;font-weight:700}.enlighter-t-eclipse .enlighter-t2{color:#990073;font-weight:700}.enlighter-t-eclipse .enlighter-t3{color:#458}.enlighter-t-eclipse .enlighter-t4{color:#458}.enlighter-t-eclipse .enlighter-t5{color:#458}.enlighter-t-eclipse .enlighter-t6{color:#3f7f5f}.enlighter-t-eclipse .enlighter-t7{color:#a0a0a0;font-weight:700}.enlighter-t-eclipse .enlighter-t8{color:#a0a0a0;font-style:italic}.enlighter-t-eclipse .enlighter-x1{color:#3f7f95;font-weight:700}.enlighter-t-eclipse .enlighter-x2{color:#7f007f;font-weight:700}.enlighter-t-eclipse .enlighter-x10{color:#3f7f95;font-weight:700}.enlighter-t-eclipse .enlighter-x11{color:#3f7f95;font-weight:700}.enlighter-t-eclipse .enlighter-x12{color:#458}.enlighter-t-eclipse .enlighter-x13{color:#3f7f95}.enlighter-t-eclipse .enlighter-x14{color:#000}.enlighter-t-eclipse .enlighter-x15{color:#000}.enlighter-t-eclipse.enlighter-v-inline{border-radius:3px;background-color:#f8f8f8;border:solid 0 #fff}.enlighter-t-eclipse.enlighter-v-codegroup{display:block}.enlighter-t-eclipse.enlighter-v-codegroup .enlighter,.enlighter-t-eclipse.enlighter-v-codegroup .enlighter-raw{border-top:0;border-top-left-radius:0;border-top-right-radius:0}.enlighter-t-eclipse.enlighter-v-codegroup .enlighter-codegroup-wrapper{position:relative}.enlighter-t-eclipse.enlighter-v-codegroup .enlighter-codegroup-switch{background-color:#f3f3f3;padding:8px 5px 0 60px;border-radius:5px 5px 0 0}.enlighter-t-eclipse.enlighter-v-codegroup .enlighter-codegroup-switch .enlighter-btn{font-size:1em;color:#000;background-color:transparent;padding:5px 10px 5px 10px;border-radius:5px 5px 0 0;border:none;width:auto}.enlighter-t-eclipse.enlighter-v-codegroup .enlighter-codegroup-switch .enlighter-btn.enlighter-active{background-color:#fff;color:#000;border-color:#c9c9c9}\n",
       ".enlighter-t-mowtwo{background-color:#f0f0f1;border:solid 1px #f0f0f1;border-radius:7px}.enlighter-t-mowtwo .enlighter-btn{background-color:#fff;color:#717171;font-size:1em;padding:0;border:1px solid #e0e0e0;margin:0 0 0 8px;text-decoration:none;width:23px;height:23px;background-position:0 0;background-size:contain}.enlighter-t-mowtwo .enlighter-btn:after{content:''}.enlighter-t-mowtwo.enlighter-hover div.enlighter>div:hover{background-color:#e9e9e9}.enlighter-t-mowtwo .enlighter-raw{font-size:1.15em;line-height:1.75em;color:#313437;padding:5px 5px 5px 51px;background-color:transparent}.enlighter-t-mowtwo div.enlighter>div{line-height:1.5em;padding:1px 5px 1px 14px;color:#9c9ea0}.enlighter-t-mowtwo div.enlighter>div:FIRST-CHILD{padding-top:5px}.enlighter-t-mowtwo div.enlighter>div:LAST-CHILD{padding-bottom:5px}.enlighter-t-mowtwo div.enlighter>div:AFTER{content:' '}.enlighter-t-mowtwo div.enlighter>div.enlighter-special{background-color:#e9e9e9}.enlighter-t-mowtwo.enlighter-linenumbers div.enlighter>div::before{padding:1px 10px 1px 10px;font-size:.9em}.enlighter-t-mowtwo.enlighter-linenumbers div.enlighter>div:FIRST-CHILD::before{border-radius:0 8px 0 0}.enlighter-t-mowtwo.enlighter-linenumbers div.enlighter>div:LAST-CHILD::before{border-radius:0 0 8px 0}.enlighter-t-mowtwo .enlighter span{font-size:1.15em}.enlighter-t-mowtwo .enlighter-text{color:#313437}.enlighter-t-mowtwo .enlighter-c0{color:#9c9ea0}.enlighter-t-mowtwo .enlighter-c1{color:#9c9ea0}.enlighter-t-mowtwo .enlighter-c2{color:#9c9ea0}.enlighter-t-mowtwo .enlighter-c9{color:#9c9ea0}.enlighter-t-mowtwo .enlighter-k0{color:#b05098;font-weight:700}.enlighter-t-mowtwo .enlighter-k1{color:#b05098;font-weight:700}.enlighter-t-mowtwo .enlighter-k2{color:#b05098}.enlighter-t-mowtwo .enlighter-k3{color:#b05098}.enlighter-t-mowtwo .enlighter-k4{color:#b05098}.enlighter-t-mowtwo .enlighter-k5{color:#b05098}.enlighter-t-mowtwo .enlighter-k6{color:#b05098}.enlighter-t-mowtwo .enlighter-k7{color:#b05098}.enlighter-t-mowtwo .enlighter-k8{color:#313437}.enlighter-t-mowtwo .enlighter-k9{color:#313437}.enlighter-t-mowtwo .enlighter-k10{color:#313437}.enlighter-t-mowtwo .enlighter-k11{color:#9c9ea0}.enlighter-t-mowtwo .enlighter-e0{color:#b05098}.enlighter-t-mowtwo .enlighter-e1{color:#b05098}.enlighter-t-mowtwo .enlighter-e2{color:#864c08}.enlighter-t-mowtwo .enlighter-e3{color:#b05098}.enlighter-t-mowtwo .enlighter-e4{color:#b05098}.enlighter-t-mowtwo .enlighter-s0{color:#83a440}.enlighter-t-mowtwo .enlighter-s1{color:#83a440}.enlighter-t-mowtwo .enlighter-s2{color:#83a440}.enlighter-t-mowtwo .enlighter-s3{color:#83a440}.enlighter-t-mowtwo .enlighter-s4{color:#83a440}.enlighter-t-mowtwo .enlighter-s5{color:#83a440}.enlighter-t-mowtwo .enlighter-n0{color:#429bc1}.enlighter-t-mowtwo .enlighter-n1{color:#429bc1}.enlighter-t-mowtwo .enlighter-n2{color:#429bc1}.enlighter-t-mowtwo .enlighter-n3{color:#429bc1}.enlighter-t-mowtwo .enlighter-n4{color:#429bc1}.enlighter-t-mowtwo .enlighter-n5{color:#429bc1}.enlighter-t-mowtwo .enlighter-m0{color:#666}.enlighter-t-mowtwo .enlighter-m1{color:#666}.enlighter-t-mowtwo .enlighter-m2{color:#666}.enlighter-t-mowtwo .enlighter-m3{color:#666}.enlighter-t-mowtwo .enlighter-g0{color:#864c08}.enlighter-t-mowtwo .enlighter-g1{color:#909090}.enlighter-t-mowtwo .enlighter-t0{color:#909090}.enlighter-t-mowtwo .enlighter-t1{color:#b05098;font-weight:700}.enlighter-t-mowtwo .enlighter-t2{color:#b05098;font-weight:700}.enlighter-t-mowtwo .enlighter-t3{color:#b05098}.enlighter-t-mowtwo .enlighter-t4{color:#b05098}.enlighter-t-mowtwo .enlighter-t5{color:#83a440}.enlighter-t-mowtwo .enlighter-t6{color:#b05098}.enlighter-t-mowtwo .enlighter-t7{color:#909090;font-weight:700}.enlighter-t-mowtwo .enlighter-t8{color:#909090;font-style:italic}.enlighter-t-mowtwo .enlighter-x1{color:#b05098;font-weight:700}.enlighter-t-mowtwo .enlighter-x2{color:#b05098}.enlighter-t-mowtwo .enlighter-x10{color:#b05098;font-weight:700}.enlighter-t-mowtwo .enlighter-x11{color:#b05098;font-weight:700}.enlighter-t-mowtwo .enlighter-x12{color:#313437}.enlighter-t-mowtwo .enlighter-x13{color:#429bc1}.enlighter-t-mowtwo .enlighter-x14{color:#429bc1}.enlighter-t-mowtwo .enlighter-x15{color:#313437}.enlighter-t-mowtwo.enlighter-v-inline{border-radius:4px}.enlighter-t-mowtwo.enlighter-v-codegroup .enlighter-codegroup-switch{background-color:#585b5e;padding:10px 0 10px 20px;border-radius:8px;margin-bottom:5px}.enlighter-t-mowtwo.enlighter-v-codegroup .enlighter-codegroup-switch .enlighter-btn{border-radius:0;background-color:transparent;line-height:1.7em;font-size:1.25em;color:#f0f0f0;border:none;padding:0 10px 0 10px;width:auto;height:auto;font-family:\"Open Sans\",Arial,Verdana,sans-serif}.enlighter-t-mowtwo.enlighter-v-codegroup .enlighter-codegroup-switch .enlighter-btn.enlighter-active{text-decoration:underline}\n",
       ".enlighter-t-rowhammer{background-color:transparent;border:none}.enlighter-t-rowhammer .enlighter-toolbar{top:20px}.enlighter-t-rowhammer .enlighter-btn{background-color:#fff;color:#717171;font-size:1em;padding:0;border:1px solid #e0e0e0;margin:0 0 0 8px;text-decoration:none;width:23px;height:23px;background-position:0 0;background-size:contain}.enlighter-t-rowhammer .enlighter-btn:hover{background-color:#fff}.enlighter-t-rowhammer .enlighter-btn:after{content:''}.enlighter-t-rowhammer.enlighter-hover div.enlighter>div:hover{background-color:#f0f0f0}.enlighter-t-rowhammer .enlighter-raw{font-size:1.1em;color:#404141;background-color:transparent;padding:14px 0 15px 38px;line-height:2em}.enlighter-t-rowhammer div.enlighter>div{border:solid 0 #fff;padding:1px 5px 1px 0;line-height:1.67em;color:#94a9bf;background-color:transparent;border-bottom:dotted 1px #e9e9f0}.enlighter-t-rowhammer div.enlighter>div:nth-of-type(1){border-top:dotted 1px #e9e9f0}.enlighter-t-rowhammer div.enlighter>div:FIRST-CHILD{padding-top:5px}.enlighter-t-rowhammer div.enlighter>div:LAST-CHILD{padding-bottom:5px}.enlighter-t-rowhammer div.enlighter>div:AFTER{content:' '}.enlighter-t-rowhammer div.enlighter>div.enlighter-special{background-color:#f9f9f9}.enlighter-t-rowhammer.enlighter-linenumbers div.enlighter>div::before{padding:1px 5px 1px 14px;font-size:.8em;color:#94a9bf}.enlighter-t-rowhammer .enlighter span{font-size:1.1em}.enlighter-t-rowhammer .enlighter-text{color:#000}.enlighter-t-rowhammer .enlighter-c0{color:#758697}.enlighter-t-rowhammer .enlighter-c1{color:#758697}.enlighter-t-rowhammer .enlighter-c2{color:#758697}.enlighter-t-rowhammer .enlighter-c9{color:#758697}.enlighter-t-rowhammer .enlighter-k0{color:#07a;font-weight:700;border-bottom:dotted 1px #07a}.enlighter-t-rowhammer .enlighter-k1{color:#07a;font-weight:700;border-bottom:dotted 1px #07a}.enlighter-t-rowhammer .enlighter-k2{color:#07a;font-weight:700}.enlighter-t-rowhammer .enlighter-k3{color:#07a}.enlighter-t-rowhammer .enlighter-k4{color:#07a;font-weight:700}.enlighter-t-rowhammer .enlighter-k5{color:#07a;font-weight:700;border-bottom:dotted 1px #07a}.enlighter-t-rowhammer .enlighter-k6{color:#07a;font-weight:700;border-bottom:dotted 1px #07a}.enlighter-t-rowhammer .enlighter-k7{color:#07a;font-weight:700;border-bottom:dotted 1px #07a}.enlighter-t-rowhammer .enlighter-k8{color:#07a}.enlighter-t-rowhammer .enlighter-k9{color:#000}.enlighter-t-rowhammer .enlighter-k10{color:#07a;font-style:italic}.enlighter-t-rowhammer .enlighter-k11{color:#758697}.enlighter-t-rowhammer .enlighter-e0{color:#07a;font-weight:700}.enlighter-t-rowhammer .enlighter-e1{color:#07a;font-weight:700}.enlighter-t-rowhammer .enlighter-e2{color:#d2901d}.enlighter-t-rowhammer .enlighter-e3{color:#07a}.enlighter-t-rowhammer .enlighter-e4{color:#ff8c00;font-style:italic}.enlighter-t-rowhammer .enlighter-s0{color:#639500;border-bottom:dotted 1px #639500}.enlighter-t-rowhammer .enlighter-s1{color:#639500}.enlighter-t-rowhammer .enlighter-s2{color:#639500}.enlighter-t-rowhammer .enlighter-s3{color:#639500}.enlighter-t-rowhammer .enlighter-s4{color:#639500}.enlighter-t-rowhammer .enlighter-s5{color:#639500;font-style:italic}.enlighter-t-rowhammer .enlighter-n0{color:#9b0d5c}.enlighter-t-rowhammer .enlighter-n1{color:#9b0d5c}.enlighter-t-rowhammer .enlighter-n2{color:#9b0d5c}.enlighter-t-rowhammer .enlighter-n3{color:#9b0d5c}.enlighter-t-rowhammer .enlighter-n4{color:#9b0d5c}.enlighter-t-rowhammer .enlighter-n5{color:#9b0d5c}.enlighter-t-rowhammer .enlighter-m0{color:#d0284a;font-weight:700}.enlighter-t-rowhammer .enlighter-m1{color:#c2415b;font-weight:700}.enlighter-t-rowhammer .enlighter-m2{color:#c2415b;font-weight:700}.enlighter-t-rowhammer .enlighter-m3{color:#d0284a;font-weight:700}.enlighter-t-rowhammer .enlighter-g0{color:#35434c;font-weight:700}.enlighter-t-rowhammer .enlighter-g1{color:#6b7c8b;font-weight:700}.enlighter-t-rowhammer .enlighter-t0{color:#777}.enlighter-t-rowhammer .enlighter-t1{color:#961414;font-weight:700}.enlighter-t-rowhammer .enlighter-t2{color:#990073;font-weight:700}.enlighter-t-rowhammer .enlighter-t3{color:#458}.enlighter-t-rowhammer .enlighter-t4{color:#6e0d6e}.enlighter-t-rowhammer .enlighter-t5{color:#6e0d6e}.enlighter-t-rowhammer .enlighter-t6{color:#961414}.enlighter-t-rowhammer .enlighter-t7{color:#535353;font-weight:700}.enlighter-t-rowhammer .enlighter-t8{color:#777;font-style:italic}.enlighter-t-rowhammer .enlighter-x1{color:#07a;font-weight:700;border-bottom:dotted 1px #07a}.enlighter-t-rowhammer .enlighter-x2{color:#07a;font-weight:700}.enlighter-t-rowhammer .enlighter-x10{color:#07a;font-weight:700;border-bottom:dotted 1px #07a}.enlighter-t-rowhammer .enlighter-x11{color:#07a;font-weight:700;border-bottom:dotted 1px #07a}.enlighter-t-rowhammer .enlighter-x12{color:#07a}.enlighter-t-rowhammer .enlighter-x13{color:#9b0d5c}.enlighter-t-rowhammer .enlighter-x14{color:#9b0d5c}.enlighter-t-rowhammer .enlighter-x15{color:#121212}.enlighter-t-rowhammer.enlighter-v-codegroup .enlighter-codegroup-switch{padding-left:15px;padding-bottom:15px}.enlighter-t-rowhammer.enlighter-v-codegroup .enlighter-codegroup-switch .enlighter-btn{font-size:1em;color:#758697;background-color:transparent;border-radius:0;font-weight:700;text-transform:uppercase;padding:2px 10px 2px 10px;border:none;width:auto;height:auto}.enlighter-t-rowhammer.enlighter-v-codegroup .enlighter-codegroup-switch .enlighter-btn.enlighter-active{border-bottom:dotted 1px #758697;background-color:#f0f0f0}\n",
       ".enlighter-t-bootstrap4{color:#212529;background-color:#f8f9fa;padding:25px 25px 25px 25px}.enlighter-t-bootstrap4 .enlighter-toolbar{top:10px;right:10px}.enlighter-t-bootstrap4 .enlighter-btn{background-image:none;background-color:transparent;color:#818a91;font-size:1em;padding:2px 8px 2px 8px;margin:0 5px 0 5px;border:none;border-radius:4px;font-family:\"Open Sans\",Arial,Verdana,sans-serif}.enlighter-t-bootstrap4 .enlighter-btn:hover{background-color:#007bff;color:#f0f0f0}.enlighter-t-bootstrap4 .enlighter-toolbar .enlighter-btn-raw{background-image:none}.enlighter-t-bootstrap4 .enlighter-toolbar .enlighter-btn-raw:after{content:'Raw'}.enlighter-t-bootstrap4 .enlighter-toolbar .enlighter-btn-copy{background-image:none}.enlighter-t-bootstrap4 .enlighter-toolbar .enlighter-btn-copy:after{content:'Copy'}.enlighter-t-bootstrap4 .enlighter-toolbar .enlighter-btn-window{background-image:none}.enlighter-t-bootstrap4 .enlighter-toolbar .enlighter-btn-window:after{content:'Extern'}.enlighter-t-bootstrap4 .enlighter-toolbar .enlighter-btn-website{background-image:none}.enlighter-t-bootstrap4 .enlighter-toolbar .enlighter-btn-website:after{content:'EnlighterJS'}.enlighter-t-bootstrap4.enlighter-hover div.enlighter>div:hover{background-color:#eceef0}.enlighter-t-bootstrap4 .enlighter-raw{font-size:1.15em;color:#212529;background-color:#f8f9fa;line-height:1.7em;padding:0 0 0 61px}.enlighter-t-bootstrap4 div.enlighter>div{padding:1px 5px 1px 14px;line-height:1.35em;color:#999;background-color:transparent}.enlighter-t-bootstrap4 div.enlighter>div:FIRST-CHILD{padding-top:5px}.enlighter-t-bootstrap4 div.enlighter>div:LAST-CHILD{padding-bottom:5px}.enlighter-t-bootstrap4 div.enlighter>div:AFTER{content:' '}.enlighter-t-bootstrap4 div.enlighter>div.enlighter-special{background-color:#eceef0}.enlighter-t-bootstrap4.enlighter-linenumbers div.enlighter>div::before{padding:1px 5px 1px 0;font-size:.8em}.enlighter-t-bootstrap4 .enlighter span{font-size:1.15em}.enlighter-t-bootstrap4 .enlighter-text{color:#212529}.enlighter-t-bootstrap4 .enlighter-c0{color:#999}.enlighter-t-bootstrap4 .enlighter-c1{color:#999}.enlighter-t-bootstrap4 .enlighter-c2{color:#999}.enlighter-t-bootstrap4 .enlighter-c9{color:#999}.enlighter-t-bootstrap4 .enlighter-k0{color:#069}.enlighter-t-bootstrap4 .enlighter-k1{color:#069}.enlighter-t-bootstrap4 .enlighter-k2{color:#069}.enlighter-t-bootstrap4 .enlighter-k3{color:#069}.enlighter-t-bootstrap4 .enlighter-k4{color:#069;font-style:italic}.enlighter-t-bootstrap4 .enlighter-k5{color:#212529}.enlighter-t-bootstrap4 .enlighter-k6{color:#069}.enlighter-t-bootstrap4 .enlighter-k7{color:#069;border-bottom:dotted 1px #069}.enlighter-t-bootstrap4 .enlighter-k8{color:#212529}.enlighter-t-bootstrap4 .enlighter-k9{color:#069}.enlighter-t-bootstrap4 .enlighter-k10{color:#212529}.enlighter-t-bootstrap4 .enlighter-k11{color:#999}.enlighter-t-bootstrap4 .enlighter-e0{color:#069}.enlighter-t-bootstrap4 .enlighter-e1{color:#069}.enlighter-t-bootstrap4 .enlighter-e2{color:#009926}.enlighter-t-bootstrap4 .enlighter-e3{color:#069}.enlighter-t-bootstrap4 .enlighter-e4{color:#069}.enlighter-t-bootstrap4 .enlighter-s0{color:#d44950}.enlighter-t-bootstrap4 .enlighter-s1{color:#d44950}.enlighter-t-bootstrap4 .enlighter-s2{color:#d44950}.enlighter-t-bootstrap4 .enlighter-s3{color:#d44950}.enlighter-t-bootstrap4 .enlighter-s4{color:#d44950}.enlighter-t-bootstrap4 .enlighter-s5{color:#d44950}.enlighter-t-bootstrap4 .enlighter-n0{color:#f60}.enlighter-t-bootstrap4 .enlighter-n1{color:#f60}.enlighter-t-bootstrap4 .enlighter-n2{color:#f60}.enlighter-t-bootstrap4 .enlighter-n3{color:#f60}.enlighter-t-bootstrap4 .enlighter-n4{color:#f60}.enlighter-t-bootstrap4 .enlighter-n5{color:#f60}.enlighter-t-bootstrap4 .enlighter-m0{color:#99f}.enlighter-t-bootstrap4 .enlighter-m1{color:#212529}.enlighter-t-bootstrap4 .enlighter-m2{color:#212529}.enlighter-t-bootstrap4 .enlighter-m3{color:#212529}.enlighter-t-bootstrap4 .enlighter-g0{color:#2f6f9f}.enlighter-t-bootstrap4 .enlighter-g1{color:#999;font-weight:700}.enlighter-t-bootstrap4 .enlighter-t0{color:#999}.enlighter-t-bootstrap4 .enlighter-t1{color:#d44950;font-weight:700}.enlighter-t-bootstrap4 .enlighter-t2{color:#d44950;font-weight:700}.enlighter-t-bootstrap4 .enlighter-t3{color:#0086b3}.enlighter-t-bootstrap4 .enlighter-t4{color:#0a8}.enlighter-t-bootstrap4 .enlighter-t5{color:#0a8}.enlighter-t-bootstrap4 .enlighter-t6{color:#f60}.enlighter-t-bootstrap4 .enlighter-t7{color:#999;font-weight:700}.enlighter-t-bootstrap4 .enlighter-t8{color:#999}.enlighter-t-bootstrap4 .enlighter-x1{color:#2f6f9f}.enlighter-t-bootstrap4 .enlighter-x2{color:#4f9fcf}.enlighter-t-bootstrap4 .enlighter-x10{color:#0a8}.enlighter-t-bootstrap4 .enlighter-x11{color:#0a8}.enlighter-t-bootstrap4 .enlighter-x12{color:#99f}.enlighter-t-bootstrap4 .enlighter-x13{color:#f60}.enlighter-t-bootstrap4 .enlighter-x14{color:#f60}.enlighter-t-bootstrap4 .enlighter-x15{color:#f60}.enlighter-t-bootstrap4.enlighter-v-inline{background-color:#f8f9fa;border:none;border-radius:5px;padding:3px}.enlighter-t-bootstrap4.enlighter-v-codegroup .enlighter-codegroup-switch{border:solid 3px #f8f9fa;border-bottom-width:0;padding:15px}.enlighter-t-bootstrap4.enlighter-v-codegroup .enlighter-codegroup-switch .enlighter-btn{padding:3px 10px 3px 10px;border:none;font-size:.9em;color:#212529;font-weight:700;background-color:#f8f9fa;border-radius:5px}.enlighter-t-bootstrap4.enlighter-v-codegroup .enlighter-codegroup-switch .enlighter-btn.enlighter-active{background-color:#007bff;color:#f0f0f0}\n",
       ".enlighter-t-dracula{background-color:#282a36}.enlighter-t-dracula .enlighter-toolbar{top:10px;right:10px}.enlighter-t-dracula .enlighter-btn{background-image:none;background-color:#44475a;color:#f8f8f2;font-size:1em;padding:2px 8px 2px 8px;margin:0 5px 0 5px;border:none;border-radius:4px;font-family:Arial,Helvetica,sans-serif}.enlighter-t-dracula .enlighter-btn:hover{background-color:#6272a4;color:#f8f8f2}.enlighter-t-dracula .enlighter-toolbar .enlighter-btn-raw{background-image:none}.enlighter-t-dracula .enlighter-toolbar .enlighter-btn-raw:after{content:'Raw'}.enlighter-t-dracula .enlighter-toolbar .enlighter-btn-copy{background-image:none}.enlighter-t-dracula .enlighter-toolbar .enlighter-btn-copy:after{content:'Copy'}.enlighter-t-dracula .enlighter-toolbar .enlighter-btn-window{background-image:none}.enlighter-t-dracula .enlighter-toolbar .enlighter-btn-window:after{content:'Extern'}.enlighter-t-dracula .enlighter-toolbar .enlighter-btn-website{background-image:none}.enlighter-t-dracula .enlighter-toolbar .enlighter-btn-website:after{content:'EnlighterJS'}.enlighter-t-dracula.enlighter-hover div.enlighter>div:hover{background-color:#44475a}.enlighter-t-dracula .enlighter-raw{font-size:1.25em;color:#f8f8f2;line-height:1.85em;padding:4px 5px 4px 55px}.enlighter-t-dracula div.enlighter>div{padding:1px 5px 1px 14px;line-height:1.6em;color:#6272a4;background-color:#282a36}.enlighter-t-dracula div.enlighter>div:FIRST-CHILD{padding-top:5px}.enlighter-t-dracula div.enlighter>div:LAST-CHILD{padding-bottom:5px}.enlighter-t-dracula div.enlighter>div:AFTER{content:' '}.enlighter-t-dracula div.enlighter>div.enlighter-special{background-color:#44475a}.enlighter-t-dracula.enlighter-linenumbers div.enlighter>div::before{font-size:1em;color:#6272a4}.enlighter-t-dracula .enlighter span{font-size:1.25em}.enlighter-t-dracula .enlighter-text{color:#f8f8f2}.enlighter-t-dracula .enlighter-c0{color:#6272a4}.enlighter-t-dracula .enlighter-c1{color:#6272a4}.enlighter-t-dracula .enlighter-c2{color:#6272a4}.enlighter-t-dracula .enlighter-c9{color:#6272a4}.enlighter-t-dracula .enlighter-k0{color:#ff79c6;font-weight:700}.enlighter-t-dracula .enlighter-k1{color:#8be9fd;font-weight:700}.enlighter-t-dracula .enlighter-k2{color:#ff79c6;font-weight:700}.enlighter-t-dracula .enlighter-k3{color:#ff79c6}.enlighter-t-dracula .enlighter-k4{color:#8be9fd}.enlighter-t-dracula .enlighter-k5{color:#8be9fd}.enlighter-t-dracula .enlighter-k6{color:#8be9fd}.enlighter-t-dracula .enlighter-k7{color:#ffb86c}.enlighter-t-dracula .enlighter-k8{color:#8be9fd}.enlighter-t-dracula .enlighter-k9{color:#50fa7b}.enlighter-t-dracula .enlighter-k10{color:#50fa7b}.enlighter-t-dracula .enlighter-k11{color:#6272a4}.enlighter-t-dracula .enlighter-e0{color:#bd93f9;font-weight:700}.enlighter-t-dracula .enlighter-e1{color:#bd93f9;font-weight:700}.enlighter-t-dracula .enlighter-e2{color:#f1fa8c}.enlighter-t-dracula .enlighter-e3{color:#bd93f9}.enlighter-t-dracula .enlighter-e4{color:#bd93f9;font-style:italic}.enlighter-t-dracula .enlighter-s0{color:#f1fa8c}.enlighter-t-dracula .enlighter-s1{color:#f1fa8c}.enlighter-t-dracula .enlighter-s2{color:#f1fa8c}.enlighter-t-dracula .enlighter-s3{color:#f1fa8c}.enlighter-t-dracula .enlighter-s4{color:#f1fa8c;font-weight:700}.enlighter-t-dracula .enlighter-s5{color:#f1fa8c;font-style:italic}.enlighter-t-dracula .enlighter-n0{color:#bd93f9}.enlighter-t-dracula .enlighter-n1{color:#bd93f9}.enlighter-t-dracula .enlighter-n2{color:#bd93f9}.enlighter-t-dracula .enlighter-n3{color:#bd93f9}.enlighter-t-dracula .enlighter-n4{color:#bd93f9}.enlighter-t-dracula .enlighter-n5{color:#bd93f9}.enlighter-t-dracula .enlighter-m0{color:#8be9fd}.enlighter-t-dracula .enlighter-m1{color:#8be9fd}.enlighter-t-dracula .enlighter-m2{color:#8be9fd}.enlighter-t-dracula .enlighter-m3{color:#8be9fd}.enlighter-t-dracula .enlighter-g0{color:#f8f8f2;font-weight:700}.enlighter-t-dracula .enlighter-g1{color:#f8f8f2;font-weight:700}.enlighter-t-dracula .enlighter-t0{color:#6272a4}.enlighter-t-dracula .enlighter-t1{color:#8be9fd;font-weight:700}.enlighter-t-dracula .enlighter-t2{color:#8be9fd;font-weight:700}.enlighter-t-dracula .enlighter-t3{color:#ff79c6}.enlighter-t-dracula .enlighter-t4{color:#ffb86c}.enlighter-t-dracula .enlighter-t5{color:#50fa7b}.enlighter-t-dracula .enlighter-t6{color:#f55}.enlighter-t-dracula .enlighter-t7{color:#f8f8f2;font-weight:700}.enlighter-t-dracula .enlighter-t8{color:#f8f8f2}.enlighter-t-dracula .enlighter-x1{color:#ff79c6;font-weight:700}.enlighter-t-dracula .enlighter-x2{color:#50fa7b}.enlighter-t-dracula .enlighter-x10{color:#f8f8f2;font-weight:700}.enlighter-t-dracula .enlighter-x11{color:#50fa7b;font-weight:700}.enlighter-t-dracula .enlighter-x12{color:#8be9fd;font-style:italic}.enlighter-t-dracula .enlighter-x13{color:#bd93f9}.enlighter-t-dracula .enlighter-x14{color:#bd93f9;font-style:italic}.enlighter-t-dracula .enlighter-x15{color:#ffb86c;font-style:italic}.enlighter-t-dracula.enlighter-v-codegroup .enlighter-codegroup-switch{background-color:#282a36;padding:10px}.enlighter-t-dracula.enlighter-v-codegroup .enlighter-codegroup-switch .enlighter-btn{background-image:none;background-color:transparent;color:#f8f8f2;font-size:1.15em;padding:2px 8px 2px 8px;margin:0 5px 0 5px;border:none;border-radius:4px;font-family:Arial,Helvetica,sans-serif}.enlighter-t-dracula.enlighter-v-codegroup .enlighter-codegroup-switch .enlighter-btn.enlighter-active{background-color:#44475a;color:#f8f8f2}\n",
       ".enlighter-t-monokai{background-color:#272822}.enlighter-t-monokai .enlighter-toolbar{top:10px;right:10px}.enlighter-t-monokai .enlighter-btn{background-image:none;background-color:#414339;color:#f8f8f2;font-size:1em;padding:2px 8px 2px 8px;margin:0 5px 0 5px;border:solid 1px #1e1f1c;font-family:\"Open Sans\",Arial,Verdana,sans-serif}.enlighter-t-monokai .enlighter-btn:hover{background-color:#4e5145}.enlighter-t-monokai .enlighter-toolbar .enlighter-btn-raw{background-image:none}.enlighter-t-monokai .enlighter-toolbar .enlighter-btn-raw:after{content:'Raw'}.enlighter-t-monokai .enlighter-toolbar .enlighter-btn-copy{background-image:none}.enlighter-t-monokai .enlighter-toolbar .enlighter-btn-copy:after{content:'Copy'}.enlighter-t-monokai .enlighter-toolbar .enlighter-btn-window{background-image:none}.enlighter-t-monokai .enlighter-toolbar .enlighter-btn-window:after{content:'Extern'}.enlighter-t-monokai .enlighter-toolbar .enlighter-btn-website{background-image:none}.enlighter-t-monokai .enlighter-toolbar .enlighter-btn-website:after{content:'EnlighterJS'}.enlighter-t-monokai.enlighter-hover div.enlighter>div:hover{background-color:#75715e}.enlighter-t-monokai .enlighter-raw{font-size:1.25em;color:#f8f8f2;line-height:1.85em;padding:4px 5px 4px 55px}.enlighter-t-monokai div.enlighter>div{padding:1px 5px 1px 14px;line-height:1.6em}.enlighter-t-monokai div.enlighter>div:FIRST-CHILD{padding-top:5px}.enlighter-t-monokai div.enlighter>div:LAST-CHILD{padding-bottom:5px}.enlighter-t-monokai div.enlighter>div:AFTER{content:' '}.enlighter-t-monokai div.enlighter>div.enlighter-special{background-color:#414339}.enlighter-t-monokai.enlighter-linenumbers div.enlighter>div::before{font-size:1em;color:grey}.enlighter-t-monokai .enlighter span{font-size:1.25em}.enlighter-t-monokai .enlighter-text{color:#f8f8f2}.enlighter-t-monokai .enlighter-c0{color:#75715e}.enlighter-t-monokai .enlighter-c1{color:#75715e}.enlighter-t-monokai .enlighter-c2{color:#75715e}.enlighter-t-monokai .enlighter-c9{color:#75715e}.enlighter-t-monokai .enlighter-k0{color:#f92672}.enlighter-t-monokai .enlighter-k1{color:#f92672}.enlighter-t-monokai .enlighter-k2{color:#f92672}.enlighter-t-monokai .enlighter-k3{color:#f92672}.enlighter-t-monokai .enlighter-k4{color:#f92672}.enlighter-t-monokai .enlighter-k5{color:#f92672}.enlighter-t-monokai .enlighter-k6{color:#f92672}.enlighter-t-monokai .enlighter-k7{color:#f8f8f2}.enlighter-t-monokai .enlighter-k8{color:#f92672}.enlighter-t-monokai .enlighter-k9{color:#fd971f}.enlighter-t-monokai .enlighter-k10{color:#f92672}.enlighter-t-monokai .enlighter-k11{color:#75715e}.enlighter-t-monokai .enlighter-e0{color:#ae81ff}.enlighter-t-monokai .enlighter-e1{color:#ae81ff}.enlighter-t-monokai .enlighter-e2{color:#ae81ff}.enlighter-t-monokai .enlighter-e3{color:#ae81ff}.enlighter-t-monokai .enlighter-e4{color:#ae81ff}.enlighter-t-monokai .enlighter-s0{color:#e6db74}.enlighter-t-monokai .enlighter-s1{color:#e6db74}.enlighter-t-monokai .enlighter-s2{color:#e6db74}.enlighter-t-monokai .enlighter-s3{color:#e6db74}.enlighter-t-monokai .enlighter-s4{color:#e6db74;font-weight:700}.enlighter-t-monokai .enlighter-s5{color:#e6db74;font-style:italic}.enlighter-t-monokai .enlighter-n0{color:#ae81ff}.enlighter-t-monokai .enlighter-n1{color:#ae81ff}.enlighter-t-monokai .enlighter-n2{color:#ae81ff}.enlighter-t-monokai .enlighter-n3{color:#ae81ff}.enlighter-t-monokai .enlighter-n4{color:#ae81ff}.enlighter-t-monokai .enlighter-n5{color:#ae81ff}.enlighter-t-monokai .enlighter-m0{color:#66d9ef}.enlighter-t-monokai .enlighter-m1{color:#66d9ef}.enlighter-t-monokai .enlighter-m2{color:#66d9ef}.enlighter-t-monokai .enlighter-m3{color:#66d9ef}.enlighter-t-monokai .enlighter-g0{color:#f8f8f2;font-weight:700}.enlighter-t-monokai .enlighter-g1{color:#f8f8f2;font-weight:700}.enlighter-t-monokai .enlighter-t0{color:#f8f8f2}.enlighter-t-monokai .enlighter-t1{color:#a6e22e}.enlighter-t-monokai .enlighter-t2{color:#a6e22e}.enlighter-t-monokai .enlighter-t3{color:#e6db74}.enlighter-t-monokai .enlighter-t4{color:#e6db74}.enlighter-t-monokai .enlighter-t5{color:#a6e22e}.enlighter-t-monokai .enlighter-t6{color:#f92672}.enlighter-t-monokai .enlighter-t7{color:#f92672}.enlighter-t-monokai .enlighter-t8{color:#75715e}.enlighter-t-monokai .enlighter-x1{color:#f92672}.enlighter-t-monokai .enlighter-x2{color:#a6e22e}.enlighter-t-monokai .enlighter-x10{color:#a6e22e}.enlighter-t-monokai .enlighter-x11{color:#a6e22e}.enlighter-t-monokai .enlighter-x12{color:#66d9ef;font-style:italic}.enlighter-t-monokai .enlighter-x13{color:#f92672}.enlighter-t-monokai .enlighter-x14{color:#ae81ff}.enlighter-t-monokai .enlighter-x15{color:#a6e22e}.enlighter-t-monokai.enlighter-v-codegroup .enlighter-codegroup-switch{background-color:#414339;padding:10px 10px 0 30px}.enlighter-t-monokai.enlighter-v-codegroup .enlighter-codegroup-switch .enlighter-btn{background-image:none;background-color:#414339;color:#f8f8f2;font-size:1.15em;padding:2px 8px 2px 8px;margin:0 10px 0 10px;border:none;line-height:2.1em;border-radius:0;font-style:italic}.enlighter-t-monokai.enlighter-v-codegroup .enlighter-codegroup-switch .enlighter-btn.enlighter-active{background-color:#272822;color:#f8f8f2;font-weight:700;font-style:normal}</style><style>/*\n",
       " * Copyright (c) 2016 - present\n",
       " * QuantumBlack Visual Analytics Ltd (a McKinsey company).\n",
       " * All rights reserved.\n",
       " *\n",
       " * This software framework contains the confidential and proprietary information\n",
       " * of QuantumBlack, its affiliates, and its licensors. Your use of these\n",
       " * materials is governed by the terms of the Agreement between your organisation\n",
       " * and QuantumBlack, and any unauthorised use is forbidden. Except as otherwise\n",
       " * stated in the Agreement, this software framework is for your internal use\n",
       " * only and may only be shared outside your organisation with the prior written\n",
       " * permission of QuantumBlack.\n",
       " */\n",
       "\n",
       ".enlighter-default {\n",
       "    font-size: 14px;\n",
       "    margin: 0;\n",
       "    max-height: 500px;\n",
       "    overflow-y: auto;\n",
       "}\n",
       ".enlighter-default .enlighter-btn-window,\n",
       ".enlighter-default .enlighter-btn-website {\n",
       "    display: none;\n",
       "}\n",
       ".enlighter-t-enlighter {\n",
       "    border-radius: 0;\n",
       "}\n",
       "div.enlighter>div:FIRST-CHILD::before,\n",
       "div.enlighter>div:LAST-CHILD::before {\n",
       "    border-radius: 0 !important;\n",
       "}\n",
       "</style><script>/*! EnlighterJS Syntax Highlighter 3.4.0 | Mozilla Public License 2.0 | https://enlighterjs.org */\n",
       "var EnlighterJS=function(e){\"use strict\";var c={indent:4,ampersandCleanup:!0,linehover:!0,rawcodeDbclick:!1,textOverflow:\"break\",collapse:!1,retainCssClasses:!1,cssClasses:\"\",toolbarOuter:\"{BTN_TABS}\",toolbarTop:\"{BTN_RAW}{BTN_COPY}{BTN_WINDOW}{BTN_WEBSITE}\",toolbarBottom:\"{BTN_COLLAPSE}\",linenumbers:!0,lineoffset:0,highlight:\"\",layout:\"standard\",language:\"generic\",theme:\"enlighter\",title:\"\"};function r(e,t){if(!(e instanceof t))throw new TypeError(\"Cannot call a class as a function\")}function n(e,t){for(var r=0;r<t.length;r++){var n=t[r];n.enumerable=n.enumerable||!1,n.configurable=!0,\"value\"in n&&(n.writable=!0),Object.defineProperty(e,n.key,n)}}function i(e,t,r){return t&&n(e.prototype,t),r&&n(e,r),e}function a(e,t){if(\"function\"!=typeof t&&null!==t)throw new TypeError(\"Super expression must either be null or a function\");e.prototype=Object.create(t&&t.prototype,{constructor:{value:e,writable:!0,configurable:!0}}),t&&o(e,t)}function s(e){return(s=Object.setPrototypeOf?Object.getPrototypeOf:function(e){return e.__proto__||Object.getPrototypeOf(e)})(e)}function o(e,t){return(o=Object.setPrototypeOf||function(e,t){return e.__proto__=t,e})(e,t)}function l(){if(\"undefined\"==typeof Reflect||!Reflect.construct)return!1;if(Reflect.construct.sham)return!1;if(\"function\"==typeof Proxy)return!0;try{return Date.prototype.toString.call(Reflect.construct(Date,[],function(){})),!0}catch(e){return!1}}function g(e,t,r){return(g=l()?Reflect.construct:function(e,t,r){var n=[null];n.push.apply(n,t);var i=new(Function.bind.apply(e,n));return r&&o(i,r.prototype),i}).apply(null,arguments)}function u(e,t){return!t||\"object\"!=typeof t&&\"function\"!=typeof t?function(e){if(void 0===e)throw new ReferenceError(\"this hasn't been initialised - super() hasn't been called\");return e}(e):t}function p(r){var n=l();return function(){var e,t=s(r);return u(this,n?(e=s(this).constructor,Reflect.construct(t,arguments,e)):t.apply(this,arguments))}}function y(e,t,r){return(y=\"undefined\"!=typeof Reflect&&Reflect.get?Reflect.get:function(e,t,r){var n=function(e,t){for(;!Object.prototype.hasOwnProperty.call(e,t)&&null!==(e=s(e)););return e}(e,t);if(n){var i=Object.getOwnPropertyDescriptor(n,t);return i.get?i.get.call(r):i.value}})(e,t,r||e)}function f(e){return function(e){if(Array.isArray(e))return d(e)}(e)||function(e){if(\"undefined\"!=typeof Symbol&&Symbol.iterator in Object(e))return Array.from(e)}(e)||b(e)||function(){throw new TypeError(\"Invalid attempt to spread non-iterable instance.\\nIn order to be iterable, non-array objects must have a [Symbol.iterator]() method.\")}()}function b(e,t){if(e){if(\"string\"==typeof e)return d(e,t);var r=Object.prototype.toString.call(e).slice(8,-1);return\"Object\"===r&&e.constructor&&(r=e.constructor.name),\"Map\"===r||\"Set\"===r?Array.from(e):\"Arguments\"===r||/^(?:Ui|I)nt(?:8|16|32)(?:Clamped)?Array$/.test(r)?d(e,t):void 0}}function d(e,t){(null==t||t>e.length)&&(t=e.length);for(var r=0,n=new Array(t);r<t;r++)n[r]=e[r];return n}var h={sqStrings:{regex:/('(?:[^'\\\\]|\\\\.)*')/g,type:\"s0\"},dqStrings:{regex:/\"(?:[^\"\\\\]|\\\\.)*\"/g,type:\"s0\"},bqStrings:{regex:/`(?:[^`\\\\]|\\\\.)*`/g,type:\"s0\"},char:{regex:/('(\\\\.|.|\\\\\\w+)')/g,type:\"s1\"},slashComments:{regex:/(?:^|[^\\\\])\\/\\/.*$/gm,type:\"c0\"},poundComments:{regex:/(?:^|[^\\\\])#.*$/gm,type:\"c0\"},blockComments:{regex:/\\/\\*[\\s\\S]*?\\*\\//g,type:\"c1\"},docComments:{regex:/\\/\\*\\*[\\s\\S]*?\\*\\//g,type:\"c2\"},heredoc:{regex:/(<<[<-]?\\s*?(['\"]?)([A-Z0-9_]+)\\2\\s*\\n[\\s\\S]*?\\n\\3)/gi,type:\"s5\"},brackets:{regex:/[[\\](){}<>]+/g,type:\"g1\"},floats:{regex:/[\\b\\W](-?((?:\\d+\\.\\d+|\\.\\d+|\\d+\\.)(?:e[+-]?\\d+)?)|\\d+(?:e[+-]?\\d+))/gi,type:\"n0\"},complex:{regex:/[\\b\\W](?:-?(?:(?:\\d+\\.\\d+|\\.\\d+|\\d+\\.|\\d+)(?:e[+-]?\\d+)?)|\\d+(?:e[+-]?\\d+))[ij]/gi,type:\"n5\"},int:{regex:/[\\b\\W](-?\\d+)(?!\\.)\\b/g,type:\"n1\"},hex:{regex:/[\\b\\W](-?0x[A-F0-9]+)\\b/gi,type:\"n2\"},bin:{regex:/[\\b\\W](-?0b[01]+)\\b/gi,type:\"n3\"},octal:{regex:/[\\b\\W](-?0[0-7]+)(?!\\.)\\b/g,type:\"n4\"},prop:{regex:/[\\w\\])]\\.(\\w+)\\b/g,type:\"m3\"},fCalls:{regex:/\\b([\\w]+)\\s*\\(/gm,type:\"m0\"},mCalls:{regex:/\\.([\\w]+)\\s*\\(/gm,type:\"m1\"},boolean:{regex:/\\b(true|false)\\b/gi,type:\"e0\"},null:{regex:/\\b(null)\\b/gi,type:\"e1\"}};function C(e,t,r,n,i){return{text:e,type:t,index:n||0,end:e.length+n,filter:r||null,priority:i||0}}function m(e,t,r){for(var n=2<arguments.length&&void 0!==r?r:\"text\",i=[],a=0,s=0;s<t.length;s++){var o=t[s];if(!o||!o.type||!o.regex)return;for(var l=void 0;null!=(l=o.regex.exec(e));){if(5e4<++a)throw new Error(\"Infinite tokenizer loop detected; more than 50k tokens - language rule [\"+s+\"] \"+o.regex+\" seems to be broken\");if(0!=l[0].length){o.regex.lastIndex=l.index+1+l[0].length/3;var g=Array.isArray(o.type)?o.type[0]:o.type,u=(Array.isArray(o.filter)?o.filter[0]:o.filter)||null;if(1<l.length)for(var p,c,y,f=0,b=1;b<l.length;b++){l[b]&&(p=Array.isArray(o.type)&&o.type.length>=b?o.type[b-1]:g,c=Array.isArray(o.filter)&&o.filter.length>=b?o.filter[b-1]:u,f=y=l[0].indexOf(l[b],f),i.push(C(l[b],p,c,l.index+y,s)))}else i.push(C(l[0],g,u,l.index,s))}}}i=i.sort(function(e,t){return e.index==t.index?e.priority<t.priority?-1:1:e.index<t.index?-1:1});for(var d=[],h=0,m=0;m<i.length;m++){if(h<i[m].index&&d.push(C(e.substring(h,i[m].index),n,null,h)),i[m].filter)for(var x=i[m].filter(i[m])||[],k=0;k<x.length;k++)d.push(x[k]);else d.push(i[m]);h=i[m].end;for(var v=!1,w=m+1;w<i.length;w++)if(i[w].index>=h){m=w-1,v=!0;break}if(!1===v)break}return h<e.length&&d.push(C(e.substring(h),n,null,h)),d}var x=function(){function e(){r(this,e),this.rules=[],this.setupLanguage()}return i(e,[{key:\"setupLanguage\",value:function(){this.rules=[h.sqStrings,h.dqStrings,h.prop,h.slashComments,h.poundComments,h.blockComments,h.brackets,{regex:/\\W(true|false|null|nil|if|then|else|for|while|do|class|implements|extends|function|end|void|return|in|of|new|this|try|catch|def|except)\\W/gi,type:\"k1\"},h.mCalls,h.fCalls,h.octal,h.bin,h.hex,h.floats,h.int,{regex:/[\\b\\s]([$&|~*:;]+)[\\b\\s]/g,type:\"g0\"}]}},{key:\"analyze\",value:function(e){return m(e,this.rules)}}]),e}(),t=function(){a(t,x);var e=p(t);function t(){return r(this,t),e.apply(this,arguments)}return i(t,[{key:\"setupLanguage\",value:function(){this.rules=[h.sqStrings,{regex:/\\|.*?\\|/g,type:\"s2\"},{regex:/(\".*)$/gm,type:\"c0\"},{regex:/^\\s*(\\*.*)$/gm,type:\"c0\"},{regex:/(data):?\\s*(\\w+)\\s*/gi,type:[\"k2\",\"k7\"]},{regex:/(type)\\s+(\\w+)\\s*/gi,type:[\"k2\",\"k5\"]},{regex:/\\b(abap_true|abap_false)\\b/gi,type:\"e0\"},{regex:/\\b(abap_undefined)\\b/gi,type:\"e1\"},{regex:/\\b[A-Z_][A-Za-z0-9_]*\\b/g,type:\"k0\"},h.fCalls,h.int,h.brackets]}}]),t}();function k(e,t,r){for(var n,i=[],a=0;null!=(n=t.exec(e.text));){a<n.index&&i.push(C(e.text.substring(a,n.index),e.type,null,a));for(var s=r(n,e.type)||[],o=0;o<s.length;o++)i.push(s[o]);a=n.index+n[0].length,t.lastIndex=a}return 0==i.length?[e]:(a<e.text.length&&i.push(C(e.text.substring(a),e.type,null,a)),i)}var v=function(){a(t,x);var e=p(t);function t(){return r(this,t),e.apply(this,arguments)}return i(t,[{key:\"setupLanguage\",value:function(){this.rules=[h.dqStrings,h.poundComments,{regex:/(<)([A-Z:_][A-Z0-9:.-]*)([\\s\\S]*?)(\\/?>)/gi,type:[\"g1\",\"x1\",\"text\",\"g1\"],filter:[null,null,function(e){return k(e,h.dqStrings.regex,function(e){return[C(e[0],\"s0\")]})},null]},{regex:/(<\\/)([A-Z:_][A-Z0-9:.-]*\\s*)(>)/gi,type:[\"g1\",\"x1\",\"g1\"]},{regex:/^\\s*([A-Z]\\w+)\\b/gm,type:\"k0\"},{regex:/%\\{\\w+\\}/g,type:\"k7\"},{regex:/\\b(on|off)\\b/gi,type:\"e0\"},h.int]}}],[{key:\"alias\",value:function(){return[\"apacheconf\",\"httpd\"]}}]),t}(),w=function(){a(t,x);var e=p(t);function t(){return r(this,t),e.apply(this,arguments)}return i(t,[{key:\"setupLanguage\",value:function(){this.rules=[{regex:/(;.*)$/gm,type:\"co0\"},{regex:/(\\$.*)$/gm,type:\"k4\"},h.sqStrings,h.dqStrings,{regex:/(^|:)\\s*?(\\w+)\\s+/gm,type:\"k0\"},{regex:/^\\s*?([A-Z?_][A-Z0-9?_]+:)\\s*?/gim,type:\"k6\"},{regex:/@\\w+/gi,type:\"k9\"},{regex:/#\\w+/gi,type:\"k9\"},{regex:/[A-F0-9][A-F0-9$]+?H/gi,type:\"n2\"},{regex:/\\d[\\d$]+?D/gi,type:\"n1\"},{regex:/[01][01$]+?B/gi,type:\"n3\"},{regex:/[0-7][0-7$]+?(?:Q|O)/gi,type:\"nu4\"},{regex:/(0x[A-F0-9]+|\\$[A-F0-9]+)/gi,type:\"n2\"},{regex:/(0b[01]+)/g,type:\"n3\"},{regex:/\\b(\\d+)/g,type:\"n1\"},h.fCalls]}}],[{key:\"alias\",value:function(){return[\"asm\"]}}]),t}(),S=function(){a(t,x);var e=p(t);function t(){return r(this,t),e.apply(this,arguments)}return i(t,[{key:\"setupLanguage\",value:function(){this.rules=[{regex:/(;.*)$/gm,type:\"co0\"},h.sqStrings,h.dqStrings,{regex:/^\\s*?\\.\\w+\\s+/gm,type:\"kw4\"},{regex:/\\b(r\\d{1,2})/gi,type:\"kw0\"},{regex:/(@[0-9])/gi,type:\"k2\"},{regex:/^\\s*?(\\w+:)\\s*?/gm,type:\"kw6\"},{regex:/(^|:)\\s*?(\\w+)\\s+/gm,type:\"kw0\"},{regex:/(0x[A-F0-9]+|\\$[A-F0-9]+)/gi,type:\"nu2\"},h.bin,h.int,h.fCalls,{regex:/\\b[A-Z]{2,}[0-9]?[0-9]?\\b/g,type:\"kw9\"}]}}],[{key:\"alias\",value:function(){return[\"avrasm\"]}}]),t}(),_=function(){a(t,x);var e=p(t);function t(){return r(this,t),e.apply(this,arguments)}return i(t,[{key:\"setupLanguage\",value:function(){this.rules=[h.dqStrings,h.char,{regex:/@[\\W\\w_][\\w]+/gm,type:\"k11\"},h.boolean,h.null,h.prop,{regex:/#.*$/gm,type:\"k4\"},{regex:/\\b(break|case|catch|continue|do|else|for|if|goto|switch|try|throw|while)\\b/g,type:\"k1\"},{regex:/\\b(__[A-Z][A-Z0-9_]+__|__cplusplus)\\b/g,type:\"e3\"},{regex:/\\b(\\w+\\d+?_t)\\b/g,type:\"k5\"},{regex:/\\b(bool|char|double|float|int|long|short|void)\\b/g,type:\"k5\"},{regex:/\\b(enum|struct|typedef|union)\\b/g,type:\"k2\"},{regex:/\\b(const|volatile|unsigned|signed|restrict)\\b/g,type:\"k8\"},{regex:/\\b(asm|auto|class|auto|default|explicit|export|extern|friend|inline|thread_local|static_assert|nullptr|noexcept|friend|decltype|constexpr|alignof|alignas|virtual|using|typename|typeid|this|template|static|return|register|public|protected|private|operator|namespace|mutable|inline)\\b/g,type:\"k0\"},{regex:/\\b(new|delete|cast|const_cast|dynamic_cast|static_cast|reinterpret_cast|sizeof|and|bitand|and_eq|not|not_eq|or|bitor|or_eq|xor|xor_eq|compl)\\b/g,type:\"k3\"},h.mCalls,h.fCalls,h.slashComments,h.blockComments,h.octal,h.bin,h.hex,h.floats,h.brackets]}}],[{key:\"alias\",value:function(){return[\"c++\",\"c\"]}}]),t}(),E=function(){a(t,x);var e=p(t);function t(){return r(this,t),e.apply(this,arguments)}return i(t,[{key:\"setupLanguage\",value:function(){this.rules=[{regex:/\\$(\"(?:[^\"\\\\]|\\\\.)*\")/g,type:\"s0\",filter:function(e){return k(e,/\\{.*?}/g,function(e){return[C(e[0],\"s3\")]})}},h.dqStrings,h.char,h.null,h.boolean,h.prop,{regex:/\\b(bool|byte|char|decimal|double|float|int|long|sbyte|short|uint|ulong|ushort|void)\\b/g,type:\"k5\"},{regex:/\\b(while|try|throw|switch|if|goto|foreach|for|finally|else|do|continue|catch|case|break)\\b/g,type:\"k1\"},{regex:/^((?:using|namespace)\\s+)(\\w[\\w._]+[;{\\n])/gm,type:[\"k0\",\"k10\"]},{regex:/\\b(enum|struct|var)\\b/g,type:\"k2\"},{regex:/\\b(const|in|out)\\b/g,type:\"k8\"},{regex:/\\b(using|volatile|virtual|using|unsafe|unchecked|static|stackalloc|sealed|return|ref|readonly|public|protected|private|params|override|operator|object|namespace|lock|is|internal|interface|implicit|fixed|extern|explicit|event|delegate|default|class|checked|base|as|abstract)\\b/g,type:\"k0\"},{regex:/\\b(add|alias|ascending|async|await|by|descending|dynamic|equals|from|get|global|group|into|join|let|nameof|on|orderby|partial|remove|select|set|unmanaged|value|var|when|where|yield)\\b/g,type:\"k0\"},{regex:/\\b(this)\\b/g,type:\"k9\"},{regex:/\\b(new|sizeof|typeof)\\b/g,type:\"k3\"},h.fCalls,h.mCalls,h.slashComments,h.blockComments,h.docComments,h.int,h.floats,h.bin,h.hex,h.octal,h.brackets]}}],[{key:\"alias\",value:function(){return[\"c#\"]}}]),t}(),A={pseudoElements:{regex:/[\\w\\])](::?[\\w-]+)\\b/g,type:\"x15\"},idSelector:{regex:/(#[\\w-]+)/g,type:\"x10\"},classSelector:{regex:/(\\.[\\w-]+)/g,type:\"x11\"},elementSelector:{regex:/\\b([\\w-]+)/g,type:\"x16\"}},L=function(){a(t,x);var e=p(t);function t(){return r(this,t),e.apply(this,arguments)}return i(t,[{key:\"setupLanguage\",value:function(){var t=[A.pseudoElements,A.idSelector,A.classSelector,A.elementSelector,h.dqStrings,h.sqStrings];this.rules=[{regex:/(?:^|}|\\*\\/|;|{)\\s*([^{};/]+?)\\s*{/g,type:\"text\",filter:function(e){return m(e.text,t)}},h.dqStrings,h.sqStrings,{regex:/\\W@(charset|import|namespace|page|font-face|keyframes|viewport|document|supports)\\b/gi,type:\"k4\"},{regex:/(url\\s*)(\\(.*?\\))/gi,type:[\"m0\",\"s0\"]},{regex:/(#[a-z0-9]+)\\W/gi,type:\"x14\"},{regex:/(-?\\.?\\d+[.\\d]*(%|[a-z]{2,4})?)/gim,type:\"x13\"},{regex:/([\\w-]+)\\s*:/g,type:\"x12\"},h.blockComments,h.brackets]}}],[{key:\"alias\",value:function(){return[\"styles\"]}}]),t}(),q=function(){a(t,x);var e=p(t);function t(){return r(this,t),e.apply(this,arguments)}return i(t,[{key:\"setupLanguage\",value:function(){this.rules=[{regex:/^(\"\"\"[\\s\\S]*?\"\"\"|'''[\\s\\S]*?''')/gm,type:\"c9\"},{regex:/(\"\"\"[\\s\\S]*?\"\"\"|'''[\\s\\S]*?''')/g,type:\"s5\"},h.dqStrings,h.sqStrings,{regex:/\\b(__[a-z]+__)\\b/g,type:\"e3\"},{regex:/[^;]\\s*(from\\s+)([\\w.]+)(\\s+import)/gi,type:[\"k0\",\"k10\",\"k0\"]},{regex:/\\b(raise|while|try|if|for|finally|else|elif|continue|break)\\b/g,type:\"k1\"},{regex:/\\b(yield|with|return|pass|lambda|is|in|import|global|from|except|def|class|assert|as|async|await)\\b/g,type:\"k0\"},{regex:/\\b(and|or|not|del)\\b/g,type:\"k3\"},{regex:/\\b(True|False)\\b/g,type:\"e0\"},{regex:/\\b(None)\\b/g,type:\"e1\"},h.mCalls,h.fCalls,h.poundComments,h.int,h.hex,h.floats,h.octal,h.brackets]}}],[{key:\"alias\",value:function(){return[\"py\"]}}]),t}(),I=function(){a(t,q);var e=p(t);function t(){return r(this,t),e.apply(this,arguments)}return i(t,[{key:\"setupLanguage\",value:function(){y(s(t.prototype),\"setupLanguage\",this).call(this);this.rules=[{regex:/\\b(bool|char|double|float|int|long|short|void)\\b/g,type:\"k5\"},{regex:/\\b(enum|struct|typedef|union|object)\\b/g,type:\"k2\"},{regex:/\\b(const|volatile|unsigned|signed|restrict)\\b/g,type:\"k8\"},{regex:/\\b(readonly|extern|namespace|public|privat|include|cimport|pyximport|cythonize|cdef|cpdef|ctypedef|property|IF|ELIF|ELSE|DEF)\\b/g,type:\"k0\"}].concat(this.rules)}}]),t}(),W=function(){a(t,x);var e=p(t);function t(){return r(this,t),e.apply(this,arguments)}return i(t,[{key:\"setupLanguage\",value:function(){this.rules=[h.poundComments,h.brackets,{regex:/\\[(\\w+)\\]/gm,type:\"k9\"},{regex:/\\{([\\w_-]+)\\s*(?::\\s*(.*?))?}/gm,type:[\"k7\",\"s0\"]}]}}]),t}(),N=function(){a(t,x);var e=p(t);function t(){return r(this,t),e.apply(this,arguments)}return i(t,[{key:\"setupLanguage\",value:function(){this.rules=[{regex:/^([+-]{3}.*)$/gm,type:\"c0\"},{regex:/^(@@.*@@\\s*)/gm,type:\"t2\"},{regex:/^(\\+.*)/gm,type:\"t5\"},{regex:/^(-.*)/gm,type:\"t6\"}]}}]),t}(),D=function(){a(t,x);var e=p(t);function t(){return r(this,t),e.apply(this,arguments)}return i(t,[{key:\"setupLanguage\",value:function(){this.rules=[h.dqStrings,{regex:/\\$\\{\\w+\\}/gi,type:\"k7\"},{regex:/ARG\\s+(\\w+)(?:(=)(.*?)$)?/gim,type:[\"k7\",\"k3\",\"s0\"]},{regex:/ENV\\s+(\\w+)(?:(\\s+|=)(.*?)$)?/gim,type:[\"k7\",\"k3\",\"s0\"]},{regex:/(?:^|[^\\\\])#\\s*\\w+=.*$/gm,type:\"k4\"},h.poundComments,{regex:/^([a-z]+)\\b/gim,type:\"k0\"},{regex:/\\b(AS)\\b/gi,type:\"k0\"},{regex:/^\\s+(&&)/gim,type:\"k3\"},h.brackets]}}],[{key:\"alias\",value:function(){return[\"docker\"]}}]),t}(),$=function(){a(t,x);var e=p(t);function t(){return r(this,t),e.apply(this,arguments)}return i(t,[{key:\"setupLanguage\",value:function(){this.rules=[h.dqStrings,h.bqStrings,h.char,h.boolean,{regex:/\\b(nil)\\b/gi,type:\"e1\"},h.prop,{regex:/\\b(var)\\b/g,type:\"k2\"},{regex:/\\b(case|break|default|else|goto|switch|if|continue|for)\\b/g,type:\"k1\"},{regex:/\\b(func|interface|select|defer|go|map|chan|package|fallthrough|range|import|return)\\b/g,type:\"k0\"},{regex:/\\b(iota)\\b/g,type:\"k9\"},{regex:/\\b(bool|string|u?int(8|16|32|64)?|uintptr|byte|rune|float32|float64|complex64|complex128)\\b/g,type:\"k5\"},{regex:/\\b(struct|type)\\b/g,type:\"k2\"},{regex:/\\b(const)\\b/g,type:\"k8\"},h.mCalls,h.fCalls,h.slashComments,h.octal,h.int,h.complex,h.floats,h.hex,h.brackets]}}],[{key:\"alias\",value:function(){return[\"golang\"]}}]),t}(),O=function(){a(t,x);var e=p(t);function t(){return r(this,t),e.apply(this,arguments)}return i(t,[{key:\"setupLanguage\",value:function(){this.rules=[{regex:/(\"\"\"[\\s\\S]*?\"\"\"|'''[\\s\\S]*?''')/g,type:\"s5\"},h.dqStrings,h.sqStrings,h.char,h.slashComments,h.blockComments,h.docComments,{regex:/(\\/(?:[^/\\\\]|\\\\.)*\\/)/g,type:\"s5\"},h.prop,{regex:/\\b(byte|char|short|int|long|float|double|String)\\b/g,type:\"k5\"},{regex:/\\b(break|case|catch|continue|default|do|else|finally|for|goto|if|switch|throw|try|while)\\b/g,type:\"k1\"},{regex:/^(package|import)(\\s+[\\w.]+)/gm,type:[\"k0\",\"k10\"]},{regex:/\\b(const|enum|def)\\b/g,type:\"k2\"},{regex:/\\b(as|assert|class|extends|goto|implements|in|interface|return|thows|trait)\\b/g,type:\"k0\"},{regex:/\\b(this|super)\\b/g,type:\"k9\"},{regex:/\\b(instanceof|new)\\b/g,type:\"k3\"},h.fCalls,h.mCalls,h.null,h.boolean,{regex:/^#.*/g,type:\"k9\"},{regex:/[\\b\\W](-?0[0-7][0-7_]+[GLIDF]?)\\b/gi,type:\"n4\"},{regex:/[\\b\\W](-?\\d[\\d_]*[GLIDF]?)(?!\\.)\\b/gi,type:\"n1\"},{regex:/[\\b\\W](-?0x[A-F0-9][A-F0-9_]+[GLIDF]?)\\b/gi,type:\"n2\"},{regex:/[\\b\\W](-?0b[01][01_]+[GLIDF]?)\\b/gi,type:\"n3\"},{regex:/(-?((?:\\d+\\.\\d+|\\.\\d+|\\d+\\.)(?:e[+-]?\\d+)?)|\\d+(?:e[+-]?\\d+)?)/gi,type:\"n0\"},h.brackets]}}]),t}(),T=function(){a(t,x);var e=p(t);function t(){return r(this,t),e.apply(this,arguments)}return i(t,[{key:\"setupLanguage\",value:function(){this.rules=[h.dqStrings,{regex:/(;.*)$/gm,type:\"c0\"},h.poundComments,{regex:/^\\s*?(\\[.*])\\s*?$/gm,type:\"t2\"},{regex:/^(\\s*?[a-z0-9._-]+\\s*?)(=)/gim,type:[\"k2\",\"k3\"]},{regex:/\\b(true|false|on|off|yes|no)\\b/gim,type:\"e0\"},h.octal,h.bin,h.hex,h.floats,h.brackets]}}],[{key:\"alias\",value:function(){return[\"conf\",\"cnf\"]}}]),t}(),R=function(){a(t,x);var e=p(t);function t(){return r(this,t),e.apply(this,arguments)}return i(t,[{key:\"setupLanguage\",value:function(){this.rules=[h.dqStrings,h.char,{regex:/@[\\W\\w_][\\w]+/gm,type:\"k11\"},h.prop,{regex:/\\b(boolean|byte|char|short|int|long|float|double|String|void|Integer|Double|BigInt|Float|Boolean|Byte|Char|Long)\\b/g,type:\"k5\"},{regex:/\\b(while|try|catch|case|else|throw|break|if|do|goto|switch|for|continue)\\b/g,type:\"k1\"},{regex:/^(package|import)(\\s+[\\w.]+)/gm,type:[\"k0\",\"k10\"]},{regex:/\\b(enum)\\b/g,type:\"k2\"},{regex:/\\b(const)\\b/g,type:\"k8\"},{regex:/\\b(native|volatile|strictfp|finally|class|static|interface|final|extends|transient|return|throws|public|protected|implements|private|synchronized|default|assert|abstract)\\b/g,type:\"k0\"},{regex:/\\b(this|super)\\b/g,type:\"k9\"},{regex:/\\b(instanceof|new)\\b/g,type:\"k3\"},h.fCalls,h.mCalls,h.null,h.boolean,h.slashComments,h.blockComments,h.docComments,h.int,h.floats,h.bin,h.hex,h.octal,h.brackets]}}]),t}(),F=function(){a(t,x);var e=p(t);function t(){return r(this,t),e.apply(this,arguments)}return i(t,[{key:\"setupLanguage\",value:function(){function e(e){return k(e,/\\\\(x[A-F0-9]{2}|u[A-F0-9]{4}|.)/gi,function(e){return[C(e[0],\"s4\")]})}this.rules=[{regex:h.sqStrings.regex,type:\"s0\",filter:e},{regex:h.dqStrings.regex,type:\"s0\",filter:e},{regex:/`(?:[^`\\\\]|\\\\.)*`/g,type:\"s2\",filter:function(e){return k(e,/\\$\\{.*?}/g,function(e){return[C(e[0],\"s3\")]})}},h.boolean,h.null,h.prop,{regex:/\\b(var|let|enum|const)\\b/g,type:\"k2\"},{regex:/\\b(document|window|console)\\b/g,type:\"k9\"},{regex:/\\b(break|case|catch|continue|do|else|finally|for|if|switch|try|while|throw)\\b/g,type:\"k1\"},{regex:/\\b(as|async|class|constructor|debugger|default|export|extends|function|import|return|with|yield|implements|package|protected|static|interface|private|public|await|module)\\b/g,type:\"k0\"},{regex:/\\b(this|super)\\b/g,type:\"k9\"},{regex:/\\b(instanceof|new|delete|typeof|void|in)\\b/g,type:\"k3\"},{regex:/\\W(=>)\\W/g,type:\"k3\"},h.slashComments,h.blockComments,{regex:/\\W(\\/(?:[^/\\\\]|\\\\.)*\\/\\w*)/g,type:\"e2\"},h.mCalls,h.fCalls,{regex:/\\{|}|\\(|\\)|\\[|]/g,type:\"g1\"},{regex:/[\\b\\W](-?0o[0-7]+)(?!\\.)\\b/g,type:\"n4\"},h.bin,h.hex,h.floats,h.int]}}],[{key:\"alias\",value:function(){return[\"js\"]}}]),t}(),j=function(){a(t,x);var e=p(t);function t(){return r(this,t),e.apply(this,arguments)}return i(t,[{key:\"setupLanguage\",value:function(){this.rules=[{regex:/\"(?:[^\"\\\\]|\\\\.)*\"\\s*:/g,type:\"k2\"},h.dqStrings,h.boolean,h.null,{regex:/\\{|}|\\(|\\)|\\[|]/g,type:\"g1\"},h.int,h.floats,{regex:/,|:/g,type:\"g0\"}]}}]),t}(),z=function(){a(t,x);var e=p(t);function t(){return r(this,t),e.apply(this,arguments)}return i(t,[{key:\"setupLanguage\",value:function(){function e(e){return k(e,/\\$(?:\\{.*?}|\\w+)/g,function(e){return[C(e[0],\"s3\")]})}this.rules=[{regex:/\"\"\"[\\s\\S]*?\"\"\"/g,type:\"s5\",filter:e},{regex:h.dqStrings.regex,type:\"s0\",filter:e},h.char,h.prop,{regex:/\\b(Double|Float|Long|Int|Short|Byte|Any|String|Array)\\b/g,type:\"k5\"},{regex:/\\b(break|continue|do|else|for|if|throw|try|when|while|catch|finally)\\b/g,type:\"k1\"},{regex:/^(package|import)(\\s+[\\w.]+)/gm,type:[\"k0\",\"k10\"]},{regex:/\\b(enum|typealias|object|companion|val|var)\\b/g,type:\"k2\"},{regex:/\\b(actual|abstract|annotation|companion|crossinline|data|expect|external|final|infix|inline|inner|internal|lateinit|noinline|open|operator|out|override|private|protected|public|reified|sealed|suspend|tailrec|vararg)\\b/g,type:\"k8\"},{regex:/\\b(as|class|fun|in|interface|is|return|by|constructor|delegate|dynamic|field|file|get|init|param|property|receiver|set|setparam|where|field|it)\\b/g,type:\"k0\"},{regex:/\\b(this|super)\\b/g,type:\"k9\"},{regex:/\\b(instanceof|new)\\b/g,type:\"k3\"},{regex:/(@\\w+|\\w+@)/gm,type:\"k6\"},h.fCalls,h.mCalls,h.null,h.boolean,h.slashComments,h.blockComments,{regex:/[\\b\\W](-?\\d[\\d_]*L?)(?!\\.)\\b/g,type:\"n1\"},h.floats,{regex:/[\\b\\W](-?0x[A-F0-9][A-F0-9_]+)\\b/gi,type:\"n2\"},{regex:/[\\b\\W](-?0b[01][01_]+)\\b/gi,type:\"n3\"},h.brackets]}}]),t}(),B=function(){a(t,x);var e=p(t);function t(){return r(this,t),e.apply(this,arguments)}return i(t,[{key:\"setupLanguage\",value:function(){this.rules=[{regex:/(?:^|[^\\\\])%.*$/gm,type:\"c0\"},{regex:/[^\\\\](\\\\\\w+)(?:[\\W\\s])/gm,type:\"k0\"},{regex:/[$()]/g,type:[\"s3\"]},h.int,h.floats,h.brackets]}}],[{key:\"alias\",value:function(){return[\"tex\"]}}]),t}(),Z=function(){a(t,L);var e=p(t);function t(){return r(this,t),e.apply(this,arguments)}return i(t,[{key:\"setupLanguage\",value:function(){y(s(t.prototype),\"setupLanguage\",this).call(this),this.rules.shift();var e=[h.slashComments,A.pseudoElements,A.idSelector,A.classSelector,{regex:/\\b([\\w][\\w-]+)\\s*\\(/gm,type:\"m0\"},{regex:/@[\\w-]+\\b/g,type:\"k7\"},{regex:/&/gi,type:\"k3\"}];this.rules=this.rules.concat(e)}}]),t}(),M=function(){a(t,x);var e=p(t);function t(){return r(this,t),e.apply(this,arguments)}return i(t,[{key:\"setupLanguage\",value:function(){this.rules=[h.dqStrings,h.poundComments,{regex:/[\\w\\])]\\.([\\w-]+)\\b/g,type:\"m3\"},{regex:/\\b(else)\\b/g,type:\"k1\"},{regex:/\\s\\$[A-Z_]+/g,type:\"k7\"},{regex:/(==|!=|=~|!~)/g,type:\"k3\"},{regex:/\\b(\\w[\\w-]+)\\.\\w/g,type:\"k9\"},h.int,h.brackets]}}],[{key:\"alias\",value:function(){return[]}}]),t}(),P=function(){a(t,x);var e=p(t);function t(){return r(this,t),e.apply(this,arguments)}return i(t,[{key:\"setupLanguage\",value:function(){this.rules=[{regex:/---\\[\\[[\\s\\S]*?(]])/g,type:\"c1\"},{regex:/--\\[\\[[\\s\\S]*?]]/g,type:\"c1\"},{regex:/(--.*)$/gm,type:\"c0\"},h.dqStrings,h.sqStrings,{regex:/(\\[(=*)\\[[\\S\\s]*?]\\2])/g,type:\"s5\"},{regex:/\\b(true|false)\\b/gi,type:\"e0\"},{regex:/\\b(nil)\\b/gi,type:\"e1\"},{regex:/\\b(local)\\b/g,type:\"k2\"},{regex:/\\b(break|do|else|elseif|end|for|if|repeat|then|until|while)\\b/g,type:\"k1\"},{regex:/\\b(function|return|and|in|or|not)\\b/g,type:\"k0\"},h.brackets,h.floats,h.mCalls,h.fCalls]}}]),t}(),U=function(){a(t,x);var e=p(t);function t(){return r(this,t),e.apply(this,arguments)}return i(t,[{key:\"setupLanguage\",value:function(){this.rules=[{regex:/[\\r|\\n](```[a-z_-]*[\\r|\\n][\\S\\s]+?```)/gi,type:\"t8\"},{regex:/^\\s*#{1,6}.+$/gm,type:\"t1\"},{regex:/(.+[\\r|\\n][=-]{3,})[\\r|\\n]/g,type:\"t1\"},{regex:/`.+?`/g,type:\"t8\"},{regex:/^(?:\\*|_|-){3,}$/gm,type:\"t2\"},{regex:/\\W(\\*\\*|\\*|~~|~|__|_)(.*?\\1)\\W/gm,type:\"t4\"},{regex:/!?\\[.*?]\\(.*?\\)/g,type:\"t3\"}]}}],[{key:\"alias\",value:function(){return[\"md\",\"gfm\"]}}]),t}(),G=function(){a(t,x);var e=p(t);function t(){return r(this,t),e.apply(this,arguments)}return i(t,[{key:\"setupLanguage\",value:function(){this.rules=[{regex:/%.*$/gm,type:\"c0\"},{regex:/%%.*$/gm,type:\"c1\"},h.sqStrings,h.dqStrings,h.boolean,h.mCalls,h.prop,{regex:/\\b(break|case|catch|continue|do|else|elseif|end|end_try_catch|endfor|endif|endmethods|endparfor|endproperties|endswitch|endwhile|for|if|switch|try|until|while)\\b/gi,type:\"k1\"},{regex:/\\b(__FILE__|__LINE__|classdef|end_unwind_protect|endclassdef|endenumeration|endevents|endfunctionenumeration|events|function|global|methods|otherwise|parfor|persistent|properties|return|static|unwind_protect|unwind_protect_cleanup)\\b/gi,type:\"k0\"},{regex:/(@[\\w]+)\\s*/gm,type:\"k7\"},h.fCalls,h.floats,h.brackets]}}]),t}(),H=function(){a(t,x);var e=p(t);function t(){return r(this,t),e.apply(this,arguments)}return i(t,[{key:\"setupLanguage\",value:function(){this.rules=[h.dqStrings,h.sqStrings,h.poundComments,{regex:/([a-z]+)\\s*\\{/g,type:\"k9\"},{regex:/^\\s*([a-z]\\w+)\\s/gm,type:\"k0\"},{regex:/\\W([a-z]+:\\/\\/.*?);/g,type:\"k9\"},{regex:/\\b(\\d+\\.\\d+\\.\\d+\\.\\d+(?::\\d+))\\b/g,type:\"k9\"},{regex:/(?:\\W)\\$[a-z_]+/g,type:\"k7\"},{regex:/[\\b\\W](\\d+[kmgdyw])\\b/g,type:\"n0\"},h.int,h.brackets]}}],[{key:\"alias\",value:function(){return[]}}]),t}(),V=function(){a(t,x);var e=p(t);function t(){return r(this,t),e.apply(this,arguments)}return i(t,[{key:\"setupLanguage\",value:function(){this.rules=[h.dqStrings,h.sqStrings,h.bqStrings,{regex:/^\\s*(Var(\\s+\\\\GLOBAL)?)(\\s+\\w+)\\b/g,type:[\"k2\",\"k7\"]},{regex:/\\W(\\$\\{\\w+})\\W/g,type:\"k9\"},{regex:/\\W(\\$\\w+)\\b/g,type:\"k7\"},{regex:/^\\s*([A-Z]\\w+)\\s+/gm,type:\"k0\"},{regex:/\\b[A-Z][A-Z_]*[A-Z]\\b/g,type:\"e3\"},{regex:/^\\s*(!\\w+)\\s+/gm,type:\"k4\"},{regex:/^\\s*(\\w+:)\\s*$/gim,type:\"k6\"},{regex:/\\b(admin|all|auto|both|colored|false|force|hide|highest|lastused|leave|listonly|none|normal|notset|off|on|open|print|show|silent|silentlog|smooth|textonly|true|user)\\b/gi,type:\"k9\"},h.blockComments,{regex:/[#;].*?$/gm,type:\"c0\"},h.int,h.hex,h.octal,h.brackets]}}]),t}(),J=function(){a(t,x);var e=p(t);function t(){return r(this,t),e.apply(this,arguments)}return i(t,[{key:\"setupLanguage\",value:function(){this.rules=[h.sqStrings,h.dqStrings,h.heredoc,h.boolean,h.null,{regex:/(self|parent|\\$this)/gi,type:\"k9\"},{regex:/\\b(as|break|case|catch|do|else|elseif|enddeclare|endfor|endforeach|endif|endswitch|endwhile|finally|for|foreach|goto|if|switch|throw|try|while)\\b/g,type:\"k1\"},{regex:/\\b__[A-Z][A-Z0-9_]+__\\b/g,type:\"e3\"},{regex:/\\b(__halt_compiler|abstract|array|callable|class|const|continue|declare|default|die|echo|empty|eval|exit|extends|final|function|global|implements|include|include_once|instanceof|insteadof|interface|isset|list|namespace|print|private|protected|public|require|require_once|return|static|trait|use|var|yield)\\b/g,type:\"k0\"},{regex:/\\b(and|or|xor|clone|new|unset)\\b/g,type:\"k3\"},{regex:/\\b(int|float|bool|string|resource|object|mixed|numeric)\\b/g,type:\"k5\"},h.slashComments,h.poundComments,h.blockComments,{regex:/\\$[^\\s=;()]+/gim,type:\"k7\"},{regex:/\\b([^\\s(]+)\\s*\\(/gm,type:\"m0\"},{regex:/->([\\w]+)/gim,type:\"m1\"},{regex:/::([\\w]+)/gim,type:\"m2\"},h.octal,h.bin,h.hex,h.floats,h.brackets]}}]),t}(),X=function(){a(t,x);var e=p(t);function t(){return r(this,t),e.apply(this,arguments)}return i(t,[{key:\"setupLanguage\",value:function(){function e(e){return k(e,/\\$(?:\\w+|\\(.*?\\))/g,function(e){return[C(e[0],\"k7\")]})}this.rules=[{regex:/\"(?:[^\"`]|`.)*\"/g,type:\"s2\",filter:e},h.sqStrings,{regex:/@\"[\\S\\s]*?\\n\\s*\"@/g,type:\"s5\",filter:e},{regex:/@'[\\S\\s]*?\\n\\s*'@/g,type:\"s5\"},{regex:/\\b(Begin|Break|Catch|Continue|Else|Elseif|End|Finally|For|ForEach|If|Switch|Throw|Try|Until|While)\\b/gi,type:\"k1\"},{regex:/\\b(Data|Do|DynamicParam|Exit|Filter|From|Function|In|InlineScript|Hidden|Parallel|Param|Process|Return|Sequence|Trap|Workflow)\\b/gi,type:\"k0\"},{regex:/\\b([A-Z]\\w+(?:-\\w+)+)\\b/gi,type:\"m0\"},{regex:/<#[\\S\\s]+?#>/gi,type:\"c1\"},h.poundComments,{regex:/\\$[A-Z_][\\w]*/gim,type:\"k7\"},h.mCalls,h.fCalls,h.int,h.floats,h.brackets]}}]),t}(),Y=function(){a(t,x);var e=p(t);function t(){return r(this,t),e.apply(this,arguments)}return i(t,[{key:\"setupLanguage\",value:function(){this.rules=[{regex:/(%.*)$/gm,type:\"c0\"},h.blockComments,h.dqStrings,h.sqStrings,{regex:/^(\\w+)(?:\\(.*?\\))?\\s*(?::-|\\.)/gm,type:\"k9\"},{regex:/\\b(true|false|Yes|No|not|fail)\\b/gi,type:\"e0\"},{regex:/\\b(catch|throw|repeat)\\b/g,type:\"k1\"},{regex:/^(\\?-)/g,type:\"k9\"},{regex:/\\b(is)\\b/g,type:\"k3\"},{regex:/[A-Z_][\\w]*/g,type:\"k7\"},h.brackets,h.floats,h.int,h.fCalls]}}]),t}(),Q=function(){a(t,x);var e=p(t);function t(){return r(this,t),e.apply(this,arguments)}return i(t,[{key:\"setupLanguage\",value:function(){this.rules=[h.int,h.floats,{regex:/[\\b\\W](-?\\$[A-F0-9]+)\\b/gi,type:\"n2\"},{regex:/[\\b\\W](-?%[01]+)\\b/gi,type:\"n3\"},{regex:/[\\b\\W](\\*\\w+)\\b/gi,type:\"text\"},h.dqStrings,{regex:/[[\\]()]+/g,type:\"g0\"},{regex:/#\\w+/gim,type:\"g0\"},{regex:/[@?]\\w+/gim,type:\"g1\"},{regex:/(IncludeFile|XIncludeFile|IncludeBinary|IncludePath) (.*?)$/gim,type:\"k0\"},{regex:/\\b(Break|Case|Continue|Default|Else|ElseIf|End|EndIf|EndSelect|For|ForEver|ForEach|Gosub|Goto|If|Next|Repeat|Return|FakeReturn|Select|Until|Wend|While|To|Step)\\b/gi,type:\"k1\"},{regex:/\\b(Array|List|Map|Procedure(?:C|Dll|CDll)?|ProcedureReturn|EndProcedure|Declare(?:C|Dll|CDll)?|ImportC?|EndImport|As|Macro|MacroExpandedCount|EndMacro|UndefineMacro|DeclareModule|EndDeclareModule|Module|EndModule|UseModule|UnuseModule|With|EndWith|PrototypeC?|Runtime|Swap|Data|DataSection|EndDataSection|Read|Restore)\\b/gi,type:\"k2\"},{regex:/\\b(ReDim|Dim|NewList|NewMap|Enumeration|EndEnumeration|Interface|Extends|EndInterface|Structure(?:Union)?|EndStructure(?:Union)?)\\b/gi,type:\"k4\"},{regex:/\\b(?:ReDim|Dim|NewList|NewMap)\\s*([\\w]+)\\(/gim,type:\"text\"},{regex:/\\b(Define|Global|Protected|Shared|Static|Threaded)\\b/gi,type:\"k3\"},{regex:/[\\w\\])]\\.(s{\\d+}|(?:p-ascii|p-utf8|p-bstr|p-unicode|p-variant)|\\w+)(?:\\([\\d,]*\\))?/gi,type:\"k4\"},{regex:/\\b(CompilerIf|CompilerElse|CompilerElseIf|CompilerEndIf|CompilerSelect|CompilerCase|CompilerDefault|CompilerEndSelect|CompilerError|CompilerWarning|EnableExplicit|DisableExplicit|EnableASM|DisableASM|EnableDebugger|DisableDebugger|Debug|DebugLevel|CallDebugger)\\b/gi,type:\"k5\"},{regex:/\\W(And|Not|Or|Xor)\\W/gi,type:\"k6\"},{regex:/(<=|=<|>=|=>|<>|<<|>>|=|-|\\+|\\/|%|<|>|&|\\||!|~)/gi,type:\"k6\"},{regex:/(\\*)(?:\\d|\\s*(?:\\b|-|\\(|%|\\$|\\*))/gi,type:\"k6\"},{regex:/(\\w+)::/gi,type:\"k7\"},{regex:/(\\w+):/gi,type:\"k8\"},h.fCalls,{regex:/;.*$/gm,type:\"c0\"},{regex:/\\\\(\\w+)\\b/g,type:\"m3\"}]}}],[{key:\"alias\",value:function(){return[\"pb\"]}}]),t}(),K=function(){a(t,x);var e=p(t);function t(){return r(this,t),e.apply(this,arguments)}return i(t,[{key:\"setupLanguage\",value:function(){this.rules=[h.dqStrings,h.prop,{regex:/\\b([A-Z]\\w+)\\b/g,type:\"k5\"},{regex:/^(import)(\\s+[\\w.]+)/gm,type:[\"k0\",\"k5\"]},{regex:/\\b(bool|char|double|float|int|long|short|void|string)\\b/g,type:\"k5\"},h.mCalls,h.null,h.boolean,h.slashComments,h.blockComments,h.int,h.floats,h.brackets]}}]),t}(),ee=function(){a(t,x);var e=p(t);function t(){return r(this,t),e.apply(this,arguments)}return i(t,null,[{key:\"alias\",value:function(){return[]}}]),t}(),te=function(){a(t,x);var e=p(t);function t(){return r(this,t),e.apply(this,arguments)}return i(t,[{key:\"setupLanguage\",value:function(){this.rules=[{regex:/^(.*?)$/g,type:\"text\"}]}}]),t}(),re=function(){a(t,x);var e=p(t);function t(){return r(this,t),e.apply(this,arguments)}return i(t,[{key:\"setupLanguage\",value:function(){this.rules=[h.dqStrings,{regex:/(\"[\\s\\S]*?\")/g,type:\"s5\"},{regex:/\\b(yes|no)\\b/gi,type:\"e0\"},{regex:/\\b([\\w-]+)(=)/gi,type:[\"k6\",\"k3\"]},{regex:/[^\\b](:local|:global)\\s/gm,type:\"k2\"},{regex:/^\\/\\w+(?:\\s+[a-z-]+)*\\s*$/gm,type:\"k10\"},{regex:/\\b(add|set|print|enable|disable|export|find|get|move|remove)\\b/gi,type:\"k9\"},{regex:/[^\\b](:[a-z-]+)\\s/gm,type:\"k0\"},{regex:/\\$[\\w]*/gi,type:\"k7\"},{regex:/(?:[a-f0-9]{2}:){5}(?:[a-f0-9]{2})/gi,type:\"s0\"},{regex:/(?:\\d{1,3}\\.){3}(?:\\d{1,3})(?:\\/\\d{1,2})?/gi,type:\"s0\"},h.poundComments,{regex:/[\\b\\W](-?\\d+)([a-z]{1,4})?[\\b\\W]/gi,type:\"n0\"},h.int,h.hex,h.brackets]}}],[{key:\"alias\",value:function(){return[\"mikrotik\",\"mt\",\"switchos\",\"ros\"]}}]),t}(),ne=function(){a(t,x);var e=p(t);function t(){return r(this,t),e.apply(this,arguments)}return i(t,[{key:\"setupLanguage\",value:function(){function e(e){return e.text.match(/^%r/)?e.type=\"e2\":e.text.match(/^%x/)&&(e.type=\"e4\"),[e]}this.rules=[h.dqStrings,h.sqStrings,h.heredoc,{regex:/(`(?:[^`\\\\]|\\\\.)*`)/g,type:\"e4\"},h.boolean,{regex:/\\b(nil)\\b/gi,type:\"e1\"},h.fCalls,h.prop,{regex:/@{1,2}[A-Za-z_]\\w*\\W/g,type:\"k7\"},{regex:/[^:](:[\\w]+)\\b/g,type:\"k6\"},{regex:/(\\$[a-z0-9_-]+|\\$.)\\W/gi,type:\"k9\"},{regex:/\\b(begin|break|case|do|else|elsif|end|ensure|for|if|in|next|redo|rescue|retry|then|unless|until|when|while)\\b/gi,type:\"k1\"},{regex:/\\b((?:__)?[A-Z][A-Z0-9_]+)\\b/g,type:\"e3\"},{regex:/\\b(alias|class|defined\\?|undef|def|module|return|self|super|yield)\\W/gi,type:\"k0\"},{regex:/\\b(and|not|or)\\b/gi,type:\"k3\"},h.poundComments,{regex:/^=begin[\\S\\s]*?^=end/gim,type:\"c2\"},{regex:/(%[iqrswx](\\W)(?:[^\\2\\n\\\\]|\\\\.)*\\2[iomx]*)/gim,type:\"s2\",filter:e},{regex:/(%[iqrswx]?(\\{(?:[^}\\\\]|\\\\.)*}|\\[(?:[^}\\\\]|\\\\.)*]|\\((?:[^)\\\\]|\\\\.)*\\))[iomx]*)/gim,type:\"s2\",filter:e},{regex:/\\W(\\/(?:[^/\\\\]|\\\\.)*\\/\\w*)\\W/g,type:\"e2\"},{regex:/\\W\\?(?:\\w|\\\\M|\\\\C)(?:-\\w|-\\\\M|-\\\\C)*\\b/g,type:\"n1\"},{regex:/[\\b\\W](-?\\d[\\d_]+?)(?!\\.)\\b/g,type:\"n1\"},{regex:/[\\b\\W](-?0x[A-F0-9][A-F0-9_]+)\\b/gi,type:\"n2\"},{regex:/[\\b\\W](-?0b[01][01_]+)\\b/gi,type:\"n3\"},{regex:/[\\b\\W](-?[\\d_]+(?:\\.[\\d_]+)?(?:e[+-]?\\d+)?[ji]?)\\b/gi,type:\"n0\"},h.brackets]}}]),t}(),ie=function(){a(t,x);var e=p(t);function t(){return r(this,t),e.apply(this,arguments)}return i(t,[{key:\"setupLanguage\",value:function(){this.rules=[h.char,{regex:/r((#+)\".*?\"\\2)/gm,type:\"s0\"},{regex:/(\"(?:\\\\.|\\\\\\s*\\n|\\\\s*\\r\\n|[^\\\\\"])*\")/g,type:\"s0\"},{regex:/^\\s*#.*$/gm,type:\"k4\"},{regex:/fn\\s+([\\w]+)\\s*(<\\w+\\s*>)?\\(/gm,type:\"k0\"},{regex:/\\b\\.?([\\w]+)\\s*(\\(|::)/gm,type:\"k1\"},{regex:/\\b([\\w]+)!/gm,type:\"k9\"},{regex:/\\bself\\b/gi,type:\"k9\"},h.boolean,{regex:/\\b(while|loop|in|for|if|else|do|continue|break)\\b/g,type:\"k1\"},{regex:/\\b(type|struct|let|enum)\\b/g,type:\"k2\"},{regex:/\\b(const)\\b/g,type:\"k8\"},{regex:/\\b(yield|where|virtual|use|unsized|unsafe|trait|super|static|return|ref|pure|pub|proc|priv|override|offsetof|mut|move|mod|match|macro|impl|fn|final|extern|crate|box|become|as|alignof|abstract)\\b/g,type:\"k0\"},{regex:/\\b(sizeof|typeof)\\b/g,type:\"k3\"},{regex:/\\b([0-9_]+\\.?[0-9_]+?(e\\+[0-9_]+)?)(?:f32|f64)?\\b/gim,type:\"n0\"},{regex:/\\b([0-9_]+|0o[0-9_]+|0x[A-F0-9_]+|0b[0-1_]+)(?:u8|i8|u16|i16|u32|i32|u64|i64|isize|usize)?\\b/gim,type:\"n1\"},h.slashComments,h.blockComments,{regex:/(?:^|[^\\\\])\\/\\/[/!].*$/gm,type:\"c2\"},{regex:/\\/\\*[*!][\\s\\S]*?\\*\\//gm,type:\"c2\"},h.brackets,{regex:/\\W(&)\\w/g,type:\"k3\"}]}}]),t}(),ae=function(){a(t,x);var e=p(t);function t(){return r(this,t),e.apply(this,arguments)}return i(t,[{key:\"setupLanguage\",value:function(){this.rules=[h.dqStrings,h.char,{regex:/s\"(?:[^\"\\\\]|\\\\.)*\"/g,type:\"s2\"},{regex:/`(?:[^`\\\\]|\\\\.)*`/g,type:\"k7\"},{regex:/@[\\W\\w_][\\w]+/g,type:\"k11\"},{regex:/\\b([A-Z]\\w*)\\b/g,type:\"k5\"},{regex:/\\b(while|try|catch|else|throw|break|if|do|goto|switch|for|match)\\b/g,type:\"k1\"},{regex:/(package|import)(\\s+[\\w.]+)/gm,type:[\"k0\",\"k10\"]},{regex:/[\\b\\w\\s)](_|:|@|#|<-|←|<:|<%|=|=>|⇒|>:)[\\b\\w\\s]/g,type:\"k3\"},{regex:/\\b(abstract|class|case|extends|final|finally|forSome|implicit|lazy|object|override|private|protected|return|sealed|trait|with|yield)\\b/g,type:\"k0\"},{regex:/\\b(def)\\s+(\\w+)\\b/gm,type:[\"k2\",\"m0\"]},{regex:/\\b(type)\\s+(\\w+)\\b/gm,type:[\"k2\",\"k5\"]},{regex:/\\b(val)\\s+(\\w+)\\b/gm,type:[\"k2\",\"k7\"]},{regex:/\\b(var)\\s+(\\w+)\\b/gm,type:[\"k2\",\"k7\"]},{regex:/\\b(this|super)\\b/g,type:\"k9\"},{regex:/\\b(new)\\b/g,type:\"k3\"},h.mCalls,h.fCalls,h.null,h.boolean,h.slashComments,h.blockComments,h.docComments,h.int,h.floats,h.bin,h.brackets]}}]),t}(),se=function(){a(t,L);var e=p(t);function t(){return r(this,t),e.apply(this,arguments)}return i(t,[{key:\"setupLanguage\",value:function(){y(s(t.prototype),\"setupLanguage\",this).call(this),this.rules.shift();var e=[h.slashComments,A.pseudoElements,A.idSelector,A.classSelector,{regex:/\\b([\\w-]+)\\s*\\(/gm,type:\"m0\"},{regex:/\\$[\\w-]+\\b/g,type:\"k7\"},{regex:/@[\\w-]+\\b/g,type:\"k9\"},{regex:/&/gi,type:\"k3\"}];this.rules=this.rules.concat(e)}}],[{key:\"alias\",value:function(){return[\"sass\"]}}]),t}(),oe=function(){a(t,x);var e=p(t);function t(){return r(this,t),e.apply(this,arguments)}return i(t,[{key:\"setupLanguage\",value:function(){this.rules=[{regex:/(^#!.*?)\\n/gi,type:\"k4\"},h.poundComments,{regex:/[^\\\\](\"(?:[^\"\\\\]|\\\\.)*\")/g,type:\"s0\"},{regex:/`.*?`/gm,type:\"s2\"},{regex:/(\\$)\\(/gm,type:\"s2\"},{regex:/(\\$\\d)\\b/gim,type:\"k9\"},{regex:/(\\$\\w+)\\b/gim,type:\"k7\"},{regex:/^(\\s*\\w+)=/gm,type:\"k7\"},{regex:/^\\s*\\w+\\)\\s*$/gm,type:\"k6\"},{regex:/\\b(if|fi|then|elif|else|for|do|done|until|while|break|continue|case|esac|in|eq|ne|gt|lt|ge|le)\\b/gi,type:\"k1\"},{regex:/\\b(return|function)\\b/gi,type:\"k0\"},{regex:/^\\s*\\w+\\(\\)\\s*\\{/gm,type:\"k0\"},h.int]}}],[{key:\"alias\",value:function(){return[\"bash\",\"sh\",\"zsh\"]}}]),t}(),le=function(){a(t,x);var e=p(t);function t(){return r(this,t),e.apply(this,arguments)}return i(t,[{key:\"setupLanguage\",value:function(){this.rules=[h.poundComments,h.blockComments,{regex:/--.*$/gm,type:\"c0\"},h.null,h.sqStrings,{regex:/`\\w+?`(?:\\.`\\w+?`)*/g,type:\"k9\"},{regex:/\\b(all|and|any|between|exists|in|like|not|or|is null|is not null|unique|=|!=|<>|>|<|>=|<=|!<|!>)\\b/gi,type:\"k3\"},{regex:/\\b(bigint)\\b/g,type:\"k5\"},{regex:/\\b(unsigned)\\b/g,type:\"k8\"},{regex:/\\b(SELECT|INSERT|UPDATE|DELETE|INTO|FROM|CREATE|TABLE|VIEW|WHERE|TRIGGER|ALTER|ORDER BY|DESC|ASC|AS|BETWEEN|JOIN|LEFT|RIGHT|INNER|OUTER|USING|ON|UNION)\\b/gi,type:\"k0\"},{regex:/\\b[A-Z]+\\b/g,type:\"k0\"},h.int,h.floats]}}]),t}(),ge=function(){a(t,x);var e=p(t);function t(){return r(this,t),e.apply(this,arguments)}return i(t,[{key:\"setupLanguage\",value:function(){this.rules=[h.dqStrings,{regex:h.sqStrings.regex,type:\"n0\"},h.prop,h.slashComments,h.poundComments,h.blockComments,h.brackets,{regex:/\\b(const|enum|local)\\b/g,type:\"k2\"},{regex:/\\b(break|case|catch|continue|else|for|foreach|if|switch|while|try|do)\\b/g,type:\"k1\"},{regex:/\\b(base|class|clone|constructor|default|extends|false|function|null|resume|return|static|this|throw|true|yield)\\b/g,type:\"k0\"},{regex:/\\b(delete|in|instanceof|typeof)\\b/g,type:\"k3\"},h.mCalls,h.fCalls,h.octal,h.hex,h.floats,h.int]}}]),t}(),ue=function(){a(t,x);var e=p(t);function t(){return r(this,t),e.apply(this,arguments)}return i(t,[{key:\"setupLanguage\",value:function(){this.rules=[h.dqStrings,h.boolean,{regex:/#.*$/gm,type:\"k4\"},h.prop,{regex:/(import )(.*?)$/gm,type:[\"k0\",\"k10\"]},{regex:/\\b(nil)\\b/gi,type:\"e1\"},{regex:/\\b(break|case|continue|default|do|else|for|if|switch|while|catch|throw|try)\\b/g,type:\"k1\"},{regex:/\\b(var|let|enum|struct)\\b/g,type:\"k2\"},{regex:/\\b(Int|UInt|Float|Double|Bool|String|Character|Optional|Array|Dictionary)\\b/g,type:\"k5\"},{regex:/\\b(associatedtype|class|deinit|extension|func|init|inout|internal|operator|private|protocol|public|static|subscript|typealias|defer|fallthrough|guard|in|as|repeat|return|where|dynamicType|is|rethrows|super|self|Self|throws|associativity|convenience|dynamic|didSet|final|get|infix|indirect|lazy|left|mutating|none|nonmutating|optional|override|postfix|precedence|prefix|Protocol|required|right|set|Type|unowned|weak|willSet)\\b/g,type:\"k0\"},h.mCalls,h.fCalls,{regex:/(?:^|[^\\\\])\\/\\/\\/.*$/gm,type:\"c2\"},h.docComments,h.slashComments,h.blockComments,{regex:/[\\b\\W](-?0b[01_]+)\\b/gi,type:\"n3\"},{regex:/[\\b\\W](-?0x[A-F0-9_]+)(?!\\.)\\b/gi,type:\"n2\"},{regex:/[\\b\\W](-?0o[0-7_]+)(?!\\.)\\b/g,type:\"n4\"},{regex:/[\\b\\W](-?[\\d_]+)(?!\\.)\\b/g,type:\"n1\"},{regex:/(-?(?:[\\d_]+\\.[\\d_]+(?:e[+-]?[\\d_]+)?))/gi,type:\"n0\"},{regex:/(-?0x(?:[A-F0-9_]+\\.[A-F0-9_]+(?:p[+-]?[A-F0-9_]+)?))/gi,type:\"n2\"},h.brackets]}}]),t}(),pe=function(){a(t,F);var e=p(t);function t(){return r(this,t),e.apply(this,arguments)}return i(t,[{key:\"setupLanguage\",value:function(){y(s(t.prototype),\"setupLanguage\",this).call(this);this.rules=[{regex:/\\b(boolean|number|string|any|void|undefined|never|symbol)\\b/g,type:\"k5\"},{regex:/\\b(type|interface)\\b/g,type:\"k2\"},{regex:/\\b(abstract|implements|readonly)\\b/g,type:\"k8\"},{regex:/\\b(declare|namespace)\\b/g,type:\"k0\"},{regex:/\\b([\\w]+)\\s*</gm,type:\"m0\"},{regex:/[<>]/g,type:\"g1\"}].concat(this.rules)}}]),t}(),ce=function(){a(t,x);var e=p(t);function t(){return r(this,t),e.apply(this,arguments)}return i(t,[{key:\"setupLanguage\",value:function(){this.rules=[{regex:/((?:^\\s*|\\s+)--.*$)/gm,type:\"c0\"},{regex:/^\\s*(?:use|library)\\s*(\\S+);/gim,type:\"k9\"},h.fCalls,{regex:/\\*\\*|\\*|\\/|\\+|-|&|=|\\/=|<|<=|>|>=/g,type:\"g0\"},h.dqStrings,{regex:/('.')/g,type:\"s0\"},h.brackets,{regex:/\\b(alias|array|variable|downto|range|to|type|units)\\b/g,type:\"k2\"},{regex:/\\b(array|buffer|bus|file)\\b/g,type:\"k5\"},{regex:/\\b(if|else|elsif|end|for|while|loop|when|begin|block|case|exit|next|then)\\b/g,type:\"k1\"},{regex:/\\b(access|after|all|architecture|attribute|assert|body|component|configuration|constant|disconnect|entity|function|generate|generic|group|guarded|impure|in|inertial|inout|is|label|library|linkage|literal|map|null|of|on|open|others|out|package|port|postponed|procedure|process|pure|record|return|select|severity|signal|shared|subtype|transport|unaffected|use|vaiable|with|wait|until)\\b/g,type:\"k0\"},{regex:/\\b(abs|not|mod|rem|sll|srl|sla|sra|rol|ror|and|or|nand|nor|xor|xnor|new)\\b/g,type:\"k3\"},h.floats]}}]),t}(),ye=function(){a(t,x);var e=p(t);function t(){return r(this,t),e.apply(this,arguments)}return i(t,[{key:\"setupLanguage\",value:function(){this.rules=[h.dqStrings,h.boolean,h.prop,{regex:/(#.*?)(?:'|$)/gim,type:\"k4\"},{regex:/\\b(Case|Catch|Continue|Each|Else|ElseIf|End|EndIf|Do|Finally|For|If|Loop|Next|OrElse|Then|Throw|Try|When|While)\\b/g,type:\"k1\"},{regex:/(Imports )(.*?)$/gm,type:[\"k0\",\"k10\"]},{regex:/\\b(Boolean|Byte|CBool|CByte|CChar|CDate|CDbl|CDec|Char|CInt|CLng|CObj|CSByte|CShort|CSng|CStr|CType|CUInt|CULng|CUShort|Decimal|Double|Integer|Long|ParamArray|SByte|Short|Single|String|UInteger|ULong|UShort)\\b/g,type:\"k5\"},{regex:/\\b(Dim|Enum|Let|ReDim)\\b/g,type:\"k2\"},{regex:/\\b(Const|Shared|Static)\\b/g,type:\"k8\"},{regex:/\\b(AddHandler|AddressOf|Alias|As|ByRef|ByVal|Call|Class|Date|Declare|Default|Delegate|DirectCast|Erase|Error|Event|Exit|Friend|Function|Get|GetType|GetXMLNamespace|Global|GoSub|GoTo|Handles|Implements|In|Inherits|Interface|Lib|Like|Me|Module|MustInherit|MustOverride|MyBase|MyClass|Namespace|Narrowing|Nothing|NotInheritable|NotOverridable|Object|Of|On|Operator|Option|Optional|Out|Overloads|Overridable|Overrides|Partial|Private|Property|Protected|Public|RaiseEvent|ReadOnly|REM|RemoveHandler|Resume|Return|Select|Set|Shadows|Step|Stop|Structure|Sub|SyncLock|To|TryCast|Using|Variant|Wend|Widening|With|WithEvents|WriteOnly)\\b/gi,type:\"k0\"},{regex:/\\b(And|AndAlso|Is|IsNot|Mod|New|Not|Or|TypeOf|Xor)\\b/g,type:\"k3\"},h.mCalls,h.fCalls,{regex:/'.*$/gm,type:\"c0\"},h.int,h.floats,h.brackets]}}],[{key:\"alias\",value:function(){return[\"vb\"]}}]),t}(),fe=function(){a(t,x);var e=p(t);function t(){return r(this,t),e.apply(this,arguments)}return i(t,[{key:\"setupLanguage\",value:function(){this.rules=[{regex:/<!DOCTYPE[\\s\\S]+?>/g,type:\"k9\"},{regex:/<\\?xml[\\s\\S]+\\?>/gi,type:\"k4\"},{regex:/<!--[\\s\\S]*?-->/g,type:\"c1\"},{regex:/(<!\\[CDATA\\[)([\\s\\S]*?)(]]>)/gim,type:[\"c9\",\"text\",\"c9\"]},{regex:/(<)([A-Z:_][A-Z0-9:.-]*)([\\s\\S]*?)(\\/?>)/gi,type:[\"g1\",\"x1\",\"text\",\"g1\"],filter:[null,null,function(e){return k(e,/\\b([^\\s\\0\"'>/=]+)(\\s*=\\s*)((['\"]).*?\\4|[^'\" \\t]+)/gi,function(e){return[C(e[1],\"x2\"),C(e[2],\"k3\"),C(e[3],\"s0\")]})},null]},{regex:/(<\\/)([A-Z:_][A-Z0-9:.-]*\\s*)(>)/gi,type:[\"g1\",\"x1\",\"g1\"]}]}}],[{key:\"alias\",value:function(){return[\"html\"]}}]),t}(),be=function(){a(t,x);var e=p(t);function t(){return r(this,t),e.apply(this,arguments)}return i(t,[{key:\"setupLanguage\",value:function(){this.rules=[h.poundComments,h.boolean,h.null,{regex:/^%[A-Z]+\\s+.*$/gm,type:\"k4\"},{regex:/\\b!{1,2}[A-Z]+\\b/gi,type:\"k5\"},{regex:/\\b[a-z][a-z0-9_-]*:/gim,type:\"k7\"},{regex:/\\{|}|\\(|\\)|\\[|]/g,type:\"g1\"},{regex:/\\s+(?:>|\\|)[\\r|\\n]+((?:\\s+[^\\r\\n]+[\\r|\\n]+)+)/gi,type:\"s5\"},h.dqStrings,h.sqStrings,h.floats]}}]),t}(),de=function(){a(t,x);var e=p(t);function t(){return r(this,t),e.apply(this,arguments)}return i(t,[{key:\"setupLanguage\",value:function(){this.rules=[h.dqStrings,{regex:/`\\w*\\b/g,type:\"k4\"},{regex:/\\[( *\\d+(?: *\\: *\\d+) *)\\]/g,type:\"e3\"},{regex:/\\b(for|generate|if|else|repeat|case|endcase|begin|end|ifnone)\\b/g,type:\"k1\"},{regex:/\\b(output|input|inout|reg|wire|assign)\\b/g,type:\"k5\"},{regex:/\\b(module|endmodule|always|function|endfunction)\\b/g,type:\"k2\"},{regex:/\\b(or|rpmos|tranif1|and|initial|rtran|tri|parameter|rtranif0|tri0|pmos|rtranif1|tri1|buf|endprimitive|integer|posedge|scalared|triand|bufif0|endspecify|join|primitive|small|trior|bufif1|endtable|large|pull0|specify|trireg|endtask|macromodule|pull1|specparam|vectored|casex|event|medium|pullup|strong0|wait|casez|pulldown|strong1|wand|cmos|force|nand|rcmos|supply0|weak0|deassign|forever|negedge|real|supply1|weak1|default|nmos|realtime|table|defparam|nor|task|disable|highz0|not|release|time|wor|edge|highz1|notif0|tran|xnor|notif1|rnmos|tranif0|xor)\\b/g,type:\"k0\"},h.slashComments,h.blockComments,{regex:/-?\\d*'s?d[0-9_xz]+\\b/gi,type:\"n1\"},{regex:/-?\\d*'s?h[0-9a-f_xz]+\\b/gi,type:\"n2\"},{regex:/-?\\d*'s?b[01_xz]+\\b/gi,type:\"n3\"},{regex:/-?\\d*'s?o[0-7_xz]+\\b/gi,type:\"n4\"},h.int,h.brackets]}}]),t}(),he=Object.freeze({__proto__:null,generic:x,abap:t,apache:v,assembly:w,avrassembly:S,cpp:_,csharp:E,css:L,cython:I,cordpro:W,diff:N,dockerfile:D,go:$,groovy:O,ini:T,java:R,javascript:F,json:j,kotlin:z,latex:B,less:Z,lighttpd:M,lua:P,markdown:U,matlab:G,nginx:H,nsis:V,php:J,powershell:X,prolog:Y,purebasic:Q,python:q,qml:K,r:ee,raw:te,routeros:re,ruby:ne,rust:ie,scala:ae,scss:se,shell:oe,sql:le,squirrel:ge,swift:ue,typescript:pe,vhdl:ce,visualbasic:ye,xml:fe,yaml:be,verilog:de}),me={standard:\"generic\"},xe={},ke=!1;function ve(e){if(!ke)for(var t in ke=!0,he)if(\"function\"==typeof he[t].alias){var r,n=function(e,t){var r;if(\"undefined\"==typeof Symbol||null==e[Symbol.iterator]){if(Array.isArray(e)||(r=b(e))||t&&e&&\"number\"==typeof e.length){r&&(e=r);var n=0,i=function(){};return{s:i,n:function(){return n>=e.length?{done:!0}:{done:!1,value:e[n++]}},e:function(e){throw e},f:i}}throw new TypeError(\"Invalid attempt to iterate non-iterable instance.\\nIn order to be iterable, non-array objects must have a [Symbol.iterator]() method.\")}var a,s=!0,o=!1;return{s:function(){r=e[Symbol.iterator]()},n:function(){var e=r.next();return s=e.done,e},e:function(e){o=!0,a=e},f:function(){try{s||null==r.return||r.return()}finally{if(o)throw a}}}}(he[t].alias());try{for(n.s();!(r=n.n()).done;){var i=r.value;me[i]=t}}catch(e){n.e(e)}finally{n.f()}}return me[e]}function we(e){return e=ve(e=(e||\"\").toLowerCase())||e,he[e]?e:null}var Ce={document:document,window:window};function Se(){return document}function _e(){return window}function Ee(e){var t=!(1<arguments.length&&void 0!==arguments[1])||arguments[1];e.style.display=!0===t?\"block\":\"none\"}function Ae(e){e.parentNode.removeChild(e)}function Le(e){return null!=e&&0<e.length?Se().querySelectorAll(e):[]}function qe(e,t){return e.getAttribute(\"data-\"+t)||null}function Ie(e,t){return e.getAttribute(t)||null}function We(e,t){return e.parentNode.insertBefore(t,e)}function Ne(e,t,r){var n=Se(),i=n.createElement(e);if(0<r.length)for(var a=0;a<r.length;a++){var s=r[a];if(null!==s&&!1!==s)if(void 0!==s)if(s.push)for(var o=0;o<s.length;o++){var l=s[o];null!==l&&!1!==l&&(void 0!==l?l.appendChild?i.appendChild(l):i.appendChild(n.createTextNode(l)):i.appendChild(n.createTextNode(\"#INVALID_ELEMENT#\")))}else s.appendChild?i.appendChild(s):i.appendChild(n.createTextNode(s));else i.appendChild(n.createTextNode(\"#INVALID_ELEMENT#\"))}function g(e,t){i.addEventListener(e,function(e){e.preventDefault(),e.stopPropagation(),t&&t.apply(i,[e,i])})}for(var u in t)if(Object.prototype.hasOwnProperty.call(t,u)){var p=t[u];if(\"on\"===u.substr(0,2)){if(null===p)continue;g(u.substr(2).toLowerCase(),p)}else{if(null==p)continue;switch(u){case\"className\":i.setAttribute(\"class\",p);break;case\"htmlFor\":i.setAttribute(\"for\",p);break;default:i.setAttribute(u,p)}}}return i.on=g,i}function De(e,t){for(var r=arguments.length,n=new Array(2<r?r-2:0),i=2;i<r;i++)n[i-2]=arguments[i];if(\"function\"!=typeof e)return Ne(e,t,n);var a=g(e,[t||{}].concat(n));return\"function\"==typeof a.render?a.render():a instanceof HTMLElement?a:void Se().createTextNode(\"#INVALID_JSX_ELEMENT#\")}function $e(e,t){e.classList.contains(t)||e.classList.add(t)}function Oe(e,t){e.classList.contains(t)&&e.classList.remove(t)}function Te(e,t){return e.classList.contains(t)}function Re(e,t){e.classList.contains(t)?e.classList.remove(t):e.classList.add(t)}var Fe=_e();function je(){var e;void 0!==Fe.console&&Fe.console.log&&(e=Fe.console).log.apply(e,arguments)}var ze=Object.freeze({__proto__:null,globals:Ce,getDocument:Se,getWindow:_e,displayElement:Ee,disposeElement:Ae,getElements:Le,getElement:function(e){return null!=e&&0<e.length?Se().querySelector(e):null},getElementDataAttribute:qe,getElementAttribute:Ie,insertBefore:We,createNode:Ne,createElement:De,renderComponent:function(e){var t=1<arguments.length&&void 0!==arguments[1]?arguments[1]:null;return null!==t&&t.appendChild(e),e},addClass:$e,removeClass:Oe,hasClass:Te,toggleClass:Re,logInfo:je,logError:function(){var e;void 0!==Fe.console&&Fe.console.error?(e=Fe.console).error.apply(e,arguments):je.apply(void 0,arguments)}});function Be(e){var t=e.tokens,r=e.options,n=function(e,t){if(\"string\"!=typeof e||0===e.length)return function(){return!1};var r=parseInt(t),a=!isNaN(r)&&1<r?r-1:0,s={};return e.split(\",\").forEach(function(e){var t=e.match(/([0-9]+)-([0-9]+)/);if(null!=t){var r=parseInt(t[1])-a,n=parseInt(t[2])-a;if(r<n)for(var i=r;i<=n;i++)s[\"\"+i]=!0}else s[\"\"+(parseInt(e)-a)]=!0}),function(e){return s[\"\"+e]||!1}}(r.highlight,r.lineoffset),i=[],a=[];t.forEach(function(t){var e=t.text.split(\"\\n\");1===e.length?a.push([t.type,t.text]):(a.push([t.type,e.shift()]),e.forEach(function(e){i.push(a),(a=[]).push([t.type,e])}))}),i.push(a);var s=[];return 0<r.lineoffset&&s.push(\"counter-reset: enlighter \"+(parseInt(r.lineoffset)-1)),De(\"div\",{className:\"enlighter\",style:s.join(\";\")},i.map(function(e,t){return De(\"div\",{className:n(t+1)?\"enlighter-special\":\"\"},De(\"div\",null,e.map(function(e){return De(\"span\",{className:\"enlighter-\"+e[0]},e[1])})))}))}function Ze(e){var t=[];e.name&&t.push(\"enlighter-\"+e.name),e.className&&(\"string\"==typeof e.className?t.push(e.className):t.push.apply(t,f(e.className)));for(var r=arguments.length,n=new Array(1<r?r-1:0),i=1;i<r;i++)n[i-1]=arguments[i];return De.apply(ze,[\"div\",{className:t.join(\" \")}].concat(n))}function Me(e){var t=[\"enlighter-btn\"];return e.name&&t.push(\"enlighter-btn-\"+e.name),De(\"div\",{className:t.join(\" \"),onClick:e.onClick,title:e.tooltip},e.text||null)}function Pe(){_e().open(\"https://enlighterjs.org\")}var Ue=Object.freeze({__proto__:null,raw:function(e){return De(Me,{name:\"raw\",tooltip:\"Plain text\",onClick:function(){e.toggleClass(\"enlighter-show-rawcode\")}})},copy:function(e){return De(Me,{name:\"copy\",tooltip:\"Copy to clipboard\",onClick:function(){!function(e){var t=Se(),r=_e(),n=De(\"pre\",{className:\"enlighter-clipboard\"},e);t.body.appendChild(n);try{var i=t.createRange();i.selectNodeContents(n);var a=r.getSelection();a.removeAllRanges(),a.addRange(i)}catch(e){return}var s=function(){try{return t.execCommand(\"copy\")}catch(e){return!1}}();r.getSelection().removeAllRanges(),Ae(n)}(e.getRawCode())}})},window:function(r){var n=_e();return De(Me,{name:\"window\",tooltip:\"Open code in new window\",onClick:function(){var e=n.open(\"\",\"\",\"width=\"+n.screen.width/2+\", height=\"+n.screen.height/2+\", menubar=no, titlebar=no, toolbar=no, top=100, left=100, scrollbars=yes, status=no\"),t=r.getRawCode().replace(/&/g,\"&amp;\").replace(/</g,\"&lt;\").replace(/>/g,\"&gt;\");e.document.body.innerHTML=\"<pre>\"+t+\"</pre>\",e.document.title=\"Sourcecode | EnlighterJS Syntax Highlighter\"}})},website:function(){return De(Me,{name:\"website\",tooltip:\"EnlighterJS 3 Syntax Highlighter\",onClick:Pe})},collapse:function(e){return De(Me,{name:\"collapse\",tooltip:\"Expand\",onClick:function(){e.toggleClass(\"enlighter-collapse-full\")}})}});function Ge(t){var e=function(e){for(var t,r=[],n=/{BTN_([A-Z_]+)}/g;null!=(t=n.exec(e));)r.push(t[1].toLowerCase());return r}(t.layout).map(function(e){return Ue[e]?De(Ue[e],{getRawCode:t.getRawCode,toggleClass:t.toggleClass}):null}).filter(function(e){return null!==e});return De(Ze,{name:\"toolbar-\"+t.name,className:\"enlighter-toolbar\"},e)}function He(e,t){return De(\"div\",{className:\"enlighter-raw\"},t)}function Ve(e){var t=null,r=e[0].params,n=[\"enlighter-default\",\"enlighter-v-standard\",\"enlighter-t-\"+e[0].params.theme];function i(e){Re(t,e)}function a(){return e[0].code}return!0===r.linehover&&n.push(\"enlighter-hover\"),!0===r.linenumbers&&n.push(\"enlighter-linenumbers\"),\"scroll\"===r.textOverflow&&n.push(\"enlighter-overflow-scroll\"),!0===r.collapse&&n.push(\"enlighter-collapse\"),0<r.cssClasses.length&&n.push.apply(n,f(r.cssClasses)),t=De(Ze,{className:n},De(Ge,{name:\"top\",layout:r.toolbarTop,toggleClass:i,getRawCode:a}),De(Be,{tokens:e[0].tokens,options:e[0].params}),De(He,null,e[0].code),De(Ge,{name:\"bottom\",layout:r.toolbarBottom,toggleClass:i,getRawCode:a})),r.rawcodeDbclick&&t.on(\"dblclick\",function(){i(\"enlighter-show-rawcode\")}),t}function Je(e){return De(\"span\",{className:\"enlighter\"},e.tokens.map(function(e){return De(\"span\",{className:\"enlighter-\"+e.type},e.text)}))}function Xe(r){var n=0,i=[];return i=r.dataset.map(function(e,t){return De(Me,{onClick:function(){return e=t,Oe(i[n],\"enlighter-active\"),$e(i[e],\"enlighter-active\"),n=e,void r.onChange(e);var e},text:e.params.title||e.params.language})}),$e(i[0],\"enlighter-active\"),De(Ze,{name:\"codegroup-switch\"},i)}var Ye=Object.freeze({__proto__:null,standard:Ve,inline:function(e){var t=e[0].params,r=[\"enlighter-default\",\"enlighter-v-inline\",\"enlighter-t-\"+t.theme];return 0<t.cssClasses.length&&r.push.apply(r,f(t.cssClasses)),De(Ze,{className:r},De(Je,{tokens:e[0].tokens,options:t}))},codegroup:function(e){var t,r=null,n=e[0].params,i=0,a=[\"enlighter-default\",\"enlighter-v-codegroup\",\"enlighter-t-\"+n.theme];function s(e){Re(r,e)}function o(){return e[i].code}function l(e){Ee(t[i],!1),Ee(t[e],!0),i=e}return!0===n.linehover&&a.push(\"enlighter-hover\"),!0===n.linenumbers&&a.push(\"enlighter-linenumbers\"),\"scroll\"===n.textOverflow&&a.push(\"enlighter-overflow-scroll\"),!0===n.collapse&&a.push(\"enlighter-collapse\"),0<n.cssClasses.length&&a.push.apply(a,f(n.cssClasses)),t=e.map(function(e){return De(\"div\",{style:\"display:none\"},De(Be,{tokens:e.tokens,options:e.params}),De(He,null,e.code))}),l(0),r=De(Ze,{className:a},De(Xe,{onChange:l,dataset:e}),De(Ze,{name:\"codegroup-wrapper\"},De(Ge,{name:\"top\",layout:n.toolbarTop,toggleClass:s,getRawCode:o}),t,De(Ge,{name:\"bottom\",layout:n.toolbarBottom,toggleClass:s,getRawCode:o}))),n.rawcodeDbclick&&r.on(\"dblclick\",function(){s(\"enlighter-show-rawcode\")}),r}});function Qe(e){var t;return(t=((t=e[0].params.layout)||\"\").toLowerCase(),Ye[t]?Ye[t]:Ve)(e.map(function(e){var t,r,n,i=e.code,a=e.params;if(\"string\"!=typeof i)throw new TypeError(\"EnlighterJS Engine requires string input\");return{tokens:(t=a.language,r=c.language||null,n=we(t)||we(r)||\"generic\",xe[n]||(xe[n]=new he[n]),xe[n]).analyze(i),params:a,code:i}}))}function Ke(i,t){function a(e){return function(){for(var e=arguments.length,t=new Array(e),r=0;r<e;r++)t[r]=arguments[r];for(var n=t.pop(),i=0;i<t.length;i++){var a=t[i];if(null!=a)return a}return n}(t[e],c[e],null)}function e(e,t){var r=qe(i,\"enlighter-\"+e),n=a(e);if(!(r&&0<r.length))return n;switch(t){case\"boolean\":return\"true\"===(r=r.toLowerCase().trim())||\"false\"!==r&&n;case\"int\":return r=parseInt(r),isNaN(r)?n:r;default:return r}}var r=a(\"cssClasses\")||\"\";!0===a(\"retainCssClasses\")&&(r+=\" \"+(Ie(i,\"class\")||\"\"));var n=r.replace(/\\s+/g,\" \").trim().split(\" \");return{language:e(\"language\"),theme:e(\"theme\"),layout:e(\"layout\"),title:e(\"title\"),highlight:e(\"highlight\"),linenumbers:e(\"linenumbers\",\"boolean\"),lineoffset:e(\"lineoffset\",\"int\"),indent:a(\"indent\"),ampersandCleanup:a(\"ampersandCleanup\"),linehover:a(\"linehover\"),rawcodeDbclick:a(\"rawcodeDbclick\"),textOverflow:a(\"textOverflow\"),collapse:a(\"collapse\"),cssClasses:n,toolbarTop:a(\"toolbarTop\"),toolbarBottom:a(\"toolbarBottom\"),toolbarHeader:a(\"toolbarHeader\")}}var et=[];function tt(e){var t=function(e){for(var t=0;t<et.length;t++)for(var r=0;r<et[t].elements.length;r++)if(et[t].elements[r]===e)return t;return!1}(e);if(!1===t)return!1;var r=et.splice(t,1);return Ae(r[0].wrapper),r[0].elements.map(function(e){return Oe(e,\"enlighter-origin\")}),!0}function rt(e){var t,r,n=1<arguments.length&&void 0!==arguments[1]?arguments[1]:{};try{if(Array.isArray(e)||(e=[e]),0===e.length)return!1;if(!1===n)return tt(e[0]);if(Te(e[0],\"enlighter-origin\"))return!1;var i=Qe(e.map(function(e){var t=Ke(e,n),r=function(e,t){var r=e.innerHTML||\"\";r=(r=r.replace(/(^\\s*\\n|\\n\\s*$)/gi,\"\")).replace(/&lt;/gim,\"<\").replace(/&gt;/gim,\">\").replace(/&nbsp;/gim,\" \"),!0===t.ampersandCleanup&&(r=r.replace(/&amp;/gim,\"&\"));var n=t.indent;return!1!==n&&-1<n&&(r=r.replace(/(\\t*)/gim,function(e,t){return new Array(n*t.length+1).join(\" \")})),r}(e,t);return $e(e,\"enlighter-origin\"),{element:e,code:r,params:t}}));return We(e[0],i),t=e,r=i,et.push({elements:t,wrapper:r}),!0}catch(e){return console.error(\"EnlighterJS Internal Error:\",e),!1}}return e.enlight=rt,e.init=function(){var e,t=0<arguments.length&&void 0!==arguments[0]?arguments[0]:\"pre.ejs\",r=1<arguments.length&&void 0!==arguments[1]?arguments[1]:\"code.ejs\",n=3<arguments.length&&void 0!==arguments[3]?arguments[3]:{};e=2<arguments.length&&void 0!==arguments[2]?arguments[2]:null,Object.assign(c,e||{});for(var i=Le(t),a=Le(r),s=function(e){for(var t={},r=[],n=0;n<e.length;n++){var i=qe(e[n],\"enlighter-group\");i?(t[i]||(t[i]=[]),t[i].push(e[n])):r.push(e[n])}return{standalone:r,groups:Object.keys(t).map(function(e){return t[e]})}}(i),o=s.standalone,l=s.groups,g=0;g<o.length;g++)rt(o[g],{layout:n.block||\"standard\"});for(var u=0;u<l.length;u++)rt(l[u],{layout:n.codegroup||\"codegroup\"});for(var p=0;p<a.length;p++)rt(a[p],{layout:n.inline||\"inline\"})},e.version=\"3.4.0\",e}({});\n",
       "!function(n){\"function\"==typeof n&&n.fn&&(n.fn.enlight=function(n){return n=!0===(n=void 0===n?{}:n)?{}:n,this.each(function(){EnlighterJS.enlight(this,n)})})}(window.jQuery);</script>"
      ],
      "text/plain": [
       "<IPython.core.display.HTML object>"
      ]
     },
     "metadata": {},
     "output_type": "display_data"
    },
    {
     "data": {
      "text/html": [
       "<style>/*! EnlighterJS Syntax Highlighter 3.4.0 | Mozilla Public License 2.0 | https://enlighterjs.org */\n",
       ".enlighter-tooltip{z-index:100}.enlighter-default{font-family:\"Source Code Pro\",\"Liberation Mono\",\"Courier New\",Courier,monospace;font-size:12px;line-height:1.35em;overflow:hidden;white-space:pre-wrap;word-wrap:break-word;margin:0 0 20px 0;padding:0;position:relative;text-align:left;direction:ltr}.enlighter-default .enlighter-special:hover{background-color:#f4f8fc}.enlighter-default .enlighter-raw{display:none;min-width:100%;line-height:inherit;font-size:1em;font-family:inherit;margin:0;padding:0;white-space:pre-wrap;word-wrap:break-word;border:none;box-shadow:none}.enlighter-default:hover .enlighter-toolbar{display:block}.enlighter-default .enlighter-btn{display:inline-block;margin:0 5px 0 5px;padding:3px 5px 3px 5px;border:solid 1px #333;background-color:#f0f0f0;cursor:pointer;font-family:inherit}.enlighter-default .enlighter-toolbar .enlighter-btn-raw{background-image:url(data:image/svg+xml,%3C%3Fxml%20version%3D%221.0%22%20encoding%3D%22utf-8%22%3F%3E%0D%0A%3C!DOCTYPE%20svg%20PUBLIC%20%22-%2F%2FW3C%2F%2FDTD%20SVG%201.1%2F%2FEN%22%20%22http%3A%2F%2Fwww.w3.org%2FGraphics%2FSVG%2F1.1%2FDTD%2Fsvg11.dtd%22%3E%0D%0A%3Csvg%20version%3D%221.1%22%20id%3D%22Ebene_2%22%20xmlns%3D%22http%3A%2F%2Fwww.w3.org%2F2000%2Fsvg%22%20xmlns%3Axlink%3D%22http%3A%2F%2Fwww.w3.org%2F1999%2Fxlink%22%20x%3D%220px%22%20y%3D%220px%22%0D%0A%09%20width%3D%2246px%22%20height%3D%2246px%22%20viewBox%3D%220%200%2046%2046%22%20enable-background%3D%22new%200%200%2046%2046%22%20xml%3Aspace%3D%22preserve%22%3E%0D%0A%3Cg%3E%0D%0A%09%3Cpath%20d%3D%22M19.436%2C36.875L6.568%2C25.002v-3.863L19.436%2C9.267v5.041l-9.583%2C8.668v0.188l9.583%2C8.669V36.875z%22%2F%3E%0D%0A%09%3Cpath%20d%3D%22M26.343%2C36.875v-5.041l9.583-8.669v-0.188l-9.583-8.668V9.267l12.868%2C11.872v3.863L26.343%2C36.875z%22%2F%3E%0D%0A%3C%2Fg%3E%0D%0A%3C%2Fsvg%3E%0D%0A)}.enlighter-default .enlighter-toolbar .enlighter-btn-copy{background-image:url(data:image/svg+xml,%3C%3Fxml%20version%3D%221.0%22%20encoding%3D%22utf-8%22%3F%3E%0D%0A%3C!DOCTYPE%20svg%20PUBLIC%20%22-%2F%2FW3C%2F%2FDTD%20SVG%201.1%2F%2FEN%22%20%22http%3A%2F%2Fwww.w3.org%2FGraphics%2FSVG%2F1.1%2FDTD%2Fsvg11.dtd%22%3E%0D%0A%3Csvg%20version%3D%221.1%22%20id%3D%22Ebene_2%22%20xmlns%3D%22http%3A%2F%2Fwww.w3.org%2F2000%2Fsvg%22%20xmlns%3Axlink%3D%22http%3A%2F%2Fwww.w3.org%2F1999%2Fxlink%22%20x%3D%220px%22%20y%3D%220px%22%0D%0A%09%20width%3D%2246px%22%20height%3D%2246px%22%20viewBox%3D%220%200%2046%2046%22%20enable-background%3D%22new%200%200%2046%2046%22%20xml%3Aspace%3D%22preserve%22%3E%0D%0A%3Cline%20fill%3D%22none%22%20stroke%3D%22%23000000%22%20stroke-width%3D%224%22%20stroke-miterlimit%3D%2210%22%20x1%3D%2253.75%22%20y1%3D%2239.353%22%20x2%3D%2286.375%22%20y2%3D%2239.353%22%2F%3E%0D%0A%3Cline%20fill%3D%22none%22%20stroke%3D%22%23000000%22%20stroke-width%3D%224%22%20stroke-miterlimit%3D%2210%22%20x1%3D%2251.711%22%20y1%3D%2230.534%22%20x2%3D%2284.336%22%20y2%3D%2230.534%22%2F%3E%0D%0A%3Crect%20x%3D%228.932%22%20y%3D%227.334%22%20fill%3D%22%23FFFFFF%22%20stroke%3D%22%23000000%22%20stroke-width%3D%223%22%20stroke-miterlimit%3D%2210%22%20width%3D%2221.097%22%20height%3D%2224.952%22%2F%3E%0D%0A%3Crect%20x%3D%2218.942%22%20y%3D%2215.424%22%20fill%3D%22%23FFFFFF%22%20stroke%3D%22%23000000%22%20stroke-width%3D%223%22%20stroke-miterlimit%3D%2210%22%20width%3D%2221.096%22%20height%3D%2224.953%22%2F%3E%0D%0A%3C%2Fsvg%3E%0D%0A)}.enlighter-default .enlighter-toolbar .enlighter-btn-window{background-image:url(data:image/svg+xml,%3C%3Fxml%20version%3D%221.0%22%20encoding%3D%22utf-8%22%3F%3E%0D%0A%3C!DOCTYPE%20svg%20PUBLIC%20%22-%2F%2FW3C%2F%2FDTD%20SVG%201.1%2F%2FEN%22%20%22http%3A%2F%2Fwww.w3.org%2FGraphics%2FSVG%2F1.1%2FDTD%2Fsvg11.dtd%22%3E%0D%0A%3Csvg%20version%3D%221.1%22%20id%3D%22Ebene_2%22%20xmlns%3D%22http%3A%2F%2Fwww.w3.org%2F2000%2Fsvg%22%20xmlns%3Axlink%3D%22http%3A%2F%2Fwww.w3.org%2F1999%2Fxlink%22%20x%3D%220px%22%20y%3D%220px%22%0D%0A%09%20width%3D%2246px%22%20height%3D%2246px%22%20viewBox%3D%220%200%2046%2046%22%20enable-background%3D%22new%200%200%2046%2046%22%20xml%3Aspace%3D%22preserve%22%3E%0D%0A%3Cline%20fill%3D%22none%22%20stroke%3D%22%23000000%22%20stroke-width%3D%224%22%20stroke-miterlimit%3D%2210%22%20x1%3D%227.125%22%20y1%3D%229.25%22%20x2%3D%2239.75%22%20y2%3D%229.25%22%2F%3E%0D%0A%3Cline%20fill%3D%22none%22%20stroke%3D%22%23000000%22%20stroke-width%3D%224%22%20stroke-miterlimit%3D%2210%22%20x1%3D%227.125%22%20y1%3D%2218.167%22%20x2%3D%2239.75%22%20y2%3D%2218.167%22%2F%3E%0D%0A%3Cline%20fill%3D%22none%22%20stroke%3D%22%23000000%22%20stroke-width%3D%224%22%20stroke-miterlimit%3D%2210%22%20x1%3D%227.125%22%20y1%3D%2227.083%22%20x2%3D%2239.75%22%20y2%3D%2227.083%22%2F%3E%0D%0A%3Cline%20fill%3D%22none%22%20stroke%3D%22%23000000%22%20stroke-width%3D%224%22%20stroke-miterlimit%3D%2210%22%20x1%3D%227.125%22%20y1%3D%2236%22%20x2%3D%2229.809%22%20y2%3D%2236%22%2F%3E%0D%0A%3C%2Fsvg%3E%0D%0A)}.enlighter-default .enlighter-toolbar .enlighter-btn-website{background-image:url(data:image/svg+xml,%3C%3Fxml%20version%3D%221.0%22%20encoding%3D%22utf-8%22%3F%3E%0D%0A%3C!DOCTYPE%20svg%20PUBLIC%20%22-%2F%2FW3C%2F%2FDTD%20SVG%201.1%2F%2FEN%22%20%22http%3A%2F%2Fwww.w3.org%2FGraphics%2FSVG%2F1.1%2FDTD%2Fsvg11.dtd%22%3E%0D%0A%3Csvg%20version%3D%221.1%22%20id%3D%22E%22%20xmlns%3D%22http%3A%2F%2Fwww.w3.org%2F2000%2Fsvg%22%20xmlns%3Axlink%3D%22http%3A%2F%2Fwww.w3.org%2F1999%2Fxlink%22%20x%3D%220px%22%20y%3D%220px%22%0D%0A%09%20width%3D%2246px%22%20height%3D%2246px%22%20viewBox%3D%220%200%2046%2046%22%20enable-background%3D%22new%200%200%2046%2046%22%20xml%3Aspace%3D%22preserve%22%3E%0D%0A%3Cg%3E%0D%0A%09%3Cpath%20fill%3D%22%23202F65%22%20d%3D%22M32.48%2C25.614H19.64l-4.933%2C9.826l17.746%2C0.037l-6.173%2C5.358L8.167%2C40.912L16.29%2C6.055h22.974l-5.734%2C5.354%0D%0A%09%09l-13.306-0.027l0.672%2C8.797h12.841L32.48%2C25.614z%22%2F%3E%0D%0A%3C%2Fg%3E%0D%0A%3C%2Fsvg%3E%0D%0A)}.enlighter-origin{display:none!important}.enlighter-clipboard{position:absolute;left:0;bottom:0;width:1px;height:1px;overflow:hidden}.enlighter-v-inline{display:inline-block;overflow:inherit;margin:0}.enlighter-v-standard{display:block}.enlighter-v-codegroup{display:block}.enlighter-v-codegroup .enlighter-codegroup-wrapper{position:relative}div.enlighter{display:table;width:100%;border-collapse:collapse;border-spacing:0;empty-cells:show;min-width:100%;font-size:1em;margin:0;padding:0;text-indent:0;counter-reset:enlighter 0}div.enlighter>div{display:table-row;margin:0;border:solid 0 #fff;list-style:none;font-size:inherit;line-height:1.15em;min-height:14px}div.enlighter>div>div{display:table-cell;padding-left:10px}div.enlighter>div>div::before{content:\" \"}span.enlighter{display:inline-block;padding:3px 5px 1px 5px;margin:0 2px 0 2px}.enlighter span{margin:0;padding:0;line-height:inherit;font-size:1em;font-family:inherit}.enlighter-linenumbers div.enlighter>div::before{white-space:nowrap;display:block;display:table-cell;width:45px;min-width:45px;counter-increment:enlighter;content:counter(enlighter,decimal) \".\";text-align:right;padding-right:8px}.enlighter-toolbar{display:none;position:absolute;right:10px;top:10px;z-index:10}.enlighter-toolbar-bottom{top:unset;bottom:0}.enlighter-overflow-scroll.enlighter-v-standard{overflow-x:auto;word-wrap:normal!important}.enlighter-overflow-scroll.enlighter-v-codegroup .enlighter-codegroup-wrapper{overflow-x:auto;word-wrap:normal!important}.enlighter-overflow-scroll.enlighter-v-codegroup .enlighter>div>div,.enlighter-overflow-scroll.enlighter-v-standard .enlighter>div>div{white-space:pre!important}.enlighter-overflow-scroll.enlighter-v-codegroup .enlighter-raw,.enlighter-overflow-scroll.enlighter-v-standard .enlighter-raw{white-space:pre!important}.enlighter-collapse.enlighter-v-standard{overflow-y:auto;max-height:500px}.enlighter-collapse.enlighter-v-codegroup .enlighter-codegroup-wrapper{overflow-y:auto;max-height:500px}.enlighter-collapse.enlighter-collapse-full.enlighter-v-standard{max-height:none}.enlighter-collapse.enlighter-collapse-full.enlighter-v-codegroup .enlighter-codegroup-wrapper{max-height:none}.enlighter-show-rawcode .enlighter-raw{display:block}.enlighter-show-rawcode .enlighter{display:none!important}\n",
       ".enlighter-t-enlighter{color:#939393;border-radius:8px;border:solid 1px #e0e0e0}.enlighter-t-enlighter .enlighter-btn{border-radius:3px;background-color:#fff;color:#717171;font-size:1em;padding:0;border:1px solid #e0e0e0;margin:0 0 0 8px;text-decoration:none;width:23px;height:23px;background-position:0 0;background-size:contain}.enlighter-t-enlighter .enlighter-btn:hover{border-color:#c9c9c9}.enlighter-t-enlighter .enlighter-btn:after{content:''}.enlighter-t-enlighter.enlighter-hover.enlighter-linenumbers div.enlighter>div:hover{color:#444;background-color:#fffcd3}.enlighter-t-enlighter.enlighter-hover div.enlighter>div:hover{color:#444;background-color:#fffcd3}.enlighter-t-enlighter .enlighter-raw{font-size:1em;color:#000;background-color:#f9f9f9;border-radius:8px;line-height:1.4em;padding:0 5px 0 60px}.enlighter-t-enlighter div.enlighter>div{border:solid 0 #fff;line-height:1.35em;color:#aaa}.enlighter-t-enlighter div.enlighter>div:FIRST-CHILD{border-radius:8px 8px 0 0}.enlighter-t-enlighter div.enlighter>div:LAST-CHILD{border-radius:0 0 8px 8px}.enlighter-t-enlighter div.enlighter>div.enlighter-special{background-color:#fdf5f0}.enlighter-t-enlighter.enlighter-linenumbers div.enlighter>div::before{border-right:solid 1px #e0e0e0;background-color:#f9f9f9}.enlighter-t-enlighter.enlighter-linenumbers div.enlighter>div:FIRST-CHILD::before{border-radius:8px 0 0 0}.enlighter-t-enlighter.enlighter-linenumbers div.enlighter>div:LAST-CHILD::before{border-radius:0 0 0 8px}.enlighter-t-enlighter .enlighter-text{color:#000}.enlighter-t-enlighter .enlighter-c0{color:#99a}.enlighter-t-enlighter .enlighter-c1{color:#99a}.enlighter-t-enlighter .enlighter-c2{color:#99a}.enlighter-t-enlighter .enlighter-c9{color:#9baa8f}.enlighter-t-enlighter .enlighter-k0{color:#286491;font-weight:700}.enlighter-t-enlighter .enlighter-k1{color:#286491;font-weight:700}.enlighter-t-enlighter .enlighter-k2{color:#458;font-weight:700}.enlighter-t-enlighter .enlighter-k3{color:#4da0d2;background-color:#f0f0f0}.enlighter-t-enlighter .enlighter-k4{color:#4a9141;font-weight:700}.enlighter-t-enlighter .enlighter-k5{color:#286491;font-weight:700}.enlighter-t-enlighter .enlighter-k6{color:#286491;font-style:italic}.enlighter-t-enlighter .enlighter-k7{color:#286491;font-weight:700}.enlighter-t-enlighter .enlighter-k8{color:#4da0d2}.enlighter-t-enlighter .enlighter-k9{color:#990073;font-weight:700}.enlighter-t-enlighter .enlighter-k10{color:#4a9141;font-style:italic}.enlighter-t-enlighter .enlighter-k11{color:#99a}.enlighter-t-enlighter .enlighter-e0{color:#34068a;font-weight:700}.enlighter-t-enlighter .enlighter-e1{color:#34068a;font-weight:700}.enlighter-t-enlighter .enlighter-e2{color:#009926}.enlighter-t-enlighter .enlighter-e3{color:#286491}.enlighter-t-enlighter .enlighter-e4{color:#ff8c00;font-style:italic}.enlighter-t-enlighter .enlighter-s0{color:#d14}.enlighter-t-enlighter .enlighter-s1{color:#d14}.enlighter-t-enlighter .enlighter-s2{color:#d14}.enlighter-t-enlighter .enlighter-s3{color:#737383}.enlighter-t-enlighter .enlighter-s4{color:#ff8c00;font-weight:700}.enlighter-t-enlighter .enlighter-s5{color:#d14;font-style:italic}.enlighter-t-enlighter .enlighter-n0{color:#099}.enlighter-t-enlighter .enlighter-n1{color:#099}.enlighter-t-enlighter .enlighter-n2{color:#099;font-style:italic}.enlighter-t-enlighter .enlighter-n3{color:#099;font-style:italic}.enlighter-t-enlighter .enlighter-n4{color:#099;font-style:italic}.enlighter-t-enlighter .enlighter-n5{color:#099;text-decoration:underline}.enlighter-t-enlighter .enlighter-m0{color:#0086b3}.enlighter-t-enlighter .enlighter-m1{color:#0086b3}.enlighter-t-enlighter .enlighter-m2{color:#0086b3}.enlighter-t-enlighter .enlighter-m3{color:#0086b3}.enlighter-t-enlighter .enlighter-g0{color:#777}.enlighter-t-enlighter .enlighter-g1{color:#777}.enlighter-t-enlighter .enlighter-t0{color:#777}.enlighter-t-enlighter .enlighter-t1{color:#d14;font-weight:700}.enlighter-t-enlighter .enlighter-t2{color:#990073;font-weight:700}.enlighter-t-enlighter .enlighter-t3{color:#0086b3}.enlighter-t-enlighter .enlighter-t4{color:#009926}.enlighter-t-enlighter .enlighter-t5{color:#009926}.enlighter-t-enlighter .enlighter-t6{color:#d14}.enlighter-t-enlighter .enlighter-t7{color:#535353;font-weight:700}.enlighter-t-enlighter .enlighter-t8{color:#777;background-color:#f0f0f0;font-style:italic}.enlighter-t-enlighter .enlighter-x1{color:#286491;font-weight:700}.enlighter-t-enlighter .enlighter-x2{color:#4da0d2}.enlighter-t-enlighter .enlighter-x10{color:#000;font-weight:700}.enlighter-t-enlighter .enlighter-x11{color:#286491;font-weight:700}.enlighter-t-enlighter .enlighter-x12{color:#286491;text-decoration:underline}.enlighter-t-enlighter .enlighter-x13{color:#0086b3}.enlighter-t-enlighter .enlighter-x14{color:#099;font-style:italic}.enlighter-t-enlighter .enlighter-x15{color:#990073;font-style:italic}.enlighter-t-enlighter.enlighter-v-inline{border-radius:3px;background-color:#fafafa}.enlighter-t-enlighter.enlighter-v-codegroup .enlighter,.enlighter-t-enlighter.enlighter-v-codegroup .enlighter-raw{border-top-left-radius:0;border-top-right-radius:0}.enlighter-t-enlighter.enlighter-v-codegroup .enlighter div:first-child{border-radius:0}.enlighter-t-enlighter.enlighter-v-codegroup .enlighter-codegroup-wrapper{position:relative}.enlighter-t-enlighter.enlighter-v-codegroup .enlighter-codegroup-switch{border-radius:8px 8px 0 0;background-color:#f9f9f9;border-bottom:1px solid #e0e0e0;padding:5px 5px 5px 45px}.enlighter-t-enlighter.enlighter-v-codegroup .enlighter-codegroup-switch .enlighter-btn{padding:3px 10px 3px 10px;border-radius:4px;border:1px solid #e0e0e0;font-size:1em;color:#000;background-color:transparent;width:auto}.enlighter-t-enlighter.enlighter-v-codegroup .enlighter-codegroup-switch .enlighter-btn.enlighter-active{background-color:#e5e5e5;color:#000;border-color:#c9c9c9}\n",
       ".enlighter-t-beyond{color:#333;background-color:#f7f7fa;border-radius:5px;border:solid 2px #e2e2e8;padding:10px 10px 10px 5px}.enlighter-t-beyond .enlighter-btn{border-radius:3px;background-color:#fff;color:#717171;padding:0;border:1px solid #e0e0e0;margin:0 0 0 8px;width:23px;height:23px;background-position:0 0;background-size:contain;font-family:\"Open Sans\",Arial,Verdana,sans-serif}.enlighter-t-beyond .enlighter-btn:hover{border-color:#c9c9c9}.enlighter-t-beyond .enlighter-btn:after{content:''}.enlighter-t-beyond.enlighter-hover div.enlighter>div:hover{color:#444;background-color:#fff}.enlighter-t-beyond.enlighter-hover div.enlighter>div:hover.enlighter-special{background-color:#fffcd3;border:solid 0 #fff;color:#444}.enlighter-t-beyond .enlighter-raw{background-color:#f7f7fa;font-size:1.1em;color:#333;padding:10px 15px 10px 59px;line-height:1.7em}.enlighter-t-beyond div.enlighter>div{border:solid 0 #fff;padding:1px 5px 1px 10px;line-height:1.5em;color:#aaa;background-color:#f7f7fa}.enlighter-t-beyond div.enlighter>div:FIRST-CHILD{border-radius:8px 8px 0 0}.enlighter-t-beyond div.enlighter>div:LAST-CHILD{border-radius:0 0 8px 8px}.enlighter-t-beyond div.enlighter>div:AFTER{content:' '}.enlighter-t-beyond div.enlighter>div.enlighter-special{background-color:#fff}.enlighter-t-beyond.enlighter-linenumbers div.enlighter>div::before{padding:1px 5px 1px 14px;font-size:.9em}.enlighter-t-beyond.enlighter-linenumbers div.enlighter>div:FIRST-CHILD::before{border-radius:0 8px 0 0}.enlighter-t-beyond.enlighter-linenumbers div.enlighter>div:LAST-CHILD::before{border-radius:0 0 8px 0}.enlighter-t-beyond .enlighter span{font-size:1.1em}.enlighter-t-beyond .enlighter-text{color:#2f3235}.enlighter-t-beyond .enlighter-c0{color:#8181a1}.enlighter-t-beyond .enlighter-c1{color:#8181a1}.enlighter-t-beyond .enlighter-c2{color:#8181a1}.enlighter-t-beyond .enlighter-c9{color:#8181a1}.enlighter-t-beyond .enlighter-k0{color:#286491;font-weight:700}.enlighter-t-beyond .enlighter-k1{color:#286491;font-weight:700}.enlighter-t-beyond .enlighter-k2{color:#458;font-weight:700}.enlighter-t-beyond .enlighter-k3{color:#4da0d2;background-color:#f0f0f0}.enlighter-t-beyond .enlighter-k4{color:#4a9141;font-weight:700}.enlighter-t-beyond .enlighter-k5{color:#286491;font-weight:700}.enlighter-t-beyond .enlighter-k6{color:#286491;font-style:italic}.enlighter-t-beyond .enlighter-k7{color:#286491;font-weight:700}.enlighter-t-beyond .enlighter-k8{color:#4da0d2}.enlighter-t-beyond .enlighter-k9{color:#990073;font-weight:700}.enlighter-t-beyond .enlighter-k10{color:#4a9141;font-style:italic}.enlighter-t-beyond .enlighter-k11{color:#8181a1}.enlighter-t-beyond .enlighter-e0{color:#34068a;font-weight:700}.enlighter-t-beyond .enlighter-e1{color:#34068a;font-weight:700}.enlighter-t-beyond .enlighter-e2{color:#009926}.enlighter-t-beyond .enlighter-e3{color:#286491}.enlighter-t-beyond .enlighter-e4{color:#049595;font-style:italic}.enlighter-t-beyond .enlighter-s0{color:#d14}.enlighter-t-beyond .enlighter-s1{color:#d14}.enlighter-t-beyond .enlighter-s2{color:#d14}.enlighter-t-beyond .enlighter-s3{color:#737383}.enlighter-t-beyond .enlighter-s4{color:#049595;font-weight:700}.enlighter-t-beyond .enlighter-s5{color:#d14;font-style:italic}.enlighter-t-beyond .enlighter-n0{color:#099}.enlighter-t-beyond .enlighter-n1{color:#099}.enlighter-t-beyond .enlighter-n2{color:#099;font-style:italic}.enlighter-t-beyond .enlighter-n3{color:#099;font-style:italic}.enlighter-t-beyond .enlighter-n4{color:#099;font-style:italic}.enlighter-t-beyond .enlighter-n5{color:#099;text-decoration:underline}.enlighter-t-beyond .enlighter-m0{color:#0086b3}.enlighter-t-beyond .enlighter-m1{color:#0086b3}.enlighter-t-beyond .enlighter-m2{color:#0086b3}.enlighter-t-beyond .enlighter-m3{color:#0086b3}.enlighter-t-beyond .enlighter-g0{color:#777}.enlighter-t-beyond .enlighter-g1{color:#777}.enlighter-t-beyond .enlighter-t0{color:#777}.enlighter-t-beyond .enlighter-t1{color:#d14;font-weight:700}.enlighter-t-beyond .enlighter-t2{color:#990073;font-weight:700}.enlighter-t-beyond .enlighter-t3{color:#0086b3}.enlighter-t-beyond .enlighter-t4{color:#009926}.enlighter-t-beyond .enlighter-t5{color:#009926}.enlighter-t-beyond .enlighter-t6{color:#d14}.enlighter-t-beyond .enlighter-t7{color:#535353;font-weight:700}.enlighter-t-beyond .enlighter-t8{color:#777;background-color:#f0f0f0;font-style:italic}.enlighter-t-beyond .enlighter-x1{color:#286491;font-weight:700}.enlighter-t-beyond .enlighter-x2{color:#4da0d2}.enlighter-t-beyond .enlighter-x10{color:#000;font-weight:700}.enlighter-t-beyond .enlighter-x11{color:#286491;font-weight:700}.enlighter-t-beyond .enlighter-x12{color:#286491;text-decoration:underline}.enlighter-t-beyond .enlighter-x13{color:#0086b3}.enlighter-t-beyond .enlighter-x14{color:#099;font-style:italic}.enlighter-t-beyond .enlighter-x15{color:#990073;font-style:italic}.enlighter-t-beyond.enlighter-v-inline{border-radius:3px;background-color:#f7f7fa;border:dotted 1px #e2e2e8;padding:0}.enlighter-t-beyond.enlighter-v-codegroup{padding:0;border:none}.enlighter-t-beyond.enlighter-v-codegroup .enlighter-codegroup-wrapper{background-color:#f7f7fa;border-radius:5px;border:solid 2px #e2e2e8;padding:10px 10px 10px 5px}.enlighter-t-beyond.enlighter-v-codegroup .enlighter-codegroup-switch{background-color:#fff;padding:0 0 0 45px}.enlighter-t-beyond.enlighter-v-codegroup .enlighter-codegroup-switch .enlighter-btn{border:solid 2px #e2e2e8;border-radius:5px 5px 0 0;font-size:1em;color:#286491;font-weight:700;background-color:#fff;border-bottom:none;padding:3px 10px 3px 10px;width:auto}.enlighter-t-beyond.enlighter-v-codegroup .enlighter-codegroup-switch .enlighter-btn.enlighter-active{background-color:#e2e2e8;border-color:#d8d8dd;color:#505050;font-weight:700}\n",
       ".enlighter-t-classic{background-color:#fff;border:1px solid #e8e8e2}.enlighter-t-classic .enlighter-btn{background-color:#fff;color:#717171;font-size:1em;padding:0;border:1px solid #e0e0e0;margin:0 0 0 8px;text-decoration:none;width:23px;height:23px;background-position:0 0;background-size:contain;font-family:\"Open Sans\",Arial,Verdana,sans-serif}.enlighter-t-classic .enlighter-btn:hover{border-color:#c9c9c9}.enlighter-t-classic .enlighter-btn:after{content:''}.enlighter-t-classic.enlighter-hover div.enlighter>div:hover{background-color:#ddf0dd}.enlighter-t-classic .enlighter-raw{font-size:1.25em;color:#000;line-height:1.85em;padding:4px 5px 4px 58px}.enlighter-t-classic div.enlighter{line-height:1.7em}.enlighter-t-classic div.enlighter>div{padding:1px 5px 1px 14px;line-height:1.7em;color:#aaa}.enlighter-t-classic div.enlighter>div>div{border-left:solid 4px #52ce52}.enlighter-t-classic div.enlighter>div:FIRST-CHILD{padding-top:5px}.enlighter-t-classic div.enlighter>div:LAST-CHILD{padding-bottom:5px}.enlighter-t-classic div.enlighter>div:AFTER{content:' '}.enlighter-t-classic div.enlighter>div:nth-child(even){background-color:#f8f8f8}.enlighter-t-classic div.enlighter>div.enlighter-special{background-color:#edf9ec;border-left-color:#3fa03f}.enlighter-t-classic.enlighter-linenumbers div.enlighter>div::before{padding:1px 5px 1px 14px;color:#000;background-color:#f8f8f8;font-size:1.15em;width:55px;min-width:55px}.enlighter-t-classic .enlighter span{font-size:1.25em}.enlighter-t-classic .enlighter-text{color:#000}.enlighter-t-classic .enlighter-c0{color:#888}.enlighter-t-classic .enlighter-c1{color:#888}.enlighter-t-classic .enlighter-c2{color:#888}.enlighter-t-classic .enlighter-c9{color:#888}.enlighter-t-classic .enlighter-k0{color:#066da1;font-weight:700}.enlighter-t-classic .enlighter-k1{color:#066da1;font-weight:700}.enlighter-t-classic .enlighter-k2{color:#404247;font-weight:700}.enlighter-t-classic .enlighter-k3{color:#404247;background-color:#f0f0f0}.enlighter-t-classic .enlighter-k4{color:#404247;font-weight:700}.enlighter-t-classic .enlighter-k5{color:#404247;font-weight:700}.enlighter-t-classic .enlighter-k6{color:#066da1;font-style:italic}.enlighter-t-classic .enlighter-k7{color:#066da1;font-weight:700}.enlighter-t-classic .enlighter-k8{color:#404247}.enlighter-t-classic .enlighter-k9{color:#d53aa9;font-weight:700}.enlighter-t-classic .enlighter-k10{color:#404247;font-style:italic}.enlighter-t-classic .enlighter-k11{color:#888}.enlighter-t-classic .enlighter-e0{color:#d53aa9;font-weight:700}.enlighter-t-classic .enlighter-e1{color:#d53aa9;font-weight:700}.enlighter-t-classic .enlighter-e2{color:#009926}.enlighter-t-classic .enlighter-e3{color:#d53aa9}.enlighter-t-classic .enlighter-e4{color:#d53aa9;font-style:italic}.enlighter-t-classic .enlighter-s0{color:#2d47e6}.enlighter-t-classic .enlighter-s1{color:#2d47e6}.enlighter-t-classic .enlighter-s2{color:#2d47e6}.enlighter-t-classic .enlighter-s3{color:#2d47e6}.enlighter-t-classic .enlighter-s4{color:#2d47e6;font-weight:700}.enlighter-t-classic .enlighter-s5{color:#d53aa9;font-weight:700}.enlighter-t-classic .enlighter-n0{color:#d53aa9}.enlighter-t-classic .enlighter-n1{color:#d53aa9}.enlighter-t-classic .enlighter-n2{color:#d53aa9}.enlighter-t-classic .enlighter-n3{color:#d53aa9}.enlighter-t-classic .enlighter-n4{color:#d53aa9}.enlighter-t-classic .enlighter-n5{color:#d53aa9}.enlighter-t-classic .enlighter-m0{color:#404247}.enlighter-t-classic .enlighter-m1{color:#404247}.enlighter-t-classic .enlighter-m2{color:#404247}.enlighter-t-classic .enlighter-m3{color:#404247}.enlighter-t-classic .enlighter-g0{color:#444}.enlighter-t-classic .enlighter-g1{color:#444}.enlighter-t-classic .enlighter-t0{color:#444}.enlighter-t-classic .enlighter-t1{color:#d53aa9;font-weight:700}.enlighter-t-classic .enlighter-t2{color:#d53aa9;font-weight:700}.enlighter-t-classic .enlighter-t3{color:#066da1}.enlighter-t-classic .enlighter-t4{color:#009926}.enlighter-t-classic .enlighter-t5{color:#009926}.enlighter-t-classic .enlighter-t6{color:#d53aa9}.enlighter-t-classic .enlighter-t7{color:#444;font-weight:700}.enlighter-t-classic .enlighter-t8{color:#444;background-color:#f0f0f0;font-style:italic}.enlighter-t-classic .enlighter-x1{color:#066da1;font-weight:700}.enlighter-t-classic .enlighter-x2{color:#404247;font-weight:700}.enlighter-t-classic .enlighter-x10{color:#000;font-weight:700}.enlighter-t-classic .enlighter-x11{color:#286491;font-weight:700}.enlighter-t-classic .enlighter-x12{color:#286491;text-decoration:underline}.enlighter-t-classic .enlighter-x13{color:#0086b3}.enlighter-t-classic .enlighter-x14{color:#099;font-style:italic}.enlighter-t-classic .enlighter-x15{color:#990073;font-style:italic}.enlighter-t-classic.enlighter-v-inline{background-color:transparent;border:none}.enlighter-t-classic.enlighter-v-codegroup{display:block}.enlighter-t-classic.enlighter-v-codegroup .enlighter-codegroup-wrapper{position:relative}.enlighter-t-classic.enlighter-v-codegroup .enlighter-codegroup-switch{background-color:#f8f8f8;padding-left:45px}.enlighter-t-classic.enlighter-v-codegroup .enlighter-codegroup-switch .enlighter-btn{border:none;font-size:1.25em;line-height:2.1em;width:auto;height:auto;background-color:transparent;padding:5px 10px 5px 10px}.enlighter-t-classic.enlighter-v-codegroup .enlighter-codegroup-switch .enlighter-btn.enlighter-active{background-color:#52ce52;color:#f9f9f9;font-weight:700}\n",
       ".enlighter-t-godzilla{border-left:solid 6px #4a80b3;background-image:url(data:image/gif;base64,R0lGODlhHgAeAJEAAPLz9ezt7vf39wAAACwAAAAAHgAeAAACYYyPqXvi/wCccr5gY3Y1491Z4fRlI3Rem5ByaymurQBT8nuDuM57wA8MCodEQA2V8yRjm6OmZ3G6oKSlrWlFYqlaJffpNWUvxbL5J2WNHenZrL2mxd/znfjLrm/v/Kg+UwAAOw==);background-repeat:repeat;background-position:0 0}.enlighter-t-godzilla .enlighter-btn{border-radius:3px;background-color:#fff;color:#717171;font-size:1em;padding:0;border:1px solid #e0e0e0;margin:0 0 0 8px;text-decoration:none;width:23px;height:23px;background-position:0 0;background-size:contain}.enlighter-t-godzilla .enlighter-btn:hover{border-color:#c9c9c9}.enlighter-t-godzilla .enlighter-btn:after{content:''}.enlighter-t-godzilla.enlighter-hover div.enlighter>div:hover{background-color:#f0f0f1}.enlighter-t-godzilla .enlighter-raw{font-size:1.15em;line-height:1.6em;color:#2b333a;padding:4px 5px 4px 54px}.enlighter-t-godzilla div.enlighter>div{padding:1px 5px 1px 14px;line-height:1.35em;color:#9c9ea0}.enlighter-t-godzilla div.enlighter>div:FIRST-CHILD{padding-top:5px}.enlighter-t-godzilla div.enlighter>div:LAST-CHILD{padding-bottom:5px}.enlighter-t-godzilla div.enlighter>div:AFTER{content:' '}.enlighter-t-godzilla div.enlighter>div.enlighter-special{background-color:#fffcd3}.enlighter-t-godzilla.enlighter-linenumbers div.enlighter>div::before{padding:1px 5px 1px 14px;background-color:transparent;font-size:.9em}.enlighter-t-godzilla .enlighter span{font-size:1.15em}.enlighter-t-godzilla .enlighter-text{color:#2b333a}.enlighter-t-godzilla .enlighter-c0{color:#6b7c8b}.enlighter-t-godzilla .enlighter-c1{color:#6b7c8b}.enlighter-t-godzilla .enlighter-c2{color:#6b7c8b}.enlighter-t-godzilla .enlighter-c9{color:#5b7c9c}.enlighter-t-godzilla .enlighter-k0{color:#085789;font-weight:700}.enlighter-t-godzilla .enlighter-k1{color:#085789;font-weight:700}.enlighter-t-godzilla .enlighter-k2{color:#4284ae;font-weight:700}.enlighter-t-godzilla .enlighter-k3{color:#4284ae;background-color:#f0f0f0}.enlighter-t-godzilla .enlighter-k4{color:#4284ae;font-weight:700}.enlighter-t-godzilla .enlighter-k5{color:#085789;font-weight:700}.enlighter-t-godzilla .enlighter-k6{color:#085789;font-style:italic}.enlighter-t-godzilla .enlighter-k7{color:#085789;font-weight:700}.enlighter-t-godzilla .enlighter-k8{color:#4284ae}.enlighter-t-godzilla .enlighter-k9{color:#ae42a0;font-weight:700}.enlighter-t-godzilla .enlighter-k10{color:#ae42a0;font-style:italic}.enlighter-t-godzilla .enlighter-k11{color:#6b7c8b}.enlighter-t-godzilla .enlighter-e0{color:#085789;font-weight:700}.enlighter-t-godzilla .enlighter-e1{color:#085789;font-weight:700}.enlighter-t-godzilla .enlighter-e2{color:#085789}.enlighter-t-godzilla .enlighter-e3{color:#085789}.enlighter-t-godzilla .enlighter-e4{color:#d2901d}.enlighter-t-godzilla .enlighter-s0{color:#5e860f}.enlighter-t-godzilla .enlighter-s1{color:#5e860f}.enlighter-t-godzilla .enlighter-s2{color:#5e860f}.enlighter-t-godzilla .enlighter-s3{color:#5e860f}.enlighter-t-godzilla .enlighter-s4{color:#5e860f}.enlighter-t-godzilla .enlighter-s5{color:#5e860f}.enlighter-t-godzilla .enlighter-n0{color:#9b0d5c}.enlighter-t-godzilla .enlighter-n1{color:#9b0d5c}.enlighter-t-godzilla .enlighter-n2{color:#9b0d5c;font-style:italic}.enlighter-t-godzilla .enlighter-n3{color:#9b0d5c;font-style:italic}.enlighter-t-godzilla .enlighter-n4{color:#9b0d5c;font-style:italic}.enlighter-t-godzilla .enlighter-n5{color:#9b0d5c;text-decoration:underline}.enlighter-t-godzilla .enlighter-m0{color:#d0284a}.enlighter-t-godzilla .enlighter-m1{color:#d0284a}.enlighter-t-godzilla .enlighter-m2{color:#d0284a}.enlighter-t-godzilla .enlighter-m3{color:#d0284a}.enlighter-t-godzilla .enlighter-g0{color:#35434c}.enlighter-t-godzilla .enlighter-g1{color:#35434c}.enlighter-t-godzilla .enlighter-t0{color:#35434c}.enlighter-t-godzilla .enlighter-t1{color:#d0284a;font-weight:700}.enlighter-t-godzilla .enlighter-t2{color:#9b0d5c;font-weight:700}.enlighter-t-godzilla .enlighter-t3{color:#085789}.enlighter-t-godzilla .enlighter-t4{color:#085789}.enlighter-t-godzilla .enlighter-t5{color:#085789}.enlighter-t-godzilla .enlighter-t6{color:#d0284a}.enlighter-t-godzilla .enlighter-t7{color:#35434c;font-weight:700}.enlighter-t-godzilla .enlighter-t8{color:#35434c;background-color:#f0f0f0;font-style:italic}.enlighter-t-godzilla .enlighter-x1{color:#085789;font-weight:700}.enlighter-t-godzilla .enlighter-x2{color:#4284ae}.enlighter-t-godzilla .enlighter-x10{color:#35434c;font-weight:700}.enlighter-t-godzilla .enlighter-x11{color:#085789;font-weight:700}.enlighter-t-godzilla .enlighter-x12{color:#085789;text-decoration:underline}.enlighter-t-godzilla .enlighter-x13{color:#4284ae}.enlighter-t-godzilla .enlighter-x14{color:#4284ae;font-style:italic}.enlighter-t-godzilla .enlighter-x15{color:#9b0d5c;font-style:italic}.enlighter-t-godzilla.enlighter-v-inline{background-color:#f7f7f7;border:dotted 1px #e0e0e1;border-left:solid 2px #4a80b3}.enlighter-t-godzilla.enlighter-v-codegroup .enlighter-codegroup-switch{font-family:\"Open Sans\",Arial,Verdana,sans-serif;background-color:#4a80b3;padding:5px 5px 5px 5px}.enlighter-t-godzilla.enlighter-v-codegroup .enlighter-codegroup-switch .enlighter-btn{padding:3px 10px 3px 10px;border:none;background-color:transparent;line-height:1.7em;font-size:1.15em;color:#f0f0f0;width:auto}.enlighter-t-godzilla.enlighter-v-codegroup .enlighter-codegroup-switch .enlighter-btn.enlighter-active{background-color:#00417f}\n",
       ".enlighter-t-atomic{font-family:Inconsolata,Consolas,\"Source Code Pro\",\"Liberation Mono\",\"Courier New\",Courier,monospace;background-color:#272b33;font-size:12px;color:#939393}.enlighter-t-atomic .enlighter-toolbar{top:10px;right:10px}.enlighter-t-atomic .enlighter-btn{font-family:\"Open Sans\",Arial,Verdana,sans-serif;background-image:none;background-color:transparent;color:#939393;font-size:1.1em;padding:2px 8px 2px 8px;margin:0 5px 0 5px;border:solid 1px #383e49;border-radius:4px;background-color:#13151a}.enlighter-t-atomic .enlighter-btn:hover{background-color:#121518;color:#f0f0f0}.enlighter-t-atomic .enlighter-toolbar .enlighter-btn-raw{background-image:none}.enlighter-t-atomic .enlighter-toolbar .enlighter-btn-raw:after{content:'Raw'}.enlighter-t-atomic .enlighter-toolbar .enlighter-btn-copy{background-image:none}.enlighter-t-atomic .enlighter-toolbar .enlighter-btn-copy:after{content:'Copy'}.enlighter-t-atomic .enlighter-toolbar .enlighter-btn-window{background-image:none}.enlighter-t-atomic .enlighter-toolbar .enlighter-btn-window:after{content:'Extern'}.enlighter-t-atomic .enlighter-toolbar .enlighter-btn-website{background-image:none}.enlighter-t-atomic .enlighter-toolbar .enlighter-btn-website:after{content:'EnlighterJS'}.enlighter-t-atomic .enlighter-raw{font-size:1.4em;color:#cfd5e0;background-color:#272b33;line-height:1.85em;padding:4px 5px 4px 54px}.enlighter-t-atomic div.enlighter>div{padding:1px 5px 1px 14px;line-height:1.6em;color:#596174;background-color:#272b33}.enlighter-t-atomic div.enlighter>div:FIRST-CHILD{padding-top:5px}.enlighter-t-atomic div.enlighter>div:LAST-CHILD{padding-bottom:5px}.enlighter-t-atomic div.enlighter>div:AFTER{content:' '}.enlighter-t-atomic div.enlighter>div.enlighter-special{background-color:#392d3b}.enlighter-t-atomic.enlighter-linenumbers div.enlighter>div::before{padding:1px 5px 1px 14px;font-size:1.3em}.enlighter-t-atomic.enlighter-hover div.enlighter>div:hover{background-color:#2e353e}.enlighter-t-atomic .enlighter span{font-size:1.4em}.enlighter-t-atomic .enlighter-text{color:#cfd5e0}.enlighter-t-atomic .enlighter-c0{color:#6b7c8b}.enlighter-t-atomic .enlighter-c1{color:#6b7c8b}.enlighter-t-atomic .enlighter-c2{color:#6b7c8b}.enlighter-t-atomic .enlighter-c9{color:#5b7c9c}.enlighter-t-atomic .enlighter-k0{color:#d171dd;font-weight:700}.enlighter-t-atomic .enlighter-k1{color:#d171dd;font-weight:700}.enlighter-t-atomic .enlighter-k2{color:#d19252;border-bottom:dotted 1px #d19252}.enlighter-t-atomic .enlighter-k3{color:#4284ae}.enlighter-t-atomic .enlighter-k4{color:#4284ae;font-weight:700}.enlighter-t-atomic .enlighter-k5{color:#d171dd;font-weight:700}.enlighter-t-atomic .enlighter-k6{color:#d171dd;font-style:italic}.enlighter-t-atomic .enlighter-k7{color:#d171dd;font-weight:700}.enlighter-t-atomic .enlighter-k8{color:#4284ae}.enlighter-t-atomic .enlighter-k9{color:#fff}.enlighter-t-atomic .enlighter-k10{color:#4284ae;font-style:italic}.enlighter-t-atomic .enlighter-k11{color:#6b7c8b}.enlighter-t-atomic .enlighter-e0{color:#d171dd;font-weight:700}.enlighter-t-atomic .enlighter-e1{color:#d171dd;font-weight:700}.enlighter-t-atomic .enlighter-e2{color:#d19252}.enlighter-t-atomic .enlighter-e3{color:#ae42a0}.enlighter-t-atomic .enlighter-e4{color:#d2901d;font-style:italic}.enlighter-t-atomic .enlighter-s0{color:#7cc379}.enlighter-t-atomic .enlighter-s1{color:#7cc379}.enlighter-t-atomic .enlighter-s2{color:#7cc379}.enlighter-t-atomic .enlighter-s3{color:#7cc379}.enlighter-t-atomic .enlighter-s4{color:#7cc379;font-weight:700}.enlighter-t-atomic .enlighter-s5{color:#5e860f;font-style:italic}.enlighter-t-atomic .enlighter-n0{color:#d19a66}.enlighter-t-atomic .enlighter-n1{color:#d19a66}.enlighter-t-atomic .enlighter-n2{color:#d19a66}.enlighter-t-atomic .enlighter-n3{color:#d19a66}.enlighter-t-atomic .enlighter-n4{color:#d19a66}.enlighter-t-atomic .enlighter-n5{color:#d19a66}.enlighter-t-atomic .enlighter-m0{color:#4284ae}.enlighter-t-atomic .enlighter-m1{color:#4284ae}.enlighter-t-atomic .enlighter-m2{color:#4284ae}.enlighter-t-atomic .enlighter-m3{color:#4284ae}.enlighter-t-atomic .enlighter-g0{color:#6b7c8b;font-weight:700}.enlighter-t-atomic .enlighter-g1{color:#6b7c8b;font-weight:700}.enlighter-t-atomic .enlighter-t0{color:#6b7c8b}.enlighter-t-atomic .enlighter-t1{color:#9b0d5c;font-weight:700}.enlighter-t-atomic .enlighter-t2{color:#990073;font-weight:700}.enlighter-t-atomic .enlighter-t3{color:#d171dd}.enlighter-t-atomic .enlighter-t4{color:#4284ae}.enlighter-t-atomic .enlighter-t5{color:#4284ae}.enlighter-t-atomic .enlighter-t6{color:#9b0d5c}.enlighter-t-atomic .enlighter-t7{color:#6b7c8b;font-weight:700}.enlighter-t-atomic .enlighter-t8{color:#6b7c8b}.enlighter-t-atomic .enlighter-x1{color:#d171dd;font-weight:700}.enlighter-t-atomic .enlighter-x2{color:#d19252;border-bottom:dotted 1px #d19252}.enlighter-t-atomic .enlighter-x10{color:#d171dd;font-weight:700}.enlighter-t-atomic .enlighter-x11{color:#d171dd;font-weight:700}.enlighter-t-atomic .enlighter-x12{color:#d171dd;text-decoration:underline}.enlighter-t-atomic .enlighter-x13{color:#d19252;border-bottom:dotted 1px #d19252}.enlighter-t-atomic .enlighter-x14{color:#d19a66;font-style:italic}.enlighter-t-atomic .enlighter-x15{color:#9b0d5c;font-style:italic}.enlighter-t-atomic.enlighter-v-codegroup .enlighter-codegroup-wrapper{position:relative}.enlighter-t-atomic.enlighter-v-codegroup .enlighter-codegroup-switch{padding:5px 5px 0 45px;background-color:#121518}.enlighter-t-atomic.enlighter-v-codegroup .enlighter-codegroup-switch .enlighter-btn{padding:2px 8px 0 8px;border:none;background-color:transparent;line-height:2.1em;font-weight:700;color:#f0f0f0;border-radius:5px 5px 0 0;text-transform:lowercase}.enlighter-t-atomic.enlighter-v-codegroup .enlighter-codegroup-switch .enlighter-btn.enlighter-active{background-color:#272b33}\n",
       ".enlighter-t-droide{background-color:#f7f7f9;border:solid 1px #e0e0e0}.enlighter-t-droide .enlighter-btn{background-color:#fff;color:#717171;font-size:1em;padding:0;border:1px solid #e0e0e0;margin:0 0 0 8px;text-decoration:none;width:23px;height:23px;background-position:0 0;background-size:contain}.enlighter-t-droide .enlighter-btn:hover{background-color:#fff}.enlighter-t-droide .enlighter-btn:after{content:''}.enlighter-t-droide.enlighter-hover div.enlighter>div:hover{background-color:#fae9d9}.enlighter-t-droide .enlighter-raw{font-size:1.1em;color:#404141;line-height:1.5em;padding:4px 5px 4px 55px}.enlighter-t-droide div.enlighter>div{border:solid 0 #fff;padding:1px 5px 1px 14px;line-height:1.35em;color:#aaa}.enlighter-t-droide div.enlighter>div:FIRST-CHILD{padding-top:5px}.enlighter-t-droide div.enlighter>div:LAST-CHILD{padding-bottom:5px}.enlighter-t-droide div.enlighter>div:AFTER{content:' '}.enlighter-t-droide div.enlighter>div.enlighter-special{background-color:#fae9d9;border-left:solid 5px #e07c19}.enlighter-t-droide.enlighter-linenumbers div.enlighter>div::before{padding:1px 5px 1px 0;border-right:1px dashed #e0e0e0;font-size:.9em;color:#707070;background-color:#f7f7f9}.enlighter-t-droide .enlighter span{font-size:1.1em}.enlighter-t-droide .enlighter-text{color:#000}.enlighter-t-droide .enlighter-c0{color:#086b08}.enlighter-t-droide .enlighter-c1{color:#086b08}.enlighter-t-droide .enlighter-c2{color:#086b08}.enlighter-t-droide .enlighter-c9{color:#086b08}.enlighter-t-droide .enlighter-k0{color:#12217c;font-weight:700}.enlighter-t-droide .enlighter-k1{color:#12217c;font-weight:700}.enlighter-t-droide .enlighter-k2{color:#458;font-weight:700}.enlighter-t-droide .enlighter-k3{color:#6e0d6e}.enlighter-t-droide .enlighter-k4{color:#6e0d6e;font-weight:700}.enlighter-t-droide .enlighter-k5{color:#12217c;font-weight:700}.enlighter-t-droide .enlighter-k6{color:#12217c;font-style:italic}.enlighter-t-droide .enlighter-k7{color:#12217c;font-weight:700}.enlighter-t-droide .enlighter-k8{color:#458}.enlighter-t-droide .enlighter-k9{color:#990073;font-weight:700}.enlighter-t-droide .enlighter-k10{color:#6e0d6e;font-style:italic}.enlighter-t-droide .enlighter-k11{color:#086b08}.enlighter-t-droide .enlighter-e0{color:#34068a;font-weight:700}.enlighter-t-droide .enlighter-e1{color:#34068a;font-weight:700}.enlighter-t-droide .enlighter-e2{color:#009926}.enlighter-t-droide .enlighter-e3{color:#286491}.enlighter-t-droide .enlighter-e4{color:#ff8c00;font-style:italic}.enlighter-t-droide .enlighter-s0{color:#961414}.enlighter-t-droide .enlighter-s1{color:#961414}.enlighter-t-droide .enlighter-s2{color:#961414}.enlighter-t-droide .enlighter-s3{color:#961414}.enlighter-t-droide .enlighter-s4{color:#963f14;font-weight:700}.enlighter-t-droide .enlighter-s5{color:#961414;font-style:italic}.enlighter-t-droide .enlighter-n0{color:#099}.enlighter-t-droide .enlighter-n1{color:#099}.enlighter-t-droide .enlighter-n2{color:#099;font-style:italic}.enlighter-t-droide .enlighter-n3{color:#099;font-style:italic}.enlighter-t-droide .enlighter-n4{color:#099;font-style:italic}.enlighter-t-droide .enlighter-n5{color:#099;text-decoration:underline}.enlighter-t-droide .enlighter-m0{color:#000}.enlighter-t-droide .enlighter-m1{color:#000}.enlighter-t-droide .enlighter-m2{color:#000}.enlighter-t-droide .enlighter-m3{color:#000}.enlighter-t-droide .enlighter-g0{color:#12217c}.enlighter-t-droide .enlighter-g1{color:#12217c}.enlighter-t-droide .enlighter-t0{color:#777}.enlighter-t-droide .enlighter-t1{color:#961414;font-weight:700}.enlighter-t-droide .enlighter-t2{color:#990073;font-weight:700}.enlighter-t-droide .enlighter-t3{color:#458}.enlighter-t-droide .enlighter-t4{color:#6e0d6e}.enlighter-t-droide .enlighter-t5{color:#6e0d6e}.enlighter-t-droide .enlighter-t6{color:#961414}.enlighter-t-droide .enlighter-t7{color:#535353;font-weight:700}.enlighter-t-droide .enlighter-t8{color:#777;font-style:italic}.enlighter-t-droide .enlighter-x1{color:#12217c;font-weight:700}.enlighter-t-droide .enlighter-x2{color:#6e0d6e}.enlighter-t-droide .enlighter-x10{color:#12217c;font-weight:700}.enlighter-t-droide .enlighter-x11{color:#12217c;font-weight:700}.enlighter-t-droide .enlighter-x12{color:#458}.enlighter-t-droide .enlighter-x13{color:#099}.enlighter-t-droide .enlighter-x14{color:#099}.enlighter-t-droide .enlighter-x15{color:#990073;font-style:italic}.enlighter-t-droide.enlighter-v-codegroup{background-color:transparent;border:none}.enlighter-t-droide.enlighter-v-codegroup .enlighter-codegroup-wrapper{background-color:#f7f7f9;border:solid 1px #e0e0e0}.enlighter-t-droide.enlighter-v-codegroup .enlighter-codegroup-switch{padding-left:15px}.enlighter-t-droide.enlighter-v-codegroup .enlighter-codegroup-switch .enlighter-btn{border:solid 1px #e0e0e0;font-size:1em;color:#000;background-color:transparent;border-radius:0;border-bottom-width:0;padding:5px 10px 5px 10px;font-weight:700;width:auto;height:auto}.enlighter-t-droide.enlighter-v-codegroup .enlighter-codegroup-switch .enlighter-btn.enlighter-active{background-color:#f7f7f9;color:#000;border-color:#c9c9c9}\n",
       ".enlighter-t-minimal{border-top:solid 3px #e0e0e0;border-bottom:solid 3px #e0e0e0;background-color:transparent;padding:10px 0 10px 0}.enlighter-t-minimal .enlighter-btn{background-color:#fff;color:#717171;font-size:1em;padding:0;border:1px solid #e0e0e0;margin:0 0 0 8px;text-decoration:none;width:23px;height:23px;background-position:0 0;background-size:contain}.enlighter-t-minimal .enlighter-btn:after{content:''}.enlighter-t-minimal.enlighter-hover div.enlighter>div:hover{background-color:#f0f0f0}.enlighter-t-minimal .enlighter-raw{font-size:1.1em;line-height:1.75em;padding:13px 5px 15px 50px;color:#404141}.enlighter-t-minimal div.enlighter>div{border:solid 0 #fff;background-color:transparent;padding:1px 5px 1px 0;line-height:1.5em;color:#a0a0a0}.enlighter-t-minimal div.enlighter>div:FIRST-CHILD{padding-top:5px}.enlighter-t-minimal div.enlighter>div:LAST-CHILD{padding-bottom:5px}.enlighter-t-minimal div.enlighter>div:AFTER{content:' '}.enlighter-t-minimal div.enlighter>div.enlighter-special{background-color:#f9f9f9}.enlighter-t-minimal.enlighter-linenumbers div.enlighter>div::before{padding:1px 10px 1px 10px;font-size:.8em;color:#404141}.enlighter-t-minimal .enlighter span{font-size:1.1em}.enlighter-t-minimal .enlighter-text{color:#2a2a2a}.enlighter-t-minimal .enlighter-c0{color:#a0a0a0}.enlighter-t-minimal .enlighter-c1{color:#a0a0a0}.enlighter-t-minimal .enlighter-c2{color:#a0a0a0}.enlighter-t-minimal .enlighter-c9{color:#a0a0a0}.enlighter-t-minimal .enlighter-k0{color:#12217c;font-weight:700}.enlighter-t-minimal .enlighter-k1{color:#12217c;font-weight:700}.enlighter-t-minimal .enlighter-k2{color:#458;border-bottom:dotted 1px #458}.enlighter-t-minimal .enlighter-k3{color:#458;border-bottom:dotted 1px #458}.enlighter-t-minimal .enlighter-k4{color:#458;border-bottom:dotted 1px #458}.enlighter-t-minimal .enlighter-k5{color:#12217c;font-weight:700}.enlighter-t-minimal .enlighter-k6{color:#12217c;font-style:italic}.enlighter-t-minimal .enlighter-k7{color:#12217c;font-weight:700}.enlighter-t-minimal .enlighter-k8{color:#458}.enlighter-t-minimal .enlighter-k9{color:#990073}.enlighter-t-minimal .enlighter-k10{color:#990073}.enlighter-t-minimal .enlighter-k11{color:#a0a0a0}.enlighter-t-minimal .enlighter-e0{color:#458;border-bottom:dotted 1px #458}.enlighter-t-minimal .enlighter-e1{color:#458;border-bottom:dotted 1px #458}.enlighter-t-minimal .enlighter-e2{color:#996700;border-bottom:solid 1px #996700}.enlighter-t-minimal .enlighter-e3{color:#458;border-bottom:dotted 1px #458}.enlighter-t-minimal .enlighter-e4{color:#458;border-bottom:dotted 1px #458}.enlighter-t-minimal .enlighter-s0{color:#217908;border-bottom:dotted 1px #387905}.enlighter-t-minimal .enlighter-s1{color:#217908;border-bottom:dotted 1px #387905}.enlighter-t-minimal .enlighter-s2{color:#cf6a4c}.enlighter-t-minimal .enlighter-s3{color:#217908;border-bottom:dotted 1px #387905}.enlighter-t-minimal .enlighter-s4{color:#217908;border-bottom:dotted 1px #387905}.enlighter-t-minimal .enlighter-s5{color:#217908;border-bottom:dotted 1px #387905}.enlighter-t-minimal .enlighter-n0{color:#a61d1b;font-weight:700}.enlighter-t-minimal .enlighter-n1{color:#a61d1b;font-weight:700}.enlighter-t-minimal .enlighter-n2{color:#a61d1b;font-weight:700}.enlighter-t-minimal .enlighter-n3{color:#a61d1b;font-weight:700}.enlighter-t-minimal .enlighter-n4{color:#a61d1b;font-weight:700}.enlighter-t-minimal .enlighter-n5{color:#a61d1b;font-weight:700}.enlighter-t-minimal .enlighter-m0{color:#12217c;background-color:#e0e0e0}.enlighter-t-minimal .enlighter-m1{color:#12217c;background-color:#e0e0e0}.enlighter-t-minimal .enlighter-m2{color:#12217c;background-color:#e0e0e0}.enlighter-t-minimal .enlighter-m3{color:#12217c;background-color:#e0e0e0}.enlighter-t-minimal .enlighter-g0{color:#12217c}.enlighter-t-minimal .enlighter-g1{color:#2a2a2a}.enlighter-t-minimal .enlighter-t0{color:#a0a0a0}.enlighter-t-minimal .enlighter-t1{color:#387905;font-weight:700}.enlighter-t-minimal .enlighter-t2{color:#990073;font-weight:700}.enlighter-t-minimal .enlighter-t3{color:#458}.enlighter-t-minimal .enlighter-t4{color:#458}.enlighter-t-minimal .enlighter-t5{color:#458}.enlighter-t-minimal .enlighter-t6{color:#387905}.enlighter-t-minimal .enlighter-t7{color:#a0a0a0;font-weight:700}.enlighter-t-minimal .enlighter-t8{color:#a0a0a0;font-style:italic}.enlighter-t-minimal .enlighter-x1{color:#12217c;font-weight:700}.enlighter-t-minimal .enlighter-x2{color:#458;border-bottom:dotted 1px #458}.enlighter-t-minimal .enlighter-x10{color:#12217c;font-weight:700}.enlighter-t-minimal .enlighter-x11{color:#12217c;font-weight:700}.enlighter-t-minimal .enlighter-x12{color:#458}.enlighter-t-minimal .enlighter-x13{color:#a61d1b;font-weight:700}.enlighter-t-minimal .enlighter-x14{color:#a61d1b;font-weight:700}.enlighter-t-minimal .enlighter-x15{color:#990073}.enlighter-t-minimal.enlighter-v-inline{background-color:transparent;border:none;padding:0}.enlighter-t-minimal.enlighter-v-codegroup{border-top:none;padding-top:0}.enlighter-t-minimal.enlighter-v-codegroup .enlighter-codegroup-wrapper{border-top:solid 3px #e0e0e0;padding-top:10px}.enlighter-t-minimal.enlighter-v-codegroup .enlighter-codegroup-switch{padding-left:5px;padding-bottom:5px}.enlighter-t-minimal.enlighter-v-codegroup .enlighter-codegroup-switch .enlighter-btn{font-size:1em;color:#000;background-color:transparent;font-weight:700;text-transform:uppercase;padding:1px 6px 1px 6px;border:none;width:auto;height:auto}.enlighter-t-minimal.enlighter-v-codegroup .enlighter-codegroup-switch .enlighter-btn.enlighter-active{background-color:#e0e0e0;color:#2a2a2a}\n",
       ".enlighter-t-eclipse{color:#787878;border-radius:5px;border:solid 8px #f3f3f3;background-color:#fff}.enlighter-t-eclipse .enlighter-toolbar{top:15px;right:15px}.enlighter-t-eclipse .enlighter-btn{background-color:#fff;color:#717171;font-size:1em;padding:0;border:1px solid #e0e0e0;margin:0 0 0 8px;text-decoration:none;width:23px;height:23px;background-position:0 0;background-size:contain;border-radius:8px}.enlighter-t-eclipse .enlighter-btn:hover{background-color:#e0e0e0}.enlighter-t-eclipse .enlighter-btn:after{content:''}.enlighter-t-eclipse.enlighter-hover.enlighter-linenumbers div.enlighter>div:hover{background-color:#e8f2fe;color:#444}.enlighter-t-eclipse.enlighter-hover div.enlighter>div:hover{background-color:#e8f2fe;color:#444;border-left-color:#e0e0e0}.enlighter-t-eclipse .enlighter-raw{font-size:1.1em;line-height:1.5em;padding:4px 5px 4px 56px;color:#717171}.enlighter-t-eclipse div.enlighter{background-color:#fff}.enlighter-t-eclipse div.enlighter>div{border:solid 0 #fff;background-color:transparent;padding:1px 5px 1px 0;line-height:1.35em;color:#787878}.enlighter-t-eclipse div.enlighter>div:FIRST-CHILD{padding-top:5px}.enlighter-t-eclipse div.enlighter>div:LAST-CHILD{padding-bottom:5px}.enlighter-t-eclipse div.enlighter>div:AFTER{content:' '}.enlighter-t-eclipse div.enlighter>div.enlighter-special{background-color:#f9f9f9}.enlighter-t-eclipse.enlighter-linenumbers div.enlighter>div::before{border-right:2px solid #f8f8f8;padding:1px 5px 1px 14px}.enlighter-t-eclipse .enlighter span{font-size:1.1em}.enlighter-t-eclipse .enlighter-text{color:#000}.enlighter-t-eclipse .enlighter-c0{color:#3f7f5f}.enlighter-t-eclipse .enlighter-c1{color:#3f5fbf}.enlighter-t-eclipse .enlighter-c2{color:#3f5fbf}.enlighter-t-eclipse .enlighter-c9{color:#3f5fbf}.enlighter-t-eclipse .enlighter-k0{color:#3f7f95;font-weight:700}.enlighter-t-eclipse .enlighter-k1{color:#3f7f95;font-weight:700}.enlighter-t-eclipse .enlighter-k2{color:#7f007f;font-weight:700}.enlighter-t-eclipse .enlighter-k3{color:#7f007f;font-weight:700}.enlighter-t-eclipse .enlighter-k4{color:#458}.enlighter-t-eclipse .enlighter-k5{color:#7f007f;font-weight:700}.enlighter-t-eclipse .enlighter-k6{color:#7f007f;font-weight:700}.enlighter-t-eclipse .enlighter-k7{color:#7f007f;font-weight:700}.enlighter-t-eclipse .enlighter-k8{color:#458}.enlighter-t-eclipse .enlighter-k9{color:#990073}.enlighter-t-eclipse .enlighter-k10{color:#990073}.enlighter-t-eclipse .enlighter-k11{color:#3f5fbf}.enlighter-t-eclipse .enlighter-e0{color:#7f007f;font-weight:700}.enlighter-t-eclipse .enlighter-e1{color:#7f007f;font-weight:700}.enlighter-t-eclipse .enlighter-e2{color:#009926}.enlighter-t-eclipse .enlighter-e3{color:#7f007f;font-weight:700}.enlighter-t-eclipse .enlighter-e4{color:#7f007f;font-weight:700}.enlighter-t-eclipse .enlighter-s0{color:#320fe3}.enlighter-t-eclipse .enlighter-s1{color:#320fe3}.enlighter-t-eclipse .enlighter-s2{color:#320fe3}.enlighter-t-eclipse .enlighter-s3{color:#320fe3}.enlighter-t-eclipse .enlighter-s4{color:#320fe3}.enlighter-t-eclipse .enlighter-s5{color:#990073}.enlighter-t-eclipse .enlighter-n0{color:#000}.enlighter-t-eclipse .enlighter-n1{color:#000}.enlighter-t-eclipse .enlighter-n2{color:#000}.enlighter-t-eclipse .enlighter-n3{color:#000}.enlighter-t-eclipse .enlighter-n4{color:#000}.enlighter-t-eclipse .enlighter-n5{color:#000}.enlighter-t-eclipse .enlighter-m0{color:#000}.enlighter-t-eclipse .enlighter-m1{color:#000}.enlighter-t-eclipse .enlighter-m2{color:#000}.enlighter-t-eclipse .enlighter-m3{color:#000}.enlighter-t-eclipse .enlighter-g0{color:#777}.enlighter-t-eclipse .enlighter-g1{color:#777}.enlighter-t-eclipse .enlighter-t0{color:#777}.enlighter-t-eclipse .enlighter-t1{color:#3f7f5f;font-weight:700}.enlighter-t-eclipse .enlighter-t2{color:#990073;font-weight:700}.enlighter-t-eclipse .enlighter-t3{color:#458}.enlighter-t-eclipse .enlighter-t4{color:#458}.enlighter-t-eclipse .enlighter-t5{color:#458}.enlighter-t-eclipse .enlighter-t6{color:#3f7f5f}.enlighter-t-eclipse .enlighter-t7{color:#a0a0a0;font-weight:700}.enlighter-t-eclipse .enlighter-t8{color:#a0a0a0;font-style:italic}.enlighter-t-eclipse .enlighter-x1{color:#3f7f95;font-weight:700}.enlighter-t-eclipse .enlighter-x2{color:#7f007f;font-weight:700}.enlighter-t-eclipse .enlighter-x10{color:#3f7f95;font-weight:700}.enlighter-t-eclipse .enlighter-x11{color:#3f7f95;font-weight:700}.enlighter-t-eclipse .enlighter-x12{color:#458}.enlighter-t-eclipse .enlighter-x13{color:#3f7f95}.enlighter-t-eclipse .enlighter-x14{color:#000}.enlighter-t-eclipse .enlighter-x15{color:#000}.enlighter-t-eclipse.enlighter-v-inline{border-radius:3px;background-color:#f8f8f8;border:solid 0 #fff}.enlighter-t-eclipse.enlighter-v-codegroup{display:block}.enlighter-t-eclipse.enlighter-v-codegroup .enlighter,.enlighter-t-eclipse.enlighter-v-codegroup .enlighter-raw{border-top:0;border-top-left-radius:0;border-top-right-radius:0}.enlighter-t-eclipse.enlighter-v-codegroup .enlighter-codegroup-wrapper{position:relative}.enlighter-t-eclipse.enlighter-v-codegroup .enlighter-codegroup-switch{background-color:#f3f3f3;padding:8px 5px 0 60px;border-radius:5px 5px 0 0}.enlighter-t-eclipse.enlighter-v-codegroup .enlighter-codegroup-switch .enlighter-btn{font-size:1em;color:#000;background-color:transparent;padding:5px 10px 5px 10px;border-radius:5px 5px 0 0;border:none;width:auto}.enlighter-t-eclipse.enlighter-v-codegroup .enlighter-codegroup-switch .enlighter-btn.enlighter-active{background-color:#fff;color:#000;border-color:#c9c9c9}\n",
       ".enlighter-t-mowtwo{background-color:#f0f0f1;border:solid 1px #f0f0f1;border-radius:7px}.enlighter-t-mowtwo .enlighter-btn{background-color:#fff;color:#717171;font-size:1em;padding:0;border:1px solid #e0e0e0;margin:0 0 0 8px;text-decoration:none;width:23px;height:23px;background-position:0 0;background-size:contain}.enlighter-t-mowtwo .enlighter-btn:after{content:''}.enlighter-t-mowtwo.enlighter-hover div.enlighter>div:hover{background-color:#e9e9e9}.enlighter-t-mowtwo .enlighter-raw{font-size:1.15em;line-height:1.75em;color:#313437;padding:5px 5px 5px 51px;background-color:transparent}.enlighter-t-mowtwo div.enlighter>div{line-height:1.5em;padding:1px 5px 1px 14px;color:#9c9ea0}.enlighter-t-mowtwo div.enlighter>div:FIRST-CHILD{padding-top:5px}.enlighter-t-mowtwo div.enlighter>div:LAST-CHILD{padding-bottom:5px}.enlighter-t-mowtwo div.enlighter>div:AFTER{content:' '}.enlighter-t-mowtwo div.enlighter>div.enlighter-special{background-color:#e9e9e9}.enlighter-t-mowtwo.enlighter-linenumbers div.enlighter>div::before{padding:1px 10px 1px 10px;font-size:.9em}.enlighter-t-mowtwo.enlighter-linenumbers div.enlighter>div:FIRST-CHILD::before{border-radius:0 8px 0 0}.enlighter-t-mowtwo.enlighter-linenumbers div.enlighter>div:LAST-CHILD::before{border-radius:0 0 8px 0}.enlighter-t-mowtwo .enlighter span{font-size:1.15em}.enlighter-t-mowtwo .enlighter-text{color:#313437}.enlighter-t-mowtwo .enlighter-c0{color:#9c9ea0}.enlighter-t-mowtwo .enlighter-c1{color:#9c9ea0}.enlighter-t-mowtwo .enlighter-c2{color:#9c9ea0}.enlighter-t-mowtwo .enlighter-c9{color:#9c9ea0}.enlighter-t-mowtwo .enlighter-k0{color:#b05098;font-weight:700}.enlighter-t-mowtwo .enlighter-k1{color:#b05098;font-weight:700}.enlighter-t-mowtwo .enlighter-k2{color:#b05098}.enlighter-t-mowtwo .enlighter-k3{color:#b05098}.enlighter-t-mowtwo .enlighter-k4{color:#b05098}.enlighter-t-mowtwo .enlighter-k5{color:#b05098}.enlighter-t-mowtwo .enlighter-k6{color:#b05098}.enlighter-t-mowtwo .enlighter-k7{color:#b05098}.enlighter-t-mowtwo .enlighter-k8{color:#313437}.enlighter-t-mowtwo .enlighter-k9{color:#313437}.enlighter-t-mowtwo .enlighter-k10{color:#313437}.enlighter-t-mowtwo .enlighter-k11{color:#9c9ea0}.enlighter-t-mowtwo .enlighter-e0{color:#b05098}.enlighter-t-mowtwo .enlighter-e1{color:#b05098}.enlighter-t-mowtwo .enlighter-e2{color:#864c08}.enlighter-t-mowtwo .enlighter-e3{color:#b05098}.enlighter-t-mowtwo .enlighter-e4{color:#b05098}.enlighter-t-mowtwo .enlighter-s0{color:#83a440}.enlighter-t-mowtwo .enlighter-s1{color:#83a440}.enlighter-t-mowtwo .enlighter-s2{color:#83a440}.enlighter-t-mowtwo .enlighter-s3{color:#83a440}.enlighter-t-mowtwo .enlighter-s4{color:#83a440}.enlighter-t-mowtwo .enlighter-s5{color:#83a440}.enlighter-t-mowtwo .enlighter-n0{color:#429bc1}.enlighter-t-mowtwo .enlighter-n1{color:#429bc1}.enlighter-t-mowtwo .enlighter-n2{color:#429bc1}.enlighter-t-mowtwo .enlighter-n3{color:#429bc1}.enlighter-t-mowtwo .enlighter-n4{color:#429bc1}.enlighter-t-mowtwo .enlighter-n5{color:#429bc1}.enlighter-t-mowtwo .enlighter-m0{color:#666}.enlighter-t-mowtwo .enlighter-m1{color:#666}.enlighter-t-mowtwo .enlighter-m2{color:#666}.enlighter-t-mowtwo .enlighter-m3{color:#666}.enlighter-t-mowtwo .enlighter-g0{color:#864c08}.enlighter-t-mowtwo .enlighter-g1{color:#909090}.enlighter-t-mowtwo .enlighter-t0{color:#909090}.enlighter-t-mowtwo .enlighter-t1{color:#b05098;font-weight:700}.enlighter-t-mowtwo .enlighter-t2{color:#b05098;font-weight:700}.enlighter-t-mowtwo .enlighter-t3{color:#b05098}.enlighter-t-mowtwo .enlighter-t4{color:#b05098}.enlighter-t-mowtwo .enlighter-t5{color:#83a440}.enlighter-t-mowtwo .enlighter-t6{color:#b05098}.enlighter-t-mowtwo .enlighter-t7{color:#909090;font-weight:700}.enlighter-t-mowtwo .enlighter-t8{color:#909090;font-style:italic}.enlighter-t-mowtwo .enlighter-x1{color:#b05098;font-weight:700}.enlighter-t-mowtwo .enlighter-x2{color:#b05098}.enlighter-t-mowtwo .enlighter-x10{color:#b05098;font-weight:700}.enlighter-t-mowtwo .enlighter-x11{color:#b05098;font-weight:700}.enlighter-t-mowtwo .enlighter-x12{color:#313437}.enlighter-t-mowtwo .enlighter-x13{color:#429bc1}.enlighter-t-mowtwo .enlighter-x14{color:#429bc1}.enlighter-t-mowtwo .enlighter-x15{color:#313437}.enlighter-t-mowtwo.enlighter-v-inline{border-radius:4px}.enlighter-t-mowtwo.enlighter-v-codegroup .enlighter-codegroup-switch{background-color:#585b5e;padding:10px 0 10px 20px;border-radius:8px;margin-bottom:5px}.enlighter-t-mowtwo.enlighter-v-codegroup .enlighter-codegroup-switch .enlighter-btn{border-radius:0;background-color:transparent;line-height:1.7em;font-size:1.25em;color:#f0f0f0;border:none;padding:0 10px 0 10px;width:auto;height:auto;font-family:\"Open Sans\",Arial,Verdana,sans-serif}.enlighter-t-mowtwo.enlighter-v-codegroup .enlighter-codegroup-switch .enlighter-btn.enlighter-active{text-decoration:underline}\n",
       ".enlighter-t-rowhammer{background-color:transparent;border:none}.enlighter-t-rowhammer .enlighter-toolbar{top:20px}.enlighter-t-rowhammer .enlighter-btn{background-color:#fff;color:#717171;font-size:1em;padding:0;border:1px solid #e0e0e0;margin:0 0 0 8px;text-decoration:none;width:23px;height:23px;background-position:0 0;background-size:contain}.enlighter-t-rowhammer .enlighter-btn:hover{background-color:#fff}.enlighter-t-rowhammer .enlighter-btn:after{content:''}.enlighter-t-rowhammer.enlighter-hover div.enlighter>div:hover{background-color:#f0f0f0}.enlighter-t-rowhammer .enlighter-raw{font-size:1.1em;color:#404141;background-color:transparent;padding:14px 0 15px 38px;line-height:2em}.enlighter-t-rowhammer div.enlighter>div{border:solid 0 #fff;padding:1px 5px 1px 0;line-height:1.67em;color:#94a9bf;background-color:transparent;border-bottom:dotted 1px #e9e9f0}.enlighter-t-rowhammer div.enlighter>div:nth-of-type(1){border-top:dotted 1px #e9e9f0}.enlighter-t-rowhammer div.enlighter>div:FIRST-CHILD{padding-top:5px}.enlighter-t-rowhammer div.enlighter>div:LAST-CHILD{padding-bottom:5px}.enlighter-t-rowhammer div.enlighter>div:AFTER{content:' '}.enlighter-t-rowhammer div.enlighter>div.enlighter-special{background-color:#f9f9f9}.enlighter-t-rowhammer.enlighter-linenumbers div.enlighter>div::before{padding:1px 5px 1px 14px;font-size:.8em;color:#94a9bf}.enlighter-t-rowhammer .enlighter span{font-size:1.1em}.enlighter-t-rowhammer .enlighter-text{color:#000}.enlighter-t-rowhammer .enlighter-c0{color:#758697}.enlighter-t-rowhammer .enlighter-c1{color:#758697}.enlighter-t-rowhammer .enlighter-c2{color:#758697}.enlighter-t-rowhammer .enlighter-c9{color:#758697}.enlighter-t-rowhammer .enlighter-k0{color:#07a;font-weight:700;border-bottom:dotted 1px #07a}.enlighter-t-rowhammer .enlighter-k1{color:#07a;font-weight:700;border-bottom:dotted 1px #07a}.enlighter-t-rowhammer .enlighter-k2{color:#07a;font-weight:700}.enlighter-t-rowhammer .enlighter-k3{color:#07a}.enlighter-t-rowhammer .enlighter-k4{color:#07a;font-weight:700}.enlighter-t-rowhammer .enlighter-k5{color:#07a;font-weight:700;border-bottom:dotted 1px #07a}.enlighter-t-rowhammer .enlighter-k6{color:#07a;font-weight:700;border-bottom:dotted 1px #07a}.enlighter-t-rowhammer .enlighter-k7{color:#07a;font-weight:700;border-bottom:dotted 1px #07a}.enlighter-t-rowhammer .enlighter-k8{color:#07a}.enlighter-t-rowhammer .enlighter-k9{color:#000}.enlighter-t-rowhammer .enlighter-k10{color:#07a;font-style:italic}.enlighter-t-rowhammer .enlighter-k11{color:#758697}.enlighter-t-rowhammer .enlighter-e0{color:#07a;font-weight:700}.enlighter-t-rowhammer .enlighter-e1{color:#07a;font-weight:700}.enlighter-t-rowhammer .enlighter-e2{color:#d2901d}.enlighter-t-rowhammer .enlighter-e3{color:#07a}.enlighter-t-rowhammer .enlighter-e4{color:#ff8c00;font-style:italic}.enlighter-t-rowhammer .enlighter-s0{color:#639500;border-bottom:dotted 1px #639500}.enlighter-t-rowhammer .enlighter-s1{color:#639500}.enlighter-t-rowhammer .enlighter-s2{color:#639500}.enlighter-t-rowhammer .enlighter-s3{color:#639500}.enlighter-t-rowhammer .enlighter-s4{color:#639500}.enlighter-t-rowhammer .enlighter-s5{color:#639500;font-style:italic}.enlighter-t-rowhammer .enlighter-n0{color:#9b0d5c}.enlighter-t-rowhammer .enlighter-n1{color:#9b0d5c}.enlighter-t-rowhammer .enlighter-n2{color:#9b0d5c}.enlighter-t-rowhammer .enlighter-n3{color:#9b0d5c}.enlighter-t-rowhammer .enlighter-n4{color:#9b0d5c}.enlighter-t-rowhammer .enlighter-n5{color:#9b0d5c}.enlighter-t-rowhammer .enlighter-m0{color:#d0284a;font-weight:700}.enlighter-t-rowhammer .enlighter-m1{color:#c2415b;font-weight:700}.enlighter-t-rowhammer .enlighter-m2{color:#c2415b;font-weight:700}.enlighter-t-rowhammer .enlighter-m3{color:#d0284a;font-weight:700}.enlighter-t-rowhammer .enlighter-g0{color:#35434c;font-weight:700}.enlighter-t-rowhammer .enlighter-g1{color:#6b7c8b;font-weight:700}.enlighter-t-rowhammer .enlighter-t0{color:#777}.enlighter-t-rowhammer .enlighter-t1{color:#961414;font-weight:700}.enlighter-t-rowhammer .enlighter-t2{color:#990073;font-weight:700}.enlighter-t-rowhammer .enlighter-t3{color:#458}.enlighter-t-rowhammer .enlighter-t4{color:#6e0d6e}.enlighter-t-rowhammer .enlighter-t5{color:#6e0d6e}.enlighter-t-rowhammer .enlighter-t6{color:#961414}.enlighter-t-rowhammer .enlighter-t7{color:#535353;font-weight:700}.enlighter-t-rowhammer .enlighter-t8{color:#777;font-style:italic}.enlighter-t-rowhammer .enlighter-x1{color:#07a;font-weight:700;border-bottom:dotted 1px #07a}.enlighter-t-rowhammer .enlighter-x2{color:#07a;font-weight:700}.enlighter-t-rowhammer .enlighter-x10{color:#07a;font-weight:700;border-bottom:dotted 1px #07a}.enlighter-t-rowhammer .enlighter-x11{color:#07a;font-weight:700;border-bottom:dotted 1px #07a}.enlighter-t-rowhammer .enlighter-x12{color:#07a}.enlighter-t-rowhammer .enlighter-x13{color:#9b0d5c}.enlighter-t-rowhammer .enlighter-x14{color:#9b0d5c}.enlighter-t-rowhammer .enlighter-x15{color:#121212}.enlighter-t-rowhammer.enlighter-v-codegroup .enlighter-codegroup-switch{padding-left:15px;padding-bottom:15px}.enlighter-t-rowhammer.enlighter-v-codegroup .enlighter-codegroup-switch .enlighter-btn{font-size:1em;color:#758697;background-color:transparent;border-radius:0;font-weight:700;text-transform:uppercase;padding:2px 10px 2px 10px;border:none;width:auto;height:auto}.enlighter-t-rowhammer.enlighter-v-codegroup .enlighter-codegroup-switch .enlighter-btn.enlighter-active{border-bottom:dotted 1px #758697;background-color:#f0f0f0}\n",
       ".enlighter-t-bootstrap4{color:#212529;background-color:#f8f9fa;padding:25px 25px 25px 25px}.enlighter-t-bootstrap4 .enlighter-toolbar{top:10px;right:10px}.enlighter-t-bootstrap4 .enlighter-btn{background-image:none;background-color:transparent;color:#818a91;font-size:1em;padding:2px 8px 2px 8px;margin:0 5px 0 5px;border:none;border-radius:4px;font-family:\"Open Sans\",Arial,Verdana,sans-serif}.enlighter-t-bootstrap4 .enlighter-btn:hover{background-color:#007bff;color:#f0f0f0}.enlighter-t-bootstrap4 .enlighter-toolbar .enlighter-btn-raw{background-image:none}.enlighter-t-bootstrap4 .enlighter-toolbar .enlighter-btn-raw:after{content:'Raw'}.enlighter-t-bootstrap4 .enlighter-toolbar .enlighter-btn-copy{background-image:none}.enlighter-t-bootstrap4 .enlighter-toolbar .enlighter-btn-copy:after{content:'Copy'}.enlighter-t-bootstrap4 .enlighter-toolbar .enlighter-btn-window{background-image:none}.enlighter-t-bootstrap4 .enlighter-toolbar .enlighter-btn-window:after{content:'Extern'}.enlighter-t-bootstrap4 .enlighter-toolbar .enlighter-btn-website{background-image:none}.enlighter-t-bootstrap4 .enlighter-toolbar .enlighter-btn-website:after{content:'EnlighterJS'}.enlighter-t-bootstrap4.enlighter-hover div.enlighter>div:hover{background-color:#eceef0}.enlighter-t-bootstrap4 .enlighter-raw{font-size:1.15em;color:#212529;background-color:#f8f9fa;line-height:1.7em;padding:0 0 0 61px}.enlighter-t-bootstrap4 div.enlighter>div{padding:1px 5px 1px 14px;line-height:1.35em;color:#999;background-color:transparent}.enlighter-t-bootstrap4 div.enlighter>div:FIRST-CHILD{padding-top:5px}.enlighter-t-bootstrap4 div.enlighter>div:LAST-CHILD{padding-bottom:5px}.enlighter-t-bootstrap4 div.enlighter>div:AFTER{content:' '}.enlighter-t-bootstrap4 div.enlighter>div.enlighter-special{background-color:#eceef0}.enlighter-t-bootstrap4.enlighter-linenumbers div.enlighter>div::before{padding:1px 5px 1px 0;font-size:.8em}.enlighter-t-bootstrap4 .enlighter span{font-size:1.15em}.enlighter-t-bootstrap4 .enlighter-text{color:#212529}.enlighter-t-bootstrap4 .enlighter-c0{color:#999}.enlighter-t-bootstrap4 .enlighter-c1{color:#999}.enlighter-t-bootstrap4 .enlighter-c2{color:#999}.enlighter-t-bootstrap4 .enlighter-c9{color:#999}.enlighter-t-bootstrap4 .enlighter-k0{color:#069}.enlighter-t-bootstrap4 .enlighter-k1{color:#069}.enlighter-t-bootstrap4 .enlighter-k2{color:#069}.enlighter-t-bootstrap4 .enlighter-k3{color:#069}.enlighter-t-bootstrap4 .enlighter-k4{color:#069;font-style:italic}.enlighter-t-bootstrap4 .enlighter-k5{color:#212529}.enlighter-t-bootstrap4 .enlighter-k6{color:#069}.enlighter-t-bootstrap4 .enlighter-k7{color:#069;border-bottom:dotted 1px #069}.enlighter-t-bootstrap4 .enlighter-k8{color:#212529}.enlighter-t-bootstrap4 .enlighter-k9{color:#069}.enlighter-t-bootstrap4 .enlighter-k10{color:#212529}.enlighter-t-bootstrap4 .enlighter-k11{color:#999}.enlighter-t-bootstrap4 .enlighter-e0{color:#069}.enlighter-t-bootstrap4 .enlighter-e1{color:#069}.enlighter-t-bootstrap4 .enlighter-e2{color:#009926}.enlighter-t-bootstrap4 .enlighter-e3{color:#069}.enlighter-t-bootstrap4 .enlighter-e4{color:#069}.enlighter-t-bootstrap4 .enlighter-s0{color:#d44950}.enlighter-t-bootstrap4 .enlighter-s1{color:#d44950}.enlighter-t-bootstrap4 .enlighter-s2{color:#d44950}.enlighter-t-bootstrap4 .enlighter-s3{color:#d44950}.enlighter-t-bootstrap4 .enlighter-s4{color:#d44950}.enlighter-t-bootstrap4 .enlighter-s5{color:#d44950}.enlighter-t-bootstrap4 .enlighter-n0{color:#f60}.enlighter-t-bootstrap4 .enlighter-n1{color:#f60}.enlighter-t-bootstrap4 .enlighter-n2{color:#f60}.enlighter-t-bootstrap4 .enlighter-n3{color:#f60}.enlighter-t-bootstrap4 .enlighter-n4{color:#f60}.enlighter-t-bootstrap4 .enlighter-n5{color:#f60}.enlighter-t-bootstrap4 .enlighter-m0{color:#99f}.enlighter-t-bootstrap4 .enlighter-m1{color:#212529}.enlighter-t-bootstrap4 .enlighter-m2{color:#212529}.enlighter-t-bootstrap4 .enlighter-m3{color:#212529}.enlighter-t-bootstrap4 .enlighter-g0{color:#2f6f9f}.enlighter-t-bootstrap4 .enlighter-g1{color:#999;font-weight:700}.enlighter-t-bootstrap4 .enlighter-t0{color:#999}.enlighter-t-bootstrap4 .enlighter-t1{color:#d44950;font-weight:700}.enlighter-t-bootstrap4 .enlighter-t2{color:#d44950;font-weight:700}.enlighter-t-bootstrap4 .enlighter-t3{color:#0086b3}.enlighter-t-bootstrap4 .enlighter-t4{color:#0a8}.enlighter-t-bootstrap4 .enlighter-t5{color:#0a8}.enlighter-t-bootstrap4 .enlighter-t6{color:#f60}.enlighter-t-bootstrap4 .enlighter-t7{color:#999;font-weight:700}.enlighter-t-bootstrap4 .enlighter-t8{color:#999}.enlighter-t-bootstrap4 .enlighter-x1{color:#2f6f9f}.enlighter-t-bootstrap4 .enlighter-x2{color:#4f9fcf}.enlighter-t-bootstrap4 .enlighter-x10{color:#0a8}.enlighter-t-bootstrap4 .enlighter-x11{color:#0a8}.enlighter-t-bootstrap4 .enlighter-x12{color:#99f}.enlighter-t-bootstrap4 .enlighter-x13{color:#f60}.enlighter-t-bootstrap4 .enlighter-x14{color:#f60}.enlighter-t-bootstrap4 .enlighter-x15{color:#f60}.enlighter-t-bootstrap4.enlighter-v-inline{background-color:#f8f9fa;border:none;border-radius:5px;padding:3px}.enlighter-t-bootstrap4.enlighter-v-codegroup .enlighter-codegroup-switch{border:solid 3px #f8f9fa;border-bottom-width:0;padding:15px}.enlighter-t-bootstrap4.enlighter-v-codegroup .enlighter-codegroup-switch .enlighter-btn{padding:3px 10px 3px 10px;border:none;font-size:.9em;color:#212529;font-weight:700;background-color:#f8f9fa;border-radius:5px}.enlighter-t-bootstrap4.enlighter-v-codegroup .enlighter-codegroup-switch .enlighter-btn.enlighter-active{background-color:#007bff;color:#f0f0f0}\n",
       ".enlighter-t-dracula{background-color:#282a36}.enlighter-t-dracula .enlighter-toolbar{top:10px;right:10px}.enlighter-t-dracula .enlighter-btn{background-image:none;background-color:#44475a;color:#f8f8f2;font-size:1em;padding:2px 8px 2px 8px;margin:0 5px 0 5px;border:none;border-radius:4px;font-family:Arial,Helvetica,sans-serif}.enlighter-t-dracula .enlighter-btn:hover{background-color:#6272a4;color:#f8f8f2}.enlighter-t-dracula .enlighter-toolbar .enlighter-btn-raw{background-image:none}.enlighter-t-dracula .enlighter-toolbar .enlighter-btn-raw:after{content:'Raw'}.enlighter-t-dracula .enlighter-toolbar .enlighter-btn-copy{background-image:none}.enlighter-t-dracula .enlighter-toolbar .enlighter-btn-copy:after{content:'Copy'}.enlighter-t-dracula .enlighter-toolbar .enlighter-btn-window{background-image:none}.enlighter-t-dracula .enlighter-toolbar .enlighter-btn-window:after{content:'Extern'}.enlighter-t-dracula .enlighter-toolbar .enlighter-btn-website{background-image:none}.enlighter-t-dracula .enlighter-toolbar .enlighter-btn-website:after{content:'EnlighterJS'}.enlighter-t-dracula.enlighter-hover div.enlighter>div:hover{background-color:#44475a}.enlighter-t-dracula .enlighter-raw{font-size:1.25em;color:#f8f8f2;line-height:1.85em;padding:4px 5px 4px 55px}.enlighter-t-dracula div.enlighter>div{padding:1px 5px 1px 14px;line-height:1.6em;color:#6272a4;background-color:#282a36}.enlighter-t-dracula div.enlighter>div:FIRST-CHILD{padding-top:5px}.enlighter-t-dracula div.enlighter>div:LAST-CHILD{padding-bottom:5px}.enlighter-t-dracula div.enlighter>div:AFTER{content:' '}.enlighter-t-dracula div.enlighter>div.enlighter-special{background-color:#44475a}.enlighter-t-dracula.enlighter-linenumbers div.enlighter>div::before{font-size:1em;color:#6272a4}.enlighter-t-dracula .enlighter span{font-size:1.25em}.enlighter-t-dracula .enlighter-text{color:#f8f8f2}.enlighter-t-dracula .enlighter-c0{color:#6272a4}.enlighter-t-dracula .enlighter-c1{color:#6272a4}.enlighter-t-dracula .enlighter-c2{color:#6272a4}.enlighter-t-dracula .enlighter-c9{color:#6272a4}.enlighter-t-dracula .enlighter-k0{color:#ff79c6;font-weight:700}.enlighter-t-dracula .enlighter-k1{color:#8be9fd;font-weight:700}.enlighter-t-dracula .enlighter-k2{color:#ff79c6;font-weight:700}.enlighter-t-dracula .enlighter-k3{color:#ff79c6}.enlighter-t-dracula .enlighter-k4{color:#8be9fd}.enlighter-t-dracula .enlighter-k5{color:#8be9fd}.enlighter-t-dracula .enlighter-k6{color:#8be9fd}.enlighter-t-dracula .enlighter-k7{color:#ffb86c}.enlighter-t-dracula .enlighter-k8{color:#8be9fd}.enlighter-t-dracula .enlighter-k9{color:#50fa7b}.enlighter-t-dracula .enlighter-k10{color:#50fa7b}.enlighter-t-dracula .enlighter-k11{color:#6272a4}.enlighter-t-dracula .enlighter-e0{color:#bd93f9;font-weight:700}.enlighter-t-dracula .enlighter-e1{color:#bd93f9;font-weight:700}.enlighter-t-dracula .enlighter-e2{color:#f1fa8c}.enlighter-t-dracula .enlighter-e3{color:#bd93f9}.enlighter-t-dracula .enlighter-e4{color:#bd93f9;font-style:italic}.enlighter-t-dracula .enlighter-s0{color:#f1fa8c}.enlighter-t-dracula .enlighter-s1{color:#f1fa8c}.enlighter-t-dracula .enlighter-s2{color:#f1fa8c}.enlighter-t-dracula .enlighter-s3{color:#f1fa8c}.enlighter-t-dracula .enlighter-s4{color:#f1fa8c;font-weight:700}.enlighter-t-dracula .enlighter-s5{color:#f1fa8c;font-style:italic}.enlighter-t-dracula .enlighter-n0{color:#bd93f9}.enlighter-t-dracula .enlighter-n1{color:#bd93f9}.enlighter-t-dracula .enlighter-n2{color:#bd93f9}.enlighter-t-dracula .enlighter-n3{color:#bd93f9}.enlighter-t-dracula .enlighter-n4{color:#bd93f9}.enlighter-t-dracula .enlighter-n5{color:#bd93f9}.enlighter-t-dracula .enlighter-m0{color:#8be9fd}.enlighter-t-dracula .enlighter-m1{color:#8be9fd}.enlighter-t-dracula .enlighter-m2{color:#8be9fd}.enlighter-t-dracula .enlighter-m3{color:#8be9fd}.enlighter-t-dracula .enlighter-g0{color:#f8f8f2;font-weight:700}.enlighter-t-dracula .enlighter-g1{color:#f8f8f2;font-weight:700}.enlighter-t-dracula .enlighter-t0{color:#6272a4}.enlighter-t-dracula .enlighter-t1{color:#8be9fd;font-weight:700}.enlighter-t-dracula .enlighter-t2{color:#8be9fd;font-weight:700}.enlighter-t-dracula .enlighter-t3{color:#ff79c6}.enlighter-t-dracula .enlighter-t4{color:#ffb86c}.enlighter-t-dracula .enlighter-t5{color:#50fa7b}.enlighter-t-dracula .enlighter-t6{color:#f55}.enlighter-t-dracula .enlighter-t7{color:#f8f8f2;font-weight:700}.enlighter-t-dracula .enlighter-t8{color:#f8f8f2}.enlighter-t-dracula .enlighter-x1{color:#ff79c6;font-weight:700}.enlighter-t-dracula .enlighter-x2{color:#50fa7b}.enlighter-t-dracula .enlighter-x10{color:#f8f8f2;font-weight:700}.enlighter-t-dracula .enlighter-x11{color:#50fa7b;font-weight:700}.enlighter-t-dracula .enlighter-x12{color:#8be9fd;font-style:italic}.enlighter-t-dracula .enlighter-x13{color:#bd93f9}.enlighter-t-dracula .enlighter-x14{color:#bd93f9;font-style:italic}.enlighter-t-dracula .enlighter-x15{color:#ffb86c;font-style:italic}.enlighter-t-dracula.enlighter-v-codegroup .enlighter-codegroup-switch{background-color:#282a36;padding:10px}.enlighter-t-dracula.enlighter-v-codegroup .enlighter-codegroup-switch .enlighter-btn{background-image:none;background-color:transparent;color:#f8f8f2;font-size:1.15em;padding:2px 8px 2px 8px;margin:0 5px 0 5px;border:none;border-radius:4px;font-family:Arial,Helvetica,sans-serif}.enlighter-t-dracula.enlighter-v-codegroup .enlighter-codegroup-switch .enlighter-btn.enlighter-active{background-color:#44475a;color:#f8f8f2}\n",
       ".enlighter-t-monokai{background-color:#272822}.enlighter-t-monokai .enlighter-toolbar{top:10px;right:10px}.enlighter-t-monokai .enlighter-btn{background-image:none;background-color:#414339;color:#f8f8f2;font-size:1em;padding:2px 8px 2px 8px;margin:0 5px 0 5px;border:solid 1px #1e1f1c;font-family:\"Open Sans\",Arial,Verdana,sans-serif}.enlighter-t-monokai .enlighter-btn:hover{background-color:#4e5145}.enlighter-t-monokai .enlighter-toolbar .enlighter-btn-raw{background-image:none}.enlighter-t-monokai .enlighter-toolbar .enlighter-btn-raw:after{content:'Raw'}.enlighter-t-monokai .enlighter-toolbar .enlighter-btn-copy{background-image:none}.enlighter-t-monokai .enlighter-toolbar .enlighter-btn-copy:after{content:'Copy'}.enlighter-t-monokai .enlighter-toolbar .enlighter-btn-window{background-image:none}.enlighter-t-monokai .enlighter-toolbar .enlighter-btn-window:after{content:'Extern'}.enlighter-t-monokai .enlighter-toolbar .enlighter-btn-website{background-image:none}.enlighter-t-monokai .enlighter-toolbar .enlighter-btn-website:after{content:'EnlighterJS'}.enlighter-t-monokai.enlighter-hover div.enlighter>div:hover{background-color:#75715e}.enlighter-t-monokai .enlighter-raw{font-size:1.25em;color:#f8f8f2;line-height:1.85em;padding:4px 5px 4px 55px}.enlighter-t-monokai div.enlighter>div{padding:1px 5px 1px 14px;line-height:1.6em}.enlighter-t-monokai div.enlighter>div:FIRST-CHILD{padding-top:5px}.enlighter-t-monokai div.enlighter>div:LAST-CHILD{padding-bottom:5px}.enlighter-t-monokai div.enlighter>div:AFTER{content:' '}.enlighter-t-monokai div.enlighter>div.enlighter-special{background-color:#414339}.enlighter-t-monokai.enlighter-linenumbers div.enlighter>div::before{font-size:1em;color:grey}.enlighter-t-monokai .enlighter span{font-size:1.25em}.enlighter-t-monokai .enlighter-text{color:#f8f8f2}.enlighter-t-monokai .enlighter-c0{color:#75715e}.enlighter-t-monokai .enlighter-c1{color:#75715e}.enlighter-t-monokai .enlighter-c2{color:#75715e}.enlighter-t-monokai .enlighter-c9{color:#75715e}.enlighter-t-monokai .enlighter-k0{color:#f92672}.enlighter-t-monokai .enlighter-k1{color:#f92672}.enlighter-t-monokai .enlighter-k2{color:#f92672}.enlighter-t-monokai .enlighter-k3{color:#f92672}.enlighter-t-monokai .enlighter-k4{color:#f92672}.enlighter-t-monokai .enlighter-k5{color:#f92672}.enlighter-t-monokai .enlighter-k6{color:#f92672}.enlighter-t-monokai .enlighter-k7{color:#f8f8f2}.enlighter-t-monokai .enlighter-k8{color:#f92672}.enlighter-t-monokai .enlighter-k9{color:#fd971f}.enlighter-t-monokai .enlighter-k10{color:#f92672}.enlighter-t-monokai .enlighter-k11{color:#75715e}.enlighter-t-monokai .enlighter-e0{color:#ae81ff}.enlighter-t-monokai .enlighter-e1{color:#ae81ff}.enlighter-t-monokai .enlighter-e2{color:#ae81ff}.enlighter-t-monokai .enlighter-e3{color:#ae81ff}.enlighter-t-monokai .enlighter-e4{color:#ae81ff}.enlighter-t-monokai .enlighter-s0{color:#e6db74}.enlighter-t-monokai .enlighter-s1{color:#e6db74}.enlighter-t-monokai .enlighter-s2{color:#e6db74}.enlighter-t-monokai .enlighter-s3{color:#e6db74}.enlighter-t-monokai .enlighter-s4{color:#e6db74;font-weight:700}.enlighter-t-monokai .enlighter-s5{color:#e6db74;font-style:italic}.enlighter-t-monokai .enlighter-n0{color:#ae81ff}.enlighter-t-monokai .enlighter-n1{color:#ae81ff}.enlighter-t-monokai .enlighter-n2{color:#ae81ff}.enlighter-t-monokai .enlighter-n3{color:#ae81ff}.enlighter-t-monokai .enlighter-n4{color:#ae81ff}.enlighter-t-monokai .enlighter-n5{color:#ae81ff}.enlighter-t-monokai .enlighter-m0{color:#66d9ef}.enlighter-t-monokai .enlighter-m1{color:#66d9ef}.enlighter-t-monokai .enlighter-m2{color:#66d9ef}.enlighter-t-monokai .enlighter-m3{color:#66d9ef}.enlighter-t-monokai .enlighter-g0{color:#f8f8f2;font-weight:700}.enlighter-t-monokai .enlighter-g1{color:#f8f8f2;font-weight:700}.enlighter-t-monokai .enlighter-t0{color:#f8f8f2}.enlighter-t-monokai .enlighter-t1{color:#a6e22e}.enlighter-t-monokai .enlighter-t2{color:#a6e22e}.enlighter-t-monokai .enlighter-t3{color:#e6db74}.enlighter-t-monokai .enlighter-t4{color:#e6db74}.enlighter-t-monokai .enlighter-t5{color:#a6e22e}.enlighter-t-monokai .enlighter-t6{color:#f92672}.enlighter-t-monokai .enlighter-t7{color:#f92672}.enlighter-t-monokai .enlighter-t8{color:#75715e}.enlighter-t-monokai .enlighter-x1{color:#f92672}.enlighter-t-monokai .enlighter-x2{color:#a6e22e}.enlighter-t-monokai .enlighter-x10{color:#a6e22e}.enlighter-t-monokai .enlighter-x11{color:#a6e22e}.enlighter-t-monokai .enlighter-x12{color:#66d9ef;font-style:italic}.enlighter-t-monokai .enlighter-x13{color:#f92672}.enlighter-t-monokai .enlighter-x14{color:#ae81ff}.enlighter-t-monokai .enlighter-x15{color:#a6e22e}.enlighter-t-monokai.enlighter-v-codegroup .enlighter-codegroup-switch{background-color:#414339;padding:10px 10px 0 30px}.enlighter-t-monokai.enlighter-v-codegroup .enlighter-codegroup-switch .enlighter-btn{background-image:none;background-color:#414339;color:#f8f8f2;font-size:1.15em;padding:2px 8px 2px 8px;margin:0 10px 0 10px;border:none;line-height:2.1em;border-radius:0;font-style:italic}.enlighter-t-monokai.enlighter-v-codegroup .enlighter-codegroup-switch .enlighter-btn.enlighter-active{background-color:#272822;color:#f8f8f2;font-weight:700;font-style:normal}</style><style>/*\n",
       " * Copyright (c) 2016 - present\n",
       " * QuantumBlack Visual Analytics Ltd (a McKinsey company).\n",
       " * All rights reserved.\n",
       " *\n",
       " * This software framework contains the confidential and proprietary information\n",
       " * of QuantumBlack, its affiliates, and its licensors. Your use of these\n",
       " * materials is governed by the terms of the Agreement between your organisation\n",
       " * and QuantumBlack, and any unauthorised use is forbidden. Except as otherwise\n",
       " * stated in the Agreement, this software framework is for your internal use\n",
       " * only and may only be shared outside your organisation with the prior written\n",
       " * permission of QuantumBlack.\n",
       " */\n",
       "\n",
       ".enlighter-default {\n",
       "    font-size: 14px;\n",
       "    margin: 0;\n",
       "    max-height: 500px;\n",
       "    overflow-y: auto;\n",
       "}\n",
       ".enlighter-default .enlighter-btn-window,\n",
       ".enlighter-default .enlighter-btn-website {\n",
       "    display: none;\n",
       "}\n",
       ".enlighter-t-enlighter {\n",
       "    border-radius: 0;\n",
       "}\n",
       "div.enlighter>div:FIRST-CHILD::before,\n",
       "div.enlighter>div:LAST-CHILD::before {\n",
       "    border-radius: 0 !important;\n",
       "}\n",
       "</style><script>/*! EnlighterJS Syntax Highlighter 3.4.0 | Mozilla Public License 2.0 | https://enlighterjs.org */\n",
       "var EnlighterJS=function(e){\"use strict\";var c={indent:4,ampersandCleanup:!0,linehover:!0,rawcodeDbclick:!1,textOverflow:\"break\",collapse:!1,retainCssClasses:!1,cssClasses:\"\",toolbarOuter:\"{BTN_TABS}\",toolbarTop:\"{BTN_RAW}{BTN_COPY}{BTN_WINDOW}{BTN_WEBSITE}\",toolbarBottom:\"{BTN_COLLAPSE}\",linenumbers:!0,lineoffset:0,highlight:\"\",layout:\"standard\",language:\"generic\",theme:\"enlighter\",title:\"\"};function r(e,t){if(!(e instanceof t))throw new TypeError(\"Cannot call a class as a function\")}function n(e,t){for(var r=0;r<t.length;r++){var n=t[r];n.enumerable=n.enumerable||!1,n.configurable=!0,\"value\"in n&&(n.writable=!0),Object.defineProperty(e,n.key,n)}}function i(e,t,r){return t&&n(e.prototype,t),r&&n(e,r),e}function a(e,t){if(\"function\"!=typeof t&&null!==t)throw new TypeError(\"Super expression must either be null or a function\");e.prototype=Object.create(t&&t.prototype,{constructor:{value:e,writable:!0,configurable:!0}}),t&&o(e,t)}function s(e){return(s=Object.setPrototypeOf?Object.getPrototypeOf:function(e){return e.__proto__||Object.getPrototypeOf(e)})(e)}function o(e,t){return(o=Object.setPrototypeOf||function(e,t){return e.__proto__=t,e})(e,t)}function l(){if(\"undefined\"==typeof Reflect||!Reflect.construct)return!1;if(Reflect.construct.sham)return!1;if(\"function\"==typeof Proxy)return!0;try{return Date.prototype.toString.call(Reflect.construct(Date,[],function(){})),!0}catch(e){return!1}}function g(e,t,r){return(g=l()?Reflect.construct:function(e,t,r){var n=[null];n.push.apply(n,t);var i=new(Function.bind.apply(e,n));return r&&o(i,r.prototype),i}).apply(null,arguments)}function u(e,t){return!t||\"object\"!=typeof t&&\"function\"!=typeof t?function(e){if(void 0===e)throw new ReferenceError(\"this hasn't been initialised - super() hasn't been called\");return e}(e):t}function p(r){var n=l();return function(){var e,t=s(r);return u(this,n?(e=s(this).constructor,Reflect.construct(t,arguments,e)):t.apply(this,arguments))}}function y(e,t,r){return(y=\"undefined\"!=typeof Reflect&&Reflect.get?Reflect.get:function(e,t,r){var n=function(e,t){for(;!Object.prototype.hasOwnProperty.call(e,t)&&null!==(e=s(e)););return e}(e,t);if(n){var i=Object.getOwnPropertyDescriptor(n,t);return i.get?i.get.call(r):i.value}})(e,t,r||e)}function f(e){return function(e){if(Array.isArray(e))return d(e)}(e)||function(e){if(\"undefined\"!=typeof Symbol&&Symbol.iterator in Object(e))return Array.from(e)}(e)||b(e)||function(){throw new TypeError(\"Invalid attempt to spread non-iterable instance.\\nIn order to be iterable, non-array objects must have a [Symbol.iterator]() method.\")}()}function b(e,t){if(e){if(\"string\"==typeof e)return d(e,t);var r=Object.prototype.toString.call(e).slice(8,-1);return\"Object\"===r&&e.constructor&&(r=e.constructor.name),\"Map\"===r||\"Set\"===r?Array.from(e):\"Arguments\"===r||/^(?:Ui|I)nt(?:8|16|32)(?:Clamped)?Array$/.test(r)?d(e,t):void 0}}function d(e,t){(null==t||t>e.length)&&(t=e.length);for(var r=0,n=new Array(t);r<t;r++)n[r]=e[r];return n}var h={sqStrings:{regex:/('(?:[^'\\\\]|\\\\.)*')/g,type:\"s0\"},dqStrings:{regex:/\"(?:[^\"\\\\]|\\\\.)*\"/g,type:\"s0\"},bqStrings:{regex:/`(?:[^`\\\\]|\\\\.)*`/g,type:\"s0\"},char:{regex:/('(\\\\.|.|\\\\\\w+)')/g,type:\"s1\"},slashComments:{regex:/(?:^|[^\\\\])\\/\\/.*$/gm,type:\"c0\"},poundComments:{regex:/(?:^|[^\\\\])#.*$/gm,type:\"c0\"},blockComments:{regex:/\\/\\*[\\s\\S]*?\\*\\//g,type:\"c1\"},docComments:{regex:/\\/\\*\\*[\\s\\S]*?\\*\\//g,type:\"c2\"},heredoc:{regex:/(<<[<-]?\\s*?(['\"]?)([A-Z0-9_]+)\\2\\s*\\n[\\s\\S]*?\\n\\3)/gi,type:\"s5\"},brackets:{regex:/[[\\](){}<>]+/g,type:\"g1\"},floats:{regex:/[\\b\\W](-?((?:\\d+\\.\\d+|\\.\\d+|\\d+\\.)(?:e[+-]?\\d+)?)|\\d+(?:e[+-]?\\d+))/gi,type:\"n0\"},complex:{regex:/[\\b\\W](?:-?(?:(?:\\d+\\.\\d+|\\.\\d+|\\d+\\.|\\d+)(?:e[+-]?\\d+)?)|\\d+(?:e[+-]?\\d+))[ij]/gi,type:\"n5\"},int:{regex:/[\\b\\W](-?\\d+)(?!\\.)\\b/g,type:\"n1\"},hex:{regex:/[\\b\\W](-?0x[A-F0-9]+)\\b/gi,type:\"n2\"},bin:{regex:/[\\b\\W](-?0b[01]+)\\b/gi,type:\"n3\"},octal:{regex:/[\\b\\W](-?0[0-7]+)(?!\\.)\\b/g,type:\"n4\"},prop:{regex:/[\\w\\])]\\.(\\w+)\\b/g,type:\"m3\"},fCalls:{regex:/\\b([\\w]+)\\s*\\(/gm,type:\"m0\"},mCalls:{regex:/\\.([\\w]+)\\s*\\(/gm,type:\"m1\"},boolean:{regex:/\\b(true|false)\\b/gi,type:\"e0\"},null:{regex:/\\b(null)\\b/gi,type:\"e1\"}};function C(e,t,r,n,i){return{text:e,type:t,index:n||0,end:e.length+n,filter:r||null,priority:i||0}}function m(e,t,r){for(var n=2<arguments.length&&void 0!==r?r:\"text\",i=[],a=0,s=0;s<t.length;s++){var o=t[s];if(!o||!o.type||!o.regex)return;for(var l=void 0;null!=(l=o.regex.exec(e));){if(5e4<++a)throw new Error(\"Infinite tokenizer loop detected; more than 50k tokens - language rule [\"+s+\"] \"+o.regex+\" seems to be broken\");if(0!=l[0].length){o.regex.lastIndex=l.index+1+l[0].length/3;var g=Array.isArray(o.type)?o.type[0]:o.type,u=(Array.isArray(o.filter)?o.filter[0]:o.filter)||null;if(1<l.length)for(var p,c,y,f=0,b=1;b<l.length;b++){l[b]&&(p=Array.isArray(o.type)&&o.type.length>=b?o.type[b-1]:g,c=Array.isArray(o.filter)&&o.filter.length>=b?o.filter[b-1]:u,f=y=l[0].indexOf(l[b],f),i.push(C(l[b],p,c,l.index+y,s)))}else i.push(C(l[0],g,u,l.index,s))}}}i=i.sort(function(e,t){return e.index==t.index?e.priority<t.priority?-1:1:e.index<t.index?-1:1});for(var d=[],h=0,m=0;m<i.length;m++){if(h<i[m].index&&d.push(C(e.substring(h,i[m].index),n,null,h)),i[m].filter)for(var x=i[m].filter(i[m])||[],k=0;k<x.length;k++)d.push(x[k]);else d.push(i[m]);h=i[m].end;for(var v=!1,w=m+1;w<i.length;w++)if(i[w].index>=h){m=w-1,v=!0;break}if(!1===v)break}return h<e.length&&d.push(C(e.substring(h),n,null,h)),d}var x=function(){function e(){r(this,e),this.rules=[],this.setupLanguage()}return i(e,[{key:\"setupLanguage\",value:function(){this.rules=[h.sqStrings,h.dqStrings,h.prop,h.slashComments,h.poundComments,h.blockComments,h.brackets,{regex:/\\W(true|false|null|nil|if|then|else|for|while|do|class|implements|extends|function|end|void|return|in|of|new|this|try|catch|def|except)\\W/gi,type:\"k1\"},h.mCalls,h.fCalls,h.octal,h.bin,h.hex,h.floats,h.int,{regex:/[\\b\\s]([$&|~*:;]+)[\\b\\s]/g,type:\"g0\"}]}},{key:\"analyze\",value:function(e){return m(e,this.rules)}}]),e}(),t=function(){a(t,x);var e=p(t);function t(){return r(this,t),e.apply(this,arguments)}return i(t,[{key:\"setupLanguage\",value:function(){this.rules=[h.sqStrings,{regex:/\\|.*?\\|/g,type:\"s2\"},{regex:/(\".*)$/gm,type:\"c0\"},{regex:/^\\s*(\\*.*)$/gm,type:\"c0\"},{regex:/(data):?\\s*(\\w+)\\s*/gi,type:[\"k2\",\"k7\"]},{regex:/(type)\\s+(\\w+)\\s*/gi,type:[\"k2\",\"k5\"]},{regex:/\\b(abap_true|abap_false)\\b/gi,type:\"e0\"},{regex:/\\b(abap_undefined)\\b/gi,type:\"e1\"},{regex:/\\b[A-Z_][A-Za-z0-9_]*\\b/g,type:\"k0\"},h.fCalls,h.int,h.brackets]}}]),t}();function k(e,t,r){for(var n,i=[],a=0;null!=(n=t.exec(e.text));){a<n.index&&i.push(C(e.text.substring(a,n.index),e.type,null,a));for(var s=r(n,e.type)||[],o=0;o<s.length;o++)i.push(s[o]);a=n.index+n[0].length,t.lastIndex=a}return 0==i.length?[e]:(a<e.text.length&&i.push(C(e.text.substring(a),e.type,null,a)),i)}var v=function(){a(t,x);var e=p(t);function t(){return r(this,t),e.apply(this,arguments)}return i(t,[{key:\"setupLanguage\",value:function(){this.rules=[h.dqStrings,h.poundComments,{regex:/(<)([A-Z:_][A-Z0-9:.-]*)([\\s\\S]*?)(\\/?>)/gi,type:[\"g1\",\"x1\",\"text\",\"g1\"],filter:[null,null,function(e){return k(e,h.dqStrings.regex,function(e){return[C(e[0],\"s0\")]})},null]},{regex:/(<\\/)([A-Z:_][A-Z0-9:.-]*\\s*)(>)/gi,type:[\"g1\",\"x1\",\"g1\"]},{regex:/^\\s*([A-Z]\\w+)\\b/gm,type:\"k0\"},{regex:/%\\{\\w+\\}/g,type:\"k7\"},{regex:/\\b(on|off)\\b/gi,type:\"e0\"},h.int]}}],[{key:\"alias\",value:function(){return[\"apacheconf\",\"httpd\"]}}]),t}(),w=function(){a(t,x);var e=p(t);function t(){return r(this,t),e.apply(this,arguments)}return i(t,[{key:\"setupLanguage\",value:function(){this.rules=[{regex:/(;.*)$/gm,type:\"co0\"},{regex:/(\\$.*)$/gm,type:\"k4\"},h.sqStrings,h.dqStrings,{regex:/(^|:)\\s*?(\\w+)\\s+/gm,type:\"k0\"},{regex:/^\\s*?([A-Z?_][A-Z0-9?_]+:)\\s*?/gim,type:\"k6\"},{regex:/@\\w+/gi,type:\"k9\"},{regex:/#\\w+/gi,type:\"k9\"},{regex:/[A-F0-9][A-F0-9$]+?H/gi,type:\"n2\"},{regex:/\\d[\\d$]+?D/gi,type:\"n1\"},{regex:/[01][01$]+?B/gi,type:\"n3\"},{regex:/[0-7][0-7$]+?(?:Q|O)/gi,type:\"nu4\"},{regex:/(0x[A-F0-9]+|\\$[A-F0-9]+)/gi,type:\"n2\"},{regex:/(0b[01]+)/g,type:\"n3\"},{regex:/\\b(\\d+)/g,type:\"n1\"},h.fCalls]}}],[{key:\"alias\",value:function(){return[\"asm\"]}}]),t}(),S=function(){a(t,x);var e=p(t);function t(){return r(this,t),e.apply(this,arguments)}return i(t,[{key:\"setupLanguage\",value:function(){this.rules=[{regex:/(;.*)$/gm,type:\"co0\"},h.sqStrings,h.dqStrings,{regex:/^\\s*?\\.\\w+\\s+/gm,type:\"kw4\"},{regex:/\\b(r\\d{1,2})/gi,type:\"kw0\"},{regex:/(@[0-9])/gi,type:\"k2\"},{regex:/^\\s*?(\\w+:)\\s*?/gm,type:\"kw6\"},{regex:/(^|:)\\s*?(\\w+)\\s+/gm,type:\"kw0\"},{regex:/(0x[A-F0-9]+|\\$[A-F0-9]+)/gi,type:\"nu2\"},h.bin,h.int,h.fCalls,{regex:/\\b[A-Z]{2,}[0-9]?[0-9]?\\b/g,type:\"kw9\"}]}}],[{key:\"alias\",value:function(){return[\"avrasm\"]}}]),t}(),_=function(){a(t,x);var e=p(t);function t(){return r(this,t),e.apply(this,arguments)}return i(t,[{key:\"setupLanguage\",value:function(){this.rules=[h.dqStrings,h.char,{regex:/@[\\W\\w_][\\w]+/gm,type:\"k11\"},h.boolean,h.null,h.prop,{regex:/#.*$/gm,type:\"k4\"},{regex:/\\b(break|case|catch|continue|do|else|for|if|goto|switch|try|throw|while)\\b/g,type:\"k1\"},{regex:/\\b(__[A-Z][A-Z0-9_]+__|__cplusplus)\\b/g,type:\"e3\"},{regex:/\\b(\\w+\\d+?_t)\\b/g,type:\"k5\"},{regex:/\\b(bool|char|double|float|int|long|short|void)\\b/g,type:\"k5\"},{regex:/\\b(enum|struct|typedef|union)\\b/g,type:\"k2\"},{regex:/\\b(const|volatile|unsigned|signed|restrict)\\b/g,type:\"k8\"},{regex:/\\b(asm|auto|class|auto|default|explicit|export|extern|friend|inline|thread_local|static_assert|nullptr|noexcept|friend|decltype|constexpr|alignof|alignas|virtual|using|typename|typeid|this|template|static|return|register|public|protected|private|operator|namespace|mutable|inline)\\b/g,type:\"k0\"},{regex:/\\b(new|delete|cast|const_cast|dynamic_cast|static_cast|reinterpret_cast|sizeof|and|bitand|and_eq|not|not_eq|or|bitor|or_eq|xor|xor_eq|compl)\\b/g,type:\"k3\"},h.mCalls,h.fCalls,h.slashComments,h.blockComments,h.octal,h.bin,h.hex,h.floats,h.brackets]}}],[{key:\"alias\",value:function(){return[\"c++\",\"c\"]}}]),t}(),E=function(){a(t,x);var e=p(t);function t(){return r(this,t),e.apply(this,arguments)}return i(t,[{key:\"setupLanguage\",value:function(){this.rules=[{regex:/\\$(\"(?:[^\"\\\\]|\\\\.)*\")/g,type:\"s0\",filter:function(e){return k(e,/\\{.*?}/g,function(e){return[C(e[0],\"s3\")]})}},h.dqStrings,h.char,h.null,h.boolean,h.prop,{regex:/\\b(bool|byte|char|decimal|double|float|int|long|sbyte|short|uint|ulong|ushort|void)\\b/g,type:\"k5\"},{regex:/\\b(while|try|throw|switch|if|goto|foreach|for|finally|else|do|continue|catch|case|break)\\b/g,type:\"k1\"},{regex:/^((?:using|namespace)\\s+)(\\w[\\w._]+[;{\\n])/gm,type:[\"k0\",\"k10\"]},{regex:/\\b(enum|struct|var)\\b/g,type:\"k2\"},{regex:/\\b(const|in|out)\\b/g,type:\"k8\"},{regex:/\\b(using|volatile|virtual|using|unsafe|unchecked|static|stackalloc|sealed|return|ref|readonly|public|protected|private|params|override|operator|object|namespace|lock|is|internal|interface|implicit|fixed|extern|explicit|event|delegate|default|class|checked|base|as|abstract)\\b/g,type:\"k0\"},{regex:/\\b(add|alias|ascending|async|await|by|descending|dynamic|equals|from|get|global|group|into|join|let|nameof|on|orderby|partial|remove|select|set|unmanaged|value|var|when|where|yield)\\b/g,type:\"k0\"},{regex:/\\b(this)\\b/g,type:\"k9\"},{regex:/\\b(new|sizeof|typeof)\\b/g,type:\"k3\"},h.fCalls,h.mCalls,h.slashComments,h.blockComments,h.docComments,h.int,h.floats,h.bin,h.hex,h.octal,h.brackets]}}],[{key:\"alias\",value:function(){return[\"c#\"]}}]),t}(),A={pseudoElements:{regex:/[\\w\\])](::?[\\w-]+)\\b/g,type:\"x15\"},idSelector:{regex:/(#[\\w-]+)/g,type:\"x10\"},classSelector:{regex:/(\\.[\\w-]+)/g,type:\"x11\"},elementSelector:{regex:/\\b([\\w-]+)/g,type:\"x16\"}},L=function(){a(t,x);var e=p(t);function t(){return r(this,t),e.apply(this,arguments)}return i(t,[{key:\"setupLanguage\",value:function(){var t=[A.pseudoElements,A.idSelector,A.classSelector,A.elementSelector,h.dqStrings,h.sqStrings];this.rules=[{regex:/(?:^|}|\\*\\/|;|{)\\s*([^{};/]+?)\\s*{/g,type:\"text\",filter:function(e){return m(e.text,t)}},h.dqStrings,h.sqStrings,{regex:/\\W@(charset|import|namespace|page|font-face|keyframes|viewport|document|supports)\\b/gi,type:\"k4\"},{regex:/(url\\s*)(\\(.*?\\))/gi,type:[\"m0\",\"s0\"]},{regex:/(#[a-z0-9]+)\\W/gi,type:\"x14\"},{regex:/(-?\\.?\\d+[.\\d]*(%|[a-z]{2,4})?)/gim,type:\"x13\"},{regex:/([\\w-]+)\\s*:/g,type:\"x12\"},h.blockComments,h.brackets]}}],[{key:\"alias\",value:function(){return[\"styles\"]}}]),t}(),q=function(){a(t,x);var e=p(t);function t(){return r(this,t),e.apply(this,arguments)}return i(t,[{key:\"setupLanguage\",value:function(){this.rules=[{regex:/^(\"\"\"[\\s\\S]*?\"\"\"|'''[\\s\\S]*?''')/gm,type:\"c9\"},{regex:/(\"\"\"[\\s\\S]*?\"\"\"|'''[\\s\\S]*?''')/g,type:\"s5\"},h.dqStrings,h.sqStrings,{regex:/\\b(__[a-z]+__)\\b/g,type:\"e3\"},{regex:/[^;]\\s*(from\\s+)([\\w.]+)(\\s+import)/gi,type:[\"k0\",\"k10\",\"k0\"]},{regex:/\\b(raise|while|try|if|for|finally|else|elif|continue|break)\\b/g,type:\"k1\"},{regex:/\\b(yield|with|return|pass|lambda|is|in|import|global|from|except|def|class|assert|as|async|await)\\b/g,type:\"k0\"},{regex:/\\b(and|or|not|del)\\b/g,type:\"k3\"},{regex:/\\b(True|False)\\b/g,type:\"e0\"},{regex:/\\b(None)\\b/g,type:\"e1\"},h.mCalls,h.fCalls,h.poundComments,h.int,h.hex,h.floats,h.octal,h.brackets]}}],[{key:\"alias\",value:function(){return[\"py\"]}}]),t}(),I=function(){a(t,q);var e=p(t);function t(){return r(this,t),e.apply(this,arguments)}return i(t,[{key:\"setupLanguage\",value:function(){y(s(t.prototype),\"setupLanguage\",this).call(this);this.rules=[{regex:/\\b(bool|char|double|float|int|long|short|void)\\b/g,type:\"k5\"},{regex:/\\b(enum|struct|typedef|union|object)\\b/g,type:\"k2\"},{regex:/\\b(const|volatile|unsigned|signed|restrict)\\b/g,type:\"k8\"},{regex:/\\b(readonly|extern|namespace|public|privat|include|cimport|pyximport|cythonize|cdef|cpdef|ctypedef|property|IF|ELIF|ELSE|DEF)\\b/g,type:\"k0\"}].concat(this.rules)}}]),t}(),W=function(){a(t,x);var e=p(t);function t(){return r(this,t),e.apply(this,arguments)}return i(t,[{key:\"setupLanguage\",value:function(){this.rules=[h.poundComments,h.brackets,{regex:/\\[(\\w+)\\]/gm,type:\"k9\"},{regex:/\\{([\\w_-]+)\\s*(?::\\s*(.*?))?}/gm,type:[\"k7\",\"s0\"]}]}}]),t}(),N=function(){a(t,x);var e=p(t);function t(){return r(this,t),e.apply(this,arguments)}return i(t,[{key:\"setupLanguage\",value:function(){this.rules=[{regex:/^([+-]{3}.*)$/gm,type:\"c0\"},{regex:/^(@@.*@@\\s*)/gm,type:\"t2\"},{regex:/^(\\+.*)/gm,type:\"t5\"},{regex:/^(-.*)/gm,type:\"t6\"}]}}]),t}(),D=function(){a(t,x);var e=p(t);function t(){return r(this,t),e.apply(this,arguments)}return i(t,[{key:\"setupLanguage\",value:function(){this.rules=[h.dqStrings,{regex:/\\$\\{\\w+\\}/gi,type:\"k7\"},{regex:/ARG\\s+(\\w+)(?:(=)(.*?)$)?/gim,type:[\"k7\",\"k3\",\"s0\"]},{regex:/ENV\\s+(\\w+)(?:(\\s+|=)(.*?)$)?/gim,type:[\"k7\",\"k3\",\"s0\"]},{regex:/(?:^|[^\\\\])#\\s*\\w+=.*$/gm,type:\"k4\"},h.poundComments,{regex:/^([a-z]+)\\b/gim,type:\"k0\"},{regex:/\\b(AS)\\b/gi,type:\"k0\"},{regex:/^\\s+(&&)/gim,type:\"k3\"},h.brackets]}}],[{key:\"alias\",value:function(){return[\"docker\"]}}]),t}(),$=function(){a(t,x);var e=p(t);function t(){return r(this,t),e.apply(this,arguments)}return i(t,[{key:\"setupLanguage\",value:function(){this.rules=[h.dqStrings,h.bqStrings,h.char,h.boolean,{regex:/\\b(nil)\\b/gi,type:\"e1\"},h.prop,{regex:/\\b(var)\\b/g,type:\"k2\"},{regex:/\\b(case|break|default|else|goto|switch|if|continue|for)\\b/g,type:\"k1\"},{regex:/\\b(func|interface|select|defer|go|map|chan|package|fallthrough|range|import|return)\\b/g,type:\"k0\"},{regex:/\\b(iota)\\b/g,type:\"k9\"},{regex:/\\b(bool|string|u?int(8|16|32|64)?|uintptr|byte|rune|float32|float64|complex64|complex128)\\b/g,type:\"k5\"},{regex:/\\b(struct|type)\\b/g,type:\"k2\"},{regex:/\\b(const)\\b/g,type:\"k8\"},h.mCalls,h.fCalls,h.slashComments,h.octal,h.int,h.complex,h.floats,h.hex,h.brackets]}}],[{key:\"alias\",value:function(){return[\"golang\"]}}]),t}(),O=function(){a(t,x);var e=p(t);function t(){return r(this,t),e.apply(this,arguments)}return i(t,[{key:\"setupLanguage\",value:function(){this.rules=[{regex:/(\"\"\"[\\s\\S]*?\"\"\"|'''[\\s\\S]*?''')/g,type:\"s5\"},h.dqStrings,h.sqStrings,h.char,h.slashComments,h.blockComments,h.docComments,{regex:/(\\/(?:[^/\\\\]|\\\\.)*\\/)/g,type:\"s5\"},h.prop,{regex:/\\b(byte|char|short|int|long|float|double|String)\\b/g,type:\"k5\"},{regex:/\\b(break|case|catch|continue|default|do|else|finally|for|goto|if|switch|throw|try|while)\\b/g,type:\"k1\"},{regex:/^(package|import)(\\s+[\\w.]+)/gm,type:[\"k0\",\"k10\"]},{regex:/\\b(const|enum|def)\\b/g,type:\"k2\"},{regex:/\\b(as|assert|class|extends|goto|implements|in|interface|return|thows|trait)\\b/g,type:\"k0\"},{regex:/\\b(this|super)\\b/g,type:\"k9\"},{regex:/\\b(instanceof|new)\\b/g,type:\"k3\"},h.fCalls,h.mCalls,h.null,h.boolean,{regex:/^#.*/g,type:\"k9\"},{regex:/[\\b\\W](-?0[0-7][0-7_]+[GLIDF]?)\\b/gi,type:\"n4\"},{regex:/[\\b\\W](-?\\d[\\d_]*[GLIDF]?)(?!\\.)\\b/gi,type:\"n1\"},{regex:/[\\b\\W](-?0x[A-F0-9][A-F0-9_]+[GLIDF]?)\\b/gi,type:\"n2\"},{regex:/[\\b\\W](-?0b[01][01_]+[GLIDF]?)\\b/gi,type:\"n3\"},{regex:/(-?((?:\\d+\\.\\d+|\\.\\d+|\\d+\\.)(?:e[+-]?\\d+)?)|\\d+(?:e[+-]?\\d+)?)/gi,type:\"n0\"},h.brackets]}}]),t}(),T=function(){a(t,x);var e=p(t);function t(){return r(this,t),e.apply(this,arguments)}return i(t,[{key:\"setupLanguage\",value:function(){this.rules=[h.dqStrings,{regex:/(;.*)$/gm,type:\"c0\"},h.poundComments,{regex:/^\\s*?(\\[.*])\\s*?$/gm,type:\"t2\"},{regex:/^(\\s*?[a-z0-9._-]+\\s*?)(=)/gim,type:[\"k2\",\"k3\"]},{regex:/\\b(true|false|on|off|yes|no)\\b/gim,type:\"e0\"},h.octal,h.bin,h.hex,h.floats,h.brackets]}}],[{key:\"alias\",value:function(){return[\"conf\",\"cnf\"]}}]),t}(),R=function(){a(t,x);var e=p(t);function t(){return r(this,t),e.apply(this,arguments)}return i(t,[{key:\"setupLanguage\",value:function(){this.rules=[h.dqStrings,h.char,{regex:/@[\\W\\w_][\\w]+/gm,type:\"k11\"},h.prop,{regex:/\\b(boolean|byte|char|short|int|long|float|double|String|void|Integer|Double|BigInt|Float|Boolean|Byte|Char|Long)\\b/g,type:\"k5\"},{regex:/\\b(while|try|catch|case|else|throw|break|if|do|goto|switch|for|continue)\\b/g,type:\"k1\"},{regex:/^(package|import)(\\s+[\\w.]+)/gm,type:[\"k0\",\"k10\"]},{regex:/\\b(enum)\\b/g,type:\"k2\"},{regex:/\\b(const)\\b/g,type:\"k8\"},{regex:/\\b(native|volatile|strictfp|finally|class|static|interface|final|extends|transient|return|throws|public|protected|implements|private|synchronized|default|assert|abstract)\\b/g,type:\"k0\"},{regex:/\\b(this|super)\\b/g,type:\"k9\"},{regex:/\\b(instanceof|new)\\b/g,type:\"k3\"},h.fCalls,h.mCalls,h.null,h.boolean,h.slashComments,h.blockComments,h.docComments,h.int,h.floats,h.bin,h.hex,h.octal,h.brackets]}}]),t}(),F=function(){a(t,x);var e=p(t);function t(){return r(this,t),e.apply(this,arguments)}return i(t,[{key:\"setupLanguage\",value:function(){function e(e){return k(e,/\\\\(x[A-F0-9]{2}|u[A-F0-9]{4}|.)/gi,function(e){return[C(e[0],\"s4\")]})}this.rules=[{regex:h.sqStrings.regex,type:\"s0\",filter:e},{regex:h.dqStrings.regex,type:\"s0\",filter:e},{regex:/`(?:[^`\\\\]|\\\\.)*`/g,type:\"s2\",filter:function(e){return k(e,/\\$\\{.*?}/g,function(e){return[C(e[0],\"s3\")]})}},h.boolean,h.null,h.prop,{regex:/\\b(var|let|enum|const)\\b/g,type:\"k2\"},{regex:/\\b(document|window|console)\\b/g,type:\"k9\"},{regex:/\\b(break|case|catch|continue|do|else|finally|for|if|switch|try|while|throw)\\b/g,type:\"k1\"},{regex:/\\b(as|async|class|constructor|debugger|default|export|extends|function|import|return|with|yield|implements|package|protected|static|interface|private|public|await|module)\\b/g,type:\"k0\"},{regex:/\\b(this|super)\\b/g,type:\"k9\"},{regex:/\\b(instanceof|new|delete|typeof|void|in)\\b/g,type:\"k3\"},{regex:/\\W(=>)\\W/g,type:\"k3\"},h.slashComments,h.blockComments,{regex:/\\W(\\/(?:[^/\\\\]|\\\\.)*\\/\\w*)/g,type:\"e2\"},h.mCalls,h.fCalls,{regex:/\\{|}|\\(|\\)|\\[|]/g,type:\"g1\"},{regex:/[\\b\\W](-?0o[0-7]+)(?!\\.)\\b/g,type:\"n4\"},h.bin,h.hex,h.floats,h.int]}}],[{key:\"alias\",value:function(){return[\"js\"]}}]),t}(),j=function(){a(t,x);var e=p(t);function t(){return r(this,t),e.apply(this,arguments)}return i(t,[{key:\"setupLanguage\",value:function(){this.rules=[{regex:/\"(?:[^\"\\\\]|\\\\.)*\"\\s*:/g,type:\"k2\"},h.dqStrings,h.boolean,h.null,{regex:/\\{|}|\\(|\\)|\\[|]/g,type:\"g1\"},h.int,h.floats,{regex:/,|:/g,type:\"g0\"}]}}]),t}(),z=function(){a(t,x);var e=p(t);function t(){return r(this,t),e.apply(this,arguments)}return i(t,[{key:\"setupLanguage\",value:function(){function e(e){return k(e,/\\$(?:\\{.*?}|\\w+)/g,function(e){return[C(e[0],\"s3\")]})}this.rules=[{regex:/\"\"\"[\\s\\S]*?\"\"\"/g,type:\"s5\",filter:e},{regex:h.dqStrings.regex,type:\"s0\",filter:e},h.char,h.prop,{regex:/\\b(Double|Float|Long|Int|Short|Byte|Any|String|Array)\\b/g,type:\"k5\"},{regex:/\\b(break|continue|do|else|for|if|throw|try|when|while|catch|finally)\\b/g,type:\"k1\"},{regex:/^(package|import)(\\s+[\\w.]+)/gm,type:[\"k0\",\"k10\"]},{regex:/\\b(enum|typealias|object|companion|val|var)\\b/g,type:\"k2\"},{regex:/\\b(actual|abstract|annotation|companion|crossinline|data|expect|external|final|infix|inline|inner|internal|lateinit|noinline|open|operator|out|override|private|protected|public|reified|sealed|suspend|tailrec|vararg)\\b/g,type:\"k8\"},{regex:/\\b(as|class|fun|in|interface|is|return|by|constructor|delegate|dynamic|field|file|get|init|param|property|receiver|set|setparam|where|field|it)\\b/g,type:\"k0\"},{regex:/\\b(this|super)\\b/g,type:\"k9\"},{regex:/\\b(instanceof|new)\\b/g,type:\"k3\"},{regex:/(@\\w+|\\w+@)/gm,type:\"k6\"},h.fCalls,h.mCalls,h.null,h.boolean,h.slashComments,h.blockComments,{regex:/[\\b\\W](-?\\d[\\d_]*L?)(?!\\.)\\b/g,type:\"n1\"},h.floats,{regex:/[\\b\\W](-?0x[A-F0-9][A-F0-9_]+)\\b/gi,type:\"n2\"},{regex:/[\\b\\W](-?0b[01][01_]+)\\b/gi,type:\"n3\"},h.brackets]}}]),t}(),B=function(){a(t,x);var e=p(t);function t(){return r(this,t),e.apply(this,arguments)}return i(t,[{key:\"setupLanguage\",value:function(){this.rules=[{regex:/(?:^|[^\\\\])%.*$/gm,type:\"c0\"},{regex:/[^\\\\](\\\\\\w+)(?:[\\W\\s])/gm,type:\"k0\"},{regex:/[$()]/g,type:[\"s3\"]},h.int,h.floats,h.brackets]}}],[{key:\"alias\",value:function(){return[\"tex\"]}}]),t}(),Z=function(){a(t,L);var e=p(t);function t(){return r(this,t),e.apply(this,arguments)}return i(t,[{key:\"setupLanguage\",value:function(){y(s(t.prototype),\"setupLanguage\",this).call(this),this.rules.shift();var e=[h.slashComments,A.pseudoElements,A.idSelector,A.classSelector,{regex:/\\b([\\w][\\w-]+)\\s*\\(/gm,type:\"m0\"},{regex:/@[\\w-]+\\b/g,type:\"k7\"},{regex:/&/gi,type:\"k3\"}];this.rules=this.rules.concat(e)}}]),t}(),M=function(){a(t,x);var e=p(t);function t(){return r(this,t),e.apply(this,arguments)}return i(t,[{key:\"setupLanguage\",value:function(){this.rules=[h.dqStrings,h.poundComments,{regex:/[\\w\\])]\\.([\\w-]+)\\b/g,type:\"m3\"},{regex:/\\b(else)\\b/g,type:\"k1\"},{regex:/\\s\\$[A-Z_]+/g,type:\"k7\"},{regex:/(==|!=|=~|!~)/g,type:\"k3\"},{regex:/\\b(\\w[\\w-]+)\\.\\w/g,type:\"k9\"},h.int,h.brackets]}}],[{key:\"alias\",value:function(){return[]}}]),t}(),P=function(){a(t,x);var e=p(t);function t(){return r(this,t),e.apply(this,arguments)}return i(t,[{key:\"setupLanguage\",value:function(){this.rules=[{regex:/---\\[\\[[\\s\\S]*?(]])/g,type:\"c1\"},{regex:/--\\[\\[[\\s\\S]*?]]/g,type:\"c1\"},{regex:/(--.*)$/gm,type:\"c0\"},h.dqStrings,h.sqStrings,{regex:/(\\[(=*)\\[[\\S\\s]*?]\\2])/g,type:\"s5\"},{regex:/\\b(true|false)\\b/gi,type:\"e0\"},{regex:/\\b(nil)\\b/gi,type:\"e1\"},{regex:/\\b(local)\\b/g,type:\"k2\"},{regex:/\\b(break|do|else|elseif|end|for|if|repeat|then|until|while)\\b/g,type:\"k1\"},{regex:/\\b(function|return|and|in|or|not)\\b/g,type:\"k0\"},h.brackets,h.floats,h.mCalls,h.fCalls]}}]),t}(),U=function(){a(t,x);var e=p(t);function t(){return r(this,t),e.apply(this,arguments)}return i(t,[{key:\"setupLanguage\",value:function(){this.rules=[{regex:/[\\r|\\n](```[a-z_-]*[\\r|\\n][\\S\\s]+?```)/gi,type:\"t8\"},{regex:/^\\s*#{1,6}.+$/gm,type:\"t1\"},{regex:/(.+[\\r|\\n][=-]{3,})[\\r|\\n]/g,type:\"t1\"},{regex:/`.+?`/g,type:\"t8\"},{regex:/^(?:\\*|_|-){3,}$/gm,type:\"t2\"},{regex:/\\W(\\*\\*|\\*|~~|~|__|_)(.*?\\1)\\W/gm,type:\"t4\"},{regex:/!?\\[.*?]\\(.*?\\)/g,type:\"t3\"}]}}],[{key:\"alias\",value:function(){return[\"md\",\"gfm\"]}}]),t}(),G=function(){a(t,x);var e=p(t);function t(){return r(this,t),e.apply(this,arguments)}return i(t,[{key:\"setupLanguage\",value:function(){this.rules=[{regex:/%.*$/gm,type:\"c0\"},{regex:/%%.*$/gm,type:\"c1\"},h.sqStrings,h.dqStrings,h.boolean,h.mCalls,h.prop,{regex:/\\b(break|case|catch|continue|do|else|elseif|end|end_try_catch|endfor|endif|endmethods|endparfor|endproperties|endswitch|endwhile|for|if|switch|try|until|while)\\b/gi,type:\"k1\"},{regex:/\\b(__FILE__|__LINE__|classdef|end_unwind_protect|endclassdef|endenumeration|endevents|endfunctionenumeration|events|function|global|methods|otherwise|parfor|persistent|properties|return|static|unwind_protect|unwind_protect_cleanup)\\b/gi,type:\"k0\"},{regex:/(@[\\w]+)\\s*/gm,type:\"k7\"},h.fCalls,h.floats,h.brackets]}}]),t}(),H=function(){a(t,x);var e=p(t);function t(){return r(this,t),e.apply(this,arguments)}return i(t,[{key:\"setupLanguage\",value:function(){this.rules=[h.dqStrings,h.sqStrings,h.poundComments,{regex:/([a-z]+)\\s*\\{/g,type:\"k9\"},{regex:/^\\s*([a-z]\\w+)\\s/gm,type:\"k0\"},{regex:/\\W([a-z]+:\\/\\/.*?);/g,type:\"k9\"},{regex:/\\b(\\d+\\.\\d+\\.\\d+\\.\\d+(?::\\d+))\\b/g,type:\"k9\"},{regex:/(?:\\W)\\$[a-z_]+/g,type:\"k7\"},{regex:/[\\b\\W](\\d+[kmgdyw])\\b/g,type:\"n0\"},h.int,h.brackets]}}],[{key:\"alias\",value:function(){return[]}}]),t}(),V=function(){a(t,x);var e=p(t);function t(){return r(this,t),e.apply(this,arguments)}return i(t,[{key:\"setupLanguage\",value:function(){this.rules=[h.dqStrings,h.sqStrings,h.bqStrings,{regex:/^\\s*(Var(\\s+\\\\GLOBAL)?)(\\s+\\w+)\\b/g,type:[\"k2\",\"k7\"]},{regex:/\\W(\\$\\{\\w+})\\W/g,type:\"k9\"},{regex:/\\W(\\$\\w+)\\b/g,type:\"k7\"},{regex:/^\\s*([A-Z]\\w+)\\s+/gm,type:\"k0\"},{regex:/\\b[A-Z][A-Z_]*[A-Z]\\b/g,type:\"e3\"},{regex:/^\\s*(!\\w+)\\s+/gm,type:\"k4\"},{regex:/^\\s*(\\w+:)\\s*$/gim,type:\"k6\"},{regex:/\\b(admin|all|auto|both|colored|false|force|hide|highest|lastused|leave|listonly|none|normal|notset|off|on|open|print|show|silent|silentlog|smooth|textonly|true|user)\\b/gi,type:\"k9\"},h.blockComments,{regex:/[#;].*?$/gm,type:\"c0\"},h.int,h.hex,h.octal,h.brackets]}}]),t}(),J=function(){a(t,x);var e=p(t);function t(){return r(this,t),e.apply(this,arguments)}return i(t,[{key:\"setupLanguage\",value:function(){this.rules=[h.sqStrings,h.dqStrings,h.heredoc,h.boolean,h.null,{regex:/(self|parent|\\$this)/gi,type:\"k9\"},{regex:/\\b(as|break|case|catch|do|else|elseif|enddeclare|endfor|endforeach|endif|endswitch|endwhile|finally|for|foreach|goto|if|switch|throw|try|while)\\b/g,type:\"k1\"},{regex:/\\b__[A-Z][A-Z0-9_]+__\\b/g,type:\"e3\"},{regex:/\\b(__halt_compiler|abstract|array|callable|class|const|continue|declare|default|die|echo|empty|eval|exit|extends|final|function|global|implements|include|include_once|instanceof|insteadof|interface|isset|list|namespace|print|private|protected|public|require|require_once|return|static|trait|use|var|yield)\\b/g,type:\"k0\"},{regex:/\\b(and|or|xor|clone|new|unset)\\b/g,type:\"k3\"},{regex:/\\b(int|float|bool|string|resource|object|mixed|numeric)\\b/g,type:\"k5\"},h.slashComments,h.poundComments,h.blockComments,{regex:/\\$[^\\s=;()]+/gim,type:\"k7\"},{regex:/\\b([^\\s(]+)\\s*\\(/gm,type:\"m0\"},{regex:/->([\\w]+)/gim,type:\"m1\"},{regex:/::([\\w]+)/gim,type:\"m2\"},h.octal,h.bin,h.hex,h.floats,h.brackets]}}]),t}(),X=function(){a(t,x);var e=p(t);function t(){return r(this,t),e.apply(this,arguments)}return i(t,[{key:\"setupLanguage\",value:function(){function e(e){return k(e,/\\$(?:\\w+|\\(.*?\\))/g,function(e){return[C(e[0],\"k7\")]})}this.rules=[{regex:/\"(?:[^\"`]|`.)*\"/g,type:\"s2\",filter:e},h.sqStrings,{regex:/@\"[\\S\\s]*?\\n\\s*\"@/g,type:\"s5\",filter:e},{regex:/@'[\\S\\s]*?\\n\\s*'@/g,type:\"s5\"},{regex:/\\b(Begin|Break|Catch|Continue|Else|Elseif|End|Finally|For|ForEach|If|Switch|Throw|Try|Until|While)\\b/gi,type:\"k1\"},{regex:/\\b(Data|Do|DynamicParam|Exit|Filter|From|Function|In|InlineScript|Hidden|Parallel|Param|Process|Return|Sequence|Trap|Workflow)\\b/gi,type:\"k0\"},{regex:/\\b([A-Z]\\w+(?:-\\w+)+)\\b/gi,type:\"m0\"},{regex:/<#[\\S\\s]+?#>/gi,type:\"c1\"},h.poundComments,{regex:/\\$[A-Z_][\\w]*/gim,type:\"k7\"},h.mCalls,h.fCalls,h.int,h.floats,h.brackets]}}]),t}(),Y=function(){a(t,x);var e=p(t);function t(){return r(this,t),e.apply(this,arguments)}return i(t,[{key:\"setupLanguage\",value:function(){this.rules=[{regex:/(%.*)$/gm,type:\"c0\"},h.blockComments,h.dqStrings,h.sqStrings,{regex:/^(\\w+)(?:\\(.*?\\))?\\s*(?::-|\\.)/gm,type:\"k9\"},{regex:/\\b(true|false|Yes|No|not|fail)\\b/gi,type:\"e0\"},{regex:/\\b(catch|throw|repeat)\\b/g,type:\"k1\"},{regex:/^(\\?-)/g,type:\"k9\"},{regex:/\\b(is)\\b/g,type:\"k3\"},{regex:/[A-Z_][\\w]*/g,type:\"k7\"},h.brackets,h.floats,h.int,h.fCalls]}}]),t}(),Q=function(){a(t,x);var e=p(t);function t(){return r(this,t),e.apply(this,arguments)}return i(t,[{key:\"setupLanguage\",value:function(){this.rules=[h.int,h.floats,{regex:/[\\b\\W](-?\\$[A-F0-9]+)\\b/gi,type:\"n2\"},{regex:/[\\b\\W](-?%[01]+)\\b/gi,type:\"n3\"},{regex:/[\\b\\W](\\*\\w+)\\b/gi,type:\"text\"},h.dqStrings,{regex:/[[\\]()]+/g,type:\"g0\"},{regex:/#\\w+/gim,type:\"g0\"},{regex:/[@?]\\w+/gim,type:\"g1\"},{regex:/(IncludeFile|XIncludeFile|IncludeBinary|IncludePath) (.*?)$/gim,type:\"k0\"},{regex:/\\b(Break|Case|Continue|Default|Else|ElseIf|End|EndIf|EndSelect|For|ForEver|ForEach|Gosub|Goto|If|Next|Repeat|Return|FakeReturn|Select|Until|Wend|While|To|Step)\\b/gi,type:\"k1\"},{regex:/\\b(Array|List|Map|Procedure(?:C|Dll|CDll)?|ProcedureReturn|EndProcedure|Declare(?:C|Dll|CDll)?|ImportC?|EndImport|As|Macro|MacroExpandedCount|EndMacro|UndefineMacro|DeclareModule|EndDeclareModule|Module|EndModule|UseModule|UnuseModule|With|EndWith|PrototypeC?|Runtime|Swap|Data|DataSection|EndDataSection|Read|Restore)\\b/gi,type:\"k2\"},{regex:/\\b(ReDim|Dim|NewList|NewMap|Enumeration|EndEnumeration|Interface|Extends|EndInterface|Structure(?:Union)?|EndStructure(?:Union)?)\\b/gi,type:\"k4\"},{regex:/\\b(?:ReDim|Dim|NewList|NewMap)\\s*([\\w]+)\\(/gim,type:\"text\"},{regex:/\\b(Define|Global|Protected|Shared|Static|Threaded)\\b/gi,type:\"k3\"},{regex:/[\\w\\])]\\.(s{\\d+}|(?:p-ascii|p-utf8|p-bstr|p-unicode|p-variant)|\\w+)(?:\\([\\d,]*\\))?/gi,type:\"k4\"},{regex:/\\b(CompilerIf|CompilerElse|CompilerElseIf|CompilerEndIf|CompilerSelect|CompilerCase|CompilerDefault|CompilerEndSelect|CompilerError|CompilerWarning|EnableExplicit|DisableExplicit|EnableASM|DisableASM|EnableDebugger|DisableDebugger|Debug|DebugLevel|CallDebugger)\\b/gi,type:\"k5\"},{regex:/\\W(And|Not|Or|Xor)\\W/gi,type:\"k6\"},{regex:/(<=|=<|>=|=>|<>|<<|>>|=|-|\\+|\\/|%|<|>|&|\\||!|~)/gi,type:\"k6\"},{regex:/(\\*)(?:\\d|\\s*(?:\\b|-|\\(|%|\\$|\\*))/gi,type:\"k6\"},{regex:/(\\w+)::/gi,type:\"k7\"},{regex:/(\\w+):/gi,type:\"k8\"},h.fCalls,{regex:/;.*$/gm,type:\"c0\"},{regex:/\\\\(\\w+)\\b/g,type:\"m3\"}]}}],[{key:\"alias\",value:function(){return[\"pb\"]}}]),t}(),K=function(){a(t,x);var e=p(t);function t(){return r(this,t),e.apply(this,arguments)}return i(t,[{key:\"setupLanguage\",value:function(){this.rules=[h.dqStrings,h.prop,{regex:/\\b([A-Z]\\w+)\\b/g,type:\"k5\"},{regex:/^(import)(\\s+[\\w.]+)/gm,type:[\"k0\",\"k5\"]},{regex:/\\b(bool|char|double|float|int|long|short|void|string)\\b/g,type:\"k5\"},h.mCalls,h.null,h.boolean,h.slashComments,h.blockComments,h.int,h.floats,h.brackets]}}]),t}(),ee=function(){a(t,x);var e=p(t);function t(){return r(this,t),e.apply(this,arguments)}return i(t,null,[{key:\"alias\",value:function(){return[]}}]),t}(),te=function(){a(t,x);var e=p(t);function t(){return r(this,t),e.apply(this,arguments)}return i(t,[{key:\"setupLanguage\",value:function(){this.rules=[{regex:/^(.*?)$/g,type:\"text\"}]}}]),t}(),re=function(){a(t,x);var e=p(t);function t(){return r(this,t),e.apply(this,arguments)}return i(t,[{key:\"setupLanguage\",value:function(){this.rules=[h.dqStrings,{regex:/(\"[\\s\\S]*?\")/g,type:\"s5\"},{regex:/\\b(yes|no)\\b/gi,type:\"e0\"},{regex:/\\b([\\w-]+)(=)/gi,type:[\"k6\",\"k3\"]},{regex:/[^\\b](:local|:global)\\s/gm,type:\"k2\"},{regex:/^\\/\\w+(?:\\s+[a-z-]+)*\\s*$/gm,type:\"k10\"},{regex:/\\b(add|set|print|enable|disable|export|find|get|move|remove)\\b/gi,type:\"k9\"},{regex:/[^\\b](:[a-z-]+)\\s/gm,type:\"k0\"},{regex:/\\$[\\w]*/gi,type:\"k7\"},{regex:/(?:[a-f0-9]{2}:){5}(?:[a-f0-9]{2})/gi,type:\"s0\"},{regex:/(?:\\d{1,3}\\.){3}(?:\\d{1,3})(?:\\/\\d{1,2})?/gi,type:\"s0\"},h.poundComments,{regex:/[\\b\\W](-?\\d+)([a-z]{1,4})?[\\b\\W]/gi,type:\"n0\"},h.int,h.hex,h.brackets]}}],[{key:\"alias\",value:function(){return[\"mikrotik\",\"mt\",\"switchos\",\"ros\"]}}]),t}(),ne=function(){a(t,x);var e=p(t);function t(){return r(this,t),e.apply(this,arguments)}return i(t,[{key:\"setupLanguage\",value:function(){function e(e){return e.text.match(/^%r/)?e.type=\"e2\":e.text.match(/^%x/)&&(e.type=\"e4\"),[e]}this.rules=[h.dqStrings,h.sqStrings,h.heredoc,{regex:/(`(?:[^`\\\\]|\\\\.)*`)/g,type:\"e4\"},h.boolean,{regex:/\\b(nil)\\b/gi,type:\"e1\"},h.fCalls,h.prop,{regex:/@{1,2}[A-Za-z_]\\w*\\W/g,type:\"k7\"},{regex:/[^:](:[\\w]+)\\b/g,type:\"k6\"},{regex:/(\\$[a-z0-9_-]+|\\$.)\\W/gi,type:\"k9\"},{regex:/\\b(begin|break|case|do|else|elsif|end|ensure|for|if|in|next|redo|rescue|retry|then|unless|until|when|while)\\b/gi,type:\"k1\"},{regex:/\\b((?:__)?[A-Z][A-Z0-9_]+)\\b/g,type:\"e3\"},{regex:/\\b(alias|class|defined\\?|undef|def|module|return|self|super|yield)\\W/gi,type:\"k0\"},{regex:/\\b(and|not|or)\\b/gi,type:\"k3\"},h.poundComments,{regex:/^=begin[\\S\\s]*?^=end/gim,type:\"c2\"},{regex:/(%[iqrswx](\\W)(?:[^\\2\\n\\\\]|\\\\.)*\\2[iomx]*)/gim,type:\"s2\",filter:e},{regex:/(%[iqrswx]?(\\{(?:[^}\\\\]|\\\\.)*}|\\[(?:[^}\\\\]|\\\\.)*]|\\((?:[^)\\\\]|\\\\.)*\\))[iomx]*)/gim,type:\"s2\",filter:e},{regex:/\\W(\\/(?:[^/\\\\]|\\\\.)*\\/\\w*)\\W/g,type:\"e2\"},{regex:/\\W\\?(?:\\w|\\\\M|\\\\C)(?:-\\w|-\\\\M|-\\\\C)*\\b/g,type:\"n1\"},{regex:/[\\b\\W](-?\\d[\\d_]+?)(?!\\.)\\b/g,type:\"n1\"},{regex:/[\\b\\W](-?0x[A-F0-9][A-F0-9_]+)\\b/gi,type:\"n2\"},{regex:/[\\b\\W](-?0b[01][01_]+)\\b/gi,type:\"n3\"},{regex:/[\\b\\W](-?[\\d_]+(?:\\.[\\d_]+)?(?:e[+-]?\\d+)?[ji]?)\\b/gi,type:\"n0\"},h.brackets]}}]),t}(),ie=function(){a(t,x);var e=p(t);function t(){return r(this,t),e.apply(this,arguments)}return i(t,[{key:\"setupLanguage\",value:function(){this.rules=[h.char,{regex:/r((#+)\".*?\"\\2)/gm,type:\"s0\"},{regex:/(\"(?:\\\\.|\\\\\\s*\\n|\\\\s*\\r\\n|[^\\\\\"])*\")/g,type:\"s0\"},{regex:/^\\s*#.*$/gm,type:\"k4\"},{regex:/fn\\s+([\\w]+)\\s*(<\\w+\\s*>)?\\(/gm,type:\"k0\"},{regex:/\\b\\.?([\\w]+)\\s*(\\(|::)/gm,type:\"k1\"},{regex:/\\b([\\w]+)!/gm,type:\"k9\"},{regex:/\\bself\\b/gi,type:\"k9\"},h.boolean,{regex:/\\b(while|loop|in|for|if|else|do|continue|break)\\b/g,type:\"k1\"},{regex:/\\b(type|struct|let|enum)\\b/g,type:\"k2\"},{regex:/\\b(const)\\b/g,type:\"k8\"},{regex:/\\b(yield|where|virtual|use|unsized|unsafe|trait|super|static|return|ref|pure|pub|proc|priv|override|offsetof|mut|move|mod|match|macro|impl|fn|final|extern|crate|box|become|as|alignof|abstract)\\b/g,type:\"k0\"},{regex:/\\b(sizeof|typeof)\\b/g,type:\"k3\"},{regex:/\\b([0-9_]+\\.?[0-9_]+?(e\\+[0-9_]+)?)(?:f32|f64)?\\b/gim,type:\"n0\"},{regex:/\\b([0-9_]+|0o[0-9_]+|0x[A-F0-9_]+|0b[0-1_]+)(?:u8|i8|u16|i16|u32|i32|u64|i64|isize|usize)?\\b/gim,type:\"n1\"},h.slashComments,h.blockComments,{regex:/(?:^|[^\\\\])\\/\\/[/!].*$/gm,type:\"c2\"},{regex:/\\/\\*[*!][\\s\\S]*?\\*\\//gm,type:\"c2\"},h.brackets,{regex:/\\W(&)\\w/g,type:\"k3\"}]}}]),t}(),ae=function(){a(t,x);var e=p(t);function t(){return r(this,t),e.apply(this,arguments)}return i(t,[{key:\"setupLanguage\",value:function(){this.rules=[h.dqStrings,h.char,{regex:/s\"(?:[^\"\\\\]|\\\\.)*\"/g,type:\"s2\"},{regex:/`(?:[^`\\\\]|\\\\.)*`/g,type:\"k7\"},{regex:/@[\\W\\w_][\\w]+/g,type:\"k11\"},{regex:/\\b([A-Z]\\w*)\\b/g,type:\"k5\"},{regex:/\\b(while|try|catch|else|throw|break|if|do|goto|switch|for|match)\\b/g,type:\"k1\"},{regex:/(package|import)(\\s+[\\w.]+)/gm,type:[\"k0\",\"k10\"]},{regex:/[\\b\\w\\s)](_|:|@|#|<-|←|<:|<%|=|=>|⇒|>:)[\\b\\w\\s]/g,type:\"k3\"},{regex:/\\b(abstract|class|case|extends|final|finally|forSome|implicit|lazy|object|override|private|protected|return|sealed|trait|with|yield)\\b/g,type:\"k0\"},{regex:/\\b(def)\\s+(\\w+)\\b/gm,type:[\"k2\",\"m0\"]},{regex:/\\b(type)\\s+(\\w+)\\b/gm,type:[\"k2\",\"k5\"]},{regex:/\\b(val)\\s+(\\w+)\\b/gm,type:[\"k2\",\"k7\"]},{regex:/\\b(var)\\s+(\\w+)\\b/gm,type:[\"k2\",\"k7\"]},{regex:/\\b(this|super)\\b/g,type:\"k9\"},{regex:/\\b(new)\\b/g,type:\"k3\"},h.mCalls,h.fCalls,h.null,h.boolean,h.slashComments,h.blockComments,h.docComments,h.int,h.floats,h.bin,h.brackets]}}]),t}(),se=function(){a(t,L);var e=p(t);function t(){return r(this,t),e.apply(this,arguments)}return i(t,[{key:\"setupLanguage\",value:function(){y(s(t.prototype),\"setupLanguage\",this).call(this),this.rules.shift();var e=[h.slashComments,A.pseudoElements,A.idSelector,A.classSelector,{regex:/\\b([\\w-]+)\\s*\\(/gm,type:\"m0\"},{regex:/\\$[\\w-]+\\b/g,type:\"k7\"},{regex:/@[\\w-]+\\b/g,type:\"k9\"},{regex:/&/gi,type:\"k3\"}];this.rules=this.rules.concat(e)}}],[{key:\"alias\",value:function(){return[\"sass\"]}}]),t}(),oe=function(){a(t,x);var e=p(t);function t(){return r(this,t),e.apply(this,arguments)}return i(t,[{key:\"setupLanguage\",value:function(){this.rules=[{regex:/(^#!.*?)\\n/gi,type:\"k4\"},h.poundComments,{regex:/[^\\\\](\"(?:[^\"\\\\]|\\\\.)*\")/g,type:\"s0\"},{regex:/`.*?`/gm,type:\"s2\"},{regex:/(\\$)\\(/gm,type:\"s2\"},{regex:/(\\$\\d)\\b/gim,type:\"k9\"},{regex:/(\\$\\w+)\\b/gim,type:\"k7\"},{regex:/^(\\s*\\w+)=/gm,type:\"k7\"},{regex:/^\\s*\\w+\\)\\s*$/gm,type:\"k6\"},{regex:/\\b(if|fi|then|elif|else|for|do|done|until|while|break|continue|case|esac|in|eq|ne|gt|lt|ge|le)\\b/gi,type:\"k1\"},{regex:/\\b(return|function)\\b/gi,type:\"k0\"},{regex:/^\\s*\\w+\\(\\)\\s*\\{/gm,type:\"k0\"},h.int]}}],[{key:\"alias\",value:function(){return[\"bash\",\"sh\",\"zsh\"]}}]),t}(),le=function(){a(t,x);var e=p(t);function t(){return r(this,t),e.apply(this,arguments)}return i(t,[{key:\"setupLanguage\",value:function(){this.rules=[h.poundComments,h.blockComments,{regex:/--.*$/gm,type:\"c0\"},h.null,h.sqStrings,{regex:/`\\w+?`(?:\\.`\\w+?`)*/g,type:\"k9\"},{regex:/\\b(all|and|any|between|exists|in|like|not|or|is null|is not null|unique|=|!=|<>|>|<|>=|<=|!<|!>)\\b/gi,type:\"k3\"},{regex:/\\b(bigint)\\b/g,type:\"k5\"},{regex:/\\b(unsigned)\\b/g,type:\"k8\"},{regex:/\\b(SELECT|INSERT|UPDATE|DELETE|INTO|FROM|CREATE|TABLE|VIEW|WHERE|TRIGGER|ALTER|ORDER BY|DESC|ASC|AS|BETWEEN|JOIN|LEFT|RIGHT|INNER|OUTER|USING|ON|UNION)\\b/gi,type:\"k0\"},{regex:/\\b[A-Z]+\\b/g,type:\"k0\"},h.int,h.floats]}}]),t}(),ge=function(){a(t,x);var e=p(t);function t(){return r(this,t),e.apply(this,arguments)}return i(t,[{key:\"setupLanguage\",value:function(){this.rules=[h.dqStrings,{regex:h.sqStrings.regex,type:\"n0\"},h.prop,h.slashComments,h.poundComments,h.blockComments,h.brackets,{regex:/\\b(const|enum|local)\\b/g,type:\"k2\"},{regex:/\\b(break|case|catch|continue|else|for|foreach|if|switch|while|try|do)\\b/g,type:\"k1\"},{regex:/\\b(base|class|clone|constructor|default|extends|false|function|null|resume|return|static|this|throw|true|yield)\\b/g,type:\"k0\"},{regex:/\\b(delete|in|instanceof|typeof)\\b/g,type:\"k3\"},h.mCalls,h.fCalls,h.octal,h.hex,h.floats,h.int]}}]),t}(),ue=function(){a(t,x);var e=p(t);function t(){return r(this,t),e.apply(this,arguments)}return i(t,[{key:\"setupLanguage\",value:function(){this.rules=[h.dqStrings,h.boolean,{regex:/#.*$/gm,type:\"k4\"},h.prop,{regex:/(import )(.*?)$/gm,type:[\"k0\",\"k10\"]},{regex:/\\b(nil)\\b/gi,type:\"e1\"},{regex:/\\b(break|case|continue|default|do|else|for|if|switch|while|catch|throw|try)\\b/g,type:\"k1\"},{regex:/\\b(var|let|enum|struct)\\b/g,type:\"k2\"},{regex:/\\b(Int|UInt|Float|Double|Bool|String|Character|Optional|Array|Dictionary)\\b/g,type:\"k5\"},{regex:/\\b(associatedtype|class|deinit|extension|func|init|inout|internal|operator|private|protocol|public|static|subscript|typealias|defer|fallthrough|guard|in|as|repeat|return|where|dynamicType|is|rethrows|super|self|Self|throws|associativity|convenience|dynamic|didSet|final|get|infix|indirect|lazy|left|mutating|none|nonmutating|optional|override|postfix|precedence|prefix|Protocol|required|right|set|Type|unowned|weak|willSet)\\b/g,type:\"k0\"},h.mCalls,h.fCalls,{regex:/(?:^|[^\\\\])\\/\\/\\/.*$/gm,type:\"c2\"},h.docComments,h.slashComments,h.blockComments,{regex:/[\\b\\W](-?0b[01_]+)\\b/gi,type:\"n3\"},{regex:/[\\b\\W](-?0x[A-F0-9_]+)(?!\\.)\\b/gi,type:\"n2\"},{regex:/[\\b\\W](-?0o[0-7_]+)(?!\\.)\\b/g,type:\"n4\"},{regex:/[\\b\\W](-?[\\d_]+)(?!\\.)\\b/g,type:\"n1\"},{regex:/(-?(?:[\\d_]+\\.[\\d_]+(?:e[+-]?[\\d_]+)?))/gi,type:\"n0\"},{regex:/(-?0x(?:[A-F0-9_]+\\.[A-F0-9_]+(?:p[+-]?[A-F0-9_]+)?))/gi,type:\"n2\"},h.brackets]}}]),t}(),pe=function(){a(t,F);var e=p(t);function t(){return r(this,t),e.apply(this,arguments)}return i(t,[{key:\"setupLanguage\",value:function(){y(s(t.prototype),\"setupLanguage\",this).call(this);this.rules=[{regex:/\\b(boolean|number|string|any|void|undefined|never|symbol)\\b/g,type:\"k5\"},{regex:/\\b(type|interface)\\b/g,type:\"k2\"},{regex:/\\b(abstract|implements|readonly)\\b/g,type:\"k8\"},{regex:/\\b(declare|namespace)\\b/g,type:\"k0\"},{regex:/\\b([\\w]+)\\s*</gm,type:\"m0\"},{regex:/[<>]/g,type:\"g1\"}].concat(this.rules)}}]),t}(),ce=function(){a(t,x);var e=p(t);function t(){return r(this,t),e.apply(this,arguments)}return i(t,[{key:\"setupLanguage\",value:function(){this.rules=[{regex:/((?:^\\s*|\\s+)--.*$)/gm,type:\"c0\"},{regex:/^\\s*(?:use|library)\\s*(\\S+);/gim,type:\"k9\"},h.fCalls,{regex:/\\*\\*|\\*|\\/|\\+|-|&|=|\\/=|<|<=|>|>=/g,type:\"g0\"},h.dqStrings,{regex:/('.')/g,type:\"s0\"},h.brackets,{regex:/\\b(alias|array|variable|downto|range|to|type|units)\\b/g,type:\"k2\"},{regex:/\\b(array|buffer|bus|file)\\b/g,type:\"k5\"},{regex:/\\b(if|else|elsif|end|for|while|loop|when|begin|block|case|exit|next|then)\\b/g,type:\"k1\"},{regex:/\\b(access|after|all|architecture|attribute|assert|body|component|configuration|constant|disconnect|entity|function|generate|generic|group|guarded|impure|in|inertial|inout|is|label|library|linkage|literal|map|null|of|on|open|others|out|package|port|postponed|procedure|process|pure|record|return|select|severity|signal|shared|subtype|transport|unaffected|use|vaiable|with|wait|until)\\b/g,type:\"k0\"},{regex:/\\b(abs|not|mod|rem|sll|srl|sla|sra|rol|ror|and|or|nand|nor|xor|xnor|new)\\b/g,type:\"k3\"},h.floats]}}]),t}(),ye=function(){a(t,x);var e=p(t);function t(){return r(this,t),e.apply(this,arguments)}return i(t,[{key:\"setupLanguage\",value:function(){this.rules=[h.dqStrings,h.boolean,h.prop,{regex:/(#.*?)(?:'|$)/gim,type:\"k4\"},{regex:/\\b(Case|Catch|Continue|Each|Else|ElseIf|End|EndIf|Do|Finally|For|If|Loop|Next|OrElse|Then|Throw|Try|When|While)\\b/g,type:\"k1\"},{regex:/(Imports )(.*?)$/gm,type:[\"k0\",\"k10\"]},{regex:/\\b(Boolean|Byte|CBool|CByte|CChar|CDate|CDbl|CDec|Char|CInt|CLng|CObj|CSByte|CShort|CSng|CStr|CType|CUInt|CULng|CUShort|Decimal|Double|Integer|Long|ParamArray|SByte|Short|Single|String|UInteger|ULong|UShort)\\b/g,type:\"k5\"},{regex:/\\b(Dim|Enum|Let|ReDim)\\b/g,type:\"k2\"},{regex:/\\b(Const|Shared|Static)\\b/g,type:\"k8\"},{regex:/\\b(AddHandler|AddressOf|Alias|As|ByRef|ByVal|Call|Class|Date|Declare|Default|Delegate|DirectCast|Erase|Error|Event|Exit|Friend|Function|Get|GetType|GetXMLNamespace|Global|GoSub|GoTo|Handles|Implements|In|Inherits|Interface|Lib|Like|Me|Module|MustInherit|MustOverride|MyBase|MyClass|Namespace|Narrowing|Nothing|NotInheritable|NotOverridable|Object|Of|On|Operator|Option|Optional|Out|Overloads|Overridable|Overrides|Partial|Private|Property|Protected|Public|RaiseEvent|ReadOnly|REM|RemoveHandler|Resume|Return|Select|Set|Shadows|Step|Stop|Structure|Sub|SyncLock|To|TryCast|Using|Variant|Wend|Widening|With|WithEvents|WriteOnly)\\b/gi,type:\"k0\"},{regex:/\\b(And|AndAlso|Is|IsNot|Mod|New|Not|Or|TypeOf|Xor)\\b/g,type:\"k3\"},h.mCalls,h.fCalls,{regex:/'.*$/gm,type:\"c0\"},h.int,h.floats,h.brackets]}}],[{key:\"alias\",value:function(){return[\"vb\"]}}]),t}(),fe=function(){a(t,x);var e=p(t);function t(){return r(this,t),e.apply(this,arguments)}return i(t,[{key:\"setupLanguage\",value:function(){this.rules=[{regex:/<!DOCTYPE[\\s\\S]+?>/g,type:\"k9\"},{regex:/<\\?xml[\\s\\S]+\\?>/gi,type:\"k4\"},{regex:/<!--[\\s\\S]*?-->/g,type:\"c1\"},{regex:/(<!\\[CDATA\\[)([\\s\\S]*?)(]]>)/gim,type:[\"c9\",\"text\",\"c9\"]},{regex:/(<)([A-Z:_][A-Z0-9:.-]*)([\\s\\S]*?)(\\/?>)/gi,type:[\"g1\",\"x1\",\"text\",\"g1\"],filter:[null,null,function(e){return k(e,/\\b([^\\s\\0\"'>/=]+)(\\s*=\\s*)((['\"]).*?\\4|[^'\" \\t]+)/gi,function(e){return[C(e[1],\"x2\"),C(e[2],\"k3\"),C(e[3],\"s0\")]})},null]},{regex:/(<\\/)([A-Z:_][A-Z0-9:.-]*\\s*)(>)/gi,type:[\"g1\",\"x1\",\"g1\"]}]}}],[{key:\"alias\",value:function(){return[\"html\"]}}]),t}(),be=function(){a(t,x);var e=p(t);function t(){return r(this,t),e.apply(this,arguments)}return i(t,[{key:\"setupLanguage\",value:function(){this.rules=[h.poundComments,h.boolean,h.null,{regex:/^%[A-Z]+\\s+.*$/gm,type:\"k4\"},{regex:/\\b!{1,2}[A-Z]+\\b/gi,type:\"k5\"},{regex:/\\b[a-z][a-z0-9_-]*:/gim,type:\"k7\"},{regex:/\\{|}|\\(|\\)|\\[|]/g,type:\"g1\"},{regex:/\\s+(?:>|\\|)[\\r|\\n]+((?:\\s+[^\\r\\n]+[\\r|\\n]+)+)/gi,type:\"s5\"},h.dqStrings,h.sqStrings,h.floats]}}]),t}(),de=function(){a(t,x);var e=p(t);function t(){return r(this,t),e.apply(this,arguments)}return i(t,[{key:\"setupLanguage\",value:function(){this.rules=[h.dqStrings,{regex:/`\\w*\\b/g,type:\"k4\"},{regex:/\\[( *\\d+(?: *\\: *\\d+) *)\\]/g,type:\"e3\"},{regex:/\\b(for|generate|if|else|repeat|case|endcase|begin|end|ifnone)\\b/g,type:\"k1\"},{regex:/\\b(output|input|inout|reg|wire|assign)\\b/g,type:\"k5\"},{regex:/\\b(module|endmodule|always|function|endfunction)\\b/g,type:\"k2\"},{regex:/\\b(or|rpmos|tranif1|and|initial|rtran|tri|parameter|rtranif0|tri0|pmos|rtranif1|tri1|buf|endprimitive|integer|posedge|scalared|triand|bufif0|endspecify|join|primitive|small|trior|bufif1|endtable|large|pull0|specify|trireg|endtask|macromodule|pull1|specparam|vectored|casex|event|medium|pullup|strong0|wait|casez|pulldown|strong1|wand|cmos|force|nand|rcmos|supply0|weak0|deassign|forever|negedge|real|supply1|weak1|default|nmos|realtime|table|defparam|nor|task|disable|highz0|not|release|time|wor|edge|highz1|notif0|tran|xnor|notif1|rnmos|tranif0|xor)\\b/g,type:\"k0\"},h.slashComments,h.blockComments,{regex:/-?\\d*'s?d[0-9_xz]+\\b/gi,type:\"n1\"},{regex:/-?\\d*'s?h[0-9a-f_xz]+\\b/gi,type:\"n2\"},{regex:/-?\\d*'s?b[01_xz]+\\b/gi,type:\"n3\"},{regex:/-?\\d*'s?o[0-7_xz]+\\b/gi,type:\"n4\"},h.int,h.brackets]}}]),t}(),he=Object.freeze({__proto__:null,generic:x,abap:t,apache:v,assembly:w,avrassembly:S,cpp:_,csharp:E,css:L,cython:I,cordpro:W,diff:N,dockerfile:D,go:$,groovy:O,ini:T,java:R,javascript:F,json:j,kotlin:z,latex:B,less:Z,lighttpd:M,lua:P,markdown:U,matlab:G,nginx:H,nsis:V,php:J,powershell:X,prolog:Y,purebasic:Q,python:q,qml:K,r:ee,raw:te,routeros:re,ruby:ne,rust:ie,scala:ae,scss:se,shell:oe,sql:le,squirrel:ge,swift:ue,typescript:pe,vhdl:ce,visualbasic:ye,xml:fe,yaml:be,verilog:de}),me={standard:\"generic\"},xe={},ke=!1;function ve(e){if(!ke)for(var t in ke=!0,he)if(\"function\"==typeof he[t].alias){var r,n=function(e,t){var r;if(\"undefined\"==typeof Symbol||null==e[Symbol.iterator]){if(Array.isArray(e)||(r=b(e))||t&&e&&\"number\"==typeof e.length){r&&(e=r);var n=0,i=function(){};return{s:i,n:function(){return n>=e.length?{done:!0}:{done:!1,value:e[n++]}},e:function(e){throw e},f:i}}throw new TypeError(\"Invalid attempt to iterate non-iterable instance.\\nIn order to be iterable, non-array objects must have a [Symbol.iterator]() method.\")}var a,s=!0,o=!1;return{s:function(){r=e[Symbol.iterator]()},n:function(){var e=r.next();return s=e.done,e},e:function(e){o=!0,a=e},f:function(){try{s||null==r.return||r.return()}finally{if(o)throw a}}}}(he[t].alias());try{for(n.s();!(r=n.n()).done;){var i=r.value;me[i]=t}}catch(e){n.e(e)}finally{n.f()}}return me[e]}function we(e){return e=ve(e=(e||\"\").toLowerCase())||e,he[e]?e:null}var Ce={document:document,window:window};function Se(){return document}function _e(){return window}function Ee(e){var t=!(1<arguments.length&&void 0!==arguments[1])||arguments[1];e.style.display=!0===t?\"block\":\"none\"}function Ae(e){e.parentNode.removeChild(e)}function Le(e){return null!=e&&0<e.length?Se().querySelectorAll(e):[]}function qe(e,t){return e.getAttribute(\"data-\"+t)||null}function Ie(e,t){return e.getAttribute(t)||null}function We(e,t){return e.parentNode.insertBefore(t,e)}function Ne(e,t,r){var n=Se(),i=n.createElement(e);if(0<r.length)for(var a=0;a<r.length;a++){var s=r[a];if(null!==s&&!1!==s)if(void 0!==s)if(s.push)for(var o=0;o<s.length;o++){var l=s[o];null!==l&&!1!==l&&(void 0!==l?l.appendChild?i.appendChild(l):i.appendChild(n.createTextNode(l)):i.appendChild(n.createTextNode(\"#INVALID_ELEMENT#\")))}else s.appendChild?i.appendChild(s):i.appendChild(n.createTextNode(s));else i.appendChild(n.createTextNode(\"#INVALID_ELEMENT#\"))}function g(e,t){i.addEventListener(e,function(e){e.preventDefault(),e.stopPropagation(),t&&t.apply(i,[e,i])})}for(var u in t)if(Object.prototype.hasOwnProperty.call(t,u)){var p=t[u];if(\"on\"===u.substr(0,2)){if(null===p)continue;g(u.substr(2).toLowerCase(),p)}else{if(null==p)continue;switch(u){case\"className\":i.setAttribute(\"class\",p);break;case\"htmlFor\":i.setAttribute(\"for\",p);break;default:i.setAttribute(u,p)}}}return i.on=g,i}function De(e,t){for(var r=arguments.length,n=new Array(2<r?r-2:0),i=2;i<r;i++)n[i-2]=arguments[i];if(\"function\"!=typeof e)return Ne(e,t,n);var a=g(e,[t||{}].concat(n));return\"function\"==typeof a.render?a.render():a instanceof HTMLElement?a:void Se().createTextNode(\"#INVALID_JSX_ELEMENT#\")}function $e(e,t){e.classList.contains(t)||e.classList.add(t)}function Oe(e,t){e.classList.contains(t)&&e.classList.remove(t)}function Te(e,t){return e.classList.contains(t)}function Re(e,t){e.classList.contains(t)?e.classList.remove(t):e.classList.add(t)}var Fe=_e();function je(){var e;void 0!==Fe.console&&Fe.console.log&&(e=Fe.console).log.apply(e,arguments)}var ze=Object.freeze({__proto__:null,globals:Ce,getDocument:Se,getWindow:_e,displayElement:Ee,disposeElement:Ae,getElements:Le,getElement:function(e){return null!=e&&0<e.length?Se().querySelector(e):null},getElementDataAttribute:qe,getElementAttribute:Ie,insertBefore:We,createNode:Ne,createElement:De,renderComponent:function(e){var t=1<arguments.length&&void 0!==arguments[1]?arguments[1]:null;return null!==t&&t.appendChild(e),e},addClass:$e,removeClass:Oe,hasClass:Te,toggleClass:Re,logInfo:je,logError:function(){var e;void 0!==Fe.console&&Fe.console.error?(e=Fe.console).error.apply(e,arguments):je.apply(void 0,arguments)}});function Be(e){var t=e.tokens,r=e.options,n=function(e,t){if(\"string\"!=typeof e||0===e.length)return function(){return!1};var r=parseInt(t),a=!isNaN(r)&&1<r?r-1:0,s={};return e.split(\",\").forEach(function(e){var t=e.match(/([0-9]+)-([0-9]+)/);if(null!=t){var r=parseInt(t[1])-a,n=parseInt(t[2])-a;if(r<n)for(var i=r;i<=n;i++)s[\"\"+i]=!0}else s[\"\"+(parseInt(e)-a)]=!0}),function(e){return s[\"\"+e]||!1}}(r.highlight,r.lineoffset),i=[],a=[];t.forEach(function(t){var e=t.text.split(\"\\n\");1===e.length?a.push([t.type,t.text]):(a.push([t.type,e.shift()]),e.forEach(function(e){i.push(a),(a=[]).push([t.type,e])}))}),i.push(a);var s=[];return 0<r.lineoffset&&s.push(\"counter-reset: enlighter \"+(parseInt(r.lineoffset)-1)),De(\"div\",{className:\"enlighter\",style:s.join(\";\")},i.map(function(e,t){return De(\"div\",{className:n(t+1)?\"enlighter-special\":\"\"},De(\"div\",null,e.map(function(e){return De(\"span\",{className:\"enlighter-\"+e[0]},e[1])})))}))}function Ze(e){var t=[];e.name&&t.push(\"enlighter-\"+e.name),e.className&&(\"string\"==typeof e.className?t.push(e.className):t.push.apply(t,f(e.className)));for(var r=arguments.length,n=new Array(1<r?r-1:0),i=1;i<r;i++)n[i-1]=arguments[i];return De.apply(ze,[\"div\",{className:t.join(\" \")}].concat(n))}function Me(e){var t=[\"enlighter-btn\"];return e.name&&t.push(\"enlighter-btn-\"+e.name),De(\"div\",{className:t.join(\" \"),onClick:e.onClick,title:e.tooltip},e.text||null)}function Pe(){_e().open(\"https://enlighterjs.org\")}var Ue=Object.freeze({__proto__:null,raw:function(e){return De(Me,{name:\"raw\",tooltip:\"Plain text\",onClick:function(){e.toggleClass(\"enlighter-show-rawcode\")}})},copy:function(e){return De(Me,{name:\"copy\",tooltip:\"Copy to clipboard\",onClick:function(){!function(e){var t=Se(),r=_e(),n=De(\"pre\",{className:\"enlighter-clipboard\"},e);t.body.appendChild(n);try{var i=t.createRange();i.selectNodeContents(n);var a=r.getSelection();a.removeAllRanges(),a.addRange(i)}catch(e){return}var s=function(){try{return t.execCommand(\"copy\")}catch(e){return!1}}();r.getSelection().removeAllRanges(),Ae(n)}(e.getRawCode())}})},window:function(r){var n=_e();return De(Me,{name:\"window\",tooltip:\"Open code in new window\",onClick:function(){var e=n.open(\"\",\"\",\"width=\"+n.screen.width/2+\", height=\"+n.screen.height/2+\", menubar=no, titlebar=no, toolbar=no, top=100, left=100, scrollbars=yes, status=no\"),t=r.getRawCode().replace(/&/g,\"&amp;\").replace(/</g,\"&lt;\").replace(/>/g,\"&gt;\");e.document.body.innerHTML=\"<pre>\"+t+\"</pre>\",e.document.title=\"Sourcecode | EnlighterJS Syntax Highlighter\"}})},website:function(){return De(Me,{name:\"website\",tooltip:\"EnlighterJS 3 Syntax Highlighter\",onClick:Pe})},collapse:function(e){return De(Me,{name:\"collapse\",tooltip:\"Expand\",onClick:function(){e.toggleClass(\"enlighter-collapse-full\")}})}});function Ge(t){var e=function(e){for(var t,r=[],n=/{BTN_([A-Z_]+)}/g;null!=(t=n.exec(e));)r.push(t[1].toLowerCase());return r}(t.layout).map(function(e){return Ue[e]?De(Ue[e],{getRawCode:t.getRawCode,toggleClass:t.toggleClass}):null}).filter(function(e){return null!==e});return De(Ze,{name:\"toolbar-\"+t.name,className:\"enlighter-toolbar\"},e)}function He(e,t){return De(\"div\",{className:\"enlighter-raw\"},t)}function Ve(e){var t=null,r=e[0].params,n=[\"enlighter-default\",\"enlighter-v-standard\",\"enlighter-t-\"+e[0].params.theme];function i(e){Re(t,e)}function a(){return e[0].code}return!0===r.linehover&&n.push(\"enlighter-hover\"),!0===r.linenumbers&&n.push(\"enlighter-linenumbers\"),\"scroll\"===r.textOverflow&&n.push(\"enlighter-overflow-scroll\"),!0===r.collapse&&n.push(\"enlighter-collapse\"),0<r.cssClasses.length&&n.push.apply(n,f(r.cssClasses)),t=De(Ze,{className:n},De(Ge,{name:\"top\",layout:r.toolbarTop,toggleClass:i,getRawCode:a}),De(Be,{tokens:e[0].tokens,options:e[0].params}),De(He,null,e[0].code),De(Ge,{name:\"bottom\",layout:r.toolbarBottom,toggleClass:i,getRawCode:a})),r.rawcodeDbclick&&t.on(\"dblclick\",function(){i(\"enlighter-show-rawcode\")}),t}function Je(e){return De(\"span\",{className:\"enlighter\"},e.tokens.map(function(e){return De(\"span\",{className:\"enlighter-\"+e.type},e.text)}))}function Xe(r){var n=0,i=[];return i=r.dataset.map(function(e,t){return De(Me,{onClick:function(){return e=t,Oe(i[n],\"enlighter-active\"),$e(i[e],\"enlighter-active\"),n=e,void r.onChange(e);var e},text:e.params.title||e.params.language})}),$e(i[0],\"enlighter-active\"),De(Ze,{name:\"codegroup-switch\"},i)}var Ye=Object.freeze({__proto__:null,standard:Ve,inline:function(e){var t=e[0].params,r=[\"enlighter-default\",\"enlighter-v-inline\",\"enlighter-t-\"+t.theme];return 0<t.cssClasses.length&&r.push.apply(r,f(t.cssClasses)),De(Ze,{className:r},De(Je,{tokens:e[0].tokens,options:t}))},codegroup:function(e){var t,r=null,n=e[0].params,i=0,a=[\"enlighter-default\",\"enlighter-v-codegroup\",\"enlighter-t-\"+n.theme];function s(e){Re(r,e)}function o(){return e[i].code}function l(e){Ee(t[i],!1),Ee(t[e],!0),i=e}return!0===n.linehover&&a.push(\"enlighter-hover\"),!0===n.linenumbers&&a.push(\"enlighter-linenumbers\"),\"scroll\"===n.textOverflow&&a.push(\"enlighter-overflow-scroll\"),!0===n.collapse&&a.push(\"enlighter-collapse\"),0<n.cssClasses.length&&a.push.apply(a,f(n.cssClasses)),t=e.map(function(e){return De(\"div\",{style:\"display:none\"},De(Be,{tokens:e.tokens,options:e.params}),De(He,null,e.code))}),l(0),r=De(Ze,{className:a},De(Xe,{onChange:l,dataset:e}),De(Ze,{name:\"codegroup-wrapper\"},De(Ge,{name:\"top\",layout:n.toolbarTop,toggleClass:s,getRawCode:o}),t,De(Ge,{name:\"bottom\",layout:n.toolbarBottom,toggleClass:s,getRawCode:o}))),n.rawcodeDbclick&&r.on(\"dblclick\",function(){s(\"enlighter-show-rawcode\")}),r}});function Qe(e){var t;return(t=((t=e[0].params.layout)||\"\").toLowerCase(),Ye[t]?Ye[t]:Ve)(e.map(function(e){var t,r,n,i=e.code,a=e.params;if(\"string\"!=typeof i)throw new TypeError(\"EnlighterJS Engine requires string input\");return{tokens:(t=a.language,r=c.language||null,n=we(t)||we(r)||\"generic\",xe[n]||(xe[n]=new he[n]),xe[n]).analyze(i),params:a,code:i}}))}function Ke(i,t){function a(e){return function(){for(var e=arguments.length,t=new Array(e),r=0;r<e;r++)t[r]=arguments[r];for(var n=t.pop(),i=0;i<t.length;i++){var a=t[i];if(null!=a)return a}return n}(t[e],c[e],null)}function e(e,t){var r=qe(i,\"enlighter-\"+e),n=a(e);if(!(r&&0<r.length))return n;switch(t){case\"boolean\":return\"true\"===(r=r.toLowerCase().trim())||\"false\"!==r&&n;case\"int\":return r=parseInt(r),isNaN(r)?n:r;default:return r}}var r=a(\"cssClasses\")||\"\";!0===a(\"retainCssClasses\")&&(r+=\" \"+(Ie(i,\"class\")||\"\"));var n=r.replace(/\\s+/g,\" \").trim().split(\" \");return{language:e(\"language\"),theme:e(\"theme\"),layout:e(\"layout\"),title:e(\"title\"),highlight:e(\"highlight\"),linenumbers:e(\"linenumbers\",\"boolean\"),lineoffset:e(\"lineoffset\",\"int\"),indent:a(\"indent\"),ampersandCleanup:a(\"ampersandCleanup\"),linehover:a(\"linehover\"),rawcodeDbclick:a(\"rawcodeDbclick\"),textOverflow:a(\"textOverflow\"),collapse:a(\"collapse\"),cssClasses:n,toolbarTop:a(\"toolbarTop\"),toolbarBottom:a(\"toolbarBottom\"),toolbarHeader:a(\"toolbarHeader\")}}var et=[];function tt(e){var t=function(e){for(var t=0;t<et.length;t++)for(var r=0;r<et[t].elements.length;r++)if(et[t].elements[r]===e)return t;return!1}(e);if(!1===t)return!1;var r=et.splice(t,1);return Ae(r[0].wrapper),r[0].elements.map(function(e){return Oe(e,\"enlighter-origin\")}),!0}function rt(e){var t,r,n=1<arguments.length&&void 0!==arguments[1]?arguments[1]:{};try{if(Array.isArray(e)||(e=[e]),0===e.length)return!1;if(!1===n)return tt(e[0]);if(Te(e[0],\"enlighter-origin\"))return!1;var i=Qe(e.map(function(e){var t=Ke(e,n),r=function(e,t){var r=e.innerHTML||\"\";r=(r=r.replace(/(^\\s*\\n|\\n\\s*$)/gi,\"\")).replace(/&lt;/gim,\"<\").replace(/&gt;/gim,\">\").replace(/&nbsp;/gim,\" \"),!0===t.ampersandCleanup&&(r=r.replace(/&amp;/gim,\"&\"));var n=t.indent;return!1!==n&&-1<n&&(r=r.replace(/(\\t*)/gim,function(e,t){return new Array(n*t.length+1).join(\" \")})),r}(e,t);return $e(e,\"enlighter-origin\"),{element:e,code:r,params:t}}));return We(e[0],i),t=e,r=i,et.push({elements:t,wrapper:r}),!0}catch(e){return console.error(\"EnlighterJS Internal Error:\",e),!1}}return e.enlight=rt,e.init=function(){var e,t=0<arguments.length&&void 0!==arguments[0]?arguments[0]:\"pre.ejs\",r=1<arguments.length&&void 0!==arguments[1]?arguments[1]:\"code.ejs\",n=3<arguments.length&&void 0!==arguments[3]?arguments[3]:{};e=2<arguments.length&&void 0!==arguments[2]?arguments[2]:null,Object.assign(c,e||{});for(var i=Le(t),a=Le(r),s=function(e){for(var t={},r=[],n=0;n<e.length;n++){var i=qe(e[n],\"enlighter-group\");i?(t[i]||(t[i]=[]),t[i].push(e[n])):r.push(e[n])}return{standalone:r,groups:Object.keys(t).map(function(e){return t[e]})}}(i),o=s.standalone,l=s.groups,g=0;g<o.length;g++)rt(o[g],{layout:n.block||\"standard\"});for(var u=0;u<l.length;u++)rt(l[u],{layout:n.codegroup||\"codegroup\"});for(var p=0;p<a.length;p++)rt(a[p],{layout:n.inline||\"inline\"})},e.version=\"3.4.0\",e}({});\n",
       "!function(n){\"function\"==typeof n&&n.fn&&(n.fn.enlight=function(n){return n=!0===(n=void 0===n?{}:n)?{}:n,this.each(function(){EnlighterJS.enlight(this,n)})})}(window.jQuery);</script>"
      ],
      "text/plain": [
       "<IPython.core.display.HTML object>"
      ]
     },
     "metadata": {},
     "output_type": "display_data"
    },
    {
     "data": {
      "text/html": [
       "<style>/*! EnlighterJS Syntax Highlighter 3.4.0 | Mozilla Public License 2.0 | https://enlighterjs.org */\n",
       ".enlighter-tooltip{z-index:100}.enlighter-default{font-family:\"Source Code Pro\",\"Liberation Mono\",\"Courier New\",Courier,monospace;font-size:12px;line-height:1.35em;overflow:hidden;white-space:pre-wrap;word-wrap:break-word;margin:0 0 20px 0;padding:0;position:relative;text-align:left;direction:ltr}.enlighter-default .enlighter-special:hover{background-color:#f4f8fc}.enlighter-default .enlighter-raw{display:none;min-width:100%;line-height:inherit;font-size:1em;font-family:inherit;margin:0;padding:0;white-space:pre-wrap;word-wrap:break-word;border:none;box-shadow:none}.enlighter-default:hover .enlighter-toolbar{display:block}.enlighter-default .enlighter-btn{display:inline-block;margin:0 5px 0 5px;padding:3px 5px 3px 5px;border:solid 1px #333;background-color:#f0f0f0;cursor:pointer;font-family:inherit}.enlighter-default .enlighter-toolbar .enlighter-btn-raw{background-image:url(data:image/svg+xml,%3C%3Fxml%20version%3D%221.0%22%20encoding%3D%22utf-8%22%3F%3E%0D%0A%3C!DOCTYPE%20svg%20PUBLIC%20%22-%2F%2FW3C%2F%2FDTD%20SVG%201.1%2F%2FEN%22%20%22http%3A%2F%2Fwww.w3.org%2FGraphics%2FSVG%2F1.1%2FDTD%2Fsvg11.dtd%22%3E%0D%0A%3Csvg%20version%3D%221.1%22%20id%3D%22Ebene_2%22%20xmlns%3D%22http%3A%2F%2Fwww.w3.org%2F2000%2Fsvg%22%20xmlns%3Axlink%3D%22http%3A%2F%2Fwww.w3.org%2F1999%2Fxlink%22%20x%3D%220px%22%20y%3D%220px%22%0D%0A%09%20width%3D%2246px%22%20height%3D%2246px%22%20viewBox%3D%220%200%2046%2046%22%20enable-background%3D%22new%200%200%2046%2046%22%20xml%3Aspace%3D%22preserve%22%3E%0D%0A%3Cg%3E%0D%0A%09%3Cpath%20d%3D%22M19.436%2C36.875L6.568%2C25.002v-3.863L19.436%2C9.267v5.041l-9.583%2C8.668v0.188l9.583%2C8.669V36.875z%22%2F%3E%0D%0A%09%3Cpath%20d%3D%22M26.343%2C36.875v-5.041l9.583-8.669v-0.188l-9.583-8.668V9.267l12.868%2C11.872v3.863L26.343%2C36.875z%22%2F%3E%0D%0A%3C%2Fg%3E%0D%0A%3C%2Fsvg%3E%0D%0A)}.enlighter-default .enlighter-toolbar .enlighter-btn-copy{background-image:url(data:image/svg+xml,%3C%3Fxml%20version%3D%221.0%22%20encoding%3D%22utf-8%22%3F%3E%0D%0A%3C!DOCTYPE%20svg%20PUBLIC%20%22-%2F%2FW3C%2F%2FDTD%20SVG%201.1%2F%2FEN%22%20%22http%3A%2F%2Fwww.w3.org%2FGraphics%2FSVG%2F1.1%2FDTD%2Fsvg11.dtd%22%3E%0D%0A%3Csvg%20version%3D%221.1%22%20id%3D%22Ebene_2%22%20xmlns%3D%22http%3A%2F%2Fwww.w3.org%2F2000%2Fsvg%22%20xmlns%3Axlink%3D%22http%3A%2F%2Fwww.w3.org%2F1999%2Fxlink%22%20x%3D%220px%22%20y%3D%220px%22%0D%0A%09%20width%3D%2246px%22%20height%3D%2246px%22%20viewBox%3D%220%200%2046%2046%22%20enable-background%3D%22new%200%200%2046%2046%22%20xml%3Aspace%3D%22preserve%22%3E%0D%0A%3Cline%20fill%3D%22none%22%20stroke%3D%22%23000000%22%20stroke-width%3D%224%22%20stroke-miterlimit%3D%2210%22%20x1%3D%2253.75%22%20y1%3D%2239.353%22%20x2%3D%2286.375%22%20y2%3D%2239.353%22%2F%3E%0D%0A%3Cline%20fill%3D%22none%22%20stroke%3D%22%23000000%22%20stroke-width%3D%224%22%20stroke-miterlimit%3D%2210%22%20x1%3D%2251.711%22%20y1%3D%2230.534%22%20x2%3D%2284.336%22%20y2%3D%2230.534%22%2F%3E%0D%0A%3Crect%20x%3D%228.932%22%20y%3D%227.334%22%20fill%3D%22%23FFFFFF%22%20stroke%3D%22%23000000%22%20stroke-width%3D%223%22%20stroke-miterlimit%3D%2210%22%20width%3D%2221.097%22%20height%3D%2224.952%22%2F%3E%0D%0A%3Crect%20x%3D%2218.942%22%20y%3D%2215.424%22%20fill%3D%22%23FFFFFF%22%20stroke%3D%22%23000000%22%20stroke-width%3D%223%22%20stroke-miterlimit%3D%2210%22%20width%3D%2221.096%22%20height%3D%2224.953%22%2F%3E%0D%0A%3C%2Fsvg%3E%0D%0A)}.enlighter-default .enlighter-toolbar .enlighter-btn-window{background-image:url(data:image/svg+xml,%3C%3Fxml%20version%3D%221.0%22%20encoding%3D%22utf-8%22%3F%3E%0D%0A%3C!DOCTYPE%20svg%20PUBLIC%20%22-%2F%2FW3C%2F%2FDTD%20SVG%201.1%2F%2FEN%22%20%22http%3A%2F%2Fwww.w3.org%2FGraphics%2FSVG%2F1.1%2FDTD%2Fsvg11.dtd%22%3E%0D%0A%3Csvg%20version%3D%221.1%22%20id%3D%22Ebene_2%22%20xmlns%3D%22http%3A%2F%2Fwww.w3.org%2F2000%2Fsvg%22%20xmlns%3Axlink%3D%22http%3A%2F%2Fwww.w3.org%2F1999%2Fxlink%22%20x%3D%220px%22%20y%3D%220px%22%0D%0A%09%20width%3D%2246px%22%20height%3D%2246px%22%20viewBox%3D%220%200%2046%2046%22%20enable-background%3D%22new%200%200%2046%2046%22%20xml%3Aspace%3D%22preserve%22%3E%0D%0A%3Cline%20fill%3D%22none%22%20stroke%3D%22%23000000%22%20stroke-width%3D%224%22%20stroke-miterlimit%3D%2210%22%20x1%3D%227.125%22%20y1%3D%229.25%22%20x2%3D%2239.75%22%20y2%3D%229.25%22%2F%3E%0D%0A%3Cline%20fill%3D%22none%22%20stroke%3D%22%23000000%22%20stroke-width%3D%224%22%20stroke-miterlimit%3D%2210%22%20x1%3D%227.125%22%20y1%3D%2218.167%22%20x2%3D%2239.75%22%20y2%3D%2218.167%22%2F%3E%0D%0A%3Cline%20fill%3D%22none%22%20stroke%3D%22%23000000%22%20stroke-width%3D%224%22%20stroke-miterlimit%3D%2210%22%20x1%3D%227.125%22%20y1%3D%2227.083%22%20x2%3D%2239.75%22%20y2%3D%2227.083%22%2F%3E%0D%0A%3Cline%20fill%3D%22none%22%20stroke%3D%22%23000000%22%20stroke-width%3D%224%22%20stroke-miterlimit%3D%2210%22%20x1%3D%227.125%22%20y1%3D%2236%22%20x2%3D%2229.809%22%20y2%3D%2236%22%2F%3E%0D%0A%3C%2Fsvg%3E%0D%0A)}.enlighter-default .enlighter-toolbar .enlighter-btn-website{background-image:url(data:image/svg+xml,%3C%3Fxml%20version%3D%221.0%22%20encoding%3D%22utf-8%22%3F%3E%0D%0A%3C!DOCTYPE%20svg%20PUBLIC%20%22-%2F%2FW3C%2F%2FDTD%20SVG%201.1%2F%2FEN%22%20%22http%3A%2F%2Fwww.w3.org%2FGraphics%2FSVG%2F1.1%2FDTD%2Fsvg11.dtd%22%3E%0D%0A%3Csvg%20version%3D%221.1%22%20id%3D%22E%22%20xmlns%3D%22http%3A%2F%2Fwww.w3.org%2F2000%2Fsvg%22%20xmlns%3Axlink%3D%22http%3A%2F%2Fwww.w3.org%2F1999%2Fxlink%22%20x%3D%220px%22%20y%3D%220px%22%0D%0A%09%20width%3D%2246px%22%20height%3D%2246px%22%20viewBox%3D%220%200%2046%2046%22%20enable-background%3D%22new%200%200%2046%2046%22%20xml%3Aspace%3D%22preserve%22%3E%0D%0A%3Cg%3E%0D%0A%09%3Cpath%20fill%3D%22%23202F65%22%20d%3D%22M32.48%2C25.614H19.64l-4.933%2C9.826l17.746%2C0.037l-6.173%2C5.358L8.167%2C40.912L16.29%2C6.055h22.974l-5.734%2C5.354%0D%0A%09%09l-13.306-0.027l0.672%2C8.797h12.841L32.48%2C25.614z%22%2F%3E%0D%0A%3C%2Fg%3E%0D%0A%3C%2Fsvg%3E%0D%0A)}.enlighter-origin{display:none!important}.enlighter-clipboard{position:absolute;left:0;bottom:0;width:1px;height:1px;overflow:hidden}.enlighter-v-inline{display:inline-block;overflow:inherit;margin:0}.enlighter-v-standard{display:block}.enlighter-v-codegroup{display:block}.enlighter-v-codegroup .enlighter-codegroup-wrapper{position:relative}div.enlighter{display:table;width:100%;border-collapse:collapse;border-spacing:0;empty-cells:show;min-width:100%;font-size:1em;margin:0;padding:0;text-indent:0;counter-reset:enlighter 0}div.enlighter>div{display:table-row;margin:0;border:solid 0 #fff;list-style:none;font-size:inherit;line-height:1.15em;min-height:14px}div.enlighter>div>div{display:table-cell;padding-left:10px}div.enlighter>div>div::before{content:\" \"}span.enlighter{display:inline-block;padding:3px 5px 1px 5px;margin:0 2px 0 2px}.enlighter span{margin:0;padding:0;line-height:inherit;font-size:1em;font-family:inherit}.enlighter-linenumbers div.enlighter>div::before{white-space:nowrap;display:block;display:table-cell;width:45px;min-width:45px;counter-increment:enlighter;content:counter(enlighter,decimal) \".\";text-align:right;padding-right:8px}.enlighter-toolbar{display:none;position:absolute;right:10px;top:10px;z-index:10}.enlighter-toolbar-bottom{top:unset;bottom:0}.enlighter-overflow-scroll.enlighter-v-standard{overflow-x:auto;word-wrap:normal!important}.enlighter-overflow-scroll.enlighter-v-codegroup .enlighter-codegroup-wrapper{overflow-x:auto;word-wrap:normal!important}.enlighter-overflow-scroll.enlighter-v-codegroup .enlighter>div>div,.enlighter-overflow-scroll.enlighter-v-standard .enlighter>div>div{white-space:pre!important}.enlighter-overflow-scroll.enlighter-v-codegroup .enlighter-raw,.enlighter-overflow-scroll.enlighter-v-standard .enlighter-raw{white-space:pre!important}.enlighter-collapse.enlighter-v-standard{overflow-y:auto;max-height:500px}.enlighter-collapse.enlighter-v-codegroup .enlighter-codegroup-wrapper{overflow-y:auto;max-height:500px}.enlighter-collapse.enlighter-collapse-full.enlighter-v-standard{max-height:none}.enlighter-collapse.enlighter-collapse-full.enlighter-v-codegroup .enlighter-codegroup-wrapper{max-height:none}.enlighter-show-rawcode .enlighter-raw{display:block}.enlighter-show-rawcode .enlighter{display:none!important}\n",
       ".enlighter-t-enlighter{color:#939393;border-radius:8px;border:solid 1px #e0e0e0}.enlighter-t-enlighter .enlighter-btn{border-radius:3px;background-color:#fff;color:#717171;font-size:1em;padding:0;border:1px solid #e0e0e0;margin:0 0 0 8px;text-decoration:none;width:23px;height:23px;background-position:0 0;background-size:contain}.enlighter-t-enlighter .enlighter-btn:hover{border-color:#c9c9c9}.enlighter-t-enlighter .enlighter-btn:after{content:''}.enlighter-t-enlighter.enlighter-hover.enlighter-linenumbers div.enlighter>div:hover{color:#444;background-color:#fffcd3}.enlighter-t-enlighter.enlighter-hover div.enlighter>div:hover{color:#444;background-color:#fffcd3}.enlighter-t-enlighter .enlighter-raw{font-size:1em;color:#000;background-color:#f9f9f9;border-radius:8px;line-height:1.4em;padding:0 5px 0 60px}.enlighter-t-enlighter div.enlighter>div{border:solid 0 #fff;line-height:1.35em;color:#aaa}.enlighter-t-enlighter div.enlighter>div:FIRST-CHILD{border-radius:8px 8px 0 0}.enlighter-t-enlighter div.enlighter>div:LAST-CHILD{border-radius:0 0 8px 8px}.enlighter-t-enlighter div.enlighter>div.enlighter-special{background-color:#fdf5f0}.enlighter-t-enlighter.enlighter-linenumbers div.enlighter>div::before{border-right:solid 1px #e0e0e0;background-color:#f9f9f9}.enlighter-t-enlighter.enlighter-linenumbers div.enlighter>div:FIRST-CHILD::before{border-radius:8px 0 0 0}.enlighter-t-enlighter.enlighter-linenumbers div.enlighter>div:LAST-CHILD::before{border-radius:0 0 0 8px}.enlighter-t-enlighter .enlighter-text{color:#000}.enlighter-t-enlighter .enlighter-c0{color:#99a}.enlighter-t-enlighter .enlighter-c1{color:#99a}.enlighter-t-enlighter .enlighter-c2{color:#99a}.enlighter-t-enlighter .enlighter-c9{color:#9baa8f}.enlighter-t-enlighter .enlighter-k0{color:#286491;font-weight:700}.enlighter-t-enlighter .enlighter-k1{color:#286491;font-weight:700}.enlighter-t-enlighter .enlighter-k2{color:#458;font-weight:700}.enlighter-t-enlighter .enlighter-k3{color:#4da0d2;background-color:#f0f0f0}.enlighter-t-enlighter .enlighter-k4{color:#4a9141;font-weight:700}.enlighter-t-enlighter .enlighter-k5{color:#286491;font-weight:700}.enlighter-t-enlighter .enlighter-k6{color:#286491;font-style:italic}.enlighter-t-enlighter .enlighter-k7{color:#286491;font-weight:700}.enlighter-t-enlighter .enlighter-k8{color:#4da0d2}.enlighter-t-enlighter .enlighter-k9{color:#990073;font-weight:700}.enlighter-t-enlighter .enlighter-k10{color:#4a9141;font-style:italic}.enlighter-t-enlighter .enlighter-k11{color:#99a}.enlighter-t-enlighter .enlighter-e0{color:#34068a;font-weight:700}.enlighter-t-enlighter .enlighter-e1{color:#34068a;font-weight:700}.enlighter-t-enlighter .enlighter-e2{color:#009926}.enlighter-t-enlighter .enlighter-e3{color:#286491}.enlighter-t-enlighter .enlighter-e4{color:#ff8c00;font-style:italic}.enlighter-t-enlighter .enlighter-s0{color:#d14}.enlighter-t-enlighter .enlighter-s1{color:#d14}.enlighter-t-enlighter .enlighter-s2{color:#d14}.enlighter-t-enlighter .enlighter-s3{color:#737383}.enlighter-t-enlighter .enlighter-s4{color:#ff8c00;font-weight:700}.enlighter-t-enlighter .enlighter-s5{color:#d14;font-style:italic}.enlighter-t-enlighter .enlighter-n0{color:#099}.enlighter-t-enlighter .enlighter-n1{color:#099}.enlighter-t-enlighter .enlighter-n2{color:#099;font-style:italic}.enlighter-t-enlighter .enlighter-n3{color:#099;font-style:italic}.enlighter-t-enlighter .enlighter-n4{color:#099;font-style:italic}.enlighter-t-enlighter .enlighter-n5{color:#099;text-decoration:underline}.enlighter-t-enlighter .enlighter-m0{color:#0086b3}.enlighter-t-enlighter .enlighter-m1{color:#0086b3}.enlighter-t-enlighter .enlighter-m2{color:#0086b3}.enlighter-t-enlighter .enlighter-m3{color:#0086b3}.enlighter-t-enlighter .enlighter-g0{color:#777}.enlighter-t-enlighter .enlighter-g1{color:#777}.enlighter-t-enlighter .enlighter-t0{color:#777}.enlighter-t-enlighter .enlighter-t1{color:#d14;font-weight:700}.enlighter-t-enlighter .enlighter-t2{color:#990073;font-weight:700}.enlighter-t-enlighter .enlighter-t3{color:#0086b3}.enlighter-t-enlighter .enlighter-t4{color:#009926}.enlighter-t-enlighter .enlighter-t5{color:#009926}.enlighter-t-enlighter .enlighter-t6{color:#d14}.enlighter-t-enlighter .enlighter-t7{color:#535353;font-weight:700}.enlighter-t-enlighter .enlighter-t8{color:#777;background-color:#f0f0f0;font-style:italic}.enlighter-t-enlighter .enlighter-x1{color:#286491;font-weight:700}.enlighter-t-enlighter .enlighter-x2{color:#4da0d2}.enlighter-t-enlighter .enlighter-x10{color:#000;font-weight:700}.enlighter-t-enlighter .enlighter-x11{color:#286491;font-weight:700}.enlighter-t-enlighter .enlighter-x12{color:#286491;text-decoration:underline}.enlighter-t-enlighter .enlighter-x13{color:#0086b3}.enlighter-t-enlighter .enlighter-x14{color:#099;font-style:italic}.enlighter-t-enlighter .enlighter-x15{color:#990073;font-style:italic}.enlighter-t-enlighter.enlighter-v-inline{border-radius:3px;background-color:#fafafa}.enlighter-t-enlighter.enlighter-v-codegroup .enlighter,.enlighter-t-enlighter.enlighter-v-codegroup .enlighter-raw{border-top-left-radius:0;border-top-right-radius:0}.enlighter-t-enlighter.enlighter-v-codegroup .enlighter div:first-child{border-radius:0}.enlighter-t-enlighter.enlighter-v-codegroup .enlighter-codegroup-wrapper{position:relative}.enlighter-t-enlighter.enlighter-v-codegroup .enlighter-codegroup-switch{border-radius:8px 8px 0 0;background-color:#f9f9f9;border-bottom:1px solid #e0e0e0;padding:5px 5px 5px 45px}.enlighter-t-enlighter.enlighter-v-codegroup .enlighter-codegroup-switch .enlighter-btn{padding:3px 10px 3px 10px;border-radius:4px;border:1px solid #e0e0e0;font-size:1em;color:#000;background-color:transparent;width:auto}.enlighter-t-enlighter.enlighter-v-codegroup .enlighter-codegroup-switch .enlighter-btn.enlighter-active{background-color:#e5e5e5;color:#000;border-color:#c9c9c9}\n",
       ".enlighter-t-beyond{color:#333;background-color:#f7f7fa;border-radius:5px;border:solid 2px #e2e2e8;padding:10px 10px 10px 5px}.enlighter-t-beyond .enlighter-btn{border-radius:3px;background-color:#fff;color:#717171;padding:0;border:1px solid #e0e0e0;margin:0 0 0 8px;width:23px;height:23px;background-position:0 0;background-size:contain;font-family:\"Open Sans\",Arial,Verdana,sans-serif}.enlighter-t-beyond .enlighter-btn:hover{border-color:#c9c9c9}.enlighter-t-beyond .enlighter-btn:after{content:''}.enlighter-t-beyond.enlighter-hover div.enlighter>div:hover{color:#444;background-color:#fff}.enlighter-t-beyond.enlighter-hover div.enlighter>div:hover.enlighter-special{background-color:#fffcd3;border:solid 0 #fff;color:#444}.enlighter-t-beyond .enlighter-raw{background-color:#f7f7fa;font-size:1.1em;color:#333;padding:10px 15px 10px 59px;line-height:1.7em}.enlighter-t-beyond div.enlighter>div{border:solid 0 #fff;padding:1px 5px 1px 10px;line-height:1.5em;color:#aaa;background-color:#f7f7fa}.enlighter-t-beyond div.enlighter>div:FIRST-CHILD{border-radius:8px 8px 0 0}.enlighter-t-beyond div.enlighter>div:LAST-CHILD{border-radius:0 0 8px 8px}.enlighter-t-beyond div.enlighter>div:AFTER{content:' '}.enlighter-t-beyond div.enlighter>div.enlighter-special{background-color:#fff}.enlighter-t-beyond.enlighter-linenumbers div.enlighter>div::before{padding:1px 5px 1px 14px;font-size:.9em}.enlighter-t-beyond.enlighter-linenumbers div.enlighter>div:FIRST-CHILD::before{border-radius:0 8px 0 0}.enlighter-t-beyond.enlighter-linenumbers div.enlighter>div:LAST-CHILD::before{border-radius:0 0 8px 0}.enlighter-t-beyond .enlighter span{font-size:1.1em}.enlighter-t-beyond .enlighter-text{color:#2f3235}.enlighter-t-beyond .enlighter-c0{color:#8181a1}.enlighter-t-beyond .enlighter-c1{color:#8181a1}.enlighter-t-beyond .enlighter-c2{color:#8181a1}.enlighter-t-beyond .enlighter-c9{color:#8181a1}.enlighter-t-beyond .enlighter-k0{color:#286491;font-weight:700}.enlighter-t-beyond .enlighter-k1{color:#286491;font-weight:700}.enlighter-t-beyond .enlighter-k2{color:#458;font-weight:700}.enlighter-t-beyond .enlighter-k3{color:#4da0d2;background-color:#f0f0f0}.enlighter-t-beyond .enlighter-k4{color:#4a9141;font-weight:700}.enlighter-t-beyond .enlighter-k5{color:#286491;font-weight:700}.enlighter-t-beyond .enlighter-k6{color:#286491;font-style:italic}.enlighter-t-beyond .enlighter-k7{color:#286491;font-weight:700}.enlighter-t-beyond .enlighter-k8{color:#4da0d2}.enlighter-t-beyond .enlighter-k9{color:#990073;font-weight:700}.enlighter-t-beyond .enlighter-k10{color:#4a9141;font-style:italic}.enlighter-t-beyond .enlighter-k11{color:#8181a1}.enlighter-t-beyond .enlighter-e0{color:#34068a;font-weight:700}.enlighter-t-beyond .enlighter-e1{color:#34068a;font-weight:700}.enlighter-t-beyond .enlighter-e2{color:#009926}.enlighter-t-beyond .enlighter-e3{color:#286491}.enlighter-t-beyond .enlighter-e4{color:#049595;font-style:italic}.enlighter-t-beyond .enlighter-s0{color:#d14}.enlighter-t-beyond .enlighter-s1{color:#d14}.enlighter-t-beyond .enlighter-s2{color:#d14}.enlighter-t-beyond .enlighter-s3{color:#737383}.enlighter-t-beyond .enlighter-s4{color:#049595;font-weight:700}.enlighter-t-beyond .enlighter-s5{color:#d14;font-style:italic}.enlighter-t-beyond .enlighter-n0{color:#099}.enlighter-t-beyond .enlighter-n1{color:#099}.enlighter-t-beyond .enlighter-n2{color:#099;font-style:italic}.enlighter-t-beyond .enlighter-n3{color:#099;font-style:italic}.enlighter-t-beyond .enlighter-n4{color:#099;font-style:italic}.enlighter-t-beyond .enlighter-n5{color:#099;text-decoration:underline}.enlighter-t-beyond .enlighter-m0{color:#0086b3}.enlighter-t-beyond .enlighter-m1{color:#0086b3}.enlighter-t-beyond .enlighter-m2{color:#0086b3}.enlighter-t-beyond .enlighter-m3{color:#0086b3}.enlighter-t-beyond .enlighter-g0{color:#777}.enlighter-t-beyond .enlighter-g1{color:#777}.enlighter-t-beyond .enlighter-t0{color:#777}.enlighter-t-beyond .enlighter-t1{color:#d14;font-weight:700}.enlighter-t-beyond .enlighter-t2{color:#990073;font-weight:700}.enlighter-t-beyond .enlighter-t3{color:#0086b3}.enlighter-t-beyond .enlighter-t4{color:#009926}.enlighter-t-beyond .enlighter-t5{color:#009926}.enlighter-t-beyond .enlighter-t6{color:#d14}.enlighter-t-beyond .enlighter-t7{color:#535353;font-weight:700}.enlighter-t-beyond .enlighter-t8{color:#777;background-color:#f0f0f0;font-style:italic}.enlighter-t-beyond .enlighter-x1{color:#286491;font-weight:700}.enlighter-t-beyond .enlighter-x2{color:#4da0d2}.enlighter-t-beyond .enlighter-x10{color:#000;font-weight:700}.enlighter-t-beyond .enlighter-x11{color:#286491;font-weight:700}.enlighter-t-beyond .enlighter-x12{color:#286491;text-decoration:underline}.enlighter-t-beyond .enlighter-x13{color:#0086b3}.enlighter-t-beyond .enlighter-x14{color:#099;font-style:italic}.enlighter-t-beyond .enlighter-x15{color:#990073;font-style:italic}.enlighter-t-beyond.enlighter-v-inline{border-radius:3px;background-color:#f7f7fa;border:dotted 1px #e2e2e8;padding:0}.enlighter-t-beyond.enlighter-v-codegroup{padding:0;border:none}.enlighter-t-beyond.enlighter-v-codegroup .enlighter-codegroup-wrapper{background-color:#f7f7fa;border-radius:5px;border:solid 2px #e2e2e8;padding:10px 10px 10px 5px}.enlighter-t-beyond.enlighter-v-codegroup .enlighter-codegroup-switch{background-color:#fff;padding:0 0 0 45px}.enlighter-t-beyond.enlighter-v-codegroup .enlighter-codegroup-switch .enlighter-btn{border:solid 2px #e2e2e8;border-radius:5px 5px 0 0;font-size:1em;color:#286491;font-weight:700;background-color:#fff;border-bottom:none;padding:3px 10px 3px 10px;width:auto}.enlighter-t-beyond.enlighter-v-codegroup .enlighter-codegroup-switch .enlighter-btn.enlighter-active{background-color:#e2e2e8;border-color:#d8d8dd;color:#505050;font-weight:700}\n",
       ".enlighter-t-classic{background-color:#fff;border:1px solid #e8e8e2}.enlighter-t-classic .enlighter-btn{background-color:#fff;color:#717171;font-size:1em;padding:0;border:1px solid #e0e0e0;margin:0 0 0 8px;text-decoration:none;width:23px;height:23px;background-position:0 0;background-size:contain;font-family:\"Open Sans\",Arial,Verdana,sans-serif}.enlighter-t-classic .enlighter-btn:hover{border-color:#c9c9c9}.enlighter-t-classic .enlighter-btn:after{content:''}.enlighter-t-classic.enlighter-hover div.enlighter>div:hover{background-color:#ddf0dd}.enlighter-t-classic .enlighter-raw{font-size:1.25em;color:#000;line-height:1.85em;padding:4px 5px 4px 58px}.enlighter-t-classic div.enlighter{line-height:1.7em}.enlighter-t-classic div.enlighter>div{padding:1px 5px 1px 14px;line-height:1.7em;color:#aaa}.enlighter-t-classic div.enlighter>div>div{border-left:solid 4px #52ce52}.enlighter-t-classic div.enlighter>div:FIRST-CHILD{padding-top:5px}.enlighter-t-classic div.enlighter>div:LAST-CHILD{padding-bottom:5px}.enlighter-t-classic div.enlighter>div:AFTER{content:' '}.enlighter-t-classic div.enlighter>div:nth-child(even){background-color:#f8f8f8}.enlighter-t-classic div.enlighter>div.enlighter-special{background-color:#edf9ec;border-left-color:#3fa03f}.enlighter-t-classic.enlighter-linenumbers div.enlighter>div::before{padding:1px 5px 1px 14px;color:#000;background-color:#f8f8f8;font-size:1.15em;width:55px;min-width:55px}.enlighter-t-classic .enlighter span{font-size:1.25em}.enlighter-t-classic .enlighter-text{color:#000}.enlighter-t-classic .enlighter-c0{color:#888}.enlighter-t-classic .enlighter-c1{color:#888}.enlighter-t-classic .enlighter-c2{color:#888}.enlighter-t-classic .enlighter-c9{color:#888}.enlighter-t-classic .enlighter-k0{color:#066da1;font-weight:700}.enlighter-t-classic .enlighter-k1{color:#066da1;font-weight:700}.enlighter-t-classic .enlighter-k2{color:#404247;font-weight:700}.enlighter-t-classic .enlighter-k3{color:#404247;background-color:#f0f0f0}.enlighter-t-classic .enlighter-k4{color:#404247;font-weight:700}.enlighter-t-classic .enlighter-k5{color:#404247;font-weight:700}.enlighter-t-classic .enlighter-k6{color:#066da1;font-style:italic}.enlighter-t-classic .enlighter-k7{color:#066da1;font-weight:700}.enlighter-t-classic .enlighter-k8{color:#404247}.enlighter-t-classic .enlighter-k9{color:#d53aa9;font-weight:700}.enlighter-t-classic .enlighter-k10{color:#404247;font-style:italic}.enlighter-t-classic .enlighter-k11{color:#888}.enlighter-t-classic .enlighter-e0{color:#d53aa9;font-weight:700}.enlighter-t-classic .enlighter-e1{color:#d53aa9;font-weight:700}.enlighter-t-classic .enlighter-e2{color:#009926}.enlighter-t-classic .enlighter-e3{color:#d53aa9}.enlighter-t-classic .enlighter-e4{color:#d53aa9;font-style:italic}.enlighter-t-classic .enlighter-s0{color:#2d47e6}.enlighter-t-classic .enlighter-s1{color:#2d47e6}.enlighter-t-classic .enlighter-s2{color:#2d47e6}.enlighter-t-classic .enlighter-s3{color:#2d47e6}.enlighter-t-classic .enlighter-s4{color:#2d47e6;font-weight:700}.enlighter-t-classic .enlighter-s5{color:#d53aa9;font-weight:700}.enlighter-t-classic .enlighter-n0{color:#d53aa9}.enlighter-t-classic .enlighter-n1{color:#d53aa9}.enlighter-t-classic .enlighter-n2{color:#d53aa9}.enlighter-t-classic .enlighter-n3{color:#d53aa9}.enlighter-t-classic .enlighter-n4{color:#d53aa9}.enlighter-t-classic .enlighter-n5{color:#d53aa9}.enlighter-t-classic .enlighter-m0{color:#404247}.enlighter-t-classic .enlighter-m1{color:#404247}.enlighter-t-classic .enlighter-m2{color:#404247}.enlighter-t-classic .enlighter-m3{color:#404247}.enlighter-t-classic .enlighter-g0{color:#444}.enlighter-t-classic .enlighter-g1{color:#444}.enlighter-t-classic .enlighter-t0{color:#444}.enlighter-t-classic .enlighter-t1{color:#d53aa9;font-weight:700}.enlighter-t-classic .enlighter-t2{color:#d53aa9;font-weight:700}.enlighter-t-classic .enlighter-t3{color:#066da1}.enlighter-t-classic .enlighter-t4{color:#009926}.enlighter-t-classic .enlighter-t5{color:#009926}.enlighter-t-classic .enlighter-t6{color:#d53aa9}.enlighter-t-classic .enlighter-t7{color:#444;font-weight:700}.enlighter-t-classic .enlighter-t8{color:#444;background-color:#f0f0f0;font-style:italic}.enlighter-t-classic .enlighter-x1{color:#066da1;font-weight:700}.enlighter-t-classic .enlighter-x2{color:#404247;font-weight:700}.enlighter-t-classic .enlighter-x10{color:#000;font-weight:700}.enlighter-t-classic .enlighter-x11{color:#286491;font-weight:700}.enlighter-t-classic .enlighter-x12{color:#286491;text-decoration:underline}.enlighter-t-classic .enlighter-x13{color:#0086b3}.enlighter-t-classic .enlighter-x14{color:#099;font-style:italic}.enlighter-t-classic .enlighter-x15{color:#990073;font-style:italic}.enlighter-t-classic.enlighter-v-inline{background-color:transparent;border:none}.enlighter-t-classic.enlighter-v-codegroup{display:block}.enlighter-t-classic.enlighter-v-codegroup .enlighter-codegroup-wrapper{position:relative}.enlighter-t-classic.enlighter-v-codegroup .enlighter-codegroup-switch{background-color:#f8f8f8;padding-left:45px}.enlighter-t-classic.enlighter-v-codegroup .enlighter-codegroup-switch .enlighter-btn{border:none;font-size:1.25em;line-height:2.1em;width:auto;height:auto;background-color:transparent;padding:5px 10px 5px 10px}.enlighter-t-classic.enlighter-v-codegroup .enlighter-codegroup-switch .enlighter-btn.enlighter-active{background-color:#52ce52;color:#f9f9f9;font-weight:700}\n",
       ".enlighter-t-godzilla{border-left:solid 6px #4a80b3;background-image:url(data:image/gif;base64,R0lGODlhHgAeAJEAAPLz9ezt7vf39wAAACwAAAAAHgAeAAACYYyPqXvi/wCccr5gY3Y1491Z4fRlI3Rem5ByaymurQBT8nuDuM57wA8MCodEQA2V8yRjm6OmZ3G6oKSlrWlFYqlaJffpNWUvxbL5J2WNHenZrL2mxd/znfjLrm/v/Kg+UwAAOw==);background-repeat:repeat;background-position:0 0}.enlighter-t-godzilla .enlighter-btn{border-radius:3px;background-color:#fff;color:#717171;font-size:1em;padding:0;border:1px solid #e0e0e0;margin:0 0 0 8px;text-decoration:none;width:23px;height:23px;background-position:0 0;background-size:contain}.enlighter-t-godzilla .enlighter-btn:hover{border-color:#c9c9c9}.enlighter-t-godzilla .enlighter-btn:after{content:''}.enlighter-t-godzilla.enlighter-hover div.enlighter>div:hover{background-color:#f0f0f1}.enlighter-t-godzilla .enlighter-raw{font-size:1.15em;line-height:1.6em;color:#2b333a;padding:4px 5px 4px 54px}.enlighter-t-godzilla div.enlighter>div{padding:1px 5px 1px 14px;line-height:1.35em;color:#9c9ea0}.enlighter-t-godzilla div.enlighter>div:FIRST-CHILD{padding-top:5px}.enlighter-t-godzilla div.enlighter>div:LAST-CHILD{padding-bottom:5px}.enlighter-t-godzilla div.enlighter>div:AFTER{content:' '}.enlighter-t-godzilla div.enlighter>div.enlighter-special{background-color:#fffcd3}.enlighter-t-godzilla.enlighter-linenumbers div.enlighter>div::before{padding:1px 5px 1px 14px;background-color:transparent;font-size:.9em}.enlighter-t-godzilla .enlighter span{font-size:1.15em}.enlighter-t-godzilla .enlighter-text{color:#2b333a}.enlighter-t-godzilla .enlighter-c0{color:#6b7c8b}.enlighter-t-godzilla .enlighter-c1{color:#6b7c8b}.enlighter-t-godzilla .enlighter-c2{color:#6b7c8b}.enlighter-t-godzilla .enlighter-c9{color:#5b7c9c}.enlighter-t-godzilla .enlighter-k0{color:#085789;font-weight:700}.enlighter-t-godzilla .enlighter-k1{color:#085789;font-weight:700}.enlighter-t-godzilla .enlighter-k2{color:#4284ae;font-weight:700}.enlighter-t-godzilla .enlighter-k3{color:#4284ae;background-color:#f0f0f0}.enlighter-t-godzilla .enlighter-k4{color:#4284ae;font-weight:700}.enlighter-t-godzilla .enlighter-k5{color:#085789;font-weight:700}.enlighter-t-godzilla .enlighter-k6{color:#085789;font-style:italic}.enlighter-t-godzilla .enlighter-k7{color:#085789;font-weight:700}.enlighter-t-godzilla .enlighter-k8{color:#4284ae}.enlighter-t-godzilla .enlighter-k9{color:#ae42a0;font-weight:700}.enlighter-t-godzilla .enlighter-k10{color:#ae42a0;font-style:italic}.enlighter-t-godzilla .enlighter-k11{color:#6b7c8b}.enlighter-t-godzilla .enlighter-e0{color:#085789;font-weight:700}.enlighter-t-godzilla .enlighter-e1{color:#085789;font-weight:700}.enlighter-t-godzilla .enlighter-e2{color:#085789}.enlighter-t-godzilla .enlighter-e3{color:#085789}.enlighter-t-godzilla .enlighter-e4{color:#d2901d}.enlighter-t-godzilla .enlighter-s0{color:#5e860f}.enlighter-t-godzilla .enlighter-s1{color:#5e860f}.enlighter-t-godzilla .enlighter-s2{color:#5e860f}.enlighter-t-godzilla .enlighter-s3{color:#5e860f}.enlighter-t-godzilla .enlighter-s4{color:#5e860f}.enlighter-t-godzilla .enlighter-s5{color:#5e860f}.enlighter-t-godzilla .enlighter-n0{color:#9b0d5c}.enlighter-t-godzilla .enlighter-n1{color:#9b0d5c}.enlighter-t-godzilla .enlighter-n2{color:#9b0d5c;font-style:italic}.enlighter-t-godzilla .enlighter-n3{color:#9b0d5c;font-style:italic}.enlighter-t-godzilla .enlighter-n4{color:#9b0d5c;font-style:italic}.enlighter-t-godzilla .enlighter-n5{color:#9b0d5c;text-decoration:underline}.enlighter-t-godzilla .enlighter-m0{color:#d0284a}.enlighter-t-godzilla .enlighter-m1{color:#d0284a}.enlighter-t-godzilla .enlighter-m2{color:#d0284a}.enlighter-t-godzilla .enlighter-m3{color:#d0284a}.enlighter-t-godzilla .enlighter-g0{color:#35434c}.enlighter-t-godzilla .enlighter-g1{color:#35434c}.enlighter-t-godzilla .enlighter-t0{color:#35434c}.enlighter-t-godzilla .enlighter-t1{color:#d0284a;font-weight:700}.enlighter-t-godzilla .enlighter-t2{color:#9b0d5c;font-weight:700}.enlighter-t-godzilla .enlighter-t3{color:#085789}.enlighter-t-godzilla .enlighter-t4{color:#085789}.enlighter-t-godzilla .enlighter-t5{color:#085789}.enlighter-t-godzilla .enlighter-t6{color:#d0284a}.enlighter-t-godzilla .enlighter-t7{color:#35434c;font-weight:700}.enlighter-t-godzilla .enlighter-t8{color:#35434c;background-color:#f0f0f0;font-style:italic}.enlighter-t-godzilla .enlighter-x1{color:#085789;font-weight:700}.enlighter-t-godzilla .enlighter-x2{color:#4284ae}.enlighter-t-godzilla .enlighter-x10{color:#35434c;font-weight:700}.enlighter-t-godzilla .enlighter-x11{color:#085789;font-weight:700}.enlighter-t-godzilla .enlighter-x12{color:#085789;text-decoration:underline}.enlighter-t-godzilla .enlighter-x13{color:#4284ae}.enlighter-t-godzilla .enlighter-x14{color:#4284ae;font-style:italic}.enlighter-t-godzilla .enlighter-x15{color:#9b0d5c;font-style:italic}.enlighter-t-godzilla.enlighter-v-inline{background-color:#f7f7f7;border:dotted 1px #e0e0e1;border-left:solid 2px #4a80b3}.enlighter-t-godzilla.enlighter-v-codegroup .enlighter-codegroup-switch{font-family:\"Open Sans\",Arial,Verdana,sans-serif;background-color:#4a80b3;padding:5px 5px 5px 5px}.enlighter-t-godzilla.enlighter-v-codegroup .enlighter-codegroup-switch .enlighter-btn{padding:3px 10px 3px 10px;border:none;background-color:transparent;line-height:1.7em;font-size:1.15em;color:#f0f0f0;width:auto}.enlighter-t-godzilla.enlighter-v-codegroup .enlighter-codegroup-switch .enlighter-btn.enlighter-active{background-color:#00417f}\n",
       ".enlighter-t-atomic{font-family:Inconsolata,Consolas,\"Source Code Pro\",\"Liberation Mono\",\"Courier New\",Courier,monospace;background-color:#272b33;font-size:12px;color:#939393}.enlighter-t-atomic .enlighter-toolbar{top:10px;right:10px}.enlighter-t-atomic .enlighter-btn{font-family:\"Open Sans\",Arial,Verdana,sans-serif;background-image:none;background-color:transparent;color:#939393;font-size:1.1em;padding:2px 8px 2px 8px;margin:0 5px 0 5px;border:solid 1px #383e49;border-radius:4px;background-color:#13151a}.enlighter-t-atomic .enlighter-btn:hover{background-color:#121518;color:#f0f0f0}.enlighter-t-atomic .enlighter-toolbar .enlighter-btn-raw{background-image:none}.enlighter-t-atomic .enlighter-toolbar .enlighter-btn-raw:after{content:'Raw'}.enlighter-t-atomic .enlighter-toolbar .enlighter-btn-copy{background-image:none}.enlighter-t-atomic .enlighter-toolbar .enlighter-btn-copy:after{content:'Copy'}.enlighter-t-atomic .enlighter-toolbar .enlighter-btn-window{background-image:none}.enlighter-t-atomic .enlighter-toolbar .enlighter-btn-window:after{content:'Extern'}.enlighter-t-atomic .enlighter-toolbar .enlighter-btn-website{background-image:none}.enlighter-t-atomic .enlighter-toolbar .enlighter-btn-website:after{content:'EnlighterJS'}.enlighter-t-atomic .enlighter-raw{font-size:1.4em;color:#cfd5e0;background-color:#272b33;line-height:1.85em;padding:4px 5px 4px 54px}.enlighter-t-atomic div.enlighter>div{padding:1px 5px 1px 14px;line-height:1.6em;color:#596174;background-color:#272b33}.enlighter-t-atomic div.enlighter>div:FIRST-CHILD{padding-top:5px}.enlighter-t-atomic div.enlighter>div:LAST-CHILD{padding-bottom:5px}.enlighter-t-atomic div.enlighter>div:AFTER{content:' '}.enlighter-t-atomic div.enlighter>div.enlighter-special{background-color:#392d3b}.enlighter-t-atomic.enlighter-linenumbers div.enlighter>div::before{padding:1px 5px 1px 14px;font-size:1.3em}.enlighter-t-atomic.enlighter-hover div.enlighter>div:hover{background-color:#2e353e}.enlighter-t-atomic .enlighter span{font-size:1.4em}.enlighter-t-atomic .enlighter-text{color:#cfd5e0}.enlighter-t-atomic .enlighter-c0{color:#6b7c8b}.enlighter-t-atomic .enlighter-c1{color:#6b7c8b}.enlighter-t-atomic .enlighter-c2{color:#6b7c8b}.enlighter-t-atomic .enlighter-c9{color:#5b7c9c}.enlighter-t-atomic .enlighter-k0{color:#d171dd;font-weight:700}.enlighter-t-atomic .enlighter-k1{color:#d171dd;font-weight:700}.enlighter-t-atomic .enlighter-k2{color:#d19252;border-bottom:dotted 1px #d19252}.enlighter-t-atomic .enlighter-k3{color:#4284ae}.enlighter-t-atomic .enlighter-k4{color:#4284ae;font-weight:700}.enlighter-t-atomic .enlighter-k5{color:#d171dd;font-weight:700}.enlighter-t-atomic .enlighter-k6{color:#d171dd;font-style:italic}.enlighter-t-atomic .enlighter-k7{color:#d171dd;font-weight:700}.enlighter-t-atomic .enlighter-k8{color:#4284ae}.enlighter-t-atomic .enlighter-k9{color:#fff}.enlighter-t-atomic .enlighter-k10{color:#4284ae;font-style:italic}.enlighter-t-atomic .enlighter-k11{color:#6b7c8b}.enlighter-t-atomic .enlighter-e0{color:#d171dd;font-weight:700}.enlighter-t-atomic .enlighter-e1{color:#d171dd;font-weight:700}.enlighter-t-atomic .enlighter-e2{color:#d19252}.enlighter-t-atomic .enlighter-e3{color:#ae42a0}.enlighter-t-atomic .enlighter-e4{color:#d2901d;font-style:italic}.enlighter-t-atomic .enlighter-s0{color:#7cc379}.enlighter-t-atomic .enlighter-s1{color:#7cc379}.enlighter-t-atomic .enlighter-s2{color:#7cc379}.enlighter-t-atomic .enlighter-s3{color:#7cc379}.enlighter-t-atomic .enlighter-s4{color:#7cc379;font-weight:700}.enlighter-t-atomic .enlighter-s5{color:#5e860f;font-style:italic}.enlighter-t-atomic .enlighter-n0{color:#d19a66}.enlighter-t-atomic .enlighter-n1{color:#d19a66}.enlighter-t-atomic .enlighter-n2{color:#d19a66}.enlighter-t-atomic .enlighter-n3{color:#d19a66}.enlighter-t-atomic .enlighter-n4{color:#d19a66}.enlighter-t-atomic .enlighter-n5{color:#d19a66}.enlighter-t-atomic .enlighter-m0{color:#4284ae}.enlighter-t-atomic .enlighter-m1{color:#4284ae}.enlighter-t-atomic .enlighter-m2{color:#4284ae}.enlighter-t-atomic .enlighter-m3{color:#4284ae}.enlighter-t-atomic .enlighter-g0{color:#6b7c8b;font-weight:700}.enlighter-t-atomic .enlighter-g1{color:#6b7c8b;font-weight:700}.enlighter-t-atomic .enlighter-t0{color:#6b7c8b}.enlighter-t-atomic .enlighter-t1{color:#9b0d5c;font-weight:700}.enlighter-t-atomic .enlighter-t2{color:#990073;font-weight:700}.enlighter-t-atomic .enlighter-t3{color:#d171dd}.enlighter-t-atomic .enlighter-t4{color:#4284ae}.enlighter-t-atomic .enlighter-t5{color:#4284ae}.enlighter-t-atomic .enlighter-t6{color:#9b0d5c}.enlighter-t-atomic .enlighter-t7{color:#6b7c8b;font-weight:700}.enlighter-t-atomic .enlighter-t8{color:#6b7c8b}.enlighter-t-atomic .enlighter-x1{color:#d171dd;font-weight:700}.enlighter-t-atomic .enlighter-x2{color:#d19252;border-bottom:dotted 1px #d19252}.enlighter-t-atomic .enlighter-x10{color:#d171dd;font-weight:700}.enlighter-t-atomic .enlighter-x11{color:#d171dd;font-weight:700}.enlighter-t-atomic .enlighter-x12{color:#d171dd;text-decoration:underline}.enlighter-t-atomic .enlighter-x13{color:#d19252;border-bottom:dotted 1px #d19252}.enlighter-t-atomic .enlighter-x14{color:#d19a66;font-style:italic}.enlighter-t-atomic .enlighter-x15{color:#9b0d5c;font-style:italic}.enlighter-t-atomic.enlighter-v-codegroup .enlighter-codegroup-wrapper{position:relative}.enlighter-t-atomic.enlighter-v-codegroup .enlighter-codegroup-switch{padding:5px 5px 0 45px;background-color:#121518}.enlighter-t-atomic.enlighter-v-codegroup .enlighter-codegroup-switch .enlighter-btn{padding:2px 8px 0 8px;border:none;background-color:transparent;line-height:2.1em;font-weight:700;color:#f0f0f0;border-radius:5px 5px 0 0;text-transform:lowercase}.enlighter-t-atomic.enlighter-v-codegroup .enlighter-codegroup-switch .enlighter-btn.enlighter-active{background-color:#272b33}\n",
       ".enlighter-t-droide{background-color:#f7f7f9;border:solid 1px #e0e0e0}.enlighter-t-droide .enlighter-btn{background-color:#fff;color:#717171;font-size:1em;padding:0;border:1px solid #e0e0e0;margin:0 0 0 8px;text-decoration:none;width:23px;height:23px;background-position:0 0;background-size:contain}.enlighter-t-droide .enlighter-btn:hover{background-color:#fff}.enlighter-t-droide .enlighter-btn:after{content:''}.enlighter-t-droide.enlighter-hover div.enlighter>div:hover{background-color:#fae9d9}.enlighter-t-droide .enlighter-raw{font-size:1.1em;color:#404141;line-height:1.5em;padding:4px 5px 4px 55px}.enlighter-t-droide div.enlighter>div{border:solid 0 #fff;padding:1px 5px 1px 14px;line-height:1.35em;color:#aaa}.enlighter-t-droide div.enlighter>div:FIRST-CHILD{padding-top:5px}.enlighter-t-droide div.enlighter>div:LAST-CHILD{padding-bottom:5px}.enlighter-t-droide div.enlighter>div:AFTER{content:' '}.enlighter-t-droide div.enlighter>div.enlighter-special{background-color:#fae9d9;border-left:solid 5px #e07c19}.enlighter-t-droide.enlighter-linenumbers div.enlighter>div::before{padding:1px 5px 1px 0;border-right:1px dashed #e0e0e0;font-size:.9em;color:#707070;background-color:#f7f7f9}.enlighter-t-droide .enlighter span{font-size:1.1em}.enlighter-t-droide .enlighter-text{color:#000}.enlighter-t-droide .enlighter-c0{color:#086b08}.enlighter-t-droide .enlighter-c1{color:#086b08}.enlighter-t-droide .enlighter-c2{color:#086b08}.enlighter-t-droide .enlighter-c9{color:#086b08}.enlighter-t-droide .enlighter-k0{color:#12217c;font-weight:700}.enlighter-t-droide .enlighter-k1{color:#12217c;font-weight:700}.enlighter-t-droide .enlighter-k2{color:#458;font-weight:700}.enlighter-t-droide .enlighter-k3{color:#6e0d6e}.enlighter-t-droide .enlighter-k4{color:#6e0d6e;font-weight:700}.enlighter-t-droide .enlighter-k5{color:#12217c;font-weight:700}.enlighter-t-droide .enlighter-k6{color:#12217c;font-style:italic}.enlighter-t-droide .enlighter-k7{color:#12217c;font-weight:700}.enlighter-t-droide .enlighter-k8{color:#458}.enlighter-t-droide .enlighter-k9{color:#990073;font-weight:700}.enlighter-t-droide .enlighter-k10{color:#6e0d6e;font-style:italic}.enlighter-t-droide .enlighter-k11{color:#086b08}.enlighter-t-droide .enlighter-e0{color:#34068a;font-weight:700}.enlighter-t-droide .enlighter-e1{color:#34068a;font-weight:700}.enlighter-t-droide .enlighter-e2{color:#009926}.enlighter-t-droide .enlighter-e3{color:#286491}.enlighter-t-droide .enlighter-e4{color:#ff8c00;font-style:italic}.enlighter-t-droide .enlighter-s0{color:#961414}.enlighter-t-droide .enlighter-s1{color:#961414}.enlighter-t-droide .enlighter-s2{color:#961414}.enlighter-t-droide .enlighter-s3{color:#961414}.enlighter-t-droide .enlighter-s4{color:#963f14;font-weight:700}.enlighter-t-droide .enlighter-s5{color:#961414;font-style:italic}.enlighter-t-droide .enlighter-n0{color:#099}.enlighter-t-droide .enlighter-n1{color:#099}.enlighter-t-droide .enlighter-n2{color:#099;font-style:italic}.enlighter-t-droide .enlighter-n3{color:#099;font-style:italic}.enlighter-t-droide .enlighter-n4{color:#099;font-style:italic}.enlighter-t-droide .enlighter-n5{color:#099;text-decoration:underline}.enlighter-t-droide .enlighter-m0{color:#000}.enlighter-t-droide .enlighter-m1{color:#000}.enlighter-t-droide .enlighter-m2{color:#000}.enlighter-t-droide .enlighter-m3{color:#000}.enlighter-t-droide .enlighter-g0{color:#12217c}.enlighter-t-droide .enlighter-g1{color:#12217c}.enlighter-t-droide .enlighter-t0{color:#777}.enlighter-t-droide .enlighter-t1{color:#961414;font-weight:700}.enlighter-t-droide .enlighter-t2{color:#990073;font-weight:700}.enlighter-t-droide .enlighter-t3{color:#458}.enlighter-t-droide .enlighter-t4{color:#6e0d6e}.enlighter-t-droide .enlighter-t5{color:#6e0d6e}.enlighter-t-droide .enlighter-t6{color:#961414}.enlighter-t-droide .enlighter-t7{color:#535353;font-weight:700}.enlighter-t-droide .enlighter-t8{color:#777;font-style:italic}.enlighter-t-droide .enlighter-x1{color:#12217c;font-weight:700}.enlighter-t-droide .enlighter-x2{color:#6e0d6e}.enlighter-t-droide .enlighter-x10{color:#12217c;font-weight:700}.enlighter-t-droide .enlighter-x11{color:#12217c;font-weight:700}.enlighter-t-droide .enlighter-x12{color:#458}.enlighter-t-droide .enlighter-x13{color:#099}.enlighter-t-droide .enlighter-x14{color:#099}.enlighter-t-droide .enlighter-x15{color:#990073;font-style:italic}.enlighter-t-droide.enlighter-v-codegroup{background-color:transparent;border:none}.enlighter-t-droide.enlighter-v-codegroup .enlighter-codegroup-wrapper{background-color:#f7f7f9;border:solid 1px #e0e0e0}.enlighter-t-droide.enlighter-v-codegroup .enlighter-codegroup-switch{padding-left:15px}.enlighter-t-droide.enlighter-v-codegroup .enlighter-codegroup-switch .enlighter-btn{border:solid 1px #e0e0e0;font-size:1em;color:#000;background-color:transparent;border-radius:0;border-bottom-width:0;padding:5px 10px 5px 10px;font-weight:700;width:auto;height:auto}.enlighter-t-droide.enlighter-v-codegroup .enlighter-codegroup-switch .enlighter-btn.enlighter-active{background-color:#f7f7f9;color:#000;border-color:#c9c9c9}\n",
       ".enlighter-t-minimal{border-top:solid 3px #e0e0e0;border-bottom:solid 3px #e0e0e0;background-color:transparent;padding:10px 0 10px 0}.enlighter-t-minimal .enlighter-btn{background-color:#fff;color:#717171;font-size:1em;padding:0;border:1px solid #e0e0e0;margin:0 0 0 8px;text-decoration:none;width:23px;height:23px;background-position:0 0;background-size:contain}.enlighter-t-minimal .enlighter-btn:after{content:''}.enlighter-t-minimal.enlighter-hover div.enlighter>div:hover{background-color:#f0f0f0}.enlighter-t-minimal .enlighter-raw{font-size:1.1em;line-height:1.75em;padding:13px 5px 15px 50px;color:#404141}.enlighter-t-minimal div.enlighter>div{border:solid 0 #fff;background-color:transparent;padding:1px 5px 1px 0;line-height:1.5em;color:#a0a0a0}.enlighter-t-minimal div.enlighter>div:FIRST-CHILD{padding-top:5px}.enlighter-t-minimal div.enlighter>div:LAST-CHILD{padding-bottom:5px}.enlighter-t-minimal div.enlighter>div:AFTER{content:' '}.enlighter-t-minimal div.enlighter>div.enlighter-special{background-color:#f9f9f9}.enlighter-t-minimal.enlighter-linenumbers div.enlighter>div::before{padding:1px 10px 1px 10px;font-size:.8em;color:#404141}.enlighter-t-minimal .enlighter span{font-size:1.1em}.enlighter-t-minimal .enlighter-text{color:#2a2a2a}.enlighter-t-minimal .enlighter-c0{color:#a0a0a0}.enlighter-t-minimal .enlighter-c1{color:#a0a0a0}.enlighter-t-minimal .enlighter-c2{color:#a0a0a0}.enlighter-t-minimal .enlighter-c9{color:#a0a0a0}.enlighter-t-minimal .enlighter-k0{color:#12217c;font-weight:700}.enlighter-t-minimal .enlighter-k1{color:#12217c;font-weight:700}.enlighter-t-minimal .enlighter-k2{color:#458;border-bottom:dotted 1px #458}.enlighter-t-minimal .enlighter-k3{color:#458;border-bottom:dotted 1px #458}.enlighter-t-minimal .enlighter-k4{color:#458;border-bottom:dotted 1px #458}.enlighter-t-minimal .enlighter-k5{color:#12217c;font-weight:700}.enlighter-t-minimal .enlighter-k6{color:#12217c;font-style:italic}.enlighter-t-minimal .enlighter-k7{color:#12217c;font-weight:700}.enlighter-t-minimal .enlighter-k8{color:#458}.enlighter-t-minimal .enlighter-k9{color:#990073}.enlighter-t-minimal .enlighter-k10{color:#990073}.enlighter-t-minimal .enlighter-k11{color:#a0a0a0}.enlighter-t-minimal .enlighter-e0{color:#458;border-bottom:dotted 1px #458}.enlighter-t-minimal .enlighter-e1{color:#458;border-bottom:dotted 1px #458}.enlighter-t-minimal .enlighter-e2{color:#996700;border-bottom:solid 1px #996700}.enlighter-t-minimal .enlighter-e3{color:#458;border-bottom:dotted 1px #458}.enlighter-t-minimal .enlighter-e4{color:#458;border-bottom:dotted 1px #458}.enlighter-t-minimal .enlighter-s0{color:#217908;border-bottom:dotted 1px #387905}.enlighter-t-minimal .enlighter-s1{color:#217908;border-bottom:dotted 1px #387905}.enlighter-t-minimal .enlighter-s2{color:#cf6a4c}.enlighter-t-minimal .enlighter-s3{color:#217908;border-bottom:dotted 1px #387905}.enlighter-t-minimal .enlighter-s4{color:#217908;border-bottom:dotted 1px #387905}.enlighter-t-minimal .enlighter-s5{color:#217908;border-bottom:dotted 1px #387905}.enlighter-t-minimal .enlighter-n0{color:#a61d1b;font-weight:700}.enlighter-t-minimal .enlighter-n1{color:#a61d1b;font-weight:700}.enlighter-t-minimal .enlighter-n2{color:#a61d1b;font-weight:700}.enlighter-t-minimal .enlighter-n3{color:#a61d1b;font-weight:700}.enlighter-t-minimal .enlighter-n4{color:#a61d1b;font-weight:700}.enlighter-t-minimal .enlighter-n5{color:#a61d1b;font-weight:700}.enlighter-t-minimal .enlighter-m0{color:#12217c;background-color:#e0e0e0}.enlighter-t-minimal .enlighter-m1{color:#12217c;background-color:#e0e0e0}.enlighter-t-minimal .enlighter-m2{color:#12217c;background-color:#e0e0e0}.enlighter-t-minimal .enlighter-m3{color:#12217c;background-color:#e0e0e0}.enlighter-t-minimal .enlighter-g0{color:#12217c}.enlighter-t-minimal .enlighter-g1{color:#2a2a2a}.enlighter-t-minimal .enlighter-t0{color:#a0a0a0}.enlighter-t-minimal .enlighter-t1{color:#387905;font-weight:700}.enlighter-t-minimal .enlighter-t2{color:#990073;font-weight:700}.enlighter-t-minimal .enlighter-t3{color:#458}.enlighter-t-minimal .enlighter-t4{color:#458}.enlighter-t-minimal .enlighter-t5{color:#458}.enlighter-t-minimal .enlighter-t6{color:#387905}.enlighter-t-minimal .enlighter-t7{color:#a0a0a0;font-weight:700}.enlighter-t-minimal .enlighter-t8{color:#a0a0a0;font-style:italic}.enlighter-t-minimal .enlighter-x1{color:#12217c;font-weight:700}.enlighter-t-minimal .enlighter-x2{color:#458;border-bottom:dotted 1px #458}.enlighter-t-minimal .enlighter-x10{color:#12217c;font-weight:700}.enlighter-t-minimal .enlighter-x11{color:#12217c;font-weight:700}.enlighter-t-minimal .enlighter-x12{color:#458}.enlighter-t-minimal .enlighter-x13{color:#a61d1b;font-weight:700}.enlighter-t-minimal .enlighter-x14{color:#a61d1b;font-weight:700}.enlighter-t-minimal .enlighter-x15{color:#990073}.enlighter-t-minimal.enlighter-v-inline{background-color:transparent;border:none;padding:0}.enlighter-t-minimal.enlighter-v-codegroup{border-top:none;padding-top:0}.enlighter-t-minimal.enlighter-v-codegroup .enlighter-codegroup-wrapper{border-top:solid 3px #e0e0e0;padding-top:10px}.enlighter-t-minimal.enlighter-v-codegroup .enlighter-codegroup-switch{padding-left:5px;padding-bottom:5px}.enlighter-t-minimal.enlighter-v-codegroup .enlighter-codegroup-switch .enlighter-btn{font-size:1em;color:#000;background-color:transparent;font-weight:700;text-transform:uppercase;padding:1px 6px 1px 6px;border:none;width:auto;height:auto}.enlighter-t-minimal.enlighter-v-codegroup .enlighter-codegroup-switch .enlighter-btn.enlighter-active{background-color:#e0e0e0;color:#2a2a2a}\n",
       ".enlighter-t-eclipse{color:#787878;border-radius:5px;border:solid 8px #f3f3f3;background-color:#fff}.enlighter-t-eclipse .enlighter-toolbar{top:15px;right:15px}.enlighter-t-eclipse .enlighter-btn{background-color:#fff;color:#717171;font-size:1em;padding:0;border:1px solid #e0e0e0;margin:0 0 0 8px;text-decoration:none;width:23px;height:23px;background-position:0 0;background-size:contain;border-radius:8px}.enlighter-t-eclipse .enlighter-btn:hover{background-color:#e0e0e0}.enlighter-t-eclipse .enlighter-btn:after{content:''}.enlighter-t-eclipse.enlighter-hover.enlighter-linenumbers div.enlighter>div:hover{background-color:#e8f2fe;color:#444}.enlighter-t-eclipse.enlighter-hover div.enlighter>div:hover{background-color:#e8f2fe;color:#444;border-left-color:#e0e0e0}.enlighter-t-eclipse .enlighter-raw{font-size:1.1em;line-height:1.5em;padding:4px 5px 4px 56px;color:#717171}.enlighter-t-eclipse div.enlighter{background-color:#fff}.enlighter-t-eclipse div.enlighter>div{border:solid 0 #fff;background-color:transparent;padding:1px 5px 1px 0;line-height:1.35em;color:#787878}.enlighter-t-eclipse div.enlighter>div:FIRST-CHILD{padding-top:5px}.enlighter-t-eclipse div.enlighter>div:LAST-CHILD{padding-bottom:5px}.enlighter-t-eclipse div.enlighter>div:AFTER{content:' '}.enlighter-t-eclipse div.enlighter>div.enlighter-special{background-color:#f9f9f9}.enlighter-t-eclipse.enlighter-linenumbers div.enlighter>div::before{border-right:2px solid #f8f8f8;padding:1px 5px 1px 14px}.enlighter-t-eclipse .enlighter span{font-size:1.1em}.enlighter-t-eclipse .enlighter-text{color:#000}.enlighter-t-eclipse .enlighter-c0{color:#3f7f5f}.enlighter-t-eclipse .enlighter-c1{color:#3f5fbf}.enlighter-t-eclipse .enlighter-c2{color:#3f5fbf}.enlighter-t-eclipse .enlighter-c9{color:#3f5fbf}.enlighter-t-eclipse .enlighter-k0{color:#3f7f95;font-weight:700}.enlighter-t-eclipse .enlighter-k1{color:#3f7f95;font-weight:700}.enlighter-t-eclipse .enlighter-k2{color:#7f007f;font-weight:700}.enlighter-t-eclipse .enlighter-k3{color:#7f007f;font-weight:700}.enlighter-t-eclipse .enlighter-k4{color:#458}.enlighter-t-eclipse .enlighter-k5{color:#7f007f;font-weight:700}.enlighter-t-eclipse .enlighter-k6{color:#7f007f;font-weight:700}.enlighter-t-eclipse .enlighter-k7{color:#7f007f;font-weight:700}.enlighter-t-eclipse .enlighter-k8{color:#458}.enlighter-t-eclipse .enlighter-k9{color:#990073}.enlighter-t-eclipse .enlighter-k10{color:#990073}.enlighter-t-eclipse .enlighter-k11{color:#3f5fbf}.enlighter-t-eclipse .enlighter-e0{color:#7f007f;font-weight:700}.enlighter-t-eclipse .enlighter-e1{color:#7f007f;font-weight:700}.enlighter-t-eclipse .enlighter-e2{color:#009926}.enlighter-t-eclipse .enlighter-e3{color:#7f007f;font-weight:700}.enlighter-t-eclipse .enlighter-e4{color:#7f007f;font-weight:700}.enlighter-t-eclipse .enlighter-s0{color:#320fe3}.enlighter-t-eclipse .enlighter-s1{color:#320fe3}.enlighter-t-eclipse .enlighter-s2{color:#320fe3}.enlighter-t-eclipse .enlighter-s3{color:#320fe3}.enlighter-t-eclipse .enlighter-s4{color:#320fe3}.enlighter-t-eclipse .enlighter-s5{color:#990073}.enlighter-t-eclipse .enlighter-n0{color:#000}.enlighter-t-eclipse .enlighter-n1{color:#000}.enlighter-t-eclipse .enlighter-n2{color:#000}.enlighter-t-eclipse .enlighter-n3{color:#000}.enlighter-t-eclipse .enlighter-n4{color:#000}.enlighter-t-eclipse .enlighter-n5{color:#000}.enlighter-t-eclipse .enlighter-m0{color:#000}.enlighter-t-eclipse .enlighter-m1{color:#000}.enlighter-t-eclipse .enlighter-m2{color:#000}.enlighter-t-eclipse .enlighter-m3{color:#000}.enlighter-t-eclipse .enlighter-g0{color:#777}.enlighter-t-eclipse .enlighter-g1{color:#777}.enlighter-t-eclipse .enlighter-t0{color:#777}.enlighter-t-eclipse .enlighter-t1{color:#3f7f5f;font-weight:700}.enlighter-t-eclipse .enlighter-t2{color:#990073;font-weight:700}.enlighter-t-eclipse .enlighter-t3{color:#458}.enlighter-t-eclipse .enlighter-t4{color:#458}.enlighter-t-eclipse .enlighter-t5{color:#458}.enlighter-t-eclipse .enlighter-t6{color:#3f7f5f}.enlighter-t-eclipse .enlighter-t7{color:#a0a0a0;font-weight:700}.enlighter-t-eclipse .enlighter-t8{color:#a0a0a0;font-style:italic}.enlighter-t-eclipse .enlighter-x1{color:#3f7f95;font-weight:700}.enlighter-t-eclipse .enlighter-x2{color:#7f007f;font-weight:700}.enlighter-t-eclipse .enlighter-x10{color:#3f7f95;font-weight:700}.enlighter-t-eclipse .enlighter-x11{color:#3f7f95;font-weight:700}.enlighter-t-eclipse .enlighter-x12{color:#458}.enlighter-t-eclipse .enlighter-x13{color:#3f7f95}.enlighter-t-eclipse .enlighter-x14{color:#000}.enlighter-t-eclipse .enlighter-x15{color:#000}.enlighter-t-eclipse.enlighter-v-inline{border-radius:3px;background-color:#f8f8f8;border:solid 0 #fff}.enlighter-t-eclipse.enlighter-v-codegroup{display:block}.enlighter-t-eclipse.enlighter-v-codegroup .enlighter,.enlighter-t-eclipse.enlighter-v-codegroup .enlighter-raw{border-top:0;border-top-left-radius:0;border-top-right-radius:0}.enlighter-t-eclipse.enlighter-v-codegroup .enlighter-codegroup-wrapper{position:relative}.enlighter-t-eclipse.enlighter-v-codegroup .enlighter-codegroup-switch{background-color:#f3f3f3;padding:8px 5px 0 60px;border-radius:5px 5px 0 0}.enlighter-t-eclipse.enlighter-v-codegroup .enlighter-codegroup-switch .enlighter-btn{font-size:1em;color:#000;background-color:transparent;padding:5px 10px 5px 10px;border-radius:5px 5px 0 0;border:none;width:auto}.enlighter-t-eclipse.enlighter-v-codegroup .enlighter-codegroup-switch .enlighter-btn.enlighter-active{background-color:#fff;color:#000;border-color:#c9c9c9}\n",
       ".enlighter-t-mowtwo{background-color:#f0f0f1;border:solid 1px #f0f0f1;border-radius:7px}.enlighter-t-mowtwo .enlighter-btn{background-color:#fff;color:#717171;font-size:1em;padding:0;border:1px solid #e0e0e0;margin:0 0 0 8px;text-decoration:none;width:23px;height:23px;background-position:0 0;background-size:contain}.enlighter-t-mowtwo .enlighter-btn:after{content:''}.enlighter-t-mowtwo.enlighter-hover div.enlighter>div:hover{background-color:#e9e9e9}.enlighter-t-mowtwo .enlighter-raw{font-size:1.15em;line-height:1.75em;color:#313437;padding:5px 5px 5px 51px;background-color:transparent}.enlighter-t-mowtwo div.enlighter>div{line-height:1.5em;padding:1px 5px 1px 14px;color:#9c9ea0}.enlighter-t-mowtwo div.enlighter>div:FIRST-CHILD{padding-top:5px}.enlighter-t-mowtwo div.enlighter>div:LAST-CHILD{padding-bottom:5px}.enlighter-t-mowtwo div.enlighter>div:AFTER{content:' '}.enlighter-t-mowtwo div.enlighter>div.enlighter-special{background-color:#e9e9e9}.enlighter-t-mowtwo.enlighter-linenumbers div.enlighter>div::before{padding:1px 10px 1px 10px;font-size:.9em}.enlighter-t-mowtwo.enlighter-linenumbers div.enlighter>div:FIRST-CHILD::before{border-radius:0 8px 0 0}.enlighter-t-mowtwo.enlighter-linenumbers div.enlighter>div:LAST-CHILD::before{border-radius:0 0 8px 0}.enlighter-t-mowtwo .enlighter span{font-size:1.15em}.enlighter-t-mowtwo .enlighter-text{color:#313437}.enlighter-t-mowtwo .enlighter-c0{color:#9c9ea0}.enlighter-t-mowtwo .enlighter-c1{color:#9c9ea0}.enlighter-t-mowtwo .enlighter-c2{color:#9c9ea0}.enlighter-t-mowtwo .enlighter-c9{color:#9c9ea0}.enlighter-t-mowtwo .enlighter-k0{color:#b05098;font-weight:700}.enlighter-t-mowtwo .enlighter-k1{color:#b05098;font-weight:700}.enlighter-t-mowtwo .enlighter-k2{color:#b05098}.enlighter-t-mowtwo .enlighter-k3{color:#b05098}.enlighter-t-mowtwo .enlighter-k4{color:#b05098}.enlighter-t-mowtwo .enlighter-k5{color:#b05098}.enlighter-t-mowtwo .enlighter-k6{color:#b05098}.enlighter-t-mowtwo .enlighter-k7{color:#b05098}.enlighter-t-mowtwo .enlighter-k8{color:#313437}.enlighter-t-mowtwo .enlighter-k9{color:#313437}.enlighter-t-mowtwo .enlighter-k10{color:#313437}.enlighter-t-mowtwo .enlighter-k11{color:#9c9ea0}.enlighter-t-mowtwo .enlighter-e0{color:#b05098}.enlighter-t-mowtwo .enlighter-e1{color:#b05098}.enlighter-t-mowtwo .enlighter-e2{color:#864c08}.enlighter-t-mowtwo .enlighter-e3{color:#b05098}.enlighter-t-mowtwo .enlighter-e4{color:#b05098}.enlighter-t-mowtwo .enlighter-s0{color:#83a440}.enlighter-t-mowtwo .enlighter-s1{color:#83a440}.enlighter-t-mowtwo .enlighter-s2{color:#83a440}.enlighter-t-mowtwo .enlighter-s3{color:#83a440}.enlighter-t-mowtwo .enlighter-s4{color:#83a440}.enlighter-t-mowtwo .enlighter-s5{color:#83a440}.enlighter-t-mowtwo .enlighter-n0{color:#429bc1}.enlighter-t-mowtwo .enlighter-n1{color:#429bc1}.enlighter-t-mowtwo .enlighter-n2{color:#429bc1}.enlighter-t-mowtwo .enlighter-n3{color:#429bc1}.enlighter-t-mowtwo .enlighter-n4{color:#429bc1}.enlighter-t-mowtwo .enlighter-n5{color:#429bc1}.enlighter-t-mowtwo .enlighter-m0{color:#666}.enlighter-t-mowtwo .enlighter-m1{color:#666}.enlighter-t-mowtwo .enlighter-m2{color:#666}.enlighter-t-mowtwo .enlighter-m3{color:#666}.enlighter-t-mowtwo .enlighter-g0{color:#864c08}.enlighter-t-mowtwo .enlighter-g1{color:#909090}.enlighter-t-mowtwo .enlighter-t0{color:#909090}.enlighter-t-mowtwo .enlighter-t1{color:#b05098;font-weight:700}.enlighter-t-mowtwo .enlighter-t2{color:#b05098;font-weight:700}.enlighter-t-mowtwo .enlighter-t3{color:#b05098}.enlighter-t-mowtwo .enlighter-t4{color:#b05098}.enlighter-t-mowtwo .enlighter-t5{color:#83a440}.enlighter-t-mowtwo .enlighter-t6{color:#b05098}.enlighter-t-mowtwo .enlighter-t7{color:#909090;font-weight:700}.enlighter-t-mowtwo .enlighter-t8{color:#909090;font-style:italic}.enlighter-t-mowtwo .enlighter-x1{color:#b05098;font-weight:700}.enlighter-t-mowtwo .enlighter-x2{color:#b05098}.enlighter-t-mowtwo .enlighter-x10{color:#b05098;font-weight:700}.enlighter-t-mowtwo .enlighter-x11{color:#b05098;font-weight:700}.enlighter-t-mowtwo .enlighter-x12{color:#313437}.enlighter-t-mowtwo .enlighter-x13{color:#429bc1}.enlighter-t-mowtwo .enlighter-x14{color:#429bc1}.enlighter-t-mowtwo .enlighter-x15{color:#313437}.enlighter-t-mowtwo.enlighter-v-inline{border-radius:4px}.enlighter-t-mowtwo.enlighter-v-codegroup .enlighter-codegroup-switch{background-color:#585b5e;padding:10px 0 10px 20px;border-radius:8px;margin-bottom:5px}.enlighter-t-mowtwo.enlighter-v-codegroup .enlighter-codegroup-switch .enlighter-btn{border-radius:0;background-color:transparent;line-height:1.7em;font-size:1.25em;color:#f0f0f0;border:none;padding:0 10px 0 10px;width:auto;height:auto;font-family:\"Open Sans\",Arial,Verdana,sans-serif}.enlighter-t-mowtwo.enlighter-v-codegroup .enlighter-codegroup-switch .enlighter-btn.enlighter-active{text-decoration:underline}\n",
       ".enlighter-t-rowhammer{background-color:transparent;border:none}.enlighter-t-rowhammer .enlighter-toolbar{top:20px}.enlighter-t-rowhammer .enlighter-btn{background-color:#fff;color:#717171;font-size:1em;padding:0;border:1px solid #e0e0e0;margin:0 0 0 8px;text-decoration:none;width:23px;height:23px;background-position:0 0;background-size:contain}.enlighter-t-rowhammer .enlighter-btn:hover{background-color:#fff}.enlighter-t-rowhammer .enlighter-btn:after{content:''}.enlighter-t-rowhammer.enlighter-hover div.enlighter>div:hover{background-color:#f0f0f0}.enlighter-t-rowhammer .enlighter-raw{font-size:1.1em;color:#404141;background-color:transparent;padding:14px 0 15px 38px;line-height:2em}.enlighter-t-rowhammer div.enlighter>div{border:solid 0 #fff;padding:1px 5px 1px 0;line-height:1.67em;color:#94a9bf;background-color:transparent;border-bottom:dotted 1px #e9e9f0}.enlighter-t-rowhammer div.enlighter>div:nth-of-type(1){border-top:dotted 1px #e9e9f0}.enlighter-t-rowhammer div.enlighter>div:FIRST-CHILD{padding-top:5px}.enlighter-t-rowhammer div.enlighter>div:LAST-CHILD{padding-bottom:5px}.enlighter-t-rowhammer div.enlighter>div:AFTER{content:' '}.enlighter-t-rowhammer div.enlighter>div.enlighter-special{background-color:#f9f9f9}.enlighter-t-rowhammer.enlighter-linenumbers div.enlighter>div::before{padding:1px 5px 1px 14px;font-size:.8em;color:#94a9bf}.enlighter-t-rowhammer .enlighter span{font-size:1.1em}.enlighter-t-rowhammer .enlighter-text{color:#000}.enlighter-t-rowhammer .enlighter-c0{color:#758697}.enlighter-t-rowhammer .enlighter-c1{color:#758697}.enlighter-t-rowhammer .enlighter-c2{color:#758697}.enlighter-t-rowhammer .enlighter-c9{color:#758697}.enlighter-t-rowhammer .enlighter-k0{color:#07a;font-weight:700;border-bottom:dotted 1px #07a}.enlighter-t-rowhammer .enlighter-k1{color:#07a;font-weight:700;border-bottom:dotted 1px #07a}.enlighter-t-rowhammer .enlighter-k2{color:#07a;font-weight:700}.enlighter-t-rowhammer .enlighter-k3{color:#07a}.enlighter-t-rowhammer .enlighter-k4{color:#07a;font-weight:700}.enlighter-t-rowhammer .enlighter-k5{color:#07a;font-weight:700;border-bottom:dotted 1px #07a}.enlighter-t-rowhammer .enlighter-k6{color:#07a;font-weight:700;border-bottom:dotted 1px #07a}.enlighter-t-rowhammer .enlighter-k7{color:#07a;font-weight:700;border-bottom:dotted 1px #07a}.enlighter-t-rowhammer .enlighter-k8{color:#07a}.enlighter-t-rowhammer .enlighter-k9{color:#000}.enlighter-t-rowhammer .enlighter-k10{color:#07a;font-style:italic}.enlighter-t-rowhammer .enlighter-k11{color:#758697}.enlighter-t-rowhammer .enlighter-e0{color:#07a;font-weight:700}.enlighter-t-rowhammer .enlighter-e1{color:#07a;font-weight:700}.enlighter-t-rowhammer .enlighter-e2{color:#d2901d}.enlighter-t-rowhammer .enlighter-e3{color:#07a}.enlighter-t-rowhammer .enlighter-e4{color:#ff8c00;font-style:italic}.enlighter-t-rowhammer .enlighter-s0{color:#639500;border-bottom:dotted 1px #639500}.enlighter-t-rowhammer .enlighter-s1{color:#639500}.enlighter-t-rowhammer .enlighter-s2{color:#639500}.enlighter-t-rowhammer .enlighter-s3{color:#639500}.enlighter-t-rowhammer .enlighter-s4{color:#639500}.enlighter-t-rowhammer .enlighter-s5{color:#639500;font-style:italic}.enlighter-t-rowhammer .enlighter-n0{color:#9b0d5c}.enlighter-t-rowhammer .enlighter-n1{color:#9b0d5c}.enlighter-t-rowhammer .enlighter-n2{color:#9b0d5c}.enlighter-t-rowhammer .enlighter-n3{color:#9b0d5c}.enlighter-t-rowhammer .enlighter-n4{color:#9b0d5c}.enlighter-t-rowhammer .enlighter-n5{color:#9b0d5c}.enlighter-t-rowhammer .enlighter-m0{color:#d0284a;font-weight:700}.enlighter-t-rowhammer .enlighter-m1{color:#c2415b;font-weight:700}.enlighter-t-rowhammer .enlighter-m2{color:#c2415b;font-weight:700}.enlighter-t-rowhammer .enlighter-m3{color:#d0284a;font-weight:700}.enlighter-t-rowhammer .enlighter-g0{color:#35434c;font-weight:700}.enlighter-t-rowhammer .enlighter-g1{color:#6b7c8b;font-weight:700}.enlighter-t-rowhammer .enlighter-t0{color:#777}.enlighter-t-rowhammer .enlighter-t1{color:#961414;font-weight:700}.enlighter-t-rowhammer .enlighter-t2{color:#990073;font-weight:700}.enlighter-t-rowhammer .enlighter-t3{color:#458}.enlighter-t-rowhammer .enlighter-t4{color:#6e0d6e}.enlighter-t-rowhammer .enlighter-t5{color:#6e0d6e}.enlighter-t-rowhammer .enlighter-t6{color:#961414}.enlighter-t-rowhammer .enlighter-t7{color:#535353;font-weight:700}.enlighter-t-rowhammer .enlighter-t8{color:#777;font-style:italic}.enlighter-t-rowhammer .enlighter-x1{color:#07a;font-weight:700;border-bottom:dotted 1px #07a}.enlighter-t-rowhammer .enlighter-x2{color:#07a;font-weight:700}.enlighter-t-rowhammer .enlighter-x10{color:#07a;font-weight:700;border-bottom:dotted 1px #07a}.enlighter-t-rowhammer .enlighter-x11{color:#07a;font-weight:700;border-bottom:dotted 1px #07a}.enlighter-t-rowhammer .enlighter-x12{color:#07a}.enlighter-t-rowhammer .enlighter-x13{color:#9b0d5c}.enlighter-t-rowhammer .enlighter-x14{color:#9b0d5c}.enlighter-t-rowhammer .enlighter-x15{color:#121212}.enlighter-t-rowhammer.enlighter-v-codegroup .enlighter-codegroup-switch{padding-left:15px;padding-bottom:15px}.enlighter-t-rowhammer.enlighter-v-codegroup .enlighter-codegroup-switch .enlighter-btn{font-size:1em;color:#758697;background-color:transparent;border-radius:0;font-weight:700;text-transform:uppercase;padding:2px 10px 2px 10px;border:none;width:auto;height:auto}.enlighter-t-rowhammer.enlighter-v-codegroup .enlighter-codegroup-switch .enlighter-btn.enlighter-active{border-bottom:dotted 1px #758697;background-color:#f0f0f0}\n",
       ".enlighter-t-bootstrap4{color:#212529;background-color:#f8f9fa;padding:25px 25px 25px 25px}.enlighter-t-bootstrap4 .enlighter-toolbar{top:10px;right:10px}.enlighter-t-bootstrap4 .enlighter-btn{background-image:none;background-color:transparent;color:#818a91;font-size:1em;padding:2px 8px 2px 8px;margin:0 5px 0 5px;border:none;border-radius:4px;font-family:\"Open Sans\",Arial,Verdana,sans-serif}.enlighter-t-bootstrap4 .enlighter-btn:hover{background-color:#007bff;color:#f0f0f0}.enlighter-t-bootstrap4 .enlighter-toolbar .enlighter-btn-raw{background-image:none}.enlighter-t-bootstrap4 .enlighter-toolbar .enlighter-btn-raw:after{content:'Raw'}.enlighter-t-bootstrap4 .enlighter-toolbar .enlighter-btn-copy{background-image:none}.enlighter-t-bootstrap4 .enlighter-toolbar .enlighter-btn-copy:after{content:'Copy'}.enlighter-t-bootstrap4 .enlighter-toolbar .enlighter-btn-window{background-image:none}.enlighter-t-bootstrap4 .enlighter-toolbar .enlighter-btn-window:after{content:'Extern'}.enlighter-t-bootstrap4 .enlighter-toolbar .enlighter-btn-website{background-image:none}.enlighter-t-bootstrap4 .enlighter-toolbar .enlighter-btn-website:after{content:'EnlighterJS'}.enlighter-t-bootstrap4.enlighter-hover div.enlighter>div:hover{background-color:#eceef0}.enlighter-t-bootstrap4 .enlighter-raw{font-size:1.15em;color:#212529;background-color:#f8f9fa;line-height:1.7em;padding:0 0 0 61px}.enlighter-t-bootstrap4 div.enlighter>div{padding:1px 5px 1px 14px;line-height:1.35em;color:#999;background-color:transparent}.enlighter-t-bootstrap4 div.enlighter>div:FIRST-CHILD{padding-top:5px}.enlighter-t-bootstrap4 div.enlighter>div:LAST-CHILD{padding-bottom:5px}.enlighter-t-bootstrap4 div.enlighter>div:AFTER{content:' '}.enlighter-t-bootstrap4 div.enlighter>div.enlighter-special{background-color:#eceef0}.enlighter-t-bootstrap4.enlighter-linenumbers div.enlighter>div::before{padding:1px 5px 1px 0;font-size:.8em}.enlighter-t-bootstrap4 .enlighter span{font-size:1.15em}.enlighter-t-bootstrap4 .enlighter-text{color:#212529}.enlighter-t-bootstrap4 .enlighter-c0{color:#999}.enlighter-t-bootstrap4 .enlighter-c1{color:#999}.enlighter-t-bootstrap4 .enlighter-c2{color:#999}.enlighter-t-bootstrap4 .enlighter-c9{color:#999}.enlighter-t-bootstrap4 .enlighter-k0{color:#069}.enlighter-t-bootstrap4 .enlighter-k1{color:#069}.enlighter-t-bootstrap4 .enlighter-k2{color:#069}.enlighter-t-bootstrap4 .enlighter-k3{color:#069}.enlighter-t-bootstrap4 .enlighter-k4{color:#069;font-style:italic}.enlighter-t-bootstrap4 .enlighter-k5{color:#212529}.enlighter-t-bootstrap4 .enlighter-k6{color:#069}.enlighter-t-bootstrap4 .enlighter-k7{color:#069;border-bottom:dotted 1px #069}.enlighter-t-bootstrap4 .enlighter-k8{color:#212529}.enlighter-t-bootstrap4 .enlighter-k9{color:#069}.enlighter-t-bootstrap4 .enlighter-k10{color:#212529}.enlighter-t-bootstrap4 .enlighter-k11{color:#999}.enlighter-t-bootstrap4 .enlighter-e0{color:#069}.enlighter-t-bootstrap4 .enlighter-e1{color:#069}.enlighter-t-bootstrap4 .enlighter-e2{color:#009926}.enlighter-t-bootstrap4 .enlighter-e3{color:#069}.enlighter-t-bootstrap4 .enlighter-e4{color:#069}.enlighter-t-bootstrap4 .enlighter-s0{color:#d44950}.enlighter-t-bootstrap4 .enlighter-s1{color:#d44950}.enlighter-t-bootstrap4 .enlighter-s2{color:#d44950}.enlighter-t-bootstrap4 .enlighter-s3{color:#d44950}.enlighter-t-bootstrap4 .enlighter-s4{color:#d44950}.enlighter-t-bootstrap4 .enlighter-s5{color:#d44950}.enlighter-t-bootstrap4 .enlighter-n0{color:#f60}.enlighter-t-bootstrap4 .enlighter-n1{color:#f60}.enlighter-t-bootstrap4 .enlighter-n2{color:#f60}.enlighter-t-bootstrap4 .enlighter-n3{color:#f60}.enlighter-t-bootstrap4 .enlighter-n4{color:#f60}.enlighter-t-bootstrap4 .enlighter-n5{color:#f60}.enlighter-t-bootstrap4 .enlighter-m0{color:#99f}.enlighter-t-bootstrap4 .enlighter-m1{color:#212529}.enlighter-t-bootstrap4 .enlighter-m2{color:#212529}.enlighter-t-bootstrap4 .enlighter-m3{color:#212529}.enlighter-t-bootstrap4 .enlighter-g0{color:#2f6f9f}.enlighter-t-bootstrap4 .enlighter-g1{color:#999;font-weight:700}.enlighter-t-bootstrap4 .enlighter-t0{color:#999}.enlighter-t-bootstrap4 .enlighter-t1{color:#d44950;font-weight:700}.enlighter-t-bootstrap4 .enlighter-t2{color:#d44950;font-weight:700}.enlighter-t-bootstrap4 .enlighter-t3{color:#0086b3}.enlighter-t-bootstrap4 .enlighter-t4{color:#0a8}.enlighter-t-bootstrap4 .enlighter-t5{color:#0a8}.enlighter-t-bootstrap4 .enlighter-t6{color:#f60}.enlighter-t-bootstrap4 .enlighter-t7{color:#999;font-weight:700}.enlighter-t-bootstrap4 .enlighter-t8{color:#999}.enlighter-t-bootstrap4 .enlighter-x1{color:#2f6f9f}.enlighter-t-bootstrap4 .enlighter-x2{color:#4f9fcf}.enlighter-t-bootstrap4 .enlighter-x10{color:#0a8}.enlighter-t-bootstrap4 .enlighter-x11{color:#0a8}.enlighter-t-bootstrap4 .enlighter-x12{color:#99f}.enlighter-t-bootstrap4 .enlighter-x13{color:#f60}.enlighter-t-bootstrap4 .enlighter-x14{color:#f60}.enlighter-t-bootstrap4 .enlighter-x15{color:#f60}.enlighter-t-bootstrap4.enlighter-v-inline{background-color:#f8f9fa;border:none;border-radius:5px;padding:3px}.enlighter-t-bootstrap4.enlighter-v-codegroup .enlighter-codegroup-switch{border:solid 3px #f8f9fa;border-bottom-width:0;padding:15px}.enlighter-t-bootstrap4.enlighter-v-codegroup .enlighter-codegroup-switch .enlighter-btn{padding:3px 10px 3px 10px;border:none;font-size:.9em;color:#212529;font-weight:700;background-color:#f8f9fa;border-radius:5px}.enlighter-t-bootstrap4.enlighter-v-codegroup .enlighter-codegroup-switch .enlighter-btn.enlighter-active{background-color:#007bff;color:#f0f0f0}\n",
       ".enlighter-t-dracula{background-color:#282a36}.enlighter-t-dracula .enlighter-toolbar{top:10px;right:10px}.enlighter-t-dracula .enlighter-btn{background-image:none;background-color:#44475a;color:#f8f8f2;font-size:1em;padding:2px 8px 2px 8px;margin:0 5px 0 5px;border:none;border-radius:4px;font-family:Arial,Helvetica,sans-serif}.enlighter-t-dracula .enlighter-btn:hover{background-color:#6272a4;color:#f8f8f2}.enlighter-t-dracula .enlighter-toolbar .enlighter-btn-raw{background-image:none}.enlighter-t-dracula .enlighter-toolbar .enlighter-btn-raw:after{content:'Raw'}.enlighter-t-dracula .enlighter-toolbar .enlighter-btn-copy{background-image:none}.enlighter-t-dracula .enlighter-toolbar .enlighter-btn-copy:after{content:'Copy'}.enlighter-t-dracula .enlighter-toolbar .enlighter-btn-window{background-image:none}.enlighter-t-dracula .enlighter-toolbar .enlighter-btn-window:after{content:'Extern'}.enlighter-t-dracula .enlighter-toolbar .enlighter-btn-website{background-image:none}.enlighter-t-dracula .enlighter-toolbar .enlighter-btn-website:after{content:'EnlighterJS'}.enlighter-t-dracula.enlighter-hover div.enlighter>div:hover{background-color:#44475a}.enlighter-t-dracula .enlighter-raw{font-size:1.25em;color:#f8f8f2;line-height:1.85em;padding:4px 5px 4px 55px}.enlighter-t-dracula div.enlighter>div{padding:1px 5px 1px 14px;line-height:1.6em;color:#6272a4;background-color:#282a36}.enlighter-t-dracula div.enlighter>div:FIRST-CHILD{padding-top:5px}.enlighter-t-dracula div.enlighter>div:LAST-CHILD{padding-bottom:5px}.enlighter-t-dracula div.enlighter>div:AFTER{content:' '}.enlighter-t-dracula div.enlighter>div.enlighter-special{background-color:#44475a}.enlighter-t-dracula.enlighter-linenumbers div.enlighter>div::before{font-size:1em;color:#6272a4}.enlighter-t-dracula .enlighter span{font-size:1.25em}.enlighter-t-dracula .enlighter-text{color:#f8f8f2}.enlighter-t-dracula .enlighter-c0{color:#6272a4}.enlighter-t-dracula .enlighter-c1{color:#6272a4}.enlighter-t-dracula .enlighter-c2{color:#6272a4}.enlighter-t-dracula .enlighter-c9{color:#6272a4}.enlighter-t-dracula .enlighter-k0{color:#ff79c6;font-weight:700}.enlighter-t-dracula .enlighter-k1{color:#8be9fd;font-weight:700}.enlighter-t-dracula .enlighter-k2{color:#ff79c6;font-weight:700}.enlighter-t-dracula .enlighter-k3{color:#ff79c6}.enlighter-t-dracula .enlighter-k4{color:#8be9fd}.enlighter-t-dracula .enlighter-k5{color:#8be9fd}.enlighter-t-dracula .enlighter-k6{color:#8be9fd}.enlighter-t-dracula .enlighter-k7{color:#ffb86c}.enlighter-t-dracula .enlighter-k8{color:#8be9fd}.enlighter-t-dracula .enlighter-k9{color:#50fa7b}.enlighter-t-dracula .enlighter-k10{color:#50fa7b}.enlighter-t-dracula .enlighter-k11{color:#6272a4}.enlighter-t-dracula .enlighter-e0{color:#bd93f9;font-weight:700}.enlighter-t-dracula .enlighter-e1{color:#bd93f9;font-weight:700}.enlighter-t-dracula .enlighter-e2{color:#f1fa8c}.enlighter-t-dracula .enlighter-e3{color:#bd93f9}.enlighter-t-dracula .enlighter-e4{color:#bd93f9;font-style:italic}.enlighter-t-dracula .enlighter-s0{color:#f1fa8c}.enlighter-t-dracula .enlighter-s1{color:#f1fa8c}.enlighter-t-dracula .enlighter-s2{color:#f1fa8c}.enlighter-t-dracula .enlighter-s3{color:#f1fa8c}.enlighter-t-dracula .enlighter-s4{color:#f1fa8c;font-weight:700}.enlighter-t-dracula .enlighter-s5{color:#f1fa8c;font-style:italic}.enlighter-t-dracula .enlighter-n0{color:#bd93f9}.enlighter-t-dracula .enlighter-n1{color:#bd93f9}.enlighter-t-dracula .enlighter-n2{color:#bd93f9}.enlighter-t-dracula .enlighter-n3{color:#bd93f9}.enlighter-t-dracula .enlighter-n4{color:#bd93f9}.enlighter-t-dracula .enlighter-n5{color:#bd93f9}.enlighter-t-dracula .enlighter-m0{color:#8be9fd}.enlighter-t-dracula .enlighter-m1{color:#8be9fd}.enlighter-t-dracula .enlighter-m2{color:#8be9fd}.enlighter-t-dracula .enlighter-m3{color:#8be9fd}.enlighter-t-dracula .enlighter-g0{color:#f8f8f2;font-weight:700}.enlighter-t-dracula .enlighter-g1{color:#f8f8f2;font-weight:700}.enlighter-t-dracula .enlighter-t0{color:#6272a4}.enlighter-t-dracula .enlighter-t1{color:#8be9fd;font-weight:700}.enlighter-t-dracula .enlighter-t2{color:#8be9fd;font-weight:700}.enlighter-t-dracula .enlighter-t3{color:#ff79c6}.enlighter-t-dracula .enlighter-t4{color:#ffb86c}.enlighter-t-dracula .enlighter-t5{color:#50fa7b}.enlighter-t-dracula .enlighter-t6{color:#f55}.enlighter-t-dracula .enlighter-t7{color:#f8f8f2;font-weight:700}.enlighter-t-dracula .enlighter-t8{color:#f8f8f2}.enlighter-t-dracula .enlighter-x1{color:#ff79c6;font-weight:700}.enlighter-t-dracula .enlighter-x2{color:#50fa7b}.enlighter-t-dracula .enlighter-x10{color:#f8f8f2;font-weight:700}.enlighter-t-dracula .enlighter-x11{color:#50fa7b;font-weight:700}.enlighter-t-dracula .enlighter-x12{color:#8be9fd;font-style:italic}.enlighter-t-dracula .enlighter-x13{color:#bd93f9}.enlighter-t-dracula .enlighter-x14{color:#bd93f9;font-style:italic}.enlighter-t-dracula .enlighter-x15{color:#ffb86c;font-style:italic}.enlighter-t-dracula.enlighter-v-codegroup .enlighter-codegroup-switch{background-color:#282a36;padding:10px}.enlighter-t-dracula.enlighter-v-codegroup .enlighter-codegroup-switch .enlighter-btn{background-image:none;background-color:transparent;color:#f8f8f2;font-size:1.15em;padding:2px 8px 2px 8px;margin:0 5px 0 5px;border:none;border-radius:4px;font-family:Arial,Helvetica,sans-serif}.enlighter-t-dracula.enlighter-v-codegroup .enlighter-codegroup-switch .enlighter-btn.enlighter-active{background-color:#44475a;color:#f8f8f2}\n",
       ".enlighter-t-monokai{background-color:#272822}.enlighter-t-monokai .enlighter-toolbar{top:10px;right:10px}.enlighter-t-monokai .enlighter-btn{background-image:none;background-color:#414339;color:#f8f8f2;font-size:1em;padding:2px 8px 2px 8px;margin:0 5px 0 5px;border:solid 1px #1e1f1c;font-family:\"Open Sans\",Arial,Verdana,sans-serif}.enlighter-t-monokai .enlighter-btn:hover{background-color:#4e5145}.enlighter-t-monokai .enlighter-toolbar .enlighter-btn-raw{background-image:none}.enlighter-t-monokai .enlighter-toolbar .enlighter-btn-raw:after{content:'Raw'}.enlighter-t-monokai .enlighter-toolbar .enlighter-btn-copy{background-image:none}.enlighter-t-monokai .enlighter-toolbar .enlighter-btn-copy:after{content:'Copy'}.enlighter-t-monokai .enlighter-toolbar .enlighter-btn-window{background-image:none}.enlighter-t-monokai .enlighter-toolbar .enlighter-btn-window:after{content:'Extern'}.enlighter-t-monokai .enlighter-toolbar .enlighter-btn-website{background-image:none}.enlighter-t-monokai .enlighter-toolbar .enlighter-btn-website:after{content:'EnlighterJS'}.enlighter-t-monokai.enlighter-hover div.enlighter>div:hover{background-color:#75715e}.enlighter-t-monokai .enlighter-raw{font-size:1.25em;color:#f8f8f2;line-height:1.85em;padding:4px 5px 4px 55px}.enlighter-t-monokai div.enlighter>div{padding:1px 5px 1px 14px;line-height:1.6em}.enlighter-t-monokai div.enlighter>div:FIRST-CHILD{padding-top:5px}.enlighter-t-monokai div.enlighter>div:LAST-CHILD{padding-bottom:5px}.enlighter-t-monokai div.enlighter>div:AFTER{content:' '}.enlighter-t-monokai div.enlighter>div.enlighter-special{background-color:#414339}.enlighter-t-monokai.enlighter-linenumbers div.enlighter>div::before{font-size:1em;color:grey}.enlighter-t-monokai .enlighter span{font-size:1.25em}.enlighter-t-monokai .enlighter-text{color:#f8f8f2}.enlighter-t-monokai .enlighter-c0{color:#75715e}.enlighter-t-monokai .enlighter-c1{color:#75715e}.enlighter-t-monokai .enlighter-c2{color:#75715e}.enlighter-t-monokai .enlighter-c9{color:#75715e}.enlighter-t-monokai .enlighter-k0{color:#f92672}.enlighter-t-monokai .enlighter-k1{color:#f92672}.enlighter-t-monokai .enlighter-k2{color:#f92672}.enlighter-t-monokai .enlighter-k3{color:#f92672}.enlighter-t-monokai .enlighter-k4{color:#f92672}.enlighter-t-monokai .enlighter-k5{color:#f92672}.enlighter-t-monokai .enlighter-k6{color:#f92672}.enlighter-t-monokai .enlighter-k7{color:#f8f8f2}.enlighter-t-monokai .enlighter-k8{color:#f92672}.enlighter-t-monokai .enlighter-k9{color:#fd971f}.enlighter-t-monokai .enlighter-k10{color:#f92672}.enlighter-t-monokai .enlighter-k11{color:#75715e}.enlighter-t-monokai .enlighter-e0{color:#ae81ff}.enlighter-t-monokai .enlighter-e1{color:#ae81ff}.enlighter-t-monokai .enlighter-e2{color:#ae81ff}.enlighter-t-monokai .enlighter-e3{color:#ae81ff}.enlighter-t-monokai .enlighter-e4{color:#ae81ff}.enlighter-t-monokai .enlighter-s0{color:#e6db74}.enlighter-t-monokai .enlighter-s1{color:#e6db74}.enlighter-t-monokai .enlighter-s2{color:#e6db74}.enlighter-t-monokai .enlighter-s3{color:#e6db74}.enlighter-t-monokai .enlighter-s4{color:#e6db74;font-weight:700}.enlighter-t-monokai .enlighter-s5{color:#e6db74;font-style:italic}.enlighter-t-monokai .enlighter-n0{color:#ae81ff}.enlighter-t-monokai .enlighter-n1{color:#ae81ff}.enlighter-t-monokai .enlighter-n2{color:#ae81ff}.enlighter-t-monokai .enlighter-n3{color:#ae81ff}.enlighter-t-monokai .enlighter-n4{color:#ae81ff}.enlighter-t-monokai .enlighter-n5{color:#ae81ff}.enlighter-t-monokai .enlighter-m0{color:#66d9ef}.enlighter-t-monokai .enlighter-m1{color:#66d9ef}.enlighter-t-monokai .enlighter-m2{color:#66d9ef}.enlighter-t-monokai .enlighter-m3{color:#66d9ef}.enlighter-t-monokai .enlighter-g0{color:#f8f8f2;font-weight:700}.enlighter-t-monokai .enlighter-g1{color:#f8f8f2;font-weight:700}.enlighter-t-monokai .enlighter-t0{color:#f8f8f2}.enlighter-t-monokai .enlighter-t1{color:#a6e22e}.enlighter-t-monokai .enlighter-t2{color:#a6e22e}.enlighter-t-monokai .enlighter-t3{color:#e6db74}.enlighter-t-monokai .enlighter-t4{color:#e6db74}.enlighter-t-monokai .enlighter-t5{color:#a6e22e}.enlighter-t-monokai .enlighter-t6{color:#f92672}.enlighter-t-monokai .enlighter-t7{color:#f92672}.enlighter-t-monokai .enlighter-t8{color:#75715e}.enlighter-t-monokai .enlighter-x1{color:#f92672}.enlighter-t-monokai .enlighter-x2{color:#a6e22e}.enlighter-t-monokai .enlighter-x10{color:#a6e22e}.enlighter-t-monokai .enlighter-x11{color:#a6e22e}.enlighter-t-monokai .enlighter-x12{color:#66d9ef;font-style:italic}.enlighter-t-monokai .enlighter-x13{color:#f92672}.enlighter-t-monokai .enlighter-x14{color:#ae81ff}.enlighter-t-monokai .enlighter-x15{color:#a6e22e}.enlighter-t-monokai.enlighter-v-codegroup .enlighter-codegroup-switch{background-color:#414339;padding:10px 10px 0 30px}.enlighter-t-monokai.enlighter-v-codegroup .enlighter-codegroup-switch .enlighter-btn{background-image:none;background-color:#414339;color:#f8f8f2;font-size:1.15em;padding:2px 8px 2px 8px;margin:0 10px 0 10px;border:none;line-height:2.1em;border-radius:0;font-style:italic}.enlighter-t-monokai.enlighter-v-codegroup .enlighter-codegroup-switch .enlighter-btn.enlighter-active{background-color:#272822;color:#f8f8f2;font-weight:700;font-style:normal}</style><style>/*\n",
       " * Copyright (c) 2016 - present\n",
       " * QuantumBlack Visual Analytics Ltd (a McKinsey company).\n",
       " * All rights reserved.\n",
       " *\n",
       " * This software framework contains the confidential and proprietary information\n",
       " * of QuantumBlack, its affiliates, and its licensors. Your use of these\n",
       " * materials is governed by the terms of the Agreement between your organisation\n",
       " * and QuantumBlack, and any unauthorised use is forbidden. Except as otherwise\n",
       " * stated in the Agreement, this software framework is for your internal use\n",
       " * only and may only be shared outside your organisation with the prior written\n",
       " * permission of QuantumBlack.\n",
       " */\n",
       "\n",
       ".enlighter-default {\n",
       "    font-size: 14px;\n",
       "    margin: 0;\n",
       "    max-height: 500px;\n",
       "    overflow-y: auto;\n",
       "}\n",
       ".enlighter-default .enlighter-btn-window,\n",
       ".enlighter-default .enlighter-btn-website {\n",
       "    display: none;\n",
       "}\n",
       ".enlighter-t-enlighter {\n",
       "    border-radius: 0;\n",
       "}\n",
       "div.enlighter>div:FIRST-CHILD::before,\n",
       "div.enlighter>div:LAST-CHILD::before {\n",
       "    border-radius: 0 !important;\n",
       "}\n",
       "</style><script>/*! EnlighterJS Syntax Highlighter 3.4.0 | Mozilla Public License 2.0 | https://enlighterjs.org */\n",
       "var EnlighterJS=function(e){\"use strict\";var c={indent:4,ampersandCleanup:!0,linehover:!0,rawcodeDbclick:!1,textOverflow:\"break\",collapse:!1,retainCssClasses:!1,cssClasses:\"\",toolbarOuter:\"{BTN_TABS}\",toolbarTop:\"{BTN_RAW}{BTN_COPY}{BTN_WINDOW}{BTN_WEBSITE}\",toolbarBottom:\"{BTN_COLLAPSE}\",linenumbers:!0,lineoffset:0,highlight:\"\",layout:\"standard\",language:\"generic\",theme:\"enlighter\",title:\"\"};function r(e,t){if(!(e instanceof t))throw new TypeError(\"Cannot call a class as a function\")}function n(e,t){for(var r=0;r<t.length;r++){var n=t[r];n.enumerable=n.enumerable||!1,n.configurable=!0,\"value\"in n&&(n.writable=!0),Object.defineProperty(e,n.key,n)}}function i(e,t,r){return t&&n(e.prototype,t),r&&n(e,r),e}function a(e,t){if(\"function\"!=typeof t&&null!==t)throw new TypeError(\"Super expression must either be null or a function\");e.prototype=Object.create(t&&t.prototype,{constructor:{value:e,writable:!0,configurable:!0}}),t&&o(e,t)}function s(e){return(s=Object.setPrototypeOf?Object.getPrototypeOf:function(e){return e.__proto__||Object.getPrototypeOf(e)})(e)}function o(e,t){return(o=Object.setPrototypeOf||function(e,t){return e.__proto__=t,e})(e,t)}function l(){if(\"undefined\"==typeof Reflect||!Reflect.construct)return!1;if(Reflect.construct.sham)return!1;if(\"function\"==typeof Proxy)return!0;try{return Date.prototype.toString.call(Reflect.construct(Date,[],function(){})),!0}catch(e){return!1}}function g(e,t,r){return(g=l()?Reflect.construct:function(e,t,r){var n=[null];n.push.apply(n,t);var i=new(Function.bind.apply(e,n));return r&&o(i,r.prototype),i}).apply(null,arguments)}function u(e,t){return!t||\"object\"!=typeof t&&\"function\"!=typeof t?function(e){if(void 0===e)throw new ReferenceError(\"this hasn't been initialised - super() hasn't been called\");return e}(e):t}function p(r){var n=l();return function(){var e,t=s(r);return u(this,n?(e=s(this).constructor,Reflect.construct(t,arguments,e)):t.apply(this,arguments))}}function y(e,t,r){return(y=\"undefined\"!=typeof Reflect&&Reflect.get?Reflect.get:function(e,t,r){var n=function(e,t){for(;!Object.prototype.hasOwnProperty.call(e,t)&&null!==(e=s(e)););return e}(e,t);if(n){var i=Object.getOwnPropertyDescriptor(n,t);return i.get?i.get.call(r):i.value}})(e,t,r||e)}function f(e){return function(e){if(Array.isArray(e))return d(e)}(e)||function(e){if(\"undefined\"!=typeof Symbol&&Symbol.iterator in Object(e))return Array.from(e)}(e)||b(e)||function(){throw new TypeError(\"Invalid attempt to spread non-iterable instance.\\nIn order to be iterable, non-array objects must have a [Symbol.iterator]() method.\")}()}function b(e,t){if(e){if(\"string\"==typeof e)return d(e,t);var r=Object.prototype.toString.call(e).slice(8,-1);return\"Object\"===r&&e.constructor&&(r=e.constructor.name),\"Map\"===r||\"Set\"===r?Array.from(e):\"Arguments\"===r||/^(?:Ui|I)nt(?:8|16|32)(?:Clamped)?Array$/.test(r)?d(e,t):void 0}}function d(e,t){(null==t||t>e.length)&&(t=e.length);for(var r=0,n=new Array(t);r<t;r++)n[r]=e[r];return n}var h={sqStrings:{regex:/('(?:[^'\\\\]|\\\\.)*')/g,type:\"s0\"},dqStrings:{regex:/\"(?:[^\"\\\\]|\\\\.)*\"/g,type:\"s0\"},bqStrings:{regex:/`(?:[^`\\\\]|\\\\.)*`/g,type:\"s0\"},char:{regex:/('(\\\\.|.|\\\\\\w+)')/g,type:\"s1\"},slashComments:{regex:/(?:^|[^\\\\])\\/\\/.*$/gm,type:\"c0\"},poundComments:{regex:/(?:^|[^\\\\])#.*$/gm,type:\"c0\"},blockComments:{regex:/\\/\\*[\\s\\S]*?\\*\\//g,type:\"c1\"},docComments:{regex:/\\/\\*\\*[\\s\\S]*?\\*\\//g,type:\"c2\"},heredoc:{regex:/(<<[<-]?\\s*?(['\"]?)([A-Z0-9_]+)\\2\\s*\\n[\\s\\S]*?\\n\\3)/gi,type:\"s5\"},brackets:{regex:/[[\\](){}<>]+/g,type:\"g1\"},floats:{regex:/[\\b\\W](-?((?:\\d+\\.\\d+|\\.\\d+|\\d+\\.)(?:e[+-]?\\d+)?)|\\d+(?:e[+-]?\\d+))/gi,type:\"n0\"},complex:{regex:/[\\b\\W](?:-?(?:(?:\\d+\\.\\d+|\\.\\d+|\\d+\\.|\\d+)(?:e[+-]?\\d+)?)|\\d+(?:e[+-]?\\d+))[ij]/gi,type:\"n5\"},int:{regex:/[\\b\\W](-?\\d+)(?!\\.)\\b/g,type:\"n1\"},hex:{regex:/[\\b\\W](-?0x[A-F0-9]+)\\b/gi,type:\"n2\"},bin:{regex:/[\\b\\W](-?0b[01]+)\\b/gi,type:\"n3\"},octal:{regex:/[\\b\\W](-?0[0-7]+)(?!\\.)\\b/g,type:\"n4\"},prop:{regex:/[\\w\\])]\\.(\\w+)\\b/g,type:\"m3\"},fCalls:{regex:/\\b([\\w]+)\\s*\\(/gm,type:\"m0\"},mCalls:{regex:/\\.([\\w]+)\\s*\\(/gm,type:\"m1\"},boolean:{regex:/\\b(true|false)\\b/gi,type:\"e0\"},null:{regex:/\\b(null)\\b/gi,type:\"e1\"}};function C(e,t,r,n,i){return{text:e,type:t,index:n||0,end:e.length+n,filter:r||null,priority:i||0}}function m(e,t,r){for(var n=2<arguments.length&&void 0!==r?r:\"text\",i=[],a=0,s=0;s<t.length;s++){var o=t[s];if(!o||!o.type||!o.regex)return;for(var l=void 0;null!=(l=o.regex.exec(e));){if(5e4<++a)throw new Error(\"Infinite tokenizer loop detected; more than 50k tokens - language rule [\"+s+\"] \"+o.regex+\" seems to be broken\");if(0!=l[0].length){o.regex.lastIndex=l.index+1+l[0].length/3;var g=Array.isArray(o.type)?o.type[0]:o.type,u=(Array.isArray(o.filter)?o.filter[0]:o.filter)||null;if(1<l.length)for(var p,c,y,f=0,b=1;b<l.length;b++){l[b]&&(p=Array.isArray(o.type)&&o.type.length>=b?o.type[b-1]:g,c=Array.isArray(o.filter)&&o.filter.length>=b?o.filter[b-1]:u,f=y=l[0].indexOf(l[b],f),i.push(C(l[b],p,c,l.index+y,s)))}else i.push(C(l[0],g,u,l.index,s))}}}i=i.sort(function(e,t){return e.index==t.index?e.priority<t.priority?-1:1:e.index<t.index?-1:1});for(var d=[],h=0,m=0;m<i.length;m++){if(h<i[m].index&&d.push(C(e.substring(h,i[m].index),n,null,h)),i[m].filter)for(var x=i[m].filter(i[m])||[],k=0;k<x.length;k++)d.push(x[k]);else d.push(i[m]);h=i[m].end;for(var v=!1,w=m+1;w<i.length;w++)if(i[w].index>=h){m=w-1,v=!0;break}if(!1===v)break}return h<e.length&&d.push(C(e.substring(h),n,null,h)),d}var x=function(){function e(){r(this,e),this.rules=[],this.setupLanguage()}return i(e,[{key:\"setupLanguage\",value:function(){this.rules=[h.sqStrings,h.dqStrings,h.prop,h.slashComments,h.poundComments,h.blockComments,h.brackets,{regex:/\\W(true|false|null|nil|if|then|else|for|while|do|class|implements|extends|function|end|void|return|in|of|new|this|try|catch|def|except)\\W/gi,type:\"k1\"},h.mCalls,h.fCalls,h.octal,h.bin,h.hex,h.floats,h.int,{regex:/[\\b\\s]([$&|~*:;]+)[\\b\\s]/g,type:\"g0\"}]}},{key:\"analyze\",value:function(e){return m(e,this.rules)}}]),e}(),t=function(){a(t,x);var e=p(t);function t(){return r(this,t),e.apply(this,arguments)}return i(t,[{key:\"setupLanguage\",value:function(){this.rules=[h.sqStrings,{regex:/\\|.*?\\|/g,type:\"s2\"},{regex:/(\".*)$/gm,type:\"c0\"},{regex:/^\\s*(\\*.*)$/gm,type:\"c0\"},{regex:/(data):?\\s*(\\w+)\\s*/gi,type:[\"k2\",\"k7\"]},{regex:/(type)\\s+(\\w+)\\s*/gi,type:[\"k2\",\"k5\"]},{regex:/\\b(abap_true|abap_false)\\b/gi,type:\"e0\"},{regex:/\\b(abap_undefined)\\b/gi,type:\"e1\"},{regex:/\\b[A-Z_][A-Za-z0-9_]*\\b/g,type:\"k0\"},h.fCalls,h.int,h.brackets]}}]),t}();function k(e,t,r){for(var n,i=[],a=0;null!=(n=t.exec(e.text));){a<n.index&&i.push(C(e.text.substring(a,n.index),e.type,null,a));for(var s=r(n,e.type)||[],o=0;o<s.length;o++)i.push(s[o]);a=n.index+n[0].length,t.lastIndex=a}return 0==i.length?[e]:(a<e.text.length&&i.push(C(e.text.substring(a),e.type,null,a)),i)}var v=function(){a(t,x);var e=p(t);function t(){return r(this,t),e.apply(this,arguments)}return i(t,[{key:\"setupLanguage\",value:function(){this.rules=[h.dqStrings,h.poundComments,{regex:/(<)([A-Z:_][A-Z0-9:.-]*)([\\s\\S]*?)(\\/?>)/gi,type:[\"g1\",\"x1\",\"text\",\"g1\"],filter:[null,null,function(e){return k(e,h.dqStrings.regex,function(e){return[C(e[0],\"s0\")]})},null]},{regex:/(<\\/)([A-Z:_][A-Z0-9:.-]*\\s*)(>)/gi,type:[\"g1\",\"x1\",\"g1\"]},{regex:/^\\s*([A-Z]\\w+)\\b/gm,type:\"k0\"},{regex:/%\\{\\w+\\}/g,type:\"k7\"},{regex:/\\b(on|off)\\b/gi,type:\"e0\"},h.int]}}],[{key:\"alias\",value:function(){return[\"apacheconf\",\"httpd\"]}}]),t}(),w=function(){a(t,x);var e=p(t);function t(){return r(this,t),e.apply(this,arguments)}return i(t,[{key:\"setupLanguage\",value:function(){this.rules=[{regex:/(;.*)$/gm,type:\"co0\"},{regex:/(\\$.*)$/gm,type:\"k4\"},h.sqStrings,h.dqStrings,{regex:/(^|:)\\s*?(\\w+)\\s+/gm,type:\"k0\"},{regex:/^\\s*?([A-Z?_][A-Z0-9?_]+:)\\s*?/gim,type:\"k6\"},{regex:/@\\w+/gi,type:\"k9\"},{regex:/#\\w+/gi,type:\"k9\"},{regex:/[A-F0-9][A-F0-9$]+?H/gi,type:\"n2\"},{regex:/\\d[\\d$]+?D/gi,type:\"n1\"},{regex:/[01][01$]+?B/gi,type:\"n3\"},{regex:/[0-7][0-7$]+?(?:Q|O)/gi,type:\"nu4\"},{regex:/(0x[A-F0-9]+|\\$[A-F0-9]+)/gi,type:\"n2\"},{regex:/(0b[01]+)/g,type:\"n3\"},{regex:/\\b(\\d+)/g,type:\"n1\"},h.fCalls]}}],[{key:\"alias\",value:function(){return[\"asm\"]}}]),t}(),S=function(){a(t,x);var e=p(t);function t(){return r(this,t),e.apply(this,arguments)}return i(t,[{key:\"setupLanguage\",value:function(){this.rules=[{regex:/(;.*)$/gm,type:\"co0\"},h.sqStrings,h.dqStrings,{regex:/^\\s*?\\.\\w+\\s+/gm,type:\"kw4\"},{regex:/\\b(r\\d{1,2})/gi,type:\"kw0\"},{regex:/(@[0-9])/gi,type:\"k2\"},{regex:/^\\s*?(\\w+:)\\s*?/gm,type:\"kw6\"},{regex:/(^|:)\\s*?(\\w+)\\s+/gm,type:\"kw0\"},{regex:/(0x[A-F0-9]+|\\$[A-F0-9]+)/gi,type:\"nu2\"},h.bin,h.int,h.fCalls,{regex:/\\b[A-Z]{2,}[0-9]?[0-9]?\\b/g,type:\"kw9\"}]}}],[{key:\"alias\",value:function(){return[\"avrasm\"]}}]),t}(),_=function(){a(t,x);var e=p(t);function t(){return r(this,t),e.apply(this,arguments)}return i(t,[{key:\"setupLanguage\",value:function(){this.rules=[h.dqStrings,h.char,{regex:/@[\\W\\w_][\\w]+/gm,type:\"k11\"},h.boolean,h.null,h.prop,{regex:/#.*$/gm,type:\"k4\"},{regex:/\\b(break|case|catch|continue|do|else|for|if|goto|switch|try|throw|while)\\b/g,type:\"k1\"},{regex:/\\b(__[A-Z][A-Z0-9_]+__|__cplusplus)\\b/g,type:\"e3\"},{regex:/\\b(\\w+\\d+?_t)\\b/g,type:\"k5\"},{regex:/\\b(bool|char|double|float|int|long|short|void)\\b/g,type:\"k5\"},{regex:/\\b(enum|struct|typedef|union)\\b/g,type:\"k2\"},{regex:/\\b(const|volatile|unsigned|signed|restrict)\\b/g,type:\"k8\"},{regex:/\\b(asm|auto|class|auto|default|explicit|export|extern|friend|inline|thread_local|static_assert|nullptr|noexcept|friend|decltype|constexpr|alignof|alignas|virtual|using|typename|typeid|this|template|static|return|register|public|protected|private|operator|namespace|mutable|inline)\\b/g,type:\"k0\"},{regex:/\\b(new|delete|cast|const_cast|dynamic_cast|static_cast|reinterpret_cast|sizeof|and|bitand|and_eq|not|not_eq|or|bitor|or_eq|xor|xor_eq|compl)\\b/g,type:\"k3\"},h.mCalls,h.fCalls,h.slashComments,h.blockComments,h.octal,h.bin,h.hex,h.floats,h.brackets]}}],[{key:\"alias\",value:function(){return[\"c++\",\"c\"]}}]),t}(),E=function(){a(t,x);var e=p(t);function t(){return r(this,t),e.apply(this,arguments)}return i(t,[{key:\"setupLanguage\",value:function(){this.rules=[{regex:/\\$(\"(?:[^\"\\\\]|\\\\.)*\")/g,type:\"s0\",filter:function(e){return k(e,/\\{.*?}/g,function(e){return[C(e[0],\"s3\")]})}},h.dqStrings,h.char,h.null,h.boolean,h.prop,{regex:/\\b(bool|byte|char|decimal|double|float|int|long|sbyte|short|uint|ulong|ushort|void)\\b/g,type:\"k5\"},{regex:/\\b(while|try|throw|switch|if|goto|foreach|for|finally|else|do|continue|catch|case|break)\\b/g,type:\"k1\"},{regex:/^((?:using|namespace)\\s+)(\\w[\\w._]+[;{\\n])/gm,type:[\"k0\",\"k10\"]},{regex:/\\b(enum|struct|var)\\b/g,type:\"k2\"},{regex:/\\b(const|in|out)\\b/g,type:\"k8\"},{regex:/\\b(using|volatile|virtual|using|unsafe|unchecked|static|stackalloc|sealed|return|ref|readonly|public|protected|private|params|override|operator|object|namespace|lock|is|internal|interface|implicit|fixed|extern|explicit|event|delegate|default|class|checked|base|as|abstract)\\b/g,type:\"k0\"},{regex:/\\b(add|alias|ascending|async|await|by|descending|dynamic|equals|from|get|global|group|into|join|let|nameof|on|orderby|partial|remove|select|set|unmanaged|value|var|when|where|yield)\\b/g,type:\"k0\"},{regex:/\\b(this)\\b/g,type:\"k9\"},{regex:/\\b(new|sizeof|typeof)\\b/g,type:\"k3\"},h.fCalls,h.mCalls,h.slashComments,h.blockComments,h.docComments,h.int,h.floats,h.bin,h.hex,h.octal,h.brackets]}}],[{key:\"alias\",value:function(){return[\"c#\"]}}]),t}(),A={pseudoElements:{regex:/[\\w\\])](::?[\\w-]+)\\b/g,type:\"x15\"},idSelector:{regex:/(#[\\w-]+)/g,type:\"x10\"},classSelector:{regex:/(\\.[\\w-]+)/g,type:\"x11\"},elementSelector:{regex:/\\b([\\w-]+)/g,type:\"x16\"}},L=function(){a(t,x);var e=p(t);function t(){return r(this,t),e.apply(this,arguments)}return i(t,[{key:\"setupLanguage\",value:function(){var t=[A.pseudoElements,A.idSelector,A.classSelector,A.elementSelector,h.dqStrings,h.sqStrings];this.rules=[{regex:/(?:^|}|\\*\\/|;|{)\\s*([^{};/]+?)\\s*{/g,type:\"text\",filter:function(e){return m(e.text,t)}},h.dqStrings,h.sqStrings,{regex:/\\W@(charset|import|namespace|page|font-face|keyframes|viewport|document|supports)\\b/gi,type:\"k4\"},{regex:/(url\\s*)(\\(.*?\\))/gi,type:[\"m0\",\"s0\"]},{regex:/(#[a-z0-9]+)\\W/gi,type:\"x14\"},{regex:/(-?\\.?\\d+[.\\d]*(%|[a-z]{2,4})?)/gim,type:\"x13\"},{regex:/([\\w-]+)\\s*:/g,type:\"x12\"},h.blockComments,h.brackets]}}],[{key:\"alias\",value:function(){return[\"styles\"]}}]),t}(),q=function(){a(t,x);var e=p(t);function t(){return r(this,t),e.apply(this,arguments)}return i(t,[{key:\"setupLanguage\",value:function(){this.rules=[{regex:/^(\"\"\"[\\s\\S]*?\"\"\"|'''[\\s\\S]*?''')/gm,type:\"c9\"},{regex:/(\"\"\"[\\s\\S]*?\"\"\"|'''[\\s\\S]*?''')/g,type:\"s5\"},h.dqStrings,h.sqStrings,{regex:/\\b(__[a-z]+__)\\b/g,type:\"e3\"},{regex:/[^;]\\s*(from\\s+)([\\w.]+)(\\s+import)/gi,type:[\"k0\",\"k10\",\"k0\"]},{regex:/\\b(raise|while|try|if|for|finally|else|elif|continue|break)\\b/g,type:\"k1\"},{regex:/\\b(yield|with|return|pass|lambda|is|in|import|global|from|except|def|class|assert|as|async|await)\\b/g,type:\"k0\"},{regex:/\\b(and|or|not|del)\\b/g,type:\"k3\"},{regex:/\\b(True|False)\\b/g,type:\"e0\"},{regex:/\\b(None)\\b/g,type:\"e1\"},h.mCalls,h.fCalls,h.poundComments,h.int,h.hex,h.floats,h.octal,h.brackets]}}],[{key:\"alias\",value:function(){return[\"py\"]}}]),t}(),I=function(){a(t,q);var e=p(t);function t(){return r(this,t),e.apply(this,arguments)}return i(t,[{key:\"setupLanguage\",value:function(){y(s(t.prototype),\"setupLanguage\",this).call(this);this.rules=[{regex:/\\b(bool|char|double|float|int|long|short|void)\\b/g,type:\"k5\"},{regex:/\\b(enum|struct|typedef|union|object)\\b/g,type:\"k2\"},{regex:/\\b(const|volatile|unsigned|signed|restrict)\\b/g,type:\"k8\"},{regex:/\\b(readonly|extern|namespace|public|privat|include|cimport|pyximport|cythonize|cdef|cpdef|ctypedef|property|IF|ELIF|ELSE|DEF)\\b/g,type:\"k0\"}].concat(this.rules)}}]),t}(),W=function(){a(t,x);var e=p(t);function t(){return r(this,t),e.apply(this,arguments)}return i(t,[{key:\"setupLanguage\",value:function(){this.rules=[h.poundComments,h.brackets,{regex:/\\[(\\w+)\\]/gm,type:\"k9\"},{regex:/\\{([\\w_-]+)\\s*(?::\\s*(.*?))?}/gm,type:[\"k7\",\"s0\"]}]}}]),t}(),N=function(){a(t,x);var e=p(t);function t(){return r(this,t),e.apply(this,arguments)}return i(t,[{key:\"setupLanguage\",value:function(){this.rules=[{regex:/^([+-]{3}.*)$/gm,type:\"c0\"},{regex:/^(@@.*@@\\s*)/gm,type:\"t2\"},{regex:/^(\\+.*)/gm,type:\"t5\"},{regex:/^(-.*)/gm,type:\"t6\"}]}}]),t}(),D=function(){a(t,x);var e=p(t);function t(){return r(this,t),e.apply(this,arguments)}return i(t,[{key:\"setupLanguage\",value:function(){this.rules=[h.dqStrings,{regex:/\\$\\{\\w+\\}/gi,type:\"k7\"},{regex:/ARG\\s+(\\w+)(?:(=)(.*?)$)?/gim,type:[\"k7\",\"k3\",\"s0\"]},{regex:/ENV\\s+(\\w+)(?:(\\s+|=)(.*?)$)?/gim,type:[\"k7\",\"k3\",\"s0\"]},{regex:/(?:^|[^\\\\])#\\s*\\w+=.*$/gm,type:\"k4\"},h.poundComments,{regex:/^([a-z]+)\\b/gim,type:\"k0\"},{regex:/\\b(AS)\\b/gi,type:\"k0\"},{regex:/^\\s+(&&)/gim,type:\"k3\"},h.brackets]}}],[{key:\"alias\",value:function(){return[\"docker\"]}}]),t}(),$=function(){a(t,x);var e=p(t);function t(){return r(this,t),e.apply(this,arguments)}return i(t,[{key:\"setupLanguage\",value:function(){this.rules=[h.dqStrings,h.bqStrings,h.char,h.boolean,{regex:/\\b(nil)\\b/gi,type:\"e1\"},h.prop,{regex:/\\b(var)\\b/g,type:\"k2\"},{regex:/\\b(case|break|default|else|goto|switch|if|continue|for)\\b/g,type:\"k1\"},{regex:/\\b(func|interface|select|defer|go|map|chan|package|fallthrough|range|import|return)\\b/g,type:\"k0\"},{regex:/\\b(iota)\\b/g,type:\"k9\"},{regex:/\\b(bool|string|u?int(8|16|32|64)?|uintptr|byte|rune|float32|float64|complex64|complex128)\\b/g,type:\"k5\"},{regex:/\\b(struct|type)\\b/g,type:\"k2\"},{regex:/\\b(const)\\b/g,type:\"k8\"},h.mCalls,h.fCalls,h.slashComments,h.octal,h.int,h.complex,h.floats,h.hex,h.brackets]}}],[{key:\"alias\",value:function(){return[\"golang\"]}}]),t}(),O=function(){a(t,x);var e=p(t);function t(){return r(this,t),e.apply(this,arguments)}return i(t,[{key:\"setupLanguage\",value:function(){this.rules=[{regex:/(\"\"\"[\\s\\S]*?\"\"\"|'''[\\s\\S]*?''')/g,type:\"s5\"},h.dqStrings,h.sqStrings,h.char,h.slashComments,h.blockComments,h.docComments,{regex:/(\\/(?:[^/\\\\]|\\\\.)*\\/)/g,type:\"s5\"},h.prop,{regex:/\\b(byte|char|short|int|long|float|double|String)\\b/g,type:\"k5\"},{regex:/\\b(break|case|catch|continue|default|do|else|finally|for|goto|if|switch|throw|try|while)\\b/g,type:\"k1\"},{regex:/^(package|import)(\\s+[\\w.]+)/gm,type:[\"k0\",\"k10\"]},{regex:/\\b(const|enum|def)\\b/g,type:\"k2\"},{regex:/\\b(as|assert|class|extends|goto|implements|in|interface|return|thows|trait)\\b/g,type:\"k0\"},{regex:/\\b(this|super)\\b/g,type:\"k9\"},{regex:/\\b(instanceof|new)\\b/g,type:\"k3\"},h.fCalls,h.mCalls,h.null,h.boolean,{regex:/^#.*/g,type:\"k9\"},{regex:/[\\b\\W](-?0[0-7][0-7_]+[GLIDF]?)\\b/gi,type:\"n4\"},{regex:/[\\b\\W](-?\\d[\\d_]*[GLIDF]?)(?!\\.)\\b/gi,type:\"n1\"},{regex:/[\\b\\W](-?0x[A-F0-9][A-F0-9_]+[GLIDF]?)\\b/gi,type:\"n2\"},{regex:/[\\b\\W](-?0b[01][01_]+[GLIDF]?)\\b/gi,type:\"n3\"},{regex:/(-?((?:\\d+\\.\\d+|\\.\\d+|\\d+\\.)(?:e[+-]?\\d+)?)|\\d+(?:e[+-]?\\d+)?)/gi,type:\"n0\"},h.brackets]}}]),t}(),T=function(){a(t,x);var e=p(t);function t(){return r(this,t),e.apply(this,arguments)}return i(t,[{key:\"setupLanguage\",value:function(){this.rules=[h.dqStrings,{regex:/(;.*)$/gm,type:\"c0\"},h.poundComments,{regex:/^\\s*?(\\[.*])\\s*?$/gm,type:\"t2\"},{regex:/^(\\s*?[a-z0-9._-]+\\s*?)(=)/gim,type:[\"k2\",\"k3\"]},{regex:/\\b(true|false|on|off|yes|no)\\b/gim,type:\"e0\"},h.octal,h.bin,h.hex,h.floats,h.brackets]}}],[{key:\"alias\",value:function(){return[\"conf\",\"cnf\"]}}]),t}(),R=function(){a(t,x);var e=p(t);function t(){return r(this,t),e.apply(this,arguments)}return i(t,[{key:\"setupLanguage\",value:function(){this.rules=[h.dqStrings,h.char,{regex:/@[\\W\\w_][\\w]+/gm,type:\"k11\"},h.prop,{regex:/\\b(boolean|byte|char|short|int|long|float|double|String|void|Integer|Double|BigInt|Float|Boolean|Byte|Char|Long)\\b/g,type:\"k5\"},{regex:/\\b(while|try|catch|case|else|throw|break|if|do|goto|switch|for|continue)\\b/g,type:\"k1\"},{regex:/^(package|import)(\\s+[\\w.]+)/gm,type:[\"k0\",\"k10\"]},{regex:/\\b(enum)\\b/g,type:\"k2\"},{regex:/\\b(const)\\b/g,type:\"k8\"},{regex:/\\b(native|volatile|strictfp|finally|class|static|interface|final|extends|transient|return|throws|public|protected|implements|private|synchronized|default|assert|abstract)\\b/g,type:\"k0\"},{regex:/\\b(this|super)\\b/g,type:\"k9\"},{regex:/\\b(instanceof|new)\\b/g,type:\"k3\"},h.fCalls,h.mCalls,h.null,h.boolean,h.slashComments,h.blockComments,h.docComments,h.int,h.floats,h.bin,h.hex,h.octal,h.brackets]}}]),t}(),F=function(){a(t,x);var e=p(t);function t(){return r(this,t),e.apply(this,arguments)}return i(t,[{key:\"setupLanguage\",value:function(){function e(e){return k(e,/\\\\(x[A-F0-9]{2}|u[A-F0-9]{4}|.)/gi,function(e){return[C(e[0],\"s4\")]})}this.rules=[{regex:h.sqStrings.regex,type:\"s0\",filter:e},{regex:h.dqStrings.regex,type:\"s0\",filter:e},{regex:/`(?:[^`\\\\]|\\\\.)*`/g,type:\"s2\",filter:function(e){return k(e,/\\$\\{.*?}/g,function(e){return[C(e[0],\"s3\")]})}},h.boolean,h.null,h.prop,{regex:/\\b(var|let|enum|const)\\b/g,type:\"k2\"},{regex:/\\b(document|window|console)\\b/g,type:\"k9\"},{regex:/\\b(break|case|catch|continue|do|else|finally|for|if|switch|try|while|throw)\\b/g,type:\"k1\"},{regex:/\\b(as|async|class|constructor|debugger|default|export|extends|function|import|return|with|yield|implements|package|protected|static|interface|private|public|await|module)\\b/g,type:\"k0\"},{regex:/\\b(this|super)\\b/g,type:\"k9\"},{regex:/\\b(instanceof|new|delete|typeof|void|in)\\b/g,type:\"k3\"},{regex:/\\W(=>)\\W/g,type:\"k3\"},h.slashComments,h.blockComments,{regex:/\\W(\\/(?:[^/\\\\]|\\\\.)*\\/\\w*)/g,type:\"e2\"},h.mCalls,h.fCalls,{regex:/\\{|}|\\(|\\)|\\[|]/g,type:\"g1\"},{regex:/[\\b\\W](-?0o[0-7]+)(?!\\.)\\b/g,type:\"n4\"},h.bin,h.hex,h.floats,h.int]}}],[{key:\"alias\",value:function(){return[\"js\"]}}]),t}(),j=function(){a(t,x);var e=p(t);function t(){return r(this,t),e.apply(this,arguments)}return i(t,[{key:\"setupLanguage\",value:function(){this.rules=[{regex:/\"(?:[^\"\\\\]|\\\\.)*\"\\s*:/g,type:\"k2\"},h.dqStrings,h.boolean,h.null,{regex:/\\{|}|\\(|\\)|\\[|]/g,type:\"g1\"},h.int,h.floats,{regex:/,|:/g,type:\"g0\"}]}}]),t}(),z=function(){a(t,x);var e=p(t);function t(){return r(this,t),e.apply(this,arguments)}return i(t,[{key:\"setupLanguage\",value:function(){function e(e){return k(e,/\\$(?:\\{.*?}|\\w+)/g,function(e){return[C(e[0],\"s3\")]})}this.rules=[{regex:/\"\"\"[\\s\\S]*?\"\"\"/g,type:\"s5\",filter:e},{regex:h.dqStrings.regex,type:\"s0\",filter:e},h.char,h.prop,{regex:/\\b(Double|Float|Long|Int|Short|Byte|Any|String|Array)\\b/g,type:\"k5\"},{regex:/\\b(break|continue|do|else|for|if|throw|try|when|while|catch|finally)\\b/g,type:\"k1\"},{regex:/^(package|import)(\\s+[\\w.]+)/gm,type:[\"k0\",\"k10\"]},{regex:/\\b(enum|typealias|object|companion|val|var)\\b/g,type:\"k2\"},{regex:/\\b(actual|abstract|annotation|companion|crossinline|data|expect|external|final|infix|inline|inner|internal|lateinit|noinline|open|operator|out|override|private|protected|public|reified|sealed|suspend|tailrec|vararg)\\b/g,type:\"k8\"},{regex:/\\b(as|class|fun|in|interface|is|return|by|constructor|delegate|dynamic|field|file|get|init|param|property|receiver|set|setparam|where|field|it)\\b/g,type:\"k0\"},{regex:/\\b(this|super)\\b/g,type:\"k9\"},{regex:/\\b(instanceof|new)\\b/g,type:\"k3\"},{regex:/(@\\w+|\\w+@)/gm,type:\"k6\"},h.fCalls,h.mCalls,h.null,h.boolean,h.slashComments,h.blockComments,{regex:/[\\b\\W](-?\\d[\\d_]*L?)(?!\\.)\\b/g,type:\"n1\"},h.floats,{regex:/[\\b\\W](-?0x[A-F0-9][A-F0-9_]+)\\b/gi,type:\"n2\"},{regex:/[\\b\\W](-?0b[01][01_]+)\\b/gi,type:\"n3\"},h.brackets]}}]),t}(),B=function(){a(t,x);var e=p(t);function t(){return r(this,t),e.apply(this,arguments)}return i(t,[{key:\"setupLanguage\",value:function(){this.rules=[{regex:/(?:^|[^\\\\])%.*$/gm,type:\"c0\"},{regex:/[^\\\\](\\\\\\w+)(?:[\\W\\s])/gm,type:\"k0\"},{regex:/[$()]/g,type:[\"s3\"]},h.int,h.floats,h.brackets]}}],[{key:\"alias\",value:function(){return[\"tex\"]}}]),t}(),Z=function(){a(t,L);var e=p(t);function t(){return r(this,t),e.apply(this,arguments)}return i(t,[{key:\"setupLanguage\",value:function(){y(s(t.prototype),\"setupLanguage\",this).call(this),this.rules.shift();var e=[h.slashComments,A.pseudoElements,A.idSelector,A.classSelector,{regex:/\\b([\\w][\\w-]+)\\s*\\(/gm,type:\"m0\"},{regex:/@[\\w-]+\\b/g,type:\"k7\"},{regex:/&/gi,type:\"k3\"}];this.rules=this.rules.concat(e)}}]),t}(),M=function(){a(t,x);var e=p(t);function t(){return r(this,t),e.apply(this,arguments)}return i(t,[{key:\"setupLanguage\",value:function(){this.rules=[h.dqStrings,h.poundComments,{regex:/[\\w\\])]\\.([\\w-]+)\\b/g,type:\"m3\"},{regex:/\\b(else)\\b/g,type:\"k1\"},{regex:/\\s\\$[A-Z_]+/g,type:\"k7\"},{regex:/(==|!=|=~|!~)/g,type:\"k3\"},{regex:/\\b(\\w[\\w-]+)\\.\\w/g,type:\"k9\"},h.int,h.brackets]}}],[{key:\"alias\",value:function(){return[]}}]),t}(),P=function(){a(t,x);var e=p(t);function t(){return r(this,t),e.apply(this,arguments)}return i(t,[{key:\"setupLanguage\",value:function(){this.rules=[{regex:/---\\[\\[[\\s\\S]*?(]])/g,type:\"c1\"},{regex:/--\\[\\[[\\s\\S]*?]]/g,type:\"c1\"},{regex:/(--.*)$/gm,type:\"c0\"},h.dqStrings,h.sqStrings,{regex:/(\\[(=*)\\[[\\S\\s]*?]\\2])/g,type:\"s5\"},{regex:/\\b(true|false)\\b/gi,type:\"e0\"},{regex:/\\b(nil)\\b/gi,type:\"e1\"},{regex:/\\b(local)\\b/g,type:\"k2\"},{regex:/\\b(break|do|else|elseif|end|for|if|repeat|then|until|while)\\b/g,type:\"k1\"},{regex:/\\b(function|return|and|in|or|not)\\b/g,type:\"k0\"},h.brackets,h.floats,h.mCalls,h.fCalls]}}]),t}(),U=function(){a(t,x);var e=p(t);function t(){return r(this,t),e.apply(this,arguments)}return i(t,[{key:\"setupLanguage\",value:function(){this.rules=[{regex:/[\\r|\\n](```[a-z_-]*[\\r|\\n][\\S\\s]+?```)/gi,type:\"t8\"},{regex:/^\\s*#{1,6}.+$/gm,type:\"t1\"},{regex:/(.+[\\r|\\n][=-]{3,})[\\r|\\n]/g,type:\"t1\"},{regex:/`.+?`/g,type:\"t8\"},{regex:/^(?:\\*|_|-){3,}$/gm,type:\"t2\"},{regex:/\\W(\\*\\*|\\*|~~|~|__|_)(.*?\\1)\\W/gm,type:\"t4\"},{regex:/!?\\[.*?]\\(.*?\\)/g,type:\"t3\"}]}}],[{key:\"alias\",value:function(){return[\"md\",\"gfm\"]}}]),t}(),G=function(){a(t,x);var e=p(t);function t(){return r(this,t),e.apply(this,arguments)}return i(t,[{key:\"setupLanguage\",value:function(){this.rules=[{regex:/%.*$/gm,type:\"c0\"},{regex:/%%.*$/gm,type:\"c1\"},h.sqStrings,h.dqStrings,h.boolean,h.mCalls,h.prop,{regex:/\\b(break|case|catch|continue|do|else|elseif|end|end_try_catch|endfor|endif|endmethods|endparfor|endproperties|endswitch|endwhile|for|if|switch|try|until|while)\\b/gi,type:\"k1\"},{regex:/\\b(__FILE__|__LINE__|classdef|end_unwind_protect|endclassdef|endenumeration|endevents|endfunctionenumeration|events|function|global|methods|otherwise|parfor|persistent|properties|return|static|unwind_protect|unwind_protect_cleanup)\\b/gi,type:\"k0\"},{regex:/(@[\\w]+)\\s*/gm,type:\"k7\"},h.fCalls,h.floats,h.brackets]}}]),t}(),H=function(){a(t,x);var e=p(t);function t(){return r(this,t),e.apply(this,arguments)}return i(t,[{key:\"setupLanguage\",value:function(){this.rules=[h.dqStrings,h.sqStrings,h.poundComments,{regex:/([a-z]+)\\s*\\{/g,type:\"k9\"},{regex:/^\\s*([a-z]\\w+)\\s/gm,type:\"k0\"},{regex:/\\W([a-z]+:\\/\\/.*?);/g,type:\"k9\"},{regex:/\\b(\\d+\\.\\d+\\.\\d+\\.\\d+(?::\\d+))\\b/g,type:\"k9\"},{regex:/(?:\\W)\\$[a-z_]+/g,type:\"k7\"},{regex:/[\\b\\W](\\d+[kmgdyw])\\b/g,type:\"n0\"},h.int,h.brackets]}}],[{key:\"alias\",value:function(){return[]}}]),t}(),V=function(){a(t,x);var e=p(t);function t(){return r(this,t),e.apply(this,arguments)}return i(t,[{key:\"setupLanguage\",value:function(){this.rules=[h.dqStrings,h.sqStrings,h.bqStrings,{regex:/^\\s*(Var(\\s+\\\\GLOBAL)?)(\\s+\\w+)\\b/g,type:[\"k2\",\"k7\"]},{regex:/\\W(\\$\\{\\w+})\\W/g,type:\"k9\"},{regex:/\\W(\\$\\w+)\\b/g,type:\"k7\"},{regex:/^\\s*([A-Z]\\w+)\\s+/gm,type:\"k0\"},{regex:/\\b[A-Z][A-Z_]*[A-Z]\\b/g,type:\"e3\"},{regex:/^\\s*(!\\w+)\\s+/gm,type:\"k4\"},{regex:/^\\s*(\\w+:)\\s*$/gim,type:\"k6\"},{regex:/\\b(admin|all|auto|both|colored|false|force|hide|highest|lastused|leave|listonly|none|normal|notset|off|on|open|print|show|silent|silentlog|smooth|textonly|true|user)\\b/gi,type:\"k9\"},h.blockComments,{regex:/[#;].*?$/gm,type:\"c0\"},h.int,h.hex,h.octal,h.brackets]}}]),t}(),J=function(){a(t,x);var e=p(t);function t(){return r(this,t),e.apply(this,arguments)}return i(t,[{key:\"setupLanguage\",value:function(){this.rules=[h.sqStrings,h.dqStrings,h.heredoc,h.boolean,h.null,{regex:/(self|parent|\\$this)/gi,type:\"k9\"},{regex:/\\b(as|break|case|catch|do|else|elseif|enddeclare|endfor|endforeach|endif|endswitch|endwhile|finally|for|foreach|goto|if|switch|throw|try|while)\\b/g,type:\"k1\"},{regex:/\\b__[A-Z][A-Z0-9_]+__\\b/g,type:\"e3\"},{regex:/\\b(__halt_compiler|abstract|array|callable|class|const|continue|declare|default|die|echo|empty|eval|exit|extends|final|function|global|implements|include|include_once|instanceof|insteadof|interface|isset|list|namespace|print|private|protected|public|require|require_once|return|static|trait|use|var|yield)\\b/g,type:\"k0\"},{regex:/\\b(and|or|xor|clone|new|unset)\\b/g,type:\"k3\"},{regex:/\\b(int|float|bool|string|resource|object|mixed|numeric)\\b/g,type:\"k5\"},h.slashComments,h.poundComments,h.blockComments,{regex:/\\$[^\\s=;()]+/gim,type:\"k7\"},{regex:/\\b([^\\s(]+)\\s*\\(/gm,type:\"m0\"},{regex:/->([\\w]+)/gim,type:\"m1\"},{regex:/::([\\w]+)/gim,type:\"m2\"},h.octal,h.bin,h.hex,h.floats,h.brackets]}}]),t}(),X=function(){a(t,x);var e=p(t);function t(){return r(this,t),e.apply(this,arguments)}return i(t,[{key:\"setupLanguage\",value:function(){function e(e){return k(e,/\\$(?:\\w+|\\(.*?\\))/g,function(e){return[C(e[0],\"k7\")]})}this.rules=[{regex:/\"(?:[^\"`]|`.)*\"/g,type:\"s2\",filter:e},h.sqStrings,{regex:/@\"[\\S\\s]*?\\n\\s*\"@/g,type:\"s5\",filter:e},{regex:/@'[\\S\\s]*?\\n\\s*'@/g,type:\"s5\"},{regex:/\\b(Begin|Break|Catch|Continue|Else|Elseif|End|Finally|For|ForEach|If|Switch|Throw|Try|Until|While)\\b/gi,type:\"k1\"},{regex:/\\b(Data|Do|DynamicParam|Exit|Filter|From|Function|In|InlineScript|Hidden|Parallel|Param|Process|Return|Sequence|Trap|Workflow)\\b/gi,type:\"k0\"},{regex:/\\b([A-Z]\\w+(?:-\\w+)+)\\b/gi,type:\"m0\"},{regex:/<#[\\S\\s]+?#>/gi,type:\"c1\"},h.poundComments,{regex:/\\$[A-Z_][\\w]*/gim,type:\"k7\"},h.mCalls,h.fCalls,h.int,h.floats,h.brackets]}}]),t}(),Y=function(){a(t,x);var e=p(t);function t(){return r(this,t),e.apply(this,arguments)}return i(t,[{key:\"setupLanguage\",value:function(){this.rules=[{regex:/(%.*)$/gm,type:\"c0\"},h.blockComments,h.dqStrings,h.sqStrings,{regex:/^(\\w+)(?:\\(.*?\\))?\\s*(?::-|\\.)/gm,type:\"k9\"},{regex:/\\b(true|false|Yes|No|not|fail)\\b/gi,type:\"e0\"},{regex:/\\b(catch|throw|repeat)\\b/g,type:\"k1\"},{regex:/^(\\?-)/g,type:\"k9\"},{regex:/\\b(is)\\b/g,type:\"k3\"},{regex:/[A-Z_][\\w]*/g,type:\"k7\"},h.brackets,h.floats,h.int,h.fCalls]}}]),t}(),Q=function(){a(t,x);var e=p(t);function t(){return r(this,t),e.apply(this,arguments)}return i(t,[{key:\"setupLanguage\",value:function(){this.rules=[h.int,h.floats,{regex:/[\\b\\W](-?\\$[A-F0-9]+)\\b/gi,type:\"n2\"},{regex:/[\\b\\W](-?%[01]+)\\b/gi,type:\"n3\"},{regex:/[\\b\\W](\\*\\w+)\\b/gi,type:\"text\"},h.dqStrings,{regex:/[[\\]()]+/g,type:\"g0\"},{regex:/#\\w+/gim,type:\"g0\"},{regex:/[@?]\\w+/gim,type:\"g1\"},{regex:/(IncludeFile|XIncludeFile|IncludeBinary|IncludePath) (.*?)$/gim,type:\"k0\"},{regex:/\\b(Break|Case|Continue|Default|Else|ElseIf|End|EndIf|EndSelect|For|ForEver|ForEach|Gosub|Goto|If|Next|Repeat|Return|FakeReturn|Select|Until|Wend|While|To|Step)\\b/gi,type:\"k1\"},{regex:/\\b(Array|List|Map|Procedure(?:C|Dll|CDll)?|ProcedureReturn|EndProcedure|Declare(?:C|Dll|CDll)?|ImportC?|EndImport|As|Macro|MacroExpandedCount|EndMacro|UndefineMacro|DeclareModule|EndDeclareModule|Module|EndModule|UseModule|UnuseModule|With|EndWith|PrototypeC?|Runtime|Swap|Data|DataSection|EndDataSection|Read|Restore)\\b/gi,type:\"k2\"},{regex:/\\b(ReDim|Dim|NewList|NewMap|Enumeration|EndEnumeration|Interface|Extends|EndInterface|Structure(?:Union)?|EndStructure(?:Union)?)\\b/gi,type:\"k4\"},{regex:/\\b(?:ReDim|Dim|NewList|NewMap)\\s*([\\w]+)\\(/gim,type:\"text\"},{regex:/\\b(Define|Global|Protected|Shared|Static|Threaded)\\b/gi,type:\"k3\"},{regex:/[\\w\\])]\\.(s{\\d+}|(?:p-ascii|p-utf8|p-bstr|p-unicode|p-variant)|\\w+)(?:\\([\\d,]*\\))?/gi,type:\"k4\"},{regex:/\\b(CompilerIf|CompilerElse|CompilerElseIf|CompilerEndIf|CompilerSelect|CompilerCase|CompilerDefault|CompilerEndSelect|CompilerError|CompilerWarning|EnableExplicit|DisableExplicit|EnableASM|DisableASM|EnableDebugger|DisableDebugger|Debug|DebugLevel|CallDebugger)\\b/gi,type:\"k5\"},{regex:/\\W(And|Not|Or|Xor)\\W/gi,type:\"k6\"},{regex:/(<=|=<|>=|=>|<>|<<|>>|=|-|\\+|\\/|%|<|>|&|\\||!|~)/gi,type:\"k6\"},{regex:/(\\*)(?:\\d|\\s*(?:\\b|-|\\(|%|\\$|\\*))/gi,type:\"k6\"},{regex:/(\\w+)::/gi,type:\"k7\"},{regex:/(\\w+):/gi,type:\"k8\"},h.fCalls,{regex:/;.*$/gm,type:\"c0\"},{regex:/\\\\(\\w+)\\b/g,type:\"m3\"}]}}],[{key:\"alias\",value:function(){return[\"pb\"]}}]),t}(),K=function(){a(t,x);var e=p(t);function t(){return r(this,t),e.apply(this,arguments)}return i(t,[{key:\"setupLanguage\",value:function(){this.rules=[h.dqStrings,h.prop,{regex:/\\b([A-Z]\\w+)\\b/g,type:\"k5\"},{regex:/^(import)(\\s+[\\w.]+)/gm,type:[\"k0\",\"k5\"]},{regex:/\\b(bool|char|double|float|int|long|short|void|string)\\b/g,type:\"k5\"},h.mCalls,h.null,h.boolean,h.slashComments,h.blockComments,h.int,h.floats,h.brackets]}}]),t}(),ee=function(){a(t,x);var e=p(t);function t(){return r(this,t),e.apply(this,arguments)}return i(t,null,[{key:\"alias\",value:function(){return[]}}]),t}(),te=function(){a(t,x);var e=p(t);function t(){return r(this,t),e.apply(this,arguments)}return i(t,[{key:\"setupLanguage\",value:function(){this.rules=[{regex:/^(.*?)$/g,type:\"text\"}]}}]),t}(),re=function(){a(t,x);var e=p(t);function t(){return r(this,t),e.apply(this,arguments)}return i(t,[{key:\"setupLanguage\",value:function(){this.rules=[h.dqStrings,{regex:/(\"[\\s\\S]*?\")/g,type:\"s5\"},{regex:/\\b(yes|no)\\b/gi,type:\"e0\"},{regex:/\\b([\\w-]+)(=)/gi,type:[\"k6\",\"k3\"]},{regex:/[^\\b](:local|:global)\\s/gm,type:\"k2\"},{regex:/^\\/\\w+(?:\\s+[a-z-]+)*\\s*$/gm,type:\"k10\"},{regex:/\\b(add|set|print|enable|disable|export|find|get|move|remove)\\b/gi,type:\"k9\"},{regex:/[^\\b](:[a-z-]+)\\s/gm,type:\"k0\"},{regex:/\\$[\\w]*/gi,type:\"k7\"},{regex:/(?:[a-f0-9]{2}:){5}(?:[a-f0-9]{2})/gi,type:\"s0\"},{regex:/(?:\\d{1,3}\\.){3}(?:\\d{1,3})(?:\\/\\d{1,2})?/gi,type:\"s0\"},h.poundComments,{regex:/[\\b\\W](-?\\d+)([a-z]{1,4})?[\\b\\W]/gi,type:\"n0\"},h.int,h.hex,h.brackets]}}],[{key:\"alias\",value:function(){return[\"mikrotik\",\"mt\",\"switchos\",\"ros\"]}}]),t}(),ne=function(){a(t,x);var e=p(t);function t(){return r(this,t),e.apply(this,arguments)}return i(t,[{key:\"setupLanguage\",value:function(){function e(e){return e.text.match(/^%r/)?e.type=\"e2\":e.text.match(/^%x/)&&(e.type=\"e4\"),[e]}this.rules=[h.dqStrings,h.sqStrings,h.heredoc,{regex:/(`(?:[^`\\\\]|\\\\.)*`)/g,type:\"e4\"},h.boolean,{regex:/\\b(nil)\\b/gi,type:\"e1\"},h.fCalls,h.prop,{regex:/@{1,2}[A-Za-z_]\\w*\\W/g,type:\"k7\"},{regex:/[^:](:[\\w]+)\\b/g,type:\"k6\"},{regex:/(\\$[a-z0-9_-]+|\\$.)\\W/gi,type:\"k9\"},{regex:/\\b(begin|break|case|do|else|elsif|end|ensure|for|if|in|next|redo|rescue|retry|then|unless|until|when|while)\\b/gi,type:\"k1\"},{regex:/\\b((?:__)?[A-Z][A-Z0-9_]+)\\b/g,type:\"e3\"},{regex:/\\b(alias|class|defined\\?|undef|def|module|return|self|super|yield)\\W/gi,type:\"k0\"},{regex:/\\b(and|not|or)\\b/gi,type:\"k3\"},h.poundComments,{regex:/^=begin[\\S\\s]*?^=end/gim,type:\"c2\"},{regex:/(%[iqrswx](\\W)(?:[^\\2\\n\\\\]|\\\\.)*\\2[iomx]*)/gim,type:\"s2\",filter:e},{regex:/(%[iqrswx]?(\\{(?:[^}\\\\]|\\\\.)*}|\\[(?:[^}\\\\]|\\\\.)*]|\\((?:[^)\\\\]|\\\\.)*\\))[iomx]*)/gim,type:\"s2\",filter:e},{regex:/\\W(\\/(?:[^/\\\\]|\\\\.)*\\/\\w*)\\W/g,type:\"e2\"},{regex:/\\W\\?(?:\\w|\\\\M|\\\\C)(?:-\\w|-\\\\M|-\\\\C)*\\b/g,type:\"n1\"},{regex:/[\\b\\W](-?\\d[\\d_]+?)(?!\\.)\\b/g,type:\"n1\"},{regex:/[\\b\\W](-?0x[A-F0-9][A-F0-9_]+)\\b/gi,type:\"n2\"},{regex:/[\\b\\W](-?0b[01][01_]+)\\b/gi,type:\"n3\"},{regex:/[\\b\\W](-?[\\d_]+(?:\\.[\\d_]+)?(?:e[+-]?\\d+)?[ji]?)\\b/gi,type:\"n0\"},h.brackets]}}]),t}(),ie=function(){a(t,x);var e=p(t);function t(){return r(this,t),e.apply(this,arguments)}return i(t,[{key:\"setupLanguage\",value:function(){this.rules=[h.char,{regex:/r((#+)\".*?\"\\2)/gm,type:\"s0\"},{regex:/(\"(?:\\\\.|\\\\\\s*\\n|\\\\s*\\r\\n|[^\\\\\"])*\")/g,type:\"s0\"},{regex:/^\\s*#.*$/gm,type:\"k4\"},{regex:/fn\\s+([\\w]+)\\s*(<\\w+\\s*>)?\\(/gm,type:\"k0\"},{regex:/\\b\\.?([\\w]+)\\s*(\\(|::)/gm,type:\"k1\"},{regex:/\\b([\\w]+)!/gm,type:\"k9\"},{regex:/\\bself\\b/gi,type:\"k9\"},h.boolean,{regex:/\\b(while|loop|in|for|if|else|do|continue|break)\\b/g,type:\"k1\"},{regex:/\\b(type|struct|let|enum)\\b/g,type:\"k2\"},{regex:/\\b(const)\\b/g,type:\"k8\"},{regex:/\\b(yield|where|virtual|use|unsized|unsafe|trait|super|static|return|ref|pure|pub|proc|priv|override|offsetof|mut|move|mod|match|macro|impl|fn|final|extern|crate|box|become|as|alignof|abstract)\\b/g,type:\"k0\"},{regex:/\\b(sizeof|typeof)\\b/g,type:\"k3\"},{regex:/\\b([0-9_]+\\.?[0-9_]+?(e\\+[0-9_]+)?)(?:f32|f64)?\\b/gim,type:\"n0\"},{regex:/\\b([0-9_]+|0o[0-9_]+|0x[A-F0-9_]+|0b[0-1_]+)(?:u8|i8|u16|i16|u32|i32|u64|i64|isize|usize)?\\b/gim,type:\"n1\"},h.slashComments,h.blockComments,{regex:/(?:^|[^\\\\])\\/\\/[/!].*$/gm,type:\"c2\"},{regex:/\\/\\*[*!][\\s\\S]*?\\*\\//gm,type:\"c2\"},h.brackets,{regex:/\\W(&)\\w/g,type:\"k3\"}]}}]),t}(),ae=function(){a(t,x);var e=p(t);function t(){return r(this,t),e.apply(this,arguments)}return i(t,[{key:\"setupLanguage\",value:function(){this.rules=[h.dqStrings,h.char,{regex:/s\"(?:[^\"\\\\]|\\\\.)*\"/g,type:\"s2\"},{regex:/`(?:[^`\\\\]|\\\\.)*`/g,type:\"k7\"},{regex:/@[\\W\\w_][\\w]+/g,type:\"k11\"},{regex:/\\b([A-Z]\\w*)\\b/g,type:\"k5\"},{regex:/\\b(while|try|catch|else|throw|break|if|do|goto|switch|for|match)\\b/g,type:\"k1\"},{regex:/(package|import)(\\s+[\\w.]+)/gm,type:[\"k0\",\"k10\"]},{regex:/[\\b\\w\\s)](_|:|@|#|<-|←|<:|<%|=|=>|⇒|>:)[\\b\\w\\s]/g,type:\"k3\"},{regex:/\\b(abstract|class|case|extends|final|finally|forSome|implicit|lazy|object|override|private|protected|return|sealed|trait|with|yield)\\b/g,type:\"k0\"},{regex:/\\b(def)\\s+(\\w+)\\b/gm,type:[\"k2\",\"m0\"]},{regex:/\\b(type)\\s+(\\w+)\\b/gm,type:[\"k2\",\"k5\"]},{regex:/\\b(val)\\s+(\\w+)\\b/gm,type:[\"k2\",\"k7\"]},{regex:/\\b(var)\\s+(\\w+)\\b/gm,type:[\"k2\",\"k7\"]},{regex:/\\b(this|super)\\b/g,type:\"k9\"},{regex:/\\b(new)\\b/g,type:\"k3\"},h.mCalls,h.fCalls,h.null,h.boolean,h.slashComments,h.blockComments,h.docComments,h.int,h.floats,h.bin,h.brackets]}}]),t}(),se=function(){a(t,L);var e=p(t);function t(){return r(this,t),e.apply(this,arguments)}return i(t,[{key:\"setupLanguage\",value:function(){y(s(t.prototype),\"setupLanguage\",this).call(this),this.rules.shift();var e=[h.slashComments,A.pseudoElements,A.idSelector,A.classSelector,{regex:/\\b([\\w-]+)\\s*\\(/gm,type:\"m0\"},{regex:/\\$[\\w-]+\\b/g,type:\"k7\"},{regex:/@[\\w-]+\\b/g,type:\"k9\"},{regex:/&/gi,type:\"k3\"}];this.rules=this.rules.concat(e)}}],[{key:\"alias\",value:function(){return[\"sass\"]}}]),t}(),oe=function(){a(t,x);var e=p(t);function t(){return r(this,t),e.apply(this,arguments)}return i(t,[{key:\"setupLanguage\",value:function(){this.rules=[{regex:/(^#!.*?)\\n/gi,type:\"k4\"},h.poundComments,{regex:/[^\\\\](\"(?:[^\"\\\\]|\\\\.)*\")/g,type:\"s0\"},{regex:/`.*?`/gm,type:\"s2\"},{regex:/(\\$)\\(/gm,type:\"s2\"},{regex:/(\\$\\d)\\b/gim,type:\"k9\"},{regex:/(\\$\\w+)\\b/gim,type:\"k7\"},{regex:/^(\\s*\\w+)=/gm,type:\"k7\"},{regex:/^\\s*\\w+\\)\\s*$/gm,type:\"k6\"},{regex:/\\b(if|fi|then|elif|else|for|do|done|until|while|break|continue|case|esac|in|eq|ne|gt|lt|ge|le)\\b/gi,type:\"k1\"},{regex:/\\b(return|function)\\b/gi,type:\"k0\"},{regex:/^\\s*\\w+\\(\\)\\s*\\{/gm,type:\"k0\"},h.int]}}],[{key:\"alias\",value:function(){return[\"bash\",\"sh\",\"zsh\"]}}]),t}(),le=function(){a(t,x);var e=p(t);function t(){return r(this,t),e.apply(this,arguments)}return i(t,[{key:\"setupLanguage\",value:function(){this.rules=[h.poundComments,h.blockComments,{regex:/--.*$/gm,type:\"c0\"},h.null,h.sqStrings,{regex:/`\\w+?`(?:\\.`\\w+?`)*/g,type:\"k9\"},{regex:/\\b(all|and|any|between|exists|in|like|not|or|is null|is not null|unique|=|!=|<>|>|<|>=|<=|!<|!>)\\b/gi,type:\"k3\"},{regex:/\\b(bigint)\\b/g,type:\"k5\"},{regex:/\\b(unsigned)\\b/g,type:\"k8\"},{regex:/\\b(SELECT|INSERT|UPDATE|DELETE|INTO|FROM|CREATE|TABLE|VIEW|WHERE|TRIGGER|ALTER|ORDER BY|DESC|ASC|AS|BETWEEN|JOIN|LEFT|RIGHT|INNER|OUTER|USING|ON|UNION)\\b/gi,type:\"k0\"},{regex:/\\b[A-Z]+\\b/g,type:\"k0\"},h.int,h.floats]}}]),t}(),ge=function(){a(t,x);var e=p(t);function t(){return r(this,t),e.apply(this,arguments)}return i(t,[{key:\"setupLanguage\",value:function(){this.rules=[h.dqStrings,{regex:h.sqStrings.regex,type:\"n0\"},h.prop,h.slashComments,h.poundComments,h.blockComments,h.brackets,{regex:/\\b(const|enum|local)\\b/g,type:\"k2\"},{regex:/\\b(break|case|catch|continue|else|for|foreach|if|switch|while|try|do)\\b/g,type:\"k1\"},{regex:/\\b(base|class|clone|constructor|default|extends|false|function|null|resume|return|static|this|throw|true|yield)\\b/g,type:\"k0\"},{regex:/\\b(delete|in|instanceof|typeof)\\b/g,type:\"k3\"},h.mCalls,h.fCalls,h.octal,h.hex,h.floats,h.int]}}]),t}(),ue=function(){a(t,x);var e=p(t);function t(){return r(this,t),e.apply(this,arguments)}return i(t,[{key:\"setupLanguage\",value:function(){this.rules=[h.dqStrings,h.boolean,{regex:/#.*$/gm,type:\"k4\"},h.prop,{regex:/(import )(.*?)$/gm,type:[\"k0\",\"k10\"]},{regex:/\\b(nil)\\b/gi,type:\"e1\"},{regex:/\\b(break|case|continue|default|do|else|for|if|switch|while|catch|throw|try)\\b/g,type:\"k1\"},{regex:/\\b(var|let|enum|struct)\\b/g,type:\"k2\"},{regex:/\\b(Int|UInt|Float|Double|Bool|String|Character|Optional|Array|Dictionary)\\b/g,type:\"k5\"},{regex:/\\b(associatedtype|class|deinit|extension|func|init|inout|internal|operator|private|protocol|public|static|subscript|typealias|defer|fallthrough|guard|in|as|repeat|return|where|dynamicType|is|rethrows|super|self|Self|throws|associativity|convenience|dynamic|didSet|final|get|infix|indirect|lazy|left|mutating|none|nonmutating|optional|override|postfix|precedence|prefix|Protocol|required|right|set|Type|unowned|weak|willSet)\\b/g,type:\"k0\"},h.mCalls,h.fCalls,{regex:/(?:^|[^\\\\])\\/\\/\\/.*$/gm,type:\"c2\"},h.docComments,h.slashComments,h.blockComments,{regex:/[\\b\\W](-?0b[01_]+)\\b/gi,type:\"n3\"},{regex:/[\\b\\W](-?0x[A-F0-9_]+)(?!\\.)\\b/gi,type:\"n2\"},{regex:/[\\b\\W](-?0o[0-7_]+)(?!\\.)\\b/g,type:\"n4\"},{regex:/[\\b\\W](-?[\\d_]+)(?!\\.)\\b/g,type:\"n1\"},{regex:/(-?(?:[\\d_]+\\.[\\d_]+(?:e[+-]?[\\d_]+)?))/gi,type:\"n0\"},{regex:/(-?0x(?:[A-F0-9_]+\\.[A-F0-9_]+(?:p[+-]?[A-F0-9_]+)?))/gi,type:\"n2\"},h.brackets]}}]),t}(),pe=function(){a(t,F);var e=p(t);function t(){return r(this,t),e.apply(this,arguments)}return i(t,[{key:\"setupLanguage\",value:function(){y(s(t.prototype),\"setupLanguage\",this).call(this);this.rules=[{regex:/\\b(boolean|number|string|any|void|undefined|never|symbol)\\b/g,type:\"k5\"},{regex:/\\b(type|interface)\\b/g,type:\"k2\"},{regex:/\\b(abstract|implements|readonly)\\b/g,type:\"k8\"},{regex:/\\b(declare|namespace)\\b/g,type:\"k0\"},{regex:/\\b([\\w]+)\\s*</gm,type:\"m0\"},{regex:/[<>]/g,type:\"g1\"}].concat(this.rules)}}]),t}(),ce=function(){a(t,x);var e=p(t);function t(){return r(this,t),e.apply(this,arguments)}return i(t,[{key:\"setupLanguage\",value:function(){this.rules=[{regex:/((?:^\\s*|\\s+)--.*$)/gm,type:\"c0\"},{regex:/^\\s*(?:use|library)\\s*(\\S+);/gim,type:\"k9\"},h.fCalls,{regex:/\\*\\*|\\*|\\/|\\+|-|&|=|\\/=|<|<=|>|>=/g,type:\"g0\"},h.dqStrings,{regex:/('.')/g,type:\"s0\"},h.brackets,{regex:/\\b(alias|array|variable|downto|range|to|type|units)\\b/g,type:\"k2\"},{regex:/\\b(array|buffer|bus|file)\\b/g,type:\"k5\"},{regex:/\\b(if|else|elsif|end|for|while|loop|when|begin|block|case|exit|next|then)\\b/g,type:\"k1\"},{regex:/\\b(access|after|all|architecture|attribute|assert|body|component|configuration|constant|disconnect|entity|function|generate|generic|group|guarded|impure|in|inertial|inout|is|label|library|linkage|literal|map|null|of|on|open|others|out|package|port|postponed|procedure|process|pure|record|return|select|severity|signal|shared|subtype|transport|unaffected|use|vaiable|with|wait|until)\\b/g,type:\"k0\"},{regex:/\\b(abs|not|mod|rem|sll|srl|sla|sra|rol|ror|and|or|nand|nor|xor|xnor|new)\\b/g,type:\"k3\"},h.floats]}}]),t}(),ye=function(){a(t,x);var e=p(t);function t(){return r(this,t),e.apply(this,arguments)}return i(t,[{key:\"setupLanguage\",value:function(){this.rules=[h.dqStrings,h.boolean,h.prop,{regex:/(#.*?)(?:'|$)/gim,type:\"k4\"},{regex:/\\b(Case|Catch|Continue|Each|Else|ElseIf|End|EndIf|Do|Finally|For|If|Loop|Next|OrElse|Then|Throw|Try|When|While)\\b/g,type:\"k1\"},{regex:/(Imports )(.*?)$/gm,type:[\"k0\",\"k10\"]},{regex:/\\b(Boolean|Byte|CBool|CByte|CChar|CDate|CDbl|CDec|Char|CInt|CLng|CObj|CSByte|CShort|CSng|CStr|CType|CUInt|CULng|CUShort|Decimal|Double|Integer|Long|ParamArray|SByte|Short|Single|String|UInteger|ULong|UShort)\\b/g,type:\"k5\"},{regex:/\\b(Dim|Enum|Let|ReDim)\\b/g,type:\"k2\"},{regex:/\\b(Const|Shared|Static)\\b/g,type:\"k8\"},{regex:/\\b(AddHandler|AddressOf|Alias|As|ByRef|ByVal|Call|Class|Date|Declare|Default|Delegate|DirectCast|Erase|Error|Event|Exit|Friend|Function|Get|GetType|GetXMLNamespace|Global|GoSub|GoTo|Handles|Implements|In|Inherits|Interface|Lib|Like|Me|Module|MustInherit|MustOverride|MyBase|MyClass|Namespace|Narrowing|Nothing|NotInheritable|NotOverridable|Object|Of|On|Operator|Option|Optional|Out|Overloads|Overridable|Overrides|Partial|Private|Property|Protected|Public|RaiseEvent|ReadOnly|REM|RemoveHandler|Resume|Return|Select|Set|Shadows|Step|Stop|Structure|Sub|SyncLock|To|TryCast|Using|Variant|Wend|Widening|With|WithEvents|WriteOnly)\\b/gi,type:\"k0\"},{regex:/\\b(And|AndAlso|Is|IsNot|Mod|New|Not|Or|TypeOf|Xor)\\b/g,type:\"k3\"},h.mCalls,h.fCalls,{regex:/'.*$/gm,type:\"c0\"},h.int,h.floats,h.brackets]}}],[{key:\"alias\",value:function(){return[\"vb\"]}}]),t}(),fe=function(){a(t,x);var e=p(t);function t(){return r(this,t),e.apply(this,arguments)}return i(t,[{key:\"setupLanguage\",value:function(){this.rules=[{regex:/<!DOCTYPE[\\s\\S]+?>/g,type:\"k9\"},{regex:/<\\?xml[\\s\\S]+\\?>/gi,type:\"k4\"},{regex:/<!--[\\s\\S]*?-->/g,type:\"c1\"},{regex:/(<!\\[CDATA\\[)([\\s\\S]*?)(]]>)/gim,type:[\"c9\",\"text\",\"c9\"]},{regex:/(<)([A-Z:_][A-Z0-9:.-]*)([\\s\\S]*?)(\\/?>)/gi,type:[\"g1\",\"x1\",\"text\",\"g1\"],filter:[null,null,function(e){return k(e,/\\b([^\\s\\0\"'>/=]+)(\\s*=\\s*)((['\"]).*?\\4|[^'\" \\t]+)/gi,function(e){return[C(e[1],\"x2\"),C(e[2],\"k3\"),C(e[3],\"s0\")]})},null]},{regex:/(<\\/)([A-Z:_][A-Z0-9:.-]*\\s*)(>)/gi,type:[\"g1\",\"x1\",\"g1\"]}]}}],[{key:\"alias\",value:function(){return[\"html\"]}}]),t}(),be=function(){a(t,x);var e=p(t);function t(){return r(this,t),e.apply(this,arguments)}return i(t,[{key:\"setupLanguage\",value:function(){this.rules=[h.poundComments,h.boolean,h.null,{regex:/^%[A-Z]+\\s+.*$/gm,type:\"k4\"},{regex:/\\b!{1,2}[A-Z]+\\b/gi,type:\"k5\"},{regex:/\\b[a-z][a-z0-9_-]*:/gim,type:\"k7\"},{regex:/\\{|}|\\(|\\)|\\[|]/g,type:\"g1\"},{regex:/\\s+(?:>|\\|)[\\r|\\n]+((?:\\s+[^\\r\\n]+[\\r|\\n]+)+)/gi,type:\"s5\"},h.dqStrings,h.sqStrings,h.floats]}}]),t}(),de=function(){a(t,x);var e=p(t);function t(){return r(this,t),e.apply(this,arguments)}return i(t,[{key:\"setupLanguage\",value:function(){this.rules=[h.dqStrings,{regex:/`\\w*\\b/g,type:\"k4\"},{regex:/\\[( *\\d+(?: *\\: *\\d+) *)\\]/g,type:\"e3\"},{regex:/\\b(for|generate|if|else|repeat|case|endcase|begin|end|ifnone)\\b/g,type:\"k1\"},{regex:/\\b(output|input|inout|reg|wire|assign)\\b/g,type:\"k5\"},{regex:/\\b(module|endmodule|always|function|endfunction)\\b/g,type:\"k2\"},{regex:/\\b(or|rpmos|tranif1|and|initial|rtran|tri|parameter|rtranif0|tri0|pmos|rtranif1|tri1|buf|endprimitive|integer|posedge|scalared|triand|bufif0|endspecify|join|primitive|small|trior|bufif1|endtable|large|pull0|specify|trireg|endtask|macromodule|pull1|specparam|vectored|casex|event|medium|pullup|strong0|wait|casez|pulldown|strong1|wand|cmos|force|nand|rcmos|supply0|weak0|deassign|forever|negedge|real|supply1|weak1|default|nmos|realtime|table|defparam|nor|task|disable|highz0|not|release|time|wor|edge|highz1|notif0|tran|xnor|notif1|rnmos|tranif0|xor)\\b/g,type:\"k0\"},h.slashComments,h.blockComments,{regex:/-?\\d*'s?d[0-9_xz]+\\b/gi,type:\"n1\"},{regex:/-?\\d*'s?h[0-9a-f_xz]+\\b/gi,type:\"n2\"},{regex:/-?\\d*'s?b[01_xz]+\\b/gi,type:\"n3\"},{regex:/-?\\d*'s?o[0-7_xz]+\\b/gi,type:\"n4\"},h.int,h.brackets]}}]),t}(),he=Object.freeze({__proto__:null,generic:x,abap:t,apache:v,assembly:w,avrassembly:S,cpp:_,csharp:E,css:L,cython:I,cordpro:W,diff:N,dockerfile:D,go:$,groovy:O,ini:T,java:R,javascript:F,json:j,kotlin:z,latex:B,less:Z,lighttpd:M,lua:P,markdown:U,matlab:G,nginx:H,nsis:V,php:J,powershell:X,prolog:Y,purebasic:Q,python:q,qml:K,r:ee,raw:te,routeros:re,ruby:ne,rust:ie,scala:ae,scss:se,shell:oe,sql:le,squirrel:ge,swift:ue,typescript:pe,vhdl:ce,visualbasic:ye,xml:fe,yaml:be,verilog:de}),me={standard:\"generic\"},xe={},ke=!1;function ve(e){if(!ke)for(var t in ke=!0,he)if(\"function\"==typeof he[t].alias){var r,n=function(e,t){var r;if(\"undefined\"==typeof Symbol||null==e[Symbol.iterator]){if(Array.isArray(e)||(r=b(e))||t&&e&&\"number\"==typeof e.length){r&&(e=r);var n=0,i=function(){};return{s:i,n:function(){return n>=e.length?{done:!0}:{done:!1,value:e[n++]}},e:function(e){throw e},f:i}}throw new TypeError(\"Invalid attempt to iterate non-iterable instance.\\nIn order to be iterable, non-array objects must have a [Symbol.iterator]() method.\")}var a,s=!0,o=!1;return{s:function(){r=e[Symbol.iterator]()},n:function(){var e=r.next();return s=e.done,e},e:function(e){o=!0,a=e},f:function(){try{s||null==r.return||r.return()}finally{if(o)throw a}}}}(he[t].alias());try{for(n.s();!(r=n.n()).done;){var i=r.value;me[i]=t}}catch(e){n.e(e)}finally{n.f()}}return me[e]}function we(e){return e=ve(e=(e||\"\").toLowerCase())||e,he[e]?e:null}var Ce={document:document,window:window};function Se(){return document}function _e(){return window}function Ee(e){var t=!(1<arguments.length&&void 0!==arguments[1])||arguments[1];e.style.display=!0===t?\"block\":\"none\"}function Ae(e){e.parentNode.removeChild(e)}function Le(e){return null!=e&&0<e.length?Se().querySelectorAll(e):[]}function qe(e,t){return e.getAttribute(\"data-\"+t)||null}function Ie(e,t){return e.getAttribute(t)||null}function We(e,t){return e.parentNode.insertBefore(t,e)}function Ne(e,t,r){var n=Se(),i=n.createElement(e);if(0<r.length)for(var a=0;a<r.length;a++){var s=r[a];if(null!==s&&!1!==s)if(void 0!==s)if(s.push)for(var o=0;o<s.length;o++){var l=s[o];null!==l&&!1!==l&&(void 0!==l?l.appendChild?i.appendChild(l):i.appendChild(n.createTextNode(l)):i.appendChild(n.createTextNode(\"#INVALID_ELEMENT#\")))}else s.appendChild?i.appendChild(s):i.appendChild(n.createTextNode(s));else i.appendChild(n.createTextNode(\"#INVALID_ELEMENT#\"))}function g(e,t){i.addEventListener(e,function(e){e.preventDefault(),e.stopPropagation(),t&&t.apply(i,[e,i])})}for(var u in t)if(Object.prototype.hasOwnProperty.call(t,u)){var p=t[u];if(\"on\"===u.substr(0,2)){if(null===p)continue;g(u.substr(2).toLowerCase(),p)}else{if(null==p)continue;switch(u){case\"className\":i.setAttribute(\"class\",p);break;case\"htmlFor\":i.setAttribute(\"for\",p);break;default:i.setAttribute(u,p)}}}return i.on=g,i}function De(e,t){for(var r=arguments.length,n=new Array(2<r?r-2:0),i=2;i<r;i++)n[i-2]=arguments[i];if(\"function\"!=typeof e)return Ne(e,t,n);var a=g(e,[t||{}].concat(n));return\"function\"==typeof a.render?a.render():a instanceof HTMLElement?a:void Se().createTextNode(\"#INVALID_JSX_ELEMENT#\")}function $e(e,t){e.classList.contains(t)||e.classList.add(t)}function Oe(e,t){e.classList.contains(t)&&e.classList.remove(t)}function Te(e,t){return e.classList.contains(t)}function Re(e,t){e.classList.contains(t)?e.classList.remove(t):e.classList.add(t)}var Fe=_e();function je(){var e;void 0!==Fe.console&&Fe.console.log&&(e=Fe.console).log.apply(e,arguments)}var ze=Object.freeze({__proto__:null,globals:Ce,getDocument:Se,getWindow:_e,displayElement:Ee,disposeElement:Ae,getElements:Le,getElement:function(e){return null!=e&&0<e.length?Se().querySelector(e):null},getElementDataAttribute:qe,getElementAttribute:Ie,insertBefore:We,createNode:Ne,createElement:De,renderComponent:function(e){var t=1<arguments.length&&void 0!==arguments[1]?arguments[1]:null;return null!==t&&t.appendChild(e),e},addClass:$e,removeClass:Oe,hasClass:Te,toggleClass:Re,logInfo:je,logError:function(){var e;void 0!==Fe.console&&Fe.console.error?(e=Fe.console).error.apply(e,arguments):je.apply(void 0,arguments)}});function Be(e){var t=e.tokens,r=e.options,n=function(e,t){if(\"string\"!=typeof e||0===e.length)return function(){return!1};var r=parseInt(t),a=!isNaN(r)&&1<r?r-1:0,s={};return e.split(\",\").forEach(function(e){var t=e.match(/([0-9]+)-([0-9]+)/);if(null!=t){var r=parseInt(t[1])-a,n=parseInt(t[2])-a;if(r<n)for(var i=r;i<=n;i++)s[\"\"+i]=!0}else s[\"\"+(parseInt(e)-a)]=!0}),function(e){return s[\"\"+e]||!1}}(r.highlight,r.lineoffset),i=[],a=[];t.forEach(function(t){var e=t.text.split(\"\\n\");1===e.length?a.push([t.type,t.text]):(a.push([t.type,e.shift()]),e.forEach(function(e){i.push(a),(a=[]).push([t.type,e])}))}),i.push(a);var s=[];return 0<r.lineoffset&&s.push(\"counter-reset: enlighter \"+(parseInt(r.lineoffset)-1)),De(\"div\",{className:\"enlighter\",style:s.join(\";\")},i.map(function(e,t){return De(\"div\",{className:n(t+1)?\"enlighter-special\":\"\"},De(\"div\",null,e.map(function(e){return De(\"span\",{className:\"enlighter-\"+e[0]},e[1])})))}))}function Ze(e){var t=[];e.name&&t.push(\"enlighter-\"+e.name),e.className&&(\"string\"==typeof e.className?t.push(e.className):t.push.apply(t,f(e.className)));for(var r=arguments.length,n=new Array(1<r?r-1:0),i=1;i<r;i++)n[i-1]=arguments[i];return De.apply(ze,[\"div\",{className:t.join(\" \")}].concat(n))}function Me(e){var t=[\"enlighter-btn\"];return e.name&&t.push(\"enlighter-btn-\"+e.name),De(\"div\",{className:t.join(\" \"),onClick:e.onClick,title:e.tooltip},e.text||null)}function Pe(){_e().open(\"https://enlighterjs.org\")}var Ue=Object.freeze({__proto__:null,raw:function(e){return De(Me,{name:\"raw\",tooltip:\"Plain text\",onClick:function(){e.toggleClass(\"enlighter-show-rawcode\")}})},copy:function(e){return De(Me,{name:\"copy\",tooltip:\"Copy to clipboard\",onClick:function(){!function(e){var t=Se(),r=_e(),n=De(\"pre\",{className:\"enlighter-clipboard\"},e);t.body.appendChild(n);try{var i=t.createRange();i.selectNodeContents(n);var a=r.getSelection();a.removeAllRanges(),a.addRange(i)}catch(e){return}var s=function(){try{return t.execCommand(\"copy\")}catch(e){return!1}}();r.getSelection().removeAllRanges(),Ae(n)}(e.getRawCode())}})},window:function(r){var n=_e();return De(Me,{name:\"window\",tooltip:\"Open code in new window\",onClick:function(){var e=n.open(\"\",\"\",\"width=\"+n.screen.width/2+\", height=\"+n.screen.height/2+\", menubar=no, titlebar=no, toolbar=no, top=100, left=100, scrollbars=yes, status=no\"),t=r.getRawCode().replace(/&/g,\"&amp;\").replace(/</g,\"&lt;\").replace(/>/g,\"&gt;\");e.document.body.innerHTML=\"<pre>\"+t+\"</pre>\",e.document.title=\"Sourcecode | EnlighterJS Syntax Highlighter\"}})},website:function(){return De(Me,{name:\"website\",tooltip:\"EnlighterJS 3 Syntax Highlighter\",onClick:Pe})},collapse:function(e){return De(Me,{name:\"collapse\",tooltip:\"Expand\",onClick:function(){e.toggleClass(\"enlighter-collapse-full\")}})}});function Ge(t){var e=function(e){for(var t,r=[],n=/{BTN_([A-Z_]+)}/g;null!=(t=n.exec(e));)r.push(t[1].toLowerCase());return r}(t.layout).map(function(e){return Ue[e]?De(Ue[e],{getRawCode:t.getRawCode,toggleClass:t.toggleClass}):null}).filter(function(e){return null!==e});return De(Ze,{name:\"toolbar-\"+t.name,className:\"enlighter-toolbar\"},e)}function He(e,t){return De(\"div\",{className:\"enlighter-raw\"},t)}function Ve(e){var t=null,r=e[0].params,n=[\"enlighter-default\",\"enlighter-v-standard\",\"enlighter-t-\"+e[0].params.theme];function i(e){Re(t,e)}function a(){return e[0].code}return!0===r.linehover&&n.push(\"enlighter-hover\"),!0===r.linenumbers&&n.push(\"enlighter-linenumbers\"),\"scroll\"===r.textOverflow&&n.push(\"enlighter-overflow-scroll\"),!0===r.collapse&&n.push(\"enlighter-collapse\"),0<r.cssClasses.length&&n.push.apply(n,f(r.cssClasses)),t=De(Ze,{className:n},De(Ge,{name:\"top\",layout:r.toolbarTop,toggleClass:i,getRawCode:a}),De(Be,{tokens:e[0].tokens,options:e[0].params}),De(He,null,e[0].code),De(Ge,{name:\"bottom\",layout:r.toolbarBottom,toggleClass:i,getRawCode:a})),r.rawcodeDbclick&&t.on(\"dblclick\",function(){i(\"enlighter-show-rawcode\")}),t}function Je(e){return De(\"span\",{className:\"enlighter\"},e.tokens.map(function(e){return De(\"span\",{className:\"enlighter-\"+e.type},e.text)}))}function Xe(r){var n=0,i=[];return i=r.dataset.map(function(e,t){return De(Me,{onClick:function(){return e=t,Oe(i[n],\"enlighter-active\"),$e(i[e],\"enlighter-active\"),n=e,void r.onChange(e);var e},text:e.params.title||e.params.language})}),$e(i[0],\"enlighter-active\"),De(Ze,{name:\"codegroup-switch\"},i)}var Ye=Object.freeze({__proto__:null,standard:Ve,inline:function(e){var t=e[0].params,r=[\"enlighter-default\",\"enlighter-v-inline\",\"enlighter-t-\"+t.theme];return 0<t.cssClasses.length&&r.push.apply(r,f(t.cssClasses)),De(Ze,{className:r},De(Je,{tokens:e[0].tokens,options:t}))},codegroup:function(e){var t,r=null,n=e[0].params,i=0,a=[\"enlighter-default\",\"enlighter-v-codegroup\",\"enlighter-t-\"+n.theme];function s(e){Re(r,e)}function o(){return e[i].code}function l(e){Ee(t[i],!1),Ee(t[e],!0),i=e}return!0===n.linehover&&a.push(\"enlighter-hover\"),!0===n.linenumbers&&a.push(\"enlighter-linenumbers\"),\"scroll\"===n.textOverflow&&a.push(\"enlighter-overflow-scroll\"),!0===n.collapse&&a.push(\"enlighter-collapse\"),0<n.cssClasses.length&&a.push.apply(a,f(n.cssClasses)),t=e.map(function(e){return De(\"div\",{style:\"display:none\"},De(Be,{tokens:e.tokens,options:e.params}),De(He,null,e.code))}),l(0),r=De(Ze,{className:a},De(Xe,{onChange:l,dataset:e}),De(Ze,{name:\"codegroup-wrapper\"},De(Ge,{name:\"top\",layout:n.toolbarTop,toggleClass:s,getRawCode:o}),t,De(Ge,{name:\"bottom\",layout:n.toolbarBottom,toggleClass:s,getRawCode:o}))),n.rawcodeDbclick&&r.on(\"dblclick\",function(){s(\"enlighter-show-rawcode\")}),r}});function Qe(e){var t;return(t=((t=e[0].params.layout)||\"\").toLowerCase(),Ye[t]?Ye[t]:Ve)(e.map(function(e){var t,r,n,i=e.code,a=e.params;if(\"string\"!=typeof i)throw new TypeError(\"EnlighterJS Engine requires string input\");return{tokens:(t=a.language,r=c.language||null,n=we(t)||we(r)||\"generic\",xe[n]||(xe[n]=new he[n]),xe[n]).analyze(i),params:a,code:i}}))}function Ke(i,t){function a(e){return function(){for(var e=arguments.length,t=new Array(e),r=0;r<e;r++)t[r]=arguments[r];for(var n=t.pop(),i=0;i<t.length;i++){var a=t[i];if(null!=a)return a}return n}(t[e],c[e],null)}function e(e,t){var r=qe(i,\"enlighter-\"+e),n=a(e);if(!(r&&0<r.length))return n;switch(t){case\"boolean\":return\"true\"===(r=r.toLowerCase().trim())||\"false\"!==r&&n;case\"int\":return r=parseInt(r),isNaN(r)?n:r;default:return r}}var r=a(\"cssClasses\")||\"\";!0===a(\"retainCssClasses\")&&(r+=\" \"+(Ie(i,\"class\")||\"\"));var n=r.replace(/\\s+/g,\" \").trim().split(\" \");return{language:e(\"language\"),theme:e(\"theme\"),layout:e(\"layout\"),title:e(\"title\"),highlight:e(\"highlight\"),linenumbers:e(\"linenumbers\",\"boolean\"),lineoffset:e(\"lineoffset\",\"int\"),indent:a(\"indent\"),ampersandCleanup:a(\"ampersandCleanup\"),linehover:a(\"linehover\"),rawcodeDbclick:a(\"rawcodeDbclick\"),textOverflow:a(\"textOverflow\"),collapse:a(\"collapse\"),cssClasses:n,toolbarTop:a(\"toolbarTop\"),toolbarBottom:a(\"toolbarBottom\"),toolbarHeader:a(\"toolbarHeader\")}}var et=[];function tt(e){var t=function(e){for(var t=0;t<et.length;t++)for(var r=0;r<et[t].elements.length;r++)if(et[t].elements[r]===e)return t;return!1}(e);if(!1===t)return!1;var r=et.splice(t,1);return Ae(r[0].wrapper),r[0].elements.map(function(e){return Oe(e,\"enlighter-origin\")}),!0}function rt(e){var t,r,n=1<arguments.length&&void 0!==arguments[1]?arguments[1]:{};try{if(Array.isArray(e)||(e=[e]),0===e.length)return!1;if(!1===n)return tt(e[0]);if(Te(e[0],\"enlighter-origin\"))return!1;var i=Qe(e.map(function(e){var t=Ke(e,n),r=function(e,t){var r=e.innerHTML||\"\";r=(r=r.replace(/(^\\s*\\n|\\n\\s*$)/gi,\"\")).replace(/&lt;/gim,\"<\").replace(/&gt;/gim,\">\").replace(/&nbsp;/gim,\" \"),!0===t.ampersandCleanup&&(r=r.replace(/&amp;/gim,\"&\"));var n=t.indent;return!1!==n&&-1<n&&(r=r.replace(/(\\t*)/gim,function(e,t){return new Array(n*t.length+1).join(\" \")})),r}(e,t);return $e(e,\"enlighter-origin\"),{element:e,code:r,params:t}}));return We(e[0],i),t=e,r=i,et.push({elements:t,wrapper:r}),!0}catch(e){return console.error(\"EnlighterJS Internal Error:\",e),!1}}return e.enlight=rt,e.init=function(){var e,t=0<arguments.length&&void 0!==arguments[0]?arguments[0]:\"pre.ejs\",r=1<arguments.length&&void 0!==arguments[1]?arguments[1]:\"code.ejs\",n=3<arguments.length&&void 0!==arguments[3]?arguments[3]:{};e=2<arguments.length&&void 0!==arguments[2]?arguments[2]:null,Object.assign(c,e||{});for(var i=Le(t),a=Le(r),s=function(e){for(var t={},r=[],n=0;n<e.length;n++){var i=qe(e[n],\"enlighter-group\");i?(t[i]||(t[i]=[]),t[i].push(e[n])):r.push(e[n])}return{standalone:r,groups:Object.keys(t).map(function(e){return t[e]})}}(i),o=s.standalone,l=s.groups,g=0;g<o.length;g++)rt(o[g],{layout:n.block||\"standard\"});for(var u=0;u<l.length;u++)rt(l[u],{layout:n.codegroup||\"codegroup\"});for(var p=0;p<a.length;p++)rt(a[p],{layout:n.inline||\"inline\"})},e.version=\"3.4.0\",e}({});\n",
       "!function(n){\"function\"==typeof n&&n.fn&&(n.fn.enlight=function(n){return n=!0===(n=void 0===n?{}:n)?{}:n,this.each(function(){EnlighterJS.enlight(this,n)})})}(window.jQuery);</script>"
      ],
      "text/plain": [
       "<IPython.core.display.HTML object>"
      ]
     },
     "metadata": {},
     "output_type": "display_data"
    },
    {
     "data": {
      "text/html": [
       "<style>/*! EnlighterJS Syntax Highlighter 3.4.0 | Mozilla Public License 2.0 | https://enlighterjs.org */\n",
       ".enlighter-tooltip{z-index:100}.enlighter-default{font-family:\"Source Code Pro\",\"Liberation Mono\",\"Courier New\",Courier,monospace;font-size:12px;line-height:1.35em;overflow:hidden;white-space:pre-wrap;word-wrap:break-word;margin:0 0 20px 0;padding:0;position:relative;text-align:left;direction:ltr}.enlighter-default .enlighter-special:hover{background-color:#f4f8fc}.enlighter-default .enlighter-raw{display:none;min-width:100%;line-height:inherit;font-size:1em;font-family:inherit;margin:0;padding:0;white-space:pre-wrap;word-wrap:break-word;border:none;box-shadow:none}.enlighter-default:hover .enlighter-toolbar{display:block}.enlighter-default .enlighter-btn{display:inline-block;margin:0 5px 0 5px;padding:3px 5px 3px 5px;border:solid 1px #333;background-color:#f0f0f0;cursor:pointer;font-family:inherit}.enlighter-default .enlighter-toolbar .enlighter-btn-raw{background-image:url(data:image/svg+xml,%3C%3Fxml%20version%3D%221.0%22%20encoding%3D%22utf-8%22%3F%3E%0D%0A%3C!DOCTYPE%20svg%20PUBLIC%20%22-%2F%2FW3C%2F%2FDTD%20SVG%201.1%2F%2FEN%22%20%22http%3A%2F%2Fwww.w3.org%2FGraphics%2FSVG%2F1.1%2FDTD%2Fsvg11.dtd%22%3E%0D%0A%3Csvg%20version%3D%221.1%22%20id%3D%22Ebene_2%22%20xmlns%3D%22http%3A%2F%2Fwww.w3.org%2F2000%2Fsvg%22%20xmlns%3Axlink%3D%22http%3A%2F%2Fwww.w3.org%2F1999%2Fxlink%22%20x%3D%220px%22%20y%3D%220px%22%0D%0A%09%20width%3D%2246px%22%20height%3D%2246px%22%20viewBox%3D%220%200%2046%2046%22%20enable-background%3D%22new%200%200%2046%2046%22%20xml%3Aspace%3D%22preserve%22%3E%0D%0A%3Cg%3E%0D%0A%09%3Cpath%20d%3D%22M19.436%2C36.875L6.568%2C25.002v-3.863L19.436%2C9.267v5.041l-9.583%2C8.668v0.188l9.583%2C8.669V36.875z%22%2F%3E%0D%0A%09%3Cpath%20d%3D%22M26.343%2C36.875v-5.041l9.583-8.669v-0.188l-9.583-8.668V9.267l12.868%2C11.872v3.863L26.343%2C36.875z%22%2F%3E%0D%0A%3C%2Fg%3E%0D%0A%3C%2Fsvg%3E%0D%0A)}.enlighter-default .enlighter-toolbar .enlighter-btn-copy{background-image:url(data:image/svg+xml,%3C%3Fxml%20version%3D%221.0%22%20encoding%3D%22utf-8%22%3F%3E%0D%0A%3C!DOCTYPE%20svg%20PUBLIC%20%22-%2F%2FW3C%2F%2FDTD%20SVG%201.1%2F%2FEN%22%20%22http%3A%2F%2Fwww.w3.org%2FGraphics%2FSVG%2F1.1%2FDTD%2Fsvg11.dtd%22%3E%0D%0A%3Csvg%20version%3D%221.1%22%20id%3D%22Ebene_2%22%20xmlns%3D%22http%3A%2F%2Fwww.w3.org%2F2000%2Fsvg%22%20xmlns%3Axlink%3D%22http%3A%2F%2Fwww.w3.org%2F1999%2Fxlink%22%20x%3D%220px%22%20y%3D%220px%22%0D%0A%09%20width%3D%2246px%22%20height%3D%2246px%22%20viewBox%3D%220%200%2046%2046%22%20enable-background%3D%22new%200%200%2046%2046%22%20xml%3Aspace%3D%22preserve%22%3E%0D%0A%3Cline%20fill%3D%22none%22%20stroke%3D%22%23000000%22%20stroke-width%3D%224%22%20stroke-miterlimit%3D%2210%22%20x1%3D%2253.75%22%20y1%3D%2239.353%22%20x2%3D%2286.375%22%20y2%3D%2239.353%22%2F%3E%0D%0A%3Cline%20fill%3D%22none%22%20stroke%3D%22%23000000%22%20stroke-width%3D%224%22%20stroke-miterlimit%3D%2210%22%20x1%3D%2251.711%22%20y1%3D%2230.534%22%20x2%3D%2284.336%22%20y2%3D%2230.534%22%2F%3E%0D%0A%3Crect%20x%3D%228.932%22%20y%3D%227.334%22%20fill%3D%22%23FFFFFF%22%20stroke%3D%22%23000000%22%20stroke-width%3D%223%22%20stroke-miterlimit%3D%2210%22%20width%3D%2221.097%22%20height%3D%2224.952%22%2F%3E%0D%0A%3Crect%20x%3D%2218.942%22%20y%3D%2215.424%22%20fill%3D%22%23FFFFFF%22%20stroke%3D%22%23000000%22%20stroke-width%3D%223%22%20stroke-miterlimit%3D%2210%22%20width%3D%2221.096%22%20height%3D%2224.953%22%2F%3E%0D%0A%3C%2Fsvg%3E%0D%0A)}.enlighter-default .enlighter-toolbar .enlighter-btn-window{background-image:url(data:image/svg+xml,%3C%3Fxml%20version%3D%221.0%22%20encoding%3D%22utf-8%22%3F%3E%0D%0A%3C!DOCTYPE%20svg%20PUBLIC%20%22-%2F%2FW3C%2F%2FDTD%20SVG%201.1%2F%2FEN%22%20%22http%3A%2F%2Fwww.w3.org%2FGraphics%2FSVG%2F1.1%2FDTD%2Fsvg11.dtd%22%3E%0D%0A%3Csvg%20version%3D%221.1%22%20id%3D%22Ebene_2%22%20xmlns%3D%22http%3A%2F%2Fwww.w3.org%2F2000%2Fsvg%22%20xmlns%3Axlink%3D%22http%3A%2F%2Fwww.w3.org%2F1999%2Fxlink%22%20x%3D%220px%22%20y%3D%220px%22%0D%0A%09%20width%3D%2246px%22%20height%3D%2246px%22%20viewBox%3D%220%200%2046%2046%22%20enable-background%3D%22new%200%200%2046%2046%22%20xml%3Aspace%3D%22preserve%22%3E%0D%0A%3Cline%20fill%3D%22none%22%20stroke%3D%22%23000000%22%20stroke-width%3D%224%22%20stroke-miterlimit%3D%2210%22%20x1%3D%227.125%22%20y1%3D%229.25%22%20x2%3D%2239.75%22%20y2%3D%229.25%22%2F%3E%0D%0A%3Cline%20fill%3D%22none%22%20stroke%3D%22%23000000%22%20stroke-width%3D%224%22%20stroke-miterlimit%3D%2210%22%20x1%3D%227.125%22%20y1%3D%2218.167%22%20x2%3D%2239.75%22%20y2%3D%2218.167%22%2F%3E%0D%0A%3Cline%20fill%3D%22none%22%20stroke%3D%22%23000000%22%20stroke-width%3D%224%22%20stroke-miterlimit%3D%2210%22%20x1%3D%227.125%22%20y1%3D%2227.083%22%20x2%3D%2239.75%22%20y2%3D%2227.083%22%2F%3E%0D%0A%3Cline%20fill%3D%22none%22%20stroke%3D%22%23000000%22%20stroke-width%3D%224%22%20stroke-miterlimit%3D%2210%22%20x1%3D%227.125%22%20y1%3D%2236%22%20x2%3D%2229.809%22%20y2%3D%2236%22%2F%3E%0D%0A%3C%2Fsvg%3E%0D%0A)}.enlighter-default .enlighter-toolbar .enlighter-btn-website{background-image:url(data:image/svg+xml,%3C%3Fxml%20version%3D%221.0%22%20encoding%3D%22utf-8%22%3F%3E%0D%0A%3C!DOCTYPE%20svg%20PUBLIC%20%22-%2F%2FW3C%2F%2FDTD%20SVG%201.1%2F%2FEN%22%20%22http%3A%2F%2Fwww.w3.org%2FGraphics%2FSVG%2F1.1%2FDTD%2Fsvg11.dtd%22%3E%0D%0A%3Csvg%20version%3D%221.1%22%20id%3D%22E%22%20xmlns%3D%22http%3A%2F%2Fwww.w3.org%2F2000%2Fsvg%22%20xmlns%3Axlink%3D%22http%3A%2F%2Fwww.w3.org%2F1999%2Fxlink%22%20x%3D%220px%22%20y%3D%220px%22%0D%0A%09%20width%3D%2246px%22%20height%3D%2246px%22%20viewBox%3D%220%200%2046%2046%22%20enable-background%3D%22new%200%200%2046%2046%22%20xml%3Aspace%3D%22preserve%22%3E%0D%0A%3Cg%3E%0D%0A%09%3Cpath%20fill%3D%22%23202F65%22%20d%3D%22M32.48%2C25.614H19.64l-4.933%2C9.826l17.746%2C0.037l-6.173%2C5.358L8.167%2C40.912L16.29%2C6.055h22.974l-5.734%2C5.354%0D%0A%09%09l-13.306-0.027l0.672%2C8.797h12.841L32.48%2C25.614z%22%2F%3E%0D%0A%3C%2Fg%3E%0D%0A%3C%2Fsvg%3E%0D%0A)}.enlighter-origin{display:none!important}.enlighter-clipboard{position:absolute;left:0;bottom:0;width:1px;height:1px;overflow:hidden}.enlighter-v-inline{display:inline-block;overflow:inherit;margin:0}.enlighter-v-standard{display:block}.enlighter-v-codegroup{display:block}.enlighter-v-codegroup .enlighter-codegroup-wrapper{position:relative}div.enlighter{display:table;width:100%;border-collapse:collapse;border-spacing:0;empty-cells:show;min-width:100%;font-size:1em;margin:0;padding:0;text-indent:0;counter-reset:enlighter 0}div.enlighter>div{display:table-row;margin:0;border:solid 0 #fff;list-style:none;font-size:inherit;line-height:1.15em;min-height:14px}div.enlighter>div>div{display:table-cell;padding-left:10px}div.enlighter>div>div::before{content:\" \"}span.enlighter{display:inline-block;padding:3px 5px 1px 5px;margin:0 2px 0 2px}.enlighter span{margin:0;padding:0;line-height:inherit;font-size:1em;font-family:inherit}.enlighter-linenumbers div.enlighter>div::before{white-space:nowrap;display:block;display:table-cell;width:45px;min-width:45px;counter-increment:enlighter;content:counter(enlighter,decimal) \".\";text-align:right;padding-right:8px}.enlighter-toolbar{display:none;position:absolute;right:10px;top:10px;z-index:10}.enlighter-toolbar-bottom{top:unset;bottom:0}.enlighter-overflow-scroll.enlighter-v-standard{overflow-x:auto;word-wrap:normal!important}.enlighter-overflow-scroll.enlighter-v-codegroup .enlighter-codegroup-wrapper{overflow-x:auto;word-wrap:normal!important}.enlighter-overflow-scroll.enlighter-v-codegroup .enlighter>div>div,.enlighter-overflow-scroll.enlighter-v-standard .enlighter>div>div{white-space:pre!important}.enlighter-overflow-scroll.enlighter-v-codegroup .enlighter-raw,.enlighter-overflow-scroll.enlighter-v-standard .enlighter-raw{white-space:pre!important}.enlighter-collapse.enlighter-v-standard{overflow-y:auto;max-height:500px}.enlighter-collapse.enlighter-v-codegroup .enlighter-codegroup-wrapper{overflow-y:auto;max-height:500px}.enlighter-collapse.enlighter-collapse-full.enlighter-v-standard{max-height:none}.enlighter-collapse.enlighter-collapse-full.enlighter-v-codegroup .enlighter-codegroup-wrapper{max-height:none}.enlighter-show-rawcode .enlighter-raw{display:block}.enlighter-show-rawcode .enlighter{display:none!important}\n",
       ".enlighter-t-enlighter{color:#939393;border-radius:8px;border:solid 1px #e0e0e0}.enlighter-t-enlighter .enlighter-btn{border-radius:3px;background-color:#fff;color:#717171;font-size:1em;padding:0;border:1px solid #e0e0e0;margin:0 0 0 8px;text-decoration:none;width:23px;height:23px;background-position:0 0;background-size:contain}.enlighter-t-enlighter .enlighter-btn:hover{border-color:#c9c9c9}.enlighter-t-enlighter .enlighter-btn:after{content:''}.enlighter-t-enlighter.enlighter-hover.enlighter-linenumbers div.enlighter>div:hover{color:#444;background-color:#fffcd3}.enlighter-t-enlighter.enlighter-hover div.enlighter>div:hover{color:#444;background-color:#fffcd3}.enlighter-t-enlighter .enlighter-raw{font-size:1em;color:#000;background-color:#f9f9f9;border-radius:8px;line-height:1.4em;padding:0 5px 0 60px}.enlighter-t-enlighter div.enlighter>div{border:solid 0 #fff;line-height:1.35em;color:#aaa}.enlighter-t-enlighter div.enlighter>div:FIRST-CHILD{border-radius:8px 8px 0 0}.enlighter-t-enlighter div.enlighter>div:LAST-CHILD{border-radius:0 0 8px 8px}.enlighter-t-enlighter div.enlighter>div.enlighter-special{background-color:#fdf5f0}.enlighter-t-enlighter.enlighter-linenumbers div.enlighter>div::before{border-right:solid 1px #e0e0e0;background-color:#f9f9f9}.enlighter-t-enlighter.enlighter-linenumbers div.enlighter>div:FIRST-CHILD::before{border-radius:8px 0 0 0}.enlighter-t-enlighter.enlighter-linenumbers div.enlighter>div:LAST-CHILD::before{border-radius:0 0 0 8px}.enlighter-t-enlighter .enlighter-text{color:#000}.enlighter-t-enlighter .enlighter-c0{color:#99a}.enlighter-t-enlighter .enlighter-c1{color:#99a}.enlighter-t-enlighter .enlighter-c2{color:#99a}.enlighter-t-enlighter .enlighter-c9{color:#9baa8f}.enlighter-t-enlighter .enlighter-k0{color:#286491;font-weight:700}.enlighter-t-enlighter .enlighter-k1{color:#286491;font-weight:700}.enlighter-t-enlighter .enlighter-k2{color:#458;font-weight:700}.enlighter-t-enlighter .enlighter-k3{color:#4da0d2;background-color:#f0f0f0}.enlighter-t-enlighter .enlighter-k4{color:#4a9141;font-weight:700}.enlighter-t-enlighter .enlighter-k5{color:#286491;font-weight:700}.enlighter-t-enlighter .enlighter-k6{color:#286491;font-style:italic}.enlighter-t-enlighter .enlighter-k7{color:#286491;font-weight:700}.enlighter-t-enlighter .enlighter-k8{color:#4da0d2}.enlighter-t-enlighter .enlighter-k9{color:#990073;font-weight:700}.enlighter-t-enlighter .enlighter-k10{color:#4a9141;font-style:italic}.enlighter-t-enlighter .enlighter-k11{color:#99a}.enlighter-t-enlighter .enlighter-e0{color:#34068a;font-weight:700}.enlighter-t-enlighter .enlighter-e1{color:#34068a;font-weight:700}.enlighter-t-enlighter .enlighter-e2{color:#009926}.enlighter-t-enlighter .enlighter-e3{color:#286491}.enlighter-t-enlighter .enlighter-e4{color:#ff8c00;font-style:italic}.enlighter-t-enlighter .enlighter-s0{color:#d14}.enlighter-t-enlighter .enlighter-s1{color:#d14}.enlighter-t-enlighter .enlighter-s2{color:#d14}.enlighter-t-enlighter .enlighter-s3{color:#737383}.enlighter-t-enlighter .enlighter-s4{color:#ff8c00;font-weight:700}.enlighter-t-enlighter .enlighter-s5{color:#d14;font-style:italic}.enlighter-t-enlighter .enlighter-n0{color:#099}.enlighter-t-enlighter .enlighter-n1{color:#099}.enlighter-t-enlighter .enlighter-n2{color:#099;font-style:italic}.enlighter-t-enlighter .enlighter-n3{color:#099;font-style:italic}.enlighter-t-enlighter .enlighter-n4{color:#099;font-style:italic}.enlighter-t-enlighter .enlighter-n5{color:#099;text-decoration:underline}.enlighter-t-enlighter .enlighter-m0{color:#0086b3}.enlighter-t-enlighter .enlighter-m1{color:#0086b3}.enlighter-t-enlighter .enlighter-m2{color:#0086b3}.enlighter-t-enlighter .enlighter-m3{color:#0086b3}.enlighter-t-enlighter .enlighter-g0{color:#777}.enlighter-t-enlighter .enlighter-g1{color:#777}.enlighter-t-enlighter .enlighter-t0{color:#777}.enlighter-t-enlighter .enlighter-t1{color:#d14;font-weight:700}.enlighter-t-enlighter .enlighter-t2{color:#990073;font-weight:700}.enlighter-t-enlighter .enlighter-t3{color:#0086b3}.enlighter-t-enlighter .enlighter-t4{color:#009926}.enlighter-t-enlighter .enlighter-t5{color:#009926}.enlighter-t-enlighter .enlighter-t6{color:#d14}.enlighter-t-enlighter .enlighter-t7{color:#535353;font-weight:700}.enlighter-t-enlighter .enlighter-t8{color:#777;background-color:#f0f0f0;font-style:italic}.enlighter-t-enlighter .enlighter-x1{color:#286491;font-weight:700}.enlighter-t-enlighter .enlighter-x2{color:#4da0d2}.enlighter-t-enlighter .enlighter-x10{color:#000;font-weight:700}.enlighter-t-enlighter .enlighter-x11{color:#286491;font-weight:700}.enlighter-t-enlighter .enlighter-x12{color:#286491;text-decoration:underline}.enlighter-t-enlighter .enlighter-x13{color:#0086b3}.enlighter-t-enlighter .enlighter-x14{color:#099;font-style:italic}.enlighter-t-enlighter .enlighter-x15{color:#990073;font-style:italic}.enlighter-t-enlighter.enlighter-v-inline{border-radius:3px;background-color:#fafafa}.enlighter-t-enlighter.enlighter-v-codegroup .enlighter,.enlighter-t-enlighter.enlighter-v-codegroup .enlighter-raw{border-top-left-radius:0;border-top-right-radius:0}.enlighter-t-enlighter.enlighter-v-codegroup .enlighter div:first-child{border-radius:0}.enlighter-t-enlighter.enlighter-v-codegroup .enlighter-codegroup-wrapper{position:relative}.enlighter-t-enlighter.enlighter-v-codegroup .enlighter-codegroup-switch{border-radius:8px 8px 0 0;background-color:#f9f9f9;border-bottom:1px solid #e0e0e0;padding:5px 5px 5px 45px}.enlighter-t-enlighter.enlighter-v-codegroup .enlighter-codegroup-switch .enlighter-btn{padding:3px 10px 3px 10px;border-radius:4px;border:1px solid #e0e0e0;font-size:1em;color:#000;background-color:transparent;width:auto}.enlighter-t-enlighter.enlighter-v-codegroup .enlighter-codegroup-switch .enlighter-btn.enlighter-active{background-color:#e5e5e5;color:#000;border-color:#c9c9c9}\n",
       ".enlighter-t-beyond{color:#333;background-color:#f7f7fa;border-radius:5px;border:solid 2px #e2e2e8;padding:10px 10px 10px 5px}.enlighter-t-beyond .enlighter-btn{border-radius:3px;background-color:#fff;color:#717171;padding:0;border:1px solid #e0e0e0;margin:0 0 0 8px;width:23px;height:23px;background-position:0 0;background-size:contain;font-family:\"Open Sans\",Arial,Verdana,sans-serif}.enlighter-t-beyond .enlighter-btn:hover{border-color:#c9c9c9}.enlighter-t-beyond .enlighter-btn:after{content:''}.enlighter-t-beyond.enlighter-hover div.enlighter>div:hover{color:#444;background-color:#fff}.enlighter-t-beyond.enlighter-hover div.enlighter>div:hover.enlighter-special{background-color:#fffcd3;border:solid 0 #fff;color:#444}.enlighter-t-beyond .enlighter-raw{background-color:#f7f7fa;font-size:1.1em;color:#333;padding:10px 15px 10px 59px;line-height:1.7em}.enlighter-t-beyond div.enlighter>div{border:solid 0 #fff;padding:1px 5px 1px 10px;line-height:1.5em;color:#aaa;background-color:#f7f7fa}.enlighter-t-beyond div.enlighter>div:FIRST-CHILD{border-radius:8px 8px 0 0}.enlighter-t-beyond div.enlighter>div:LAST-CHILD{border-radius:0 0 8px 8px}.enlighter-t-beyond div.enlighter>div:AFTER{content:' '}.enlighter-t-beyond div.enlighter>div.enlighter-special{background-color:#fff}.enlighter-t-beyond.enlighter-linenumbers div.enlighter>div::before{padding:1px 5px 1px 14px;font-size:.9em}.enlighter-t-beyond.enlighter-linenumbers div.enlighter>div:FIRST-CHILD::before{border-radius:0 8px 0 0}.enlighter-t-beyond.enlighter-linenumbers div.enlighter>div:LAST-CHILD::before{border-radius:0 0 8px 0}.enlighter-t-beyond .enlighter span{font-size:1.1em}.enlighter-t-beyond .enlighter-text{color:#2f3235}.enlighter-t-beyond .enlighter-c0{color:#8181a1}.enlighter-t-beyond .enlighter-c1{color:#8181a1}.enlighter-t-beyond .enlighter-c2{color:#8181a1}.enlighter-t-beyond .enlighter-c9{color:#8181a1}.enlighter-t-beyond .enlighter-k0{color:#286491;font-weight:700}.enlighter-t-beyond .enlighter-k1{color:#286491;font-weight:700}.enlighter-t-beyond .enlighter-k2{color:#458;font-weight:700}.enlighter-t-beyond .enlighter-k3{color:#4da0d2;background-color:#f0f0f0}.enlighter-t-beyond .enlighter-k4{color:#4a9141;font-weight:700}.enlighter-t-beyond .enlighter-k5{color:#286491;font-weight:700}.enlighter-t-beyond .enlighter-k6{color:#286491;font-style:italic}.enlighter-t-beyond .enlighter-k7{color:#286491;font-weight:700}.enlighter-t-beyond .enlighter-k8{color:#4da0d2}.enlighter-t-beyond .enlighter-k9{color:#990073;font-weight:700}.enlighter-t-beyond .enlighter-k10{color:#4a9141;font-style:italic}.enlighter-t-beyond .enlighter-k11{color:#8181a1}.enlighter-t-beyond .enlighter-e0{color:#34068a;font-weight:700}.enlighter-t-beyond .enlighter-e1{color:#34068a;font-weight:700}.enlighter-t-beyond .enlighter-e2{color:#009926}.enlighter-t-beyond .enlighter-e3{color:#286491}.enlighter-t-beyond .enlighter-e4{color:#049595;font-style:italic}.enlighter-t-beyond .enlighter-s0{color:#d14}.enlighter-t-beyond .enlighter-s1{color:#d14}.enlighter-t-beyond .enlighter-s2{color:#d14}.enlighter-t-beyond .enlighter-s3{color:#737383}.enlighter-t-beyond .enlighter-s4{color:#049595;font-weight:700}.enlighter-t-beyond .enlighter-s5{color:#d14;font-style:italic}.enlighter-t-beyond .enlighter-n0{color:#099}.enlighter-t-beyond .enlighter-n1{color:#099}.enlighter-t-beyond .enlighter-n2{color:#099;font-style:italic}.enlighter-t-beyond .enlighter-n3{color:#099;font-style:italic}.enlighter-t-beyond .enlighter-n4{color:#099;font-style:italic}.enlighter-t-beyond .enlighter-n5{color:#099;text-decoration:underline}.enlighter-t-beyond .enlighter-m0{color:#0086b3}.enlighter-t-beyond .enlighter-m1{color:#0086b3}.enlighter-t-beyond .enlighter-m2{color:#0086b3}.enlighter-t-beyond .enlighter-m3{color:#0086b3}.enlighter-t-beyond .enlighter-g0{color:#777}.enlighter-t-beyond .enlighter-g1{color:#777}.enlighter-t-beyond .enlighter-t0{color:#777}.enlighter-t-beyond .enlighter-t1{color:#d14;font-weight:700}.enlighter-t-beyond .enlighter-t2{color:#990073;font-weight:700}.enlighter-t-beyond .enlighter-t3{color:#0086b3}.enlighter-t-beyond .enlighter-t4{color:#009926}.enlighter-t-beyond .enlighter-t5{color:#009926}.enlighter-t-beyond .enlighter-t6{color:#d14}.enlighter-t-beyond .enlighter-t7{color:#535353;font-weight:700}.enlighter-t-beyond .enlighter-t8{color:#777;background-color:#f0f0f0;font-style:italic}.enlighter-t-beyond .enlighter-x1{color:#286491;font-weight:700}.enlighter-t-beyond .enlighter-x2{color:#4da0d2}.enlighter-t-beyond .enlighter-x10{color:#000;font-weight:700}.enlighter-t-beyond .enlighter-x11{color:#286491;font-weight:700}.enlighter-t-beyond .enlighter-x12{color:#286491;text-decoration:underline}.enlighter-t-beyond .enlighter-x13{color:#0086b3}.enlighter-t-beyond .enlighter-x14{color:#099;font-style:italic}.enlighter-t-beyond .enlighter-x15{color:#990073;font-style:italic}.enlighter-t-beyond.enlighter-v-inline{border-radius:3px;background-color:#f7f7fa;border:dotted 1px #e2e2e8;padding:0}.enlighter-t-beyond.enlighter-v-codegroup{padding:0;border:none}.enlighter-t-beyond.enlighter-v-codegroup .enlighter-codegroup-wrapper{background-color:#f7f7fa;border-radius:5px;border:solid 2px #e2e2e8;padding:10px 10px 10px 5px}.enlighter-t-beyond.enlighter-v-codegroup .enlighter-codegroup-switch{background-color:#fff;padding:0 0 0 45px}.enlighter-t-beyond.enlighter-v-codegroup .enlighter-codegroup-switch .enlighter-btn{border:solid 2px #e2e2e8;border-radius:5px 5px 0 0;font-size:1em;color:#286491;font-weight:700;background-color:#fff;border-bottom:none;padding:3px 10px 3px 10px;width:auto}.enlighter-t-beyond.enlighter-v-codegroup .enlighter-codegroup-switch .enlighter-btn.enlighter-active{background-color:#e2e2e8;border-color:#d8d8dd;color:#505050;font-weight:700}\n",
       ".enlighter-t-classic{background-color:#fff;border:1px solid #e8e8e2}.enlighter-t-classic .enlighter-btn{background-color:#fff;color:#717171;font-size:1em;padding:0;border:1px solid #e0e0e0;margin:0 0 0 8px;text-decoration:none;width:23px;height:23px;background-position:0 0;background-size:contain;font-family:\"Open Sans\",Arial,Verdana,sans-serif}.enlighter-t-classic .enlighter-btn:hover{border-color:#c9c9c9}.enlighter-t-classic .enlighter-btn:after{content:''}.enlighter-t-classic.enlighter-hover div.enlighter>div:hover{background-color:#ddf0dd}.enlighter-t-classic .enlighter-raw{font-size:1.25em;color:#000;line-height:1.85em;padding:4px 5px 4px 58px}.enlighter-t-classic div.enlighter{line-height:1.7em}.enlighter-t-classic div.enlighter>div{padding:1px 5px 1px 14px;line-height:1.7em;color:#aaa}.enlighter-t-classic div.enlighter>div>div{border-left:solid 4px #52ce52}.enlighter-t-classic div.enlighter>div:FIRST-CHILD{padding-top:5px}.enlighter-t-classic div.enlighter>div:LAST-CHILD{padding-bottom:5px}.enlighter-t-classic div.enlighter>div:AFTER{content:' '}.enlighter-t-classic div.enlighter>div:nth-child(even){background-color:#f8f8f8}.enlighter-t-classic div.enlighter>div.enlighter-special{background-color:#edf9ec;border-left-color:#3fa03f}.enlighter-t-classic.enlighter-linenumbers div.enlighter>div::before{padding:1px 5px 1px 14px;color:#000;background-color:#f8f8f8;font-size:1.15em;width:55px;min-width:55px}.enlighter-t-classic .enlighter span{font-size:1.25em}.enlighter-t-classic .enlighter-text{color:#000}.enlighter-t-classic .enlighter-c0{color:#888}.enlighter-t-classic .enlighter-c1{color:#888}.enlighter-t-classic .enlighter-c2{color:#888}.enlighter-t-classic .enlighter-c9{color:#888}.enlighter-t-classic .enlighter-k0{color:#066da1;font-weight:700}.enlighter-t-classic .enlighter-k1{color:#066da1;font-weight:700}.enlighter-t-classic .enlighter-k2{color:#404247;font-weight:700}.enlighter-t-classic .enlighter-k3{color:#404247;background-color:#f0f0f0}.enlighter-t-classic .enlighter-k4{color:#404247;font-weight:700}.enlighter-t-classic .enlighter-k5{color:#404247;font-weight:700}.enlighter-t-classic .enlighter-k6{color:#066da1;font-style:italic}.enlighter-t-classic .enlighter-k7{color:#066da1;font-weight:700}.enlighter-t-classic .enlighter-k8{color:#404247}.enlighter-t-classic .enlighter-k9{color:#d53aa9;font-weight:700}.enlighter-t-classic .enlighter-k10{color:#404247;font-style:italic}.enlighter-t-classic .enlighter-k11{color:#888}.enlighter-t-classic .enlighter-e0{color:#d53aa9;font-weight:700}.enlighter-t-classic .enlighter-e1{color:#d53aa9;font-weight:700}.enlighter-t-classic .enlighter-e2{color:#009926}.enlighter-t-classic .enlighter-e3{color:#d53aa9}.enlighter-t-classic .enlighter-e4{color:#d53aa9;font-style:italic}.enlighter-t-classic .enlighter-s0{color:#2d47e6}.enlighter-t-classic .enlighter-s1{color:#2d47e6}.enlighter-t-classic .enlighter-s2{color:#2d47e6}.enlighter-t-classic .enlighter-s3{color:#2d47e6}.enlighter-t-classic .enlighter-s4{color:#2d47e6;font-weight:700}.enlighter-t-classic .enlighter-s5{color:#d53aa9;font-weight:700}.enlighter-t-classic .enlighter-n0{color:#d53aa9}.enlighter-t-classic .enlighter-n1{color:#d53aa9}.enlighter-t-classic .enlighter-n2{color:#d53aa9}.enlighter-t-classic .enlighter-n3{color:#d53aa9}.enlighter-t-classic .enlighter-n4{color:#d53aa9}.enlighter-t-classic .enlighter-n5{color:#d53aa9}.enlighter-t-classic .enlighter-m0{color:#404247}.enlighter-t-classic .enlighter-m1{color:#404247}.enlighter-t-classic .enlighter-m2{color:#404247}.enlighter-t-classic .enlighter-m3{color:#404247}.enlighter-t-classic .enlighter-g0{color:#444}.enlighter-t-classic .enlighter-g1{color:#444}.enlighter-t-classic .enlighter-t0{color:#444}.enlighter-t-classic .enlighter-t1{color:#d53aa9;font-weight:700}.enlighter-t-classic .enlighter-t2{color:#d53aa9;font-weight:700}.enlighter-t-classic .enlighter-t3{color:#066da1}.enlighter-t-classic .enlighter-t4{color:#009926}.enlighter-t-classic .enlighter-t5{color:#009926}.enlighter-t-classic .enlighter-t6{color:#d53aa9}.enlighter-t-classic .enlighter-t7{color:#444;font-weight:700}.enlighter-t-classic .enlighter-t8{color:#444;background-color:#f0f0f0;font-style:italic}.enlighter-t-classic .enlighter-x1{color:#066da1;font-weight:700}.enlighter-t-classic .enlighter-x2{color:#404247;font-weight:700}.enlighter-t-classic .enlighter-x10{color:#000;font-weight:700}.enlighter-t-classic .enlighter-x11{color:#286491;font-weight:700}.enlighter-t-classic .enlighter-x12{color:#286491;text-decoration:underline}.enlighter-t-classic .enlighter-x13{color:#0086b3}.enlighter-t-classic .enlighter-x14{color:#099;font-style:italic}.enlighter-t-classic .enlighter-x15{color:#990073;font-style:italic}.enlighter-t-classic.enlighter-v-inline{background-color:transparent;border:none}.enlighter-t-classic.enlighter-v-codegroup{display:block}.enlighter-t-classic.enlighter-v-codegroup .enlighter-codegroup-wrapper{position:relative}.enlighter-t-classic.enlighter-v-codegroup .enlighter-codegroup-switch{background-color:#f8f8f8;padding-left:45px}.enlighter-t-classic.enlighter-v-codegroup .enlighter-codegroup-switch .enlighter-btn{border:none;font-size:1.25em;line-height:2.1em;width:auto;height:auto;background-color:transparent;padding:5px 10px 5px 10px}.enlighter-t-classic.enlighter-v-codegroup .enlighter-codegroup-switch .enlighter-btn.enlighter-active{background-color:#52ce52;color:#f9f9f9;font-weight:700}\n",
       ".enlighter-t-godzilla{border-left:solid 6px #4a80b3;background-image:url(data:image/gif;base64,R0lGODlhHgAeAJEAAPLz9ezt7vf39wAAACwAAAAAHgAeAAACYYyPqXvi/wCccr5gY3Y1491Z4fRlI3Rem5ByaymurQBT8nuDuM57wA8MCodEQA2V8yRjm6OmZ3G6oKSlrWlFYqlaJffpNWUvxbL5J2WNHenZrL2mxd/znfjLrm/v/Kg+UwAAOw==);background-repeat:repeat;background-position:0 0}.enlighter-t-godzilla .enlighter-btn{border-radius:3px;background-color:#fff;color:#717171;font-size:1em;padding:0;border:1px solid #e0e0e0;margin:0 0 0 8px;text-decoration:none;width:23px;height:23px;background-position:0 0;background-size:contain}.enlighter-t-godzilla .enlighter-btn:hover{border-color:#c9c9c9}.enlighter-t-godzilla .enlighter-btn:after{content:''}.enlighter-t-godzilla.enlighter-hover div.enlighter>div:hover{background-color:#f0f0f1}.enlighter-t-godzilla .enlighter-raw{font-size:1.15em;line-height:1.6em;color:#2b333a;padding:4px 5px 4px 54px}.enlighter-t-godzilla div.enlighter>div{padding:1px 5px 1px 14px;line-height:1.35em;color:#9c9ea0}.enlighter-t-godzilla div.enlighter>div:FIRST-CHILD{padding-top:5px}.enlighter-t-godzilla div.enlighter>div:LAST-CHILD{padding-bottom:5px}.enlighter-t-godzilla div.enlighter>div:AFTER{content:' '}.enlighter-t-godzilla div.enlighter>div.enlighter-special{background-color:#fffcd3}.enlighter-t-godzilla.enlighter-linenumbers div.enlighter>div::before{padding:1px 5px 1px 14px;background-color:transparent;font-size:.9em}.enlighter-t-godzilla .enlighter span{font-size:1.15em}.enlighter-t-godzilla .enlighter-text{color:#2b333a}.enlighter-t-godzilla .enlighter-c0{color:#6b7c8b}.enlighter-t-godzilla .enlighter-c1{color:#6b7c8b}.enlighter-t-godzilla .enlighter-c2{color:#6b7c8b}.enlighter-t-godzilla .enlighter-c9{color:#5b7c9c}.enlighter-t-godzilla .enlighter-k0{color:#085789;font-weight:700}.enlighter-t-godzilla .enlighter-k1{color:#085789;font-weight:700}.enlighter-t-godzilla .enlighter-k2{color:#4284ae;font-weight:700}.enlighter-t-godzilla .enlighter-k3{color:#4284ae;background-color:#f0f0f0}.enlighter-t-godzilla .enlighter-k4{color:#4284ae;font-weight:700}.enlighter-t-godzilla .enlighter-k5{color:#085789;font-weight:700}.enlighter-t-godzilla .enlighter-k6{color:#085789;font-style:italic}.enlighter-t-godzilla .enlighter-k7{color:#085789;font-weight:700}.enlighter-t-godzilla .enlighter-k8{color:#4284ae}.enlighter-t-godzilla .enlighter-k9{color:#ae42a0;font-weight:700}.enlighter-t-godzilla .enlighter-k10{color:#ae42a0;font-style:italic}.enlighter-t-godzilla .enlighter-k11{color:#6b7c8b}.enlighter-t-godzilla .enlighter-e0{color:#085789;font-weight:700}.enlighter-t-godzilla .enlighter-e1{color:#085789;font-weight:700}.enlighter-t-godzilla .enlighter-e2{color:#085789}.enlighter-t-godzilla .enlighter-e3{color:#085789}.enlighter-t-godzilla .enlighter-e4{color:#d2901d}.enlighter-t-godzilla .enlighter-s0{color:#5e860f}.enlighter-t-godzilla .enlighter-s1{color:#5e860f}.enlighter-t-godzilla .enlighter-s2{color:#5e860f}.enlighter-t-godzilla .enlighter-s3{color:#5e860f}.enlighter-t-godzilla .enlighter-s4{color:#5e860f}.enlighter-t-godzilla .enlighter-s5{color:#5e860f}.enlighter-t-godzilla .enlighter-n0{color:#9b0d5c}.enlighter-t-godzilla .enlighter-n1{color:#9b0d5c}.enlighter-t-godzilla .enlighter-n2{color:#9b0d5c;font-style:italic}.enlighter-t-godzilla .enlighter-n3{color:#9b0d5c;font-style:italic}.enlighter-t-godzilla .enlighter-n4{color:#9b0d5c;font-style:italic}.enlighter-t-godzilla .enlighter-n5{color:#9b0d5c;text-decoration:underline}.enlighter-t-godzilla .enlighter-m0{color:#d0284a}.enlighter-t-godzilla .enlighter-m1{color:#d0284a}.enlighter-t-godzilla .enlighter-m2{color:#d0284a}.enlighter-t-godzilla .enlighter-m3{color:#d0284a}.enlighter-t-godzilla .enlighter-g0{color:#35434c}.enlighter-t-godzilla .enlighter-g1{color:#35434c}.enlighter-t-godzilla .enlighter-t0{color:#35434c}.enlighter-t-godzilla .enlighter-t1{color:#d0284a;font-weight:700}.enlighter-t-godzilla .enlighter-t2{color:#9b0d5c;font-weight:700}.enlighter-t-godzilla .enlighter-t3{color:#085789}.enlighter-t-godzilla .enlighter-t4{color:#085789}.enlighter-t-godzilla .enlighter-t5{color:#085789}.enlighter-t-godzilla .enlighter-t6{color:#d0284a}.enlighter-t-godzilla .enlighter-t7{color:#35434c;font-weight:700}.enlighter-t-godzilla .enlighter-t8{color:#35434c;background-color:#f0f0f0;font-style:italic}.enlighter-t-godzilla .enlighter-x1{color:#085789;font-weight:700}.enlighter-t-godzilla .enlighter-x2{color:#4284ae}.enlighter-t-godzilla .enlighter-x10{color:#35434c;font-weight:700}.enlighter-t-godzilla .enlighter-x11{color:#085789;font-weight:700}.enlighter-t-godzilla .enlighter-x12{color:#085789;text-decoration:underline}.enlighter-t-godzilla .enlighter-x13{color:#4284ae}.enlighter-t-godzilla .enlighter-x14{color:#4284ae;font-style:italic}.enlighter-t-godzilla .enlighter-x15{color:#9b0d5c;font-style:italic}.enlighter-t-godzilla.enlighter-v-inline{background-color:#f7f7f7;border:dotted 1px #e0e0e1;border-left:solid 2px #4a80b3}.enlighter-t-godzilla.enlighter-v-codegroup .enlighter-codegroup-switch{font-family:\"Open Sans\",Arial,Verdana,sans-serif;background-color:#4a80b3;padding:5px 5px 5px 5px}.enlighter-t-godzilla.enlighter-v-codegroup .enlighter-codegroup-switch .enlighter-btn{padding:3px 10px 3px 10px;border:none;background-color:transparent;line-height:1.7em;font-size:1.15em;color:#f0f0f0;width:auto}.enlighter-t-godzilla.enlighter-v-codegroup .enlighter-codegroup-switch .enlighter-btn.enlighter-active{background-color:#00417f}\n",
       ".enlighter-t-atomic{font-family:Inconsolata,Consolas,\"Source Code Pro\",\"Liberation Mono\",\"Courier New\",Courier,monospace;background-color:#272b33;font-size:12px;color:#939393}.enlighter-t-atomic .enlighter-toolbar{top:10px;right:10px}.enlighter-t-atomic .enlighter-btn{font-family:\"Open Sans\",Arial,Verdana,sans-serif;background-image:none;background-color:transparent;color:#939393;font-size:1.1em;padding:2px 8px 2px 8px;margin:0 5px 0 5px;border:solid 1px #383e49;border-radius:4px;background-color:#13151a}.enlighter-t-atomic .enlighter-btn:hover{background-color:#121518;color:#f0f0f0}.enlighter-t-atomic .enlighter-toolbar .enlighter-btn-raw{background-image:none}.enlighter-t-atomic .enlighter-toolbar .enlighter-btn-raw:after{content:'Raw'}.enlighter-t-atomic .enlighter-toolbar .enlighter-btn-copy{background-image:none}.enlighter-t-atomic .enlighter-toolbar .enlighter-btn-copy:after{content:'Copy'}.enlighter-t-atomic .enlighter-toolbar .enlighter-btn-window{background-image:none}.enlighter-t-atomic .enlighter-toolbar .enlighter-btn-window:after{content:'Extern'}.enlighter-t-atomic .enlighter-toolbar .enlighter-btn-website{background-image:none}.enlighter-t-atomic .enlighter-toolbar .enlighter-btn-website:after{content:'EnlighterJS'}.enlighter-t-atomic .enlighter-raw{font-size:1.4em;color:#cfd5e0;background-color:#272b33;line-height:1.85em;padding:4px 5px 4px 54px}.enlighter-t-atomic div.enlighter>div{padding:1px 5px 1px 14px;line-height:1.6em;color:#596174;background-color:#272b33}.enlighter-t-atomic div.enlighter>div:FIRST-CHILD{padding-top:5px}.enlighter-t-atomic div.enlighter>div:LAST-CHILD{padding-bottom:5px}.enlighter-t-atomic div.enlighter>div:AFTER{content:' '}.enlighter-t-atomic div.enlighter>div.enlighter-special{background-color:#392d3b}.enlighter-t-atomic.enlighter-linenumbers div.enlighter>div::before{padding:1px 5px 1px 14px;font-size:1.3em}.enlighter-t-atomic.enlighter-hover div.enlighter>div:hover{background-color:#2e353e}.enlighter-t-atomic .enlighter span{font-size:1.4em}.enlighter-t-atomic .enlighter-text{color:#cfd5e0}.enlighter-t-atomic .enlighter-c0{color:#6b7c8b}.enlighter-t-atomic .enlighter-c1{color:#6b7c8b}.enlighter-t-atomic .enlighter-c2{color:#6b7c8b}.enlighter-t-atomic .enlighter-c9{color:#5b7c9c}.enlighter-t-atomic .enlighter-k0{color:#d171dd;font-weight:700}.enlighter-t-atomic .enlighter-k1{color:#d171dd;font-weight:700}.enlighter-t-atomic .enlighter-k2{color:#d19252;border-bottom:dotted 1px #d19252}.enlighter-t-atomic .enlighter-k3{color:#4284ae}.enlighter-t-atomic .enlighter-k4{color:#4284ae;font-weight:700}.enlighter-t-atomic .enlighter-k5{color:#d171dd;font-weight:700}.enlighter-t-atomic .enlighter-k6{color:#d171dd;font-style:italic}.enlighter-t-atomic .enlighter-k7{color:#d171dd;font-weight:700}.enlighter-t-atomic .enlighter-k8{color:#4284ae}.enlighter-t-atomic .enlighter-k9{color:#fff}.enlighter-t-atomic .enlighter-k10{color:#4284ae;font-style:italic}.enlighter-t-atomic .enlighter-k11{color:#6b7c8b}.enlighter-t-atomic .enlighter-e0{color:#d171dd;font-weight:700}.enlighter-t-atomic .enlighter-e1{color:#d171dd;font-weight:700}.enlighter-t-atomic .enlighter-e2{color:#d19252}.enlighter-t-atomic .enlighter-e3{color:#ae42a0}.enlighter-t-atomic .enlighter-e4{color:#d2901d;font-style:italic}.enlighter-t-atomic .enlighter-s0{color:#7cc379}.enlighter-t-atomic .enlighter-s1{color:#7cc379}.enlighter-t-atomic .enlighter-s2{color:#7cc379}.enlighter-t-atomic .enlighter-s3{color:#7cc379}.enlighter-t-atomic .enlighter-s4{color:#7cc379;font-weight:700}.enlighter-t-atomic .enlighter-s5{color:#5e860f;font-style:italic}.enlighter-t-atomic .enlighter-n0{color:#d19a66}.enlighter-t-atomic .enlighter-n1{color:#d19a66}.enlighter-t-atomic .enlighter-n2{color:#d19a66}.enlighter-t-atomic .enlighter-n3{color:#d19a66}.enlighter-t-atomic .enlighter-n4{color:#d19a66}.enlighter-t-atomic .enlighter-n5{color:#d19a66}.enlighter-t-atomic .enlighter-m0{color:#4284ae}.enlighter-t-atomic .enlighter-m1{color:#4284ae}.enlighter-t-atomic .enlighter-m2{color:#4284ae}.enlighter-t-atomic .enlighter-m3{color:#4284ae}.enlighter-t-atomic .enlighter-g0{color:#6b7c8b;font-weight:700}.enlighter-t-atomic .enlighter-g1{color:#6b7c8b;font-weight:700}.enlighter-t-atomic .enlighter-t0{color:#6b7c8b}.enlighter-t-atomic .enlighter-t1{color:#9b0d5c;font-weight:700}.enlighter-t-atomic .enlighter-t2{color:#990073;font-weight:700}.enlighter-t-atomic .enlighter-t3{color:#d171dd}.enlighter-t-atomic .enlighter-t4{color:#4284ae}.enlighter-t-atomic .enlighter-t5{color:#4284ae}.enlighter-t-atomic .enlighter-t6{color:#9b0d5c}.enlighter-t-atomic .enlighter-t7{color:#6b7c8b;font-weight:700}.enlighter-t-atomic .enlighter-t8{color:#6b7c8b}.enlighter-t-atomic .enlighter-x1{color:#d171dd;font-weight:700}.enlighter-t-atomic .enlighter-x2{color:#d19252;border-bottom:dotted 1px #d19252}.enlighter-t-atomic .enlighter-x10{color:#d171dd;font-weight:700}.enlighter-t-atomic .enlighter-x11{color:#d171dd;font-weight:700}.enlighter-t-atomic .enlighter-x12{color:#d171dd;text-decoration:underline}.enlighter-t-atomic .enlighter-x13{color:#d19252;border-bottom:dotted 1px #d19252}.enlighter-t-atomic .enlighter-x14{color:#d19a66;font-style:italic}.enlighter-t-atomic .enlighter-x15{color:#9b0d5c;font-style:italic}.enlighter-t-atomic.enlighter-v-codegroup .enlighter-codegroup-wrapper{position:relative}.enlighter-t-atomic.enlighter-v-codegroup .enlighter-codegroup-switch{padding:5px 5px 0 45px;background-color:#121518}.enlighter-t-atomic.enlighter-v-codegroup .enlighter-codegroup-switch .enlighter-btn{padding:2px 8px 0 8px;border:none;background-color:transparent;line-height:2.1em;font-weight:700;color:#f0f0f0;border-radius:5px 5px 0 0;text-transform:lowercase}.enlighter-t-atomic.enlighter-v-codegroup .enlighter-codegroup-switch .enlighter-btn.enlighter-active{background-color:#272b33}\n",
       ".enlighter-t-droide{background-color:#f7f7f9;border:solid 1px #e0e0e0}.enlighter-t-droide .enlighter-btn{background-color:#fff;color:#717171;font-size:1em;padding:0;border:1px solid #e0e0e0;margin:0 0 0 8px;text-decoration:none;width:23px;height:23px;background-position:0 0;background-size:contain}.enlighter-t-droide .enlighter-btn:hover{background-color:#fff}.enlighter-t-droide .enlighter-btn:after{content:''}.enlighter-t-droide.enlighter-hover div.enlighter>div:hover{background-color:#fae9d9}.enlighter-t-droide .enlighter-raw{font-size:1.1em;color:#404141;line-height:1.5em;padding:4px 5px 4px 55px}.enlighter-t-droide div.enlighter>div{border:solid 0 #fff;padding:1px 5px 1px 14px;line-height:1.35em;color:#aaa}.enlighter-t-droide div.enlighter>div:FIRST-CHILD{padding-top:5px}.enlighter-t-droide div.enlighter>div:LAST-CHILD{padding-bottom:5px}.enlighter-t-droide div.enlighter>div:AFTER{content:' '}.enlighter-t-droide div.enlighter>div.enlighter-special{background-color:#fae9d9;border-left:solid 5px #e07c19}.enlighter-t-droide.enlighter-linenumbers div.enlighter>div::before{padding:1px 5px 1px 0;border-right:1px dashed #e0e0e0;font-size:.9em;color:#707070;background-color:#f7f7f9}.enlighter-t-droide .enlighter span{font-size:1.1em}.enlighter-t-droide .enlighter-text{color:#000}.enlighter-t-droide .enlighter-c0{color:#086b08}.enlighter-t-droide .enlighter-c1{color:#086b08}.enlighter-t-droide .enlighter-c2{color:#086b08}.enlighter-t-droide .enlighter-c9{color:#086b08}.enlighter-t-droide .enlighter-k0{color:#12217c;font-weight:700}.enlighter-t-droide .enlighter-k1{color:#12217c;font-weight:700}.enlighter-t-droide .enlighter-k2{color:#458;font-weight:700}.enlighter-t-droide .enlighter-k3{color:#6e0d6e}.enlighter-t-droide .enlighter-k4{color:#6e0d6e;font-weight:700}.enlighter-t-droide .enlighter-k5{color:#12217c;font-weight:700}.enlighter-t-droide .enlighter-k6{color:#12217c;font-style:italic}.enlighter-t-droide .enlighter-k7{color:#12217c;font-weight:700}.enlighter-t-droide .enlighter-k8{color:#458}.enlighter-t-droide .enlighter-k9{color:#990073;font-weight:700}.enlighter-t-droide .enlighter-k10{color:#6e0d6e;font-style:italic}.enlighter-t-droide .enlighter-k11{color:#086b08}.enlighter-t-droide .enlighter-e0{color:#34068a;font-weight:700}.enlighter-t-droide .enlighter-e1{color:#34068a;font-weight:700}.enlighter-t-droide .enlighter-e2{color:#009926}.enlighter-t-droide .enlighter-e3{color:#286491}.enlighter-t-droide .enlighter-e4{color:#ff8c00;font-style:italic}.enlighter-t-droide .enlighter-s0{color:#961414}.enlighter-t-droide .enlighter-s1{color:#961414}.enlighter-t-droide .enlighter-s2{color:#961414}.enlighter-t-droide .enlighter-s3{color:#961414}.enlighter-t-droide .enlighter-s4{color:#963f14;font-weight:700}.enlighter-t-droide .enlighter-s5{color:#961414;font-style:italic}.enlighter-t-droide .enlighter-n0{color:#099}.enlighter-t-droide .enlighter-n1{color:#099}.enlighter-t-droide .enlighter-n2{color:#099;font-style:italic}.enlighter-t-droide .enlighter-n3{color:#099;font-style:italic}.enlighter-t-droide .enlighter-n4{color:#099;font-style:italic}.enlighter-t-droide .enlighter-n5{color:#099;text-decoration:underline}.enlighter-t-droide .enlighter-m0{color:#000}.enlighter-t-droide .enlighter-m1{color:#000}.enlighter-t-droide .enlighter-m2{color:#000}.enlighter-t-droide .enlighter-m3{color:#000}.enlighter-t-droide .enlighter-g0{color:#12217c}.enlighter-t-droide .enlighter-g1{color:#12217c}.enlighter-t-droide .enlighter-t0{color:#777}.enlighter-t-droide .enlighter-t1{color:#961414;font-weight:700}.enlighter-t-droide .enlighter-t2{color:#990073;font-weight:700}.enlighter-t-droide .enlighter-t3{color:#458}.enlighter-t-droide .enlighter-t4{color:#6e0d6e}.enlighter-t-droide .enlighter-t5{color:#6e0d6e}.enlighter-t-droide .enlighter-t6{color:#961414}.enlighter-t-droide .enlighter-t7{color:#535353;font-weight:700}.enlighter-t-droide .enlighter-t8{color:#777;font-style:italic}.enlighter-t-droide .enlighter-x1{color:#12217c;font-weight:700}.enlighter-t-droide .enlighter-x2{color:#6e0d6e}.enlighter-t-droide .enlighter-x10{color:#12217c;font-weight:700}.enlighter-t-droide .enlighter-x11{color:#12217c;font-weight:700}.enlighter-t-droide .enlighter-x12{color:#458}.enlighter-t-droide .enlighter-x13{color:#099}.enlighter-t-droide .enlighter-x14{color:#099}.enlighter-t-droide .enlighter-x15{color:#990073;font-style:italic}.enlighter-t-droide.enlighter-v-codegroup{background-color:transparent;border:none}.enlighter-t-droide.enlighter-v-codegroup .enlighter-codegroup-wrapper{background-color:#f7f7f9;border:solid 1px #e0e0e0}.enlighter-t-droide.enlighter-v-codegroup .enlighter-codegroup-switch{padding-left:15px}.enlighter-t-droide.enlighter-v-codegroup .enlighter-codegroup-switch .enlighter-btn{border:solid 1px #e0e0e0;font-size:1em;color:#000;background-color:transparent;border-radius:0;border-bottom-width:0;padding:5px 10px 5px 10px;font-weight:700;width:auto;height:auto}.enlighter-t-droide.enlighter-v-codegroup .enlighter-codegroup-switch .enlighter-btn.enlighter-active{background-color:#f7f7f9;color:#000;border-color:#c9c9c9}\n",
       ".enlighter-t-minimal{border-top:solid 3px #e0e0e0;border-bottom:solid 3px #e0e0e0;background-color:transparent;padding:10px 0 10px 0}.enlighter-t-minimal .enlighter-btn{background-color:#fff;color:#717171;font-size:1em;padding:0;border:1px solid #e0e0e0;margin:0 0 0 8px;text-decoration:none;width:23px;height:23px;background-position:0 0;background-size:contain}.enlighter-t-minimal .enlighter-btn:after{content:''}.enlighter-t-minimal.enlighter-hover div.enlighter>div:hover{background-color:#f0f0f0}.enlighter-t-minimal .enlighter-raw{font-size:1.1em;line-height:1.75em;padding:13px 5px 15px 50px;color:#404141}.enlighter-t-minimal div.enlighter>div{border:solid 0 #fff;background-color:transparent;padding:1px 5px 1px 0;line-height:1.5em;color:#a0a0a0}.enlighter-t-minimal div.enlighter>div:FIRST-CHILD{padding-top:5px}.enlighter-t-minimal div.enlighter>div:LAST-CHILD{padding-bottom:5px}.enlighter-t-minimal div.enlighter>div:AFTER{content:' '}.enlighter-t-minimal div.enlighter>div.enlighter-special{background-color:#f9f9f9}.enlighter-t-minimal.enlighter-linenumbers div.enlighter>div::before{padding:1px 10px 1px 10px;font-size:.8em;color:#404141}.enlighter-t-minimal .enlighter span{font-size:1.1em}.enlighter-t-minimal .enlighter-text{color:#2a2a2a}.enlighter-t-minimal .enlighter-c0{color:#a0a0a0}.enlighter-t-minimal .enlighter-c1{color:#a0a0a0}.enlighter-t-minimal .enlighter-c2{color:#a0a0a0}.enlighter-t-minimal .enlighter-c9{color:#a0a0a0}.enlighter-t-minimal .enlighter-k0{color:#12217c;font-weight:700}.enlighter-t-minimal .enlighter-k1{color:#12217c;font-weight:700}.enlighter-t-minimal .enlighter-k2{color:#458;border-bottom:dotted 1px #458}.enlighter-t-minimal .enlighter-k3{color:#458;border-bottom:dotted 1px #458}.enlighter-t-minimal .enlighter-k4{color:#458;border-bottom:dotted 1px #458}.enlighter-t-minimal .enlighter-k5{color:#12217c;font-weight:700}.enlighter-t-minimal .enlighter-k6{color:#12217c;font-style:italic}.enlighter-t-minimal .enlighter-k7{color:#12217c;font-weight:700}.enlighter-t-minimal .enlighter-k8{color:#458}.enlighter-t-minimal .enlighter-k9{color:#990073}.enlighter-t-minimal .enlighter-k10{color:#990073}.enlighter-t-minimal .enlighter-k11{color:#a0a0a0}.enlighter-t-minimal .enlighter-e0{color:#458;border-bottom:dotted 1px #458}.enlighter-t-minimal .enlighter-e1{color:#458;border-bottom:dotted 1px #458}.enlighter-t-minimal .enlighter-e2{color:#996700;border-bottom:solid 1px #996700}.enlighter-t-minimal .enlighter-e3{color:#458;border-bottom:dotted 1px #458}.enlighter-t-minimal .enlighter-e4{color:#458;border-bottom:dotted 1px #458}.enlighter-t-minimal .enlighter-s0{color:#217908;border-bottom:dotted 1px #387905}.enlighter-t-minimal .enlighter-s1{color:#217908;border-bottom:dotted 1px #387905}.enlighter-t-minimal .enlighter-s2{color:#cf6a4c}.enlighter-t-minimal .enlighter-s3{color:#217908;border-bottom:dotted 1px #387905}.enlighter-t-minimal .enlighter-s4{color:#217908;border-bottom:dotted 1px #387905}.enlighter-t-minimal .enlighter-s5{color:#217908;border-bottom:dotted 1px #387905}.enlighter-t-minimal .enlighter-n0{color:#a61d1b;font-weight:700}.enlighter-t-minimal .enlighter-n1{color:#a61d1b;font-weight:700}.enlighter-t-minimal .enlighter-n2{color:#a61d1b;font-weight:700}.enlighter-t-minimal .enlighter-n3{color:#a61d1b;font-weight:700}.enlighter-t-minimal .enlighter-n4{color:#a61d1b;font-weight:700}.enlighter-t-minimal .enlighter-n5{color:#a61d1b;font-weight:700}.enlighter-t-minimal .enlighter-m0{color:#12217c;background-color:#e0e0e0}.enlighter-t-minimal .enlighter-m1{color:#12217c;background-color:#e0e0e0}.enlighter-t-minimal .enlighter-m2{color:#12217c;background-color:#e0e0e0}.enlighter-t-minimal .enlighter-m3{color:#12217c;background-color:#e0e0e0}.enlighter-t-minimal .enlighter-g0{color:#12217c}.enlighter-t-minimal .enlighter-g1{color:#2a2a2a}.enlighter-t-minimal .enlighter-t0{color:#a0a0a0}.enlighter-t-minimal .enlighter-t1{color:#387905;font-weight:700}.enlighter-t-minimal .enlighter-t2{color:#990073;font-weight:700}.enlighter-t-minimal .enlighter-t3{color:#458}.enlighter-t-minimal .enlighter-t4{color:#458}.enlighter-t-minimal .enlighter-t5{color:#458}.enlighter-t-minimal .enlighter-t6{color:#387905}.enlighter-t-minimal .enlighter-t7{color:#a0a0a0;font-weight:700}.enlighter-t-minimal .enlighter-t8{color:#a0a0a0;font-style:italic}.enlighter-t-minimal .enlighter-x1{color:#12217c;font-weight:700}.enlighter-t-minimal .enlighter-x2{color:#458;border-bottom:dotted 1px #458}.enlighter-t-minimal .enlighter-x10{color:#12217c;font-weight:700}.enlighter-t-minimal .enlighter-x11{color:#12217c;font-weight:700}.enlighter-t-minimal .enlighter-x12{color:#458}.enlighter-t-minimal .enlighter-x13{color:#a61d1b;font-weight:700}.enlighter-t-minimal .enlighter-x14{color:#a61d1b;font-weight:700}.enlighter-t-minimal .enlighter-x15{color:#990073}.enlighter-t-minimal.enlighter-v-inline{background-color:transparent;border:none;padding:0}.enlighter-t-minimal.enlighter-v-codegroup{border-top:none;padding-top:0}.enlighter-t-minimal.enlighter-v-codegroup .enlighter-codegroup-wrapper{border-top:solid 3px #e0e0e0;padding-top:10px}.enlighter-t-minimal.enlighter-v-codegroup .enlighter-codegroup-switch{padding-left:5px;padding-bottom:5px}.enlighter-t-minimal.enlighter-v-codegroup .enlighter-codegroup-switch .enlighter-btn{font-size:1em;color:#000;background-color:transparent;font-weight:700;text-transform:uppercase;padding:1px 6px 1px 6px;border:none;width:auto;height:auto}.enlighter-t-minimal.enlighter-v-codegroup .enlighter-codegroup-switch .enlighter-btn.enlighter-active{background-color:#e0e0e0;color:#2a2a2a}\n",
       ".enlighter-t-eclipse{color:#787878;border-radius:5px;border:solid 8px #f3f3f3;background-color:#fff}.enlighter-t-eclipse .enlighter-toolbar{top:15px;right:15px}.enlighter-t-eclipse .enlighter-btn{background-color:#fff;color:#717171;font-size:1em;padding:0;border:1px solid #e0e0e0;margin:0 0 0 8px;text-decoration:none;width:23px;height:23px;background-position:0 0;background-size:contain;border-radius:8px}.enlighter-t-eclipse .enlighter-btn:hover{background-color:#e0e0e0}.enlighter-t-eclipse .enlighter-btn:after{content:''}.enlighter-t-eclipse.enlighter-hover.enlighter-linenumbers div.enlighter>div:hover{background-color:#e8f2fe;color:#444}.enlighter-t-eclipse.enlighter-hover div.enlighter>div:hover{background-color:#e8f2fe;color:#444;border-left-color:#e0e0e0}.enlighter-t-eclipse .enlighter-raw{font-size:1.1em;line-height:1.5em;padding:4px 5px 4px 56px;color:#717171}.enlighter-t-eclipse div.enlighter{background-color:#fff}.enlighter-t-eclipse div.enlighter>div{border:solid 0 #fff;background-color:transparent;padding:1px 5px 1px 0;line-height:1.35em;color:#787878}.enlighter-t-eclipse div.enlighter>div:FIRST-CHILD{padding-top:5px}.enlighter-t-eclipse div.enlighter>div:LAST-CHILD{padding-bottom:5px}.enlighter-t-eclipse div.enlighter>div:AFTER{content:' '}.enlighter-t-eclipse div.enlighter>div.enlighter-special{background-color:#f9f9f9}.enlighter-t-eclipse.enlighter-linenumbers div.enlighter>div::before{border-right:2px solid #f8f8f8;padding:1px 5px 1px 14px}.enlighter-t-eclipse .enlighter span{font-size:1.1em}.enlighter-t-eclipse .enlighter-text{color:#000}.enlighter-t-eclipse .enlighter-c0{color:#3f7f5f}.enlighter-t-eclipse .enlighter-c1{color:#3f5fbf}.enlighter-t-eclipse .enlighter-c2{color:#3f5fbf}.enlighter-t-eclipse .enlighter-c9{color:#3f5fbf}.enlighter-t-eclipse .enlighter-k0{color:#3f7f95;font-weight:700}.enlighter-t-eclipse .enlighter-k1{color:#3f7f95;font-weight:700}.enlighter-t-eclipse .enlighter-k2{color:#7f007f;font-weight:700}.enlighter-t-eclipse .enlighter-k3{color:#7f007f;font-weight:700}.enlighter-t-eclipse .enlighter-k4{color:#458}.enlighter-t-eclipse .enlighter-k5{color:#7f007f;font-weight:700}.enlighter-t-eclipse .enlighter-k6{color:#7f007f;font-weight:700}.enlighter-t-eclipse .enlighter-k7{color:#7f007f;font-weight:700}.enlighter-t-eclipse .enlighter-k8{color:#458}.enlighter-t-eclipse .enlighter-k9{color:#990073}.enlighter-t-eclipse .enlighter-k10{color:#990073}.enlighter-t-eclipse .enlighter-k11{color:#3f5fbf}.enlighter-t-eclipse .enlighter-e0{color:#7f007f;font-weight:700}.enlighter-t-eclipse .enlighter-e1{color:#7f007f;font-weight:700}.enlighter-t-eclipse .enlighter-e2{color:#009926}.enlighter-t-eclipse .enlighter-e3{color:#7f007f;font-weight:700}.enlighter-t-eclipse .enlighter-e4{color:#7f007f;font-weight:700}.enlighter-t-eclipse .enlighter-s0{color:#320fe3}.enlighter-t-eclipse .enlighter-s1{color:#320fe3}.enlighter-t-eclipse .enlighter-s2{color:#320fe3}.enlighter-t-eclipse .enlighter-s3{color:#320fe3}.enlighter-t-eclipse .enlighter-s4{color:#320fe3}.enlighter-t-eclipse .enlighter-s5{color:#990073}.enlighter-t-eclipse .enlighter-n0{color:#000}.enlighter-t-eclipse .enlighter-n1{color:#000}.enlighter-t-eclipse .enlighter-n2{color:#000}.enlighter-t-eclipse .enlighter-n3{color:#000}.enlighter-t-eclipse .enlighter-n4{color:#000}.enlighter-t-eclipse .enlighter-n5{color:#000}.enlighter-t-eclipse .enlighter-m0{color:#000}.enlighter-t-eclipse .enlighter-m1{color:#000}.enlighter-t-eclipse .enlighter-m2{color:#000}.enlighter-t-eclipse .enlighter-m3{color:#000}.enlighter-t-eclipse .enlighter-g0{color:#777}.enlighter-t-eclipse .enlighter-g1{color:#777}.enlighter-t-eclipse .enlighter-t0{color:#777}.enlighter-t-eclipse .enlighter-t1{color:#3f7f5f;font-weight:700}.enlighter-t-eclipse .enlighter-t2{color:#990073;font-weight:700}.enlighter-t-eclipse .enlighter-t3{color:#458}.enlighter-t-eclipse .enlighter-t4{color:#458}.enlighter-t-eclipse .enlighter-t5{color:#458}.enlighter-t-eclipse .enlighter-t6{color:#3f7f5f}.enlighter-t-eclipse .enlighter-t7{color:#a0a0a0;font-weight:700}.enlighter-t-eclipse .enlighter-t8{color:#a0a0a0;font-style:italic}.enlighter-t-eclipse .enlighter-x1{color:#3f7f95;font-weight:700}.enlighter-t-eclipse .enlighter-x2{color:#7f007f;font-weight:700}.enlighter-t-eclipse .enlighter-x10{color:#3f7f95;font-weight:700}.enlighter-t-eclipse .enlighter-x11{color:#3f7f95;font-weight:700}.enlighter-t-eclipse .enlighter-x12{color:#458}.enlighter-t-eclipse .enlighter-x13{color:#3f7f95}.enlighter-t-eclipse .enlighter-x14{color:#000}.enlighter-t-eclipse .enlighter-x15{color:#000}.enlighter-t-eclipse.enlighter-v-inline{border-radius:3px;background-color:#f8f8f8;border:solid 0 #fff}.enlighter-t-eclipse.enlighter-v-codegroup{display:block}.enlighter-t-eclipse.enlighter-v-codegroup .enlighter,.enlighter-t-eclipse.enlighter-v-codegroup .enlighter-raw{border-top:0;border-top-left-radius:0;border-top-right-radius:0}.enlighter-t-eclipse.enlighter-v-codegroup .enlighter-codegroup-wrapper{position:relative}.enlighter-t-eclipse.enlighter-v-codegroup .enlighter-codegroup-switch{background-color:#f3f3f3;padding:8px 5px 0 60px;border-radius:5px 5px 0 0}.enlighter-t-eclipse.enlighter-v-codegroup .enlighter-codegroup-switch .enlighter-btn{font-size:1em;color:#000;background-color:transparent;padding:5px 10px 5px 10px;border-radius:5px 5px 0 0;border:none;width:auto}.enlighter-t-eclipse.enlighter-v-codegroup .enlighter-codegroup-switch .enlighter-btn.enlighter-active{background-color:#fff;color:#000;border-color:#c9c9c9}\n",
       ".enlighter-t-mowtwo{background-color:#f0f0f1;border:solid 1px #f0f0f1;border-radius:7px}.enlighter-t-mowtwo .enlighter-btn{background-color:#fff;color:#717171;font-size:1em;padding:0;border:1px solid #e0e0e0;margin:0 0 0 8px;text-decoration:none;width:23px;height:23px;background-position:0 0;background-size:contain}.enlighter-t-mowtwo .enlighter-btn:after{content:''}.enlighter-t-mowtwo.enlighter-hover div.enlighter>div:hover{background-color:#e9e9e9}.enlighter-t-mowtwo .enlighter-raw{font-size:1.15em;line-height:1.75em;color:#313437;padding:5px 5px 5px 51px;background-color:transparent}.enlighter-t-mowtwo div.enlighter>div{line-height:1.5em;padding:1px 5px 1px 14px;color:#9c9ea0}.enlighter-t-mowtwo div.enlighter>div:FIRST-CHILD{padding-top:5px}.enlighter-t-mowtwo div.enlighter>div:LAST-CHILD{padding-bottom:5px}.enlighter-t-mowtwo div.enlighter>div:AFTER{content:' '}.enlighter-t-mowtwo div.enlighter>div.enlighter-special{background-color:#e9e9e9}.enlighter-t-mowtwo.enlighter-linenumbers div.enlighter>div::before{padding:1px 10px 1px 10px;font-size:.9em}.enlighter-t-mowtwo.enlighter-linenumbers div.enlighter>div:FIRST-CHILD::before{border-radius:0 8px 0 0}.enlighter-t-mowtwo.enlighter-linenumbers div.enlighter>div:LAST-CHILD::before{border-radius:0 0 8px 0}.enlighter-t-mowtwo .enlighter span{font-size:1.15em}.enlighter-t-mowtwo .enlighter-text{color:#313437}.enlighter-t-mowtwo .enlighter-c0{color:#9c9ea0}.enlighter-t-mowtwo .enlighter-c1{color:#9c9ea0}.enlighter-t-mowtwo .enlighter-c2{color:#9c9ea0}.enlighter-t-mowtwo .enlighter-c9{color:#9c9ea0}.enlighter-t-mowtwo .enlighter-k0{color:#b05098;font-weight:700}.enlighter-t-mowtwo .enlighter-k1{color:#b05098;font-weight:700}.enlighter-t-mowtwo .enlighter-k2{color:#b05098}.enlighter-t-mowtwo .enlighter-k3{color:#b05098}.enlighter-t-mowtwo .enlighter-k4{color:#b05098}.enlighter-t-mowtwo .enlighter-k5{color:#b05098}.enlighter-t-mowtwo .enlighter-k6{color:#b05098}.enlighter-t-mowtwo .enlighter-k7{color:#b05098}.enlighter-t-mowtwo .enlighter-k8{color:#313437}.enlighter-t-mowtwo .enlighter-k9{color:#313437}.enlighter-t-mowtwo .enlighter-k10{color:#313437}.enlighter-t-mowtwo .enlighter-k11{color:#9c9ea0}.enlighter-t-mowtwo .enlighter-e0{color:#b05098}.enlighter-t-mowtwo .enlighter-e1{color:#b05098}.enlighter-t-mowtwo .enlighter-e2{color:#864c08}.enlighter-t-mowtwo .enlighter-e3{color:#b05098}.enlighter-t-mowtwo .enlighter-e4{color:#b05098}.enlighter-t-mowtwo .enlighter-s0{color:#83a440}.enlighter-t-mowtwo .enlighter-s1{color:#83a440}.enlighter-t-mowtwo .enlighter-s2{color:#83a440}.enlighter-t-mowtwo .enlighter-s3{color:#83a440}.enlighter-t-mowtwo .enlighter-s4{color:#83a440}.enlighter-t-mowtwo .enlighter-s5{color:#83a440}.enlighter-t-mowtwo .enlighter-n0{color:#429bc1}.enlighter-t-mowtwo .enlighter-n1{color:#429bc1}.enlighter-t-mowtwo .enlighter-n2{color:#429bc1}.enlighter-t-mowtwo .enlighter-n3{color:#429bc1}.enlighter-t-mowtwo .enlighter-n4{color:#429bc1}.enlighter-t-mowtwo .enlighter-n5{color:#429bc1}.enlighter-t-mowtwo .enlighter-m0{color:#666}.enlighter-t-mowtwo .enlighter-m1{color:#666}.enlighter-t-mowtwo .enlighter-m2{color:#666}.enlighter-t-mowtwo .enlighter-m3{color:#666}.enlighter-t-mowtwo .enlighter-g0{color:#864c08}.enlighter-t-mowtwo .enlighter-g1{color:#909090}.enlighter-t-mowtwo .enlighter-t0{color:#909090}.enlighter-t-mowtwo .enlighter-t1{color:#b05098;font-weight:700}.enlighter-t-mowtwo .enlighter-t2{color:#b05098;font-weight:700}.enlighter-t-mowtwo .enlighter-t3{color:#b05098}.enlighter-t-mowtwo .enlighter-t4{color:#b05098}.enlighter-t-mowtwo .enlighter-t5{color:#83a440}.enlighter-t-mowtwo .enlighter-t6{color:#b05098}.enlighter-t-mowtwo .enlighter-t7{color:#909090;font-weight:700}.enlighter-t-mowtwo .enlighter-t8{color:#909090;font-style:italic}.enlighter-t-mowtwo .enlighter-x1{color:#b05098;font-weight:700}.enlighter-t-mowtwo .enlighter-x2{color:#b05098}.enlighter-t-mowtwo .enlighter-x10{color:#b05098;font-weight:700}.enlighter-t-mowtwo .enlighter-x11{color:#b05098;font-weight:700}.enlighter-t-mowtwo .enlighter-x12{color:#313437}.enlighter-t-mowtwo .enlighter-x13{color:#429bc1}.enlighter-t-mowtwo .enlighter-x14{color:#429bc1}.enlighter-t-mowtwo .enlighter-x15{color:#313437}.enlighter-t-mowtwo.enlighter-v-inline{border-radius:4px}.enlighter-t-mowtwo.enlighter-v-codegroup .enlighter-codegroup-switch{background-color:#585b5e;padding:10px 0 10px 20px;border-radius:8px;margin-bottom:5px}.enlighter-t-mowtwo.enlighter-v-codegroup .enlighter-codegroup-switch .enlighter-btn{border-radius:0;background-color:transparent;line-height:1.7em;font-size:1.25em;color:#f0f0f0;border:none;padding:0 10px 0 10px;width:auto;height:auto;font-family:\"Open Sans\",Arial,Verdana,sans-serif}.enlighter-t-mowtwo.enlighter-v-codegroup .enlighter-codegroup-switch .enlighter-btn.enlighter-active{text-decoration:underline}\n",
       ".enlighter-t-rowhammer{background-color:transparent;border:none}.enlighter-t-rowhammer .enlighter-toolbar{top:20px}.enlighter-t-rowhammer .enlighter-btn{background-color:#fff;color:#717171;font-size:1em;padding:0;border:1px solid #e0e0e0;margin:0 0 0 8px;text-decoration:none;width:23px;height:23px;background-position:0 0;background-size:contain}.enlighter-t-rowhammer .enlighter-btn:hover{background-color:#fff}.enlighter-t-rowhammer .enlighter-btn:after{content:''}.enlighter-t-rowhammer.enlighter-hover div.enlighter>div:hover{background-color:#f0f0f0}.enlighter-t-rowhammer .enlighter-raw{font-size:1.1em;color:#404141;background-color:transparent;padding:14px 0 15px 38px;line-height:2em}.enlighter-t-rowhammer div.enlighter>div{border:solid 0 #fff;padding:1px 5px 1px 0;line-height:1.67em;color:#94a9bf;background-color:transparent;border-bottom:dotted 1px #e9e9f0}.enlighter-t-rowhammer div.enlighter>div:nth-of-type(1){border-top:dotted 1px #e9e9f0}.enlighter-t-rowhammer div.enlighter>div:FIRST-CHILD{padding-top:5px}.enlighter-t-rowhammer div.enlighter>div:LAST-CHILD{padding-bottom:5px}.enlighter-t-rowhammer div.enlighter>div:AFTER{content:' '}.enlighter-t-rowhammer div.enlighter>div.enlighter-special{background-color:#f9f9f9}.enlighter-t-rowhammer.enlighter-linenumbers div.enlighter>div::before{padding:1px 5px 1px 14px;font-size:.8em;color:#94a9bf}.enlighter-t-rowhammer .enlighter span{font-size:1.1em}.enlighter-t-rowhammer .enlighter-text{color:#000}.enlighter-t-rowhammer .enlighter-c0{color:#758697}.enlighter-t-rowhammer .enlighter-c1{color:#758697}.enlighter-t-rowhammer .enlighter-c2{color:#758697}.enlighter-t-rowhammer .enlighter-c9{color:#758697}.enlighter-t-rowhammer .enlighter-k0{color:#07a;font-weight:700;border-bottom:dotted 1px #07a}.enlighter-t-rowhammer .enlighter-k1{color:#07a;font-weight:700;border-bottom:dotted 1px #07a}.enlighter-t-rowhammer .enlighter-k2{color:#07a;font-weight:700}.enlighter-t-rowhammer .enlighter-k3{color:#07a}.enlighter-t-rowhammer .enlighter-k4{color:#07a;font-weight:700}.enlighter-t-rowhammer .enlighter-k5{color:#07a;font-weight:700;border-bottom:dotted 1px #07a}.enlighter-t-rowhammer .enlighter-k6{color:#07a;font-weight:700;border-bottom:dotted 1px #07a}.enlighter-t-rowhammer .enlighter-k7{color:#07a;font-weight:700;border-bottom:dotted 1px #07a}.enlighter-t-rowhammer .enlighter-k8{color:#07a}.enlighter-t-rowhammer .enlighter-k9{color:#000}.enlighter-t-rowhammer .enlighter-k10{color:#07a;font-style:italic}.enlighter-t-rowhammer .enlighter-k11{color:#758697}.enlighter-t-rowhammer .enlighter-e0{color:#07a;font-weight:700}.enlighter-t-rowhammer .enlighter-e1{color:#07a;font-weight:700}.enlighter-t-rowhammer .enlighter-e2{color:#d2901d}.enlighter-t-rowhammer .enlighter-e3{color:#07a}.enlighter-t-rowhammer .enlighter-e4{color:#ff8c00;font-style:italic}.enlighter-t-rowhammer .enlighter-s0{color:#639500;border-bottom:dotted 1px #639500}.enlighter-t-rowhammer .enlighter-s1{color:#639500}.enlighter-t-rowhammer .enlighter-s2{color:#639500}.enlighter-t-rowhammer .enlighter-s3{color:#639500}.enlighter-t-rowhammer .enlighter-s4{color:#639500}.enlighter-t-rowhammer .enlighter-s5{color:#639500;font-style:italic}.enlighter-t-rowhammer .enlighter-n0{color:#9b0d5c}.enlighter-t-rowhammer .enlighter-n1{color:#9b0d5c}.enlighter-t-rowhammer .enlighter-n2{color:#9b0d5c}.enlighter-t-rowhammer .enlighter-n3{color:#9b0d5c}.enlighter-t-rowhammer .enlighter-n4{color:#9b0d5c}.enlighter-t-rowhammer .enlighter-n5{color:#9b0d5c}.enlighter-t-rowhammer .enlighter-m0{color:#d0284a;font-weight:700}.enlighter-t-rowhammer .enlighter-m1{color:#c2415b;font-weight:700}.enlighter-t-rowhammer .enlighter-m2{color:#c2415b;font-weight:700}.enlighter-t-rowhammer .enlighter-m3{color:#d0284a;font-weight:700}.enlighter-t-rowhammer .enlighter-g0{color:#35434c;font-weight:700}.enlighter-t-rowhammer .enlighter-g1{color:#6b7c8b;font-weight:700}.enlighter-t-rowhammer .enlighter-t0{color:#777}.enlighter-t-rowhammer .enlighter-t1{color:#961414;font-weight:700}.enlighter-t-rowhammer .enlighter-t2{color:#990073;font-weight:700}.enlighter-t-rowhammer .enlighter-t3{color:#458}.enlighter-t-rowhammer .enlighter-t4{color:#6e0d6e}.enlighter-t-rowhammer .enlighter-t5{color:#6e0d6e}.enlighter-t-rowhammer .enlighter-t6{color:#961414}.enlighter-t-rowhammer .enlighter-t7{color:#535353;font-weight:700}.enlighter-t-rowhammer .enlighter-t8{color:#777;font-style:italic}.enlighter-t-rowhammer .enlighter-x1{color:#07a;font-weight:700;border-bottom:dotted 1px #07a}.enlighter-t-rowhammer .enlighter-x2{color:#07a;font-weight:700}.enlighter-t-rowhammer .enlighter-x10{color:#07a;font-weight:700;border-bottom:dotted 1px #07a}.enlighter-t-rowhammer .enlighter-x11{color:#07a;font-weight:700;border-bottom:dotted 1px #07a}.enlighter-t-rowhammer .enlighter-x12{color:#07a}.enlighter-t-rowhammer .enlighter-x13{color:#9b0d5c}.enlighter-t-rowhammer .enlighter-x14{color:#9b0d5c}.enlighter-t-rowhammer .enlighter-x15{color:#121212}.enlighter-t-rowhammer.enlighter-v-codegroup .enlighter-codegroup-switch{padding-left:15px;padding-bottom:15px}.enlighter-t-rowhammer.enlighter-v-codegroup .enlighter-codegroup-switch .enlighter-btn{font-size:1em;color:#758697;background-color:transparent;border-radius:0;font-weight:700;text-transform:uppercase;padding:2px 10px 2px 10px;border:none;width:auto;height:auto}.enlighter-t-rowhammer.enlighter-v-codegroup .enlighter-codegroup-switch .enlighter-btn.enlighter-active{border-bottom:dotted 1px #758697;background-color:#f0f0f0}\n",
       ".enlighter-t-bootstrap4{color:#212529;background-color:#f8f9fa;padding:25px 25px 25px 25px}.enlighter-t-bootstrap4 .enlighter-toolbar{top:10px;right:10px}.enlighter-t-bootstrap4 .enlighter-btn{background-image:none;background-color:transparent;color:#818a91;font-size:1em;padding:2px 8px 2px 8px;margin:0 5px 0 5px;border:none;border-radius:4px;font-family:\"Open Sans\",Arial,Verdana,sans-serif}.enlighter-t-bootstrap4 .enlighter-btn:hover{background-color:#007bff;color:#f0f0f0}.enlighter-t-bootstrap4 .enlighter-toolbar .enlighter-btn-raw{background-image:none}.enlighter-t-bootstrap4 .enlighter-toolbar .enlighter-btn-raw:after{content:'Raw'}.enlighter-t-bootstrap4 .enlighter-toolbar .enlighter-btn-copy{background-image:none}.enlighter-t-bootstrap4 .enlighter-toolbar .enlighter-btn-copy:after{content:'Copy'}.enlighter-t-bootstrap4 .enlighter-toolbar .enlighter-btn-window{background-image:none}.enlighter-t-bootstrap4 .enlighter-toolbar .enlighter-btn-window:after{content:'Extern'}.enlighter-t-bootstrap4 .enlighter-toolbar .enlighter-btn-website{background-image:none}.enlighter-t-bootstrap4 .enlighter-toolbar .enlighter-btn-website:after{content:'EnlighterJS'}.enlighter-t-bootstrap4.enlighter-hover div.enlighter>div:hover{background-color:#eceef0}.enlighter-t-bootstrap4 .enlighter-raw{font-size:1.15em;color:#212529;background-color:#f8f9fa;line-height:1.7em;padding:0 0 0 61px}.enlighter-t-bootstrap4 div.enlighter>div{padding:1px 5px 1px 14px;line-height:1.35em;color:#999;background-color:transparent}.enlighter-t-bootstrap4 div.enlighter>div:FIRST-CHILD{padding-top:5px}.enlighter-t-bootstrap4 div.enlighter>div:LAST-CHILD{padding-bottom:5px}.enlighter-t-bootstrap4 div.enlighter>div:AFTER{content:' '}.enlighter-t-bootstrap4 div.enlighter>div.enlighter-special{background-color:#eceef0}.enlighter-t-bootstrap4.enlighter-linenumbers div.enlighter>div::before{padding:1px 5px 1px 0;font-size:.8em}.enlighter-t-bootstrap4 .enlighter span{font-size:1.15em}.enlighter-t-bootstrap4 .enlighter-text{color:#212529}.enlighter-t-bootstrap4 .enlighter-c0{color:#999}.enlighter-t-bootstrap4 .enlighter-c1{color:#999}.enlighter-t-bootstrap4 .enlighter-c2{color:#999}.enlighter-t-bootstrap4 .enlighter-c9{color:#999}.enlighter-t-bootstrap4 .enlighter-k0{color:#069}.enlighter-t-bootstrap4 .enlighter-k1{color:#069}.enlighter-t-bootstrap4 .enlighter-k2{color:#069}.enlighter-t-bootstrap4 .enlighter-k3{color:#069}.enlighter-t-bootstrap4 .enlighter-k4{color:#069;font-style:italic}.enlighter-t-bootstrap4 .enlighter-k5{color:#212529}.enlighter-t-bootstrap4 .enlighter-k6{color:#069}.enlighter-t-bootstrap4 .enlighter-k7{color:#069;border-bottom:dotted 1px #069}.enlighter-t-bootstrap4 .enlighter-k8{color:#212529}.enlighter-t-bootstrap4 .enlighter-k9{color:#069}.enlighter-t-bootstrap4 .enlighter-k10{color:#212529}.enlighter-t-bootstrap4 .enlighter-k11{color:#999}.enlighter-t-bootstrap4 .enlighter-e0{color:#069}.enlighter-t-bootstrap4 .enlighter-e1{color:#069}.enlighter-t-bootstrap4 .enlighter-e2{color:#009926}.enlighter-t-bootstrap4 .enlighter-e3{color:#069}.enlighter-t-bootstrap4 .enlighter-e4{color:#069}.enlighter-t-bootstrap4 .enlighter-s0{color:#d44950}.enlighter-t-bootstrap4 .enlighter-s1{color:#d44950}.enlighter-t-bootstrap4 .enlighter-s2{color:#d44950}.enlighter-t-bootstrap4 .enlighter-s3{color:#d44950}.enlighter-t-bootstrap4 .enlighter-s4{color:#d44950}.enlighter-t-bootstrap4 .enlighter-s5{color:#d44950}.enlighter-t-bootstrap4 .enlighter-n0{color:#f60}.enlighter-t-bootstrap4 .enlighter-n1{color:#f60}.enlighter-t-bootstrap4 .enlighter-n2{color:#f60}.enlighter-t-bootstrap4 .enlighter-n3{color:#f60}.enlighter-t-bootstrap4 .enlighter-n4{color:#f60}.enlighter-t-bootstrap4 .enlighter-n5{color:#f60}.enlighter-t-bootstrap4 .enlighter-m0{color:#99f}.enlighter-t-bootstrap4 .enlighter-m1{color:#212529}.enlighter-t-bootstrap4 .enlighter-m2{color:#212529}.enlighter-t-bootstrap4 .enlighter-m3{color:#212529}.enlighter-t-bootstrap4 .enlighter-g0{color:#2f6f9f}.enlighter-t-bootstrap4 .enlighter-g1{color:#999;font-weight:700}.enlighter-t-bootstrap4 .enlighter-t0{color:#999}.enlighter-t-bootstrap4 .enlighter-t1{color:#d44950;font-weight:700}.enlighter-t-bootstrap4 .enlighter-t2{color:#d44950;font-weight:700}.enlighter-t-bootstrap4 .enlighter-t3{color:#0086b3}.enlighter-t-bootstrap4 .enlighter-t4{color:#0a8}.enlighter-t-bootstrap4 .enlighter-t5{color:#0a8}.enlighter-t-bootstrap4 .enlighter-t6{color:#f60}.enlighter-t-bootstrap4 .enlighter-t7{color:#999;font-weight:700}.enlighter-t-bootstrap4 .enlighter-t8{color:#999}.enlighter-t-bootstrap4 .enlighter-x1{color:#2f6f9f}.enlighter-t-bootstrap4 .enlighter-x2{color:#4f9fcf}.enlighter-t-bootstrap4 .enlighter-x10{color:#0a8}.enlighter-t-bootstrap4 .enlighter-x11{color:#0a8}.enlighter-t-bootstrap4 .enlighter-x12{color:#99f}.enlighter-t-bootstrap4 .enlighter-x13{color:#f60}.enlighter-t-bootstrap4 .enlighter-x14{color:#f60}.enlighter-t-bootstrap4 .enlighter-x15{color:#f60}.enlighter-t-bootstrap4.enlighter-v-inline{background-color:#f8f9fa;border:none;border-radius:5px;padding:3px}.enlighter-t-bootstrap4.enlighter-v-codegroup .enlighter-codegroup-switch{border:solid 3px #f8f9fa;border-bottom-width:0;padding:15px}.enlighter-t-bootstrap4.enlighter-v-codegroup .enlighter-codegroup-switch .enlighter-btn{padding:3px 10px 3px 10px;border:none;font-size:.9em;color:#212529;font-weight:700;background-color:#f8f9fa;border-radius:5px}.enlighter-t-bootstrap4.enlighter-v-codegroup .enlighter-codegroup-switch .enlighter-btn.enlighter-active{background-color:#007bff;color:#f0f0f0}\n",
       ".enlighter-t-dracula{background-color:#282a36}.enlighter-t-dracula .enlighter-toolbar{top:10px;right:10px}.enlighter-t-dracula .enlighter-btn{background-image:none;background-color:#44475a;color:#f8f8f2;font-size:1em;padding:2px 8px 2px 8px;margin:0 5px 0 5px;border:none;border-radius:4px;font-family:Arial,Helvetica,sans-serif}.enlighter-t-dracula .enlighter-btn:hover{background-color:#6272a4;color:#f8f8f2}.enlighter-t-dracula .enlighter-toolbar .enlighter-btn-raw{background-image:none}.enlighter-t-dracula .enlighter-toolbar .enlighter-btn-raw:after{content:'Raw'}.enlighter-t-dracula .enlighter-toolbar .enlighter-btn-copy{background-image:none}.enlighter-t-dracula .enlighter-toolbar .enlighter-btn-copy:after{content:'Copy'}.enlighter-t-dracula .enlighter-toolbar .enlighter-btn-window{background-image:none}.enlighter-t-dracula .enlighter-toolbar .enlighter-btn-window:after{content:'Extern'}.enlighter-t-dracula .enlighter-toolbar .enlighter-btn-website{background-image:none}.enlighter-t-dracula .enlighter-toolbar .enlighter-btn-website:after{content:'EnlighterJS'}.enlighter-t-dracula.enlighter-hover div.enlighter>div:hover{background-color:#44475a}.enlighter-t-dracula .enlighter-raw{font-size:1.25em;color:#f8f8f2;line-height:1.85em;padding:4px 5px 4px 55px}.enlighter-t-dracula div.enlighter>div{padding:1px 5px 1px 14px;line-height:1.6em;color:#6272a4;background-color:#282a36}.enlighter-t-dracula div.enlighter>div:FIRST-CHILD{padding-top:5px}.enlighter-t-dracula div.enlighter>div:LAST-CHILD{padding-bottom:5px}.enlighter-t-dracula div.enlighter>div:AFTER{content:' '}.enlighter-t-dracula div.enlighter>div.enlighter-special{background-color:#44475a}.enlighter-t-dracula.enlighter-linenumbers div.enlighter>div::before{font-size:1em;color:#6272a4}.enlighter-t-dracula .enlighter span{font-size:1.25em}.enlighter-t-dracula .enlighter-text{color:#f8f8f2}.enlighter-t-dracula .enlighter-c0{color:#6272a4}.enlighter-t-dracula .enlighter-c1{color:#6272a4}.enlighter-t-dracula .enlighter-c2{color:#6272a4}.enlighter-t-dracula .enlighter-c9{color:#6272a4}.enlighter-t-dracula .enlighter-k0{color:#ff79c6;font-weight:700}.enlighter-t-dracula .enlighter-k1{color:#8be9fd;font-weight:700}.enlighter-t-dracula .enlighter-k2{color:#ff79c6;font-weight:700}.enlighter-t-dracula .enlighter-k3{color:#ff79c6}.enlighter-t-dracula .enlighter-k4{color:#8be9fd}.enlighter-t-dracula .enlighter-k5{color:#8be9fd}.enlighter-t-dracula .enlighter-k6{color:#8be9fd}.enlighter-t-dracula .enlighter-k7{color:#ffb86c}.enlighter-t-dracula .enlighter-k8{color:#8be9fd}.enlighter-t-dracula .enlighter-k9{color:#50fa7b}.enlighter-t-dracula .enlighter-k10{color:#50fa7b}.enlighter-t-dracula .enlighter-k11{color:#6272a4}.enlighter-t-dracula .enlighter-e0{color:#bd93f9;font-weight:700}.enlighter-t-dracula .enlighter-e1{color:#bd93f9;font-weight:700}.enlighter-t-dracula .enlighter-e2{color:#f1fa8c}.enlighter-t-dracula .enlighter-e3{color:#bd93f9}.enlighter-t-dracula .enlighter-e4{color:#bd93f9;font-style:italic}.enlighter-t-dracula .enlighter-s0{color:#f1fa8c}.enlighter-t-dracula .enlighter-s1{color:#f1fa8c}.enlighter-t-dracula .enlighter-s2{color:#f1fa8c}.enlighter-t-dracula .enlighter-s3{color:#f1fa8c}.enlighter-t-dracula .enlighter-s4{color:#f1fa8c;font-weight:700}.enlighter-t-dracula .enlighter-s5{color:#f1fa8c;font-style:italic}.enlighter-t-dracula .enlighter-n0{color:#bd93f9}.enlighter-t-dracula .enlighter-n1{color:#bd93f9}.enlighter-t-dracula .enlighter-n2{color:#bd93f9}.enlighter-t-dracula .enlighter-n3{color:#bd93f9}.enlighter-t-dracula .enlighter-n4{color:#bd93f9}.enlighter-t-dracula .enlighter-n5{color:#bd93f9}.enlighter-t-dracula .enlighter-m0{color:#8be9fd}.enlighter-t-dracula .enlighter-m1{color:#8be9fd}.enlighter-t-dracula .enlighter-m2{color:#8be9fd}.enlighter-t-dracula .enlighter-m3{color:#8be9fd}.enlighter-t-dracula .enlighter-g0{color:#f8f8f2;font-weight:700}.enlighter-t-dracula .enlighter-g1{color:#f8f8f2;font-weight:700}.enlighter-t-dracula .enlighter-t0{color:#6272a4}.enlighter-t-dracula .enlighter-t1{color:#8be9fd;font-weight:700}.enlighter-t-dracula .enlighter-t2{color:#8be9fd;font-weight:700}.enlighter-t-dracula .enlighter-t3{color:#ff79c6}.enlighter-t-dracula .enlighter-t4{color:#ffb86c}.enlighter-t-dracula .enlighter-t5{color:#50fa7b}.enlighter-t-dracula .enlighter-t6{color:#f55}.enlighter-t-dracula .enlighter-t7{color:#f8f8f2;font-weight:700}.enlighter-t-dracula .enlighter-t8{color:#f8f8f2}.enlighter-t-dracula .enlighter-x1{color:#ff79c6;font-weight:700}.enlighter-t-dracula .enlighter-x2{color:#50fa7b}.enlighter-t-dracula .enlighter-x10{color:#f8f8f2;font-weight:700}.enlighter-t-dracula .enlighter-x11{color:#50fa7b;font-weight:700}.enlighter-t-dracula .enlighter-x12{color:#8be9fd;font-style:italic}.enlighter-t-dracula .enlighter-x13{color:#bd93f9}.enlighter-t-dracula .enlighter-x14{color:#bd93f9;font-style:italic}.enlighter-t-dracula .enlighter-x15{color:#ffb86c;font-style:italic}.enlighter-t-dracula.enlighter-v-codegroup .enlighter-codegroup-switch{background-color:#282a36;padding:10px}.enlighter-t-dracula.enlighter-v-codegroup .enlighter-codegroup-switch .enlighter-btn{background-image:none;background-color:transparent;color:#f8f8f2;font-size:1.15em;padding:2px 8px 2px 8px;margin:0 5px 0 5px;border:none;border-radius:4px;font-family:Arial,Helvetica,sans-serif}.enlighter-t-dracula.enlighter-v-codegroup .enlighter-codegroup-switch .enlighter-btn.enlighter-active{background-color:#44475a;color:#f8f8f2}\n",
       ".enlighter-t-monokai{background-color:#272822}.enlighter-t-monokai .enlighter-toolbar{top:10px;right:10px}.enlighter-t-monokai .enlighter-btn{background-image:none;background-color:#414339;color:#f8f8f2;font-size:1em;padding:2px 8px 2px 8px;margin:0 5px 0 5px;border:solid 1px #1e1f1c;font-family:\"Open Sans\",Arial,Verdana,sans-serif}.enlighter-t-monokai .enlighter-btn:hover{background-color:#4e5145}.enlighter-t-monokai .enlighter-toolbar .enlighter-btn-raw{background-image:none}.enlighter-t-monokai .enlighter-toolbar .enlighter-btn-raw:after{content:'Raw'}.enlighter-t-monokai .enlighter-toolbar .enlighter-btn-copy{background-image:none}.enlighter-t-monokai .enlighter-toolbar .enlighter-btn-copy:after{content:'Copy'}.enlighter-t-monokai .enlighter-toolbar .enlighter-btn-window{background-image:none}.enlighter-t-monokai .enlighter-toolbar .enlighter-btn-window:after{content:'Extern'}.enlighter-t-monokai .enlighter-toolbar .enlighter-btn-website{background-image:none}.enlighter-t-monokai .enlighter-toolbar .enlighter-btn-website:after{content:'EnlighterJS'}.enlighter-t-monokai.enlighter-hover div.enlighter>div:hover{background-color:#75715e}.enlighter-t-monokai .enlighter-raw{font-size:1.25em;color:#f8f8f2;line-height:1.85em;padding:4px 5px 4px 55px}.enlighter-t-monokai div.enlighter>div{padding:1px 5px 1px 14px;line-height:1.6em}.enlighter-t-monokai div.enlighter>div:FIRST-CHILD{padding-top:5px}.enlighter-t-monokai div.enlighter>div:LAST-CHILD{padding-bottom:5px}.enlighter-t-monokai div.enlighter>div:AFTER{content:' '}.enlighter-t-monokai div.enlighter>div.enlighter-special{background-color:#414339}.enlighter-t-monokai.enlighter-linenumbers div.enlighter>div::before{font-size:1em;color:grey}.enlighter-t-monokai .enlighter span{font-size:1.25em}.enlighter-t-monokai .enlighter-text{color:#f8f8f2}.enlighter-t-monokai .enlighter-c0{color:#75715e}.enlighter-t-monokai .enlighter-c1{color:#75715e}.enlighter-t-monokai .enlighter-c2{color:#75715e}.enlighter-t-monokai .enlighter-c9{color:#75715e}.enlighter-t-monokai .enlighter-k0{color:#f92672}.enlighter-t-monokai .enlighter-k1{color:#f92672}.enlighter-t-monokai .enlighter-k2{color:#f92672}.enlighter-t-monokai .enlighter-k3{color:#f92672}.enlighter-t-monokai .enlighter-k4{color:#f92672}.enlighter-t-monokai .enlighter-k5{color:#f92672}.enlighter-t-monokai .enlighter-k6{color:#f92672}.enlighter-t-monokai .enlighter-k7{color:#f8f8f2}.enlighter-t-monokai .enlighter-k8{color:#f92672}.enlighter-t-monokai .enlighter-k9{color:#fd971f}.enlighter-t-monokai .enlighter-k10{color:#f92672}.enlighter-t-monokai .enlighter-k11{color:#75715e}.enlighter-t-monokai .enlighter-e0{color:#ae81ff}.enlighter-t-monokai .enlighter-e1{color:#ae81ff}.enlighter-t-monokai .enlighter-e2{color:#ae81ff}.enlighter-t-monokai .enlighter-e3{color:#ae81ff}.enlighter-t-monokai .enlighter-e4{color:#ae81ff}.enlighter-t-monokai .enlighter-s0{color:#e6db74}.enlighter-t-monokai .enlighter-s1{color:#e6db74}.enlighter-t-monokai .enlighter-s2{color:#e6db74}.enlighter-t-monokai .enlighter-s3{color:#e6db74}.enlighter-t-monokai .enlighter-s4{color:#e6db74;font-weight:700}.enlighter-t-monokai .enlighter-s5{color:#e6db74;font-style:italic}.enlighter-t-monokai .enlighter-n0{color:#ae81ff}.enlighter-t-monokai .enlighter-n1{color:#ae81ff}.enlighter-t-monokai .enlighter-n2{color:#ae81ff}.enlighter-t-monokai .enlighter-n3{color:#ae81ff}.enlighter-t-monokai .enlighter-n4{color:#ae81ff}.enlighter-t-monokai .enlighter-n5{color:#ae81ff}.enlighter-t-monokai .enlighter-m0{color:#66d9ef}.enlighter-t-monokai .enlighter-m1{color:#66d9ef}.enlighter-t-monokai .enlighter-m2{color:#66d9ef}.enlighter-t-monokai .enlighter-m3{color:#66d9ef}.enlighter-t-monokai .enlighter-g0{color:#f8f8f2;font-weight:700}.enlighter-t-monokai .enlighter-g1{color:#f8f8f2;font-weight:700}.enlighter-t-monokai .enlighter-t0{color:#f8f8f2}.enlighter-t-monokai .enlighter-t1{color:#a6e22e}.enlighter-t-monokai .enlighter-t2{color:#a6e22e}.enlighter-t-monokai .enlighter-t3{color:#e6db74}.enlighter-t-monokai .enlighter-t4{color:#e6db74}.enlighter-t-monokai .enlighter-t5{color:#a6e22e}.enlighter-t-monokai .enlighter-t6{color:#f92672}.enlighter-t-monokai .enlighter-t7{color:#f92672}.enlighter-t-monokai .enlighter-t8{color:#75715e}.enlighter-t-monokai .enlighter-x1{color:#f92672}.enlighter-t-monokai .enlighter-x2{color:#a6e22e}.enlighter-t-monokai .enlighter-x10{color:#a6e22e}.enlighter-t-monokai .enlighter-x11{color:#a6e22e}.enlighter-t-monokai .enlighter-x12{color:#66d9ef;font-style:italic}.enlighter-t-monokai .enlighter-x13{color:#f92672}.enlighter-t-monokai .enlighter-x14{color:#ae81ff}.enlighter-t-monokai .enlighter-x15{color:#a6e22e}.enlighter-t-monokai.enlighter-v-codegroup .enlighter-codegroup-switch{background-color:#414339;padding:10px 10px 0 30px}.enlighter-t-monokai.enlighter-v-codegroup .enlighter-codegroup-switch .enlighter-btn{background-image:none;background-color:#414339;color:#f8f8f2;font-size:1.15em;padding:2px 8px 2px 8px;margin:0 10px 0 10px;border:none;line-height:2.1em;border-radius:0;font-style:italic}.enlighter-t-monokai.enlighter-v-codegroup .enlighter-codegroup-switch .enlighter-btn.enlighter-active{background-color:#272822;color:#f8f8f2;font-weight:700;font-style:normal}</style><style>/*\n",
       " * Copyright (c) 2016 - present\n",
       " * QuantumBlack Visual Analytics Ltd (a McKinsey company).\n",
       " * All rights reserved.\n",
       " *\n",
       " * This software framework contains the confidential and proprietary information\n",
       " * of QuantumBlack, its affiliates, and its licensors. Your use of these\n",
       " * materials is governed by the terms of the Agreement between your organisation\n",
       " * and QuantumBlack, and any unauthorised use is forbidden. Except as otherwise\n",
       " * stated in the Agreement, this software framework is for your internal use\n",
       " * only and may only be shared outside your organisation with the prior written\n",
       " * permission of QuantumBlack.\n",
       " */\n",
       "\n",
       ".enlighter-default {\n",
       "    font-size: 14px;\n",
       "    margin: 0;\n",
       "    max-height: 500px;\n",
       "    overflow-y: auto;\n",
       "}\n",
       ".enlighter-default .enlighter-btn-window,\n",
       ".enlighter-default .enlighter-btn-website {\n",
       "    display: none;\n",
       "}\n",
       ".enlighter-t-enlighter {\n",
       "    border-radius: 0;\n",
       "}\n",
       "div.enlighter>div:FIRST-CHILD::before,\n",
       "div.enlighter>div:LAST-CHILD::before {\n",
       "    border-radius: 0 !important;\n",
       "}\n",
       "</style><script>/*! EnlighterJS Syntax Highlighter 3.4.0 | Mozilla Public License 2.0 | https://enlighterjs.org */\n",
       "var EnlighterJS=function(e){\"use strict\";var c={indent:4,ampersandCleanup:!0,linehover:!0,rawcodeDbclick:!1,textOverflow:\"break\",collapse:!1,retainCssClasses:!1,cssClasses:\"\",toolbarOuter:\"{BTN_TABS}\",toolbarTop:\"{BTN_RAW}{BTN_COPY}{BTN_WINDOW}{BTN_WEBSITE}\",toolbarBottom:\"{BTN_COLLAPSE}\",linenumbers:!0,lineoffset:0,highlight:\"\",layout:\"standard\",language:\"generic\",theme:\"enlighter\",title:\"\"};function r(e,t){if(!(e instanceof t))throw new TypeError(\"Cannot call a class as a function\")}function n(e,t){for(var r=0;r<t.length;r++){var n=t[r];n.enumerable=n.enumerable||!1,n.configurable=!0,\"value\"in n&&(n.writable=!0),Object.defineProperty(e,n.key,n)}}function i(e,t,r){return t&&n(e.prototype,t),r&&n(e,r),e}function a(e,t){if(\"function\"!=typeof t&&null!==t)throw new TypeError(\"Super expression must either be null or a function\");e.prototype=Object.create(t&&t.prototype,{constructor:{value:e,writable:!0,configurable:!0}}),t&&o(e,t)}function s(e){return(s=Object.setPrototypeOf?Object.getPrototypeOf:function(e){return e.__proto__||Object.getPrototypeOf(e)})(e)}function o(e,t){return(o=Object.setPrototypeOf||function(e,t){return e.__proto__=t,e})(e,t)}function l(){if(\"undefined\"==typeof Reflect||!Reflect.construct)return!1;if(Reflect.construct.sham)return!1;if(\"function\"==typeof Proxy)return!0;try{return Date.prototype.toString.call(Reflect.construct(Date,[],function(){})),!0}catch(e){return!1}}function g(e,t,r){return(g=l()?Reflect.construct:function(e,t,r){var n=[null];n.push.apply(n,t);var i=new(Function.bind.apply(e,n));return r&&o(i,r.prototype),i}).apply(null,arguments)}function u(e,t){return!t||\"object\"!=typeof t&&\"function\"!=typeof t?function(e){if(void 0===e)throw new ReferenceError(\"this hasn't been initialised - super() hasn't been called\");return e}(e):t}function p(r){var n=l();return function(){var e,t=s(r);return u(this,n?(e=s(this).constructor,Reflect.construct(t,arguments,e)):t.apply(this,arguments))}}function y(e,t,r){return(y=\"undefined\"!=typeof Reflect&&Reflect.get?Reflect.get:function(e,t,r){var n=function(e,t){for(;!Object.prototype.hasOwnProperty.call(e,t)&&null!==(e=s(e)););return e}(e,t);if(n){var i=Object.getOwnPropertyDescriptor(n,t);return i.get?i.get.call(r):i.value}})(e,t,r||e)}function f(e){return function(e){if(Array.isArray(e))return d(e)}(e)||function(e){if(\"undefined\"!=typeof Symbol&&Symbol.iterator in Object(e))return Array.from(e)}(e)||b(e)||function(){throw new TypeError(\"Invalid attempt to spread non-iterable instance.\\nIn order to be iterable, non-array objects must have a [Symbol.iterator]() method.\")}()}function b(e,t){if(e){if(\"string\"==typeof e)return d(e,t);var r=Object.prototype.toString.call(e).slice(8,-1);return\"Object\"===r&&e.constructor&&(r=e.constructor.name),\"Map\"===r||\"Set\"===r?Array.from(e):\"Arguments\"===r||/^(?:Ui|I)nt(?:8|16|32)(?:Clamped)?Array$/.test(r)?d(e,t):void 0}}function d(e,t){(null==t||t>e.length)&&(t=e.length);for(var r=0,n=new Array(t);r<t;r++)n[r]=e[r];return n}var h={sqStrings:{regex:/('(?:[^'\\\\]|\\\\.)*')/g,type:\"s0\"},dqStrings:{regex:/\"(?:[^\"\\\\]|\\\\.)*\"/g,type:\"s0\"},bqStrings:{regex:/`(?:[^`\\\\]|\\\\.)*`/g,type:\"s0\"},char:{regex:/('(\\\\.|.|\\\\\\w+)')/g,type:\"s1\"},slashComments:{regex:/(?:^|[^\\\\])\\/\\/.*$/gm,type:\"c0\"},poundComments:{regex:/(?:^|[^\\\\])#.*$/gm,type:\"c0\"},blockComments:{regex:/\\/\\*[\\s\\S]*?\\*\\//g,type:\"c1\"},docComments:{regex:/\\/\\*\\*[\\s\\S]*?\\*\\//g,type:\"c2\"},heredoc:{regex:/(<<[<-]?\\s*?(['\"]?)([A-Z0-9_]+)\\2\\s*\\n[\\s\\S]*?\\n\\3)/gi,type:\"s5\"},brackets:{regex:/[[\\](){}<>]+/g,type:\"g1\"},floats:{regex:/[\\b\\W](-?((?:\\d+\\.\\d+|\\.\\d+|\\d+\\.)(?:e[+-]?\\d+)?)|\\d+(?:e[+-]?\\d+))/gi,type:\"n0\"},complex:{regex:/[\\b\\W](?:-?(?:(?:\\d+\\.\\d+|\\.\\d+|\\d+\\.|\\d+)(?:e[+-]?\\d+)?)|\\d+(?:e[+-]?\\d+))[ij]/gi,type:\"n5\"},int:{regex:/[\\b\\W](-?\\d+)(?!\\.)\\b/g,type:\"n1\"},hex:{regex:/[\\b\\W](-?0x[A-F0-9]+)\\b/gi,type:\"n2\"},bin:{regex:/[\\b\\W](-?0b[01]+)\\b/gi,type:\"n3\"},octal:{regex:/[\\b\\W](-?0[0-7]+)(?!\\.)\\b/g,type:\"n4\"},prop:{regex:/[\\w\\])]\\.(\\w+)\\b/g,type:\"m3\"},fCalls:{regex:/\\b([\\w]+)\\s*\\(/gm,type:\"m0\"},mCalls:{regex:/\\.([\\w]+)\\s*\\(/gm,type:\"m1\"},boolean:{regex:/\\b(true|false)\\b/gi,type:\"e0\"},null:{regex:/\\b(null)\\b/gi,type:\"e1\"}};function C(e,t,r,n,i){return{text:e,type:t,index:n||0,end:e.length+n,filter:r||null,priority:i||0}}function m(e,t,r){for(var n=2<arguments.length&&void 0!==r?r:\"text\",i=[],a=0,s=0;s<t.length;s++){var o=t[s];if(!o||!o.type||!o.regex)return;for(var l=void 0;null!=(l=o.regex.exec(e));){if(5e4<++a)throw new Error(\"Infinite tokenizer loop detected; more than 50k tokens - language rule [\"+s+\"] \"+o.regex+\" seems to be broken\");if(0!=l[0].length){o.regex.lastIndex=l.index+1+l[0].length/3;var g=Array.isArray(o.type)?o.type[0]:o.type,u=(Array.isArray(o.filter)?o.filter[0]:o.filter)||null;if(1<l.length)for(var p,c,y,f=0,b=1;b<l.length;b++){l[b]&&(p=Array.isArray(o.type)&&o.type.length>=b?o.type[b-1]:g,c=Array.isArray(o.filter)&&o.filter.length>=b?o.filter[b-1]:u,f=y=l[0].indexOf(l[b],f),i.push(C(l[b],p,c,l.index+y,s)))}else i.push(C(l[0],g,u,l.index,s))}}}i=i.sort(function(e,t){return e.index==t.index?e.priority<t.priority?-1:1:e.index<t.index?-1:1});for(var d=[],h=0,m=0;m<i.length;m++){if(h<i[m].index&&d.push(C(e.substring(h,i[m].index),n,null,h)),i[m].filter)for(var x=i[m].filter(i[m])||[],k=0;k<x.length;k++)d.push(x[k]);else d.push(i[m]);h=i[m].end;for(var v=!1,w=m+1;w<i.length;w++)if(i[w].index>=h){m=w-1,v=!0;break}if(!1===v)break}return h<e.length&&d.push(C(e.substring(h),n,null,h)),d}var x=function(){function e(){r(this,e),this.rules=[],this.setupLanguage()}return i(e,[{key:\"setupLanguage\",value:function(){this.rules=[h.sqStrings,h.dqStrings,h.prop,h.slashComments,h.poundComments,h.blockComments,h.brackets,{regex:/\\W(true|false|null|nil|if|then|else|for|while|do|class|implements|extends|function|end|void|return|in|of|new|this|try|catch|def|except)\\W/gi,type:\"k1\"},h.mCalls,h.fCalls,h.octal,h.bin,h.hex,h.floats,h.int,{regex:/[\\b\\s]([$&|~*:;]+)[\\b\\s]/g,type:\"g0\"}]}},{key:\"analyze\",value:function(e){return m(e,this.rules)}}]),e}(),t=function(){a(t,x);var e=p(t);function t(){return r(this,t),e.apply(this,arguments)}return i(t,[{key:\"setupLanguage\",value:function(){this.rules=[h.sqStrings,{regex:/\\|.*?\\|/g,type:\"s2\"},{regex:/(\".*)$/gm,type:\"c0\"},{regex:/^\\s*(\\*.*)$/gm,type:\"c0\"},{regex:/(data):?\\s*(\\w+)\\s*/gi,type:[\"k2\",\"k7\"]},{regex:/(type)\\s+(\\w+)\\s*/gi,type:[\"k2\",\"k5\"]},{regex:/\\b(abap_true|abap_false)\\b/gi,type:\"e0\"},{regex:/\\b(abap_undefined)\\b/gi,type:\"e1\"},{regex:/\\b[A-Z_][A-Za-z0-9_]*\\b/g,type:\"k0\"},h.fCalls,h.int,h.brackets]}}]),t}();function k(e,t,r){for(var n,i=[],a=0;null!=(n=t.exec(e.text));){a<n.index&&i.push(C(e.text.substring(a,n.index),e.type,null,a));for(var s=r(n,e.type)||[],o=0;o<s.length;o++)i.push(s[o]);a=n.index+n[0].length,t.lastIndex=a}return 0==i.length?[e]:(a<e.text.length&&i.push(C(e.text.substring(a),e.type,null,a)),i)}var v=function(){a(t,x);var e=p(t);function t(){return r(this,t),e.apply(this,arguments)}return i(t,[{key:\"setupLanguage\",value:function(){this.rules=[h.dqStrings,h.poundComments,{regex:/(<)([A-Z:_][A-Z0-9:.-]*)([\\s\\S]*?)(\\/?>)/gi,type:[\"g1\",\"x1\",\"text\",\"g1\"],filter:[null,null,function(e){return k(e,h.dqStrings.regex,function(e){return[C(e[0],\"s0\")]})},null]},{regex:/(<\\/)([A-Z:_][A-Z0-9:.-]*\\s*)(>)/gi,type:[\"g1\",\"x1\",\"g1\"]},{regex:/^\\s*([A-Z]\\w+)\\b/gm,type:\"k0\"},{regex:/%\\{\\w+\\}/g,type:\"k7\"},{regex:/\\b(on|off)\\b/gi,type:\"e0\"},h.int]}}],[{key:\"alias\",value:function(){return[\"apacheconf\",\"httpd\"]}}]),t}(),w=function(){a(t,x);var e=p(t);function t(){return r(this,t),e.apply(this,arguments)}return i(t,[{key:\"setupLanguage\",value:function(){this.rules=[{regex:/(;.*)$/gm,type:\"co0\"},{regex:/(\\$.*)$/gm,type:\"k4\"},h.sqStrings,h.dqStrings,{regex:/(^|:)\\s*?(\\w+)\\s+/gm,type:\"k0\"},{regex:/^\\s*?([A-Z?_][A-Z0-9?_]+:)\\s*?/gim,type:\"k6\"},{regex:/@\\w+/gi,type:\"k9\"},{regex:/#\\w+/gi,type:\"k9\"},{regex:/[A-F0-9][A-F0-9$]+?H/gi,type:\"n2\"},{regex:/\\d[\\d$]+?D/gi,type:\"n1\"},{regex:/[01][01$]+?B/gi,type:\"n3\"},{regex:/[0-7][0-7$]+?(?:Q|O)/gi,type:\"nu4\"},{regex:/(0x[A-F0-9]+|\\$[A-F0-9]+)/gi,type:\"n2\"},{regex:/(0b[01]+)/g,type:\"n3\"},{regex:/\\b(\\d+)/g,type:\"n1\"},h.fCalls]}}],[{key:\"alias\",value:function(){return[\"asm\"]}}]),t}(),S=function(){a(t,x);var e=p(t);function t(){return r(this,t),e.apply(this,arguments)}return i(t,[{key:\"setupLanguage\",value:function(){this.rules=[{regex:/(;.*)$/gm,type:\"co0\"},h.sqStrings,h.dqStrings,{regex:/^\\s*?\\.\\w+\\s+/gm,type:\"kw4\"},{regex:/\\b(r\\d{1,2})/gi,type:\"kw0\"},{regex:/(@[0-9])/gi,type:\"k2\"},{regex:/^\\s*?(\\w+:)\\s*?/gm,type:\"kw6\"},{regex:/(^|:)\\s*?(\\w+)\\s+/gm,type:\"kw0\"},{regex:/(0x[A-F0-9]+|\\$[A-F0-9]+)/gi,type:\"nu2\"},h.bin,h.int,h.fCalls,{regex:/\\b[A-Z]{2,}[0-9]?[0-9]?\\b/g,type:\"kw9\"}]}}],[{key:\"alias\",value:function(){return[\"avrasm\"]}}]),t}(),_=function(){a(t,x);var e=p(t);function t(){return r(this,t),e.apply(this,arguments)}return i(t,[{key:\"setupLanguage\",value:function(){this.rules=[h.dqStrings,h.char,{regex:/@[\\W\\w_][\\w]+/gm,type:\"k11\"},h.boolean,h.null,h.prop,{regex:/#.*$/gm,type:\"k4\"},{regex:/\\b(break|case|catch|continue|do|else|for|if|goto|switch|try|throw|while)\\b/g,type:\"k1\"},{regex:/\\b(__[A-Z][A-Z0-9_]+__|__cplusplus)\\b/g,type:\"e3\"},{regex:/\\b(\\w+\\d+?_t)\\b/g,type:\"k5\"},{regex:/\\b(bool|char|double|float|int|long|short|void)\\b/g,type:\"k5\"},{regex:/\\b(enum|struct|typedef|union)\\b/g,type:\"k2\"},{regex:/\\b(const|volatile|unsigned|signed|restrict)\\b/g,type:\"k8\"},{regex:/\\b(asm|auto|class|auto|default|explicit|export|extern|friend|inline|thread_local|static_assert|nullptr|noexcept|friend|decltype|constexpr|alignof|alignas|virtual|using|typename|typeid|this|template|static|return|register|public|protected|private|operator|namespace|mutable|inline)\\b/g,type:\"k0\"},{regex:/\\b(new|delete|cast|const_cast|dynamic_cast|static_cast|reinterpret_cast|sizeof|and|bitand|and_eq|not|not_eq|or|bitor|or_eq|xor|xor_eq|compl)\\b/g,type:\"k3\"},h.mCalls,h.fCalls,h.slashComments,h.blockComments,h.octal,h.bin,h.hex,h.floats,h.brackets]}}],[{key:\"alias\",value:function(){return[\"c++\",\"c\"]}}]),t}(),E=function(){a(t,x);var e=p(t);function t(){return r(this,t),e.apply(this,arguments)}return i(t,[{key:\"setupLanguage\",value:function(){this.rules=[{regex:/\\$(\"(?:[^\"\\\\]|\\\\.)*\")/g,type:\"s0\",filter:function(e){return k(e,/\\{.*?}/g,function(e){return[C(e[0],\"s3\")]})}},h.dqStrings,h.char,h.null,h.boolean,h.prop,{regex:/\\b(bool|byte|char|decimal|double|float|int|long|sbyte|short|uint|ulong|ushort|void)\\b/g,type:\"k5\"},{regex:/\\b(while|try|throw|switch|if|goto|foreach|for|finally|else|do|continue|catch|case|break)\\b/g,type:\"k1\"},{regex:/^((?:using|namespace)\\s+)(\\w[\\w._]+[;{\\n])/gm,type:[\"k0\",\"k10\"]},{regex:/\\b(enum|struct|var)\\b/g,type:\"k2\"},{regex:/\\b(const|in|out)\\b/g,type:\"k8\"},{regex:/\\b(using|volatile|virtual|using|unsafe|unchecked|static|stackalloc|sealed|return|ref|readonly|public|protected|private|params|override|operator|object|namespace|lock|is|internal|interface|implicit|fixed|extern|explicit|event|delegate|default|class|checked|base|as|abstract)\\b/g,type:\"k0\"},{regex:/\\b(add|alias|ascending|async|await|by|descending|dynamic|equals|from|get|global|group|into|join|let|nameof|on|orderby|partial|remove|select|set|unmanaged|value|var|when|where|yield)\\b/g,type:\"k0\"},{regex:/\\b(this)\\b/g,type:\"k9\"},{regex:/\\b(new|sizeof|typeof)\\b/g,type:\"k3\"},h.fCalls,h.mCalls,h.slashComments,h.blockComments,h.docComments,h.int,h.floats,h.bin,h.hex,h.octal,h.brackets]}}],[{key:\"alias\",value:function(){return[\"c#\"]}}]),t}(),A={pseudoElements:{regex:/[\\w\\])](::?[\\w-]+)\\b/g,type:\"x15\"},idSelector:{regex:/(#[\\w-]+)/g,type:\"x10\"},classSelector:{regex:/(\\.[\\w-]+)/g,type:\"x11\"},elementSelector:{regex:/\\b([\\w-]+)/g,type:\"x16\"}},L=function(){a(t,x);var e=p(t);function t(){return r(this,t),e.apply(this,arguments)}return i(t,[{key:\"setupLanguage\",value:function(){var t=[A.pseudoElements,A.idSelector,A.classSelector,A.elementSelector,h.dqStrings,h.sqStrings];this.rules=[{regex:/(?:^|}|\\*\\/|;|{)\\s*([^{};/]+?)\\s*{/g,type:\"text\",filter:function(e){return m(e.text,t)}},h.dqStrings,h.sqStrings,{regex:/\\W@(charset|import|namespace|page|font-face|keyframes|viewport|document|supports)\\b/gi,type:\"k4\"},{regex:/(url\\s*)(\\(.*?\\))/gi,type:[\"m0\",\"s0\"]},{regex:/(#[a-z0-9]+)\\W/gi,type:\"x14\"},{regex:/(-?\\.?\\d+[.\\d]*(%|[a-z]{2,4})?)/gim,type:\"x13\"},{regex:/([\\w-]+)\\s*:/g,type:\"x12\"},h.blockComments,h.brackets]}}],[{key:\"alias\",value:function(){return[\"styles\"]}}]),t}(),q=function(){a(t,x);var e=p(t);function t(){return r(this,t),e.apply(this,arguments)}return i(t,[{key:\"setupLanguage\",value:function(){this.rules=[{regex:/^(\"\"\"[\\s\\S]*?\"\"\"|'''[\\s\\S]*?''')/gm,type:\"c9\"},{regex:/(\"\"\"[\\s\\S]*?\"\"\"|'''[\\s\\S]*?''')/g,type:\"s5\"},h.dqStrings,h.sqStrings,{regex:/\\b(__[a-z]+__)\\b/g,type:\"e3\"},{regex:/[^;]\\s*(from\\s+)([\\w.]+)(\\s+import)/gi,type:[\"k0\",\"k10\",\"k0\"]},{regex:/\\b(raise|while|try|if|for|finally|else|elif|continue|break)\\b/g,type:\"k1\"},{regex:/\\b(yield|with|return|pass|lambda|is|in|import|global|from|except|def|class|assert|as|async|await)\\b/g,type:\"k0\"},{regex:/\\b(and|or|not|del)\\b/g,type:\"k3\"},{regex:/\\b(True|False)\\b/g,type:\"e0\"},{regex:/\\b(None)\\b/g,type:\"e1\"},h.mCalls,h.fCalls,h.poundComments,h.int,h.hex,h.floats,h.octal,h.brackets]}}],[{key:\"alias\",value:function(){return[\"py\"]}}]),t}(),I=function(){a(t,q);var e=p(t);function t(){return r(this,t),e.apply(this,arguments)}return i(t,[{key:\"setupLanguage\",value:function(){y(s(t.prototype),\"setupLanguage\",this).call(this);this.rules=[{regex:/\\b(bool|char|double|float|int|long|short|void)\\b/g,type:\"k5\"},{regex:/\\b(enum|struct|typedef|union|object)\\b/g,type:\"k2\"},{regex:/\\b(const|volatile|unsigned|signed|restrict)\\b/g,type:\"k8\"},{regex:/\\b(readonly|extern|namespace|public|privat|include|cimport|pyximport|cythonize|cdef|cpdef|ctypedef|property|IF|ELIF|ELSE|DEF)\\b/g,type:\"k0\"}].concat(this.rules)}}]),t}(),W=function(){a(t,x);var e=p(t);function t(){return r(this,t),e.apply(this,arguments)}return i(t,[{key:\"setupLanguage\",value:function(){this.rules=[h.poundComments,h.brackets,{regex:/\\[(\\w+)\\]/gm,type:\"k9\"},{regex:/\\{([\\w_-]+)\\s*(?::\\s*(.*?))?}/gm,type:[\"k7\",\"s0\"]}]}}]),t}(),N=function(){a(t,x);var e=p(t);function t(){return r(this,t),e.apply(this,arguments)}return i(t,[{key:\"setupLanguage\",value:function(){this.rules=[{regex:/^([+-]{3}.*)$/gm,type:\"c0\"},{regex:/^(@@.*@@\\s*)/gm,type:\"t2\"},{regex:/^(\\+.*)/gm,type:\"t5\"},{regex:/^(-.*)/gm,type:\"t6\"}]}}]),t}(),D=function(){a(t,x);var e=p(t);function t(){return r(this,t),e.apply(this,arguments)}return i(t,[{key:\"setupLanguage\",value:function(){this.rules=[h.dqStrings,{regex:/\\$\\{\\w+\\}/gi,type:\"k7\"},{regex:/ARG\\s+(\\w+)(?:(=)(.*?)$)?/gim,type:[\"k7\",\"k3\",\"s0\"]},{regex:/ENV\\s+(\\w+)(?:(\\s+|=)(.*?)$)?/gim,type:[\"k7\",\"k3\",\"s0\"]},{regex:/(?:^|[^\\\\])#\\s*\\w+=.*$/gm,type:\"k4\"},h.poundComments,{regex:/^([a-z]+)\\b/gim,type:\"k0\"},{regex:/\\b(AS)\\b/gi,type:\"k0\"},{regex:/^\\s+(&&)/gim,type:\"k3\"},h.brackets]}}],[{key:\"alias\",value:function(){return[\"docker\"]}}]),t}(),$=function(){a(t,x);var e=p(t);function t(){return r(this,t),e.apply(this,arguments)}return i(t,[{key:\"setupLanguage\",value:function(){this.rules=[h.dqStrings,h.bqStrings,h.char,h.boolean,{regex:/\\b(nil)\\b/gi,type:\"e1\"},h.prop,{regex:/\\b(var)\\b/g,type:\"k2\"},{regex:/\\b(case|break|default|else|goto|switch|if|continue|for)\\b/g,type:\"k1\"},{regex:/\\b(func|interface|select|defer|go|map|chan|package|fallthrough|range|import|return)\\b/g,type:\"k0\"},{regex:/\\b(iota)\\b/g,type:\"k9\"},{regex:/\\b(bool|string|u?int(8|16|32|64)?|uintptr|byte|rune|float32|float64|complex64|complex128)\\b/g,type:\"k5\"},{regex:/\\b(struct|type)\\b/g,type:\"k2\"},{regex:/\\b(const)\\b/g,type:\"k8\"},h.mCalls,h.fCalls,h.slashComments,h.octal,h.int,h.complex,h.floats,h.hex,h.brackets]}}],[{key:\"alias\",value:function(){return[\"golang\"]}}]),t}(),O=function(){a(t,x);var e=p(t);function t(){return r(this,t),e.apply(this,arguments)}return i(t,[{key:\"setupLanguage\",value:function(){this.rules=[{regex:/(\"\"\"[\\s\\S]*?\"\"\"|'''[\\s\\S]*?''')/g,type:\"s5\"},h.dqStrings,h.sqStrings,h.char,h.slashComments,h.blockComments,h.docComments,{regex:/(\\/(?:[^/\\\\]|\\\\.)*\\/)/g,type:\"s5\"},h.prop,{regex:/\\b(byte|char|short|int|long|float|double|String)\\b/g,type:\"k5\"},{regex:/\\b(break|case|catch|continue|default|do|else|finally|for|goto|if|switch|throw|try|while)\\b/g,type:\"k1\"},{regex:/^(package|import)(\\s+[\\w.]+)/gm,type:[\"k0\",\"k10\"]},{regex:/\\b(const|enum|def)\\b/g,type:\"k2\"},{regex:/\\b(as|assert|class|extends|goto|implements|in|interface|return|thows|trait)\\b/g,type:\"k0\"},{regex:/\\b(this|super)\\b/g,type:\"k9\"},{regex:/\\b(instanceof|new)\\b/g,type:\"k3\"},h.fCalls,h.mCalls,h.null,h.boolean,{regex:/^#.*/g,type:\"k9\"},{regex:/[\\b\\W](-?0[0-7][0-7_]+[GLIDF]?)\\b/gi,type:\"n4\"},{regex:/[\\b\\W](-?\\d[\\d_]*[GLIDF]?)(?!\\.)\\b/gi,type:\"n1\"},{regex:/[\\b\\W](-?0x[A-F0-9][A-F0-9_]+[GLIDF]?)\\b/gi,type:\"n2\"},{regex:/[\\b\\W](-?0b[01][01_]+[GLIDF]?)\\b/gi,type:\"n3\"},{regex:/(-?((?:\\d+\\.\\d+|\\.\\d+|\\d+\\.)(?:e[+-]?\\d+)?)|\\d+(?:e[+-]?\\d+)?)/gi,type:\"n0\"},h.brackets]}}]),t}(),T=function(){a(t,x);var e=p(t);function t(){return r(this,t),e.apply(this,arguments)}return i(t,[{key:\"setupLanguage\",value:function(){this.rules=[h.dqStrings,{regex:/(;.*)$/gm,type:\"c0\"},h.poundComments,{regex:/^\\s*?(\\[.*])\\s*?$/gm,type:\"t2\"},{regex:/^(\\s*?[a-z0-9._-]+\\s*?)(=)/gim,type:[\"k2\",\"k3\"]},{regex:/\\b(true|false|on|off|yes|no)\\b/gim,type:\"e0\"},h.octal,h.bin,h.hex,h.floats,h.brackets]}}],[{key:\"alias\",value:function(){return[\"conf\",\"cnf\"]}}]),t}(),R=function(){a(t,x);var e=p(t);function t(){return r(this,t),e.apply(this,arguments)}return i(t,[{key:\"setupLanguage\",value:function(){this.rules=[h.dqStrings,h.char,{regex:/@[\\W\\w_][\\w]+/gm,type:\"k11\"},h.prop,{regex:/\\b(boolean|byte|char|short|int|long|float|double|String|void|Integer|Double|BigInt|Float|Boolean|Byte|Char|Long)\\b/g,type:\"k5\"},{regex:/\\b(while|try|catch|case|else|throw|break|if|do|goto|switch|for|continue)\\b/g,type:\"k1\"},{regex:/^(package|import)(\\s+[\\w.]+)/gm,type:[\"k0\",\"k10\"]},{regex:/\\b(enum)\\b/g,type:\"k2\"},{regex:/\\b(const)\\b/g,type:\"k8\"},{regex:/\\b(native|volatile|strictfp|finally|class|static|interface|final|extends|transient|return|throws|public|protected|implements|private|synchronized|default|assert|abstract)\\b/g,type:\"k0\"},{regex:/\\b(this|super)\\b/g,type:\"k9\"},{regex:/\\b(instanceof|new)\\b/g,type:\"k3\"},h.fCalls,h.mCalls,h.null,h.boolean,h.slashComments,h.blockComments,h.docComments,h.int,h.floats,h.bin,h.hex,h.octal,h.brackets]}}]),t}(),F=function(){a(t,x);var e=p(t);function t(){return r(this,t),e.apply(this,arguments)}return i(t,[{key:\"setupLanguage\",value:function(){function e(e){return k(e,/\\\\(x[A-F0-9]{2}|u[A-F0-9]{4}|.)/gi,function(e){return[C(e[0],\"s4\")]})}this.rules=[{regex:h.sqStrings.regex,type:\"s0\",filter:e},{regex:h.dqStrings.regex,type:\"s0\",filter:e},{regex:/`(?:[^`\\\\]|\\\\.)*`/g,type:\"s2\",filter:function(e){return k(e,/\\$\\{.*?}/g,function(e){return[C(e[0],\"s3\")]})}},h.boolean,h.null,h.prop,{regex:/\\b(var|let|enum|const)\\b/g,type:\"k2\"},{regex:/\\b(document|window|console)\\b/g,type:\"k9\"},{regex:/\\b(break|case|catch|continue|do|else|finally|for|if|switch|try|while|throw)\\b/g,type:\"k1\"},{regex:/\\b(as|async|class|constructor|debugger|default|export|extends|function|import|return|with|yield|implements|package|protected|static|interface|private|public|await|module)\\b/g,type:\"k0\"},{regex:/\\b(this|super)\\b/g,type:\"k9\"},{regex:/\\b(instanceof|new|delete|typeof|void|in)\\b/g,type:\"k3\"},{regex:/\\W(=>)\\W/g,type:\"k3\"},h.slashComments,h.blockComments,{regex:/\\W(\\/(?:[^/\\\\]|\\\\.)*\\/\\w*)/g,type:\"e2\"},h.mCalls,h.fCalls,{regex:/\\{|}|\\(|\\)|\\[|]/g,type:\"g1\"},{regex:/[\\b\\W](-?0o[0-7]+)(?!\\.)\\b/g,type:\"n4\"},h.bin,h.hex,h.floats,h.int]}}],[{key:\"alias\",value:function(){return[\"js\"]}}]),t}(),j=function(){a(t,x);var e=p(t);function t(){return r(this,t),e.apply(this,arguments)}return i(t,[{key:\"setupLanguage\",value:function(){this.rules=[{regex:/\"(?:[^\"\\\\]|\\\\.)*\"\\s*:/g,type:\"k2\"},h.dqStrings,h.boolean,h.null,{regex:/\\{|}|\\(|\\)|\\[|]/g,type:\"g1\"},h.int,h.floats,{regex:/,|:/g,type:\"g0\"}]}}]),t}(),z=function(){a(t,x);var e=p(t);function t(){return r(this,t),e.apply(this,arguments)}return i(t,[{key:\"setupLanguage\",value:function(){function e(e){return k(e,/\\$(?:\\{.*?}|\\w+)/g,function(e){return[C(e[0],\"s3\")]})}this.rules=[{regex:/\"\"\"[\\s\\S]*?\"\"\"/g,type:\"s5\",filter:e},{regex:h.dqStrings.regex,type:\"s0\",filter:e},h.char,h.prop,{regex:/\\b(Double|Float|Long|Int|Short|Byte|Any|String|Array)\\b/g,type:\"k5\"},{regex:/\\b(break|continue|do|else|for|if|throw|try|when|while|catch|finally)\\b/g,type:\"k1\"},{regex:/^(package|import)(\\s+[\\w.]+)/gm,type:[\"k0\",\"k10\"]},{regex:/\\b(enum|typealias|object|companion|val|var)\\b/g,type:\"k2\"},{regex:/\\b(actual|abstract|annotation|companion|crossinline|data|expect|external|final|infix|inline|inner|internal|lateinit|noinline|open|operator|out|override|private|protected|public|reified|sealed|suspend|tailrec|vararg)\\b/g,type:\"k8\"},{regex:/\\b(as|class|fun|in|interface|is|return|by|constructor|delegate|dynamic|field|file|get|init|param|property|receiver|set|setparam|where|field|it)\\b/g,type:\"k0\"},{regex:/\\b(this|super)\\b/g,type:\"k9\"},{regex:/\\b(instanceof|new)\\b/g,type:\"k3\"},{regex:/(@\\w+|\\w+@)/gm,type:\"k6\"},h.fCalls,h.mCalls,h.null,h.boolean,h.slashComments,h.blockComments,{regex:/[\\b\\W](-?\\d[\\d_]*L?)(?!\\.)\\b/g,type:\"n1\"},h.floats,{regex:/[\\b\\W](-?0x[A-F0-9][A-F0-9_]+)\\b/gi,type:\"n2\"},{regex:/[\\b\\W](-?0b[01][01_]+)\\b/gi,type:\"n3\"},h.brackets]}}]),t}(),B=function(){a(t,x);var e=p(t);function t(){return r(this,t),e.apply(this,arguments)}return i(t,[{key:\"setupLanguage\",value:function(){this.rules=[{regex:/(?:^|[^\\\\])%.*$/gm,type:\"c0\"},{regex:/[^\\\\](\\\\\\w+)(?:[\\W\\s])/gm,type:\"k0\"},{regex:/[$()]/g,type:[\"s3\"]},h.int,h.floats,h.brackets]}}],[{key:\"alias\",value:function(){return[\"tex\"]}}]),t}(),Z=function(){a(t,L);var e=p(t);function t(){return r(this,t),e.apply(this,arguments)}return i(t,[{key:\"setupLanguage\",value:function(){y(s(t.prototype),\"setupLanguage\",this).call(this),this.rules.shift();var e=[h.slashComments,A.pseudoElements,A.idSelector,A.classSelector,{regex:/\\b([\\w][\\w-]+)\\s*\\(/gm,type:\"m0\"},{regex:/@[\\w-]+\\b/g,type:\"k7\"},{regex:/&/gi,type:\"k3\"}];this.rules=this.rules.concat(e)}}]),t}(),M=function(){a(t,x);var e=p(t);function t(){return r(this,t),e.apply(this,arguments)}return i(t,[{key:\"setupLanguage\",value:function(){this.rules=[h.dqStrings,h.poundComments,{regex:/[\\w\\])]\\.([\\w-]+)\\b/g,type:\"m3\"},{regex:/\\b(else)\\b/g,type:\"k1\"},{regex:/\\s\\$[A-Z_]+/g,type:\"k7\"},{regex:/(==|!=|=~|!~)/g,type:\"k3\"},{regex:/\\b(\\w[\\w-]+)\\.\\w/g,type:\"k9\"},h.int,h.brackets]}}],[{key:\"alias\",value:function(){return[]}}]),t}(),P=function(){a(t,x);var e=p(t);function t(){return r(this,t),e.apply(this,arguments)}return i(t,[{key:\"setupLanguage\",value:function(){this.rules=[{regex:/---\\[\\[[\\s\\S]*?(]])/g,type:\"c1\"},{regex:/--\\[\\[[\\s\\S]*?]]/g,type:\"c1\"},{regex:/(--.*)$/gm,type:\"c0\"},h.dqStrings,h.sqStrings,{regex:/(\\[(=*)\\[[\\S\\s]*?]\\2])/g,type:\"s5\"},{regex:/\\b(true|false)\\b/gi,type:\"e0\"},{regex:/\\b(nil)\\b/gi,type:\"e1\"},{regex:/\\b(local)\\b/g,type:\"k2\"},{regex:/\\b(break|do|else|elseif|end|for|if|repeat|then|until|while)\\b/g,type:\"k1\"},{regex:/\\b(function|return|and|in|or|not)\\b/g,type:\"k0\"},h.brackets,h.floats,h.mCalls,h.fCalls]}}]),t}(),U=function(){a(t,x);var e=p(t);function t(){return r(this,t),e.apply(this,arguments)}return i(t,[{key:\"setupLanguage\",value:function(){this.rules=[{regex:/[\\r|\\n](```[a-z_-]*[\\r|\\n][\\S\\s]+?```)/gi,type:\"t8\"},{regex:/^\\s*#{1,6}.+$/gm,type:\"t1\"},{regex:/(.+[\\r|\\n][=-]{3,})[\\r|\\n]/g,type:\"t1\"},{regex:/`.+?`/g,type:\"t8\"},{regex:/^(?:\\*|_|-){3,}$/gm,type:\"t2\"},{regex:/\\W(\\*\\*|\\*|~~|~|__|_)(.*?\\1)\\W/gm,type:\"t4\"},{regex:/!?\\[.*?]\\(.*?\\)/g,type:\"t3\"}]}}],[{key:\"alias\",value:function(){return[\"md\",\"gfm\"]}}]),t}(),G=function(){a(t,x);var e=p(t);function t(){return r(this,t),e.apply(this,arguments)}return i(t,[{key:\"setupLanguage\",value:function(){this.rules=[{regex:/%.*$/gm,type:\"c0\"},{regex:/%%.*$/gm,type:\"c1\"},h.sqStrings,h.dqStrings,h.boolean,h.mCalls,h.prop,{regex:/\\b(break|case|catch|continue|do|else|elseif|end|end_try_catch|endfor|endif|endmethods|endparfor|endproperties|endswitch|endwhile|for|if|switch|try|until|while)\\b/gi,type:\"k1\"},{regex:/\\b(__FILE__|__LINE__|classdef|end_unwind_protect|endclassdef|endenumeration|endevents|endfunctionenumeration|events|function|global|methods|otherwise|parfor|persistent|properties|return|static|unwind_protect|unwind_protect_cleanup)\\b/gi,type:\"k0\"},{regex:/(@[\\w]+)\\s*/gm,type:\"k7\"},h.fCalls,h.floats,h.brackets]}}]),t}(),H=function(){a(t,x);var e=p(t);function t(){return r(this,t),e.apply(this,arguments)}return i(t,[{key:\"setupLanguage\",value:function(){this.rules=[h.dqStrings,h.sqStrings,h.poundComments,{regex:/([a-z]+)\\s*\\{/g,type:\"k9\"},{regex:/^\\s*([a-z]\\w+)\\s/gm,type:\"k0\"},{regex:/\\W([a-z]+:\\/\\/.*?);/g,type:\"k9\"},{regex:/\\b(\\d+\\.\\d+\\.\\d+\\.\\d+(?::\\d+))\\b/g,type:\"k9\"},{regex:/(?:\\W)\\$[a-z_]+/g,type:\"k7\"},{regex:/[\\b\\W](\\d+[kmgdyw])\\b/g,type:\"n0\"},h.int,h.brackets]}}],[{key:\"alias\",value:function(){return[]}}]),t}(),V=function(){a(t,x);var e=p(t);function t(){return r(this,t),e.apply(this,arguments)}return i(t,[{key:\"setupLanguage\",value:function(){this.rules=[h.dqStrings,h.sqStrings,h.bqStrings,{regex:/^\\s*(Var(\\s+\\\\GLOBAL)?)(\\s+\\w+)\\b/g,type:[\"k2\",\"k7\"]},{regex:/\\W(\\$\\{\\w+})\\W/g,type:\"k9\"},{regex:/\\W(\\$\\w+)\\b/g,type:\"k7\"},{regex:/^\\s*([A-Z]\\w+)\\s+/gm,type:\"k0\"},{regex:/\\b[A-Z][A-Z_]*[A-Z]\\b/g,type:\"e3\"},{regex:/^\\s*(!\\w+)\\s+/gm,type:\"k4\"},{regex:/^\\s*(\\w+:)\\s*$/gim,type:\"k6\"},{regex:/\\b(admin|all|auto|both|colored|false|force|hide|highest|lastused|leave|listonly|none|normal|notset|off|on|open|print|show|silent|silentlog|smooth|textonly|true|user)\\b/gi,type:\"k9\"},h.blockComments,{regex:/[#;].*?$/gm,type:\"c0\"},h.int,h.hex,h.octal,h.brackets]}}]),t}(),J=function(){a(t,x);var e=p(t);function t(){return r(this,t),e.apply(this,arguments)}return i(t,[{key:\"setupLanguage\",value:function(){this.rules=[h.sqStrings,h.dqStrings,h.heredoc,h.boolean,h.null,{regex:/(self|parent|\\$this)/gi,type:\"k9\"},{regex:/\\b(as|break|case|catch|do|else|elseif|enddeclare|endfor|endforeach|endif|endswitch|endwhile|finally|for|foreach|goto|if|switch|throw|try|while)\\b/g,type:\"k1\"},{regex:/\\b__[A-Z][A-Z0-9_]+__\\b/g,type:\"e3\"},{regex:/\\b(__halt_compiler|abstract|array|callable|class|const|continue|declare|default|die|echo|empty|eval|exit|extends|final|function|global|implements|include|include_once|instanceof|insteadof|interface|isset|list|namespace|print|private|protected|public|require|require_once|return|static|trait|use|var|yield)\\b/g,type:\"k0\"},{regex:/\\b(and|or|xor|clone|new|unset)\\b/g,type:\"k3\"},{regex:/\\b(int|float|bool|string|resource|object|mixed|numeric)\\b/g,type:\"k5\"},h.slashComments,h.poundComments,h.blockComments,{regex:/\\$[^\\s=;()]+/gim,type:\"k7\"},{regex:/\\b([^\\s(]+)\\s*\\(/gm,type:\"m0\"},{regex:/->([\\w]+)/gim,type:\"m1\"},{regex:/::([\\w]+)/gim,type:\"m2\"},h.octal,h.bin,h.hex,h.floats,h.brackets]}}]),t}(),X=function(){a(t,x);var e=p(t);function t(){return r(this,t),e.apply(this,arguments)}return i(t,[{key:\"setupLanguage\",value:function(){function e(e){return k(e,/\\$(?:\\w+|\\(.*?\\))/g,function(e){return[C(e[0],\"k7\")]})}this.rules=[{regex:/\"(?:[^\"`]|`.)*\"/g,type:\"s2\",filter:e},h.sqStrings,{regex:/@\"[\\S\\s]*?\\n\\s*\"@/g,type:\"s5\",filter:e},{regex:/@'[\\S\\s]*?\\n\\s*'@/g,type:\"s5\"},{regex:/\\b(Begin|Break|Catch|Continue|Else|Elseif|End|Finally|For|ForEach|If|Switch|Throw|Try|Until|While)\\b/gi,type:\"k1\"},{regex:/\\b(Data|Do|DynamicParam|Exit|Filter|From|Function|In|InlineScript|Hidden|Parallel|Param|Process|Return|Sequence|Trap|Workflow)\\b/gi,type:\"k0\"},{regex:/\\b([A-Z]\\w+(?:-\\w+)+)\\b/gi,type:\"m0\"},{regex:/<#[\\S\\s]+?#>/gi,type:\"c1\"},h.poundComments,{regex:/\\$[A-Z_][\\w]*/gim,type:\"k7\"},h.mCalls,h.fCalls,h.int,h.floats,h.brackets]}}]),t}(),Y=function(){a(t,x);var e=p(t);function t(){return r(this,t),e.apply(this,arguments)}return i(t,[{key:\"setupLanguage\",value:function(){this.rules=[{regex:/(%.*)$/gm,type:\"c0\"},h.blockComments,h.dqStrings,h.sqStrings,{regex:/^(\\w+)(?:\\(.*?\\))?\\s*(?::-|\\.)/gm,type:\"k9\"},{regex:/\\b(true|false|Yes|No|not|fail)\\b/gi,type:\"e0\"},{regex:/\\b(catch|throw|repeat)\\b/g,type:\"k1\"},{regex:/^(\\?-)/g,type:\"k9\"},{regex:/\\b(is)\\b/g,type:\"k3\"},{regex:/[A-Z_][\\w]*/g,type:\"k7\"},h.brackets,h.floats,h.int,h.fCalls]}}]),t}(),Q=function(){a(t,x);var e=p(t);function t(){return r(this,t),e.apply(this,arguments)}return i(t,[{key:\"setupLanguage\",value:function(){this.rules=[h.int,h.floats,{regex:/[\\b\\W](-?\\$[A-F0-9]+)\\b/gi,type:\"n2\"},{regex:/[\\b\\W](-?%[01]+)\\b/gi,type:\"n3\"},{regex:/[\\b\\W](\\*\\w+)\\b/gi,type:\"text\"},h.dqStrings,{regex:/[[\\]()]+/g,type:\"g0\"},{regex:/#\\w+/gim,type:\"g0\"},{regex:/[@?]\\w+/gim,type:\"g1\"},{regex:/(IncludeFile|XIncludeFile|IncludeBinary|IncludePath) (.*?)$/gim,type:\"k0\"},{regex:/\\b(Break|Case|Continue|Default|Else|ElseIf|End|EndIf|EndSelect|For|ForEver|ForEach|Gosub|Goto|If|Next|Repeat|Return|FakeReturn|Select|Until|Wend|While|To|Step)\\b/gi,type:\"k1\"},{regex:/\\b(Array|List|Map|Procedure(?:C|Dll|CDll)?|ProcedureReturn|EndProcedure|Declare(?:C|Dll|CDll)?|ImportC?|EndImport|As|Macro|MacroExpandedCount|EndMacro|UndefineMacro|DeclareModule|EndDeclareModule|Module|EndModule|UseModule|UnuseModule|With|EndWith|PrototypeC?|Runtime|Swap|Data|DataSection|EndDataSection|Read|Restore)\\b/gi,type:\"k2\"},{regex:/\\b(ReDim|Dim|NewList|NewMap|Enumeration|EndEnumeration|Interface|Extends|EndInterface|Structure(?:Union)?|EndStructure(?:Union)?)\\b/gi,type:\"k4\"},{regex:/\\b(?:ReDim|Dim|NewList|NewMap)\\s*([\\w]+)\\(/gim,type:\"text\"},{regex:/\\b(Define|Global|Protected|Shared|Static|Threaded)\\b/gi,type:\"k3\"},{regex:/[\\w\\])]\\.(s{\\d+}|(?:p-ascii|p-utf8|p-bstr|p-unicode|p-variant)|\\w+)(?:\\([\\d,]*\\))?/gi,type:\"k4\"},{regex:/\\b(CompilerIf|CompilerElse|CompilerElseIf|CompilerEndIf|CompilerSelect|CompilerCase|CompilerDefault|CompilerEndSelect|CompilerError|CompilerWarning|EnableExplicit|DisableExplicit|EnableASM|DisableASM|EnableDebugger|DisableDebugger|Debug|DebugLevel|CallDebugger)\\b/gi,type:\"k5\"},{regex:/\\W(And|Not|Or|Xor)\\W/gi,type:\"k6\"},{regex:/(<=|=<|>=|=>|<>|<<|>>|=|-|\\+|\\/|%|<|>|&|\\||!|~)/gi,type:\"k6\"},{regex:/(\\*)(?:\\d|\\s*(?:\\b|-|\\(|%|\\$|\\*))/gi,type:\"k6\"},{regex:/(\\w+)::/gi,type:\"k7\"},{regex:/(\\w+):/gi,type:\"k8\"},h.fCalls,{regex:/;.*$/gm,type:\"c0\"},{regex:/\\\\(\\w+)\\b/g,type:\"m3\"}]}}],[{key:\"alias\",value:function(){return[\"pb\"]}}]),t}(),K=function(){a(t,x);var e=p(t);function t(){return r(this,t),e.apply(this,arguments)}return i(t,[{key:\"setupLanguage\",value:function(){this.rules=[h.dqStrings,h.prop,{regex:/\\b([A-Z]\\w+)\\b/g,type:\"k5\"},{regex:/^(import)(\\s+[\\w.]+)/gm,type:[\"k0\",\"k5\"]},{regex:/\\b(bool|char|double|float|int|long|short|void|string)\\b/g,type:\"k5\"},h.mCalls,h.null,h.boolean,h.slashComments,h.blockComments,h.int,h.floats,h.brackets]}}]),t}(),ee=function(){a(t,x);var e=p(t);function t(){return r(this,t),e.apply(this,arguments)}return i(t,null,[{key:\"alias\",value:function(){return[]}}]),t}(),te=function(){a(t,x);var e=p(t);function t(){return r(this,t),e.apply(this,arguments)}return i(t,[{key:\"setupLanguage\",value:function(){this.rules=[{regex:/^(.*?)$/g,type:\"text\"}]}}]),t}(),re=function(){a(t,x);var e=p(t);function t(){return r(this,t),e.apply(this,arguments)}return i(t,[{key:\"setupLanguage\",value:function(){this.rules=[h.dqStrings,{regex:/(\"[\\s\\S]*?\")/g,type:\"s5\"},{regex:/\\b(yes|no)\\b/gi,type:\"e0\"},{regex:/\\b([\\w-]+)(=)/gi,type:[\"k6\",\"k3\"]},{regex:/[^\\b](:local|:global)\\s/gm,type:\"k2\"},{regex:/^\\/\\w+(?:\\s+[a-z-]+)*\\s*$/gm,type:\"k10\"},{regex:/\\b(add|set|print|enable|disable|export|find|get|move|remove)\\b/gi,type:\"k9\"},{regex:/[^\\b](:[a-z-]+)\\s/gm,type:\"k0\"},{regex:/\\$[\\w]*/gi,type:\"k7\"},{regex:/(?:[a-f0-9]{2}:){5}(?:[a-f0-9]{2})/gi,type:\"s0\"},{regex:/(?:\\d{1,3}\\.){3}(?:\\d{1,3})(?:\\/\\d{1,2})?/gi,type:\"s0\"},h.poundComments,{regex:/[\\b\\W](-?\\d+)([a-z]{1,4})?[\\b\\W]/gi,type:\"n0\"},h.int,h.hex,h.brackets]}}],[{key:\"alias\",value:function(){return[\"mikrotik\",\"mt\",\"switchos\",\"ros\"]}}]),t}(),ne=function(){a(t,x);var e=p(t);function t(){return r(this,t),e.apply(this,arguments)}return i(t,[{key:\"setupLanguage\",value:function(){function e(e){return e.text.match(/^%r/)?e.type=\"e2\":e.text.match(/^%x/)&&(e.type=\"e4\"),[e]}this.rules=[h.dqStrings,h.sqStrings,h.heredoc,{regex:/(`(?:[^`\\\\]|\\\\.)*`)/g,type:\"e4\"},h.boolean,{regex:/\\b(nil)\\b/gi,type:\"e1\"},h.fCalls,h.prop,{regex:/@{1,2}[A-Za-z_]\\w*\\W/g,type:\"k7\"},{regex:/[^:](:[\\w]+)\\b/g,type:\"k6\"},{regex:/(\\$[a-z0-9_-]+|\\$.)\\W/gi,type:\"k9\"},{regex:/\\b(begin|break|case|do|else|elsif|end|ensure|for|if|in|next|redo|rescue|retry|then|unless|until|when|while)\\b/gi,type:\"k1\"},{regex:/\\b((?:__)?[A-Z][A-Z0-9_]+)\\b/g,type:\"e3\"},{regex:/\\b(alias|class|defined\\?|undef|def|module|return|self|super|yield)\\W/gi,type:\"k0\"},{regex:/\\b(and|not|or)\\b/gi,type:\"k3\"},h.poundComments,{regex:/^=begin[\\S\\s]*?^=end/gim,type:\"c2\"},{regex:/(%[iqrswx](\\W)(?:[^\\2\\n\\\\]|\\\\.)*\\2[iomx]*)/gim,type:\"s2\",filter:e},{regex:/(%[iqrswx]?(\\{(?:[^}\\\\]|\\\\.)*}|\\[(?:[^}\\\\]|\\\\.)*]|\\((?:[^)\\\\]|\\\\.)*\\))[iomx]*)/gim,type:\"s2\",filter:e},{regex:/\\W(\\/(?:[^/\\\\]|\\\\.)*\\/\\w*)\\W/g,type:\"e2\"},{regex:/\\W\\?(?:\\w|\\\\M|\\\\C)(?:-\\w|-\\\\M|-\\\\C)*\\b/g,type:\"n1\"},{regex:/[\\b\\W](-?\\d[\\d_]+?)(?!\\.)\\b/g,type:\"n1\"},{regex:/[\\b\\W](-?0x[A-F0-9][A-F0-9_]+)\\b/gi,type:\"n2\"},{regex:/[\\b\\W](-?0b[01][01_]+)\\b/gi,type:\"n3\"},{regex:/[\\b\\W](-?[\\d_]+(?:\\.[\\d_]+)?(?:e[+-]?\\d+)?[ji]?)\\b/gi,type:\"n0\"},h.brackets]}}]),t}(),ie=function(){a(t,x);var e=p(t);function t(){return r(this,t),e.apply(this,arguments)}return i(t,[{key:\"setupLanguage\",value:function(){this.rules=[h.char,{regex:/r((#+)\".*?\"\\2)/gm,type:\"s0\"},{regex:/(\"(?:\\\\.|\\\\\\s*\\n|\\\\s*\\r\\n|[^\\\\\"])*\")/g,type:\"s0\"},{regex:/^\\s*#.*$/gm,type:\"k4\"},{regex:/fn\\s+([\\w]+)\\s*(<\\w+\\s*>)?\\(/gm,type:\"k0\"},{regex:/\\b\\.?([\\w]+)\\s*(\\(|::)/gm,type:\"k1\"},{regex:/\\b([\\w]+)!/gm,type:\"k9\"},{regex:/\\bself\\b/gi,type:\"k9\"},h.boolean,{regex:/\\b(while|loop|in|for|if|else|do|continue|break)\\b/g,type:\"k1\"},{regex:/\\b(type|struct|let|enum)\\b/g,type:\"k2\"},{regex:/\\b(const)\\b/g,type:\"k8\"},{regex:/\\b(yield|where|virtual|use|unsized|unsafe|trait|super|static|return|ref|pure|pub|proc|priv|override|offsetof|mut|move|mod|match|macro|impl|fn|final|extern|crate|box|become|as|alignof|abstract)\\b/g,type:\"k0\"},{regex:/\\b(sizeof|typeof)\\b/g,type:\"k3\"},{regex:/\\b([0-9_]+\\.?[0-9_]+?(e\\+[0-9_]+)?)(?:f32|f64)?\\b/gim,type:\"n0\"},{regex:/\\b([0-9_]+|0o[0-9_]+|0x[A-F0-9_]+|0b[0-1_]+)(?:u8|i8|u16|i16|u32|i32|u64|i64|isize|usize)?\\b/gim,type:\"n1\"},h.slashComments,h.blockComments,{regex:/(?:^|[^\\\\])\\/\\/[/!].*$/gm,type:\"c2\"},{regex:/\\/\\*[*!][\\s\\S]*?\\*\\//gm,type:\"c2\"},h.brackets,{regex:/\\W(&)\\w/g,type:\"k3\"}]}}]),t}(),ae=function(){a(t,x);var e=p(t);function t(){return r(this,t),e.apply(this,arguments)}return i(t,[{key:\"setupLanguage\",value:function(){this.rules=[h.dqStrings,h.char,{regex:/s\"(?:[^\"\\\\]|\\\\.)*\"/g,type:\"s2\"},{regex:/`(?:[^`\\\\]|\\\\.)*`/g,type:\"k7\"},{regex:/@[\\W\\w_][\\w]+/g,type:\"k11\"},{regex:/\\b([A-Z]\\w*)\\b/g,type:\"k5\"},{regex:/\\b(while|try|catch|else|throw|break|if|do|goto|switch|for|match)\\b/g,type:\"k1\"},{regex:/(package|import)(\\s+[\\w.]+)/gm,type:[\"k0\",\"k10\"]},{regex:/[\\b\\w\\s)](_|:|@|#|<-|←|<:|<%|=|=>|⇒|>:)[\\b\\w\\s]/g,type:\"k3\"},{regex:/\\b(abstract|class|case|extends|final|finally|forSome|implicit|lazy|object|override|private|protected|return|sealed|trait|with|yield)\\b/g,type:\"k0\"},{regex:/\\b(def)\\s+(\\w+)\\b/gm,type:[\"k2\",\"m0\"]},{regex:/\\b(type)\\s+(\\w+)\\b/gm,type:[\"k2\",\"k5\"]},{regex:/\\b(val)\\s+(\\w+)\\b/gm,type:[\"k2\",\"k7\"]},{regex:/\\b(var)\\s+(\\w+)\\b/gm,type:[\"k2\",\"k7\"]},{regex:/\\b(this|super)\\b/g,type:\"k9\"},{regex:/\\b(new)\\b/g,type:\"k3\"},h.mCalls,h.fCalls,h.null,h.boolean,h.slashComments,h.blockComments,h.docComments,h.int,h.floats,h.bin,h.brackets]}}]),t}(),se=function(){a(t,L);var e=p(t);function t(){return r(this,t),e.apply(this,arguments)}return i(t,[{key:\"setupLanguage\",value:function(){y(s(t.prototype),\"setupLanguage\",this).call(this),this.rules.shift();var e=[h.slashComments,A.pseudoElements,A.idSelector,A.classSelector,{regex:/\\b([\\w-]+)\\s*\\(/gm,type:\"m0\"},{regex:/\\$[\\w-]+\\b/g,type:\"k7\"},{regex:/@[\\w-]+\\b/g,type:\"k9\"},{regex:/&/gi,type:\"k3\"}];this.rules=this.rules.concat(e)}}],[{key:\"alias\",value:function(){return[\"sass\"]}}]),t}(),oe=function(){a(t,x);var e=p(t);function t(){return r(this,t),e.apply(this,arguments)}return i(t,[{key:\"setupLanguage\",value:function(){this.rules=[{regex:/(^#!.*?)\\n/gi,type:\"k4\"},h.poundComments,{regex:/[^\\\\](\"(?:[^\"\\\\]|\\\\.)*\")/g,type:\"s0\"},{regex:/`.*?`/gm,type:\"s2\"},{regex:/(\\$)\\(/gm,type:\"s2\"},{regex:/(\\$\\d)\\b/gim,type:\"k9\"},{regex:/(\\$\\w+)\\b/gim,type:\"k7\"},{regex:/^(\\s*\\w+)=/gm,type:\"k7\"},{regex:/^\\s*\\w+\\)\\s*$/gm,type:\"k6\"},{regex:/\\b(if|fi|then|elif|else|for|do|done|until|while|break|continue|case|esac|in|eq|ne|gt|lt|ge|le)\\b/gi,type:\"k1\"},{regex:/\\b(return|function)\\b/gi,type:\"k0\"},{regex:/^\\s*\\w+\\(\\)\\s*\\{/gm,type:\"k0\"},h.int]}}],[{key:\"alias\",value:function(){return[\"bash\",\"sh\",\"zsh\"]}}]),t}(),le=function(){a(t,x);var e=p(t);function t(){return r(this,t),e.apply(this,arguments)}return i(t,[{key:\"setupLanguage\",value:function(){this.rules=[h.poundComments,h.blockComments,{regex:/--.*$/gm,type:\"c0\"},h.null,h.sqStrings,{regex:/`\\w+?`(?:\\.`\\w+?`)*/g,type:\"k9\"},{regex:/\\b(all|and|any|between|exists|in|like|not|or|is null|is not null|unique|=|!=|<>|>|<|>=|<=|!<|!>)\\b/gi,type:\"k3\"},{regex:/\\b(bigint)\\b/g,type:\"k5\"},{regex:/\\b(unsigned)\\b/g,type:\"k8\"},{regex:/\\b(SELECT|INSERT|UPDATE|DELETE|INTO|FROM|CREATE|TABLE|VIEW|WHERE|TRIGGER|ALTER|ORDER BY|DESC|ASC|AS|BETWEEN|JOIN|LEFT|RIGHT|INNER|OUTER|USING|ON|UNION)\\b/gi,type:\"k0\"},{regex:/\\b[A-Z]+\\b/g,type:\"k0\"},h.int,h.floats]}}]),t}(),ge=function(){a(t,x);var e=p(t);function t(){return r(this,t),e.apply(this,arguments)}return i(t,[{key:\"setupLanguage\",value:function(){this.rules=[h.dqStrings,{regex:h.sqStrings.regex,type:\"n0\"},h.prop,h.slashComments,h.poundComments,h.blockComments,h.brackets,{regex:/\\b(const|enum|local)\\b/g,type:\"k2\"},{regex:/\\b(break|case|catch|continue|else|for|foreach|if|switch|while|try|do)\\b/g,type:\"k1\"},{regex:/\\b(base|class|clone|constructor|default|extends|false|function|null|resume|return|static|this|throw|true|yield)\\b/g,type:\"k0\"},{regex:/\\b(delete|in|instanceof|typeof)\\b/g,type:\"k3\"},h.mCalls,h.fCalls,h.octal,h.hex,h.floats,h.int]}}]),t}(),ue=function(){a(t,x);var e=p(t);function t(){return r(this,t),e.apply(this,arguments)}return i(t,[{key:\"setupLanguage\",value:function(){this.rules=[h.dqStrings,h.boolean,{regex:/#.*$/gm,type:\"k4\"},h.prop,{regex:/(import )(.*?)$/gm,type:[\"k0\",\"k10\"]},{regex:/\\b(nil)\\b/gi,type:\"e1\"},{regex:/\\b(break|case|continue|default|do|else|for|if|switch|while|catch|throw|try)\\b/g,type:\"k1\"},{regex:/\\b(var|let|enum|struct)\\b/g,type:\"k2\"},{regex:/\\b(Int|UInt|Float|Double|Bool|String|Character|Optional|Array|Dictionary)\\b/g,type:\"k5\"},{regex:/\\b(associatedtype|class|deinit|extension|func|init|inout|internal|operator|private|protocol|public|static|subscript|typealias|defer|fallthrough|guard|in|as|repeat|return|where|dynamicType|is|rethrows|super|self|Self|throws|associativity|convenience|dynamic|didSet|final|get|infix|indirect|lazy|left|mutating|none|nonmutating|optional|override|postfix|precedence|prefix|Protocol|required|right|set|Type|unowned|weak|willSet)\\b/g,type:\"k0\"},h.mCalls,h.fCalls,{regex:/(?:^|[^\\\\])\\/\\/\\/.*$/gm,type:\"c2\"},h.docComments,h.slashComments,h.blockComments,{regex:/[\\b\\W](-?0b[01_]+)\\b/gi,type:\"n3\"},{regex:/[\\b\\W](-?0x[A-F0-9_]+)(?!\\.)\\b/gi,type:\"n2\"},{regex:/[\\b\\W](-?0o[0-7_]+)(?!\\.)\\b/g,type:\"n4\"},{regex:/[\\b\\W](-?[\\d_]+)(?!\\.)\\b/g,type:\"n1\"},{regex:/(-?(?:[\\d_]+\\.[\\d_]+(?:e[+-]?[\\d_]+)?))/gi,type:\"n0\"},{regex:/(-?0x(?:[A-F0-9_]+\\.[A-F0-9_]+(?:p[+-]?[A-F0-9_]+)?))/gi,type:\"n2\"},h.brackets]}}]),t}(),pe=function(){a(t,F);var e=p(t);function t(){return r(this,t),e.apply(this,arguments)}return i(t,[{key:\"setupLanguage\",value:function(){y(s(t.prototype),\"setupLanguage\",this).call(this);this.rules=[{regex:/\\b(boolean|number|string|any|void|undefined|never|symbol)\\b/g,type:\"k5\"},{regex:/\\b(type|interface)\\b/g,type:\"k2\"},{regex:/\\b(abstract|implements|readonly)\\b/g,type:\"k8\"},{regex:/\\b(declare|namespace)\\b/g,type:\"k0\"},{regex:/\\b([\\w]+)\\s*</gm,type:\"m0\"},{regex:/[<>]/g,type:\"g1\"}].concat(this.rules)}}]),t}(),ce=function(){a(t,x);var e=p(t);function t(){return r(this,t),e.apply(this,arguments)}return i(t,[{key:\"setupLanguage\",value:function(){this.rules=[{regex:/((?:^\\s*|\\s+)--.*$)/gm,type:\"c0\"},{regex:/^\\s*(?:use|library)\\s*(\\S+);/gim,type:\"k9\"},h.fCalls,{regex:/\\*\\*|\\*|\\/|\\+|-|&|=|\\/=|<|<=|>|>=/g,type:\"g0\"},h.dqStrings,{regex:/('.')/g,type:\"s0\"},h.brackets,{regex:/\\b(alias|array|variable|downto|range|to|type|units)\\b/g,type:\"k2\"},{regex:/\\b(array|buffer|bus|file)\\b/g,type:\"k5\"},{regex:/\\b(if|else|elsif|end|for|while|loop|when|begin|block|case|exit|next|then)\\b/g,type:\"k1\"},{regex:/\\b(access|after|all|architecture|attribute|assert|body|component|configuration|constant|disconnect|entity|function|generate|generic|group|guarded|impure|in|inertial|inout|is|label|library|linkage|literal|map|null|of|on|open|others|out|package|port|postponed|procedure|process|pure|record|return|select|severity|signal|shared|subtype|transport|unaffected|use|vaiable|with|wait|until)\\b/g,type:\"k0\"},{regex:/\\b(abs|not|mod|rem|sll|srl|sla|sra|rol|ror|and|or|nand|nor|xor|xnor|new)\\b/g,type:\"k3\"},h.floats]}}]),t}(),ye=function(){a(t,x);var e=p(t);function t(){return r(this,t),e.apply(this,arguments)}return i(t,[{key:\"setupLanguage\",value:function(){this.rules=[h.dqStrings,h.boolean,h.prop,{regex:/(#.*?)(?:'|$)/gim,type:\"k4\"},{regex:/\\b(Case|Catch|Continue|Each|Else|ElseIf|End|EndIf|Do|Finally|For|If|Loop|Next|OrElse|Then|Throw|Try|When|While)\\b/g,type:\"k1\"},{regex:/(Imports )(.*?)$/gm,type:[\"k0\",\"k10\"]},{regex:/\\b(Boolean|Byte|CBool|CByte|CChar|CDate|CDbl|CDec|Char|CInt|CLng|CObj|CSByte|CShort|CSng|CStr|CType|CUInt|CULng|CUShort|Decimal|Double|Integer|Long|ParamArray|SByte|Short|Single|String|UInteger|ULong|UShort)\\b/g,type:\"k5\"},{regex:/\\b(Dim|Enum|Let|ReDim)\\b/g,type:\"k2\"},{regex:/\\b(Const|Shared|Static)\\b/g,type:\"k8\"},{regex:/\\b(AddHandler|AddressOf|Alias|As|ByRef|ByVal|Call|Class|Date|Declare|Default|Delegate|DirectCast|Erase|Error|Event|Exit|Friend|Function|Get|GetType|GetXMLNamespace|Global|GoSub|GoTo|Handles|Implements|In|Inherits|Interface|Lib|Like|Me|Module|MustInherit|MustOverride|MyBase|MyClass|Namespace|Narrowing|Nothing|NotInheritable|NotOverridable|Object|Of|On|Operator|Option|Optional|Out|Overloads|Overridable|Overrides|Partial|Private|Property|Protected|Public|RaiseEvent|ReadOnly|REM|RemoveHandler|Resume|Return|Select|Set|Shadows|Step|Stop|Structure|Sub|SyncLock|To|TryCast|Using|Variant|Wend|Widening|With|WithEvents|WriteOnly)\\b/gi,type:\"k0\"},{regex:/\\b(And|AndAlso|Is|IsNot|Mod|New|Not|Or|TypeOf|Xor)\\b/g,type:\"k3\"},h.mCalls,h.fCalls,{regex:/'.*$/gm,type:\"c0\"},h.int,h.floats,h.brackets]}}],[{key:\"alias\",value:function(){return[\"vb\"]}}]),t}(),fe=function(){a(t,x);var e=p(t);function t(){return r(this,t),e.apply(this,arguments)}return i(t,[{key:\"setupLanguage\",value:function(){this.rules=[{regex:/<!DOCTYPE[\\s\\S]+?>/g,type:\"k9\"},{regex:/<\\?xml[\\s\\S]+\\?>/gi,type:\"k4\"},{regex:/<!--[\\s\\S]*?-->/g,type:\"c1\"},{regex:/(<!\\[CDATA\\[)([\\s\\S]*?)(]]>)/gim,type:[\"c9\",\"text\",\"c9\"]},{regex:/(<)([A-Z:_][A-Z0-9:.-]*)([\\s\\S]*?)(\\/?>)/gi,type:[\"g1\",\"x1\",\"text\",\"g1\"],filter:[null,null,function(e){return k(e,/\\b([^\\s\\0\"'>/=]+)(\\s*=\\s*)((['\"]).*?\\4|[^'\" \\t]+)/gi,function(e){return[C(e[1],\"x2\"),C(e[2],\"k3\"),C(e[3],\"s0\")]})},null]},{regex:/(<\\/)([A-Z:_][A-Z0-9:.-]*\\s*)(>)/gi,type:[\"g1\",\"x1\",\"g1\"]}]}}],[{key:\"alias\",value:function(){return[\"html\"]}}]),t}(),be=function(){a(t,x);var e=p(t);function t(){return r(this,t),e.apply(this,arguments)}return i(t,[{key:\"setupLanguage\",value:function(){this.rules=[h.poundComments,h.boolean,h.null,{regex:/^%[A-Z]+\\s+.*$/gm,type:\"k4\"},{regex:/\\b!{1,2}[A-Z]+\\b/gi,type:\"k5\"},{regex:/\\b[a-z][a-z0-9_-]*:/gim,type:\"k7\"},{regex:/\\{|}|\\(|\\)|\\[|]/g,type:\"g1\"},{regex:/\\s+(?:>|\\|)[\\r|\\n]+((?:\\s+[^\\r\\n]+[\\r|\\n]+)+)/gi,type:\"s5\"},h.dqStrings,h.sqStrings,h.floats]}}]),t}(),de=function(){a(t,x);var e=p(t);function t(){return r(this,t),e.apply(this,arguments)}return i(t,[{key:\"setupLanguage\",value:function(){this.rules=[h.dqStrings,{regex:/`\\w*\\b/g,type:\"k4\"},{regex:/\\[( *\\d+(?: *\\: *\\d+) *)\\]/g,type:\"e3\"},{regex:/\\b(for|generate|if|else|repeat|case|endcase|begin|end|ifnone)\\b/g,type:\"k1\"},{regex:/\\b(output|input|inout|reg|wire|assign)\\b/g,type:\"k5\"},{regex:/\\b(module|endmodule|always|function|endfunction)\\b/g,type:\"k2\"},{regex:/\\b(or|rpmos|tranif1|and|initial|rtran|tri|parameter|rtranif0|tri0|pmos|rtranif1|tri1|buf|endprimitive|integer|posedge|scalared|triand|bufif0|endspecify|join|primitive|small|trior|bufif1|endtable|large|pull0|specify|trireg|endtask|macromodule|pull1|specparam|vectored|casex|event|medium|pullup|strong0|wait|casez|pulldown|strong1|wand|cmos|force|nand|rcmos|supply0|weak0|deassign|forever|negedge|real|supply1|weak1|default|nmos|realtime|table|defparam|nor|task|disable|highz0|not|release|time|wor|edge|highz1|notif0|tran|xnor|notif1|rnmos|tranif0|xor)\\b/g,type:\"k0\"},h.slashComments,h.blockComments,{regex:/-?\\d*'s?d[0-9_xz]+\\b/gi,type:\"n1\"},{regex:/-?\\d*'s?h[0-9a-f_xz]+\\b/gi,type:\"n2\"},{regex:/-?\\d*'s?b[01_xz]+\\b/gi,type:\"n3\"},{regex:/-?\\d*'s?o[0-7_xz]+\\b/gi,type:\"n4\"},h.int,h.brackets]}}]),t}(),he=Object.freeze({__proto__:null,generic:x,abap:t,apache:v,assembly:w,avrassembly:S,cpp:_,csharp:E,css:L,cython:I,cordpro:W,diff:N,dockerfile:D,go:$,groovy:O,ini:T,java:R,javascript:F,json:j,kotlin:z,latex:B,less:Z,lighttpd:M,lua:P,markdown:U,matlab:G,nginx:H,nsis:V,php:J,powershell:X,prolog:Y,purebasic:Q,python:q,qml:K,r:ee,raw:te,routeros:re,ruby:ne,rust:ie,scala:ae,scss:se,shell:oe,sql:le,squirrel:ge,swift:ue,typescript:pe,vhdl:ce,visualbasic:ye,xml:fe,yaml:be,verilog:de}),me={standard:\"generic\"},xe={},ke=!1;function ve(e){if(!ke)for(var t in ke=!0,he)if(\"function\"==typeof he[t].alias){var r,n=function(e,t){var r;if(\"undefined\"==typeof Symbol||null==e[Symbol.iterator]){if(Array.isArray(e)||(r=b(e))||t&&e&&\"number\"==typeof e.length){r&&(e=r);var n=0,i=function(){};return{s:i,n:function(){return n>=e.length?{done:!0}:{done:!1,value:e[n++]}},e:function(e){throw e},f:i}}throw new TypeError(\"Invalid attempt to iterate non-iterable instance.\\nIn order to be iterable, non-array objects must have a [Symbol.iterator]() method.\")}var a,s=!0,o=!1;return{s:function(){r=e[Symbol.iterator]()},n:function(){var e=r.next();return s=e.done,e},e:function(e){o=!0,a=e},f:function(){try{s||null==r.return||r.return()}finally{if(o)throw a}}}}(he[t].alias());try{for(n.s();!(r=n.n()).done;){var i=r.value;me[i]=t}}catch(e){n.e(e)}finally{n.f()}}return me[e]}function we(e){return e=ve(e=(e||\"\").toLowerCase())||e,he[e]?e:null}var Ce={document:document,window:window};function Se(){return document}function _e(){return window}function Ee(e){var t=!(1<arguments.length&&void 0!==arguments[1])||arguments[1];e.style.display=!0===t?\"block\":\"none\"}function Ae(e){e.parentNode.removeChild(e)}function Le(e){return null!=e&&0<e.length?Se().querySelectorAll(e):[]}function qe(e,t){return e.getAttribute(\"data-\"+t)||null}function Ie(e,t){return e.getAttribute(t)||null}function We(e,t){return e.parentNode.insertBefore(t,e)}function Ne(e,t,r){var n=Se(),i=n.createElement(e);if(0<r.length)for(var a=0;a<r.length;a++){var s=r[a];if(null!==s&&!1!==s)if(void 0!==s)if(s.push)for(var o=0;o<s.length;o++){var l=s[o];null!==l&&!1!==l&&(void 0!==l?l.appendChild?i.appendChild(l):i.appendChild(n.createTextNode(l)):i.appendChild(n.createTextNode(\"#INVALID_ELEMENT#\")))}else s.appendChild?i.appendChild(s):i.appendChild(n.createTextNode(s));else i.appendChild(n.createTextNode(\"#INVALID_ELEMENT#\"))}function g(e,t){i.addEventListener(e,function(e){e.preventDefault(),e.stopPropagation(),t&&t.apply(i,[e,i])})}for(var u in t)if(Object.prototype.hasOwnProperty.call(t,u)){var p=t[u];if(\"on\"===u.substr(0,2)){if(null===p)continue;g(u.substr(2).toLowerCase(),p)}else{if(null==p)continue;switch(u){case\"className\":i.setAttribute(\"class\",p);break;case\"htmlFor\":i.setAttribute(\"for\",p);break;default:i.setAttribute(u,p)}}}return i.on=g,i}function De(e,t){for(var r=arguments.length,n=new Array(2<r?r-2:0),i=2;i<r;i++)n[i-2]=arguments[i];if(\"function\"!=typeof e)return Ne(e,t,n);var a=g(e,[t||{}].concat(n));return\"function\"==typeof a.render?a.render():a instanceof HTMLElement?a:void Se().createTextNode(\"#INVALID_JSX_ELEMENT#\")}function $e(e,t){e.classList.contains(t)||e.classList.add(t)}function Oe(e,t){e.classList.contains(t)&&e.classList.remove(t)}function Te(e,t){return e.classList.contains(t)}function Re(e,t){e.classList.contains(t)?e.classList.remove(t):e.classList.add(t)}var Fe=_e();function je(){var e;void 0!==Fe.console&&Fe.console.log&&(e=Fe.console).log.apply(e,arguments)}var ze=Object.freeze({__proto__:null,globals:Ce,getDocument:Se,getWindow:_e,displayElement:Ee,disposeElement:Ae,getElements:Le,getElement:function(e){return null!=e&&0<e.length?Se().querySelector(e):null},getElementDataAttribute:qe,getElementAttribute:Ie,insertBefore:We,createNode:Ne,createElement:De,renderComponent:function(e){var t=1<arguments.length&&void 0!==arguments[1]?arguments[1]:null;return null!==t&&t.appendChild(e),e},addClass:$e,removeClass:Oe,hasClass:Te,toggleClass:Re,logInfo:je,logError:function(){var e;void 0!==Fe.console&&Fe.console.error?(e=Fe.console).error.apply(e,arguments):je.apply(void 0,arguments)}});function Be(e){var t=e.tokens,r=e.options,n=function(e,t){if(\"string\"!=typeof e||0===e.length)return function(){return!1};var r=parseInt(t),a=!isNaN(r)&&1<r?r-1:0,s={};return e.split(\",\").forEach(function(e){var t=e.match(/([0-9]+)-([0-9]+)/);if(null!=t){var r=parseInt(t[1])-a,n=parseInt(t[2])-a;if(r<n)for(var i=r;i<=n;i++)s[\"\"+i]=!0}else s[\"\"+(parseInt(e)-a)]=!0}),function(e){return s[\"\"+e]||!1}}(r.highlight,r.lineoffset),i=[],a=[];t.forEach(function(t){var e=t.text.split(\"\\n\");1===e.length?a.push([t.type,t.text]):(a.push([t.type,e.shift()]),e.forEach(function(e){i.push(a),(a=[]).push([t.type,e])}))}),i.push(a);var s=[];return 0<r.lineoffset&&s.push(\"counter-reset: enlighter \"+(parseInt(r.lineoffset)-1)),De(\"div\",{className:\"enlighter\",style:s.join(\";\")},i.map(function(e,t){return De(\"div\",{className:n(t+1)?\"enlighter-special\":\"\"},De(\"div\",null,e.map(function(e){return De(\"span\",{className:\"enlighter-\"+e[0]},e[1])})))}))}function Ze(e){var t=[];e.name&&t.push(\"enlighter-\"+e.name),e.className&&(\"string\"==typeof e.className?t.push(e.className):t.push.apply(t,f(e.className)));for(var r=arguments.length,n=new Array(1<r?r-1:0),i=1;i<r;i++)n[i-1]=arguments[i];return De.apply(ze,[\"div\",{className:t.join(\" \")}].concat(n))}function Me(e){var t=[\"enlighter-btn\"];return e.name&&t.push(\"enlighter-btn-\"+e.name),De(\"div\",{className:t.join(\" \"),onClick:e.onClick,title:e.tooltip},e.text||null)}function Pe(){_e().open(\"https://enlighterjs.org\")}var Ue=Object.freeze({__proto__:null,raw:function(e){return De(Me,{name:\"raw\",tooltip:\"Plain text\",onClick:function(){e.toggleClass(\"enlighter-show-rawcode\")}})},copy:function(e){return De(Me,{name:\"copy\",tooltip:\"Copy to clipboard\",onClick:function(){!function(e){var t=Se(),r=_e(),n=De(\"pre\",{className:\"enlighter-clipboard\"},e);t.body.appendChild(n);try{var i=t.createRange();i.selectNodeContents(n);var a=r.getSelection();a.removeAllRanges(),a.addRange(i)}catch(e){return}var s=function(){try{return t.execCommand(\"copy\")}catch(e){return!1}}();r.getSelection().removeAllRanges(),Ae(n)}(e.getRawCode())}})},window:function(r){var n=_e();return De(Me,{name:\"window\",tooltip:\"Open code in new window\",onClick:function(){var e=n.open(\"\",\"\",\"width=\"+n.screen.width/2+\", height=\"+n.screen.height/2+\", menubar=no, titlebar=no, toolbar=no, top=100, left=100, scrollbars=yes, status=no\"),t=r.getRawCode().replace(/&/g,\"&amp;\").replace(/</g,\"&lt;\").replace(/>/g,\"&gt;\");e.document.body.innerHTML=\"<pre>\"+t+\"</pre>\",e.document.title=\"Sourcecode | EnlighterJS Syntax Highlighter\"}})},website:function(){return De(Me,{name:\"website\",tooltip:\"EnlighterJS 3 Syntax Highlighter\",onClick:Pe})},collapse:function(e){return De(Me,{name:\"collapse\",tooltip:\"Expand\",onClick:function(){e.toggleClass(\"enlighter-collapse-full\")}})}});function Ge(t){var e=function(e){for(var t,r=[],n=/{BTN_([A-Z_]+)}/g;null!=(t=n.exec(e));)r.push(t[1].toLowerCase());return r}(t.layout).map(function(e){return Ue[e]?De(Ue[e],{getRawCode:t.getRawCode,toggleClass:t.toggleClass}):null}).filter(function(e){return null!==e});return De(Ze,{name:\"toolbar-\"+t.name,className:\"enlighter-toolbar\"},e)}function He(e,t){return De(\"div\",{className:\"enlighter-raw\"},t)}function Ve(e){var t=null,r=e[0].params,n=[\"enlighter-default\",\"enlighter-v-standard\",\"enlighter-t-\"+e[0].params.theme];function i(e){Re(t,e)}function a(){return e[0].code}return!0===r.linehover&&n.push(\"enlighter-hover\"),!0===r.linenumbers&&n.push(\"enlighter-linenumbers\"),\"scroll\"===r.textOverflow&&n.push(\"enlighter-overflow-scroll\"),!0===r.collapse&&n.push(\"enlighter-collapse\"),0<r.cssClasses.length&&n.push.apply(n,f(r.cssClasses)),t=De(Ze,{className:n},De(Ge,{name:\"top\",layout:r.toolbarTop,toggleClass:i,getRawCode:a}),De(Be,{tokens:e[0].tokens,options:e[0].params}),De(He,null,e[0].code),De(Ge,{name:\"bottom\",layout:r.toolbarBottom,toggleClass:i,getRawCode:a})),r.rawcodeDbclick&&t.on(\"dblclick\",function(){i(\"enlighter-show-rawcode\")}),t}function Je(e){return De(\"span\",{className:\"enlighter\"},e.tokens.map(function(e){return De(\"span\",{className:\"enlighter-\"+e.type},e.text)}))}function Xe(r){var n=0,i=[];return i=r.dataset.map(function(e,t){return De(Me,{onClick:function(){return e=t,Oe(i[n],\"enlighter-active\"),$e(i[e],\"enlighter-active\"),n=e,void r.onChange(e);var e},text:e.params.title||e.params.language})}),$e(i[0],\"enlighter-active\"),De(Ze,{name:\"codegroup-switch\"},i)}var Ye=Object.freeze({__proto__:null,standard:Ve,inline:function(e){var t=e[0].params,r=[\"enlighter-default\",\"enlighter-v-inline\",\"enlighter-t-\"+t.theme];return 0<t.cssClasses.length&&r.push.apply(r,f(t.cssClasses)),De(Ze,{className:r},De(Je,{tokens:e[0].tokens,options:t}))},codegroup:function(e){var t,r=null,n=e[0].params,i=0,a=[\"enlighter-default\",\"enlighter-v-codegroup\",\"enlighter-t-\"+n.theme];function s(e){Re(r,e)}function o(){return e[i].code}function l(e){Ee(t[i],!1),Ee(t[e],!0),i=e}return!0===n.linehover&&a.push(\"enlighter-hover\"),!0===n.linenumbers&&a.push(\"enlighter-linenumbers\"),\"scroll\"===n.textOverflow&&a.push(\"enlighter-overflow-scroll\"),!0===n.collapse&&a.push(\"enlighter-collapse\"),0<n.cssClasses.length&&a.push.apply(a,f(n.cssClasses)),t=e.map(function(e){return De(\"div\",{style:\"display:none\"},De(Be,{tokens:e.tokens,options:e.params}),De(He,null,e.code))}),l(0),r=De(Ze,{className:a},De(Xe,{onChange:l,dataset:e}),De(Ze,{name:\"codegroup-wrapper\"},De(Ge,{name:\"top\",layout:n.toolbarTop,toggleClass:s,getRawCode:o}),t,De(Ge,{name:\"bottom\",layout:n.toolbarBottom,toggleClass:s,getRawCode:o}))),n.rawcodeDbclick&&r.on(\"dblclick\",function(){s(\"enlighter-show-rawcode\")}),r}});function Qe(e){var t;return(t=((t=e[0].params.layout)||\"\").toLowerCase(),Ye[t]?Ye[t]:Ve)(e.map(function(e){var t,r,n,i=e.code,a=e.params;if(\"string\"!=typeof i)throw new TypeError(\"EnlighterJS Engine requires string input\");return{tokens:(t=a.language,r=c.language||null,n=we(t)||we(r)||\"generic\",xe[n]||(xe[n]=new he[n]),xe[n]).analyze(i),params:a,code:i}}))}function Ke(i,t){function a(e){return function(){for(var e=arguments.length,t=new Array(e),r=0;r<e;r++)t[r]=arguments[r];for(var n=t.pop(),i=0;i<t.length;i++){var a=t[i];if(null!=a)return a}return n}(t[e],c[e],null)}function e(e,t){var r=qe(i,\"enlighter-\"+e),n=a(e);if(!(r&&0<r.length))return n;switch(t){case\"boolean\":return\"true\"===(r=r.toLowerCase().trim())||\"false\"!==r&&n;case\"int\":return r=parseInt(r),isNaN(r)?n:r;default:return r}}var r=a(\"cssClasses\")||\"\";!0===a(\"retainCssClasses\")&&(r+=\" \"+(Ie(i,\"class\")||\"\"));var n=r.replace(/\\s+/g,\" \").trim().split(\" \");return{language:e(\"language\"),theme:e(\"theme\"),layout:e(\"layout\"),title:e(\"title\"),highlight:e(\"highlight\"),linenumbers:e(\"linenumbers\",\"boolean\"),lineoffset:e(\"lineoffset\",\"int\"),indent:a(\"indent\"),ampersandCleanup:a(\"ampersandCleanup\"),linehover:a(\"linehover\"),rawcodeDbclick:a(\"rawcodeDbclick\"),textOverflow:a(\"textOverflow\"),collapse:a(\"collapse\"),cssClasses:n,toolbarTop:a(\"toolbarTop\"),toolbarBottom:a(\"toolbarBottom\"),toolbarHeader:a(\"toolbarHeader\")}}var et=[];function tt(e){var t=function(e){for(var t=0;t<et.length;t++)for(var r=0;r<et[t].elements.length;r++)if(et[t].elements[r]===e)return t;return!1}(e);if(!1===t)return!1;var r=et.splice(t,1);return Ae(r[0].wrapper),r[0].elements.map(function(e){return Oe(e,\"enlighter-origin\")}),!0}function rt(e){var t,r,n=1<arguments.length&&void 0!==arguments[1]?arguments[1]:{};try{if(Array.isArray(e)||(e=[e]),0===e.length)return!1;if(!1===n)return tt(e[0]);if(Te(e[0],\"enlighter-origin\"))return!1;var i=Qe(e.map(function(e){var t=Ke(e,n),r=function(e,t){var r=e.innerHTML||\"\";r=(r=r.replace(/(^\\s*\\n|\\n\\s*$)/gi,\"\")).replace(/&lt;/gim,\"<\").replace(/&gt;/gim,\">\").replace(/&nbsp;/gim,\" \"),!0===t.ampersandCleanup&&(r=r.replace(/&amp;/gim,\"&\"));var n=t.indent;return!1!==n&&-1<n&&(r=r.replace(/(\\t*)/gim,function(e,t){return new Array(n*t.length+1).join(\" \")})),r}(e,t);return $e(e,\"enlighter-origin\"),{element:e,code:r,params:t}}));return We(e[0],i),t=e,r=i,et.push({elements:t,wrapper:r}),!0}catch(e){return console.error(\"EnlighterJS Internal Error:\",e),!1}}return e.enlight=rt,e.init=function(){var e,t=0<arguments.length&&void 0!==arguments[0]?arguments[0]:\"pre.ejs\",r=1<arguments.length&&void 0!==arguments[1]?arguments[1]:\"code.ejs\",n=3<arguments.length&&void 0!==arguments[3]?arguments[3]:{};e=2<arguments.length&&void 0!==arguments[2]?arguments[2]:null,Object.assign(c,e||{});for(var i=Le(t),a=Le(r),s=function(e){for(var t={},r=[],n=0;n<e.length;n++){var i=qe(e[n],\"enlighter-group\");i?(t[i]||(t[i]=[]),t[i].push(e[n])):r.push(e[n])}return{standalone:r,groups:Object.keys(t).map(function(e){return t[e]})}}(i),o=s.standalone,l=s.groups,g=0;g<o.length;g++)rt(o[g],{layout:n.block||\"standard\"});for(var u=0;u<l.length;u++)rt(l[u],{layout:n.codegroup||\"codegroup\"});for(var p=0;p<a.length;p++)rt(a[p],{layout:n.inline||\"inline\"})},e.version=\"3.4.0\",e}({});\n",
       "!function(n){\"function\"==typeof n&&n.fn&&(n.fn.enlight=function(n){return n=!0===(n=void 0===n?{}:n)?{}:n,this.each(function(){EnlighterJS.enlight(this,n)})})}(window.jQuery);</script>"
      ],
      "text/plain": [
       "<IPython.core.display.HTML object>"
      ]
     },
     "metadata": {},
     "output_type": "display_data"
    }
   ],
   "source": [
    "from reporting.rendering.html import generate_html_report\n",
    "\n",
    "\n",
    "generate_html_report(\n",
    "    report_structure=figs,\n",
    "    render_path=\"./report.html\",\n",
    "    report_meta_data=dict(title=\"Modeling Report\"),\n",
    ")"
   ]
  },
  {
   "cell_type": "code",
   "execution_count": 4,
   "id": "d4dd1ba0",
   "metadata": {},
   "outputs": [],
   "source": [
    "!open ./report.html"
   ]
  },
  {
   "cell_type": "markdown",
   "id": "d488d03b",
   "metadata": {},
   "source": [
    "<div class=\"alert alert-info\">\n",
    "<b>Uncomment code below to see widget</b>\n",
    "\n",
    "In case you are want to quickly review this nesteed dictionary of figures, you can use `create_plot_demonstration_widget`\n",
    "\n",
    "</div>"
   ]
  },
  {
   "cell_type": "code",
   "execution_count": 5,
   "id": "7e270585",
   "metadata": {},
   "outputs": [],
   "source": [
    "# %matplotlib inline\n",
    "# from reporting.rendering.interactive import create_plot_demonstration_widget\n",
    "\n",
    "# create_plot_demonstration_widget(figs)"
   ]
  }
 ],
 "metadata": {
  "kernelspec": {
   "display_name": "Python 3 (ipykernel)",
   "language": "python",
   "name": "python3"
  },
  "language_info": {
   "codemirror_mode": {
    "name": "ipython",
    "version": 3
   },
   "file_extension": ".py",
   "mimetype": "text/x-python",
   "name": "python",
   "nbconvert_exporter": "python",
   "pygments_lexer": "ipython3",
   "version": "3.10.13"
  },
  "toc": {
   "base_numbering": 1,
   "nav_menu": {},
   "number_sections": false,
   "sideBar": true,
   "skip_h1_title": false,
   "title_cell": "Table of Contents",
   "title_sidebar": "Contents",
   "toc_cell": false,
   "toc_position": {
    "height": "calc(100% - 180px)",
    "left": "10px",
    "top": "150px",
    "width": "241.739136px"
   },
   "toc_section_display": true,
   "toc_window_display": true
  },
  "widgets": {
   "application/vnd.jupyter.widget-state+json": {
    "state": {
     "03cdaf681f3344cf8c27c263884ad0d4": {
      "model_module": "@jupyter-widgets/controls",
      "model_module_version": "2.0.0",
      "model_name": "DropdownModel",
      "state": {
       "_model_module_version": "2.0.0",
       "_options_labels": [
        "model_summary",
        "sklearn_model",
        "performance_train_metrics",
        "performance_test_metrics",
        "feature_importance_plot",
        "partial_dependence_plot",
        "train_timeline",
        "test_timeline",
        "model_actual_vs_predicted",
        "model_actual_vs_residual"
       ],
       "_view_module_version": "2.0.0",
       "description": "plot_name",
       "description_allow_html": false,
       "index": 0,
       "layout": "IPY_MODEL_c812a390d1bc48cda25ea2e9af466257",
       "style": "IPY_MODEL_c2af242ec11a48e49cb25c30b841e46e",
       "tabbable": null,
       "tooltip": null
      }
     },
     "0d32eb2eb4ca4127b49ef610294a8d6f": {
      "model_module": "@jupyter-widgets/base",
      "model_module_version": "2.0.0",
      "model_name": "LayoutModel",
      "state": {
       "_model_module_version": "2.0.0",
       "_view_module_version": "2.0.0",
       "border_bottom": null,
       "border_left": null,
       "border_right": null,
       "border_top": null
      }
     },
     "5e61e93702094df88d79a88f01305d5f": {
      "model_module": "@jupyter-widgets/base",
      "model_module_version": "2.0.0",
      "model_name": "LayoutModel",
      "state": {
       "_model_module_version": "2.0.0",
       "_view_module_version": "2.0.0",
       "border_bottom": null,
       "border_left": null,
       "border_right": null,
       "border_top": null
      }
     },
     "6514b2ad5b324c18bb9ef95d793db3a5": {
      "model_module": "@jupyter-widgets/controls",
      "model_module_version": "2.0.0",
      "model_name": "DescriptionStyleModel",
      "state": {
       "_model_module_version": "2.0.0",
       "_view_module_version": "2.0.0",
       "description_width": ""
      }
     },
     "6e2febb027614425a9d15941c365841d": {
      "model_module": "@jupyter-widgets/output",
      "model_module_version": "1.0.0",
      "model_name": "OutputModel",
      "state": {
       "layout": "IPY_MODEL_5e61e93702094df88d79a88f01305d5f",
       "outputs": [
        {
         "data": {
          "application/vnd.plotly.v1+json": {
           "config": {
            "plotlyServerURL": "https://plot.ly"
           },
           "data": [
            {
             "cells": {
              "align": "left",
              "fill": {
               "color": "white"
              },
              "font": {
               "color": "black",
               "size": 11
              },
              "line": {
               "color": "darkslategray"
              },
              "values": [
               [
                "# data points - train set",
                "# features - train set",
                "test MAE",
                "test RMSE",
                "test R2",
                "train R2",
                "model type"
               ],
               [
                3397,
                9,
                103.10418823529412,
                146.27857001585144,
                0.7388788815346112,
                0.9895153125428412,
                "SklearnPipeline"
               ]
              ]
             },
             "header": {
              "align": "left",
              "fill": {
               "color": "white"
              },
              "font": {
               "color": "black",
               "size": 11
              },
              "line": {
               "color": "darkslategray"
              },
              "values": [
               "<b>index</b>",
               "<b></b>"
              ]
             },
             "type": "table"
            }
           ],
           "layout": {
            "template": {
             "data": {
              "bar": [
               {
                "error_x": {
                 "color": "#2a3f5f"
                },
                "error_y": {
                 "color": "#2a3f5f"
                },
                "marker": {
                 "line": {
                  "color": "#E5ECF6",
                  "width": 0.5
                 },
                 "pattern": {
                  "fillmode": "overlay",
                  "size": 10,
                  "solidity": 0.2
                 }
                },
                "type": "bar"
               }
              ],
              "barpolar": [
               {
                "marker": {
                 "line": {
                  "color": "#E5ECF6",
                  "width": 0.5
                 },
                 "pattern": {
                  "fillmode": "overlay",
                  "size": 10,
                  "solidity": 0.2
                 }
                },
                "type": "barpolar"
               }
              ],
              "carpet": [
               {
                "aaxis": {
                 "endlinecolor": "#2a3f5f",
                 "gridcolor": "white",
                 "linecolor": "white",
                 "minorgridcolor": "white",
                 "startlinecolor": "#2a3f5f"
                },
                "baxis": {
                 "endlinecolor": "#2a3f5f",
                 "gridcolor": "white",
                 "linecolor": "white",
                 "minorgridcolor": "white",
                 "startlinecolor": "#2a3f5f"
                },
                "type": "carpet"
               }
              ],
              "choropleth": [
               {
                "colorbar": {
                 "outlinewidth": 0,
                 "ticks": ""
                },
                "type": "choropleth"
               }
              ],
              "contour": [
               {
                "colorbar": {
                 "outlinewidth": 0,
                 "ticks": ""
                },
                "colorscale": [
                 [
                  0,
                  "#0d0887"
                 ],
                 [
                  0.1111111111111111,
                  "#46039f"
                 ],
                 [
                  0.2222222222222222,
                  "#7201a8"
                 ],
                 [
                  0.3333333333333333,
                  "#9c179e"
                 ],
                 [
                  0.4444444444444444,
                  "#bd3786"
                 ],
                 [
                  0.5555555555555556,
                  "#d8576b"
                 ],
                 [
                  0.6666666666666666,
                  "#ed7953"
                 ],
                 [
                  0.7777777777777778,
                  "#fb9f3a"
                 ],
                 [
                  0.8888888888888888,
                  "#fdca26"
                 ],
                 [
                  1,
                  "#f0f921"
                 ]
                ],
                "type": "contour"
               }
              ],
              "contourcarpet": [
               {
                "colorbar": {
                 "outlinewidth": 0,
                 "ticks": ""
                },
                "type": "contourcarpet"
               }
              ],
              "heatmap": [
               {
                "colorbar": {
                 "outlinewidth": 0,
                 "ticks": ""
                },
                "colorscale": [
                 [
                  0,
                  "#0d0887"
                 ],
                 [
                  0.1111111111111111,
                  "#46039f"
                 ],
                 [
                  0.2222222222222222,
                  "#7201a8"
                 ],
                 [
                  0.3333333333333333,
                  "#9c179e"
                 ],
                 [
                  0.4444444444444444,
                  "#bd3786"
                 ],
                 [
                  0.5555555555555556,
                  "#d8576b"
                 ],
                 [
                  0.6666666666666666,
                  "#ed7953"
                 ],
                 [
                  0.7777777777777778,
                  "#fb9f3a"
                 ],
                 [
                  0.8888888888888888,
                  "#fdca26"
                 ],
                 [
                  1,
                  "#f0f921"
                 ]
                ],
                "type": "heatmap"
               }
              ],
              "heatmapgl": [
               {
                "colorbar": {
                 "outlinewidth": 0,
                 "ticks": ""
                },
                "colorscale": [
                 [
                  0,
                  "#0d0887"
                 ],
                 [
                  0.1111111111111111,
                  "#46039f"
                 ],
                 [
                  0.2222222222222222,
                  "#7201a8"
                 ],
                 [
                  0.3333333333333333,
                  "#9c179e"
                 ],
                 [
                  0.4444444444444444,
                  "#bd3786"
                 ],
                 [
                  0.5555555555555556,
                  "#d8576b"
                 ],
                 [
                  0.6666666666666666,
                  "#ed7953"
                 ],
                 [
                  0.7777777777777778,
                  "#fb9f3a"
                 ],
                 [
                  0.8888888888888888,
                  "#fdca26"
                 ],
                 [
                  1,
                  "#f0f921"
                 ]
                ],
                "type": "heatmapgl"
               }
              ],
              "histogram": [
               {
                "marker": {
                 "pattern": {
                  "fillmode": "overlay",
                  "size": 10,
                  "solidity": 0.2
                 }
                },
                "type": "histogram"
               }
              ],
              "histogram2d": [
               {
                "colorbar": {
                 "outlinewidth": 0,
                 "ticks": ""
                },
                "colorscale": [
                 [
                  0,
                  "#0d0887"
                 ],
                 [
                  0.1111111111111111,
                  "#46039f"
                 ],
                 [
                  0.2222222222222222,
                  "#7201a8"
                 ],
                 [
                  0.3333333333333333,
                  "#9c179e"
                 ],
                 [
                  0.4444444444444444,
                  "#bd3786"
                 ],
                 [
                  0.5555555555555556,
                  "#d8576b"
                 ],
                 [
                  0.6666666666666666,
                  "#ed7953"
                 ],
                 [
                  0.7777777777777778,
                  "#fb9f3a"
                 ],
                 [
                  0.8888888888888888,
                  "#fdca26"
                 ],
                 [
                  1,
                  "#f0f921"
                 ]
                ],
                "type": "histogram2d"
               }
              ],
              "histogram2dcontour": [
               {
                "colorbar": {
                 "outlinewidth": 0,
                 "ticks": ""
                },
                "colorscale": [
                 [
                  0,
                  "#0d0887"
                 ],
                 [
                  0.1111111111111111,
                  "#46039f"
                 ],
                 [
                  0.2222222222222222,
                  "#7201a8"
                 ],
                 [
                  0.3333333333333333,
                  "#9c179e"
                 ],
                 [
                  0.4444444444444444,
                  "#bd3786"
                 ],
                 [
                  0.5555555555555556,
                  "#d8576b"
                 ],
                 [
                  0.6666666666666666,
                  "#ed7953"
                 ],
                 [
                  0.7777777777777778,
                  "#fb9f3a"
                 ],
                 [
                  0.8888888888888888,
                  "#fdca26"
                 ],
                 [
                  1,
                  "#f0f921"
                 ]
                ],
                "type": "histogram2dcontour"
               }
              ],
              "mesh3d": [
               {
                "colorbar": {
                 "outlinewidth": 0,
                 "ticks": ""
                },
                "type": "mesh3d"
               }
              ],
              "parcoords": [
               {
                "line": {
                 "colorbar": {
                  "outlinewidth": 0,
                  "ticks": ""
                 }
                },
                "type": "parcoords"
               }
              ],
              "pie": [
               {
                "automargin": true,
                "type": "pie"
               }
              ],
              "scatter": [
               {
                "fillpattern": {
                 "fillmode": "overlay",
                 "size": 10,
                 "solidity": 0.2
                },
                "type": "scatter"
               }
              ],
              "scatter3d": [
               {
                "line": {
                 "colorbar": {
                  "outlinewidth": 0,
                  "ticks": ""
                 }
                },
                "marker": {
                 "colorbar": {
                  "outlinewidth": 0,
                  "ticks": ""
                 }
                },
                "type": "scatter3d"
               }
              ],
              "scattercarpet": [
               {
                "marker": {
                 "colorbar": {
                  "outlinewidth": 0,
                  "ticks": ""
                 }
                },
                "type": "scattercarpet"
               }
              ],
              "scattergeo": [
               {
                "marker": {
                 "colorbar": {
                  "outlinewidth": 0,
                  "ticks": ""
                 }
                },
                "type": "scattergeo"
               }
              ],
              "scattergl": [
               {
                "marker": {
                 "colorbar": {
                  "outlinewidth": 0,
                  "ticks": ""
                 }
                },
                "type": "scattergl"
               }
              ],
              "scattermapbox": [
               {
                "marker": {
                 "colorbar": {
                  "outlinewidth": 0,
                  "ticks": ""
                 }
                },
                "type": "scattermapbox"
               }
              ],
              "scatterpolar": [
               {
                "marker": {
                 "colorbar": {
                  "outlinewidth": 0,
                  "ticks": ""
                 }
                },
                "type": "scatterpolar"
               }
              ],
              "scatterpolargl": [
               {
                "marker": {
                 "colorbar": {
                  "outlinewidth": 0,
                  "ticks": ""
                 }
                },
                "type": "scatterpolargl"
               }
              ],
              "scatterternary": [
               {
                "marker": {
                 "colorbar": {
                  "outlinewidth": 0,
                  "ticks": ""
                 }
                },
                "type": "scatterternary"
               }
              ],
              "surface": [
               {
                "colorbar": {
                 "outlinewidth": 0,
                 "ticks": ""
                },
                "colorscale": [
                 [
                  0,
                  "#0d0887"
                 ],
                 [
                  0.1111111111111111,
                  "#46039f"
                 ],
                 [
                  0.2222222222222222,
                  "#7201a8"
                 ],
                 [
                  0.3333333333333333,
                  "#9c179e"
                 ],
                 [
                  0.4444444444444444,
                  "#bd3786"
                 ],
                 [
                  0.5555555555555556,
                  "#d8576b"
                 ],
                 [
                  0.6666666666666666,
                  "#ed7953"
                 ],
                 [
                  0.7777777777777778,
                  "#fb9f3a"
                 ],
                 [
                  0.8888888888888888,
                  "#fdca26"
                 ],
                 [
                  1,
                  "#f0f921"
                 ]
                ],
                "type": "surface"
               }
              ],
              "table": [
               {
                "cells": {
                 "fill": {
                  "color": "#EBF0F8"
                 },
                 "line": {
                  "color": "white"
                 }
                },
                "header": {
                 "fill": {
                  "color": "#C8D4E3"
                 },
                 "line": {
                  "color": "white"
                 }
                },
                "type": "table"
               }
              ]
             },
             "layout": {
              "annotationdefaults": {
               "arrowcolor": "#2a3f5f",
               "arrowhead": 0,
               "arrowwidth": 1
              },
              "autotypenumbers": "strict",
              "coloraxis": {
               "colorbar": {
                "outlinewidth": 0,
                "ticks": ""
               }
              },
              "colorscale": {
               "diverging": [
                [
                 0,
                 "#8e0152"
                ],
                [
                 0.1,
                 "#c51b7d"
                ],
                [
                 0.2,
                 "#de77ae"
                ],
                [
                 0.3,
                 "#f1b6da"
                ],
                [
                 0.4,
                 "#fde0ef"
                ],
                [
                 0.5,
                 "#f7f7f7"
                ],
                [
                 0.6,
                 "#e6f5d0"
                ],
                [
                 0.7,
                 "#b8e186"
                ],
                [
                 0.8,
                 "#7fbc41"
                ],
                [
                 0.9,
                 "#4d9221"
                ],
                [
                 1,
                 "#276419"
                ]
               ],
               "sequential": [
                [
                 0,
                 "#0d0887"
                ],
                [
                 0.1111111111111111,
                 "#46039f"
                ],
                [
                 0.2222222222222222,
                 "#7201a8"
                ],
                [
                 0.3333333333333333,
                 "#9c179e"
                ],
                [
                 0.4444444444444444,
                 "#bd3786"
                ],
                [
                 0.5555555555555556,
                 "#d8576b"
                ],
                [
                 0.6666666666666666,
                 "#ed7953"
                ],
                [
                 0.7777777777777778,
                 "#fb9f3a"
                ],
                [
                 0.8888888888888888,
                 "#fdca26"
                ],
                [
                 1,
                 "#f0f921"
                ]
               ],
               "sequentialminus": [
                [
                 0,
                 "#0d0887"
                ],
                [
                 0.1111111111111111,
                 "#46039f"
                ],
                [
                 0.2222222222222222,
                 "#7201a8"
                ],
                [
                 0.3333333333333333,
                 "#9c179e"
                ],
                [
                 0.4444444444444444,
                 "#bd3786"
                ],
                [
                 0.5555555555555556,
                 "#d8576b"
                ],
                [
                 0.6666666666666666,
                 "#ed7953"
                ],
                [
                 0.7777777777777778,
                 "#fb9f3a"
                ],
                [
                 0.8888888888888888,
                 "#fdca26"
                ],
                [
                 1,
                 "#f0f921"
                ]
               ]
              },
              "colorway": [
               "#636efa",
               "#EF553B",
               "#00cc96",
               "#ab63fa",
               "#FFA15A",
               "#19d3f3",
               "#FF6692",
               "#B6E880",
               "#FF97FF",
               "#FECB52"
              ],
              "font": {
               "color": "#2a3f5f"
              },
              "geo": {
               "bgcolor": "white",
               "lakecolor": "white",
               "landcolor": "#E5ECF6",
               "showlakes": true,
               "showland": true,
               "subunitcolor": "white"
              },
              "hoverlabel": {
               "align": "left"
              },
              "hovermode": "closest",
              "mapbox": {
               "style": "light"
              },
              "paper_bgcolor": "white",
              "plot_bgcolor": "#E5ECF6",
              "polar": {
               "angularaxis": {
                "gridcolor": "white",
                "linecolor": "white",
                "ticks": ""
               },
               "bgcolor": "#E5ECF6",
               "radialaxis": {
                "gridcolor": "white",
                "linecolor": "white",
                "ticks": ""
               }
              },
              "scene": {
               "xaxis": {
                "backgroundcolor": "#E5ECF6",
                "gridcolor": "white",
                "gridwidth": 2,
                "linecolor": "white",
                "showbackground": true,
                "ticks": "",
                "zerolinecolor": "white"
               },
               "yaxis": {
                "backgroundcolor": "#E5ECF6",
                "gridcolor": "white",
                "gridwidth": 2,
                "linecolor": "white",
                "showbackground": true,
                "ticks": "",
                "zerolinecolor": "white"
               },
               "zaxis": {
                "backgroundcolor": "#E5ECF6",
                "gridcolor": "white",
                "gridwidth": 2,
                "linecolor": "white",
                "showbackground": true,
                "ticks": "",
                "zerolinecolor": "white"
               }
              },
              "shapedefaults": {
               "line": {
                "color": "#2a3f5f"
               }
              },
              "ternary": {
               "aaxis": {
                "gridcolor": "white",
                "linecolor": "white",
                "ticks": ""
               },
               "baxis": {
                "gridcolor": "white",
                "linecolor": "white",
                "ticks": ""
               },
               "bgcolor": "#E5ECF6",
               "caxis": {
                "gridcolor": "white",
                "linecolor": "white",
                "ticks": ""
               }
              },
              "title": {
               "x": 0.05
              },
              "xaxis": {
               "automargin": true,
               "gridcolor": "white",
               "linecolor": "white",
               "ticks": "",
               "title": {
                "standoff": 15
               },
               "zerolinecolor": "white",
               "zerolinewidth": 2
              },
              "yaxis": {
               "automargin": true,
               "gridcolor": "white",
               "linecolor": "white",
               "ticks": "",
               "title": {
                "standoff": 15
               },
               "zerolinecolor": "white",
               "zerolinewidth": 2
              }
             }
            },
            "title": {
             "text": "Model summary",
             "x": 0
            }
           }
          },
          "text/html": "<div>                            <div id=\"ae7b15aa-663c-4a02-b08e-c40fc315bac6\" class=\"plotly-graph-div\" style=\"height:525px; width:100%;\"></div>            <script type=\"text/javascript\">                require([\"plotly\"], function(Plotly) {                    window.PLOTLYENV=window.PLOTLYENV || {};                                    if (document.getElementById(\"ae7b15aa-663c-4a02-b08e-c40fc315bac6\")) {                    Plotly.newPlot(                        \"ae7b15aa-663c-4a02-b08e-c40fc315bac6\",                        [{\"cells\":{\"align\":\"left\",\"fill\":{\"color\":\"white\"},\"font\":{\"color\":\"black\",\"size\":11},\"line\":{\"color\":\"darkslategray\"},\"values\":[[\"# data points - train set\",\"# features - train set\",\"test MAE\",\"test RMSE\",\"test R2\",\"train R2\",\"model type\"],[3397,9,103.10418823529412,146.27857001585144,0.7388788815346112,0.9895153125428412,\"SklearnPipeline\"]]},\"header\":{\"align\":\"left\",\"fill\":{\"color\":\"white\"},\"font\":{\"color\":\"black\",\"size\":11},\"line\":{\"color\":\"darkslategray\"},\"values\":[\"<b>index</b>\",\"<b></b>\"]},\"type\":\"table\"}],                        {\"template\":{\"data\":{\"histogram2dcontour\":[{\"type\":\"histogram2dcontour\",\"colorbar\":{\"outlinewidth\":0,\"ticks\":\"\"},\"colorscale\":[[0.0,\"#0d0887\"],[0.1111111111111111,\"#46039f\"],[0.2222222222222222,\"#7201a8\"],[0.3333333333333333,\"#9c179e\"],[0.4444444444444444,\"#bd3786\"],[0.5555555555555556,\"#d8576b\"],[0.6666666666666666,\"#ed7953\"],[0.7777777777777778,\"#fb9f3a\"],[0.8888888888888888,\"#fdca26\"],[1.0,\"#f0f921\"]]}],\"choropleth\":[{\"type\":\"choropleth\",\"colorbar\":{\"outlinewidth\":0,\"ticks\":\"\"}}],\"histogram2d\":[{\"type\":\"histogram2d\",\"colorbar\":{\"outlinewidth\":0,\"ticks\":\"\"},\"colorscale\":[[0.0,\"#0d0887\"],[0.1111111111111111,\"#46039f\"],[0.2222222222222222,\"#7201a8\"],[0.3333333333333333,\"#9c179e\"],[0.4444444444444444,\"#bd3786\"],[0.5555555555555556,\"#d8576b\"],[0.6666666666666666,\"#ed7953\"],[0.7777777777777778,\"#fb9f3a\"],[0.8888888888888888,\"#fdca26\"],[1.0,\"#f0f921\"]]}],\"heatmap\":[{\"type\":\"heatmap\",\"colorbar\":{\"outlinewidth\":0,\"ticks\":\"\"},\"colorscale\":[[0.0,\"#0d0887\"],[0.1111111111111111,\"#46039f\"],[0.2222222222222222,\"#7201a8\"],[0.3333333333333333,\"#9c179e\"],[0.4444444444444444,\"#bd3786\"],[0.5555555555555556,\"#d8576b\"],[0.6666666666666666,\"#ed7953\"],[0.7777777777777778,\"#fb9f3a\"],[0.8888888888888888,\"#fdca26\"],[1.0,\"#f0f921\"]]}],\"heatmapgl\":[{\"type\":\"heatmapgl\",\"colorbar\":{\"outlinewidth\":0,\"ticks\":\"\"},\"colorscale\":[[0.0,\"#0d0887\"],[0.1111111111111111,\"#46039f\"],[0.2222222222222222,\"#7201a8\"],[0.3333333333333333,\"#9c179e\"],[0.4444444444444444,\"#bd3786\"],[0.5555555555555556,\"#d8576b\"],[0.6666666666666666,\"#ed7953\"],[0.7777777777777778,\"#fb9f3a\"],[0.8888888888888888,\"#fdca26\"],[1.0,\"#f0f921\"]]}],\"contourcarpet\":[{\"type\":\"contourcarpet\",\"colorbar\":{\"outlinewidth\":0,\"ticks\":\"\"}}],\"contour\":[{\"type\":\"contour\",\"colorbar\":{\"outlinewidth\":0,\"ticks\":\"\"},\"colorscale\":[[0.0,\"#0d0887\"],[0.1111111111111111,\"#46039f\"],[0.2222222222222222,\"#7201a8\"],[0.3333333333333333,\"#9c179e\"],[0.4444444444444444,\"#bd3786\"],[0.5555555555555556,\"#d8576b\"],[0.6666666666666666,\"#ed7953\"],[0.7777777777777778,\"#fb9f3a\"],[0.8888888888888888,\"#fdca26\"],[1.0,\"#f0f921\"]]}],\"surface\":[{\"type\":\"surface\",\"colorbar\":{\"outlinewidth\":0,\"ticks\":\"\"},\"colorscale\":[[0.0,\"#0d0887\"],[0.1111111111111111,\"#46039f\"],[0.2222222222222222,\"#7201a8\"],[0.3333333333333333,\"#9c179e\"],[0.4444444444444444,\"#bd3786\"],[0.5555555555555556,\"#d8576b\"],[0.6666666666666666,\"#ed7953\"],[0.7777777777777778,\"#fb9f3a\"],[0.8888888888888888,\"#fdca26\"],[1.0,\"#f0f921\"]]}],\"mesh3d\":[{\"type\":\"mesh3d\",\"colorbar\":{\"outlinewidth\":0,\"ticks\":\"\"}}],\"scatter\":[{\"fillpattern\":{\"fillmode\":\"overlay\",\"size\":10,\"solidity\":0.2},\"type\":\"scatter\"}],\"parcoords\":[{\"type\":\"parcoords\",\"line\":{\"colorbar\":{\"outlinewidth\":0,\"ticks\":\"\"}}}],\"scatterpolargl\":[{\"type\":\"scatterpolargl\",\"marker\":{\"colorbar\":{\"outlinewidth\":0,\"ticks\":\"\"}}}],\"bar\":[{\"error_x\":{\"color\":\"#2a3f5f\"},\"error_y\":{\"color\":\"#2a3f5f\"},\"marker\":{\"line\":{\"color\":\"#E5ECF6\",\"width\":0.5},\"pattern\":{\"fillmode\":\"overlay\",\"size\":10,\"solidity\":0.2}},\"type\":\"bar\"}],\"scattergeo\":[{\"type\":\"scattergeo\",\"marker\":{\"colorbar\":{\"outlinewidth\":0,\"ticks\":\"\"}}}],\"scatterpolar\":[{\"type\":\"scatterpolar\",\"marker\":{\"colorbar\":{\"outlinewidth\":0,\"ticks\":\"\"}}}],\"histogram\":[{\"marker\":{\"pattern\":{\"fillmode\":\"overlay\",\"size\":10,\"solidity\":0.2}},\"type\":\"histogram\"}],\"scattergl\":[{\"type\":\"scattergl\",\"marker\":{\"colorbar\":{\"outlinewidth\":0,\"ticks\":\"\"}}}],\"scatter3d\":[{\"type\":\"scatter3d\",\"line\":{\"colorbar\":{\"outlinewidth\":0,\"ticks\":\"\"}},\"marker\":{\"colorbar\":{\"outlinewidth\":0,\"ticks\":\"\"}}}],\"scattermapbox\":[{\"type\":\"scattermapbox\",\"marker\":{\"colorbar\":{\"outlinewidth\":0,\"ticks\":\"\"}}}],\"scatterternary\":[{\"type\":\"scatterternary\",\"marker\":{\"colorbar\":{\"outlinewidth\":0,\"ticks\":\"\"}}}],\"scattercarpet\":[{\"type\":\"scattercarpet\",\"marker\":{\"colorbar\":{\"outlinewidth\":0,\"ticks\":\"\"}}}],\"carpet\":[{\"aaxis\":{\"endlinecolor\":\"#2a3f5f\",\"gridcolor\":\"white\",\"linecolor\":\"white\",\"minorgridcolor\":\"white\",\"startlinecolor\":\"#2a3f5f\"},\"baxis\":{\"endlinecolor\":\"#2a3f5f\",\"gridcolor\":\"white\",\"linecolor\":\"white\",\"minorgridcolor\":\"white\",\"startlinecolor\":\"#2a3f5f\"},\"type\":\"carpet\"}],\"table\":[{\"cells\":{\"fill\":{\"color\":\"#EBF0F8\"},\"line\":{\"color\":\"white\"}},\"header\":{\"fill\":{\"color\":\"#C8D4E3\"},\"line\":{\"color\":\"white\"}},\"type\":\"table\"}],\"barpolar\":[{\"marker\":{\"line\":{\"color\":\"#E5ECF6\",\"width\":0.5},\"pattern\":{\"fillmode\":\"overlay\",\"size\":10,\"solidity\":0.2}},\"type\":\"barpolar\"}],\"pie\":[{\"automargin\":true,\"type\":\"pie\"}]},\"layout\":{\"autotypenumbers\":\"strict\",\"colorway\":[\"#636efa\",\"#EF553B\",\"#00cc96\",\"#ab63fa\",\"#FFA15A\",\"#19d3f3\",\"#FF6692\",\"#B6E880\",\"#FF97FF\",\"#FECB52\"],\"font\":{\"color\":\"#2a3f5f\"},\"hovermode\":\"closest\",\"hoverlabel\":{\"align\":\"left\"},\"paper_bgcolor\":\"white\",\"plot_bgcolor\":\"#E5ECF6\",\"polar\":{\"bgcolor\":\"#E5ECF6\",\"angularaxis\":{\"gridcolor\":\"white\",\"linecolor\":\"white\",\"ticks\":\"\"},\"radialaxis\":{\"gridcolor\":\"white\",\"linecolor\":\"white\",\"ticks\":\"\"}},\"ternary\":{\"bgcolor\":\"#E5ECF6\",\"aaxis\":{\"gridcolor\":\"white\",\"linecolor\":\"white\",\"ticks\":\"\"},\"baxis\":{\"gridcolor\":\"white\",\"linecolor\":\"white\",\"ticks\":\"\"},\"caxis\":{\"gridcolor\":\"white\",\"linecolor\":\"white\",\"ticks\":\"\"}},\"coloraxis\":{\"colorbar\":{\"outlinewidth\":0,\"ticks\":\"\"}},\"colorscale\":{\"sequential\":[[0.0,\"#0d0887\"],[0.1111111111111111,\"#46039f\"],[0.2222222222222222,\"#7201a8\"],[0.3333333333333333,\"#9c179e\"],[0.4444444444444444,\"#bd3786\"],[0.5555555555555556,\"#d8576b\"],[0.6666666666666666,\"#ed7953\"],[0.7777777777777778,\"#fb9f3a\"],[0.8888888888888888,\"#fdca26\"],[1.0,\"#f0f921\"]],\"sequentialminus\":[[0.0,\"#0d0887\"],[0.1111111111111111,\"#46039f\"],[0.2222222222222222,\"#7201a8\"],[0.3333333333333333,\"#9c179e\"],[0.4444444444444444,\"#bd3786\"],[0.5555555555555556,\"#d8576b\"],[0.6666666666666666,\"#ed7953\"],[0.7777777777777778,\"#fb9f3a\"],[0.8888888888888888,\"#fdca26\"],[1.0,\"#f0f921\"]],\"diverging\":[[0,\"#8e0152\"],[0.1,\"#c51b7d\"],[0.2,\"#de77ae\"],[0.3,\"#f1b6da\"],[0.4,\"#fde0ef\"],[0.5,\"#f7f7f7\"],[0.6,\"#e6f5d0\"],[0.7,\"#b8e186\"],[0.8,\"#7fbc41\"],[0.9,\"#4d9221\"],[1,\"#276419\"]]},\"xaxis\":{\"gridcolor\":\"white\",\"linecolor\":\"white\",\"ticks\":\"\",\"title\":{\"standoff\":15},\"zerolinecolor\":\"white\",\"automargin\":true,\"zerolinewidth\":2},\"yaxis\":{\"gridcolor\":\"white\",\"linecolor\":\"white\",\"ticks\":\"\",\"title\":{\"standoff\":15},\"zerolinecolor\":\"white\",\"automargin\":true,\"zerolinewidth\":2},\"scene\":{\"xaxis\":{\"backgroundcolor\":\"#E5ECF6\",\"gridcolor\":\"white\",\"linecolor\":\"white\",\"showbackground\":true,\"ticks\":\"\",\"zerolinecolor\":\"white\",\"gridwidth\":2},\"yaxis\":{\"backgroundcolor\":\"#E5ECF6\",\"gridcolor\":\"white\",\"linecolor\":\"white\",\"showbackground\":true,\"ticks\":\"\",\"zerolinecolor\":\"white\",\"gridwidth\":2},\"zaxis\":{\"backgroundcolor\":\"#E5ECF6\",\"gridcolor\":\"white\",\"linecolor\":\"white\",\"showbackground\":true,\"ticks\":\"\",\"zerolinecolor\":\"white\",\"gridwidth\":2}},\"shapedefaults\":{\"line\":{\"color\":\"#2a3f5f\"}},\"annotationdefaults\":{\"arrowcolor\":\"#2a3f5f\",\"arrowhead\":0,\"arrowwidth\":1},\"geo\":{\"bgcolor\":\"white\",\"landcolor\":\"#E5ECF6\",\"subunitcolor\":\"white\",\"showland\":true,\"showlakes\":true,\"lakecolor\":\"white\"},\"title\":{\"x\":0.05},\"mapbox\":{\"style\":\"light\"}}},\"title\":{\"text\":\"Model summary\",\"x\":0}},                        {\"responsive\": true}                    ).then(function(){\n                            \nvar gd = document.getElementById('ae7b15aa-663c-4a02-b08e-c40fc315bac6');\nvar x = new MutationObserver(function (mutations, observer) {{\n        var display = window.getComputedStyle(gd).display;\n        if (!display || display === 'none') {{\n            console.log([gd, 'removed!']);\n            Plotly.purge(gd);\n            observer.disconnect();\n        }}\n}});\n\n// Listen for the removal of the full notebook cells\nvar notebookContainer = gd.closest('#notebook-container');\nif (notebookContainer) {{\n    x.observe(notebookContainer, {childList: true});\n}}\n\n// Listen for the clearing of the current output cell\nvar outputEl = gd.closest('.output');\nif (outputEl) {{\n    x.observe(outputEl, {childList: true});\n}}\n\n                        })                };                });            </script>        </div>"
         },
         "metadata": {},
         "output_type": "display_data"
        }
       ],
       "tabbable": null,
       "tooltip": null
      }
     },
     "807ca980df7346ef84b91dfb5241f60c": {
      "model_module": "@jupyter-widgets/base",
      "model_module_version": "2.0.0",
      "model_name": "LayoutModel",
      "state": {
       "_model_module_version": "2.0.0",
       "_view_module_version": "2.0.0",
       "border_bottom": null,
       "border_left": null,
       "border_right": null,
       "border_top": null
      }
     },
     "99a684988a91489393aacdbb45a0fb62": {
      "model_module": "@jupyter-widgets/base",
      "model_module_version": "2.0.0",
      "model_name": "LayoutModel",
      "state": {
       "_model_module_version": "2.0.0",
       "_view_module_version": "2.0.0",
       "border_bottom": null,
       "border_left": null,
       "border_right": null,
       "border_top": null
      }
     },
     "a50e9412e3f242adb71549ae52a5f107": {
      "model_module": "@jupyter-widgets/controls",
      "model_module_version": "2.0.0",
      "model_name": "DropdownModel",
      "state": {
       "_model_module_version": "2.0.0",
       "_options_labels": [
        "model_summary",
        "sklearn_model",
        "performance_train_metrics",
        "performance_test_metrics",
        "feature_importance_plot",
        "partial_dependence_plot",
        "train_timeline",
        "test_timeline",
        "model_actual_vs_predicted",
        "model_actual_vs_residual"
       ],
       "_view_module_version": "2.0.0",
       "description": "plot_name",
       "description_allow_html": false,
       "index": 8,
       "layout": "IPY_MODEL_99a684988a91489393aacdbb45a0fb62",
       "style": "IPY_MODEL_6514b2ad5b324c18bb9ef95d793db3a5",
       "tabbable": null,
       "tooltip": null
      }
     },
     "c2af242ec11a48e49cb25c30b841e46e": {
      "model_module": "@jupyter-widgets/controls",
      "model_module_version": "2.0.0",
      "model_name": "DescriptionStyleModel",
      "state": {
       "_model_module_version": "2.0.0",
       "_view_module_version": "2.0.0",
       "description_width": ""
      }
     },
     "c812a390d1bc48cda25ea2e9af466257": {
      "model_module": "@jupyter-widgets/base",
      "model_module_version": "2.0.0",
      "model_name": "LayoutModel",
      "state": {
       "_model_module_version": "2.0.0",
       "_view_module_version": "2.0.0",
       "border_bottom": null,
       "border_left": null,
       "border_right": null,
       "border_top": null
      }
     },
     "d50a1508f54b42fe80030efb12d54ecf": {
      "model_module": "@jupyter-widgets/output",
      "model_module_version": "1.0.0",
      "model_name": "OutputModel",
      "state": {
       "layout": "IPY_MODEL_0d32eb2eb4ca4127b49ef610294a8d6f",
       "outputs": [
        {
         "data": {
          "application/vnd.plotly.v1+json": {
           "config": {
            "plotlyServerURL": "https://plot.ly"
           },
           "data": [
            {
             "hovertemplate": "outp_quantity=%{x}<br>prediction=%{y}<extra></extra>",
             "legendgroup": "",
             "marker": {
              "color": "#9267D3",
              "symbol": "circle"
             },
             "mode": "markers",
             "name": "",
             "orientation": "v",
             "showlegend": false,
             "type": "scatter",
             "x": [
              699,
              646,
              697,
              680,
              692,
              734,
              708,
              726,
              711,
              710,
              935,
              937,
              943,
              950,
              928,
              920,
              1030,
              1044,
              1076,
              1061,
              1067,
              1047,
              992,
              928,
              904,
              924,
              923,
              926,
              892,
              923,
              894,
              878,
              893,
              937,
              962,
              951,
              946,
              947,
              957,
              961,
              591,
              410,
              335,
              289,
              284,
              263,
              409,
              570,
              598,
              566,
              597,
              603,
              893,
              965,
              946,
              954,
              969,
              984,
              714,
              602,
              610,
              570,
              587,
              604,
              740,
              779,
              795,
              821,
              800,
              827,
              14,
              0,
              0,
              0,
              0,
              0,
              0,
              0,
              0,
              0,
              0,
              0,
              935,
              949,
              914,
              946,
              952,
              936,
              898,
              914,
              912,
              905,
              935,
              931,
              954,
              971,
              960,
              982,
              962,
              1009,
              951,
              919,
              888,
              899,
              879,
              921,
              824,
              763,
              804,
              765,
              779,
              767,
              918,
              926,
              931,
              879,
              924,
              907,
              818,
              831,
              824,
              848,
              803,
              816,
              828,
              829,
              842,
              838,
              821,
              821,
              842,
              820,
              784,
              786,
              786,
              777,
              523,
              378,
              356,
              318,
              291,
              298,
              357,
              406,
              389,
              379,
              387,
              398,
              768,
              955,
              971,
              955,
              939,
              954,
              1056,
              1068,
              1031,
              1069,
              1042,
              1059,
              983,
              973,
              948,
              956,
              965,
              948,
              818,
              770,
              819,
              792,
              776,
              818,
              749,
              735,
              728,
              756,
              738,
              756,
              884,
              945,
              940,
              937,
              956,
              938,
              697,
              495,
              465,
              397,
              419,
              392,
              659,
              805,
              777,
              759,
              800,
              807,
              956,
              1022,
              999,
              988,
              1015,
              1007,
              903,
              810,
              798,
              779,
              749,
              775,
              873,
              897,
              898,
              896,
              927,
              866,
              887,
              899,
              892,
              919,
              886,
              921,
              807,
              841,
              823,
              851,
              797,
              812,
              659,
              468,
              431,
              371,
              374,
              358,
              751,
              835,
              906,
              875,
              886,
              903,
              15,
              0,
              0,
              0,
              0,
              0,
              0,
              0,
              0,
              0,
              0,
              0,
              706,
              695,
              715,
              703,
              632,
              707,
              829,
              843,
              813,
              801,
              819,
              821,
              900,
              945,
              925,
              980,
              931,
              939,
              854,
              829,
              857,
              883,
              878,
              864,
              957,
              995,
              1033,
              1005,
              996,
              1000,
              1050,
              1077,
              1076,
              1078,
              1096,
              1082,
              843,
              763,
              781,
              798,
              793,
              766,
              997,
              1070,
              1059,
              1075,
              1054,
              1058,
              888,
              732,
              715,
              713,
              711,
              698,
              709,
              717,
              737,
              695,
              690,
              739,
              973,
              1080,
              1063,
              1055,
              1076,
              1079,
              837,
              721,
              667,
              663,
              628,
              652,
              959,
              1061,
              1063,
              1051,
              1103,
              1095,
              926,
              906,
              900,
              865,
              894,
              857,
              1035,
              1085,
              1077,
              1081,
              1070,
              1095,
              862,
              794,
              795,
              806,
              793,
              784,
              1035,
              1048,
              1030,
              1045,
              1027,
              1040,
              869,
              828,
              824,
              866,
              831,
              833,
              942,
              970,
              984,
              993,
              956,
              987,
              1048,
              1073,
              1034,
              1040,
              1039,
              1036,
              944,
              917,
              890,
              899,
              895,
              927,
              983,
              947,
              983,
              987,
              966,
              985,
              1076,
              1063,
              1079,
              1100,
              1111,
              1094,
              1007,
              967,
              956,
              952,
              939,
              960,
              924,
              908,
              905,
              900,
              896,
              950,
              1050,
              1039,
              1021,
              1037,
              1025,
              1020,
              22,
              0,
              0,
              0,
              0,
              0,
              0,
              0,
              0,
              0,
              0,
              0,
              1068,
              1098,
              1112,
              1094,
              1098,
              1115,
              954,
              901,
              911,
              905,
              913,
              922,
              1043,
              1077,
              1073,
              1081,
              1065,
              1056,
              1067,
              1077,
              1058,
              1070,
              1032,
              1052,
              940,
              884,
              888,
              874,
              872,
              863,
              1019,
              1053,
              1036,
              1070,
              1031,
              1045,
              928,
              873,
              876,
              891,
              872,
              913,
              891,
              929,
              891,
              931,
              940,
              932,
              891,
              723,
              694,
              706,
              667,
              664,
              947,
              981,
              997,
              990,
              976,
              971,
              867,
              877,
              863,
              901,
              876,
              867,
              1029,
              1015,
              985,
              1011,
              1042,
              1032,
              1051,
              1046,
              1041,
              1042,
              1070,
              1043,
              900,
              783,
              826,
              794,
              734,
              752,
              1035,
              1100,
              1101,
              1051,
              1108,
              1109,
              970,
              913,
              966,
              924,
              935,
              932,
              1066,
              1065,
              1080,
              1069,
              1069,
              1073,
              965,
              928,
              901,
              849,
              903,
              915,
              1017,
              1027,
              991,
              1003,
              1037,
              1003,
              1024,
              1064,
              1079,
              1081,
              1065,
              1063,
              1018,
              1023,
              1032,
              992,
              1019,
              996,
              775,
              683,
              697,
              667,
              661,
              645,
              993,
              1058,
              1090,
              1071,
              1081,
              1087,
              1055,
              1086,
              1107,
              1085,
              1049,
              1074,
              1034,
              1036,
              997,
              1012,
              995,
              958,
              844,
              785,
              812,
              826,
              776,
              798,
              10,
              0,
              0,
              0,
              0,
              0,
              0,
              0,
              0,
              0,
              0,
              0,
              1038,
              1096,
              1083,
              1149,
              1091,
              1125,
              1125,
              1106,
              1117,
              1114,
              1119,
              1135,
              1078,
              1090,
              1101,
              1068,
              1096,
              1082,
              989,
              963,
              975,
              970,
              986,
              973,
              1027,
              1055,
              1053,
              1041,
              1036,
              1017,
              1101,
              1131,
              1147,
              1087,
              1139,
              1144,
              943,
              870,
              861,
              885,
              849,
              869,
              878,
              884,
              860,
              877,
              868,
              849,
              991,
              1000,
              978,
              988,
              1017,
              956,
              764,
              691,
              664,
              667,
              659,
              646,
              1053,
              1114,
              1144,
              1153,
              1116,
              1122,
              1113,
              1124,
              1100,
              1105,
              1111,
              1101,
              1142,
              1083,
              1115,
              1110,
              1119,
              1106,
              1036,
              974,
              1006,
              1018,
              972,
              991,
              925,
              931,
              909,
              884,
              895,
              866,
              874,
              913,
              928,
              940,
              913,
              926,
              849,
              770,
              736,
              805,
              749,
              719,
              922,
              990,
              982,
              982,
              981,
              993,
              1094,
              1114,
              1121,
              1137,
              1095,
              1114,
              1072,
              1059,
              1053,
              1047,
              1041,
              1034,
              1039,
              1026,
              1048,
              1073,
              1044,
              1038,
              936,
              938,
              925,
              953,
              928,
              945,
              984,
              995,
              1004,
              1005,
              1025,
              1009,
              1025,
              1042,
              1057,
              1018,
              1078,
              1045,
              875,
              846,
              839,
              799,
              804,
              795,
              974,
              1002,
              964,
              999,
              1000,
              1013,
              15,
              0,
              0,
              0,
              0,
              0,
              0,
              0,
              0,
              0,
              0,
              0,
              1096,
              1147,
              1134,
              1138,
              1141,
              1147,
              1085,
              1082,
              1084,
              1100,
              1074,
              1068,
              1023,
              1015,
              1012,
              1002,
              967,
              979,
              989,
              982,
              944,
              983,
              965,
              969,
              1124,
              1120,
              1129,
              1137,
              1122,
              1119,
              1114,
              1156,
              1119,
              1142,
              1110,
              1116,
              981,
              939,
              960,
              954,
              926,
              934,
              1056,
              1108,
              1076,
              1095,
              1069,
              1074,
              945,
              804,
              759,
              761,
              773,
              798,
              974,
              1001,
              1038,
              1050,
              1029,
              1054,
              1044,
              1133,
              1105,
              1097,
              1116,
              1118,
              1087,
              1084,
              1084,
              1063,
              1059,
              1083,
              1064,
              1073,
              1070,
              1066,
              1067,
              1078,
              1117,
              1094,
              1104,
              1068,
              1088,
              1115,
              1081,
              1084,
              1081,
              1069,
              1091,
              1096,
              899,
              781,
              765,
              749,
              741,
              176
             ],
             "xaxis": "x",
             "y": [
              648.58,
              678.47,
              689.1,
              675.92,
              620.38,
              673.78,
              621.08,
              633.33,
              677.92,
              747.23,
              923.57,
              932.75,
              947.26,
              925.31,
              925.42,
              992.23,
              1020.61,
              1036.17,
              1035.29,
              1039.28,
              1021.26,
              989.09,
              931.58,
              912.85,
              923.52,
              924.84,
              931.58,
              905.9,
              873.11,
              870.59,
              857.23,
              871.78,
              854.47,
              867.03,
              969.96,
              965.91,
              975.84,
              967.96,
              979.31,
              706.57,
              483.7,
              439.42,
              425.29,
              413.42,
              414.81,
              452.23,
              640.15,
              663.1,
              620.89,
              641.75,
              664.49,
              581.94,
              979.61,
              957.56,
              989.64,
              976.57,
              963.93,
              866.3,
              641.06,
              638.59,
              631.59,
              648.56,
              666.03,
              532.06,
              848.87,
              733.1,
              640.6,
              676.6,
              572.39,
              667.89,
              8.34,
              8.15,
              0.13,
              0.13,
              0.13,
              0.13,
              0.13,
              0.13,
              0.13,
              0.13,
              0.13,
              76.67,
              967.92,
              933.75,
              970.63,
              967.8,
              941.03,
              903.95,
              925.98,
              929.38,
              752.93,
              886.74,
              875.66,
              870.98,
              1002.52,
              969.57,
              981.77,
              982.14,
              966.73,
              980.29,
              872.84,
              838.16,
              842.56,
              830.02,
              860.55,
              916.77,
              822.05,
              685.19,
              830.43,
              776.26,
              777.87,
              638.34,
              905.9,
              953.44,
              921.42,
              949.51,
              899.25,
              860.99,
              903.29,
              854.31,
              916.28,
              845.6,
              895.63,
              875.82,
              807.61,
              859.25,
              826.03,
              855.83,
              831.94,
              831.91,
              847.26,
              771.91,
              790.25,
              768.02,
              764.9,
              492.81,
              398.76,
              436.74,
              379.52,
              327.83,
              382,
              424.93,
              438.08,
              418.19,
              403.99,
              466.04,
              487.61,
              843.69,
              943.08,
              982.22,
              969.8,
              960,
              934.44,
              1021.89,
              1051.28,
              982.33,
              1044.84,
              1043.03,
              1003.34,
              972.58,
              958.34,
              964.68,
              963.29,
              955,
              950.15,
              919.73,
              845.83,
              685.74,
              838.67,
              848.22,
              687.01,
              833.54,
              842.58,
              848.49,
              854.48,
              843.77,
              842.73,
              596.17,
              815.74,
              876.38,
              875.23,
              885.09,
              890.23,
              728.44,
              531.11,
              432.22,
              477.12,
              468.29,
              448.85,
              479.7,
              803.53,
              864.54,
              864.99,
              873.67,
              784.52,
              861.42,
              978.58,
              966.43,
              951.32,
              948.87,
              961.95,
              730.19,
              768.79,
              780.85,
              862.81,
              850.05,
              862.53,
              629.55,
              666.12,
              728.56,
              719.51,
              928.22,
              667.63,
              762.12,
              704.19,
              732.04,
              816.68,
              772.31,
              855.5,
              802.86,
              670.88,
              673.3,
              659.09,
              639.95,
              696.31,
              728.62,
              477.09,
              424.1,
              424.04,
              424.71,
              449.04,
              335.04,
              761.8,
              720.59,
              719.98,
              780.98,
              809.05,
              913.64,
              9.04,
              12.38,
              0,
              0,
              0,
              0,
              0,
              0,
              0,
              0,
              0,
              22.18,
              612.92,
              604.52,
              561.74,
              576.6,
              610.41,
              583.79,
              756.41,
              774.58,
              793.59,
              773.74,
              800.28,
              704.21,
              941.25,
              871.15,
              940.62,
              916.69,
              921.9,
              730.39,
              601.53,
              601.95,
              624.31,
              615.03,
              635.27,
              792.43,
              972.38,
              986.9,
              979.76,
              961.68,
              962.98,
              1003.16,
              1045.65,
              1040.18,
              1047.45,
              1037.43,
              1040.82,
              745.69,
              566.61,
              567.42,
              577.09,
              600.73,
              595.97,
              879.71,
              1049.29,
              1037.5,
              1042.43,
              1050.89,
              1044.94,
              679.55,
              815.79,
              743.49,
              733.7,
              781.69,
              745.34,
              625.65,
              588.52,
              636.03,
              489.49,
              501.36,
              639.65,
              763.23,
              1038.75,
              1047.23,
              1022.88,
              1042.4,
              1049.34,
              743.48,
              489.09,
              488.54,
              476.76,
              637.11,
              502.56,
              795.13,
              1049.29,
              1046.86,
              1044.5,
              1047.16,
              1042.19,
              955.76,
              621.03,
              654.3,
              666.79,
              659.28,
              621.39,
              880.18,
              1033.54,
              1040.4,
              1043.73,
              1039.01,
              1030.71,
              700.43,
              582.74,
              601.22,
              643.25,
              571.09,
              565.24,
              903.5,
              1042.53,
              993.47,
              1008.32,
              1010.87,
              1020.28,
              670.47,
              586.2,
              569.95,
              549.05,
              559.3,
              547.57,
              779.94,
              885.77,
              877.87,
              880.22,
              877.43,
              885.5,
              929.99,
              1036.56,
              1000.24,
              1002.31,
              1036.69,
              1001.48,
              936,
              677.97,
              556.34,
              637.91,
              627.85,
              796.56,
              837.19,
              937.36,
              940.64,
              922.69,
              934.59,
              944.07,
              1037.25,
              1036.92,
              1039.39,
              1040.67,
              1035.53,
              1039.02,
              971.6,
              857.03,
              853.23,
              867.91,
              840.19,
              860.04,
              839.29,
              594.5,
              500.32,
              598.73,
              598.73,
              823.18,
              924.53,
              995.51,
              971.94,
              994.35,
              985.57,
              983.3,
              912.33,
              8.28,
              8.76,
              0.13,
              0.13,
              0.13,
              0.13,
              0.13,
              0.13,
              0.13,
              0.13,
              0.13,
              403.94,
              1035.56,
              1041.72,
              1032.13,
              1045.02,
              1040.96,
              949.93,
              604.25,
              554.73,
              529.95,
              597.91,
              704.38,
              949.07,
              1029.1,
              1020.54,
              1024.03,
              1026.63,
              1010.51,
              1005.25,
              1023.46,
              1029.43,
              1022.16,
              1002.67,
              1009.54,
              953.86,
              592.4,
              603.02,
              581.55,
              549.73,
              558.86,
              866.56,
              1014.54,
              1046.71,
              1046.61,
              989.13,
              1009.05,
              924.22,
              552.5,
              562.08,
              585.13,
              577.58,
              613.28,
              558.01,
              778.76,
              642.07,
              789.46,
              795.19,
              806.6,
              535.9,
              816.36,
              625.18,
              732.88,
              704.2,
              721.82,
              705.46,
              971.5,
              855.88,
              839.25,
              814.64,
              803.43,
              678.92,
              609.75,
              624.01,
              607.42,
              624.87,
              581.82,
              903.17,
              1014.68,
              966.45,
              1012.18,
              1003.34,
              1005.35,
              1011.57,
              1044.77,
              1015.63,
              1009.96,
              1029.22,
              1004.84,
              741.9,
              847.16,
              645.88,
              584.66,
              816.48,
              857.92,
              954.38,
              1030.39,
              1038.49,
              1042.45,
              1037.93,
              1039.57,
              951.86,
              627.07,
              796.47,
              782.5,
              770.35,
              768.71,
              943.54,
              1038.96,
              1035.53,
              1035.03,
              1033.33,
              1037.12,
              962.27,
              761.33,
              592.19,
              594.31,
              549.46,
              575.11,
              884.62,
              999.78,
              931.02,
              961.55,
              1000.96,
              963.88,
              1007.82,
              1041.86,
              1043.14,
              1042.87,
              1019.08,
              1031.34,
              977.12,
              961.63,
              998.72,
              955.23,
              983.9,
              985.63,
              864.23,
              283.41,
              266.88,
              289.59,
              306.56,
              266.51,
              826.83,
              1047.39,
              1040.85,
              1007.07,
              1041.66,
              1042.93,
              1052.21,
              1044.63,
              1040.93,
              1032.78,
              1016.26,
              1044.42,
              1013.87,
              1009.04,
              969.19,
              1009.74,
              968.53,
              945.88,
              710.97,
              648.59,
              623.23,
              637.58,
              492.16,
              557.85,
              650.5,
              7.52,
              10.28,
              0.13,
              0.13,
              0.13,
              0.13,
              0.13,
              0.13,
              0.13,
              0.13,
              0.13,
              394.92,
              1046.38,
              1037.18,
              1039.48,
              1038.95,
              1039.26,
              1040.64,
              1039.29,
              1041.97,
              1032.99,
              1037.67,
              1031.34,
              1047.77,
              1027.87,
              1024.5,
              1026.06,
              1024.43,
              1024.9,
              962.25,
              782.96,
              791.9,
              792.19,
              853.65,
              788.77,
              902.15,
              1003.36,
              993.67,
              1005.73,
              1005.7,
              950.46,
              1022.55,
              1041.75,
              1040.39,
              1035.38,
              1041.17,
              1043.14,
              971.25,
              564.46,
              566.97,
              585.22,
              579.33,
              546.53,
              550.41,
              560.6,
              562.64,
              559.6,
              577.53,
              570.81,
              853.82,
              838.67,
              835.74,
              818.52,
              837.42,
              928.07,
              869.65,
              361.23,
              371.42,
              356.98,
              368.15,
              381.46,
              786.81,
              1036.72,
              1048.02,
              1033.56,
              1042.95,
              1045.27,
              1047.19,
              1035.33,
              1040.05,
              1043.03,
              1038.09,
              1037.03,
              1040.47,
              1025.47,
              1015.61,
              1028.05,
              1028.14,
              1029.43,
              1006.83,
              846.87,
              904.89,
              922.09,
              893.03,
              890.53,
              847.07,
              759.46,
              580.56,
              556.71,
              545,
              588.76,
              576.04,
              629.56,
              734.17,
              750.42,
              600.6,
              735.76,
              582.34,
              411.58,
              427.6,
              648.79,
              430.49,
              426.54,
              616.61,
              921.03,
              837.71,
              838.66,
              838.35,
              891.39,
              976.74,
              1017.87,
              1019.57,
              1031.14,
              1027.91,
              1016.35,
              1028.88,
              1031.29,
              1003.9,
              992.86,
              995.47,
              1004.06,
              1004.29,
              894.9,
              930.31,
              929.33,
              948.77,
              926.02,
              856.43,
              734.17,
              630.99,
              746.59,
              731.41,
              756.39,
              823.64,
              795.74,
              854.7,
              863.63,
              907.52,
              878.13,
              919.1,
              924.52,
              981.92,
              930.57,
              983.83,
              911.66,
              698.31,
              610.34,
              611.59,
              589.21,
              612.23,
              615.06,
              748.98,
              901.89,
              847.75,
              906.41,
              904.21,
              928.69,
              904.46,
              8.16,
              8.47,
              0.13,
              0.13,
              0.13,
              0.13,
              0.13,
              0.13,
              0.13,
              0.13,
              0.13,
              280.36,
              1028.52,
              1032.96,
              1034.81,
              1033.89,
              1027.37,
              1032.3,
              1038.38,
              1038.76,
              1038.98,
              1033.72,
              1026.76,
              952.92,
              897.06,
              896.51,
              844.5,
              861.1,
              862.38,
              864.01,
              895.75,
              829.79,
              839.33,
              823.94,
              833.91,
              976.56,
              1030.43,
              1026.86,
              1031.28,
              1023.3,
              1029.68,
              1021.19,
              1035.41,
              1035.7,
              1036.25,
              1035.29,
              1034.85,
              960.31,
              794.71,
              832.96,
              831.3,
              646.82,
              810.4,
              957.68,
              1029.62,
              1035.19,
              1029.85,
              1032.26,
              1026.65,
              953.99,
              626.72,
              440.1,
              425.21,
              474.81,
              605.75,
              790.66,
              834.33,
              1011.6,
              1011.66,
              1019.78,
              1009.55,
              1005.74,
              1040.13,
              1037.23,
              1035.64,
              1044,
              1042.9,
              1044.04,
              1035.16,
              1036.13,
              1036.12,
              1003.84,
              1033.03,
              1008.12,
              1028.96,
              1037.14,
              1037.62,
              1040.17,
              1036.04,
              1033.81,
              1026.42,
              1021.43,
              1026.21,
              1028.8,
              1025.27,
              1017.67,
              1024.54,
              1017.12,
              999.18,
              1017.85,
              1029.04,
              816.46,
              325.72,
              327.3,
              322.57,
              352.28,
              542.63,
              130.63
             ],
             "yaxis": "y"
            }
           ],
           "layout": {
            "shapes": [
             {
              "line": {
               "dash": "dot"
              },
              "type": "line",
              "x0": 0,
              "x1": 1156,
              "xref": "x",
              "y0": 0,
              "y1": 1156,
              "yref": "y"
             }
            ],
            "template": {
             "data": {
              "bar": [
               {
                "error_x": {
                 "color": "#2a3f5f"
                },
                "error_y": {
                 "color": "#2a3f5f"
                },
                "marker": {
                 "line": {
                  "color": "#E5ECF6",
                  "width": 0.5
                 },
                 "pattern": {
                  "fillmode": "overlay",
                  "size": 10,
                  "solidity": 0.2
                 }
                },
                "type": "bar"
               }
              ],
              "barpolar": [
               {
                "marker": {
                 "line": {
                  "color": "#E5ECF6",
                  "width": 0.5
                 },
                 "pattern": {
                  "fillmode": "overlay",
                  "size": 10,
                  "solidity": 0.2
                 }
                },
                "type": "barpolar"
               }
              ],
              "carpet": [
               {
                "aaxis": {
                 "endlinecolor": "#2a3f5f",
                 "gridcolor": "white",
                 "linecolor": "white",
                 "minorgridcolor": "white",
                 "startlinecolor": "#2a3f5f"
                },
                "baxis": {
                 "endlinecolor": "#2a3f5f",
                 "gridcolor": "white",
                 "linecolor": "white",
                 "minorgridcolor": "white",
                 "startlinecolor": "#2a3f5f"
                },
                "type": "carpet"
               }
              ],
              "choropleth": [
               {
                "colorbar": {
                 "outlinewidth": 0,
                 "ticks": ""
                },
                "type": "choropleth"
               }
              ],
              "contour": [
               {
                "colorbar": {
                 "outlinewidth": 0,
                 "ticks": ""
                },
                "colorscale": [
                 [
                  0,
                  "#0d0887"
                 ],
                 [
                  0.1111111111111111,
                  "#46039f"
                 ],
                 [
                  0.2222222222222222,
                  "#7201a8"
                 ],
                 [
                  0.3333333333333333,
                  "#9c179e"
                 ],
                 [
                  0.4444444444444444,
                  "#bd3786"
                 ],
                 [
                  0.5555555555555556,
                  "#d8576b"
                 ],
                 [
                  0.6666666666666666,
                  "#ed7953"
                 ],
                 [
                  0.7777777777777778,
                  "#fb9f3a"
                 ],
                 [
                  0.8888888888888888,
                  "#fdca26"
                 ],
                 [
                  1,
                  "#f0f921"
                 ]
                ],
                "type": "contour"
               }
              ],
              "contourcarpet": [
               {
                "colorbar": {
                 "outlinewidth": 0,
                 "ticks": ""
                },
                "type": "contourcarpet"
               }
              ],
              "heatmap": [
               {
                "colorbar": {
                 "outlinewidth": 0,
                 "ticks": ""
                },
                "colorscale": [
                 [
                  0,
                  "#0d0887"
                 ],
                 [
                  0.1111111111111111,
                  "#46039f"
                 ],
                 [
                  0.2222222222222222,
                  "#7201a8"
                 ],
                 [
                  0.3333333333333333,
                  "#9c179e"
                 ],
                 [
                  0.4444444444444444,
                  "#bd3786"
                 ],
                 [
                  0.5555555555555556,
                  "#d8576b"
                 ],
                 [
                  0.6666666666666666,
                  "#ed7953"
                 ],
                 [
                  0.7777777777777778,
                  "#fb9f3a"
                 ],
                 [
                  0.8888888888888888,
                  "#fdca26"
                 ],
                 [
                  1,
                  "#f0f921"
                 ]
                ],
                "type": "heatmap"
               }
              ],
              "heatmapgl": [
               {
                "colorbar": {
                 "outlinewidth": 0,
                 "ticks": ""
                },
                "colorscale": [
                 [
                  0,
                  "#0d0887"
                 ],
                 [
                  0.1111111111111111,
                  "#46039f"
                 ],
                 [
                  0.2222222222222222,
                  "#7201a8"
                 ],
                 [
                  0.3333333333333333,
                  "#9c179e"
                 ],
                 [
                  0.4444444444444444,
                  "#bd3786"
                 ],
                 [
                  0.5555555555555556,
                  "#d8576b"
                 ],
                 [
                  0.6666666666666666,
                  "#ed7953"
                 ],
                 [
                  0.7777777777777778,
                  "#fb9f3a"
                 ],
                 [
                  0.8888888888888888,
                  "#fdca26"
                 ],
                 [
                  1,
                  "#f0f921"
                 ]
                ],
                "type": "heatmapgl"
               }
              ],
              "histogram": [
               {
                "marker": {
                 "pattern": {
                  "fillmode": "overlay",
                  "size": 10,
                  "solidity": 0.2
                 }
                },
                "type": "histogram"
               }
              ],
              "histogram2d": [
               {
                "colorbar": {
                 "outlinewidth": 0,
                 "ticks": ""
                },
                "colorscale": [
                 [
                  0,
                  "#0d0887"
                 ],
                 [
                  0.1111111111111111,
                  "#46039f"
                 ],
                 [
                  0.2222222222222222,
                  "#7201a8"
                 ],
                 [
                  0.3333333333333333,
                  "#9c179e"
                 ],
                 [
                  0.4444444444444444,
                  "#bd3786"
                 ],
                 [
                  0.5555555555555556,
                  "#d8576b"
                 ],
                 [
                  0.6666666666666666,
                  "#ed7953"
                 ],
                 [
                  0.7777777777777778,
                  "#fb9f3a"
                 ],
                 [
                  0.8888888888888888,
                  "#fdca26"
                 ],
                 [
                  1,
                  "#f0f921"
                 ]
                ],
                "type": "histogram2d"
               }
              ],
              "histogram2dcontour": [
               {
                "colorbar": {
                 "outlinewidth": 0,
                 "ticks": ""
                },
                "colorscale": [
                 [
                  0,
                  "#0d0887"
                 ],
                 [
                  0.1111111111111111,
                  "#46039f"
                 ],
                 [
                  0.2222222222222222,
                  "#7201a8"
                 ],
                 [
                  0.3333333333333333,
                  "#9c179e"
                 ],
                 [
                  0.4444444444444444,
                  "#bd3786"
                 ],
                 [
                  0.5555555555555556,
                  "#d8576b"
                 ],
                 [
                  0.6666666666666666,
                  "#ed7953"
                 ],
                 [
                  0.7777777777777778,
                  "#fb9f3a"
                 ],
                 [
                  0.8888888888888888,
                  "#fdca26"
                 ],
                 [
                  1,
                  "#f0f921"
                 ]
                ],
                "type": "histogram2dcontour"
               }
              ],
              "mesh3d": [
               {
                "colorbar": {
                 "outlinewidth": 0,
                 "ticks": ""
                },
                "type": "mesh3d"
               }
              ],
              "parcoords": [
               {
                "line": {
                 "colorbar": {
                  "outlinewidth": 0,
                  "ticks": ""
                 }
                },
                "type": "parcoords"
               }
              ],
              "pie": [
               {
                "automargin": true,
                "type": "pie"
               }
              ],
              "scatter": [
               {
                "fillpattern": {
                 "fillmode": "overlay",
                 "size": 10,
                 "solidity": 0.2
                },
                "type": "scatter"
               }
              ],
              "scatter3d": [
               {
                "line": {
                 "colorbar": {
                  "outlinewidth": 0,
                  "ticks": ""
                 }
                },
                "marker": {
                 "colorbar": {
                  "outlinewidth": 0,
                  "ticks": ""
                 }
                },
                "type": "scatter3d"
               }
              ],
              "scattercarpet": [
               {
                "marker": {
                 "colorbar": {
                  "outlinewidth": 0,
                  "ticks": ""
                 }
                },
                "type": "scattercarpet"
               }
              ],
              "scattergeo": [
               {
                "marker": {
                 "colorbar": {
                  "outlinewidth": 0,
                  "ticks": ""
                 }
                },
                "type": "scattergeo"
               }
              ],
              "scattergl": [
               {
                "marker": {
                 "colorbar": {
                  "outlinewidth": 0,
                  "ticks": ""
                 }
                },
                "type": "scattergl"
               }
              ],
              "scattermapbox": [
               {
                "marker": {
                 "colorbar": {
                  "outlinewidth": 0,
                  "ticks": ""
                 }
                },
                "type": "scattermapbox"
               }
              ],
              "scatterpolar": [
               {
                "marker": {
                 "colorbar": {
                  "outlinewidth": 0,
                  "ticks": ""
                 }
                },
                "type": "scatterpolar"
               }
              ],
              "scatterpolargl": [
               {
                "marker": {
                 "colorbar": {
                  "outlinewidth": 0,
                  "ticks": ""
                 }
                },
                "type": "scatterpolargl"
               }
              ],
              "scatterternary": [
               {
                "marker": {
                 "colorbar": {
                  "outlinewidth": 0,
                  "ticks": ""
                 }
                },
                "type": "scatterternary"
               }
              ],
              "surface": [
               {
                "colorbar": {
                 "outlinewidth": 0,
                 "ticks": ""
                },
                "colorscale": [
                 [
                  0,
                  "#0d0887"
                 ],
                 [
                  0.1111111111111111,
                  "#46039f"
                 ],
                 [
                  0.2222222222222222,
                  "#7201a8"
                 ],
                 [
                  0.3333333333333333,
                  "#9c179e"
                 ],
                 [
                  0.4444444444444444,
                  "#bd3786"
                 ],
                 [
                  0.5555555555555556,
                  "#d8576b"
                 ],
                 [
                  0.6666666666666666,
                  "#ed7953"
                 ],
                 [
                  0.7777777777777778,
                  "#fb9f3a"
                 ],
                 [
                  0.8888888888888888,
                  "#fdca26"
                 ],
                 [
                  1,
                  "#f0f921"
                 ]
                ],
                "type": "surface"
               }
              ],
              "table": [
               {
                "cells": {
                 "fill": {
                  "color": "#EBF0F8"
                 },
                 "line": {
                  "color": "white"
                 }
                },
                "header": {
                 "fill": {
                  "color": "#C8D4E3"
                 },
                 "line": {
                  "color": "white"
                 }
                },
                "type": "table"
               }
              ]
             },
             "layout": {
              "annotationdefaults": {
               "arrowcolor": "#2a3f5f",
               "arrowhead": 0,
               "arrowwidth": 1
              },
              "autotypenumbers": "strict",
              "coloraxis": {
               "colorbar": {
                "outlinewidth": 0,
                "ticks": ""
               }
              },
              "colorscale": {
               "diverging": [
                [
                 0,
                 "#8e0152"
                ],
                [
                 0.1,
                 "#c51b7d"
                ],
                [
                 0.2,
                 "#de77ae"
                ],
                [
                 0.3,
                 "#f1b6da"
                ],
                [
                 0.4,
                 "#fde0ef"
                ],
                [
                 0.5,
                 "#f7f7f7"
                ],
                [
                 0.6,
                 "#e6f5d0"
                ],
                [
                 0.7,
                 "#b8e186"
                ],
                [
                 0.8,
                 "#7fbc41"
                ],
                [
                 0.9,
                 "#4d9221"
                ],
                [
                 1,
                 "#276419"
                ]
               ],
               "sequential": [
                [
                 0,
                 "#0d0887"
                ],
                [
                 0.1111111111111111,
                 "#46039f"
                ],
                [
                 0.2222222222222222,
                 "#7201a8"
                ],
                [
                 0.3333333333333333,
                 "#9c179e"
                ],
                [
                 0.4444444444444444,
                 "#bd3786"
                ],
                [
                 0.5555555555555556,
                 "#d8576b"
                ],
                [
                 0.6666666666666666,
                 "#ed7953"
                ],
                [
                 0.7777777777777778,
                 "#fb9f3a"
                ],
                [
                 0.8888888888888888,
                 "#fdca26"
                ],
                [
                 1,
                 "#f0f921"
                ]
               ],
               "sequentialminus": [
                [
                 0,
                 "#0d0887"
                ],
                [
                 0.1111111111111111,
                 "#46039f"
                ],
                [
                 0.2222222222222222,
                 "#7201a8"
                ],
                [
                 0.3333333333333333,
                 "#9c179e"
                ],
                [
                 0.4444444444444444,
                 "#bd3786"
                ],
                [
                 0.5555555555555556,
                 "#d8576b"
                ],
                [
                 0.6666666666666666,
                 "#ed7953"
                ],
                [
                 0.7777777777777778,
                 "#fb9f3a"
                ],
                [
                 0.8888888888888888,
                 "#fdca26"
                ],
                [
                 1,
                 "#f0f921"
                ]
               ]
              },
              "colorway": [
               "#636efa",
               "#EF553B",
               "#00cc96",
               "#ab63fa",
               "#FFA15A",
               "#19d3f3",
               "#FF6692",
               "#B6E880",
               "#FF97FF",
               "#FECB52"
              ],
              "font": {
               "color": "#2a3f5f"
              },
              "geo": {
               "bgcolor": "white",
               "lakecolor": "white",
               "landcolor": "#E5ECF6",
               "showlakes": true,
               "showland": true,
               "subunitcolor": "white"
              },
              "hoverlabel": {
               "align": "left"
              },
              "hovermode": "closest",
              "mapbox": {
               "style": "light"
              },
              "paper_bgcolor": "white",
              "plot_bgcolor": "#E5ECF6",
              "polar": {
               "angularaxis": {
                "gridcolor": "white",
                "linecolor": "white",
                "ticks": ""
               },
               "bgcolor": "#E5ECF6",
               "radialaxis": {
                "gridcolor": "white",
                "linecolor": "white",
                "ticks": ""
               }
              },
              "scene": {
               "xaxis": {
                "backgroundcolor": "#E5ECF6",
                "gridcolor": "white",
                "gridwidth": 2,
                "linecolor": "white",
                "showbackground": true,
                "ticks": "",
                "zerolinecolor": "white"
               },
               "yaxis": {
                "backgroundcolor": "#E5ECF6",
                "gridcolor": "white",
                "gridwidth": 2,
                "linecolor": "white",
                "showbackground": true,
                "ticks": "",
                "zerolinecolor": "white"
               },
               "zaxis": {
                "backgroundcolor": "#E5ECF6",
                "gridcolor": "white",
                "gridwidth": 2,
                "linecolor": "white",
                "showbackground": true,
                "ticks": "",
                "zerolinecolor": "white"
               }
              },
              "shapedefaults": {
               "line": {
                "color": "#2a3f5f"
               }
              },
              "ternary": {
               "aaxis": {
                "gridcolor": "white",
                "linecolor": "white",
                "ticks": ""
               },
               "baxis": {
                "gridcolor": "white",
                "linecolor": "white",
                "ticks": ""
               },
               "bgcolor": "#E5ECF6",
               "caxis": {
                "gridcolor": "white",
                "linecolor": "white",
                "ticks": ""
               }
              },
              "title": {
               "x": 0.05
              },
              "xaxis": {
               "automargin": true,
               "gridcolor": "white",
               "linecolor": "white",
               "ticks": "",
               "title": {
                "standoff": 15
               },
               "zerolinecolor": "white",
               "zerolinewidth": 2
              },
              "yaxis": {
               "automargin": true,
               "gridcolor": "white",
               "linecolor": "white",
               "ticks": "",
               "title": {
                "standoff": 15
               },
               "zerolinecolor": "white",
               "zerolinewidth": 2
              }
             }
            },
            "title": {
             "text": "Test model actual vs predicted",
             "x": 0
            },
            "xaxis": {
             "title": {
              "text": "Actual"
             }
            },
            "yaxis": {
             "title": {
              "text": "Predicted"
             }
            }
           }
          },
          "text/html": "<div>                            <div id=\"5367dfe5-5fc9-49bd-afbf-c3b84033a430\" class=\"plotly-graph-div\" style=\"height:525px; width:100%;\"></div>            <script type=\"text/javascript\">                require([\"plotly\"], function(Plotly) {                    window.PLOTLYENV=window.PLOTLYENV || {};                                    if (document.getElementById(\"5367dfe5-5fc9-49bd-afbf-c3b84033a430\")) {                    Plotly.newPlot(                        \"5367dfe5-5fc9-49bd-afbf-c3b84033a430\",                        [{\"hovertemplate\":\"outp_quantity=%{x}<br>prediction=%{y}<extra></extra>\",\"legendgroup\":\"\",\"marker\":{\"color\":\"#9267D3\",\"symbol\":\"circle\"},\"mode\":\"markers\",\"name\":\"\",\"orientation\":\"v\",\"showlegend\":false,\"x\":[699.0,646.0,697.0,680.0,692.0,734.0,708.0,726.0,711.0,710.0,935.0,937.0,943.0,950.0,928.0,920.0,1030.0,1044.0,1076.0,1061.0,1067.0,1047.0,992.0,928.0,904.0,924.0,923.0,926.0,892.0,923.0,894.0,878.0,893.0,937.0,962.0,951.0,946.0,947.0,957.0,961.0,591.0,410.0,335.0,289.0,284.0,263.0,409.0,570.0,598.0,566.0,597.0,603.0,893.0,965.0,946.0,954.0,969.0,984.0,714.0,602.0,610.0,570.0,587.0,604.0,740.0,779.0,795.0,821.0,800.0,827.0,14.0,0.0,0.0,0.0,0.0,0.0,0.0,0.0,0.0,0.0,0.0,0.0,935.0,949.0,914.0,946.0,952.0,936.0,898.0,914.0,912.0,905.0,935.0,931.0,954.0,971.0,960.0,982.0,962.0,1009.0,951.0,919.0,888.0,899.0,879.0,921.0,824.0,763.0,804.0,765.0,779.0,767.0,918.0,926.0,931.0,879.0,924.0,907.0,818.0,831.0,824.0,848.0,803.0,816.0,828.0,829.0,842.0,838.0,821.0,821.0,842.0,820.0,784.0,786.0,786.0,777.0,523.0,378.0,356.0,318.0,291.0,298.0,357.0,406.0,389.0,379.0,387.0,398.0,768.0,955.0,971.0,955.0,939.0,954.0,1056.0,1068.0,1031.0,1069.0,1042.0,1059.0,983.0,973.0,948.0,956.0,965.0,948.0,818.0,770.0,819.0,792.0,776.0,818.0,749.0,735.0,728.0,756.0,738.0,756.0,884.0,945.0,940.0,937.0,956.0,938.0,697.0,495.0,465.0,397.0,419.0,392.0,659.0,805.0,777.0,759.0,800.0,807.0,956.0,1022.0,999.0,988.0,1015.0,1007.0,903.0,810.0,798.0,779.0,749.0,775.0,873.0,897.0,898.0,896.0,927.0,866.0,887.0,899.0,892.0,919.0,886.0,921.0,807.0,841.0,823.0,851.0,797.0,812.0,659.0,468.0,431.0,371.0,374.0,358.0,751.0,835.0,906.0,875.0,886.0,903.0,15.0,0.0,0.0,0.0,0.0,0.0,0.0,0.0,0.0,0.0,0.0,0.0,706.0,695.0,715.0,703.0,632.0,707.0,829.0,843.0,813.0,801.0,819.0,821.0,900.0,945.0,925.0,980.0,931.0,939.0,854.0,829.0,857.0,883.0,878.0,864.0,957.0,995.0,1033.0,1005.0,996.0,1000.0,1050.0,1077.0,1076.0,1078.0,1096.0,1082.0,843.0,763.0,781.0,798.0,793.0,766.0,997.0,1070.0,1059.0,1075.0,1054.0,1058.0,888.0,732.0,715.0,713.0,711.0,698.0,709.0,717.0,737.0,695.0,690.0,739.0,973.0,1080.0,1063.0,1055.0,1076.0,1079.0,837.0,721.0,667.0,663.0,628.0,652.0,959.0,1061.0,1063.0,1051.0,1103.0,1095.0,926.0,906.0,900.0,865.0,894.0,857.0,1035.0,1085.0,1077.0,1081.0,1070.0,1095.0,862.0,794.0,795.0,806.0,793.0,784.0,1035.0,1048.0,1030.0,1045.0,1027.0,1040.0,869.0,828.0,824.0,866.0,831.0,833.0,942.0,970.0,984.0,993.0,956.0,987.0,1048.0,1073.0,1034.0,1040.0,1039.0,1036.0,944.0,917.0,890.0,899.0,895.0,927.0,983.0,947.0,983.0,987.0,966.0,985.0,1076.0,1063.0,1079.0,1100.0,1111.0,1094.0,1007.0,967.0,956.0,952.0,939.0,960.0,924.0,908.0,905.0,900.0,896.0,950.0,1050.0,1039.0,1021.0,1037.0,1025.0,1020.0,22.0,0.0,0.0,0.0,0.0,0.0,0.0,0.0,0.0,0.0,0.0,0.0,1068.0,1098.0,1112.0,1094.0,1098.0,1115.0,954.0,901.0,911.0,905.0,913.0,922.0,1043.0,1077.0,1073.0,1081.0,1065.0,1056.0,1067.0,1077.0,1058.0,1070.0,1032.0,1052.0,940.0,884.0,888.0,874.0,872.0,863.0,1019.0,1053.0,1036.0,1070.0,1031.0,1045.0,928.0,873.0,876.0,891.0,872.0,913.0,891.0,929.0,891.0,931.0,940.0,932.0,891.0,723.0,694.0,706.0,667.0,664.0,947.0,981.0,997.0,990.0,976.0,971.0,867.0,877.0,863.0,901.0,876.0,867.0,1029.0,1015.0,985.0,1011.0,1042.0,1032.0,1051.0,1046.0,1041.0,1042.0,1070.0,1043.0,900.0,783.0,826.0,794.0,734.0,752.0,1035.0,1100.0,1101.0,1051.0,1108.0,1109.0,970.0,913.0,966.0,924.0,935.0,932.0,1066.0,1065.0,1080.0,1069.0,1069.0,1073.0,965.0,928.0,901.0,849.0,903.0,915.0,1017.0,1027.0,991.0,1003.0,1037.0,1003.0,1024.0,1064.0,1079.0,1081.0,1065.0,1063.0,1018.0,1023.0,1032.0,992.0,1019.0,996.0,775.0,683.0,697.0,667.0,661.0,645.0,993.0,1058.0,1090.0,1071.0,1081.0,1087.0,1055.0,1086.0,1107.0,1085.0,1049.0,1074.0,1034.0,1036.0,997.0,1012.0,995.0,958.0,844.0,785.0,812.0,826.0,776.0,798.0,10.0,0.0,0.0,0.0,0.0,0.0,0.0,0.0,0.0,0.0,0.0,0.0,1038.0,1096.0,1083.0,1149.0,1091.0,1125.0,1125.0,1106.0,1117.0,1114.0,1119.0,1135.0,1078.0,1090.0,1101.0,1068.0,1096.0,1082.0,989.0,963.0,975.0,970.0,986.0,973.0,1027.0,1055.0,1053.0,1041.0,1036.0,1017.0,1101.0,1131.0,1147.0,1087.0,1139.0,1144.0,943.0,870.0,861.0,885.0,849.0,869.0,878.0,884.0,860.0,877.0,868.0,849.0,991.0,1000.0,978.0,988.0,1017.0,956.0,764.0,691.0,664.0,667.0,659.0,646.0,1053.0,1114.0,1144.0,1153.0,1116.0,1122.0,1113.0,1124.0,1100.0,1105.0,1111.0,1101.0,1142.0,1083.0,1115.0,1110.0,1119.0,1106.0,1036.0,974.0,1006.0,1018.0,972.0,991.0,925.0,931.0,909.0,884.0,895.0,866.0,874.0,913.0,928.0,940.0,913.0,926.0,849.0,770.0,736.0,805.0,749.0,719.0,922.0,990.0,982.0,982.0,981.0,993.0,1094.0,1114.0,1121.0,1137.0,1095.0,1114.0,1072.0,1059.0,1053.0,1047.0,1041.0,1034.0,1039.0,1026.0,1048.0,1073.0,1044.0,1038.0,936.0,938.0,925.0,953.0,928.0,945.0,984.0,995.0,1004.0,1005.0,1025.0,1009.0,1025.0,1042.0,1057.0,1018.0,1078.0,1045.0,875.0,846.0,839.0,799.0,804.0,795.0,974.0,1002.0,964.0,999.0,1000.0,1013.0,15.0,0.0,0.0,0.0,0.0,0.0,0.0,0.0,0.0,0.0,0.0,0.0,1096.0,1147.0,1134.0,1138.0,1141.0,1147.0,1085.0,1082.0,1084.0,1100.0,1074.0,1068.0,1023.0,1015.0,1012.0,1002.0,967.0,979.0,989.0,982.0,944.0,983.0,965.0,969.0,1124.0,1120.0,1129.0,1137.0,1122.0,1119.0,1114.0,1156.0,1119.0,1142.0,1110.0,1116.0,981.0,939.0,960.0,954.0,926.0,934.0,1056.0,1108.0,1076.0,1095.0,1069.0,1074.0,945.0,804.0,759.0,761.0,773.0,798.0,974.0,1001.0,1038.0,1050.0,1029.0,1054.0,1044.0,1133.0,1105.0,1097.0,1116.0,1118.0,1087.0,1084.0,1084.0,1063.0,1059.0,1083.0,1064.0,1073.0,1070.0,1066.0,1067.0,1078.0,1117.0,1094.0,1104.0,1068.0,1088.0,1115.0,1081.0,1084.0,1081.0,1069.0,1091.0,1096.0,899.0,781.0,765.0,749.0,741.0,176.0],\"xaxis\":\"x\",\"y\":[648.58,678.47,689.1,675.92,620.38,673.78,621.08,633.33,677.92,747.23,923.57,932.75,947.26,925.31,925.42,992.23,1020.61,1036.17,1035.29,1039.28,1021.26,989.09,931.58,912.85,923.52,924.84,931.58,905.9,873.11,870.59,857.23,871.78,854.47,867.03,969.96,965.91,975.84,967.96,979.31,706.57,483.7,439.42,425.29,413.42,414.81,452.23,640.15,663.1,620.89,641.75,664.49,581.94,979.61,957.56,989.64,976.57,963.93,866.3,641.06,638.59,631.59,648.56,666.03,532.06,848.87,733.1,640.6,676.6,572.39,667.89,8.34,8.15,0.13,0.13,0.13,0.13,0.13,0.13,0.13,0.13,0.13,76.67,967.92,933.75,970.63,967.8,941.03,903.95,925.98,929.38,752.93,886.74,875.66,870.98,1002.52,969.57,981.77,982.14,966.73,980.29,872.84,838.16,842.56,830.02,860.55,916.77,822.05,685.19,830.43,776.26,777.87,638.34,905.9,953.44,921.42,949.51,899.25,860.99,903.29,854.31,916.28,845.6,895.63,875.82,807.61,859.25,826.03,855.83,831.94,831.91,847.26,771.91,790.25,768.02,764.9,492.81,398.76,436.74,379.52,327.83,382.0,424.93,438.08,418.19,403.99,466.04,487.61,843.69,943.08,982.22,969.8,960.0,934.44,1021.89,1051.28,982.33,1044.84,1043.03,1003.34,972.58,958.34,964.68,963.29,955.0,950.15,919.73,845.83,685.74,838.67,848.22,687.01,833.54,842.58,848.49,854.48,843.77,842.73,596.17,815.74,876.38,875.23,885.09,890.23,728.44,531.11,432.22,477.12,468.29,448.85,479.7,803.53,864.54,864.99,873.67,784.52,861.42,978.58,966.43,951.32,948.87,961.95,730.19,768.79,780.85,862.81,850.05,862.53,629.55,666.12,728.56,719.51,928.22,667.63,762.12,704.19,732.04,816.68,772.31,855.5,802.86,670.88,673.3,659.09,639.95,696.31,728.62,477.09,424.1,424.04,424.71,449.04,335.04,761.8,720.59,719.98,780.98,809.05,913.64,9.04,12.38,0.0,0.0,0.0,0.0,0.0,0.0,0.0,0.0,0.0,22.18,612.92,604.52,561.74,576.6,610.41,583.79,756.41,774.58,793.59,773.74,800.28,704.21,941.25,871.15,940.62,916.69,921.9,730.39,601.53,601.95,624.31,615.03,635.27,792.43,972.38,986.9,979.76,961.68,962.98,1003.16,1045.65,1040.18,1047.45,1037.43,1040.82,745.69,566.61,567.42,577.09,600.73,595.97,879.71,1049.29,1037.5,1042.43,1050.89,1044.94,679.55,815.79,743.49,733.7,781.69,745.34,625.65,588.52,636.03,489.49,501.36,639.65,763.23,1038.75,1047.23,1022.88,1042.4,1049.34,743.48,489.09,488.54,476.76,637.11,502.56,795.13,1049.29,1046.86,1044.5,1047.16,1042.19,955.76,621.03,654.3,666.79,659.28,621.39,880.18,1033.54,1040.4,1043.73,1039.01,1030.71,700.43,582.74,601.22,643.25,571.09,565.24,903.5,1042.53,993.47,1008.32,1010.87,1020.28,670.47,586.2,569.95,549.05,559.3,547.57,779.94,885.77,877.87,880.22,877.43,885.5,929.99,1036.56,1000.24,1002.31,1036.69,1001.48,936.0,677.97,556.34,637.91,627.85,796.56,837.19,937.36,940.64,922.69,934.59,944.07,1037.25,1036.92,1039.39,1040.67,1035.53,1039.02,971.6,857.03,853.23,867.91,840.19,860.04,839.29,594.5,500.32,598.73,598.73,823.18,924.53,995.51,971.94,994.35,985.57,983.3,912.33,8.28,8.76,0.13,0.13,0.13,0.13,0.13,0.13,0.13,0.13,0.13,403.94,1035.56,1041.72,1032.13,1045.02,1040.96,949.93,604.25,554.73,529.95,597.91,704.38,949.07,1029.1,1020.54,1024.03,1026.63,1010.51,1005.25,1023.46,1029.43,1022.16,1002.67,1009.54,953.86,592.4,603.02,581.55,549.73,558.86,866.56,1014.54,1046.71,1046.61,989.13,1009.05,924.22,552.5,562.08,585.13,577.58,613.28,558.01,778.76,642.07,789.46,795.19,806.6,535.9,816.36,625.18,732.88,704.2,721.82,705.46,971.5,855.88,839.25,814.64,803.43,678.92,609.75,624.01,607.42,624.87,581.82,903.17,1014.68,966.45,1012.18,1003.34,1005.35,1011.57,1044.77,1015.63,1009.96,1029.22,1004.84,741.9,847.16,645.88,584.66,816.48,857.92,954.38,1030.39,1038.49,1042.45,1037.93,1039.57,951.86,627.07,796.47,782.5,770.35,768.71,943.54,1038.96,1035.53,1035.03,1033.33,1037.12,962.27,761.33,592.19,594.31,549.46,575.11,884.62,999.78,931.02,961.55,1000.96,963.88,1007.82,1041.86,1043.14,1042.87,1019.08,1031.34,977.12,961.63,998.72,955.23,983.9,985.63,864.23,283.41,266.88,289.59,306.56,266.51,826.83,1047.39,1040.85,1007.07,1041.66,1042.93,1052.21,1044.63,1040.93,1032.78,1016.26,1044.42,1013.87,1009.04,969.19,1009.74,968.53,945.88,710.97,648.59,623.23,637.58,492.16,557.85,650.5,7.52,10.28,0.13,0.13,0.13,0.13,0.13,0.13,0.13,0.13,0.13,394.92,1046.38,1037.18,1039.48,1038.95,1039.26,1040.64,1039.29,1041.97,1032.99,1037.67,1031.34,1047.77,1027.87,1024.5,1026.06,1024.43,1024.9,962.25,782.96,791.9,792.19,853.65,788.77,902.15,1003.36,993.67,1005.73,1005.7,950.46,1022.55,1041.75,1040.39,1035.38,1041.17,1043.14,971.25,564.46,566.97,585.22,579.33,546.53,550.41,560.6,562.64,559.6,577.53,570.81,853.82,838.67,835.74,818.52,837.42,928.07,869.65,361.23,371.42,356.98,368.15,381.46,786.81,1036.72,1048.02,1033.56,1042.95,1045.27,1047.19,1035.33,1040.05,1043.03,1038.09,1037.03,1040.47,1025.47,1015.61,1028.05,1028.14,1029.43,1006.83,846.87,904.89,922.09,893.03,890.53,847.07,759.46,580.56,556.71,545.0,588.76,576.04,629.56,734.17,750.42,600.6,735.76,582.34,411.58,427.6,648.79,430.49,426.54,616.61,921.03,837.71,838.66,838.35,891.39,976.74,1017.87,1019.57,1031.14,1027.91,1016.35,1028.88,1031.29,1003.9,992.86,995.47,1004.06,1004.29,894.9,930.31,929.33,948.77,926.02,856.43,734.17,630.99,746.59,731.41,756.39,823.64,795.74,854.7,863.63,907.52,878.13,919.1,924.52,981.92,930.57,983.83,911.66,698.31,610.34,611.59,589.21,612.23,615.06,748.98,901.89,847.75,906.41,904.21,928.69,904.46,8.16,8.47,0.13,0.13,0.13,0.13,0.13,0.13,0.13,0.13,0.13,280.36,1028.52,1032.96,1034.81,1033.89,1027.37,1032.3,1038.38,1038.76,1038.98,1033.72,1026.76,952.92,897.06,896.51,844.5,861.1,862.38,864.01,895.75,829.79,839.33,823.94,833.91,976.56,1030.43,1026.86,1031.28,1023.3,1029.68,1021.19,1035.41,1035.7,1036.25,1035.29,1034.85,960.31,794.71,832.96,831.3,646.82,810.4,957.68,1029.62,1035.19,1029.85,1032.26,1026.65,953.99,626.72,440.1,425.21,474.81,605.75,790.66,834.33,1011.6,1011.66,1019.78,1009.55,1005.74,1040.13,1037.23,1035.64,1044.0,1042.9,1044.04,1035.16,1036.13,1036.12,1003.84,1033.03,1008.12,1028.96,1037.14,1037.62,1040.17,1036.04,1033.81,1026.42,1021.43,1026.21,1028.8,1025.27,1017.67,1024.54,1017.12,999.18,1017.85,1029.04,816.46,325.72,327.3,322.57,352.28,542.63,130.63],\"yaxis\":\"y\",\"type\":\"scatter\"}],                        {\"template\":{\"data\":{\"histogram2dcontour\":[{\"type\":\"histogram2dcontour\",\"colorbar\":{\"outlinewidth\":0,\"ticks\":\"\"},\"colorscale\":[[0.0,\"#0d0887\"],[0.1111111111111111,\"#46039f\"],[0.2222222222222222,\"#7201a8\"],[0.3333333333333333,\"#9c179e\"],[0.4444444444444444,\"#bd3786\"],[0.5555555555555556,\"#d8576b\"],[0.6666666666666666,\"#ed7953\"],[0.7777777777777778,\"#fb9f3a\"],[0.8888888888888888,\"#fdca26\"],[1.0,\"#f0f921\"]]}],\"choropleth\":[{\"type\":\"choropleth\",\"colorbar\":{\"outlinewidth\":0,\"ticks\":\"\"}}],\"histogram2d\":[{\"type\":\"histogram2d\",\"colorbar\":{\"outlinewidth\":0,\"ticks\":\"\"},\"colorscale\":[[0.0,\"#0d0887\"],[0.1111111111111111,\"#46039f\"],[0.2222222222222222,\"#7201a8\"],[0.3333333333333333,\"#9c179e\"],[0.4444444444444444,\"#bd3786\"],[0.5555555555555556,\"#d8576b\"],[0.6666666666666666,\"#ed7953\"],[0.7777777777777778,\"#fb9f3a\"],[0.8888888888888888,\"#fdca26\"],[1.0,\"#f0f921\"]]}],\"heatmap\":[{\"type\":\"heatmap\",\"colorbar\":{\"outlinewidth\":0,\"ticks\":\"\"},\"colorscale\":[[0.0,\"#0d0887\"],[0.1111111111111111,\"#46039f\"],[0.2222222222222222,\"#7201a8\"],[0.3333333333333333,\"#9c179e\"],[0.4444444444444444,\"#bd3786\"],[0.5555555555555556,\"#d8576b\"],[0.6666666666666666,\"#ed7953\"],[0.7777777777777778,\"#fb9f3a\"],[0.8888888888888888,\"#fdca26\"],[1.0,\"#f0f921\"]]}],\"heatmapgl\":[{\"type\":\"heatmapgl\",\"colorbar\":{\"outlinewidth\":0,\"ticks\":\"\"},\"colorscale\":[[0.0,\"#0d0887\"],[0.1111111111111111,\"#46039f\"],[0.2222222222222222,\"#7201a8\"],[0.3333333333333333,\"#9c179e\"],[0.4444444444444444,\"#bd3786\"],[0.5555555555555556,\"#d8576b\"],[0.6666666666666666,\"#ed7953\"],[0.7777777777777778,\"#fb9f3a\"],[0.8888888888888888,\"#fdca26\"],[1.0,\"#f0f921\"]]}],\"contourcarpet\":[{\"type\":\"contourcarpet\",\"colorbar\":{\"outlinewidth\":0,\"ticks\":\"\"}}],\"contour\":[{\"type\":\"contour\",\"colorbar\":{\"outlinewidth\":0,\"ticks\":\"\"},\"colorscale\":[[0.0,\"#0d0887\"],[0.1111111111111111,\"#46039f\"],[0.2222222222222222,\"#7201a8\"],[0.3333333333333333,\"#9c179e\"],[0.4444444444444444,\"#bd3786\"],[0.5555555555555556,\"#d8576b\"],[0.6666666666666666,\"#ed7953\"],[0.7777777777777778,\"#fb9f3a\"],[0.8888888888888888,\"#fdca26\"],[1.0,\"#f0f921\"]]}],\"surface\":[{\"type\":\"surface\",\"colorbar\":{\"outlinewidth\":0,\"ticks\":\"\"},\"colorscale\":[[0.0,\"#0d0887\"],[0.1111111111111111,\"#46039f\"],[0.2222222222222222,\"#7201a8\"],[0.3333333333333333,\"#9c179e\"],[0.4444444444444444,\"#bd3786\"],[0.5555555555555556,\"#d8576b\"],[0.6666666666666666,\"#ed7953\"],[0.7777777777777778,\"#fb9f3a\"],[0.8888888888888888,\"#fdca26\"],[1.0,\"#f0f921\"]]}],\"mesh3d\":[{\"type\":\"mesh3d\",\"colorbar\":{\"outlinewidth\":0,\"ticks\":\"\"}}],\"scatter\":[{\"fillpattern\":{\"fillmode\":\"overlay\",\"size\":10,\"solidity\":0.2},\"type\":\"scatter\"}],\"parcoords\":[{\"type\":\"parcoords\",\"line\":{\"colorbar\":{\"outlinewidth\":0,\"ticks\":\"\"}}}],\"scatterpolargl\":[{\"type\":\"scatterpolargl\",\"marker\":{\"colorbar\":{\"outlinewidth\":0,\"ticks\":\"\"}}}],\"bar\":[{\"error_x\":{\"color\":\"#2a3f5f\"},\"error_y\":{\"color\":\"#2a3f5f\"},\"marker\":{\"line\":{\"color\":\"#E5ECF6\",\"width\":0.5},\"pattern\":{\"fillmode\":\"overlay\",\"size\":10,\"solidity\":0.2}},\"type\":\"bar\"}],\"scattergeo\":[{\"type\":\"scattergeo\",\"marker\":{\"colorbar\":{\"outlinewidth\":0,\"ticks\":\"\"}}}],\"scatterpolar\":[{\"type\":\"scatterpolar\",\"marker\":{\"colorbar\":{\"outlinewidth\":0,\"ticks\":\"\"}}}],\"histogram\":[{\"marker\":{\"pattern\":{\"fillmode\":\"overlay\",\"size\":10,\"solidity\":0.2}},\"type\":\"histogram\"}],\"scattergl\":[{\"type\":\"scattergl\",\"marker\":{\"colorbar\":{\"outlinewidth\":0,\"ticks\":\"\"}}}],\"scatter3d\":[{\"type\":\"scatter3d\",\"line\":{\"colorbar\":{\"outlinewidth\":0,\"ticks\":\"\"}},\"marker\":{\"colorbar\":{\"outlinewidth\":0,\"ticks\":\"\"}}}],\"scattermapbox\":[{\"type\":\"scattermapbox\",\"marker\":{\"colorbar\":{\"outlinewidth\":0,\"ticks\":\"\"}}}],\"scatterternary\":[{\"type\":\"scatterternary\",\"marker\":{\"colorbar\":{\"outlinewidth\":0,\"ticks\":\"\"}}}],\"scattercarpet\":[{\"type\":\"scattercarpet\",\"marker\":{\"colorbar\":{\"outlinewidth\":0,\"ticks\":\"\"}}}],\"carpet\":[{\"aaxis\":{\"endlinecolor\":\"#2a3f5f\",\"gridcolor\":\"white\",\"linecolor\":\"white\",\"minorgridcolor\":\"white\",\"startlinecolor\":\"#2a3f5f\"},\"baxis\":{\"endlinecolor\":\"#2a3f5f\",\"gridcolor\":\"white\",\"linecolor\":\"white\",\"minorgridcolor\":\"white\",\"startlinecolor\":\"#2a3f5f\"},\"type\":\"carpet\"}],\"table\":[{\"cells\":{\"fill\":{\"color\":\"#EBF0F8\"},\"line\":{\"color\":\"white\"}},\"header\":{\"fill\":{\"color\":\"#C8D4E3\"},\"line\":{\"color\":\"white\"}},\"type\":\"table\"}],\"barpolar\":[{\"marker\":{\"line\":{\"color\":\"#E5ECF6\",\"width\":0.5},\"pattern\":{\"fillmode\":\"overlay\",\"size\":10,\"solidity\":0.2}},\"type\":\"barpolar\"}],\"pie\":[{\"automargin\":true,\"type\":\"pie\"}]},\"layout\":{\"autotypenumbers\":\"strict\",\"colorway\":[\"#636efa\",\"#EF553B\",\"#00cc96\",\"#ab63fa\",\"#FFA15A\",\"#19d3f3\",\"#FF6692\",\"#B6E880\",\"#FF97FF\",\"#FECB52\"],\"font\":{\"color\":\"#2a3f5f\"},\"hovermode\":\"closest\",\"hoverlabel\":{\"align\":\"left\"},\"paper_bgcolor\":\"white\",\"plot_bgcolor\":\"#E5ECF6\",\"polar\":{\"bgcolor\":\"#E5ECF6\",\"angularaxis\":{\"gridcolor\":\"white\",\"linecolor\":\"white\",\"ticks\":\"\"},\"radialaxis\":{\"gridcolor\":\"white\",\"linecolor\":\"white\",\"ticks\":\"\"}},\"ternary\":{\"bgcolor\":\"#E5ECF6\",\"aaxis\":{\"gridcolor\":\"white\",\"linecolor\":\"white\",\"ticks\":\"\"},\"baxis\":{\"gridcolor\":\"white\",\"linecolor\":\"white\",\"ticks\":\"\"},\"caxis\":{\"gridcolor\":\"white\",\"linecolor\":\"white\",\"ticks\":\"\"}},\"coloraxis\":{\"colorbar\":{\"outlinewidth\":0,\"ticks\":\"\"}},\"colorscale\":{\"sequential\":[[0.0,\"#0d0887\"],[0.1111111111111111,\"#46039f\"],[0.2222222222222222,\"#7201a8\"],[0.3333333333333333,\"#9c179e\"],[0.4444444444444444,\"#bd3786\"],[0.5555555555555556,\"#d8576b\"],[0.6666666666666666,\"#ed7953\"],[0.7777777777777778,\"#fb9f3a\"],[0.8888888888888888,\"#fdca26\"],[1.0,\"#f0f921\"]],\"sequentialminus\":[[0.0,\"#0d0887\"],[0.1111111111111111,\"#46039f\"],[0.2222222222222222,\"#7201a8\"],[0.3333333333333333,\"#9c179e\"],[0.4444444444444444,\"#bd3786\"],[0.5555555555555556,\"#d8576b\"],[0.6666666666666666,\"#ed7953\"],[0.7777777777777778,\"#fb9f3a\"],[0.8888888888888888,\"#fdca26\"],[1.0,\"#f0f921\"]],\"diverging\":[[0,\"#8e0152\"],[0.1,\"#c51b7d\"],[0.2,\"#de77ae\"],[0.3,\"#f1b6da\"],[0.4,\"#fde0ef\"],[0.5,\"#f7f7f7\"],[0.6,\"#e6f5d0\"],[0.7,\"#b8e186\"],[0.8,\"#7fbc41\"],[0.9,\"#4d9221\"],[1,\"#276419\"]]},\"xaxis\":{\"gridcolor\":\"white\",\"linecolor\":\"white\",\"ticks\":\"\",\"title\":{\"standoff\":15},\"zerolinecolor\":\"white\",\"automargin\":true,\"zerolinewidth\":2},\"yaxis\":{\"gridcolor\":\"white\",\"linecolor\":\"white\",\"ticks\":\"\",\"title\":{\"standoff\":15},\"zerolinecolor\":\"white\",\"automargin\":true,\"zerolinewidth\":2},\"scene\":{\"xaxis\":{\"backgroundcolor\":\"#E5ECF6\",\"gridcolor\":\"white\",\"linecolor\":\"white\",\"showbackground\":true,\"ticks\":\"\",\"zerolinecolor\":\"white\",\"gridwidth\":2},\"yaxis\":{\"backgroundcolor\":\"#E5ECF6\",\"gridcolor\":\"white\",\"linecolor\":\"white\",\"showbackground\":true,\"ticks\":\"\",\"zerolinecolor\":\"white\",\"gridwidth\":2},\"zaxis\":{\"backgroundcolor\":\"#E5ECF6\",\"gridcolor\":\"white\",\"linecolor\":\"white\",\"showbackground\":true,\"ticks\":\"\",\"zerolinecolor\":\"white\",\"gridwidth\":2}},\"shapedefaults\":{\"line\":{\"color\":\"#2a3f5f\"}},\"annotationdefaults\":{\"arrowcolor\":\"#2a3f5f\",\"arrowhead\":0,\"arrowwidth\":1},\"geo\":{\"bgcolor\":\"white\",\"landcolor\":\"#E5ECF6\",\"subunitcolor\":\"white\",\"showland\":true,\"showlakes\":true,\"lakecolor\":\"white\"},\"title\":{\"x\":0.05},\"mapbox\":{\"style\":\"light\"}}},\"title\":{\"text\":\"Test model actual vs predicted\",\"x\":0},\"xaxis\":{\"title\":{\"text\":\"Actual\"}},\"yaxis\":{\"title\":{\"text\":\"Predicted\"}},\"shapes\":[{\"line\":{\"dash\":\"dot\"},\"type\":\"line\",\"x0\":0.0,\"x1\":1156.0,\"xref\":\"x\",\"y0\":0.0,\"y1\":1156.0,\"yref\":\"y\"}]},                        {\"responsive\": true}                    ).then(function(){\n                            \nvar gd = document.getElementById('5367dfe5-5fc9-49bd-afbf-c3b84033a430');\nvar x = new MutationObserver(function (mutations, observer) {{\n        var display = window.getComputedStyle(gd).display;\n        if (!display || display === 'none') {{\n            console.log([gd, 'removed!']);\n            Plotly.purge(gd);\n            observer.disconnect();\n        }}\n}});\n\n// Listen for the removal of the full notebook cells\nvar notebookContainer = gd.closest('#notebook-container');\nif (notebookContainer) {{\n    x.observe(notebookContainer, {childList: true});\n}}\n\n// Listen for the clearing of the current output cell\nvar outputEl = gd.closest('.output');\nif (outputEl) {{\n    x.observe(outputEl, {childList: true});\n}}\n\n                        })                };                });            </script>        </div>"
         },
         "metadata": {},
         "output_type": "display_data"
        }
       ],
       "tabbable": null,
       "tooltip": null
      }
     },
     "d5b8109889634e8d83b457811b27d0cb": {
      "model_module": "@jupyter-widgets/controls",
      "model_module_version": "2.0.0",
      "model_name": "VBoxModel",
      "state": {
       "_dom_classes": [
        "widget-interact"
       ],
       "_model_module_version": "2.0.0",
       "_view_module_version": "2.0.0",
       "children": [
        "IPY_MODEL_03cdaf681f3344cf8c27c263884ad0d4",
        "IPY_MODEL_6e2febb027614425a9d15941c365841d"
       ],
       "layout": "IPY_MODEL_ea0b5909753a42f08f28cf1589141811",
       "tabbable": null,
       "tooltip": null
      }
     },
     "d8a0d75710794ec2884c988a771e3c41": {
      "model_module": "@jupyter-widgets/controls",
      "model_module_version": "2.0.0",
      "model_name": "VBoxModel",
      "state": {
       "_dom_classes": [
        "widget-interact"
       ],
       "_model_module_version": "2.0.0",
       "_view_module_version": "2.0.0",
       "children": [
        "IPY_MODEL_a50e9412e3f242adb71549ae52a5f107",
        "IPY_MODEL_d50a1508f54b42fe80030efb12d54ecf"
       ],
       "layout": "IPY_MODEL_807ca980df7346ef84b91dfb5241f60c",
       "tabbable": null,
       "tooltip": null
      }
     },
     "ea0b5909753a42f08f28cf1589141811": {
      "model_module": "@jupyter-widgets/base",
      "model_module_version": "2.0.0",
      "model_name": "LayoutModel",
      "state": {
       "_model_module_version": "2.0.0",
       "_view_module_version": "2.0.0",
       "border_bottom": null,
       "border_left": null,
       "border_right": null,
       "border_top": null
      }
     }
    },
    "version_major": 2,
    "version_minor": 0
   }
  }
 },
 "nbformat": 4,
 "nbformat_minor": 5
}
