{
 "cells": [
  {
   "cell_type": "code",
   "execution_count": 1,
   "id": "d91bc2bd",
   "metadata": {
    "ExecuteTime": {
     "end_time": "2024-03-04T23:13:22.575474Z",
     "start_time": "2024-03-04T23:13:22.570011Z"
    }
   },
   "outputs": [],
   "source": [
    "# Resolve path when used in a usecase project\n",
    "import sys\n",
    "from pathlib import Path\n",
    "\n",
    "sys.path.insert(0, str(Path(\"../../\").resolve()))"
   ]
  },
  {
   "cell_type": "markdown",
   "id": "50cca8ab",
   "metadata": {},
   "source": [
    "# Splitters\n",
    "\n",
    "The `modeling` package contains a few useful classes for splitting data on train and test datasets. We'll demonstrate each below. Choose whichever fits your application best.\n",
    "\n",
    "Each of the classes have the same API defined by `SplitterBase` ([API](../../../../../../docs/build/apidoc/modeling/modeling.splitters.html#modeling.splitters.base_splitter.SplitterBase)). Call `.split` method on data to split on train and test datasets."
   ]
  },
  {
   "cell_type": "markdown",
   "id": "37f65c0f",
   "metadata": {},
   "source": [
    "## Setup"
   ]
  },
  {
   "cell_type": "markdown",
   "id": "27a5e520",
   "metadata": {},
   "source": [
    "First, we'll read in our datasets."
   ]
  },
  {
   "cell_type": "code",
   "execution_count": 2,
   "id": "80a309cd",
   "metadata": {
    "ExecuteTime": {
     "end_time": "2024-03-04T23:13:22.597645Z",
     "start_time": "2024-03-04T23:13:22.576909Z"
    }
   },
   "outputs": [],
   "source": [
    "import logging\n",
    "import sys\n",
    "\n",
    "logging.basicConfig(level=logging.INFO, stream=sys.stdout)"
   ]
  },
  {
   "cell_type": "code",
   "execution_count": 3,
   "id": "b13efda4",
   "metadata": {
    "ExecuteTime": {
     "end_time": "2024-03-04T23:13:28.573545Z",
     "start_time": "2024-03-04T23:13:22.579699Z"
    }
   },
   "outputs": [
    {
     "name": "stdout",
     "output_type": "stream",
     "text": [
      "INFO:numexpr.utils:Note: NumExpr detected 10 cores but \"NUMEXPR_MAX_THREADS\" not set, so enforcing safe limit of 8.\n",
      "INFO:numexpr.utils:NumExpr defaulting to 8 threads.\n"
     ]
    },
    {
     "data": {
      "text/plain": "             timestamp  air_flow01  air_flow02  air_flow03  air_flow04  \\\n0  2017-03-09 23:00:00  251.166672  250.226086  250.178287     295.096   \n1  2017-03-10 02:00:00  250.083563  250.174326  250.066843     295.096   \n2  2017-03-10 05:00:00  250.055587  250.182704  250.051909     295.096   \n3  2017-03-10 08:00:00  249.988883  250.047848  250.020237     295.096   \n4  2017-03-10 11:00:00  250.260143  250.197557  250.085200     295.096   \n\n   air_flow05  air_flow06  air_flow07  amina_flow  column_level01  ...  \\\n0       300.0  251.232529  250.208184  578.786678      450.383776  ...   \n1       300.0  249.992259  250.179793  574.098837      462.428981  ...   \n2       300.0  250.080709  250.097083  619.925237      549.723694  ...   \n3       300.0  250.159856  250.037881  590.318354      550.111556  ...   \n4       300.0  250.060176  250.064574  540.756644      550.344274  ...   \n\n   ore_pulp_flow  ore_pulp_ph  silica_conc  silica_feed  starch_flow  \\\n0     398.753368    10.113487     9.894903        16.98  3162.625026   \n1     399.500870    10.032253     8.972384        16.98  3280.258590   \n2     399.903189     9.939564    11.834396        17.12  3199.440463   \n3     400.060293    10.074968    12.626763        17.40  3469.331550   \n4     400.101667    10.188462    17.352312        17.40  4297.453393   \n\n   iron_minus_silica  feed_diff_divide_silica  total_column_level  \\\n0          38.220000                 2.250883         3168.370621   \n1          38.220000                 2.250883         3258.210789   \n2          37.996667                 2.219431         3863.737361   \n3          37.550000                 2.158046         3859.372227   \n4          37.550000                 2.158046         3849.395119   \n\n   total_air_flow  silica_conc_lagged  \n0     1848.107759                 NaN  \n1     1845.592783            1.310000  \n2     1845.563993            1.246667  \n3     1845.350706            1.750000  \n4     1845.763650            2.063333  \n\n[5 rows x 29 columns]",
      "text/html": "<div>\n<style scoped>\n    .dataframe tbody tr th:only-of-type {\n        vertical-align: middle;\n    }\n\n    .dataframe tbody tr th {\n        vertical-align: top;\n    }\n\n    .dataframe thead th {\n        text-align: right;\n    }\n</style>\n<table border=\"1\" class=\"dataframe\">\n  <thead>\n    <tr style=\"text-align: right;\">\n      <th></th>\n      <th>timestamp</th>\n      <th>air_flow01</th>\n      <th>air_flow02</th>\n      <th>air_flow03</th>\n      <th>air_flow04</th>\n      <th>air_flow05</th>\n      <th>air_flow06</th>\n      <th>air_flow07</th>\n      <th>amina_flow</th>\n      <th>column_level01</th>\n      <th>...</th>\n      <th>ore_pulp_flow</th>\n      <th>ore_pulp_ph</th>\n      <th>silica_conc</th>\n      <th>silica_feed</th>\n      <th>starch_flow</th>\n      <th>iron_minus_silica</th>\n      <th>feed_diff_divide_silica</th>\n      <th>total_column_level</th>\n      <th>total_air_flow</th>\n      <th>silica_conc_lagged</th>\n    </tr>\n  </thead>\n  <tbody>\n    <tr>\n      <th>0</th>\n      <td>2017-03-09 23:00:00</td>\n      <td>251.166672</td>\n      <td>250.226086</td>\n      <td>250.178287</td>\n      <td>295.096</td>\n      <td>300.0</td>\n      <td>251.232529</td>\n      <td>250.208184</td>\n      <td>578.786678</td>\n      <td>450.383776</td>\n      <td>...</td>\n      <td>398.753368</td>\n      <td>10.113487</td>\n      <td>9.894903</td>\n      <td>16.98</td>\n      <td>3162.625026</td>\n      <td>38.220000</td>\n      <td>2.250883</td>\n      <td>3168.370621</td>\n      <td>1848.107759</td>\n      <td>NaN</td>\n    </tr>\n    <tr>\n      <th>1</th>\n      <td>2017-03-10 02:00:00</td>\n      <td>250.083563</td>\n      <td>250.174326</td>\n      <td>250.066843</td>\n      <td>295.096</td>\n      <td>300.0</td>\n      <td>249.992259</td>\n      <td>250.179793</td>\n      <td>574.098837</td>\n      <td>462.428981</td>\n      <td>...</td>\n      <td>399.500870</td>\n      <td>10.032253</td>\n      <td>8.972384</td>\n      <td>16.98</td>\n      <td>3280.258590</td>\n      <td>38.220000</td>\n      <td>2.250883</td>\n      <td>3258.210789</td>\n      <td>1845.592783</td>\n      <td>1.310000</td>\n    </tr>\n    <tr>\n      <th>2</th>\n      <td>2017-03-10 05:00:00</td>\n      <td>250.055587</td>\n      <td>250.182704</td>\n      <td>250.051909</td>\n      <td>295.096</td>\n      <td>300.0</td>\n      <td>250.080709</td>\n      <td>250.097083</td>\n      <td>619.925237</td>\n      <td>549.723694</td>\n      <td>...</td>\n      <td>399.903189</td>\n      <td>9.939564</td>\n      <td>11.834396</td>\n      <td>17.12</td>\n      <td>3199.440463</td>\n      <td>37.996667</td>\n      <td>2.219431</td>\n      <td>3863.737361</td>\n      <td>1845.563993</td>\n      <td>1.246667</td>\n    </tr>\n    <tr>\n      <th>3</th>\n      <td>2017-03-10 08:00:00</td>\n      <td>249.988883</td>\n      <td>250.047848</td>\n      <td>250.020237</td>\n      <td>295.096</td>\n      <td>300.0</td>\n      <td>250.159856</td>\n      <td>250.037881</td>\n      <td>590.318354</td>\n      <td>550.111556</td>\n      <td>...</td>\n      <td>400.060293</td>\n      <td>10.074968</td>\n      <td>12.626763</td>\n      <td>17.40</td>\n      <td>3469.331550</td>\n      <td>37.550000</td>\n      <td>2.158046</td>\n      <td>3859.372227</td>\n      <td>1845.350706</td>\n      <td>1.750000</td>\n    </tr>\n    <tr>\n      <th>4</th>\n      <td>2017-03-10 11:00:00</td>\n      <td>250.260143</td>\n      <td>250.197557</td>\n      <td>250.085200</td>\n      <td>295.096</td>\n      <td>300.0</td>\n      <td>250.060176</td>\n      <td>250.064574</td>\n      <td>540.756644</td>\n      <td>550.344274</td>\n      <td>...</td>\n      <td>400.101667</td>\n      <td>10.188462</td>\n      <td>17.352312</td>\n      <td>17.40</td>\n      <td>4297.453393</td>\n      <td>37.550000</td>\n      <td>2.158046</td>\n      <td>3849.395119</td>\n      <td>1845.763650</td>\n      <td>2.063333</td>\n    </tr>\n  </tbody>\n</table>\n<p>5 rows × 29 columns</p>\n</div>"
     },
     "execution_count": 3,
     "metadata": {},
     "output_type": "execute_result"
    }
   ],
   "source": [
    "import pandas as pd\n",
    "\n",
    "from modeling.datasets import get_sample_model_input_data\n",
    "\n",
    "\n",
    "\n",
    "df = get_sample_model_input_data()\n",
    "df.head()"
   ]
  },
  {
   "cell_type": "code",
   "execution_count": 4,
   "id": "c3312822",
   "metadata": {
    "ExecuteTime": {
     "end_time": "2024-03-04T23:13:28.574710Z",
     "start_time": "2024-03-04T23:13:28.571838Z"
    }
   },
   "outputs": [],
   "source": [
    "datetime_column = \"timestamp\""
   ]
  },
  {
   "cell_type": "markdown",
   "id": "b51e3f39",
   "metadata": {},
   "source": [
    "## Splitters"
   ]
  },
  {
   "cell_type": "markdown",
   "id": "2a8afa6e",
   "metadata": {},
   "source": [
    "### Splitter diagrams"
   ]
  },
  {
   "cell_type": "markdown",
   "id": "7dead63c",
   "metadata": {},
   "source": [
    "![diagram](./_images/_SplitterBase.png)"
   ]
  },
  {
   "cell_type": "markdown",
   "id": "9cc011cd",
   "metadata": {},
   "source": [
    "### `ByFracSplitter`\n",
    "\n",
    "This class ([API](../../../../../../docs/build/apidoc/modeling/modeling.splitters.html#modeling.splitters.by_frac_splitter.ByFracSplitter)) simply uses the functionality of `sklearn.model_selection.train_test_split` to perform the data split. Also, it has an optional `sort` parameter that allows to sort the data by the datetime column (if desired) before splitting. Pass [extra keyword arguments](https://scikit-learn.org/stable/modules/generated/sklearn.model_selection.train_test_split.html) to `__init__` method of `ByFracSplitter` to specify settings."
   ]
  },
  {
   "cell_type": "code",
   "execution_count": 5,
   "id": "2c97ed50",
   "metadata": {
    "ExecuteTime": {
     "end_time": "2024-03-04T23:13:28.581369Z",
     "start_time": "2024-03-04T23:13:28.576729Z"
    }
   },
   "outputs": [
    {
     "name": "stdout",
     "output_type": "stream",
     "text": [
      "INFO:modeling.splitters._splitters.base_splitter:Length of data before splitting is 1473\n",
      "INFO:modeling.splitters._splitters.base_splitter:Length of the train data after splitting is 1178, length of the test data after splitting is 295.\n"
     ]
    }
   ],
   "source": [
    "from modeling import ByFracSplitter\n",
    "\n",
    "splitter = ByFracSplitter(\n",
    "    datetime_column=datetime_column,\n",
    "    sort_date=True,\n",
    "    test_size=0.2,\n",
    ")\n",
    "train_frac, test_frac = splitter.split(df)"
   ]
  },
  {
   "cell_type": "markdown",
   "id": "424466cc",
   "metadata": {},
   "source": [
    "### `ByDateSplitter`\n",
    "\n",
    "This class ([API](../../../../../../docs/build/apidoc/modeling/modeling.splitters.html#modeling.splitters.by_frac_splitter.ByFracSplitter)) splits the data by the provided `split_date`. Training data will be all samples with `datetime` earlier than provided timestamp. Testing will be all samples later than provided timestamp. `split_date` can take any value accepted by `pd.to_datetime` and `pd.to_datetime` kwargs can be passed into `ByDateSplitter.__init__` method."
   ]
  },
  {
   "cell_type": "code",
   "execution_count": 6,
   "id": "d2bbfb93",
   "metadata": {
    "ExecuteTime": {
     "end_time": "2024-03-04T23:13:28.606365Z",
     "start_time": "2024-03-04T23:13:28.583213Z"
    }
   },
   "outputs": [
    {
     "name": "stdout",
     "output_type": "stream",
     "text": [
      "INFO:modeling.splitters._splitters.base_splitter:Length of data before splitting is 1473\n",
      "INFO:modeling.splitters._splitters.by_date_splitter:Splitting by datetime: 2017-08-30 23:00:00\n",
      "INFO:modeling.splitters._splitters.base_splitter:Length of the train data after splitting is 1392, length of the test data after splitting is 81.\n"
     ]
    }
   ],
   "source": [
    "from modeling import ByDateSplitter\n",
    "\n",
    "split_datetime = \"2017-08-30 23:00:00\"\n",
    "\n",
    "splitter = ByDateSplitter(\n",
    "    datetime_column=datetime_column,\n",
    "    split_datetime=split_datetime,\n",
    ")\n",
    "train_data, test_data = splitter.split(df)"
   ]
  },
  {
   "cell_type": "code",
   "execution_count": 7,
   "id": "bc9b1e0c",
   "metadata": {
    "ExecuteTime": {
     "end_time": "2024-03-04T23:13:28.617504Z",
     "start_time": "2024-03-04T23:13:28.592268Z"
    }
   },
   "outputs": [
    {
     "data": {
      "text/plain": "(True, True)"
     },
     "execution_count": 7,
     "metadata": {},
     "output_type": "execute_result"
    }
   ],
   "source": [
    "(\n",
    "    all(train_data[datetime_column] < split_datetime),\n",
    "    all(test_data[datetime_column] >= split_datetime),\n",
    ")"
   ]
  },
  {
   "cell_type": "code",
   "execution_count": 8,
   "id": "156cd599",
   "metadata": {
    "ExecuteTime": {
     "end_time": "2024-03-04T23:13:28.618286Z",
     "start_time": "2024-03-04T23:13:28.595360Z"
    }
   },
   "outputs": [
    {
     "data": {
      "text/plain": "True"
     },
     "execution_count": 8,
     "metadata": {},
     "output_type": "execute_result"
    }
   ],
   "source": [
    "any(test_data[datetime_column] == split_datetime)"
   ]
  },
  {
   "cell_type": "markdown",
   "id": "5a01c14b",
   "metadata": {},
   "source": [
    "### `ByIntervalsSplitter`\n",
    "\n",
    "This class ([API](../../../../../../docs/build/apidoc/modeling/modeling.splitters.html#modeling.splitters.by_intervals_splitter.ByIntervalsSplitter)) has splits the data by providing a date ranges to put into each dataset. We can use this in three different ways:\n",
    "\n",
    "1. Only provide `train_periods`. Samples not in these ranges will be in the test set.\n",
    "2. Only provide `test_periods`. Conversely, samples not in these ranges will be in the train set.\n",
    "3. Provide both `train_periods` and `test_periods`. Samples in neither of these ranges will not be returned.\n",
    "\n",
    "This class is useful for explicitly excluding periods of time we know there was an operational issue with the data that we didn't want to handle in cleaning. We'll demonstrate case 3 below.\n",
    "\n",
    "Range definitions are inclusive and are checked to ensure they are not overlapping. As before, upper and lower bounds of the date ranges can be anything `pd.to_datetime` accepts."
   ]
  },
  {
   "cell_type": "code",
   "execution_count": 9,
   "id": "cf99ddfc",
   "metadata": {
    "ExecuteTime": {
     "end_time": "2024-03-04T23:13:28.639402Z",
     "start_time": "2024-03-04T23:13:28.604239Z"
    }
   },
   "outputs": [
    {
     "name": "stdout",
     "output_type": "stream",
     "text": [
      "INFO:modeling.splitters._splitters.base_splitter:Length of data before splitting is 1473\n",
      "INFO:modeling.splitters._splitters.base_splitter:Length of the train data after splitting is 304, length of the test data after splitting is 71.\n"
     ]
    }
   ],
   "source": [
    "from modeling import ByIntervalsSplitter\n",
    "\n",
    "train_intervals = [\n",
    "    (\"2017-07-03 20:00:00\", \"2017-08-03 20:00:00\"), # Exclude a week in August.\n",
    "    (\"2017-08-10 20:00:00\", \"2017-08-17 20:00:00\"),\n",
    "]\n",
    "test_intervals = [(\"2017-09-01 00:00:00\", \"2017-09-09 23:00:00\")]\n",
    "\n",
    "splitter = ByIntervalsSplitter(\n",
    "    datetime_column=datetime_column,\n",
    "    train_intervals=train_intervals,\n",
    "    test_intervals=test_intervals,\n",
    ")\n",
    "train_periods, test_periods = splitter.split(df)"
   ]
  },
  {
   "cell_type": "code",
   "execution_count": 10,
   "id": "0044a1f3",
   "metadata": {
    "ExecuteTime": {
     "end_time": "2024-03-04T23:13:28.675891Z",
     "start_time": "2024-03-04T23:13:28.611691Z"
    }
   },
   "outputs": [
    {
     "data": {
      "text/plain": "((304, 29), (71, 29))"
     },
     "execution_count": 10,
     "metadata": {},
     "output_type": "execute_result"
    }
   ],
   "source": [
    "train_periods.shape, test_periods.shape"
   ]
  },
  {
   "cell_type": "code",
   "execution_count": 11,
   "id": "ed7d9f92",
   "metadata": {
    "ExecuteTime": {
     "end_time": "2024-03-04T23:13:28.683602Z",
     "start_time": "2024-03-04T23:13:28.616199Z"
    }
   },
   "outputs": [
    {
     "data": {
      "text/plain": "(False, False)"
     },
     "execution_count": 11,
     "metadata": {},
     "output_type": "execute_result"
    }
   ],
   "source": [
    "(\n",
    "    pd.to_datetime(\"2017-08-08 20:00:00\") in train_periods[datetime_column],\n",
    "    pd.to_datetime(\"2017-08-08 20:00:00\") in test_periods[datetime_column]\n",
    ")"
   ]
  },
  {
   "cell_type": "markdown",
   "id": "59242f6a",
   "metadata": {},
   "source": [
    "### `ByLastWindowSplitter`\n",
    "\n",
    "This class ([API](../../../../../../docs/build/apidoc/modeling/modeling.splitters.html#modeling.splitters.by_last_window.ByLastWindowSplitter)) splits the data by splitting the last window of time as the testing and all data before that window as training. For example, if we want the last week of data to be our test set, and everything else to be our training set.\n",
    "\n",
    "Below, `freq` can be anything accepted by `to_offset` that we can subtract from a `datetime` object. For example, `W`, `Y`, `M`, `D`, `H`, `min`, and `S` are all acceptable frequencies."
   ]
  },
  {
   "cell_type": "code",
   "execution_count": 12,
   "id": "d8409b3c",
   "metadata": {
    "ExecuteTime": {
     "end_time": "2024-03-04T23:13:28.684202Z",
     "start_time": "2024-03-04T23:13:28.620662Z"
    }
   },
   "outputs": [
    {
     "name": "stdout",
     "output_type": "stream",
     "text": [
      "INFO:modeling.splitters._splitters.base_splitter:Length of data before splitting is 1473\n",
      "INFO:modeling.splitters._splitters.by_last_window:Splitting by datetime: 2017-08-27 23:00:00\n",
      "INFO:modeling.splitters._splitters.base_splitter:Length of the train data after splitting is 1369, length of the test data after splitting is 104.\n"
     ]
    }
   ],
   "source": [
    "from modeling import ByLastWindowSplitter\n",
    "\n",
    "freq = \"2W\"  # Two weeks.\n",
    "\n",
    "splitter = ByLastWindowSplitter(\n",
    "datetime_column=datetime_column, freq=freq,\n",
    ")\n",
    "train_last, test_last = splitter.split(df)"
   ]
  },
  {
   "cell_type": "markdown",
   "id": "8d06e4a1",
   "metadata": {},
   "source": [
    "As you can see from the logging, this just calculates the date of the last window and uses `split_by_date`."
   ]
  },
  {
   "cell_type": "code",
   "execution_count": 13,
   "id": "a4423bdc",
   "metadata": {
    "ExecuteTime": {
     "end_time": "2024-03-04T23:13:28.684646Z",
     "start_time": "2024-03-04T23:13:28.627510Z"
    }
   },
   "outputs": [
    {
     "data": {
      "text/plain": "((1369, 29), (104, 29))"
     },
     "execution_count": 13,
     "metadata": {},
     "output_type": "execute_result"
    }
   ],
   "source": [
    "train_last.shape, test_last.shape"
   ]
  },
  {
   "cell_type": "markdown",
   "id": "94ff72a0",
   "metadata": {},
   "source": [
    "### `BySequentialSplitter`\n",
    "\n",
    "This class ([API](../../../../../../docs/build/apidoc/modeling/modeling.splitters.html#modeling.splitters.by_sequential_splitter.BySequentialSplitter)) takes two frequency arguments `block_freq` and `train_freq`. For each `block_freq`, `train_freq` amount of time will be used for training and the rest of the samples in `block_freq` will be used for testing."
   ]
  },
  {
   "cell_type": "code",
   "execution_count": 14,
   "id": "29a9d463",
   "metadata": {
    "ExecuteTime": {
     "end_time": "2024-03-04T23:13:28.701276Z",
     "start_time": "2024-03-04T23:13:28.635755Z"
    }
   },
   "outputs": [
    {
     "name": "stdout",
     "output_type": "stream",
     "text": [
      "INFO:modeling.splitters._splitters.base_splitter:Length of data before splitting is 1473\n",
      "INFO:modeling.splitters._splitters.base_splitter:Length of the train data after splitting is 1104, length of the test data after splitting is 369.\n"
     ]
    }
   ],
   "source": [
    "from modeling import BySequentialSplitter\n",
    "\n",
    "block_freq = \"1D\"  # For each day...\n",
    "train_freq = \"18H\"  # ... use 18 hours for training and the remaining 6 for testing.\n",
    "\n",
    "splitter = BySequentialSplitter(\n",
    "    datetime_column=datetime_column,\n",
    "    block_freq=block_freq,\n",
    "    train_freq=train_freq,\n",
    ")\n",
    "train_sequential, test_sequential = splitter.split(df)"
   ]
  },
  {
   "cell_type": "code",
   "execution_count": 15,
   "id": "c1c9ae46",
   "metadata": {
    "ExecuteTime": {
     "end_time": "2024-03-04T23:13:28.739044Z",
     "start_time": "2024-03-04T23:13:28.696768Z"
    }
   },
   "outputs": [
    {
     "data": {
      "text/plain": "             timestamp  air_flow01  air_flow02  air_flow03  air_flow04  \\\n0  2017-03-09 23:00:00  251.166672  250.226086  250.178287     295.096   \n1  2017-03-10 02:00:00  250.083563  250.174326  250.066843     295.096   \n2  2017-03-10 05:00:00  250.055587  250.182704  250.051909     295.096   \n3  2017-03-10 08:00:00  249.988883  250.047848  250.020237     295.096   \n4  2017-03-10 11:00:00  250.260143  250.197557  250.085200     295.096   \n5  2017-03-10 14:00:00  250.119752  249.855770  250.041583     295.096   \n8  2017-03-10 23:00:00  250.133769  250.297398  250.060098     295.096   \n9  2017-03-11 02:00:00  249.849022  250.050174  249.925398     295.096   \n10 2017-03-11 05:00:00  250.130278  250.172069  250.207430     295.096   \n11 2017-03-11 08:00:00  250.182476  249.908991  250.050211     295.096   \n12 2017-03-11 11:00:00  250.019119  250.219157  250.017850     295.096   \n13 2017-03-11 14:00:00  250.120296  250.249433  249.985139     295.096   \n16 2017-03-11 23:00:00  249.547302  249.361390  249.948974     295.096   \n17 2017-03-12 02:00:00  250.276713  250.112450  250.076735     295.096   \n18 2017-03-12 05:00:00  250.390317  250.006431  250.165472     295.096   \n19 2017-03-12 08:00:00  250.007663  250.207517  250.066578     295.096   \n20 2017-03-12 11:00:00  250.079378  249.953363  250.023361     295.096   \n21 2017-03-12 14:00:00  250.097937  249.968424  250.057093     295.096   \n24 2017-03-12 23:00:00  250.031765  249.937639  250.093870     295.096   \n\n    air_flow05  air_flow06  air_flow07  amina_flow  column_level01  ...  \\\n0        300.0  251.232529  250.208184  578.786678      450.383776  ...   \n1        300.0  249.992259  250.179793  574.098837      462.428981  ...   \n2        300.0  250.080709  250.097083  619.925237      549.723694  ...   \n3        300.0  250.159856  250.037881  590.318354      550.111556  ...   \n4        300.0  250.060176  250.064574  540.756644      550.344274  ...   \n5        300.0  250.053024  250.022956  523.987763      549.869907  ...   \n8        300.0  250.047656  250.003893  346.474348      549.918187  ...   \n9        300.0  250.109602  249.977889  336.002676      550.197283  ...   \n10       300.0  250.093452  250.044387  343.316696      553.372250  ...   \n11       300.0  250.125172  249.950078  523.351189      564.575080  ...   \n12       300.0  249.994243  249.992356  491.174896      549.917954  ...   \n13       300.0  250.139035  250.027189  461.285833      533.106969  ...   \n16       300.0  249.992504  249.969298  547.250598      450.379002  ...   \n17       300.0  250.263628  250.298826  558.196791      450.156911  ...   \n18       300.0  249.991806  249.975676  523.201156      449.654824  ...   \n19       300.0  250.067778  250.031052  483.683594      450.246054  ...   \n20       300.0  250.062917  250.072009  420.305148      464.778204  ...   \n21       300.0  250.062207  250.048020  535.063104      500.361043  ...   \n24       300.0  250.114548  250.014663  455.332170      572.106067  ...   \n\n    ore_pulp_flow  ore_pulp_ph  silica_conc  silica_feed  starch_flow  \\\n0      398.753368    10.113487     9.894903    16.980000  3162.625026   \n1      399.500870    10.032253     8.972384    16.980000  3280.258590   \n2      399.903189     9.939564    11.834396    17.120000  3199.440463   \n3      400.060293    10.074968    12.626763    17.400000  3469.331550   \n4      400.101667    10.188462    17.352312    17.400000  4297.453393   \n5      399.303424    10.343236    20.075338    17.320000  4990.956981   \n8      400.273437    10.061604    14.239330    14.190000  4618.658196   \n9      399.799630    10.170165    12.922474     8.250000  3120.682148   \n10     400.214996     9.821706    13.494741     8.493333  2365.553513   \n11     400.152228     9.617535    14.569071     8.980000  2207.344234   \n12     398.448208     9.542941    11.475602     8.980000  2788.615546   \n13     400.914919     9.757729    11.730202     9.016667  3411.991989   \n16     400.146205     9.914551    13.059985     9.880000  3193.933754   \n17     399.996088     9.944236    13.183507    11.460000  2886.257445   \n18     399.918516     9.799670    11.226614    11.460000  3442.271202   \n19     399.652576     9.767583    12.243541    11.460000  3683.853986   \n20     397.541680     9.829788    11.683474    11.460000  3313.473619   \n21     399.585814     9.847297    11.239277    11.373333  3537.918322   \n24     400.204069     9.614865     9.148670    11.556667  2901.083656   \n\n    iron_minus_silica  feed_diff_divide_silica  total_column_level  \\\n0           38.220000                 2.250883         3168.370621   \n1           38.220000                 2.250883         3258.210789   \n2           37.996667                 2.219431         3863.737361   \n3           37.550000                 2.158046         3859.372227   \n4           37.550000                 2.158046         3849.395119   \n5           37.976667                 2.192648         3859.242841   \n8           43.356667                 3.055438         3705.504719   \n9           52.410000                 6.352727         3788.002292   \n10          51.910000                 6.111852         3834.263798   \n11          50.910000                 5.669265         3752.557437   \n12          50.910000                 5.669265         3923.579769   \n13          50.796667                 5.633641         3914.999291   \n16          49.506667                 5.010796         3094.522851   \n17          47.380000                 4.134380         3149.708903   \n18          47.373333                 4.133799         3093.714395   \n19          47.360000                 4.132635         3294.094562   \n20          47.360000                 4.132635         3470.422400   \n21          47.523333                 4.178488         3226.454084   \n24          46.926667                 4.060571         3829.799363   \n\n    total_air_flow  silica_conc_lagged  \n0      1848.107759                 NaN  \n1      1845.592783            1.310000  \n2      1845.563993            1.246667  \n3      1845.350706            1.750000  \n4      1845.763650            2.063333  \n5      1845.189085            2.386667  \n8      1845.638813            1.373333  \n9      1845.008085            1.183333  \n10     1845.743615            3.326667  \n11     1845.312928            4.680000  \n12     1845.338724            3.533333  \n13     1845.617093            1.643333  \n16     1843.915468            4.233333  \n17     1846.124352            4.043333  \n18     1845.625702            3.273333  \n19     1845.476587            2.183333  \n20     1845.287028            3.473333  \n21     1845.329681            4.235000  \n24     1845.288485            1.630000  \n\n[19 rows x 29 columns]",
      "text/html": "<div>\n<style scoped>\n    .dataframe tbody tr th:only-of-type {\n        vertical-align: middle;\n    }\n\n    .dataframe tbody tr th {\n        vertical-align: top;\n    }\n\n    .dataframe thead th {\n        text-align: right;\n    }\n</style>\n<table border=\"1\" class=\"dataframe\">\n  <thead>\n    <tr style=\"text-align: right;\">\n      <th></th>\n      <th>timestamp</th>\n      <th>air_flow01</th>\n      <th>air_flow02</th>\n      <th>air_flow03</th>\n      <th>air_flow04</th>\n      <th>air_flow05</th>\n      <th>air_flow06</th>\n      <th>air_flow07</th>\n      <th>amina_flow</th>\n      <th>column_level01</th>\n      <th>...</th>\n      <th>ore_pulp_flow</th>\n      <th>ore_pulp_ph</th>\n      <th>silica_conc</th>\n      <th>silica_feed</th>\n      <th>starch_flow</th>\n      <th>iron_minus_silica</th>\n      <th>feed_diff_divide_silica</th>\n      <th>total_column_level</th>\n      <th>total_air_flow</th>\n      <th>silica_conc_lagged</th>\n    </tr>\n  </thead>\n  <tbody>\n    <tr>\n      <th>0</th>\n      <td>2017-03-09 23:00:00</td>\n      <td>251.166672</td>\n      <td>250.226086</td>\n      <td>250.178287</td>\n      <td>295.096</td>\n      <td>300.0</td>\n      <td>251.232529</td>\n      <td>250.208184</td>\n      <td>578.786678</td>\n      <td>450.383776</td>\n      <td>...</td>\n      <td>398.753368</td>\n      <td>10.113487</td>\n      <td>9.894903</td>\n      <td>16.980000</td>\n      <td>3162.625026</td>\n      <td>38.220000</td>\n      <td>2.250883</td>\n      <td>3168.370621</td>\n      <td>1848.107759</td>\n      <td>NaN</td>\n    </tr>\n    <tr>\n      <th>1</th>\n      <td>2017-03-10 02:00:00</td>\n      <td>250.083563</td>\n      <td>250.174326</td>\n      <td>250.066843</td>\n      <td>295.096</td>\n      <td>300.0</td>\n      <td>249.992259</td>\n      <td>250.179793</td>\n      <td>574.098837</td>\n      <td>462.428981</td>\n      <td>...</td>\n      <td>399.500870</td>\n      <td>10.032253</td>\n      <td>8.972384</td>\n      <td>16.980000</td>\n      <td>3280.258590</td>\n      <td>38.220000</td>\n      <td>2.250883</td>\n      <td>3258.210789</td>\n      <td>1845.592783</td>\n      <td>1.310000</td>\n    </tr>\n    <tr>\n      <th>2</th>\n      <td>2017-03-10 05:00:00</td>\n      <td>250.055587</td>\n      <td>250.182704</td>\n      <td>250.051909</td>\n      <td>295.096</td>\n      <td>300.0</td>\n      <td>250.080709</td>\n      <td>250.097083</td>\n      <td>619.925237</td>\n      <td>549.723694</td>\n      <td>...</td>\n      <td>399.903189</td>\n      <td>9.939564</td>\n      <td>11.834396</td>\n      <td>17.120000</td>\n      <td>3199.440463</td>\n      <td>37.996667</td>\n      <td>2.219431</td>\n      <td>3863.737361</td>\n      <td>1845.563993</td>\n      <td>1.246667</td>\n    </tr>\n    <tr>\n      <th>3</th>\n      <td>2017-03-10 08:00:00</td>\n      <td>249.988883</td>\n      <td>250.047848</td>\n      <td>250.020237</td>\n      <td>295.096</td>\n      <td>300.0</td>\n      <td>250.159856</td>\n      <td>250.037881</td>\n      <td>590.318354</td>\n      <td>550.111556</td>\n      <td>...</td>\n      <td>400.060293</td>\n      <td>10.074968</td>\n      <td>12.626763</td>\n      <td>17.400000</td>\n      <td>3469.331550</td>\n      <td>37.550000</td>\n      <td>2.158046</td>\n      <td>3859.372227</td>\n      <td>1845.350706</td>\n      <td>1.750000</td>\n    </tr>\n    <tr>\n      <th>4</th>\n      <td>2017-03-10 11:00:00</td>\n      <td>250.260143</td>\n      <td>250.197557</td>\n      <td>250.085200</td>\n      <td>295.096</td>\n      <td>300.0</td>\n      <td>250.060176</td>\n      <td>250.064574</td>\n      <td>540.756644</td>\n      <td>550.344274</td>\n      <td>...</td>\n      <td>400.101667</td>\n      <td>10.188462</td>\n      <td>17.352312</td>\n      <td>17.400000</td>\n      <td>4297.453393</td>\n      <td>37.550000</td>\n      <td>2.158046</td>\n      <td>3849.395119</td>\n      <td>1845.763650</td>\n      <td>2.063333</td>\n    </tr>\n    <tr>\n      <th>5</th>\n      <td>2017-03-10 14:00:00</td>\n      <td>250.119752</td>\n      <td>249.855770</td>\n      <td>250.041583</td>\n      <td>295.096</td>\n      <td>300.0</td>\n      <td>250.053024</td>\n      <td>250.022956</td>\n      <td>523.987763</td>\n      <td>549.869907</td>\n      <td>...</td>\n      <td>399.303424</td>\n      <td>10.343236</td>\n      <td>20.075338</td>\n      <td>17.320000</td>\n      <td>4990.956981</td>\n      <td>37.976667</td>\n      <td>2.192648</td>\n      <td>3859.242841</td>\n      <td>1845.189085</td>\n      <td>2.386667</td>\n    </tr>\n    <tr>\n      <th>8</th>\n      <td>2017-03-10 23:00:00</td>\n      <td>250.133769</td>\n      <td>250.297398</td>\n      <td>250.060098</td>\n      <td>295.096</td>\n      <td>300.0</td>\n      <td>250.047656</td>\n      <td>250.003893</td>\n      <td>346.474348</td>\n      <td>549.918187</td>\n      <td>...</td>\n      <td>400.273437</td>\n      <td>10.061604</td>\n      <td>14.239330</td>\n      <td>14.190000</td>\n      <td>4618.658196</td>\n      <td>43.356667</td>\n      <td>3.055438</td>\n      <td>3705.504719</td>\n      <td>1845.638813</td>\n      <td>1.373333</td>\n    </tr>\n    <tr>\n      <th>9</th>\n      <td>2017-03-11 02:00:00</td>\n      <td>249.849022</td>\n      <td>250.050174</td>\n      <td>249.925398</td>\n      <td>295.096</td>\n      <td>300.0</td>\n      <td>250.109602</td>\n      <td>249.977889</td>\n      <td>336.002676</td>\n      <td>550.197283</td>\n      <td>...</td>\n      <td>399.799630</td>\n      <td>10.170165</td>\n      <td>12.922474</td>\n      <td>8.250000</td>\n      <td>3120.682148</td>\n      <td>52.410000</td>\n      <td>6.352727</td>\n      <td>3788.002292</td>\n      <td>1845.008085</td>\n      <td>1.183333</td>\n    </tr>\n    <tr>\n      <th>10</th>\n      <td>2017-03-11 05:00:00</td>\n      <td>250.130278</td>\n      <td>250.172069</td>\n      <td>250.207430</td>\n      <td>295.096</td>\n      <td>300.0</td>\n      <td>250.093452</td>\n      <td>250.044387</td>\n      <td>343.316696</td>\n      <td>553.372250</td>\n      <td>...</td>\n      <td>400.214996</td>\n      <td>9.821706</td>\n      <td>13.494741</td>\n      <td>8.493333</td>\n      <td>2365.553513</td>\n      <td>51.910000</td>\n      <td>6.111852</td>\n      <td>3834.263798</td>\n      <td>1845.743615</td>\n      <td>3.326667</td>\n    </tr>\n    <tr>\n      <th>11</th>\n      <td>2017-03-11 08:00:00</td>\n      <td>250.182476</td>\n      <td>249.908991</td>\n      <td>250.050211</td>\n      <td>295.096</td>\n      <td>300.0</td>\n      <td>250.125172</td>\n      <td>249.950078</td>\n      <td>523.351189</td>\n      <td>564.575080</td>\n      <td>...</td>\n      <td>400.152228</td>\n      <td>9.617535</td>\n      <td>14.569071</td>\n      <td>8.980000</td>\n      <td>2207.344234</td>\n      <td>50.910000</td>\n      <td>5.669265</td>\n      <td>3752.557437</td>\n      <td>1845.312928</td>\n      <td>4.680000</td>\n    </tr>\n    <tr>\n      <th>12</th>\n      <td>2017-03-11 11:00:00</td>\n      <td>250.019119</td>\n      <td>250.219157</td>\n      <td>250.017850</td>\n      <td>295.096</td>\n      <td>300.0</td>\n      <td>249.994243</td>\n      <td>249.992356</td>\n      <td>491.174896</td>\n      <td>549.917954</td>\n      <td>...</td>\n      <td>398.448208</td>\n      <td>9.542941</td>\n      <td>11.475602</td>\n      <td>8.980000</td>\n      <td>2788.615546</td>\n      <td>50.910000</td>\n      <td>5.669265</td>\n      <td>3923.579769</td>\n      <td>1845.338724</td>\n      <td>3.533333</td>\n    </tr>\n    <tr>\n      <th>13</th>\n      <td>2017-03-11 14:00:00</td>\n      <td>250.120296</td>\n      <td>250.249433</td>\n      <td>249.985139</td>\n      <td>295.096</td>\n      <td>300.0</td>\n      <td>250.139035</td>\n      <td>250.027189</td>\n      <td>461.285833</td>\n      <td>533.106969</td>\n      <td>...</td>\n      <td>400.914919</td>\n      <td>9.757729</td>\n      <td>11.730202</td>\n      <td>9.016667</td>\n      <td>3411.991989</td>\n      <td>50.796667</td>\n      <td>5.633641</td>\n      <td>3914.999291</td>\n      <td>1845.617093</td>\n      <td>1.643333</td>\n    </tr>\n    <tr>\n      <th>16</th>\n      <td>2017-03-11 23:00:00</td>\n      <td>249.547302</td>\n      <td>249.361390</td>\n      <td>249.948974</td>\n      <td>295.096</td>\n      <td>300.0</td>\n      <td>249.992504</td>\n      <td>249.969298</td>\n      <td>547.250598</td>\n      <td>450.379002</td>\n      <td>...</td>\n      <td>400.146205</td>\n      <td>9.914551</td>\n      <td>13.059985</td>\n      <td>9.880000</td>\n      <td>3193.933754</td>\n      <td>49.506667</td>\n      <td>5.010796</td>\n      <td>3094.522851</td>\n      <td>1843.915468</td>\n      <td>4.233333</td>\n    </tr>\n    <tr>\n      <th>17</th>\n      <td>2017-03-12 02:00:00</td>\n      <td>250.276713</td>\n      <td>250.112450</td>\n      <td>250.076735</td>\n      <td>295.096</td>\n      <td>300.0</td>\n      <td>250.263628</td>\n      <td>250.298826</td>\n      <td>558.196791</td>\n      <td>450.156911</td>\n      <td>...</td>\n      <td>399.996088</td>\n      <td>9.944236</td>\n      <td>13.183507</td>\n      <td>11.460000</td>\n      <td>2886.257445</td>\n      <td>47.380000</td>\n      <td>4.134380</td>\n      <td>3149.708903</td>\n      <td>1846.124352</td>\n      <td>4.043333</td>\n    </tr>\n    <tr>\n      <th>18</th>\n      <td>2017-03-12 05:00:00</td>\n      <td>250.390317</td>\n      <td>250.006431</td>\n      <td>250.165472</td>\n      <td>295.096</td>\n      <td>300.0</td>\n      <td>249.991806</td>\n      <td>249.975676</td>\n      <td>523.201156</td>\n      <td>449.654824</td>\n      <td>...</td>\n      <td>399.918516</td>\n      <td>9.799670</td>\n      <td>11.226614</td>\n      <td>11.460000</td>\n      <td>3442.271202</td>\n      <td>47.373333</td>\n      <td>4.133799</td>\n      <td>3093.714395</td>\n      <td>1845.625702</td>\n      <td>3.273333</td>\n    </tr>\n    <tr>\n      <th>19</th>\n      <td>2017-03-12 08:00:00</td>\n      <td>250.007663</td>\n      <td>250.207517</td>\n      <td>250.066578</td>\n      <td>295.096</td>\n      <td>300.0</td>\n      <td>250.067778</td>\n      <td>250.031052</td>\n      <td>483.683594</td>\n      <td>450.246054</td>\n      <td>...</td>\n      <td>399.652576</td>\n      <td>9.767583</td>\n      <td>12.243541</td>\n      <td>11.460000</td>\n      <td>3683.853986</td>\n      <td>47.360000</td>\n      <td>4.132635</td>\n      <td>3294.094562</td>\n      <td>1845.476587</td>\n      <td>2.183333</td>\n    </tr>\n    <tr>\n      <th>20</th>\n      <td>2017-03-12 11:00:00</td>\n      <td>250.079378</td>\n      <td>249.953363</td>\n      <td>250.023361</td>\n      <td>295.096</td>\n      <td>300.0</td>\n      <td>250.062917</td>\n      <td>250.072009</td>\n      <td>420.305148</td>\n      <td>464.778204</td>\n      <td>...</td>\n      <td>397.541680</td>\n      <td>9.829788</td>\n      <td>11.683474</td>\n      <td>11.460000</td>\n      <td>3313.473619</td>\n      <td>47.360000</td>\n      <td>4.132635</td>\n      <td>3470.422400</td>\n      <td>1845.287028</td>\n      <td>3.473333</td>\n    </tr>\n    <tr>\n      <th>21</th>\n      <td>2017-03-12 14:00:00</td>\n      <td>250.097937</td>\n      <td>249.968424</td>\n      <td>250.057093</td>\n      <td>295.096</td>\n      <td>300.0</td>\n      <td>250.062207</td>\n      <td>250.048020</td>\n      <td>535.063104</td>\n      <td>500.361043</td>\n      <td>...</td>\n      <td>399.585814</td>\n      <td>9.847297</td>\n      <td>11.239277</td>\n      <td>11.373333</td>\n      <td>3537.918322</td>\n      <td>47.523333</td>\n      <td>4.178488</td>\n      <td>3226.454084</td>\n      <td>1845.329681</td>\n      <td>4.235000</td>\n    </tr>\n    <tr>\n      <th>24</th>\n      <td>2017-03-12 23:00:00</td>\n      <td>250.031765</td>\n      <td>249.937639</td>\n      <td>250.093870</td>\n      <td>295.096</td>\n      <td>300.0</td>\n      <td>250.114548</td>\n      <td>250.014663</td>\n      <td>455.332170</td>\n      <td>572.106067</td>\n      <td>...</td>\n      <td>400.204069</td>\n      <td>9.614865</td>\n      <td>9.148670</td>\n      <td>11.556667</td>\n      <td>2901.083656</td>\n      <td>46.926667</td>\n      <td>4.060571</td>\n      <td>3829.799363</td>\n      <td>1845.288485</td>\n      <td>1.630000</td>\n    </tr>\n  </tbody>\n</table>\n<p>19 rows × 29 columns</p>\n</div>"
     },
     "execution_count": 15,
     "metadata": {},
     "output_type": "execute_result"
    }
   ],
   "source": [
    "train_sequential.head(18 + 1)"
   ]
  },
  {
   "cell_type": "code",
   "execution_count": 16,
   "id": "1c93a94d",
   "metadata": {
    "ExecuteTime": {
     "end_time": "2024-03-04T23:13:28.741442Z",
     "start_time": "2024-03-04T23:13:28.710400Z"
    }
   },
   "outputs": [
    {
     "data": {
      "text/plain": "             timestamp  air_flow01  air_flow02  air_flow03  air_flow04  \\\n6  2017-03-10 17:00:00  249.963543  250.093681  250.070113     295.096   \n7  2017-03-10 20:00:00  249.943780  250.169919  250.039863     295.096   \n14 2017-03-11 17:00:00  249.810896  250.223563  250.039122     295.096   \n15 2017-03-11 20:00:00  249.944893  250.123711  250.047381     295.096   \n22 2017-03-12 17:00:00  250.213143  250.000272  250.053331     295.096   \n23 2017-03-12 20:00:00  250.097822  250.090957  250.052933     295.096   \n30 2017-03-13 17:00:00  250.074976  250.091080  250.136496     295.096   \n\n    air_flow05  air_flow06  air_flow07  amina_flow  column_level01  ...  \\\n6        300.0  250.009341  250.027998  517.197504      549.933620  ...   \n7        300.0  249.995511  250.082337  435.577665      515.753181  ...   \n14       300.0  249.896685  250.090050  552.611200      451.154317  ...   \n15       300.0  250.008059  250.064146  558.763622      512.218976  ...   \n22       300.0  250.221459  250.083674  533.323226      501.240696  ...   \n23       300.0  250.187331  250.026326  446.119306      623.963726  ...   \n30       300.0  250.026670  250.029707  423.507580      587.034526  ...   \n\n    ore_pulp_flow  ore_pulp_ph  silica_conc  silica_feed  starch_flow  \\\n6      399.737507    10.344621    19.240095        17.16  4976.461926   \n7      399.750733    10.066053    11.701512        17.16  4017.272087   \n14     398.985193     9.974552    12.265194         9.09  3381.366610   \n15     399.915413     9.878451    13.994933         9.09  3127.612054   \n22     399.819889     9.878118    13.061891        11.20  3891.145269   \n23     401.032730     9.958170    14.560880        11.20  3942.052880   \n30     399.823439     9.987743    12.833483         8.94  3872.897195   \n\n    iron_minus_silica  feed_diff_divide_silica  total_column_level  \\\n6               38.83                 2.262821         3861.450931   \n7               38.83                 2.262821         3469.260628   \n14              50.57                 5.563256         3172.039398   \n15              50.57                 5.563256         3506.238645   \n22              47.85                 4.272321         3451.072502   \n23              47.85                 4.272321         4125.149356   \n30              50.01                 5.593960         3948.833264   \n\n    total_air_flow  silica_conc_lagged  \n6      1845.260676            1.513333  \n7      1845.327409            2.216667  \n14     1845.156317            2.443333  \n15     1845.284191            2.360000  \n22     1845.667880            2.683333  \n23     1845.551370            1.690000  \n30     1845.454930            1.676667  \n\n[7 rows x 29 columns]",
      "text/html": "<div>\n<style scoped>\n    .dataframe tbody tr th:only-of-type {\n        vertical-align: middle;\n    }\n\n    .dataframe tbody tr th {\n        vertical-align: top;\n    }\n\n    .dataframe thead th {\n        text-align: right;\n    }\n</style>\n<table border=\"1\" class=\"dataframe\">\n  <thead>\n    <tr style=\"text-align: right;\">\n      <th></th>\n      <th>timestamp</th>\n      <th>air_flow01</th>\n      <th>air_flow02</th>\n      <th>air_flow03</th>\n      <th>air_flow04</th>\n      <th>air_flow05</th>\n      <th>air_flow06</th>\n      <th>air_flow07</th>\n      <th>amina_flow</th>\n      <th>column_level01</th>\n      <th>...</th>\n      <th>ore_pulp_flow</th>\n      <th>ore_pulp_ph</th>\n      <th>silica_conc</th>\n      <th>silica_feed</th>\n      <th>starch_flow</th>\n      <th>iron_minus_silica</th>\n      <th>feed_diff_divide_silica</th>\n      <th>total_column_level</th>\n      <th>total_air_flow</th>\n      <th>silica_conc_lagged</th>\n    </tr>\n  </thead>\n  <tbody>\n    <tr>\n      <th>6</th>\n      <td>2017-03-10 17:00:00</td>\n      <td>249.963543</td>\n      <td>250.093681</td>\n      <td>250.070113</td>\n      <td>295.096</td>\n      <td>300.0</td>\n      <td>250.009341</td>\n      <td>250.027998</td>\n      <td>517.197504</td>\n      <td>549.933620</td>\n      <td>...</td>\n      <td>399.737507</td>\n      <td>10.344621</td>\n      <td>19.240095</td>\n      <td>17.16</td>\n      <td>4976.461926</td>\n      <td>38.83</td>\n      <td>2.262821</td>\n      <td>3861.450931</td>\n      <td>1845.260676</td>\n      <td>1.513333</td>\n    </tr>\n    <tr>\n      <th>7</th>\n      <td>2017-03-10 20:00:00</td>\n      <td>249.943780</td>\n      <td>250.169919</td>\n      <td>250.039863</td>\n      <td>295.096</td>\n      <td>300.0</td>\n      <td>249.995511</td>\n      <td>250.082337</td>\n      <td>435.577665</td>\n      <td>515.753181</td>\n      <td>...</td>\n      <td>399.750733</td>\n      <td>10.066053</td>\n      <td>11.701512</td>\n      <td>17.16</td>\n      <td>4017.272087</td>\n      <td>38.83</td>\n      <td>2.262821</td>\n      <td>3469.260628</td>\n      <td>1845.327409</td>\n      <td>2.216667</td>\n    </tr>\n    <tr>\n      <th>14</th>\n      <td>2017-03-11 17:00:00</td>\n      <td>249.810896</td>\n      <td>250.223563</td>\n      <td>250.039122</td>\n      <td>295.096</td>\n      <td>300.0</td>\n      <td>249.896685</td>\n      <td>250.090050</td>\n      <td>552.611200</td>\n      <td>451.154317</td>\n      <td>...</td>\n      <td>398.985193</td>\n      <td>9.974552</td>\n      <td>12.265194</td>\n      <td>9.09</td>\n      <td>3381.366610</td>\n      <td>50.57</td>\n      <td>5.563256</td>\n      <td>3172.039398</td>\n      <td>1845.156317</td>\n      <td>2.443333</td>\n    </tr>\n    <tr>\n      <th>15</th>\n      <td>2017-03-11 20:00:00</td>\n      <td>249.944893</td>\n      <td>250.123711</td>\n      <td>250.047381</td>\n      <td>295.096</td>\n      <td>300.0</td>\n      <td>250.008059</td>\n      <td>250.064146</td>\n      <td>558.763622</td>\n      <td>512.218976</td>\n      <td>...</td>\n      <td>399.915413</td>\n      <td>9.878451</td>\n      <td>13.994933</td>\n      <td>9.09</td>\n      <td>3127.612054</td>\n      <td>50.57</td>\n      <td>5.563256</td>\n      <td>3506.238645</td>\n      <td>1845.284191</td>\n      <td>2.360000</td>\n    </tr>\n    <tr>\n      <th>22</th>\n      <td>2017-03-12 17:00:00</td>\n      <td>250.213143</td>\n      <td>250.000272</td>\n      <td>250.053331</td>\n      <td>295.096</td>\n      <td>300.0</td>\n      <td>250.221459</td>\n      <td>250.083674</td>\n      <td>533.323226</td>\n      <td>501.240696</td>\n      <td>...</td>\n      <td>399.819889</td>\n      <td>9.878118</td>\n      <td>13.061891</td>\n      <td>11.20</td>\n      <td>3891.145269</td>\n      <td>47.85</td>\n      <td>4.272321</td>\n      <td>3451.072502</td>\n      <td>1845.667880</td>\n      <td>2.683333</td>\n    </tr>\n    <tr>\n      <th>23</th>\n      <td>2017-03-12 20:00:00</td>\n      <td>250.097822</td>\n      <td>250.090957</td>\n      <td>250.052933</td>\n      <td>295.096</td>\n      <td>300.0</td>\n      <td>250.187331</td>\n      <td>250.026326</td>\n      <td>446.119306</td>\n      <td>623.963726</td>\n      <td>...</td>\n      <td>401.032730</td>\n      <td>9.958170</td>\n      <td>14.560880</td>\n      <td>11.20</td>\n      <td>3942.052880</td>\n      <td>47.85</td>\n      <td>4.272321</td>\n      <td>4125.149356</td>\n      <td>1845.551370</td>\n      <td>1.690000</td>\n    </tr>\n    <tr>\n      <th>30</th>\n      <td>2017-03-13 17:00:00</td>\n      <td>250.074976</td>\n      <td>250.091080</td>\n      <td>250.136496</td>\n      <td>295.096</td>\n      <td>300.0</td>\n      <td>250.026670</td>\n      <td>250.029707</td>\n      <td>423.507580</td>\n      <td>587.034526</td>\n      <td>...</td>\n      <td>399.823439</td>\n      <td>9.987743</td>\n      <td>12.833483</td>\n      <td>8.94</td>\n      <td>3872.897195</td>\n      <td>50.01</td>\n      <td>5.593960</td>\n      <td>3948.833264</td>\n      <td>1845.454930</td>\n      <td>1.676667</td>\n    </tr>\n  </tbody>\n</table>\n<p>7 rows × 29 columns</p>\n</div>"
     },
     "execution_count": 16,
     "metadata": {},
     "output_type": "execute_result"
    }
   ],
   "source": [
    "test_sequential.head(6 + 1)"
   ]
  },
  {
   "cell_type": "markdown",
   "source": [
    "### `ByColumnValueSplitter`\n",
    "\n",
    "This class ([API](../../../../../../docs/build/apidoc/modeling/modeling.splitters.html#modeling.splitters.by_column_value.ByColumnValueSplitter)) splits data based on single column values: sends rows belonging to a specified collection of values to the test piece, and the rest to the train piece.\n",
    "\n",
    "This splitter is useful when **working with panel data**, e.g.:\n",
    "    - In oil wells data, send a pre-defined set of wells to test dataset.\n",
    "    - In retail stores data, send a pre-defined set of stores to test dataset.\n",
    "    \n",
    "Its constructor takes 2 arguments:\n",
    "* `column_name`: To split by.\n",
    "* `values_for_test`: Which labels from this column to send to a test set.\n",
    "\n",
    "Let's create a dummy dataset to showcase the application of such `Splitter`.\n",
    "Imagine we have temperature and humidity observations coming from 5 countries, and e.g. the goal is to predict `temperature` from `humidity`:"
   ],
   "metadata": {
    "collapsed": false
   },
   "id": "343bb8166425e09e"
  },
  {
   "cell_type": "code",
   "outputs": [
    {
     "data": {
      "text/plain": "    country  temperature  humidity\n0       USA     0.227239  0.804764\n1     China     0.554585  0.387478\n2     China     0.063817  0.288328\n3   Germany     0.827631  0.682496\n4   Germany     0.631664  0.139752\n5    Brazil     0.758088  0.199908\n6       USA     0.354526  0.007362\n7     China     0.970698  0.786924\n8    Canada     0.893121  0.664851\n9       USA     0.778383  0.705165\n10  Germany     0.194639  0.780729\n11   Brazil     0.466721  0.458916\n12    China     0.043804  0.568741\n13    China     0.154289  0.139797\n14    China     0.683049  0.114530\n15    China     0.744762  0.668403\n16  Germany     0.967510  0.471096\n17      USA     0.325825  0.565236\n18   Brazil     0.370460  0.764999\n19  Germany     0.469556  0.634718\n20  Germany     0.189471  0.553579\n21   Canada     0.129922  0.559207\n22      USA     0.475705  0.303950\n23   Brazil     0.226909  0.030818\n24    China     0.669814  0.436717\n25    China     0.437152  0.214585\n26  Germany     0.832678  0.408529\n27   Brazil     0.700265  0.853403\n28  Germany     0.312367  0.233939\n29  Germany     0.832260  0.058303",
      "text/html": "<div>\n<style scoped>\n    .dataframe tbody tr th:only-of-type {\n        vertical-align: middle;\n    }\n\n    .dataframe tbody tr th {\n        vertical-align: top;\n    }\n\n    .dataframe thead th {\n        text-align: right;\n    }\n</style>\n<table border=\"1\" class=\"dataframe\">\n  <thead>\n    <tr style=\"text-align: right;\">\n      <th></th>\n      <th>country</th>\n      <th>temperature</th>\n      <th>humidity</th>\n    </tr>\n  </thead>\n  <tbody>\n    <tr>\n      <th>0</th>\n      <td>USA</td>\n      <td>0.227239</td>\n      <td>0.804764</td>\n    </tr>\n    <tr>\n      <th>1</th>\n      <td>China</td>\n      <td>0.554585</td>\n      <td>0.387478</td>\n    </tr>\n    <tr>\n      <th>2</th>\n      <td>China</td>\n      <td>0.063817</td>\n      <td>0.288328</td>\n    </tr>\n    <tr>\n      <th>3</th>\n      <td>Germany</td>\n      <td>0.827631</td>\n      <td>0.682496</td>\n    </tr>\n    <tr>\n      <th>4</th>\n      <td>Germany</td>\n      <td>0.631664</td>\n      <td>0.139752</td>\n    </tr>\n    <tr>\n      <th>5</th>\n      <td>Brazil</td>\n      <td>0.758088</td>\n      <td>0.199908</td>\n    </tr>\n    <tr>\n      <th>6</th>\n      <td>USA</td>\n      <td>0.354526</td>\n      <td>0.007362</td>\n    </tr>\n    <tr>\n      <th>7</th>\n      <td>China</td>\n      <td>0.970698</td>\n      <td>0.786924</td>\n    </tr>\n    <tr>\n      <th>8</th>\n      <td>Canada</td>\n      <td>0.893121</td>\n      <td>0.664851</td>\n    </tr>\n    <tr>\n      <th>9</th>\n      <td>USA</td>\n      <td>0.778383</td>\n      <td>0.705165</td>\n    </tr>\n    <tr>\n      <th>10</th>\n      <td>Germany</td>\n      <td>0.194639</td>\n      <td>0.780729</td>\n    </tr>\n    <tr>\n      <th>11</th>\n      <td>Brazil</td>\n      <td>0.466721</td>\n      <td>0.458916</td>\n    </tr>\n    <tr>\n      <th>12</th>\n      <td>China</td>\n      <td>0.043804</td>\n      <td>0.568741</td>\n    </tr>\n    <tr>\n      <th>13</th>\n      <td>China</td>\n      <td>0.154289</td>\n      <td>0.139797</td>\n    </tr>\n    <tr>\n      <th>14</th>\n      <td>China</td>\n      <td>0.683049</td>\n      <td>0.114530</td>\n    </tr>\n    <tr>\n      <th>15</th>\n      <td>China</td>\n      <td>0.744762</td>\n      <td>0.668403</td>\n    </tr>\n    <tr>\n      <th>16</th>\n      <td>Germany</td>\n      <td>0.967510</td>\n      <td>0.471096</td>\n    </tr>\n    <tr>\n      <th>17</th>\n      <td>USA</td>\n      <td>0.325825</td>\n      <td>0.565236</td>\n    </tr>\n    <tr>\n      <th>18</th>\n      <td>Brazil</td>\n      <td>0.370460</td>\n      <td>0.764999</td>\n    </tr>\n    <tr>\n      <th>19</th>\n      <td>Germany</td>\n      <td>0.469556</td>\n      <td>0.634718</td>\n    </tr>\n    <tr>\n      <th>20</th>\n      <td>Germany</td>\n      <td>0.189471</td>\n      <td>0.553579</td>\n    </tr>\n    <tr>\n      <th>21</th>\n      <td>Canada</td>\n      <td>0.129922</td>\n      <td>0.559207</td>\n    </tr>\n    <tr>\n      <th>22</th>\n      <td>USA</td>\n      <td>0.475705</td>\n      <td>0.303950</td>\n    </tr>\n    <tr>\n      <th>23</th>\n      <td>Brazil</td>\n      <td>0.226909</td>\n      <td>0.030818</td>\n    </tr>\n    <tr>\n      <th>24</th>\n      <td>China</td>\n      <td>0.669814</td>\n      <td>0.436717</td>\n    </tr>\n    <tr>\n      <th>25</th>\n      <td>China</td>\n      <td>0.437152</td>\n      <td>0.214585</td>\n    </tr>\n    <tr>\n      <th>26</th>\n      <td>Germany</td>\n      <td>0.832678</td>\n      <td>0.408529</td>\n    </tr>\n    <tr>\n      <th>27</th>\n      <td>Brazil</td>\n      <td>0.700265</td>\n      <td>0.853403</td>\n    </tr>\n    <tr>\n      <th>28</th>\n      <td>Germany</td>\n      <td>0.312367</td>\n      <td>0.233939</td>\n    </tr>\n    <tr>\n      <th>29</th>\n      <td>Germany</td>\n      <td>0.832260</td>\n      <td>0.058303</td>\n    </tr>\n  </tbody>\n</table>\n</div>"
     },
     "execution_count": 17,
     "metadata": {},
     "output_type": "execute_result"
    }
   ],
   "source": [
    "import numpy as np\n",
    "\n",
    "rng = np.random.default_rng(42)\n",
    "n_rows = 30\n",
    "\n",
    "data = pd.DataFrame({\n",
    "    \"country\": rng.choice((\"USA\", \"Canada\", \"Germany\", \"China\", \"Brazil\"), n_rows),\n",
    "    \"temperature\": rng.random(n_rows),\n",
    "    \"humidity\": rng.random(n_rows),\n",
    "})\n",
    "\n",
    "data"
   ],
   "metadata": {
    "collapsed": false,
    "ExecuteTime": {
     "end_time": "2024-03-04T23:13:28.742671Z",
     "start_time": "2024-03-04T23:13:28.719033Z"
    }
   },
   "id": "468e65a575f60c6c",
   "execution_count": 17
  },
  {
   "cell_type": "markdown",
   "source": [
    "Now let's assume that we want to test the model on `USA` and `Germany` data, and use the other counties` data for training it. Here is how we can achieve this:"
   ],
   "metadata": {
    "collapsed": false
   },
   "id": "c7abaa88aedab208"
  },
  {
   "cell_type": "code",
   "outputs": [
    {
     "name": "stdout",
     "output_type": "stream",
     "text": [
      "INFO:modeling.splitters._splitters.base_splitter:Length of data before splitting is 30\n",
      "INFO:modeling.splitters._splitters.base_splitter:Length of the train data after splitting is 16, length of the test data after splitting is 14.\n"
     ]
    }
   ],
   "source": [
    "from modeling import ByColumnValueSplitter\n",
    "\n",
    "splitter = ByColumnValueSplitter(\n",
    "    column_name=\"country\",\n",
    "    values_for_test=[\"USA\", \"Germany\",],\n",
    ")\n",
    "train_by_column_value, test_by_column_value = splitter.split(data)"
   ],
   "metadata": {
    "collapsed": false,
    "ExecuteTime": {
     "end_time": "2024-03-04T23:13:28.749732Z",
     "start_time": "2024-03-04T23:13:28.722369Z"
    }
   },
   "id": "522367d3f1fda394",
   "execution_count": 18
  },
  {
   "cell_type": "markdown",
   "source": [
    "Let's see what the train data looks like:"
   ],
   "metadata": {
    "collapsed": false
   },
   "id": "c87a90cf28187cd"
  },
  {
   "cell_type": "code",
   "outputs": [
    {
     "data": {
      "text/plain": "   country  temperature  humidity\n1    China     0.554585  0.387478\n2    China     0.063817  0.288328\n5   Brazil     0.758088  0.199908\n7    China     0.970698  0.786924\n8   Canada     0.893121  0.664851\n11  Brazil     0.466721  0.458916\n12   China     0.043804  0.568741\n13   China     0.154289  0.139797\n14   China     0.683049  0.114530\n15   China     0.744762  0.668403\n18  Brazil     0.370460  0.764999\n21  Canada     0.129922  0.559207\n23  Brazil     0.226909  0.030818\n24   China     0.669814  0.436717\n25   China     0.437152  0.214585\n27  Brazil     0.700265  0.853403",
      "text/html": "<div>\n<style scoped>\n    .dataframe tbody tr th:only-of-type {\n        vertical-align: middle;\n    }\n\n    .dataframe tbody tr th {\n        vertical-align: top;\n    }\n\n    .dataframe thead th {\n        text-align: right;\n    }\n</style>\n<table border=\"1\" class=\"dataframe\">\n  <thead>\n    <tr style=\"text-align: right;\">\n      <th></th>\n      <th>country</th>\n      <th>temperature</th>\n      <th>humidity</th>\n    </tr>\n  </thead>\n  <tbody>\n    <tr>\n      <th>1</th>\n      <td>China</td>\n      <td>0.554585</td>\n      <td>0.387478</td>\n    </tr>\n    <tr>\n      <th>2</th>\n      <td>China</td>\n      <td>0.063817</td>\n      <td>0.288328</td>\n    </tr>\n    <tr>\n      <th>5</th>\n      <td>Brazil</td>\n      <td>0.758088</td>\n      <td>0.199908</td>\n    </tr>\n    <tr>\n      <th>7</th>\n      <td>China</td>\n      <td>0.970698</td>\n      <td>0.786924</td>\n    </tr>\n    <tr>\n      <th>8</th>\n      <td>Canada</td>\n      <td>0.893121</td>\n      <td>0.664851</td>\n    </tr>\n    <tr>\n      <th>11</th>\n      <td>Brazil</td>\n      <td>0.466721</td>\n      <td>0.458916</td>\n    </tr>\n    <tr>\n      <th>12</th>\n      <td>China</td>\n      <td>0.043804</td>\n      <td>0.568741</td>\n    </tr>\n    <tr>\n      <th>13</th>\n      <td>China</td>\n      <td>0.154289</td>\n      <td>0.139797</td>\n    </tr>\n    <tr>\n      <th>14</th>\n      <td>China</td>\n      <td>0.683049</td>\n      <td>0.114530</td>\n    </tr>\n    <tr>\n      <th>15</th>\n      <td>China</td>\n      <td>0.744762</td>\n      <td>0.668403</td>\n    </tr>\n    <tr>\n      <th>18</th>\n      <td>Brazil</td>\n      <td>0.370460</td>\n      <td>0.764999</td>\n    </tr>\n    <tr>\n      <th>21</th>\n      <td>Canada</td>\n      <td>0.129922</td>\n      <td>0.559207</td>\n    </tr>\n    <tr>\n      <th>23</th>\n      <td>Brazil</td>\n      <td>0.226909</td>\n      <td>0.030818</td>\n    </tr>\n    <tr>\n      <th>24</th>\n      <td>China</td>\n      <td>0.669814</td>\n      <td>0.436717</td>\n    </tr>\n    <tr>\n      <th>25</th>\n      <td>China</td>\n      <td>0.437152</td>\n      <td>0.214585</td>\n    </tr>\n    <tr>\n      <th>27</th>\n      <td>Brazil</td>\n      <td>0.700265</td>\n      <td>0.853403</td>\n    </tr>\n  </tbody>\n</table>\n</div>"
     },
     "execution_count": 19,
     "metadata": {},
     "output_type": "execute_result"
    }
   ],
   "source": [
    "train_by_column_value"
   ],
   "metadata": {
    "collapsed": false,
    "ExecuteTime": {
     "end_time": "2024-03-04T23:13:28.775214Z",
     "start_time": "2024-03-04T23:13:28.731699Z"
    }
   },
   "id": "d8005010aa330aca",
   "execution_count": 19
  },
  {
   "cell_type": "markdown",
   "source": [
    "And the test:"
   ],
   "metadata": {
    "collapsed": false
   },
   "id": "d4b03c498801f95c"
  },
  {
   "cell_type": "code",
   "outputs": [
    {
     "data": {
      "text/plain": "    country  temperature  humidity\n0       USA     0.227239  0.804764\n3   Germany     0.827631  0.682496\n4   Germany     0.631664  0.139752\n6       USA     0.354526  0.007362\n9       USA     0.778383  0.705165\n10  Germany     0.194639  0.780729\n16  Germany     0.967510  0.471096\n17      USA     0.325825  0.565236\n19  Germany     0.469556  0.634718\n20  Germany     0.189471  0.553579\n22      USA     0.475705  0.303950\n26  Germany     0.832678  0.408529\n28  Germany     0.312367  0.233939\n29  Germany     0.832260  0.058303",
      "text/html": "<div>\n<style scoped>\n    .dataframe tbody tr th:only-of-type {\n        vertical-align: middle;\n    }\n\n    .dataframe tbody tr th {\n        vertical-align: top;\n    }\n\n    .dataframe thead th {\n        text-align: right;\n    }\n</style>\n<table border=\"1\" class=\"dataframe\">\n  <thead>\n    <tr style=\"text-align: right;\">\n      <th></th>\n      <th>country</th>\n      <th>temperature</th>\n      <th>humidity</th>\n    </tr>\n  </thead>\n  <tbody>\n    <tr>\n      <th>0</th>\n      <td>USA</td>\n      <td>0.227239</td>\n      <td>0.804764</td>\n    </tr>\n    <tr>\n      <th>3</th>\n      <td>Germany</td>\n      <td>0.827631</td>\n      <td>0.682496</td>\n    </tr>\n    <tr>\n      <th>4</th>\n      <td>Germany</td>\n      <td>0.631664</td>\n      <td>0.139752</td>\n    </tr>\n    <tr>\n      <th>6</th>\n      <td>USA</td>\n      <td>0.354526</td>\n      <td>0.007362</td>\n    </tr>\n    <tr>\n      <th>9</th>\n      <td>USA</td>\n      <td>0.778383</td>\n      <td>0.705165</td>\n    </tr>\n    <tr>\n      <th>10</th>\n      <td>Germany</td>\n      <td>0.194639</td>\n      <td>0.780729</td>\n    </tr>\n    <tr>\n      <th>16</th>\n      <td>Germany</td>\n      <td>0.967510</td>\n      <td>0.471096</td>\n    </tr>\n    <tr>\n      <th>17</th>\n      <td>USA</td>\n      <td>0.325825</td>\n      <td>0.565236</td>\n    </tr>\n    <tr>\n      <th>19</th>\n      <td>Germany</td>\n      <td>0.469556</td>\n      <td>0.634718</td>\n    </tr>\n    <tr>\n      <th>20</th>\n      <td>Germany</td>\n      <td>0.189471</td>\n      <td>0.553579</td>\n    </tr>\n    <tr>\n      <th>22</th>\n      <td>USA</td>\n      <td>0.475705</td>\n      <td>0.303950</td>\n    </tr>\n    <tr>\n      <th>26</th>\n      <td>Germany</td>\n      <td>0.832678</td>\n      <td>0.408529</td>\n    </tr>\n    <tr>\n      <th>28</th>\n      <td>Germany</td>\n      <td>0.312367</td>\n      <td>0.233939</td>\n    </tr>\n    <tr>\n      <th>29</th>\n      <td>Germany</td>\n      <td>0.832260</td>\n      <td>0.058303</td>\n    </tr>\n  </tbody>\n</table>\n</div>"
     },
     "execution_count": 20,
     "metadata": {},
     "output_type": "execute_result"
    }
   ],
   "source": [
    "test_by_column_value"
   ],
   "metadata": {
    "collapsed": false,
    "ExecuteTime": {
     "end_time": "2024-03-04T23:13:28.776831Z",
     "start_time": "2024-03-04T23:13:28.737760Z"
    }
   },
   "id": "94d4b8bce5f72d3d",
   "execution_count": 20
  },
  {
   "cell_type": "markdown",
   "id": "b495a2ee",
   "metadata": {},
   "source": [
    "## Functional\n",
    "\n",
    "`functional` subpackage allows you to work with classes listed above in the functional workaround. This might be especially useful when working with pipelines or other orchestration tools that require simple callable objects (e.g. Kedro)."
   ]
  },
  {
   "cell_type": "code",
   "execution_count": 21,
   "id": "8cf78359",
   "metadata": {
    "ExecuteTime": {
     "end_time": "2024-03-04T23:13:28.778521Z",
     "start_time": "2024-03-04T23:13:28.741265Z"
    }
   },
   "outputs": [],
   "source": [
    "from modeling import create_splitter, split_data"
   ]
  },
  {
   "cell_type": "code",
   "execution_count": 22,
   "id": "b279d03b",
   "metadata": {
    "ExecuteTime": {
     "end_time": "2024-03-04T23:13:28.779006Z",
     "start_time": "2024-03-04T23:13:28.745387Z"
    }
   },
   "outputs": [
    {
     "data": {
      "text/plain": "ByDateSplitter(datetime_column='timestamp', split_datetime=Timestamp('2017-08-30 23:00:00'), )"
     },
     "execution_count": 22,
     "metadata": {},
     "output_type": "execute_result"
    }
   ],
   "source": [
    "splitter = create_splitter(\n",
    "    split_method=\"date\",\n",
    "    splitting_parameters={\n",
    "        \"datetime_column\": datetime_column,\n",
    "        \"split_datetime\": split_datetime,\n",
    "    },\n",
    ")\n",
    "splitter"
   ]
  },
  {
   "cell_type": "code",
   "execution_count": 23,
   "id": "ff520a86",
   "metadata": {
    "ExecuteTime": {
     "end_time": "2024-03-04T23:13:28.784915Z",
     "start_time": "2024-03-04T23:13:28.749281Z"
    }
   },
   "outputs": [
    {
     "name": "stdout",
     "output_type": "stream",
     "text": [
      "Help on function create_splitter in module modeling.splitters._splitters.functional:\n",
      "\n",
      "create_splitter(split_method: Literal['date', 'frac', 'intervals', 'last_window', 'sequential_window', 'column_value'], splitting_parameters: Dict[str, Any]) -> modeling.splitters._splitters.base_splitter.SplitterBase\n",
      "    Create ``SplitterBase`` instance from split_method and splitting parameters.\n",
      "    \n",
      "    Supported str options for ``split_method``:\n",
      "        * \"date\" to initialize ``ByDateSplitter``\n",
      "        * \"frac\" to initialize ``ByFracSplitter``\n",
      "        * \"intervals\" to initialize ``ByIntervalsSplitter``\n",
      "        * \"last_window\" to initialize ``ByLastWindowSplitter``\n",
      "        * \"sequential_window\" to initialize ``BySequentialSplitter``\n",
      "        * \"column_value\" to initialize ``ByColumnValueSplitter``\n",
      "    \n",
      "    Args:\n",
      "        split_method: method for choosing type of inheritor of ModelBase to initialize\n",
      "        splitting_parameters: parameters used for splitter initialization.\n",
      "    \n",
      "    Notes:\n",
      "        ``splitting_parameters`` would be different for each ``split_method``.\n",
      "        E.g. \"date\" as ``split_method`` requires ``datetime_column`` and\n",
      "        ``split_datetime``. Changing to \"frac\" method would require different\n",
      "        parameters related to train / test fractions. For details, refer to:\n",
      "            * ``SplitterBase`` tutorial in `modeling` documentation\n",
      "            * Constructor API of desired ``Splitter`` class.\n",
      "    \n",
      "    Returns:\n",
      "        A splitter of defined method with supplied parameters\n"
     ]
    }
   ],
   "source": [
    "help(create_splitter)"
   ]
  },
  {
   "cell_type": "code",
   "execution_count": 24,
   "id": "644fa039",
   "metadata": {
    "ExecuteTime": {
     "end_time": "2024-03-04T23:13:28.821674Z",
     "start_time": "2024-03-04T23:13:28.752149Z"
    }
   },
   "outputs": [
    {
     "name": "stdout",
     "output_type": "stream",
     "text": [
      "INFO:modeling.splitters._splitters.base_splitter:Length of data before splitting is 1473\n",
      "INFO:modeling.splitters._splitters.by_date_splitter:Splitting by datetime: 2017-08-30 23:00:00\n",
      "INFO:modeling.splitters._splitters.base_splitter:Length of the train data after splitting is 1392, length of the test data after splitting is 81.\n"
     ]
    }
   ],
   "source": [
    "train_data, test_data = split_data(splitter=splitter, data=df)"
   ]
  }
 ],
 "metadata": {
  "kernelspec": {
   "display_name": "Python 3",
   "language": "python",
   "name": "python3"
  },
  "language_info": {
   "codemirror_mode": {
    "name": "ipython",
    "version": 3
   },
   "file_extension": ".py",
   "mimetype": "text/x-python",
   "name": "python",
   "nbconvert_exporter": "python",
   "pygments_lexer": "ipython3",
   "version": "3.8.16 (default, Jun 12 2023, 12:55:15) \n[Clang 14.0.6 ]"
  },
  "toc": {
   "base_numbering": 1,
   "nav_menu": {},
   "number_sections": true,
   "sideBar": true,
   "skip_h1_title": false,
   "title_cell": "Table of Contents",
   "title_sidebar": "Contents",
   "toc_cell": false,
   "toc_position": {
    "height": "calc(100% - 180px)",
    "left": "10px",
    "top": "150px",
    "width": "278.797px"
   },
   "toc_section_display": true,
   "toc_window_display": true
  },
  "varInspector": {
   "cols": {
    "lenName": 16,
    "lenType": 16,
    "lenVar": 40
   },
   "kernels_config": {
    "python": {
     "delete_cmd_postfix": "",
     "delete_cmd_prefix": "del ",
     "library": "var_list.py",
     "varRefreshCmd": "print(var_dic_list())"
    },
    "r": {
     "delete_cmd_postfix": ") ",
     "delete_cmd_prefix": "rm(",
     "library": "var_list.r",
     "varRefreshCmd": "cat(var_dic_list()) "
    }
   },
   "types_to_exclude": [
    "module",
    "function",
    "builtin_function_or_method",
    "instance",
    "_Feature"
   ],
   "window_display": false
  },
  "vscode": {
   "interpreter": {
    "hash": "9b80e060dd13f7a9e18ef80f709f6dc2c4300fdc15c8c06f1c38ea1fe551dc40"
   }
  }
 },
 "nbformat": 4,
 "nbformat_minor": 5
}
