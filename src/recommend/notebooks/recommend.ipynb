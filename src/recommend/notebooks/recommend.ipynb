{
 "cells": [
  {
   "cell_type": "code",
   "execution_count": 1,
   "id": "0de43a2e",
   "metadata": {
    "ExecuteTime": {
     "end_time": "2023-12-18T20:29:52.538064Z",
     "start_time": "2023-12-18T20:29:52.526710Z"
    }
   },
   "outputs": [],
   "source": [
    "# Resolve path when used in a usecase project\n",
    "import sys\n",
    "from pathlib import Path\n",
    "\n",
    "sys.path.insert(0, str(Path(\"../../\").resolve()))"
   ]
  },
  {
   "cell_type": "code",
   "execution_count": 2,
   "id": "2f92b691",
   "metadata": {
    "ExecuteTime": {
     "end_time": "2023-12-18T20:29:52.540747Z",
     "start_time": "2023-12-18T20:29:52.532117Z"
    }
   },
   "outputs": [],
   "source": [
    "import logging\n",
    "import sys\n",
    "\n",
    "logging.basicConfig(level=logging.INFO, stream=sys.stdout)"
   ]
  },
  {
   "cell_type": "code",
   "execution_count": 3,
   "id": "01962477",
   "metadata": {
    "ExecuteTime": {
     "end_time": "2023-12-18T20:30:06.870647Z",
     "start_time": "2023-12-18T20:29:52.534811Z"
    }
   },
   "outputs": [
    {
     "name": "stdout",
     "output_type": "stream",
     "text": [
      "INFO:numexpr.utils:NumExpr defaulting to 8 threads.\n",
      "Using 0.33.0 version of recommend package\n"
     ]
    }
   ],
   "source": [
    "import recommend\n",
    "print(f'Using {recommend.__version__} version of recommend package')"
   ]
  },
  {
   "cell_type": "markdown",
   "id": "99c1d43e",
   "metadata": {},
   "source": [
    "# `recommend` package tutorial"
   ]
  },
  {
   "cell_type": "markdown",
   "id": "fde020e5",
   "metadata": {},
   "source": [
    "## Prerequisites"
   ]
  },
  {
   "cell_type": "markdown",
   "id": "bca53f53",
   "metadata": {},
   "source": [
    "Though this package assumes one has a knowledge of the main concepts of `oai.optimizer` package ([refer to these docs](https://brix.quantumblack.com/products/optimus/docs/src/packages/optimizer/src/optimizer/README.html) to learn more), we have a short summary of the main concepts of the `optimizer` package.\n",
    "\n",
    "**TL;DR**\n",
    "\n",
    "* It implements the ask and tell optimization paradigm.\n",
    "* Introduces `OptimizationProblem`, `Solver`, and `Stopper` abstractions. The `Problem` encapsulates business-specific details. Solver only cares about the values to propose to improve the solution. And stopper defines additional criteria for solver termination.\n",
    "* Optimizer doesn't make any assumptions about the optimized objective nor constraints. It provides heuristic solvers which don't depend on the structure of the objective which lets us use models in objective and/or constraints.\n",
    "* Optimizer refers to the objective as the main metric we're optimizing. It can be either a formula or an ML model.\n",
    "* Constraints can be either expressed by **repairs** or **penalties**:\n",
    "    * **penalties** – soft constraints; if a solution violates them, then penalty is included in objective with correct sign (depending on the problem's sense). Is expressed by `optimizer.Penalty` class which can be created directly or by `optimizer.penalty` function.\n",
    "    * **repairs** – alternative way of handling the constraints; the idea is to repair the parameters proposed by solver (once they're violating constraints ofc) instead of penalising the objective. Is expressed by `Repair` class which can be created directly or by `repair` function.\n",
    "* The last and the simples entity is `StopperBase` which has several implementations in `optimizer.stoppers` it helps to formulate the additional conditions for stopping the optimization routine (e.g., solver didn't produce improvements for last n iterations – `NoImprovementStopper`, we've met all constraints - `SatisfiedConstraintsStopper`, etc.)"
   ]
  },
  {
   "cell_type": "markdown",
   "id": "67d041bd",
   "metadata": {},
   "source": [
    "<div class=\"alert alert-info\">\n",
    "<b>Note</b>\n",
    "\n",
    "Recommend works with `StatefulOptimizationProblem` abstraction and its implementations.\n",
    "    \n",
    "</div>"
   ]
  },
  {
   "cell_type": "markdown",
   "id": "d34b8773",
   "metadata": {},
   "source": [
    "## Introduction"
   ]
  },
  {
   "cell_type": "markdown",
   "id": "7f283b34",
   "metadata": {},
   "source": [
    "The overall goal of the `recommend` package is to make optimization easier in the OAI context. Hence, the package provides high-level interfaces to deal with `optimizer`'s primitives. This includes the following entities:\n",
    "* `ControlledParametersConfig` – a mapping which stores information (min/max optimization limits, max delta and step size) for every controlled parameter\n",
    "* `ProblemFactory` – contains definition of problem creation (objective, penalties, repairs); is used to create a problem class for each optimizable row\n",
    "* `SolverFactory` – creates `Solver` instance based on provided controls config, domain generator, solver and (optional) stopper definition\n",
    "* `optimize` – function which aggregates `ProblemFactory`, `SolverFactory`, and `StopperFactory` to conduct optimization for the provided `data`.\n",
    "\n",
    "The notebook will walk you through the usage of each one of those. "
   ]
  },
  {
   "cell_type": "markdown",
   "id": "f8b2a13f",
   "metadata": {},
   "source": [
    "## Glossary\n",
    "\n",
    "In the `recommend` package, we use the following wording.\n",
    "\n",
    "`State` – all the parameters used to define current plant conditions. These parameters are used by the problem for objective/penalties/repairs. We split those parameters into two categories:\n",
    "\n",
    "* `control` – parameters that we can operate; solver will change those in order to improve objective\n",
    "* `context` – parameters that we cannot operate; we assume (which might not be always true) those are independent of the controls, hence changing any of `control` variables won't influence `context` change\n",
    "\n",
    "<div class=\"alert alert-info\">\n",
    "<b>Note</b>\n",
    "\n",
    "In case there are variables that define `state` yet depend on `control` variables, we suggest either re-calculating them manually in the objective/penalties/repairs or predicting those using additional models to.\n",
    "</div>\n"
   ]
  },
  {
   "cell_type": "markdown",
   "id": "fd372021",
   "metadata": {},
   "source": [
    "## Example data\n",
    "\n",
    "This is the example dataset that we will use for showcasing `recommend` package functionality.\n",
    "\n",
    "The data tells us the current values of our parameters. At the end of this notebook, we'll produce recommendations for the controlled parameters at each given time step."
   ]
  },
  {
   "cell_type": "code",
   "execution_count": 4,
   "id": "e0d47942",
   "metadata": {
    "ExecuteTime": {
     "end_time": "2023-12-18T20:30:06.923540Z",
     "start_time": "2023-12-18T20:30:06.868067Z"
    }
   },
   "outputs": [
    {
     "data": {
      "text/html": [
       "<div>\n",
       "<style scoped>\n",
       "    .dataframe tbody tr th:only-of-type {\n",
       "        vertical-align: middle;\n",
       "    }\n",
       "\n",
       "    .dataframe tbody tr th {\n",
       "        vertical-align: top;\n",
       "    }\n",
       "\n",
       "    .dataframe thead th {\n",
       "        text-align: right;\n",
       "    }\n",
       "</style>\n",
       "<table border=\"1\" class=\"dataframe\">\n",
       "  <thead>\n",
       "    <tr style=\"text-align: right;\">\n",
       "      <th></th>\n",
       "      <th>timestamp</th>\n",
       "      <th>air_flow01</th>\n",
       "      <th>air_flow02</th>\n",
       "      <th>air_flow03</th>\n",
       "      <th>air_flow04</th>\n",
       "      <th>air_flow05</th>\n",
       "      <th>air_flow06</th>\n",
       "      <th>air_flow07</th>\n",
       "      <th>amina_flow</th>\n",
       "      <th>column_level01</th>\n",
       "      <th>...</th>\n",
       "      <th>ore_pulp_flow</th>\n",
       "      <th>ore_pulp_ph</th>\n",
       "      <th>silica_conc</th>\n",
       "      <th>silica_feed</th>\n",
       "      <th>starch_flow</th>\n",
       "      <th>iron_minus_silica</th>\n",
       "      <th>feed_diff_divide_silica</th>\n",
       "      <th>total_column_level</th>\n",
       "      <th>total_air_flow</th>\n",
       "      <th>silica_conc_lagged</th>\n",
       "    </tr>\n",
       "  </thead>\n",
       "  <tbody>\n",
       "    <tr>\n",
       "      <th>0</th>\n",
       "      <td>2017-08-30 23:00:00</td>\n",
       "      <td>299.882930</td>\n",
       "      <td>299.682324</td>\n",
       "      <td>299.884393</td>\n",
       "      <td>299.617858</td>\n",
       "      <td>300.0</td>\n",
       "      <td>300.0</td>\n",
       "      <td>300.000000</td>\n",
       "      <td>522.255576</td>\n",
       "      <td>399.943846</td>\n",
       "      <td>...</td>\n",
       "      <td>379.969373</td>\n",
       "      <td>NaN</td>\n",
       "      <td>15.023342</td>\n",
       "      <td>18.513333</td>\n",
       "      <td>3199.638567</td>\n",
       "      <td>34.733333</td>\n",
       "      <td>1.876125</td>\n",
       "      <td>2598.407744</td>\n",
       "      <td>2099.067504</td>\n",
       "      <td>3.964062</td>\n",
       "    </tr>\n",
       "    <tr>\n",
       "      <th>1</th>\n",
       "      <td>2017-08-31 02:00:00</td>\n",
       "      <td>299.947659</td>\n",
       "      <td>299.800402</td>\n",
       "      <td>299.931837</td>\n",
       "      <td>299.436669</td>\n",
       "      <td>300.0</td>\n",
       "      <td>300.0</td>\n",
       "      <td>300.000000</td>\n",
       "      <td>492.844533</td>\n",
       "      <td>NaN</td>\n",
       "      <td>...</td>\n",
       "      <td>NaN</td>\n",
       "      <td>NaN</td>\n",
       "      <td>14.987169</td>\n",
       "      <td>24.900000</td>\n",
       "      <td>2630.064985</td>\n",
       "      <td>23.560000</td>\n",
       "      <td>0.946185</td>\n",
       "      <td>2611.246633</td>\n",
       "      <td>2099.116568</td>\n",
       "      <td>4.122605</td>\n",
       "    </tr>\n",
       "    <tr>\n",
       "      <th>2</th>\n",
       "      <td>2017-08-31 05:00:00</td>\n",
       "      <td>299.296059</td>\n",
       "      <td>299.392591</td>\n",
       "      <td>299.929091</td>\n",
       "      <td>299.255481</td>\n",
       "      <td>300.0</td>\n",
       "      <td>300.0</td>\n",
       "      <td>300.000000</td>\n",
       "      <td>455.151107</td>\n",
       "      <td>NaN</td>\n",
       "      <td>...</td>\n",
       "      <td>380.291418</td>\n",
       "      <td>9.107695</td>\n",
       "      <td>14.170544</td>\n",
       "      <td>22.773333</td>\n",
       "      <td>2634.493391</td>\n",
       "      <td>27.666667</td>\n",
       "      <td>1.214871</td>\n",
       "      <td>2654.603840</td>\n",
       "      <td>2097.873222</td>\n",
       "      <td>3.076667</td>\n",
       "    </tr>\n",
       "    <tr>\n",
       "      <th>3</th>\n",
       "      <td>2017-08-31 08:00:00</td>\n",
       "      <td>299.994928</td>\n",
       "      <td>299.894504</td>\n",
       "      <td>299.948689</td>\n",
       "      <td>299.074293</td>\n",
       "      <td>300.0</td>\n",
       "      <td>NaN</td>\n",
       "      <td>300.000000</td>\n",
       "      <td>484.799569</td>\n",
       "      <td>437.098448</td>\n",
       "      <td>...</td>\n",
       "      <td>380.088518</td>\n",
       "      <td>9.447949</td>\n",
       "      <td>10.170830</td>\n",
       "      <td>18.520000</td>\n",
       "      <td>2861.101697</td>\n",
       "      <td>35.880000</td>\n",
       "      <td>1.937365</td>\n",
       "      <td>3187.242855</td>\n",
       "      <td>2098.912414</td>\n",
       "      <td>1.800000</td>\n",
       "    </tr>\n",
       "    <tr>\n",
       "      <th>4</th>\n",
       "      <td>2017-08-31 11:00:00</td>\n",
       "      <td>299.916354</td>\n",
       "      <td>299.890941</td>\n",
       "      <td>299.889231</td>\n",
       "      <td>298.893105</td>\n",
       "      <td>300.0</td>\n",
       "      <td>300.0</td>\n",
       "      <td>298.207261</td>\n",
       "      <td>415.151450</td>\n",
       "      <td>515.494170</td>\n",
       "      <td>...</td>\n",
       "      <td>NaN</td>\n",
       "      <td>9.312112</td>\n",
       "      <td>11.712113</td>\n",
       "      <td>18.520000</td>\n",
       "      <td>3716.986877</td>\n",
       "      <td>35.880000</td>\n",
       "      <td>1.937365</td>\n",
       "      <td>3268.605317</td>\n",
       "      <td>2096.796892</td>\n",
       "      <td>1.556667</td>\n",
       "    </tr>\n",
       "  </tbody>\n",
       "</table>\n",
       "<p>5 rows × 29 columns</p>\n",
       "</div>"
      ],
      "text/plain": [
       "            timestamp  air_flow01  air_flow02  air_flow03  air_flow04  \\\n",
       "0 2017-08-30 23:00:00  299.882930  299.682324  299.884393  299.617858   \n",
       "1 2017-08-31 02:00:00  299.947659  299.800402  299.931837  299.436669   \n",
       "2 2017-08-31 05:00:00  299.296059  299.392591  299.929091  299.255481   \n",
       "3 2017-08-31 08:00:00  299.994928  299.894504  299.948689  299.074293   \n",
       "4 2017-08-31 11:00:00  299.916354  299.890941  299.889231  298.893105   \n",
       "\n",
       "   air_flow05  air_flow06  air_flow07  amina_flow  column_level01  ...  \\\n",
       "0       300.0       300.0  300.000000  522.255576      399.943846  ...   \n",
       "1       300.0       300.0  300.000000  492.844533             NaN  ...   \n",
       "2       300.0       300.0  300.000000  455.151107             NaN  ...   \n",
       "3       300.0         NaN  300.000000  484.799569      437.098448  ...   \n",
       "4       300.0       300.0  298.207261  415.151450      515.494170  ...   \n",
       "\n",
       "   ore_pulp_flow  ore_pulp_ph  silica_conc  silica_feed  starch_flow  \\\n",
       "0     379.969373          NaN    15.023342    18.513333  3199.638567   \n",
       "1            NaN          NaN    14.987169    24.900000  2630.064985   \n",
       "2     380.291418     9.107695    14.170544    22.773333  2634.493391   \n",
       "3     380.088518     9.447949    10.170830    18.520000  2861.101697   \n",
       "4            NaN     9.312112    11.712113    18.520000  3716.986877   \n",
       "\n",
       "   iron_minus_silica  feed_diff_divide_silica  total_column_level  \\\n",
       "0          34.733333                 1.876125         2598.407744   \n",
       "1          23.560000                 0.946185         2611.246633   \n",
       "2          27.666667                 1.214871         2654.603840   \n",
       "3          35.880000                 1.937365         3187.242855   \n",
       "4          35.880000                 1.937365         3268.605317   \n",
       "\n",
       "   total_air_flow  silica_conc_lagged  \n",
       "0     2099.067504            3.964062  \n",
       "1     2099.116568            4.122605  \n",
       "2     2097.873222            3.076667  \n",
       "3     2098.912414            1.800000  \n",
       "4     2096.796892            1.556667  \n",
       "\n",
       "[5 rows x 29 columns]"
      ]
     },
     "execution_count": 4,
     "metadata": {},
     "output_type": "execute_result"
    }
   ],
   "source": [
    "from recommend import datasets\n",
    "\n",
    "df = datasets.get_sample_recommend_input_data()\n",
    "df.head()"
   ]
  },
  {
   "cell_type": "markdown",
   "id": "447892a6",
   "metadata": {},
   "source": [
    "We'll also extract a row from this dataset to showcase how a row is optimized."
   ]
  },
  {
   "cell_type": "code",
   "execution_count": 5,
   "id": "3e2f8259",
   "metadata": {
    "ExecuteTime": {
     "end_time": "2023-12-18T20:30:06.934682Z",
     "start_time": "2023-12-18T20:30:06.931030Z"
    }
   },
   "outputs": [
    {
     "data": {
      "text/html": [
       "<div>\n",
       "<style scoped>\n",
       "    .dataframe tbody tr th:only-of-type {\n",
       "        vertical-align: middle;\n",
       "    }\n",
       "\n",
       "    .dataframe tbody tr th {\n",
       "        vertical-align: top;\n",
       "    }\n",
       "\n",
       "    .dataframe thead th {\n",
       "        text-align: right;\n",
       "    }\n",
       "</style>\n",
       "<table border=\"1\" class=\"dataframe\">\n",
       "  <thead>\n",
       "    <tr style=\"text-align: right;\">\n",
       "      <th></th>\n",
       "      <th>timestamp</th>\n",
       "      <th>air_flow01</th>\n",
       "      <th>air_flow02</th>\n",
       "      <th>air_flow03</th>\n",
       "      <th>air_flow04</th>\n",
       "      <th>air_flow05</th>\n",
       "      <th>air_flow06</th>\n",
       "      <th>air_flow07</th>\n",
       "      <th>amina_flow</th>\n",
       "      <th>column_level01</th>\n",
       "      <th>...</th>\n",
       "      <th>ore_pulp_flow</th>\n",
       "      <th>ore_pulp_ph</th>\n",
       "      <th>silica_conc</th>\n",
       "      <th>silica_feed</th>\n",
       "      <th>starch_flow</th>\n",
       "      <th>iron_minus_silica</th>\n",
       "      <th>feed_diff_divide_silica</th>\n",
       "      <th>total_column_level</th>\n",
       "      <th>total_air_flow</th>\n",
       "      <th>silica_conc_lagged</th>\n",
       "    </tr>\n",
       "  </thead>\n",
       "  <tbody>\n",
       "    <tr>\n",
       "      <th>0</th>\n",
       "      <td>2017-08-30 23:00:00</td>\n",
       "      <td>299.88293</td>\n",
       "      <td>299.682324</td>\n",
       "      <td>299.884393</td>\n",
       "      <td>299.617858</td>\n",
       "      <td>300.0</td>\n",
       "      <td>300.0</td>\n",
       "      <td>300.0</td>\n",
       "      <td>522.255576</td>\n",
       "      <td>399.943846</td>\n",
       "      <td>...</td>\n",
       "      <td>379.969373</td>\n",
       "      <td>NaN</td>\n",
       "      <td>15.023342</td>\n",
       "      <td>18.513333</td>\n",
       "      <td>3199.638567</td>\n",
       "      <td>34.733333</td>\n",
       "      <td>1.876125</td>\n",
       "      <td>2598.407744</td>\n",
       "      <td>2099.067504</td>\n",
       "      <td>3.964062</td>\n",
       "    </tr>\n",
       "  </tbody>\n",
       "</table>\n",
       "<p>1 rows × 29 columns</p>\n",
       "</div>"
      ],
      "text/plain": [
       "            timestamp  air_flow01  air_flow02  air_flow03  air_flow04  \\\n",
       "0 2017-08-30 23:00:00   299.88293  299.682324  299.884393  299.617858   \n",
       "\n",
       "   air_flow05  air_flow06  air_flow07  amina_flow  column_level01  ...  \\\n",
       "0       300.0       300.0       300.0  522.255576      399.943846  ...   \n",
       "\n",
       "   ore_pulp_flow  ore_pulp_ph  silica_conc  silica_feed  starch_flow  \\\n",
       "0     379.969373          NaN    15.023342    18.513333  3199.638567   \n",
       "\n",
       "   iron_minus_silica  feed_diff_divide_silica  total_column_level  \\\n",
       "0          34.733333                 1.876125         2598.407744   \n",
       "\n",
       "   total_air_flow  silica_conc_lagged  \n",
       "0     2099.067504            3.964062  \n",
       "\n",
       "[1 rows x 29 columns]"
      ]
     },
     "execution_count": 5,
     "metadata": {},
     "output_type": "execute_result"
    }
   ],
   "source": [
    "row_to_optimize = df.iloc[[0]]\n",
    "row_to_optimize"
   ]
  },
  {
   "cell_type": "markdown",
   "id": "142c22b6",
   "metadata": {},
   "source": [
    "<div class=\"alert alert-info\">\n",
    "<b>Note</b>\n",
    "    \n",
    "A row has DataFrame type. This is done to comply with `optimizer` interface.\n",
    "</div>"
   ]
  },
  {
   "cell_type": "markdown",
   "id": "92b7d519",
   "metadata": {},
   "source": [
    "## `ControlledParametersConfig`\n",
    "\n",
    "This is a mapping that stores the information about controlled parameters. That information includes:\n",
    "* `name` - control's name; used as column name in the data\n",
    "* `op_min` – min value which control can take during the optimization\n",
    "* `op_max` – max value which control can take during the optimization\n",
    "* `max_delta` - optional (a change won't be constrained if the delta is not provided) max change that can be made to control its current value\n",
    "* `step_size` – optional (only used by `DiscreteDomainGenerator`); fixed step change to make for control\n",
    "* `constraint` - optional; use that if you want to constaint control to be only increasing/decreasing; takes one of three values:\n",
    "    * None – no constraint to control is applied\n",
    "    * \"decrease\" – control can only take values lower than its current value\n",
    "    * \"increase\" – control can only take values higher than its current value"
   ]
  },
  {
   "cell_type": "markdown",
   "id": "9368ff9c",
   "metadata": {},
   "source": [
    "Let's create one for our silica dataset. So in this task we can control following parameters:\n",
    "* `starch_flow`\n",
    "* `ore_pulp_ph`\n",
    "* `ore_pulp_density`\n",
    "* `amina_flow`\n",
    "* `ore_pulp_flow`\n",
    "* `total_column_level`\n",
    "* `total_air_flow`\n",
    "\n",
    "We have a config yaml file that defines a list of parameters for those controls:\n",
    "```yaml\n",
    "- name: starch_flow\n",
    "  op_min: 3000\n",
    "  op_max: 4000\n",
    "  step_size: 200\n",
    "  max_delta: 800\n",
    "- name: amina_flow\n",
    "  op_min: 450\n",
    "  op_max: 650\n",
    "  step_size: 50\n",
    "  max_delta: 100\n",
    "...\n",
    "```"
   ]
  },
  {
   "cell_type": "markdown",
   "id": "bb52cc24",
   "metadata": {},
   "source": [
    "Let's load that yaml into a list of dicts `raw_config`."
   ]
  },
  {
   "cell_type": "code",
   "execution_count": 6,
   "id": "e11bdbf5",
   "metadata": {
    "ExecuteTime": {
     "end_time": "2023-12-18T20:30:06.960347Z",
     "start_time": "2023-12-18T20:30:06.935747Z"
    },
    "pycharm": {
     "is_executing": true
    },
    "scrolled": true
   },
   "outputs": [
    {
     "data": {
      "text/plain": [
       "[{'name': 'starch_flow',\n",
       "  'op_min': 3000,\n",
       "  'op_max': 4000,\n",
       "  'step_size': 200,\n",
       "  'max_delta': 800},\n",
       " {'name': 'amina_flow',\n",
       "  'op_min': 450,\n",
       "  'op_max': 650,\n",
       "  'step_size': 50,\n",
       "  'max_delta': 100},\n",
       " {'name': 'ore_pulp_flow',\n",
       "  'op_min': 400,\n",
       "  'op_max': 410,\n",
       "  'step_size': 2,\n",
       "  'max_delta': 10},\n",
       " {'name': 'ore_pulp_ph',\n",
       "  'op_min': 9.5,\n",
       "  'op_max': 10.5,\n",
       "  'step_size': 0.05,\n",
       "  'max_delta': 0.4},\n",
       " {'name': 'ore_pulp_density',\n",
       "  'op_min': 1.65,\n",
       "  'op_max': 1.75,\n",
       "  'step_size': 0.1,\n",
       "  'max_delta': 0.1},\n",
       " {'name': 'total_air_flow',\n",
       "  'op_min': 1000,\n",
       "  'op_max': 2000,\n",
       "  'step_size': 100,\n",
       "  'max_delta': 500},\n",
       " {'name': 'total_column_level',\n",
       "  'op_min': 1000,\n",
       "  'op_max': 5000,\n",
       "  'step_size': 200,\n",
       "  'max_delta': 1000}]"
      ]
     },
     "execution_count": 6,
     "metadata": {},
     "output_type": "execute_result"
    }
   ],
   "source": [
    "raw_config = datasets.get_sample_controlled_parameters_raw_config()\n",
    "raw_config"
   ]
  },
  {
   "cell_type": "markdown",
   "id": "5deeed03",
   "metadata": {},
   "source": [
    "Now we can create a `ControlledParametersConfig`."
   ]
  },
  {
   "cell_type": "code",
   "execution_count": 7,
   "id": "01915b08",
   "metadata": {
    "ExecuteTime": {
     "end_time": "2023-12-18T20:30:07.007403Z",
     "start_time": "2023-12-18T20:30:06.952564Z"
    },
    "code_folding": []
   },
   "outputs": [
    {
     "data": {
      "text/plain": [
       "ControlledParametersConfig(\n",
       "    keys={\n",
       "        'amina_flow', 'ore_pulp_density', 'ore_pulp_flow', 'ore_pulp_ph',\n",
       "        'starch_flow', 'total_air_flow', 'total_column_level',\n",
       "    },\n",
       "    values=(...),\n",
       ")"
      ]
     },
     "execution_count": 7,
     "metadata": {},
     "output_type": "execute_result"
    }
   ],
   "source": [
    "from recommend import ControlledParametersConfig\n",
    "\n",
    "controlled_parameters_config = ControlledParametersConfig(raw_config)\n",
    "controlled_parameters_config"
   ]
  },
  {
   "cell_type": "markdown",
   "id": "b2fa2df1",
   "metadata": {},
   "source": [
    "### `.from_dataframe()`"
   ]
  },
  {
   "cell_type": "markdown",
   "id": "6b8edbd4",
   "metadata": {},
   "source": [
    "Alternatively, users can use the dataframe (in case one uses TagDict or stores config in dataframe format) to init the same structure. Let's create a table a try loading it via `ControlledParametersConfig.from_dataframe`."
   ]
  },
  {
   "cell_type": "code",
   "execution_count": 8,
   "id": "8efaad83",
   "metadata": {
    "ExecuteTime": {
     "end_time": "2023-12-18T20:30:07.010082Z",
     "start_time": "2023-12-18T20:30:06.962222Z"
    },
    "code_folding": []
   },
   "outputs": [
    {
     "data": {
      "text/html": [
       "<div>\n",
       "<style scoped>\n",
       "    .dataframe tbody tr th:only-of-type {\n",
       "        vertical-align: middle;\n",
       "    }\n",
       "\n",
       "    .dataframe tbody tr th {\n",
       "        vertical-align: top;\n",
       "    }\n",
       "\n",
       "    .dataframe thead th {\n",
       "        text-align: right;\n",
       "    }\n",
       "</style>\n",
       "<table border=\"1\" class=\"dataframe\">\n",
       "  <thead>\n",
       "    <tr style=\"text-align: right;\">\n",
       "      <th></th>\n",
       "      <th>name</th>\n",
       "      <th>op_min</th>\n",
       "      <th>op_max</th>\n",
       "      <th>step_size</th>\n",
       "      <th>max_delta</th>\n",
       "    </tr>\n",
       "  </thead>\n",
       "  <tbody>\n",
       "    <tr>\n",
       "      <th>0</th>\n",
       "      <td>starch_flow</td>\n",
       "      <td>3000.00</td>\n",
       "      <td>4000.00</td>\n",
       "      <td>200.00</td>\n",
       "      <td>800.0</td>\n",
       "    </tr>\n",
       "    <tr>\n",
       "      <th>1</th>\n",
       "      <td>amina_flow</td>\n",
       "      <td>450.00</td>\n",
       "      <td>650.00</td>\n",
       "      <td>50.00</td>\n",
       "      <td>100.0</td>\n",
       "    </tr>\n",
       "    <tr>\n",
       "      <th>2</th>\n",
       "      <td>ore_pulp_flow</td>\n",
       "      <td>400.00</td>\n",
       "      <td>410.00</td>\n",
       "      <td>2.00</td>\n",
       "      <td>10.0</td>\n",
       "    </tr>\n",
       "    <tr>\n",
       "      <th>3</th>\n",
       "      <td>ore_pulp_ph</td>\n",
       "      <td>9.50</td>\n",
       "      <td>10.50</td>\n",
       "      <td>0.05</td>\n",
       "      <td>0.4</td>\n",
       "    </tr>\n",
       "    <tr>\n",
       "      <th>4</th>\n",
       "      <td>ore_pulp_density</td>\n",
       "      <td>1.65</td>\n",
       "      <td>1.75</td>\n",
       "      <td>0.10</td>\n",
       "      <td>0.1</td>\n",
       "    </tr>\n",
       "    <tr>\n",
       "      <th>5</th>\n",
       "      <td>total_air_flow</td>\n",
       "      <td>1000.00</td>\n",
       "      <td>2000.00</td>\n",
       "      <td>100.00</td>\n",
       "      <td>500.0</td>\n",
       "    </tr>\n",
       "    <tr>\n",
       "      <th>6</th>\n",
       "      <td>total_column_level</td>\n",
       "      <td>1000.00</td>\n",
       "      <td>5000.00</td>\n",
       "      <td>200.00</td>\n",
       "      <td>1000.0</td>\n",
       "    </tr>\n",
       "  </tbody>\n",
       "</table>\n",
       "</div>"
      ],
      "text/plain": [
       "                 name   op_min   op_max  step_size  max_delta\n",
       "0         starch_flow  3000.00  4000.00     200.00      800.0\n",
       "1          amina_flow   450.00   650.00      50.00      100.0\n",
       "2       ore_pulp_flow   400.00   410.00       2.00       10.0\n",
       "3         ore_pulp_ph     9.50    10.50       0.05        0.4\n",
       "4    ore_pulp_density     1.65     1.75       0.10        0.1\n",
       "5      total_air_flow  1000.00  2000.00     100.00      500.0\n",
       "6  total_column_level  1000.00  5000.00     200.00     1000.0"
      ]
     },
     "execution_count": 8,
     "metadata": {},
     "output_type": "execute_result"
    }
   ],
   "source": [
    "import pandas as pd\n",
    "\n",
    "df_raw_config = pd.DataFrame(raw_config)\n",
    "df_raw_config"
   ]
  },
  {
   "cell_type": "code",
   "execution_count": 9,
   "id": "641740be",
   "metadata": {
    "ExecuteTime": {
     "end_time": "2023-12-18T20:30:07.085096Z",
     "start_time": "2023-12-18T20:30:06.975249Z"
    }
   },
   "outputs": [
    {
     "data": {
      "text/plain": [
       "ControlledParametersConfig(\n",
       "    keys={\n",
       "        'amina_flow', 'ore_pulp_density', 'ore_pulp_flow', 'ore_pulp_ph',\n",
       "        'starch_flow', 'total_air_flow', 'total_column_level',\n",
       "    },\n",
       "    values=(...),\n",
       ")"
      ]
     },
     "execution_count": 9,
     "metadata": {},
     "output_type": "execute_result"
    }
   ],
   "source": [
    "controlled_parameters_config = ControlledParametersConfig.from_dataframe(df_raw_config)\n",
    "controlled_parameters_config"
   ]
  },
  {
   "cell_type": "markdown",
   "id": "96fbcc53",
   "metadata": {},
   "source": [
    "So we've created the same controls config."
   ]
  },
  {
   "cell_type": "markdown",
   "id": "a40a8fdd",
   "metadata": {},
   "source": [
    "## `ProblemFactory`"
   ]
  },
  {
   "cell_type": "markdown",
   "id": "352a8ff8",
   "metadata": {},
   "source": [
    "### Why do we need problem factory?\n",
    "\n",
    "This class collects all the entities needed for problem creation and streamlines this process.\n",
    "\n",
    "`Problem` is an entity that contains all the information about the optimization task for a given row, including objective, penalties, and repairs. Since each of those elements might be specific for the row, we are optimizing, we need to define how each one of those is created.\n",
    "\n",
    "Once a factory is created, we can create a problem for the input row."
   ]
  },
  {
   "cell_type": "markdown",
   "id": "450c7591",
   "metadata": {},
   "source": [
    "### General problem definition"
   ]
  },
  {
   "cell_type": "markdown",
   "id": "549ba10e",
   "metadata": {},
   "source": [
    "Since our initial data has different input, state and control variables at each index, the optimization task will also be different.\n",
    "\n",
    "Our optimization problem for any index will be:\n",
    "\n",
    "$$\n",
    "\\begin{align}\n",
    "&\\min_{\\mathbf{x} \\in F} & f(\\mathbf{x}) & \\\\\n",
    "&\\text{s.t.} & x_{\\text{amina flow}} + x_{\\text{pulp flow}} \\leq 3600 & \\\\\n",
    "&& x_{\\text{ore pulp ph}} \\geq x^{\\text{initial}}_{\\text{ore pulp ph}} \\\\\n",
    "&& x_{\\text{ore pulp density}} \\leq x^{\\text{initial}}_{\\text{ore pulp density}}\n",
    "\\end{align}\n",
    "$$\n",
    "\n",
    "where $f$ is our model and $F$ is the feasible set of boundaries defined by the `\"op_min\"`, `\"op_max\"`, `\"max_delta\"`, and `\"step_size\"` given the domain generator. Subject to total flow and ore pulp ph and density constraints.\n",
    "\n",
    "To create such problem for each index, we can define a silica problem factory:\n",
    "* Objective: the objective will be a simple model inference. We'll load our pre-trained model below and plug it into the model factory. Note that the model was trained to predict target column `\"silica_conc\"`.\n",
    "* Constraints: for this example, we'll use a single penalty and some repairs. Again, in more practical examples, there are likely to be _many_ more constraints that vary in complexity."
   ]
  },
  {
   "cell_type": "markdown",
   "id": "e694dbe2",
   "metadata": {},
   "source": [
    "### Load model for objective"
   ]
  },
  {
   "cell_type": "code",
   "execution_count": 10,
   "id": "2bd18e10",
   "metadata": {
    "ExecuteTime": {
     "end_time": "2023-12-18T20:30:07.127362Z",
     "start_time": "2023-12-18T20:30:06.979568Z"
    }
   },
   "outputs": [
    {
     "data": {
      "text/html": [
       "<style>#sk-container-id-1 {color: black;}#sk-container-id-1 pre{padding: 0;}#sk-container-id-1 div.sk-toggleable {background-color: white;}#sk-container-id-1 label.sk-toggleable__label {cursor: pointer;display: block;width: 100%;margin-bottom: 0;padding: 0.3em;box-sizing: border-box;text-align: center;}#sk-container-id-1 label.sk-toggleable__label-arrow:before {content: \"▸\";float: left;margin-right: 0.25em;color: #696969;}#sk-container-id-1 label.sk-toggleable__label-arrow:hover:before {color: black;}#sk-container-id-1 div.sk-estimator:hover label.sk-toggleable__label-arrow:before {color: black;}#sk-container-id-1 div.sk-toggleable__content {max-height: 0;max-width: 0;overflow: hidden;text-align: left;background-color: #f0f8ff;}#sk-container-id-1 div.sk-toggleable__content pre {margin: 0.2em;color: black;border-radius: 0.25em;background-color: #f0f8ff;}#sk-container-id-1 input.sk-toggleable__control:checked~div.sk-toggleable__content {max-height: 200px;max-width: 100%;overflow: auto;}#sk-container-id-1 input.sk-toggleable__control:checked~label.sk-toggleable__label-arrow:before {content: \"▾\";}#sk-container-id-1 div.sk-estimator input.sk-toggleable__control:checked~label.sk-toggleable__label {background-color: #d4ebff;}#sk-container-id-1 div.sk-label input.sk-toggleable__control:checked~label.sk-toggleable__label {background-color: #d4ebff;}#sk-container-id-1 input.sk-hidden--visually {border: 0;clip: rect(1px 1px 1px 1px);clip: rect(1px, 1px, 1px, 1px);height: 1px;margin: -1px;overflow: hidden;padding: 0;position: absolute;width: 1px;}#sk-container-id-1 div.sk-estimator {font-family: monospace;background-color: #f0f8ff;border: 1px dotted black;border-radius: 0.25em;box-sizing: border-box;margin-bottom: 0.5em;}#sk-container-id-1 div.sk-estimator:hover {background-color: #d4ebff;}#sk-container-id-1 div.sk-parallel-item::after {content: \"\";width: 100%;border-bottom: 1px solid gray;flex-grow: 1;}#sk-container-id-1 div.sk-label:hover label.sk-toggleable__label {background-color: #d4ebff;}#sk-container-id-1 div.sk-serial::before {content: \"\";position: absolute;border-left: 1px solid gray;box-sizing: border-box;top: 0;bottom: 0;left: 50%;z-index: 0;}#sk-container-id-1 div.sk-serial {display: flex;flex-direction: column;align-items: center;background-color: white;padding-right: 0.2em;padding-left: 0.2em;position: relative;}#sk-container-id-1 div.sk-item {position: relative;z-index: 1;}#sk-container-id-1 div.sk-parallel {display: flex;align-items: stretch;justify-content: center;background-color: white;position: relative;}#sk-container-id-1 div.sk-item::before, #sk-container-id-1 div.sk-parallel-item::before {content: \"\";position: absolute;border-left: 1px solid gray;box-sizing: border-box;top: 0;bottom: 0;left: 50%;z-index: -1;}#sk-container-id-1 div.sk-parallel-item {display: flex;flex-direction: column;z-index: 1;position: relative;background-color: white;}#sk-container-id-1 div.sk-parallel-item:first-child::after {align-self: flex-end;width: 50%;}#sk-container-id-1 div.sk-parallel-item:last-child::after {align-self: flex-start;width: 50%;}#sk-container-id-1 div.sk-parallel-item:only-child::after {width: 0;}#sk-container-id-1 div.sk-dashed-wrapped {border: 1px dashed gray;margin: 0 0.4em 0.5em 0.4em;box-sizing: border-box;padding-bottom: 0.4em;background-color: white;}#sk-container-id-1 div.sk-label label {font-family: monospace;font-weight: bold;display: inline-block;line-height: 1.2em;}#sk-container-id-1 div.sk-label-container {text-align: center;}#sk-container-id-1 div.sk-container {/* jupyter's `normalize.less` sets `[hidden] { display: none; }` but bootstrap.min.css set `[hidden] { display: none !important; }` so we also need the `!important` here to be able to override the default hidden behavior on the sphinx rendered scikit-learn.org. See: https://github.com/scikit-learn/scikit-learn/issues/21755 */display: inline-block !important;position: relative;}#sk-container-id-1 div.sk-text-repr-fallback {display: none;}</style><div id=\"sk-container-id-1\" class=\"sk-top-container\"><div class=\"sk-text-repr-fallback\"><pre>Pipeline(steps=[(&#x27;selectcolumns&#x27;,\n",
       "                 SelectColumns(items=[&#x27;iron_feed&#x27;, &#x27;silica_feed&#x27;, &#x27;starch_flow&#x27;,\n",
       "                                      &#x27;amina_flow&#x27;, &#x27;ore_pulp_flow&#x27;,\n",
       "                                      &#x27;ore_pulp_ph&#x27;, &#x27;ore_pulp_density&#x27;,\n",
       "                                      &#x27;total_air_flow&#x27;, &#x27;total_column_level&#x27;,\n",
       "                                      &#x27;feed_diff_divide_silica&#x27;])),\n",
       "                (&#x27;knnimputer&#x27;, KNNImputer()),\n",
       "                (&#x27;randomforestregressor&#x27;,\n",
       "                 RandomForestRegressor(max_depth=15, random_state=123))])</pre><b>In a Jupyter environment, please rerun this cell to show the HTML representation or trust the notebook. <br />On GitHub, the HTML representation is unable to render, please try loading this page with nbviewer.org.</b></div><div class=\"sk-container\" hidden><div class=\"sk-item sk-dashed-wrapped\"><div class=\"sk-label-container\"><div class=\"sk-label sk-toggleable\"><input class=\"sk-toggleable__control sk-hidden--visually\" id=\"sk-estimator-id-1\" type=\"checkbox\" ><label for=\"sk-estimator-id-1\" class=\"sk-toggleable__label sk-toggleable__label-arrow\">Pipeline</label><div class=\"sk-toggleable__content\"><pre>Pipeline(steps=[(&#x27;selectcolumns&#x27;,\n",
       "                 SelectColumns(items=[&#x27;iron_feed&#x27;, &#x27;silica_feed&#x27;, &#x27;starch_flow&#x27;,\n",
       "                                      &#x27;amina_flow&#x27;, &#x27;ore_pulp_flow&#x27;,\n",
       "                                      &#x27;ore_pulp_ph&#x27;, &#x27;ore_pulp_density&#x27;,\n",
       "                                      &#x27;total_air_flow&#x27;, &#x27;total_column_level&#x27;,\n",
       "                                      &#x27;feed_diff_divide_silica&#x27;])),\n",
       "                (&#x27;knnimputer&#x27;, KNNImputer()),\n",
       "                (&#x27;randomforestregressor&#x27;,\n",
       "                 RandomForestRegressor(max_depth=15, random_state=123))])</pre></div></div></div><div class=\"sk-serial\"><div class=\"sk-item\"><div class=\"sk-estimator sk-toggleable\"><input class=\"sk-toggleable__control sk-hidden--visually\" id=\"sk-estimator-id-2\" type=\"checkbox\" ><label for=\"sk-estimator-id-2\" class=\"sk-toggleable__label sk-toggleable__label-arrow\">SelectColumns</label><div class=\"sk-toggleable__content\"><pre>SelectColumns(items=[&#x27;iron_feed&#x27;, &#x27;silica_feed&#x27;, &#x27;starch_flow&#x27;, &#x27;amina_flow&#x27;,\n",
       "                     &#x27;ore_pulp_flow&#x27;, &#x27;ore_pulp_ph&#x27;, &#x27;ore_pulp_density&#x27;,\n",
       "                     &#x27;total_air_flow&#x27;, &#x27;total_column_level&#x27;,\n",
       "                     &#x27;feed_diff_divide_silica&#x27;])</pre></div></div></div><div class=\"sk-item\"><div class=\"sk-estimator sk-toggleable\"><input class=\"sk-toggleable__control sk-hidden--visually\" id=\"sk-estimator-id-3\" type=\"checkbox\" ><label for=\"sk-estimator-id-3\" class=\"sk-toggleable__label sk-toggleable__label-arrow\">KNNImputer</label><div class=\"sk-toggleable__content\"><pre>KNNImputer()</pre></div></div></div><div class=\"sk-item\"><div class=\"sk-estimator sk-toggleable\"><input class=\"sk-toggleable__control sk-hidden--visually\" id=\"sk-estimator-id-4\" type=\"checkbox\" ><label for=\"sk-estimator-id-4\" class=\"sk-toggleable__label sk-toggleable__label-arrow\">RandomForestRegressor</label><div class=\"sk-toggleable__content\"><pre>RandomForestRegressor(max_depth=15, random_state=123)</pre></div></div></div></div></div></div></div>"
      ],
      "text/plain": [
       "Pipeline(steps=[('selectcolumns',\n",
       "                 SelectColumns(items=['iron_feed', 'silica_feed', 'starch_flow',\n",
       "                                      'amina_flow', 'ore_pulp_flow',\n",
       "                                      'ore_pulp_ph', 'ore_pulp_density',\n",
       "                                      'total_air_flow', 'total_column_level',\n",
       "                                      'feed_diff_divide_silica'])),\n",
       "                ('knnimputer', KNNImputer()),\n",
       "                ('randomforestregressor',\n",
       "                 RandomForestRegressor(max_depth=15, random_state=123))])"
      ]
     },
     "execution_count": 10,
     "metadata": {},
     "output_type": "execute_result"
    }
   ],
   "source": [
    "silica_conc_model = datasets.get_trained_model()\n",
    "silica_conc_model"
   ]
  },
  {
   "cell_type": "markdown",
   "id": "faf8d05e",
   "metadata": {},
   "source": [
    "We'll then pass that model to an objective function and use it to evaluate the silica concentration.\n",
    "\n",
    "<div class=\"alert alert-info\">\n",
    "<b>Note</b>\n",
    "    \n",
    "This model includes a feature selection so all states can be passed to model, and it'll work as expected. We suggest you keep this invariant and do all features selection inside the model to avoid extra hassle with passing those details from outer configs. This can be easily achieved by using `ModelBase` mixin from modeling package.\n",
    "</div>"
   ]
  },
  {
   "cell_type": "code",
   "execution_count": 11,
   "id": "26cde45f",
   "metadata": {
    "ExecuteTime": {
     "end_time": "2023-12-18T20:30:07.135436Z",
     "start_time": "2023-12-18T20:30:07.057731Z"
    }
   },
   "outputs": [],
   "source": [
    "from sklearn.pipeline import Pipeline\n",
    "\n",
    "\n",
    "def calculate_objective(\n",
    "    parameters: pd.DataFrame,\n",
    "    silica_conc_model: Pipeline,\n",
    ") -> pd.Series:\n",
    "    \"\"\" Returns objective value estimated by silica conc model. \"\"\"\n",
    "    return silica_conc_model.predict(parameters)"
   ]
  },
  {
   "cell_type": "markdown",
   "id": "a4c7bf0c",
   "metadata": {},
   "source": [
    "### Define simple penalty\n",
    "\n",
    "We'd like to introduce a penalty for total amount of flows `starch_flow` and `amina flow`. If the total value goes above 3600, we penalize the objective by the distance from this threshold multiplied by `0.0125`. To do so, we'll use the `penalty` function from the OptimusAI `optimizer` package."
   ]
  },
  {
   "cell_type": "code",
   "execution_count": 12,
   "id": "1fae790a",
   "metadata": {
    "ExecuteTime": {
     "end_time": "2023-12-18T20:30:07.136514Z",
     "start_time": "2023-12-18T20:30:07.063198Z"
    }
   },
   "outputs": [],
   "source": [
    "from optimizer import penalty\n",
    "\n",
    "\n",
    "def calculate_flow_penalty(parameters: pd.DataFrame) -> pd.Series:\n",
    "    return parameters[\"starch_flow\"] + parameters[\"amina_flow\"]\n",
    "\n",
    "\n",
    "flow_penalty = penalty(\n",
    "    calculate_flow_penalty,\n",
    "    \"<=\",\n",
    "    3600,\n",
    "    name=\"starch_and_amina_flow\",\n",
    "    penalty_multiplier=0.0125,\n",
    ")"
   ]
  },
  {
   "cell_type": "markdown",
   "id": "03e4674c",
   "metadata": {},
   "source": [
    "### Define simple repairs"
   ]
  },
  {
   "cell_type": "markdown",
   "id": "5be1642f",
   "metadata": {},
   "source": [
    "Typically we use repairs to fix some \"unrealistic\" bahaviour in our ML model that we use as a part of the objective. Consider following toy example: once we change all the controls, ph might not be feasible and plant operators require additional constraints for it. So we have to introduce additional model that'll tell us what's the max value that we can set for the `\"ore_pulp_ph\"` in this given state with new controls. To simplify the example we'll use random values instead of model in `predict_max_possible_ph`. However, on a real study you'll use model here.\n",
    "\n",
    "Check out [common constraints tutorial](./common_constraints.ipynb) to get more  constraints you might need for your study."
   ]
  },
  {
   "cell_type": "code",
   "execution_count": 13,
   "id": "e2569f14",
   "metadata": {},
   "outputs": [],
   "source": [
    "import numpy as np\n",
    "\n",
    "from optimizer import repair\n",
    "\n",
    "\n",
    "def predict_max_possible_ph(df):\n",
    "    rand = np.random.RandomState(42)\n",
    "    new_flow_level = rand.rand(df.shape[0])\n",
    "    return new_flow_level\n",
    "\n",
    "\n",
    "def reset_ph_value(df):\n",
    "    df[\"ore_pulp_ph\"] = row_to_optimize[\"ore_pulp_ph\"]\n",
    "    return df"
   ]
  },
  {
   "cell_type": "code",
   "execution_count": 14,
   "id": "300b8a4a",
   "metadata": {},
   "outputs": [
    {
     "data": {
      "text/plain": [
       "<optimizer.constraint.repair.UserDefinedRepair at 0x7faff97dd3f0>"
      ]
     },
     "execution_count": 14,
     "metadata": {},
     "output_type": "execute_result"
    }
   ],
   "source": [
    "ore_pulp_ph_repair = repair(\n",
    "    \"ore_pulp_ph\",\n",
    "    \"<=\",\n",
    "    predict_max_possible_ph,\n",
    "    repair_function=reset_ph_value,\n",
    ")\n",
    "ore_pulp_ph_repair"
   ]
  },
  {
   "cell_type": "markdown",
   "id": "77f87a22",
   "metadata": {},
   "source": [
    "<div class=\"alert alert-info\">\n",
    "<b>Note</b>\n",
    "    \n",
    "As you can see, the repair will be different for each row since we're the repairing function depends on `row_to_optimize` (initial contol's value).\n",
    "\n",
    "So we'll be calling those functions in the repair definition of the problem factory, `_create_repairs`.\n",
    "\n",
    "</div>"
   ]
  },
  {
   "cell_type": "markdown",
   "id": "28d7c348",
   "metadata": {},
   "source": [
    "### `SilicaProblemFactory` definition\n",
    "\n",
    "Now we will collect all those pieces into the problem factory."
   ]
  },
  {
   "cell_type": "code",
   "execution_count": 15,
   "id": "2f52723d",
   "metadata": {
    "ExecuteTime": {
     "end_time": "2023-12-18T20:30:07.233923Z",
     "start_time": "2023-12-18T20:30:07.078696Z"
    }
   },
   "outputs": [],
   "source": [
    "import typing as tp\n",
    "from functools import partial\n",
    "\n",
    "import numpy as np\n",
    "import pandas as pd\n",
    "\n",
    "from recommend import ObjectiveFunction, ProblemFactoryBase\n",
    "from optimizer import Penalty, Repair\n",
    "\n",
    "\n",
    "class SilicaProblemFactory(ProblemFactoryBase):\n",
    "    def _create_objective(self, row_to_optimize: pd.DataFrame) -> ObjectiveFunction:\n",
    "        \"\"\"\n",
    "        Returns the objective. It will be used\n",
    "        to create `optimizer.StatefulOptimizationProblem`.\n",
    "\n",
    "        Note that the returned function must take only `parameters` as an input\n",
    "        i.e., all the additional kwargs must be wrapped via `functools.partial`\n",
    "        before returning the function\n",
    "\n",
    "        This objective can be either maximized or minimized based on\n",
    "        the `ProblemFactory.sense` (provided during init).\n",
    "        \"\"\"\n",
    "\n",
    "        return partial(\n",
    "            calculate_objective,\n",
    "            silica_conc_model=self._model_registry[\"silica_conc_model\"],\n",
    "        )\n",
    "\n",
    "    def _create_penalties(self, row_to_optimize: pd.DataFrame) -> tp.List[Penalty]:\n",
    "        \"\"\"Returns penalties. Currently, it includes only flow penalty.\"\"\"\n",
    "\n",
    "        flow_penalty = penalty(\n",
    "            calculate_flow_penalty,\n",
    "            \"<=\",\n",
    "            3600,\n",
    "            name=\"starch_and_amina_flow\",\n",
    "            penalty_multiplier=0.0125,\n",
    "        )\n",
    "        return [flow_penalty]\n",
    "\n",
    "    def _create_repairs(self, row_to_optimize: pd.DataFrame) -> tp.List[Repair]:\n",
    "        \"\"\"\n",
    "        Creates repairs:\n",
    "        * \"ore_pulp_ph\" will be repaired based on the predict_max_possible_ph predictor\n",
    "\n",
    "        \"\"\"\n",
    "\n",
    "\n",
    "        ore_pulp_ph_repair = repair(\n",
    "            \"ore_pulp_ph\",\n",
    "            \"<=\",\n",
    "            predict_max_possible_ph,\n",
    "            repair_function=partial(\n",
    "                reset_value, \n",
    "                column=\"ore_pulp_ph\",\n",
    "                value=row_to_optimize[\"ore_pulp_ph\"],\n",
    "            ),\n",
    "            check_repaired=\"never\",  # remove this (needed only for this toy example)\n",
    "        )\n",
    "\n",
    "        return [ore_pulp_ph_repair]\n",
    "\n",
    "    \n",
    "def calculate_objective(\n",
    "    parameters: pd.DataFrame,\n",
    "    silica_conc_model: Pipeline,\n",
    ") -> pd.Series:\n",
    "    \"\"\" Returns objective value estimated by silica conc model. \"\"\"\n",
    "    return silica_conc_model.predict(parameters)\n",
    "\n",
    "\n",
    "def calculate_flow_penalty(parameters: pd.DataFrame) -> pd.Series:\n",
    "    return parameters[\"starch_flow\"] + parameters[\"amina_flow\"]\n",
    "\n",
    "\n",
    "\n",
    "def predict_max_possible_ph(df):\n",
    "    rand = np.random.RandomState(42)\n",
    "    new_flow_level = rand.rand(df.shape[0])\n",
    "    return new_flow_level\n",
    "\n",
    "\n",
    "def reset_value(df, column, value):\n",
    "    df[column] = value\n",
    "    return df"
   ]
  },
  {
   "cell_type": "markdown",
   "id": "86993a76",
   "metadata": {},
   "source": [
    "<div class=\"alert alert-info\">\n",
    "<b>Note</b>\n",
    "\n",
    "We use `model_registry` attribute to provide models to the objective/penalties/repairs. This registry is provided to the factory and then stored once its instance is created (see the example below).\n",
    "\n",
    "</div>"
   ]
  },
  {
   "cell_type": "markdown",
   "id": "46aec550",
   "metadata": {},
   "source": [
    "### Create problem factory instance"
   ]
  },
  {
   "cell_type": "markdown",
   "id": "eda0cb45",
   "metadata": {},
   "source": [
    "Now, let's create a factory instance. To do that, we'll need to provide controlled parameters config, our problem class, its kwargs and silica concentration predictor.\n",
    "\n",
    "Since the goal is to have as less silica as possible, we'll provide sense=\"minimize\" as part of problem's kwargs."
   ]
  },
  {
   "cell_type": "code",
   "execution_count": 16,
   "id": "991ad8bf",
   "metadata": {
    "ExecuteTime": {
     "end_time": "2023-12-18T20:30:07.246718Z",
     "start_time": "2023-12-18T20:30:07.085188Z"
    }
   },
   "outputs": [
    {
     "data": {
      "text/plain": [
       "SilicaProblemFactory(\n",
       "    optimized_columns=ControlledParametersConfig(\n",
       "        keys={\n",
       "            'amina_flow', 'ore_pulp_density', 'ore_pulp_flow', 'ore_pulp_ph',\n",
       "            'starch_flow', 'total_air_flow', 'total_column_level',\n",
       "        },\n",
       "        values=(...),\n",
       "    ),\n",
       "    problem_class=StatefulOptimizationProblem,\n",
       "    problem_kwargs={'sense': 'minimize'},\n",
       "    model_registry={\n",
       "        'silica_conc_model',\n",
       "    },\n",
       ")"
      ]
     },
     "execution_count": 16,
     "metadata": {},
     "output_type": "execute_result"
    }
   ],
   "source": [
    "from optimizer import StatefulOptimizationProblem\n",
    "\n",
    "problem_factory = SilicaProblemFactory(\n",
    "    controlled_parameters_config=controlled_parameters_config,\n",
    "    problem_class=StatefulOptimizationProblem,\n",
    "    problem_kwargs={\"sense\": \"minimize\"},\n",
    "    model_registry={\"silica_conc_model\": silica_conc_model},\n",
    ")\n",
    "problem_factory"
   ]
  },
  {
   "cell_type": "markdown",
   "id": "8e48d8a6",
   "metadata": {},
   "source": [
    "Now we can use problem factory to produce problems. Let's try creating a problem for the first row of the dataset. To do that we call `create_problem` of the problem factory instance."
   ]
  },
  {
   "cell_type": "markdown",
   "id": "6d500e43",
   "metadata": {},
   "source": [
    "### Create a problem and its domain using problem factory"
   ]
  },
  {
   "cell_type": "code",
   "execution_count": 17,
   "id": "1e8b2e20",
   "metadata": {
    "ExecuteTime": {
     "end_time": "2023-12-18T20:30:07.247952Z",
     "start_time": "2023-12-18T20:30:07.092797Z"
    }
   },
   "outputs": [
    {
     "data": {
      "text/plain": [
       "<optimizer.problem.stateful_problem.StatefulOptimizationProblem at 0x7faff97e9240>"
      ]
     },
     "execution_count": 17,
     "metadata": {},
     "output_type": "execute_result"
    }
   ],
   "source": [
    "problem = problem_factory.create(row_to_optimize)\n",
    "problem"
   ]
  },
  {
   "cell_type": "markdown",
   "id": "23ed78c9",
   "metadata": {},
   "source": [
    "## `SolverFactory`"
   ]
  },
  {
   "cell_type": "markdown",
   "id": "569b3660",
   "metadata": {},
   "source": [
    "This class simplifies the process of creating a solver-stopper pair for each of the problems.\n",
    "\n",
    "To init `SolverFactory` we need to provide:\n",
    "* controlled parameters config – this config is required since solver needs to know the domain of optimized parameters\n",
    "* solver class and its kwargs – the solver class to create and its kwargs\n",
    "* (optional) stopper class and its kwargs – the stopper class to create (defines criteria for early solver termination) and its kwargs; see the [OAI `optimizer` docs for more](https://brix.quantumblack.com/products/optimus/docs/src/packages/optimizer/docs/source/04_user_guide/05_stopper.html)\n",
    "* (optional) domain class and its kwargs – the DomainGenerationBase implementation; is used for solver's domain generation ([read more in FAQ section](https://brix.quantumblack.com/products/optimus/docs/src/packages/recommend/src/recommend/notebooks/recommend.html#FAQ))\n",
    "\n",
    "The factory instance will create a requested solver-stopper pair via `create` method.\n",
    "\n",
    "For this example, we'll create a factory which will produce `DifferentialEvolutionSolver`  and `NoImprovementStopper` that halts the optimization after a certain number of iterations without an improvement. See [solver](https://brix.quantumblack.com/products/optimus/docs/src/packages/optimizer/docs/source/04_user_guide/03_solver.html) and [stopper](https://brix.quantumblack.com/products/optimus/docs/src/packages/optimizer/docs/source/04_user_guide/05_stopper.html) tutorials for more options."
   ]
  },
  {
   "cell_type": "code",
   "execution_count": 18,
   "id": "0bb0600b",
   "metadata": {
    "ExecuteTime": {
     "end_time": "2023-12-18T20:30:07.249156Z",
     "start_time": "2023-12-18T20:30:07.098589Z"
    }
   },
   "outputs": [
    {
     "data": {
      "text/plain": [
       "SolverFactory(\n",
       "    solver_class=DifferentialEvolutionSolver,\n",
       "    solver_kwargs={\n",
       "        'sense': 'minimize',\n",
       "        'seed': 0,\n",
       "        'maxiter': 100,\n",
       "        'mutation': [0.5, 1.0],\n",
       "        'recombination': 0.7,\n",
       "        'strategy': 'best1bin',\n",
       "    },\n",
       "    stopper_class=NoImprovementStopper,\n",
       "    stopper_kwargs={\n",
       "        'patience': 10, 'sense': 'minimize', 'min_delta': 0.1,\n",
       "    },\n",
       "    domain_generator=BoundedLinearSpaceDomain(\n",
       "        controlled_parameters=ControlledParametersConfig(\n",
       "            keys={\n",
       "                'amina_flow', 'ore_pulp_density', 'ore_pulp_flow', 'ore_pulp_ph',\n",
       "                'starch_flow', 'total_air_flow', 'total_column_level',\n",
       "            },\n",
       "            values=(...),\n",
       "        ),\n",
       "    ),\n",
       ")"
      ]
     },
     "execution_count": 18,
     "metadata": {},
     "output_type": "execute_result"
    }
   ],
   "source": [
    "from recommend import SolverFactory\n",
    "from optimizer.solvers import DifferentialEvolutionSolver\n",
    "from optimizer.stoppers import NoImprovementStopper\n",
    "\n",
    "# Sample kwargs for DifferentialEvolutionSolver\n",
    "solver_kwargs = {\n",
    "    \"sense\": \"minimize\",\n",
    "    \"seed\": 0,\n",
    "    \"maxiter\": 100,\n",
    "    \"mutation\": [0.5, 1.0],\n",
    "    \"recombination\": 0.7,\n",
    "    \"strategy\": \"best1bin\",\n",
    "}\n",
    "\n",
    "# Sample kwargs for NoImprovementStopper\n",
    "stopper_kwargs = {\n",
    "    \"patience\": 10,\n",
    "    \"sense\": \"minimize\",\n",
    "    \"min_delta\": 0.1    \n",
    "}\n",
    "\n",
    "solver_factory = SolverFactory(\n",
    "    controlled_parameters_config=controlled_parameters_config,\n",
    "    solver_class=DifferentialEvolutionSolver,\n",
    "    solver_kwargs=solver_kwargs,\n",
    "    stopper_class=NoImprovementStopper,\n",
    "    stopper_kwargs=stopper_kwargs,\n",
    ")\n",
    "solver_factory"
   ]
  },
  {
   "cell_type": "markdown",
   "id": "efd99341",
   "metadata": {},
   "source": [
    "Now we can create a solver-stopper pair for any row. Additionally, factory requires a list of active controls (if none are provided, solver will optimize all controls from previously provided `controlled_parameters_config`. We'll use `problem` to get a list of active controls for this row."
   ]
  },
  {
   "cell_type": "code",
   "execution_count": 19,
   "id": "548101e9",
   "metadata": {
    "ExecuteTime": {
     "end_time": "2023-12-18T20:30:07.253958Z",
     "start_time": "2023-12-18T20:30:07.103963Z"
    },
    "scrolled": true
   },
   "outputs": [
    {
     "name": "stderr",
     "output_type": "stream",
     "text": [
      "/Users/admin/Documents/optimus/src/packages/recommend/src/recommend/solver_factory/_warnings.py:0: OutOfDomainWarning: Row index 0. Found [2/6] controls out of operating range. Proceeded as if their current values were equal to closest min/max operating limit.\n"
     ]
    },
    {
     "data": {
      "text/plain": [
       "(<optimizer.solvers.continuous.differential_evolution.DifferentialEvolutionSolver at 0x7faff97e9c30>,\n",
       " <optimizer.stoppers.no_improvement.NoImprovementStopper at 0x7fafa8ad3fd0>)"
      ]
     },
     "execution_count": 19,
     "metadata": {},
     "output_type": "execute_result"
    }
   ],
   "source": [
    "solver_factory.create(row_to_optimize, problem.optimizable_columns)"
   ]
  },
  {
   "cell_type": "markdown",
   "id": "34bb3d35",
   "metadata": {},
   "source": [
    "<div class=\"alert alert-info\">\n",
    "<b>Note</b>\n",
    "    \n",
    "The output of solver creation contains warnings. It can be the case that a particular control variable is outside the range given in the tag dictionary. However, the domain space of the solver guarantees that the recommendations will always be in the desired range.\n",
    "\n",
    "</div>"
   ]
  },
  {
   "cell_type": "markdown",
   "id": "b8630020",
   "metadata": {},
   "source": [
    "### Creating discrete solver"
   ]
  },
  {
   "cell_type": "markdown",
   "id": "7f8f7b44",
   "metadata": {},
   "source": [
    "If you want to use one of discrete solvers (i.e. `GridSearchSolver`, `HillClimbingSolver`, `DiscreteSimulatedAnnealingSolver`) just pass new solver class to the factory. The factory will automatically take care of domain generation. See example below."
   ]
  },
  {
   "cell_type": "code",
   "execution_count": 20,
   "id": "38a8bc62",
   "metadata": {
    "ExecuteTime": {
     "end_time": "2023-12-18T20:30:07.256312Z",
     "start_time": "2023-12-18T20:30:07.120868Z"
    }
   },
   "outputs": [
    {
     "name": "stdout",
     "output_type": "stream",
     "text": [
      "INFO:recommend.domain_generator.discrete_domain_generator:Created an evenly spaced domain for starch_flow. Starting from 3000.0 with step 200.0. This domain consists of 6 points.\n",
      "INFO:recommend.domain_generator.discrete_domain_generator:Created an evenly spaced domain for amina_flow. Starting from 450.0 with step 50.0. This domain consists of 5 points.\n",
      "INFO:recommend.domain_generator.discrete_domain_generator:Created an evenly spaced domain for ore_pulp_flow. Starting from 400.0 with step 2.0. This domain consists of 6 points.\n",
      "INFO:recommend.domain_generator.discrete_domain_generator:Created an evenly spaced domain for ore_pulp_density. Starting from 1.65 with step 0.1. This domain consists of 2 points.\n",
      "INFO:recommend.domain_generator.discrete_domain_generator:Created an evenly spaced domain for total_air_flow. Starting from 1000.0 with step 100.0. This domain consists of 11 points.\n",
      "INFO:recommend.domain_generator.discrete_domain_generator:Created an evenly spaced domain for total_column_level. Starting from 1000.0 with step 200.0. This domain consists of 21 points.\n"
     ]
    },
    {
     "name": "stderr",
     "output_type": "stream",
     "text": [
      "/Users/admin/Documents/optimus/src/packages/recommend/src/recommend/solver_factory/_warnings.py:0: OutOfDomainWarning: Row index 0. Found [2/6] controls out of operating range. Proceeded as if their current values were equal to closest min/max operating limit.\n"
     ]
    },
    {
     "data": {
      "text/plain": [
       "<optimizer.solvers.discrete.grid_search.GridSearchSolver at 0x7faff97e83d0>"
      ]
     },
     "execution_count": 20,
     "metadata": {},
     "output_type": "execute_result"
    }
   ],
   "source": [
    "from optimizer.solvers import GridSearchSolver\n",
    "\n",
    "# Example keyword arguments. See docs for more info.\n",
    "grid_solver_kwargs = {\"sense\": \"minimize\", \"seed\": 0}\n",
    "\n",
    "disc_solver_factory = SolverFactory(\n",
    "    solver_class=GridSearchSolver, \n",
    "    solver_kwargs=grid_solver_kwargs,\n",
    "    controlled_parameters_config=controlled_parameters_config,\n",
    ")\n",
    "disc_solver, _ = disc_solver_factory.create(row_to_optimize, problem.optimizable_columns)\n",
    "disc_solver"
   ]
  },
  {
   "cell_type": "markdown",
   "id": "142e8719",
   "metadata": {
    "scrolled": true
   },
   "source": [
    "Factory creates a discrete solver without any additional parameters passed to it. Using this factory, we can create a solver-stopper pair for any row in the dataset."
   ]
  },
  {
   "cell_type": "markdown",
   "id": "010886a4",
   "metadata": {},
   "source": [
    "## `optimize`\n",
    "\n",
    "The final step is to conduct optimization. To complete it, pass `problem_factory`, and `stopper_factory` we just created. \n",
    "\n",
    "The package has a `optimize` method for optimizing a dataset in parallel. This method will use factories to create a problem and solver-stopper. Which will then be used to derive a solution.\n",
    "\n",
    "We can control the parallelism with the `n_jobs` keyword argument."
   ]
  },
  {
   "cell_type": "code",
   "execution_count": 21,
   "id": "0d07a94a",
   "metadata": {
    "ExecuteTime": {
     "end_time": "2023-12-18T20:30:15.730498Z",
     "start_time": "2023-12-18T20:30:07.128585Z"
    },
    "scrolled": false
   },
   "outputs": [
    {
     "name": "stdout",
     "output_type": "stream",
     "text": [
      "INFO:recommend.optimize._optimize:Creating problem, solver, and stopper for each row\n",
      "WARNING:recommend.warnings_catcher:Found [81/81] rows with controls that were out of bounds. Proceeded as if the current value was equal to closest min/max operating limit.\n"
     ]
    },
    {
     "name": "stderr",
     "output_type": "stream",
     "text": [
      "[Parallel(n_jobs=-1)]: Using backend LokyBackend with 8 concurrent workers.\n",
      "[Parallel(n_jobs=-1)]: Done   2 tasks      | elapsed:    7.4s\n",
      "[Parallel(n_jobs=-1)]: Done   9 tasks      | elapsed:    9.6s\n",
      "[Parallel(n_jobs=-1)]: Done  16 tasks      | elapsed:   10.8s\n",
      "[Parallel(n_jobs=-1)]: Done  25 tasks      | elapsed:   13.1s\n",
      "[Parallel(n_jobs=-1)]: Done  34 tasks      | elapsed:   15.0s\n",
      "[Parallel(n_jobs=-1)]: Done  45 tasks      | elapsed:   16.9s\n",
      "[Parallel(n_jobs=-1)]: Done  56 tasks      | elapsed:   19.2s\n",
      "[Parallel(n_jobs=-1)]: Done  75 out of  81 | elapsed:   22.8s remaining:    1.8s\n",
      "[Parallel(n_jobs=-1)]: Done  81 out of  81 | elapsed:   23.8s finished\n"
     ]
    },
    {
     "data": {
      "text/plain": [
       "Solutions(\n",
       "    keys=[\n",
       "        0, 1, 2, 3, 4, 5, 6, 7, 8, 9, 10, 11, 12, 13, 14, 15, 16, 17, 18, 19,\n",
       "        20, 21, 22, 23, 24, 25, 26, 27, 28, 29, 30, 31, 32, 33, 34, 35, 36, 37,\n",
       "        38, 39, 40, 41, 42, 43, 44, 45, 46, 47, 48, 49, 50, 51, 52, 53, 54, 55,\n",
       "        56, 57, 58, 59, 60, 61, 62, 63, 64, 65, 66, 67, 68, 69, 70, 71, 72, 73,\n",
       "        74, 75, 76, 77, 78, 79, 80,\n",
       "    ],\n",
       "    values=(...),\n",
       ")"
      ]
     },
     "execution_count": 21,
     "metadata": {},
     "output_type": "execute_result"
    }
   ],
   "source": [
    "from recommend import optimize\n",
    "\n",
    "solutions = optimize(\n",
    "    df,\n",
    "    problem_factory,\n",
    "    solver_factory,\n",
    "    n_jobs=-1,\n",
    ")\n",
    "solutions"
   ]
  },
  {
   "cell_type": "markdown",
   "id": "df1cdf83",
   "metadata": {},
   "source": [
    "The `optimize` returns `Solutions` object which is a mapping from data's index into `Solution`. This object can export solution results to a dataframe using the  `to_frame` method.\n",
    "\n",
    "This method produces an export table with all parameters compared before and after the optimization. By default, (if users do not mutate state parameters explicitly) only controlled parameters differ.\n",
    "\n",
    "Table has the same index as initial dataset (that was provided to the `Optimizer`) and two level-columns:\n",
    "* first level – initial dataset's column name\n",
    "* \"type\" – either \"initial\" (before the optimization) or \"optimized\" (after the optimization).\n",
    "\n",
    "Penalty and slack values are also displayed (see `_slack` and `_penalty` suffixied columns).\n",
    "\n",
    "Note that any context variable has only \"initial\" column index."
   ]
  },
  {
   "cell_type": "code",
   "execution_count": 22,
   "id": "c2f43419",
   "metadata": {
    "ExecuteTime": {
     "end_time": "2023-12-18T20:30:21.101412Z",
     "start_time": "2023-12-18T20:30:15.723059Z"
    },
    "scrolled": false
   },
   "outputs": [
    {
     "name": "stdout",
     "output_type": "stream",
     "text": [
      "WARNING:recommend.warnings_catcher:Found [3/81] rows with objective not improved (same or worse). Initial controls are returned.\n"
     ]
    },
    {
     "data": {
      "text/html": [
       "<div>\n",
       "<style scoped>\n",
       "    .dataframe tbody tr th:only-of-type {\n",
       "        vertical-align: middle;\n",
       "    }\n",
       "\n",
       "    .dataframe tbody tr th {\n",
       "        vertical-align: top;\n",
       "    }\n",
       "\n",
       "    .dataframe thead tr th {\n",
       "        text-align: left;\n",
       "    }\n",
       "</style>\n",
       "<table border=\"1\" class=\"dataframe\">\n",
       "  <thead>\n",
       "    <tr>\n",
       "      <th></th>\n",
       "      <th>timestamp</th>\n",
       "      <th>air_flow01</th>\n",
       "      <th>air_flow02</th>\n",
       "      <th>air_flow03</th>\n",
       "      <th>air_flow04</th>\n",
       "      <th>air_flow05</th>\n",
       "      <th>air_flow06</th>\n",
       "      <th>air_flow07</th>\n",
       "      <th colspan=\"2\" halign=\"left\">amina_flow</th>\n",
       "      <th>...</th>\n",
       "      <th colspan=\"2\" halign=\"left\">objective</th>\n",
       "      <th colspan=\"2\" halign=\"left\">starch_and_amina_flow_penalty</th>\n",
       "      <th colspan=\"2\" halign=\"left\">starch_and_amina_flow_slack</th>\n",
       "      <th>run_id</th>\n",
       "      <th>is_successful_optimization</th>\n",
       "      <th>uplift</th>\n",
       "      <th>ore_pulp_ph</th>\n",
       "    </tr>\n",
       "    <tr>\n",
       "      <th>type</th>\n",
       "      <th>initial</th>\n",
       "      <th>initial</th>\n",
       "      <th>initial</th>\n",
       "      <th>initial</th>\n",
       "      <th>initial</th>\n",
       "      <th>initial</th>\n",
       "      <th>initial</th>\n",
       "      <th>initial</th>\n",
       "      <th>initial</th>\n",
       "      <th>optimized</th>\n",
       "      <th>...</th>\n",
       "      <th>initial</th>\n",
       "      <th>optimized</th>\n",
       "      <th>initial</th>\n",
       "      <th>optimized</th>\n",
       "      <th>initial</th>\n",
       "      <th>optimized</th>\n",
       "      <th></th>\n",
       "      <th></th>\n",
       "      <th></th>\n",
       "      <th>optimized</th>\n",
       "    </tr>\n",
       "  </thead>\n",
       "  <tbody>\n",
       "    <tr>\n",
       "      <th>0</th>\n",
       "      <td>2017-08-30 23:00:00</td>\n",
       "      <td>299.88293</td>\n",
       "      <td>299.682324</td>\n",
       "      <td>299.884393</td>\n",
       "      <td>299.617858</td>\n",
       "      <td>300.0</td>\n",
       "      <td>300.0</td>\n",
       "      <td>300.0</td>\n",
       "      <td>522.255576</td>\n",
       "      <td>477.280651</td>\n",
       "      <td>...</td>\n",
       "      <td>13.13186</td>\n",
       "      <td>11.261798</td>\n",
       "      <td>1.523677</td>\n",
       "      <td>0.0</td>\n",
       "      <td>NaN</td>\n",
       "      <td>86.079461</td>\n",
       "      <td>a71312bf-5ace-4857-bef0-4b9f7f3932c7</td>\n",
       "      <td>True</td>\n",
       "      <td>-1.870062</td>\n",
       "      <td>NaN</td>\n",
       "    </tr>\n",
       "    <tr>\n",
       "      <th>1</th>\n",
       "      <td>2017-08-31 02:00:00</td>\n",
       "      <td>299.947659</td>\n",
       "      <td>299.800402</td>\n",
       "      <td>299.931837</td>\n",
       "      <td>299.436669</td>\n",
       "      <td>300.0</td>\n",
       "      <td>300.0</td>\n",
       "      <td>300.0</td>\n",
       "      <td>492.844533</td>\n",
       "      <td>482.303442</td>\n",
       "      <td>...</td>\n",
       "      <td>15.009397</td>\n",
       "      <td>11.257896</td>\n",
       "      <td>0.0</td>\n",
       "      <td>0.0</td>\n",
       "      <td>477.090481</td>\n",
       "      <td>73.476038</td>\n",
       "      <td>95256216-dcdf-49fa-81bd-d8627181897d</td>\n",
       "      <td>True</td>\n",
       "      <td>-3.751501</td>\n",
       "      <td>NaN</td>\n",
       "    </tr>\n",
       "    <tr>\n",
       "      <th>2</th>\n",
       "      <td>2017-08-31 05:00:00</td>\n",
       "      <td>299.296059</td>\n",
       "      <td>299.392591</td>\n",
       "      <td>299.929091</td>\n",
       "      <td>299.255481</td>\n",
       "      <td>300.0</td>\n",
       "      <td>300.0</td>\n",
       "      <td>300.0</td>\n",
       "      <td>455.151107</td>\n",
       "      <td>481.539637</td>\n",
       "      <td>...</td>\n",
       "      <td>14.508256</td>\n",
       "      <td>10.848755</td>\n",
       "      <td>0.0</td>\n",
       "      <td>0.0</td>\n",
       "      <td>510.355502</td>\n",
       "      <td>99.132547</td>\n",
       "      <td>f2c70158-dd56-4018-b41e-b04c8c1050ad</td>\n",
       "      <td>True</td>\n",
       "      <td>-3.6595</td>\n",
       "      <td>NaN</td>\n",
       "    </tr>\n",
       "    <tr>\n",
       "      <th>3</th>\n",
       "      <td>2017-08-31 08:00:00</td>\n",
       "      <td>299.994928</td>\n",
       "      <td>299.894504</td>\n",
       "      <td>299.948689</td>\n",
       "      <td>299.074293</td>\n",
       "      <td>300.0</td>\n",
       "      <td>NaN</td>\n",
       "      <td>300.0</td>\n",
       "      <td>484.799569</td>\n",
       "      <td>483.028604</td>\n",
       "      <td>...</td>\n",
       "      <td>11.175563</td>\n",
       "      <td>10.742631</td>\n",
       "      <td>0.0</td>\n",
       "      <td>0.0</td>\n",
       "      <td>254.098735</td>\n",
       "      <td>56.391049</td>\n",
       "      <td>bc39a032-04ba-450f-882c-388b5399a40c</td>\n",
       "      <td>True</td>\n",
       "      <td>-0.432932</td>\n",
       "      <td>NaN</td>\n",
       "    </tr>\n",
       "    <tr>\n",
       "      <th>4</th>\n",
       "      <td>2017-08-31 11:00:00</td>\n",
       "      <td>299.916354</td>\n",
       "      <td>299.890941</td>\n",
       "      <td>299.889231</td>\n",
       "      <td>298.893105</td>\n",
       "      <td>300.0</td>\n",
       "      <td>300.0</td>\n",
       "      <td>298.207261</td>\n",
       "      <td>415.15145</td>\n",
       "      <td>469.504557</td>\n",
       "      <td>...</td>\n",
       "      <td>12.891734</td>\n",
       "      <td>10.988091</td>\n",
       "      <td>6.651729</td>\n",
       "      <td>0.0</td>\n",
       "      <td>NaN</td>\n",
       "      <td>129.387653</td>\n",
       "      <td>4f3b3d6a-50e5-4fa8-b867-a121967655bc</td>\n",
       "      <td>True</td>\n",
       "      <td>-1.903643</td>\n",
       "      <td>NaN</td>\n",
       "    </tr>\n",
       "  </tbody>\n",
       "</table>\n",
       "<p>5 rows × 45 columns</p>\n",
       "</div>"
      ],
      "text/plain": [
       "               timestamp  air_flow01  air_flow02  air_flow03  air_flow04  \\\n",
       "type             initial     initial     initial     initial     initial   \n",
       "0    2017-08-30 23:00:00   299.88293  299.682324  299.884393  299.617858   \n",
       "1    2017-08-31 02:00:00  299.947659  299.800402  299.931837  299.436669   \n",
       "2    2017-08-31 05:00:00  299.296059  299.392591  299.929091  299.255481   \n",
       "3    2017-08-31 08:00:00  299.994928  299.894504  299.948689  299.074293   \n",
       "4    2017-08-31 11:00:00  299.916354  299.890941  299.889231  298.893105   \n",
       "\n",
       "     air_flow05 air_flow06  air_flow07  amina_flow              ...  \\\n",
       "type    initial    initial     initial     initial   optimized  ...   \n",
       "0         300.0      300.0       300.0  522.255576  477.280651  ...   \n",
       "1         300.0      300.0       300.0  492.844533  482.303442  ...   \n",
       "2         300.0      300.0       300.0  455.151107  481.539637  ...   \n",
       "3         300.0        NaN       300.0  484.799569  483.028604  ...   \n",
       "4         300.0      300.0  298.207261   415.15145  469.504557  ...   \n",
       "\n",
       "      objective            starch_and_amina_flow_penalty            \\\n",
       "type    initial  optimized                       initial optimized   \n",
       "0      13.13186  11.261798                      1.523677       0.0   \n",
       "1     15.009397  11.257896                           0.0       0.0   \n",
       "2     14.508256  10.848755                           0.0       0.0   \n",
       "3     11.175563  10.742631                           0.0       0.0   \n",
       "4     12.891734  10.988091                      6.651729       0.0   \n",
       "\n",
       "     starch_and_amina_flow_slack              \\\n",
       "type                     initial   optimized   \n",
       "0                            NaN   86.079461   \n",
       "1                     477.090481   73.476038   \n",
       "2                     510.355502   99.132547   \n",
       "3                     254.098735   56.391049   \n",
       "4                            NaN  129.387653   \n",
       "\n",
       "                                    run_id is_successful_optimization  \\\n",
       "type                                                                    \n",
       "0     a71312bf-5ace-4857-bef0-4b9f7f3932c7                       True   \n",
       "1     95256216-dcdf-49fa-81bd-d8627181897d                       True   \n",
       "2     f2c70158-dd56-4018-b41e-b04c8c1050ad                       True   \n",
       "3     bc39a032-04ba-450f-882c-388b5399a40c                       True   \n",
       "4     4f3b3d6a-50e5-4fa8-b867-a121967655bc                       True   \n",
       "\n",
       "        uplift ore_pulp_ph  \n",
       "type             optimized  \n",
       "0    -1.870062         NaN  \n",
       "1    -3.751501         NaN  \n",
       "2      -3.6595         NaN  \n",
       "3    -0.432932         NaN  \n",
       "4    -1.903643         NaN  \n",
       "\n",
       "[5 rows x 45 columns]"
      ]
     },
     "execution_count": 22,
     "metadata": {},
     "output_type": "execute_result"
    }
   ],
   "source": [
    "df_solutions = solutions.to_frame()\n",
    "df_solutions.head()"
   ]
  },
  {
   "cell_type": "markdown",
   "id": "58e6a962",
   "metadata": {},
   "source": [
    "Quick reminder on multi-index usage:\n",
    "* `df_solutions[\"amina_flow\"]` returns the initial and optimized values for \"amina_flow\"\n",
    "* `df_solutions[(\"amina_flow\", \"optimized\")]` returns the optimized values for \"amina_flow\""
   ]
  },
  {
   "cell_type": "markdown",
   "id": "cfa5538b",
   "metadata": {},
   "source": [
    "## FAQ"
   ]
  },
  {
   "cell_type": "markdown",
   "id": "4ca2a306",
   "metadata": {},
   "source": [
    "### Q: How do I use a model in optimization?\n",
    "\n",
    "Problem definition might include model usage. Typical usage of the models includes:\n",
    "* model for predicting the objective\n",
    "* model for a multistep-objective:\n",
    "    1. optimizer proposes controls, then first model (soft sensor model) predicts updated state parameters \n",
    "    2. and then another model (target model) calculates the final objective\n",
    "* model to predicting the constraint:\n",
    "    1. optimizer proposes controls\n",
    "    2. model predicts some state parameters\n",
    "    3. constraints use those to penalise our objective/repair our controls\n",
    "\n",
    "\n",
    "<div class=\"alert alert-info\">\n",
    "<b>Note</b>\n",
    "    \n",
    "\n",
    "To provide models to the problem, one can use `model_registry` argument when creating an instance of oyur implementation of `ProblemFactoryBase`. This model registry simplifies models retrieval in objective/penalties/repairs via `self._model_registry` dictionary.\n",
    "\n",
    "</div>"
   ]
  },
  {
   "cell_type": "markdown",
   "id": "a572b679",
   "metadata": {},
   "source": [
    "## Next steps\n",
    "\n",
    "Learn how optimization results can be explained with [optimization explainer tutorial notebooks](./optimization_explainer.ipynb)"
   ]
  }
 ],
 "metadata": {
  "kernelspec": {
   "display_name": "Python [conda env:optimus_env]",
   "language": "python",
   "name": "conda-env-optimus_env-py"
  },
  "language_info": {
   "codemirror_mode": {
    "name": "ipython",
    "version": 3
   },
   "file_extension": ".py",
   "mimetype": "text/x-python",
   "name": "python",
   "nbconvert_exporter": "python",
   "pygments_lexer": "ipython3",
   "version": "3.10.13"
  },
  "toc": {
   "base_numbering": 1,
   "nav_menu": {},
   "number_sections": false,
   "sideBar": true,
   "skip_h1_title": true,
   "title_cell": "Table of Contents",
   "title_sidebar": "Contents",
   "toc_cell": false,
   "toc_position": {
    "height": "calc(100% - 180px)",
    "left": "10px",
    "top": "150px",
    "width": "242.078812px"
   },
   "toc_section_display": true,
   "toc_window_display": true
  },
  "varInspector": {
   "cols": {
    "lenName": 16,
    "lenType": 16,
    "lenVar": 40
   },
   "kernels_config": {
    "python": {
     "delete_cmd_postfix": "",
     "delete_cmd_prefix": "del ",
     "library": "var_list.py",
     "varRefreshCmd": "print(var_dic_list())"
    },
    "r": {
     "delete_cmd_postfix": ") ",
     "delete_cmd_prefix": "rm(",
     "library": "var_list.r",
     "varRefreshCmd": "cat(var_dic_list()) "
    }
   },
   "types_to_exclude": [
    "module",
    "function",
    "builtin_function_or_method",
    "instance",
    "_Feature"
   ],
   "window_display": false
  },
  "vscode": {
   "interpreter": {
    "hash": "fafc7eee7de150c8a427b31921af63c0c3d0a2f414af683a5e82b516415abf3a"
   }
  }
 },
 "nbformat": 4,
 "nbformat_minor": 5
}
