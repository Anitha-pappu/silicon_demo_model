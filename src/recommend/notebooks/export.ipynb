{
 "cells": [
  {
   "cell_type": "code",
   "execution_count": 1,
   "id": "6e0a3114",
   "metadata": {},
   "outputs": [],
   "source": [
    "# Resolve path when used in use case project\n",
    "import sys\n",
    "from pathlib import Path\n",
    "\n",
    "sys.path.insert(0, str(Path(\"../../\").resolve()))"
   ]
  },
  {
   "cell_type": "code",
   "execution_count": 2,
   "id": "9ce584e2",
   "metadata": {},
   "outputs": [
    {
     "name": "stdout",
     "output_type": "stream",
     "text": [
      "Using 0.39.0 version of recommend package\n"
     ]
    }
   ],
   "source": [
    "import recommend\n",
    "print(f'Using {recommend.__version__} version of recommend package')"
   ]
  },
  {
   "cell_type": "markdown",
   "id": "e5630587",
   "metadata": {},
   "source": [
    "# Export tutorial\n",
    "\n",
    "This notebook explains the exporting functionality of the `recommend` package. \n",
    "\n",
    "Exporting is only relevant if you are using the control room advisor (CRA) from the OptimusAI offering. If not, feel free to skip this tutorial. This tutorial does not document the CRA itself. See the OAI documentation for more on this.\n",
    "\n",
    "<div class=\"alert alert-warning\">\n",
    "<b>Warning</b>\n",
    " \n",
    "This notebook is purely for documentation purposes. You should <i>not</i> deploy results to any live environment using a notebook workflow. \n",
    "    \n",
    "</div>"
   ]
  },
  {
   "cell_type": "markdown",
   "id": "65f821a2-4a63-4a89-bc94-0a4a6c3d8690",
   "metadata": {},
   "source": [
    "## Setup"
   ]
  },
  {
   "cell_type": "markdown",
   "id": "84a71893-1f45-49fd-b8b0-6f98ca22866a",
   "metadata": {},
   "source": [
    "This notebook assumes you already have some results from the `bulk_optimize` function described in [this tutorial](./recommend.ipynb). "
   ]
  },
  {
   "cell_type": "code",
   "execution_count": 3,
   "id": "2df45506",
   "metadata": {},
   "outputs": [
    {
     "data": {
      "text/html": [
       "<div>\n",
       "<style scoped>\n",
       "    .dataframe tbody tr th:only-of-type {\n",
       "        vertical-align: middle;\n",
       "    }\n",
       "\n",
       "    .dataframe tbody tr th {\n",
       "        vertical-align: top;\n",
       "    }\n",
       "\n",
       "    .dataframe thead tr th {\n",
       "        text-align: left;\n",
       "    }\n",
       "</style>\n",
       "<table border=\"1\" class=\"dataframe\">\n",
       "  <thead>\n",
       "    <tr>\n",
       "      <th></th>\n",
       "      <th>timestamp</th>\n",
       "      <th>air_flow01</th>\n",
       "      <th>air_flow02</th>\n",
       "      <th>air_flow03</th>\n",
       "      <th>air_flow04</th>\n",
       "      <th>air_flow05</th>\n",
       "      <th>air_flow06</th>\n",
       "      <th>air_flow07</th>\n",
       "      <th colspan=\"2\" halign=\"left\">amina_flow</th>\n",
       "      <th>...</th>\n",
       "      <th>silica_conc_cluster</th>\n",
       "      <th colspan=\"2\" halign=\"left\">objective</th>\n",
       "      <th colspan=\"2\" halign=\"left\">starch_and_amina_flow_penalty</th>\n",
       "      <th colspan=\"2\" halign=\"left\">starch_and_amina_flow_slack</th>\n",
       "      <th>run_id</th>\n",
       "      <th>is_successful_optimization</th>\n",
       "      <th>uplift</th>\n",
       "    </tr>\n",
       "    <tr>\n",
       "      <th>type</th>\n",
       "      <th>initial</th>\n",
       "      <th>initial</th>\n",
       "      <th>initial</th>\n",
       "      <th>initial</th>\n",
       "      <th>initial</th>\n",
       "      <th>initial</th>\n",
       "      <th>initial</th>\n",
       "      <th>initial</th>\n",
       "      <th>initial</th>\n",
       "      <th>optimized</th>\n",
       "      <th>...</th>\n",
       "      <th>initial</th>\n",
       "      <th>initial</th>\n",
       "      <th>optimized</th>\n",
       "      <th>initial</th>\n",
       "      <th>optimized</th>\n",
       "      <th>initial</th>\n",
       "      <th>optimized</th>\n",
       "      <th></th>\n",
       "      <th></th>\n",
       "      <th></th>\n",
       "    </tr>\n",
       "  </thead>\n",
       "  <tbody>\n",
       "    <tr>\n",
       "      <th>48</th>\n",
       "      <td>2017-09-05 23:00:00</td>\n",
       "      <td>299.931919</td>\n",
       "      <td>299.949778</td>\n",
       "      <td>299.903115</td>\n",
       "      <td>298.778222</td>\n",
       "      <td>299.975283</td>\n",
       "      <td>299.496293</td>\n",
       "      <td>299.793731</td>\n",
       "      <td>630.368125</td>\n",
       "      <td>544.972644</td>\n",
       "      <td>...</td>\n",
       "      <td>(12.191, 15.166]</td>\n",
       "      <td>12.808896</td>\n",
       "      <td>10.57103</td>\n",
       "      <td>0.0</td>\n",
       "      <td>0.0</td>\n",
       "      <td>195.054585</td>\n",
       "      <td>10.930091</td>\n",
       "      <td>881e98b3-41e6-4b82-815a-d99435ea632b</td>\n",
       "      <td>True</td>\n",
       "      <td>-2.237866</td>\n",
       "    </tr>\n",
       "    <tr>\n",
       "      <th>49</th>\n",
       "      <td>2017-09-06 02:00:00</td>\n",
       "      <td>299.930813</td>\n",
       "      <td>299.807355</td>\n",
       "      <td>299.954561</td>\n",
       "      <td>295.9415</td>\n",
       "      <td>300.0</td>\n",
       "      <td>299.695972</td>\n",
       "      <td>299.812304</td>\n",
       "      <td>526.85064</td>\n",
       "      <td>506.006817</td>\n",
       "      <td>...</td>\n",
       "      <td>(12.191, 15.166]</td>\n",
       "      <td>14.658809</td>\n",
       "      <td>10.625636</td>\n",
       "      <td>0.0</td>\n",
       "      <td>0.0</td>\n",
       "      <td>46.703399</td>\n",
       "      <td>5.294093</td>\n",
       "      <td>836baf92-3093-430a-b4c4-480599dfde9a</td>\n",
       "      <td>True</td>\n",
       "      <td>-4.033173</td>\n",
       "    </tr>\n",
       "    <tr>\n",
       "      <th>50</th>\n",
       "      <td>2017-09-06 05:00:00</td>\n",
       "      <td>299.675317</td>\n",
       "      <td>299.443365</td>\n",
       "      <td>299.887433</td>\n",
       "      <td>296.489529</td>\n",
       "      <td>300.0</td>\n",
       "      <td>299.86097</td>\n",
       "      <td>299.507028</td>\n",
       "      <td>571.589206</td>\n",
       "      <td>503.683974</td>\n",
       "      <td>...</td>\n",
       "      <td>(9.198, 12.191]</td>\n",
       "      <td>12.856431</td>\n",
       "      <td>11.071956</td>\n",
       "      <td>0.311756</td>\n",
       "      <td>0.0</td>\n",
       "      <td>NaN</td>\n",
       "      <td>4.673848</td>\n",
       "      <td>0a60ecf8-1071-4384-b31c-680961f20dd0</td>\n",
       "      <td>True</td>\n",
       "      <td>-1.784475</td>\n",
       "    </tr>\n",
       "    <tr>\n",
       "      <th>51</th>\n",
       "      <td>2017-09-06 08:00:00</td>\n",
       "      <td>299.085586</td>\n",
       "      <td>299.978819</td>\n",
       "      <td>299.920452</td>\n",
       "      <td>297.037559</td>\n",
       "      <td>300.0</td>\n",
       "      <td>300.0</td>\n",
       "      <td>296.227219</td>\n",
       "      <td>537.674545</td>\n",
       "      <td>502.476467</td>\n",
       "      <td>...</td>\n",
       "      <td>(9.198, 12.191]</td>\n",
       "      <td>13.058126</td>\n",
       "      <td>11.918354</td>\n",
       "      <td>7.15046</td>\n",
       "      <td>0.0</td>\n",
       "      <td>NaN</td>\n",
       "      <td>3.356127</td>\n",
       "      <td>93407d58-a52b-403d-8e9e-04b3eb0e7a6c</td>\n",
       "      <td>True</td>\n",
       "      <td>-1.139772</td>\n",
       "    </tr>\n",
       "    <tr>\n",
       "      <th>52</th>\n",
       "      <td>2017-09-06 11:00:00</td>\n",
       "      <td>299.959681</td>\n",
       "      <td>299.943106</td>\n",
       "      <td>299.901202</td>\n",
       "      <td>297.585588</td>\n",
       "      <td>300.0</td>\n",
       "      <td>300.0</td>\n",
       "      <td>NaN</td>\n",
       "      <td>475.780439</td>\n",
       "      <td>500.112334</td>\n",
       "      <td>...</td>\n",
       "      <td>(12.191, 15.166]</td>\n",
       "      <td>13.771592</td>\n",
       "      <td>12.008764</td>\n",
       "      <td>14.637061</td>\n",
       "      <td>0.0</td>\n",
       "      <td>NaN</td>\n",
       "      <td>3.392504</td>\n",
       "      <td>e7207272-8376-41c8-a22f-447c6c76f428</td>\n",
       "      <td>True</td>\n",
       "      <td>-1.762828</td>\n",
       "    </tr>\n",
       "  </tbody>\n",
       "</table>\n",
       "<p>5 rows × 46 columns</p>\n",
       "</div>"
      ],
      "text/plain": [
       "               timestamp  air_flow01  air_flow02  air_flow03  air_flow04  \\\n",
       "type             initial     initial     initial     initial     initial   \n",
       "48   2017-09-05 23:00:00  299.931919  299.949778  299.903115  298.778222   \n",
       "49   2017-09-06 02:00:00  299.930813  299.807355  299.954561    295.9415   \n",
       "50   2017-09-06 05:00:00  299.675317  299.443365  299.887433  296.489529   \n",
       "51   2017-09-06 08:00:00  299.085586  299.978819  299.920452  297.037559   \n",
       "52   2017-09-06 11:00:00  299.959681  299.943106  299.901202  297.585588   \n",
       "\n",
       "      air_flow05  air_flow06  air_flow07  amina_flow              ...  \\\n",
       "type     initial     initial     initial     initial   optimized  ...   \n",
       "48    299.975283  299.496293  299.793731  630.368125  544.972644  ...   \n",
       "49         300.0  299.695972  299.812304   526.85064  506.006817  ...   \n",
       "50         300.0   299.86097  299.507028  571.589206  503.683974  ...   \n",
       "51         300.0       300.0  296.227219  537.674545  502.476467  ...   \n",
       "52         300.0       300.0         NaN  475.780439  500.112334  ...   \n",
       "\n",
       "     silica_conc_cluster  objective            starch_and_amina_flow_penalty  \\\n",
       "type             initial    initial  optimized                       initial   \n",
       "48      (12.191, 15.166]  12.808896   10.57103                           0.0   \n",
       "49      (12.191, 15.166]  14.658809  10.625636                           0.0   \n",
       "50       (9.198, 12.191]  12.856431  11.071956                      0.311756   \n",
       "51       (9.198, 12.191]  13.058126  11.918354                       7.15046   \n",
       "52      (12.191, 15.166]  13.771592  12.008764                     14.637061   \n",
       "\n",
       "               starch_and_amina_flow_slack             \\\n",
       "type optimized                     initial  optimized   \n",
       "48         0.0                  195.054585  10.930091   \n",
       "49         0.0                   46.703399   5.294093   \n",
       "50         0.0                         NaN   4.673848   \n",
       "51         0.0                         NaN   3.356127   \n",
       "52         0.0                         NaN   3.392504   \n",
       "\n",
       "                                    run_id is_successful_optimization  \\\n",
       "type                                                                    \n",
       "48    881e98b3-41e6-4b82-815a-d99435ea632b                       True   \n",
       "49    836baf92-3093-430a-b4c4-480599dfde9a                       True   \n",
       "50    0a60ecf8-1071-4384-b31c-680961f20dd0                       True   \n",
       "51    93407d58-a52b-403d-8e9e-04b3eb0e7a6c                       True   \n",
       "52    e7207272-8376-41c8-a22f-447c6c76f428                       True   \n",
       "\n",
       "        uplift  \n",
       "type            \n",
       "48   -2.237866  \n",
       "49   -4.033173  \n",
       "50   -1.784475  \n",
       "51   -1.139772  \n",
       "52   -1.762828  \n",
       "\n",
       "[5 rows x 46 columns]"
      ]
     },
     "execution_count": 3,
     "metadata": {},
     "output_type": "execute_result"
    }
   ],
   "source": [
    "from recommend import datasets\n",
    "\n",
    "solutions = datasets.get_sample_solutions()\n",
    "solutions.to_frame().head()"
   ]
  },
  {
   "cell_type": "markdown",
   "id": "d1ea61c7",
   "metadata": {},
   "source": [
    "<div class=\"alert alert-info\">\n",
    "<b>Note</b>\n",
    "    \n",
    "Each row of our solution export has unique `run_id` value. It will act as a unique ID for each optimization loaded into the CRA backend database.\n",
    "</div>"
   ]
  },
  {
   "cell_type": "markdown",
   "id": "2276dfc4",
   "metadata": {},
   "source": [
    "We'll also need information regarding optimization controlled parameters."
   ]
  },
  {
   "cell_type": "code",
   "execution_count": 4,
   "id": "5cd35f51",
   "metadata": {},
   "outputs": [
    {
     "data": {
      "text/plain": [
       "ControlledParametersConfig(\n",
       "    keys={\n",
       "        'amina_flow', 'ore_pulp_density', 'ore_pulp_flow', 'ore_pulp_ph',\n",
       "        'starch_flow', 'total_air_flow', 'total_column_level',\n",
       "    },\n",
       "    values=(...),\n",
       ")"
      ]
     },
     "execution_count": 4,
     "metadata": {},
     "output_type": "execute_result"
    }
   ],
   "source": [
    "controlled_parameters = datasets.get_sample_controlled_parameters_config()\n",
    "controlled_parameters"
   ]
  },
  {
   "cell_type": "markdown",
   "id": "55930c4a-c837-4a85-b1fc-b404bed65831",
   "metadata": {},
   "source": [
    "Tag meta is used to be sent directly to the CRA and to assist in the creation of other endpoint contents. In particular, each tag is associated with a unique id that represents it."
   ]
  },
  {
   "cell_type": "code",
   "execution_count": 5,
   "id": "ce74e044",
   "metadata": {},
   "outputs": [
    {
     "data": {
      "text/plain": [
       "MetaDataConfig(...)"
      ]
     },
     "execution_count": 5,
     "metadata": {},
     "output_type": "execute_result"
    }
   ],
   "source": [
    "tags_meta = datasets.get_sample_tags_meta()\n",
    "tags_meta"
   ]
  },
  {
   "cell_type": "markdown",
   "id": "5e223757-ef99-4c52-8bd8-e2bac5bd5f6f",
   "metadata": {},
   "source": [
    "Target meta has a similar structure and use than the tag meta."
   ]
  },
  {
   "cell_type": "code",
   "execution_count": 6,
   "id": "d0022cb8-9690-4d2e-994a-8a228e389a46",
   "metadata": {},
   "outputs": [
    {
     "data": {
      "text/plain": [
       "MetaDataConfig(...)"
      ]
     },
     "execution_count": 6,
     "metadata": {},
     "output_type": "execute_result"
    }
   ],
   "source": [
    "target_meta = datasets.get_sample_targets_meta()\n",
    "target_meta"
   ]
  },
  {
   "cell_type": "markdown",
   "id": "b929c589-ff9f-4eef-91f9-37b55004729d",
   "metadata": {},
   "source": [
    "Plant status meta contains information regarding the tags whose value will be used to assist with the implementation of the recommendations."
   ]
  },
  {
   "cell_type": "code",
   "execution_count": 7,
   "id": "aece6c06-dbba-424b-a58c-98143dc134f0",
   "metadata": {},
   "outputs": [
    {
     "data": {
      "text/plain": [
       "MetaDataConfig(...)"
      ]
     },
     "execution_count": 7,
     "metadata": {},
     "output_type": "execute_result"
    }
   ],
   "source": [
    "plant_status = datasets.get_sample_plant_info()\n",
    "plant_status"
   ]
  },
  {
   "cell_type": "markdown",
   "id": "513af6fe-33fb-48d3-aed5-0820fc66d49c",
   "metadata": {},
   "source": [
    "We will also use the actual values of the tags (including the target)."
   ]
  },
  {
   "cell_type": "code",
   "execution_count": 8,
   "id": "a0459488-4dac-4c14-9c83-b6ed4efb8457",
   "metadata": {},
   "outputs": [
    {
     "data": {
      "text/html": [
       "<div>\n",
       "<style scoped>\n",
       "    .dataframe tbody tr th:only-of-type {\n",
       "        vertical-align: middle;\n",
       "    }\n",
       "\n",
       "    .dataframe tbody tr th {\n",
       "        vertical-align: top;\n",
       "    }\n",
       "\n",
       "    .dataframe thead th {\n",
       "        text-align: right;\n",
       "    }\n",
       "</style>\n",
       "<table border=\"1\" class=\"dataframe\">\n",
       "  <thead>\n",
       "    <tr style=\"text-align: right;\">\n",
       "      <th></th>\n",
       "      <th>timestamp</th>\n",
       "      <th>air_flow01</th>\n",
       "      <th>air_flow02</th>\n",
       "      <th>air_flow03</th>\n",
       "      <th>air_flow04</th>\n",
       "      <th>air_flow05</th>\n",
       "      <th>air_flow06</th>\n",
       "      <th>air_flow07</th>\n",
       "      <th>amina_flow</th>\n",
       "      <th>column_level01</th>\n",
       "      <th>...</th>\n",
       "      <th>ore_pulp_ph</th>\n",
       "      <th>silica_conc</th>\n",
       "      <th>silica_feed</th>\n",
       "      <th>starch_flow</th>\n",
       "      <th>iron_minus_silica</th>\n",
       "      <th>feed_diff_divide_silica</th>\n",
       "      <th>total_column_level</th>\n",
       "      <th>total_air_flow</th>\n",
       "      <th>silica_conc_lagged</th>\n",
       "      <th>silica_conc_cluster</th>\n",
       "    </tr>\n",
       "  </thead>\n",
       "  <tbody>\n",
       "    <tr>\n",
       "      <th>0</th>\n",
       "      <td>2017-09-05 23:00:00</td>\n",
       "      <td>299.931919</td>\n",
       "      <td>299.949778</td>\n",
       "      <td>299.903115</td>\n",
       "      <td>298.778222</td>\n",
       "      <td>299.975283</td>\n",
       "      <td>299.496293</td>\n",
       "      <td>NaN</td>\n",
       "      <td>630.368125</td>\n",
       "      <td>NaN</td>\n",
       "      <td>...</td>\n",
       "      <td>NaN</td>\n",
       "      <td>11.713022</td>\n",
       "      <td>12.460000</td>\n",
       "      <td>3564.686460</td>\n",
       "      <td>43.633333</td>\n",
       "      <td>3.501873</td>\n",
       "      <td>2638.478359</td>\n",
       "      <td>2097.828341</td>\n",
       "      <td>3.573442</td>\n",
       "      <td>(12.191, 15.166]</td>\n",
       "    </tr>\n",
       "    <tr>\n",
       "      <th>1</th>\n",
       "      <td>2017-09-06 02:00:00</td>\n",
       "      <td>299.930813</td>\n",
       "      <td>NaN</td>\n",
       "      <td>299.954561</td>\n",
       "      <td>295.941500</td>\n",
       "      <td>300.000000</td>\n",
       "      <td>299.695972</td>\n",
       "      <td>299.812304</td>\n",
       "      <td>526.850640</td>\n",
       "      <td>400.034609</td>\n",
       "      <td>...</td>\n",
       "      <td>9.236773</td>\n",
       "      <td>10.097470</td>\n",
       "      <td>12.820000</td>\n",
       "      <td>3519.852759</td>\n",
       "      <td>43.060000</td>\n",
       "      <td>3.358814</td>\n",
       "      <td>2625.791469</td>\n",
       "      <td>2095.142504</td>\n",
       "      <td>3.397922</td>\n",
       "      <td>(12.191, 15.166]</td>\n",
       "    </tr>\n",
       "    <tr>\n",
       "      <th>2</th>\n",
       "      <td>2017-09-06 05:00:00</td>\n",
       "      <td>299.675317</td>\n",
       "      <td>299.443365</td>\n",
       "      <td>299.887433</td>\n",
       "      <td>296.489529</td>\n",
       "      <td>300.000000</td>\n",
       "      <td>299.860970</td>\n",
       "      <td>NaN</td>\n",
       "      <td>571.589206</td>\n",
       "      <td>399.210107</td>\n",
       "      <td>...</td>\n",
       "      <td>9.571580</td>\n",
       "      <td>11.359659</td>\n",
       "      <td>18.546667</td>\n",
       "      <td>3403.470278</td>\n",
       "      <td>33.706667</td>\n",
       "      <td>1.817398</td>\n",
       "      <td>2605.075156</td>\n",
       "      <td>2094.863642</td>\n",
       "      <td>3.330000</td>\n",
       "      <td>(9.198, 12.191]</td>\n",
       "    </tr>\n",
       "    <tr>\n",
       "      <th>3</th>\n",
       "      <td>2017-09-06 08:00:00</td>\n",
       "      <td>299.085586</td>\n",
       "      <td>299.978819</td>\n",
       "      <td>299.920452</td>\n",
       "      <td>NaN</td>\n",
       "      <td>300.000000</td>\n",
       "      <td>300.000000</td>\n",
       "      <td>296.227219</td>\n",
       "      <td>537.674545</td>\n",
       "      <td>422.467241</td>\n",
       "      <td>...</td>\n",
       "      <td>9.518191</td>\n",
       "      <td>11.825831</td>\n",
       "      <td>30.000000</td>\n",
       "      <td>2890.288616</td>\n",
       "      <td>15.000000</td>\n",
       "      <td>0.500000</td>\n",
       "      <td>2926.710550</td>\n",
       "      <td>2092.249634</td>\n",
       "      <td>3.166667</td>\n",
       "      <td>(9.198, 12.191]</td>\n",
       "    </tr>\n",
       "    <tr>\n",
       "      <th>4</th>\n",
       "      <td>2017-09-06 11:00:00</td>\n",
       "      <td>299.959681</td>\n",
       "      <td>299.943106</td>\n",
       "      <td>299.901202</td>\n",
       "      <td>297.585588</td>\n",
       "      <td>300.000000</td>\n",
       "      <td>300.000000</td>\n",
       "      <td>300.000000</td>\n",
       "      <td>475.780439</td>\n",
       "      <td>400.564206</td>\n",
       "      <td>...</td>\n",
       "      <td>9.514627</td>\n",
       "      <td>11.802973</td>\n",
       "      <td>30.000000</td>\n",
       "      <td>2353.254688</td>\n",
       "      <td>15.000000</td>\n",
       "      <td>0.500000</td>\n",
       "      <td>2799.414237</td>\n",
       "      <td>2097.389577</td>\n",
       "      <td>1.763333</td>\n",
       "      <td>(12.191, 15.166]</td>\n",
       "    </tr>\n",
       "  </tbody>\n",
       "</table>\n",
       "<p>5 rows × 30 columns</p>\n",
       "</div>"
      ],
      "text/plain": [
       "            timestamp  air_flow01  air_flow02  air_flow03  air_flow04  \\\n",
       "0 2017-09-05 23:00:00  299.931919  299.949778  299.903115  298.778222   \n",
       "1 2017-09-06 02:00:00  299.930813         NaN  299.954561  295.941500   \n",
       "2 2017-09-06 05:00:00  299.675317  299.443365  299.887433  296.489529   \n",
       "3 2017-09-06 08:00:00  299.085586  299.978819  299.920452         NaN   \n",
       "4 2017-09-06 11:00:00  299.959681  299.943106  299.901202  297.585588   \n",
       "\n",
       "   air_flow05  air_flow06  air_flow07  amina_flow  column_level01  ...  \\\n",
       "0  299.975283  299.496293         NaN  630.368125             NaN  ...   \n",
       "1  300.000000  299.695972  299.812304  526.850640      400.034609  ...   \n",
       "2  300.000000  299.860970         NaN  571.589206      399.210107  ...   \n",
       "3  300.000000  300.000000  296.227219  537.674545      422.467241  ...   \n",
       "4  300.000000  300.000000  300.000000  475.780439      400.564206  ...   \n",
       "\n",
       "   ore_pulp_ph  silica_conc  silica_feed  starch_flow  iron_minus_silica  \\\n",
       "0          NaN    11.713022    12.460000  3564.686460          43.633333   \n",
       "1     9.236773    10.097470    12.820000  3519.852759          43.060000   \n",
       "2     9.571580    11.359659    18.546667  3403.470278          33.706667   \n",
       "3     9.518191    11.825831    30.000000  2890.288616          15.000000   \n",
       "4     9.514627    11.802973    30.000000  2353.254688          15.000000   \n",
       "\n",
       "   feed_diff_divide_silica  total_column_level  total_air_flow  \\\n",
       "0                 3.501873         2638.478359     2097.828341   \n",
       "1                 3.358814         2625.791469     2095.142504   \n",
       "2                 1.817398         2605.075156     2094.863642   \n",
       "3                 0.500000         2926.710550     2092.249634   \n",
       "4                 0.500000         2799.414237     2097.389577   \n",
       "\n",
       "   silica_conc_lagged  silica_conc_cluster  \n",
       "0            3.573442     (12.191, 15.166]  \n",
       "1            3.397922     (12.191, 15.166]  \n",
       "2            3.330000      (9.198, 12.191]  \n",
       "3            3.166667      (9.198, 12.191]  \n",
       "4            1.763333     (12.191, 15.166]  \n",
       "\n",
       "[5 rows x 30 columns]"
      ]
     },
     "execution_count": 8,
     "metadata": {},
     "output_type": "execute_result"
    }
   ],
   "source": [
    "actual_values = datasets.get_sample_actual_values_after_recs()\n",
    "actual_values.head()"
   ]
  },
  {
   "cell_type": "markdown",
   "id": "4632c713-fd35-404f-8fa2-b047c3cfe451",
   "metadata": {},
   "source": [
    "We need the baseline predictions, which are the predictions of the target value if no recommendations had been made."
   ]
  },
  {
   "cell_type": "code",
   "execution_count": 9,
   "id": "0b67fb4a-e09e-4221-8adc-1b9b9b693e92",
   "metadata": {},
   "outputs": [
    {
     "data": {
      "text/html": [
       "<div>\n",
       "<style scoped>\n",
       "    .dataframe tbody tr th:only-of-type {\n",
       "        vertical-align: middle;\n",
       "    }\n",
       "\n",
       "    .dataframe tbody tr th {\n",
       "        vertical-align: top;\n",
       "    }\n",
       "\n",
       "    .dataframe thead th {\n",
       "        text-align: right;\n",
       "    }\n",
       "</style>\n",
       "<table border=\"1\" class=\"dataframe\">\n",
       "  <thead>\n",
       "    <tr style=\"text-align: right;\">\n",
       "      <th></th>\n",
       "      <th>timestamp</th>\n",
       "      <th>baseline</th>\n",
       "    </tr>\n",
       "  </thead>\n",
       "  <tbody>\n",
       "    <tr>\n",
       "      <th>0</th>\n",
       "      <td>2017-09-05 23:00:00</td>\n",
       "      <td>12.070672</td>\n",
       "    </tr>\n",
       "    <tr>\n",
       "      <th>1</th>\n",
       "      <td>2017-09-06 02:00:00</td>\n",
       "      <td>12.152153</td>\n",
       "    </tr>\n",
       "    <tr>\n",
       "      <th>2</th>\n",
       "      <td>2017-09-06 05:00:00</td>\n",
       "      <td>12.964687</td>\n",
       "    </tr>\n",
       "    <tr>\n",
       "      <th>3</th>\n",
       "      <td>2017-09-06 08:00:00</td>\n",
       "      <td>13.528027</td>\n",
       "    </tr>\n",
       "    <tr>\n",
       "      <th>4</th>\n",
       "      <td>2017-09-06 11:00:00</td>\n",
       "      <td>13.528027</td>\n",
       "    </tr>\n",
       "  </tbody>\n",
       "</table>\n",
       "</div>"
      ],
      "text/plain": [
       "            timestamp   baseline\n",
       "0 2017-09-05 23:00:00  12.070672\n",
       "1 2017-09-06 02:00:00  12.152153\n",
       "2 2017-09-06 05:00:00  12.964687\n",
       "3 2017-09-06 08:00:00  13.528027\n",
       "4 2017-09-06 11:00:00  13.528027"
      ]
     },
     "execution_count": 9,
     "metadata": {},
     "output_type": "execute_result"
    }
   ],
   "source": [
    "import pandas as pd\n",
    "\n",
    "baseline_model = datasets.get_baseline_trained_model()\n",
    "baseline_predictions = pd.DataFrame({\n",
    "    \"timestamp\": actual_values[\"timestamp\"],\n",
    "    \"baseline\": baseline_model.predict(actual_values)\n",
    "})\n",
    "baseline_predictions.head()"
   ]
  },
  {
   "cell_type": "markdown",
   "id": "685f380b-892a-4b22-9ef0-611d5fd88622",
   "metadata": {},
   "source": [
    "We also provide the target estimation after the optimization process. \n",
    "\n",
    "<div class=\"alert alert-warning\">\n",
    "<b>Warning</b>\n",
    " \n",
    "This notebook is purely for documentation purposes. You should <i>not</i> calculate this values as it is shown here and instead follow the instructions on the [uplift calculation tutorial notebook](uplift_calculation.ipynb).\n",
    "    \n",
    "</div>"
   ]
  },
  {
   "cell_type": "code",
   "execution_count": 10,
   "id": "ad06aba6-a5d6-4515-8bb8-58a9e0ff8346",
   "metadata": {},
   "outputs": [
    {
     "data": {
      "text/html": [
       "<div>\n",
       "<style scoped>\n",
       "    .dataframe tbody tr th:only-of-type {\n",
       "        vertical-align: middle;\n",
       "    }\n",
       "\n",
       "    .dataframe tbody tr th {\n",
       "        vertical-align: top;\n",
       "    }\n",
       "\n",
       "    .dataframe thead th {\n",
       "        text-align: right;\n",
       "    }\n",
       "</style>\n",
       "<table border=\"1\" class=\"dataframe\">\n",
       "  <thead>\n",
       "    <tr style=\"text-align: right;\">\n",
       "      <th></th>\n",
       "      <th>timestamp</th>\n",
       "      <th>optimized</th>\n",
       "    </tr>\n",
       "  </thead>\n",
       "  <tbody>\n",
       "    <tr>\n",
       "      <th>48</th>\n",
       "      <td>2017-09-05 23:00:00</td>\n",
       "      <td>10.57103</td>\n",
       "    </tr>\n",
       "    <tr>\n",
       "      <th>49</th>\n",
       "      <td>2017-09-06 02:00:00</td>\n",
       "      <td>10.625636</td>\n",
       "    </tr>\n",
       "    <tr>\n",
       "      <th>50</th>\n",
       "      <td>2017-09-06 05:00:00</td>\n",
       "      <td>11.071956</td>\n",
       "    </tr>\n",
       "    <tr>\n",
       "      <th>51</th>\n",
       "      <td>2017-09-06 08:00:00</td>\n",
       "      <td>11.918354</td>\n",
       "    </tr>\n",
       "    <tr>\n",
       "      <th>52</th>\n",
       "      <td>2017-09-06 11:00:00</td>\n",
       "      <td>12.008764</td>\n",
       "    </tr>\n",
       "  </tbody>\n",
       "</table>\n",
       "</div>"
      ],
      "text/plain": [
       "             timestamp  optimized\n",
       "48 2017-09-05 23:00:00   10.57103\n",
       "49 2017-09-06 02:00:00  10.625636\n",
       "50 2017-09-06 05:00:00  11.071956\n",
       "51 2017-09-06 08:00:00  11.918354\n",
       "52 2017-09-06 11:00:00  12.008764"
      ]
     },
     "execution_count": 10,
     "metadata": {},
     "output_type": "execute_result"
    }
   ],
   "source": [
    "optimized_values = pd.DataFrame({\n",
    "    \"timestamp\": solutions.to_frame()[(\"timestamp\", \"initial\")],\n",
    "    \"optimized\": solutions.to_frame()[('objective', 'optimized')],\n",
    "})\n",
    "optimized_values.head()"
   ]
  },
  {
   "cell_type": "markdown",
   "id": "1115eff2-ef4a-432d-b0b0-fc52664b499b",
   "metadata": {},
   "source": [
    "In addition to the model predictions, the model performance is also recorded.\n",
    "\n",
    "<div class=\"alert alert-info\">\n",
    "<b>Note</b>\n",
    " \n",
    "This notebook creates a dummy datasets to showcase the export functionalities with the expected structure. This dataframe can be obtained using the OAI `modeling` package.\n",
    "    \n",
    "</div>"
   ]
  },
  {
   "cell_type": "code",
   "execution_count": 11,
   "id": "8bb04e4e-b93d-40a4-8d5a-10ab1cf31c6c",
   "metadata": {},
   "outputs": [
    {
     "data": {
      "text/html": [
       "<div>\n",
       "<style scoped>\n",
       "    .dataframe tbody tr th:only-of-type {\n",
       "        vertical-align: middle;\n",
       "    }\n",
       "\n",
       "    .dataframe tbody tr th {\n",
       "        vertical-align: top;\n",
       "    }\n",
       "\n",
       "    .dataframe thead th {\n",
       "        text-align: right;\n",
       "    }\n",
       "</style>\n",
       "<table border=\"1\" class=\"dataframe\">\n",
       "  <thead>\n",
       "    <tr style=\"text-align: right;\">\n",
       "      <th></th>\n",
       "      <th>timestamp</th>\n",
       "      <th>actuals</th>\n",
       "      <th>predictions</th>\n",
       "      <th>upper_bound</th>\n",
       "      <th>lower_bound</th>\n",
       "    </tr>\n",
       "  </thead>\n",
       "  <tbody>\n",
       "    <tr>\n",
       "      <th>0</th>\n",
       "      <td>2017-09-05 23:00:00</td>\n",
       "      <td>11.713022</td>\n",
       "      <td>12.808896</td>\n",
       "      <td>13.008896</td>\n",
       "      <td>12.608896</td>\n",
       "    </tr>\n",
       "    <tr>\n",
       "      <th>1</th>\n",
       "      <td>2017-09-06 02:00:00</td>\n",
       "      <td>10.097470</td>\n",
       "      <td>14.696146</td>\n",
       "      <td>14.896146</td>\n",
       "      <td>14.496146</td>\n",
       "    </tr>\n",
       "    <tr>\n",
       "      <th>2</th>\n",
       "      <td>2017-09-06 05:00:00</td>\n",
       "      <td>11.359659</td>\n",
       "      <td>12.856431</td>\n",
       "      <td>13.056431</td>\n",
       "      <td>12.656431</td>\n",
       "    </tr>\n",
       "    <tr>\n",
       "      <th>3</th>\n",
       "      <td>2017-09-06 08:00:00</td>\n",
       "      <td>11.825831</td>\n",
       "      <td>13.058126</td>\n",
       "      <td>13.258126</td>\n",
       "      <td>12.858126</td>\n",
       "    </tr>\n",
       "    <tr>\n",
       "      <th>4</th>\n",
       "      <td>2017-09-06 11:00:00</td>\n",
       "      <td>11.802973</td>\n",
       "      <td>13.842484</td>\n",
       "      <td>14.042484</td>\n",
       "      <td>13.642484</td>\n",
       "    </tr>\n",
       "  </tbody>\n",
       "</table>\n",
       "</div>"
      ],
      "text/plain": [
       "            timestamp    actuals  predictions  upper_bound  lower_bound\n",
       "0 2017-09-05 23:00:00  11.713022    12.808896    13.008896    12.608896\n",
       "1 2017-09-06 02:00:00  10.097470    14.696146    14.896146    14.496146\n",
       "2 2017-09-06 05:00:00  11.359659    12.856431    13.056431    12.656431\n",
       "3 2017-09-06 08:00:00  11.825831    13.058126    13.258126    12.858126\n",
       "4 2017-09-06 11:00:00  11.802973    13.842484    14.042484    13.642484"
      ]
     },
     "execution_count": 11,
     "metadata": {},
     "output_type": "execute_result"
    }
   ],
   "source": [
    "model = datasets.get_trained_model()\n",
    "model_predictions = model.predict(actual_values)\n",
    "model_prediction_bounds = pd.DataFrame({\n",
    "    \"timestamp\": actual_values[\"timestamp\"],\n",
    "    \"actuals\": actual_values[\"silica_conc\"],\n",
    "    \"predictions\": model_predictions,\n",
    "    \"upper_bound\": model_predictions + 0.2,\n",
    "    \"lower_bound\": model_predictions - 0.2,\n",
    "})\n",
    "model_prediction_bounds.head()"
   ]
  },
  {
   "cell_type": "markdown",
   "id": "758d8cf4-e19e-453a-a1e1-5515c468a6e6",
   "metadata": {},
   "source": [
    "Finally, the implementation status is also used.\n",
    "\n",
    "<div class=\"alert alert-info\">\n",
    "<b>Note</b>\n",
    " \n",
    "This notebook creates a dummy datasets to showcase the export functionalities. You should  follow the instructions on the [implementation tracking tutorial notebook](implementation_tracking.ipynb) to obtain the implementation status.\n",
    "    \n",
    "</div>"
   ]
  },
  {
   "cell_type": "code",
   "execution_count": 12,
   "id": "648e9156-e180-47d6-ba96-c61fb108cf54",
   "metadata": {},
   "outputs": [
    {
     "data": {
      "text/html": [
       "<div>\n",
       "<style scoped>\n",
       "    .dataframe tbody tr th:only-of-type {\n",
       "        vertical-align: middle;\n",
       "    }\n",
       "\n",
       "    .dataframe tbody tr th {\n",
       "        vertical-align: top;\n",
       "    }\n",
       "\n",
       "    .dataframe thead th {\n",
       "        text-align: right;\n",
       "    }\n",
       "</style>\n",
       "<table border=\"1\" class=\"dataframe\">\n",
       "  <thead>\n",
       "    <tr style=\"text-align: right;\">\n",
       "      <th></th>\n",
       "      <th>id</th>\n",
       "      <th>tag_id</th>\n",
       "      <th>run_id</th>\n",
       "      <th>implementation_perc</th>\n",
       "    </tr>\n",
       "  </thead>\n",
       "  <tbody>\n",
       "    <tr>\n",
       "      <th>0</th>\n",
       "      <td>71a2729e-9275-4b09-a2ec-e3158d59c1b5</td>\n",
       "      <td>starch_flow</td>\n",
       "      <td>3324b355-4f73-449a-b261-35c84a6ea414</td>\n",
       "      <td>0.75</td>\n",
       "    </tr>\n",
       "    <tr>\n",
       "      <th>1</th>\n",
       "      <td>ac78f56f-56b8-49a0-bbec-5eefe824d1d4</td>\n",
       "      <td>amina_flow</td>\n",
       "      <td>3324b355-4f73-449a-b261-35c84a6ea414</td>\n",
       "      <td>0.25</td>\n",
       "    </tr>\n",
       "  </tbody>\n",
       "</table>\n",
       "</div>"
      ],
      "text/plain": [
       "                                     id       tag_id  \\\n",
       "0  71a2729e-9275-4b09-a2ec-e3158d59c1b5  starch_flow   \n",
       "1  ac78f56f-56b8-49a0-bbec-5eefe824d1d4   amina_flow   \n",
       "\n",
       "                                 run_id  implementation_perc  \n",
       "0  3324b355-4f73-449a-b261-35c84a6ea414                 0.75  \n",
       "1  3324b355-4f73-449a-b261-35c84a6ea414                 0.25  "
      ]
     },
     "execution_count": 12,
     "metadata": {},
     "output_type": "execute_result"
    }
   ],
   "source": [
    "implementation_status = pd.DataFrame(\n",
    "    [\n",
    "        [\"71a2729e-9275-4b09-a2ec-e3158d59c1b5\", \"starch_flow\", \"3324b355-4f73-449a-b261-35c84a6ea414\", 0.75],\n",
    "        [\"ac78f56f-56b8-49a0-bbec-5eefe824d1d4\", \"amina_flow\", \"3324b355-4f73-449a-b261-35c84a6ea414\", 0.25],\n",
    "    ],\n",
    "    columns=[\"id\", \"tag_id\", \"run_id\", \"implementation_perc\"]\n",
    ")\n",
    "implementation_status.head()"
   ]
  },
  {
   "cell_type": "markdown",
   "id": "627e3873-2181-4e40-921e-2221b3cc6639",
   "metadata": {},
   "source": [
    "In addition to the datasets, we define the name of the timestamp column and the timestamp format. This will be used on all the export functions that include a timestamp."
   ]
  },
  {
   "cell_type": "code",
   "execution_count": 13,
   "id": "c043b27b-b684-446b-bef4-4a96e52c94fa",
   "metadata": {},
   "outputs": [],
   "source": [
    "iso_format = \"%Y-%m-%dT%H:%M:%SZ\"\n",
    "timestamp_column = \"timestamp\""
   ]
  },
  {
   "cell_type": "markdown",
   "id": "7cc1fd75",
   "metadata": {},
   "source": [
    "## Prepare results\n",
    "\n",
    "The CRA needs several pieces of information to display results. Each function below provides the body for a `POST` request to a CRA endpoint."
   ]
  },
  {
   "cell_type": "code",
   "execution_count": 14,
   "id": "16a738ed",
   "metadata": {},
   "outputs": [],
   "source": [
    "from recommend import cra_export"
   ]
  },
  {
   "cell_type": "markdown",
   "id": "c425727b-da30-43ba-b0a0-3c58629b5621",
   "metadata": {},
   "source": [
    "### General information"
   ]
  },
  {
   "cell_type": "markdown",
   "id": "bd815634-5912-4596-b2e6-1c79931a47c9",
   "metadata": {},
   "source": [
    "#### ``prepare_runs``"
   ]
  },
  {
   "cell_type": "markdown",
   "id": "184ee227-9ad6-4b5e-8999-70427df64a82",
   "metadata": {},
   "source": [
    "We format the run ids to be JSON compatible and append the timestamp of the recommendation. If the optimization has not been successfully, an error message is sent and no more outputs are required by the CRA.\n",
    "\n",
    "Error message logic can be configured based on the use case and client requirements."
   ]
  },
  {
   "cell_type": "code",
   "execution_count": 15,
   "id": "4638786b-8418-4b77-bd2b-a0eb2796b174",
   "metadata": {},
   "outputs": [
    {
     "data": {
      "text/plain": [
       "{'id': '881e98b3-41e6-4b82-815a-d99435ea632b',\n",
       " 'timestamp': '2017-09-05T23:00:00Z'}"
      ]
     },
     "execution_count": 15,
     "metadata": {},
     "output_type": "execute_result"
    }
   ],
   "source": [
    "cra_export.prepare_runs(\n",
    "    solutions=solutions,\n",
    "    iso_format=iso_format,\n",
    "    timestamp_column=timestamp_column,\n",
    ")[0]"
   ]
  },
  {
   "cell_type": "markdown",
   "id": "a6757b12-599c-4c7c-8388-806040b4b0d1",
   "metadata": {},
   "source": [
    "#### `prepare_tags`"
   ]
  },
  {
   "cell_type": "markdown",
   "id": "653d01d8-5b4d-4b2f-ac09-cd281e7d38a3",
   "metadata": {},
   "source": [
    "Next we compile information about the tags that will be sent to the CRA. It includes things like units and a formatted name for the UI. We'll use preloaded metadata config. This information only needs to be sent once at the beginning and if there are any changes on the tags."
   ]
  },
  {
   "cell_type": "code",
   "execution_count": 16,
   "id": "ca33dcdb-c4f3-4630-9db0-8f7e9c3c7b2e",
   "metadata": {},
   "outputs": [
    {
     "data": {
      "text/plain": [
       "{'id': 'ec60d156-eb79-41b0-a907-ccedf677da9a',\n",
       " 'clear_name': 'Starch Flow',\n",
       " 'unit': 'cc/min',\n",
       " 'area': None,\n",
       " 'precision': 2,\n",
       " 'priority': 0}"
      ]
     },
     "execution_count": 16,
     "metadata": {},
     "output_type": "execute_result"
    }
   ],
   "source": [
    "cra_export.prepare_tags(\n",
    "    tag_meta=tags_meta,\n",
    "    plant_status=plant_status,\n",
    ")[0]"
   ]
  },
  {
   "cell_type": "markdown",
   "id": "178096ac-f349-4ae1-9217-e41e6d0eb4fc",
   "metadata": {},
   "source": [
    "#### `prepare_targets`"
   ]
  },
  {
   "cell_type": "markdown",
   "id": "1f3bb384-1d8f-4e5f-a2e1-b10628bdc7c7",
   "metadata": {},
   "source": [
    "We send similar information for the target values. Again, this information only needs to be sent once at the beginning and if there are any changes on the targets."
   ]
  },
  {
   "cell_type": "code",
   "execution_count": 17,
   "id": "04cc0191-8009-4d9a-8c23-033015af9909",
   "metadata": {},
   "outputs": [
    {
     "data": {
      "text/plain": [
       "{'id': '7d583622-e55e-49df-9978-6d2b4bcaa5c3',\n",
       " 'name': 'Silica concentration',\n",
       " 'unit': '%',\n",
       " 'aggregation': 'avg',\n",
       " 'objective': 'min',\n",
       " 'precision': 2}"
      ]
     },
     "execution_count": 17,
     "metadata": {},
     "output_type": "execute_result"
    }
   ],
   "source": [
    "cra_export.prepare_targets(target_meta=target_meta)[0]"
   ]
  },
  {
   "cell_type": "markdown",
   "id": "3d24d9d1-8371-474a-8321-37e3ef96b836",
   "metadata": {},
   "source": [
    "#### `prepare_plant_info`"
   ]
  },
  {
   "cell_type": "markdown",
   "id": "2241dc4e-aa98-4355-b888-216eb0b14eda",
   "metadata": {},
   "source": [
    "Here we provide information of the current status of the plant."
   ]
  },
  {
   "cell_type": "code",
   "execution_count": 18,
   "id": "3d7bd05b-cb59-4ffd-afca-b275ff29d354",
   "metadata": {},
   "outputs": [
    {
     "data": {
      "text/plain": [
       "{'id': '71b6a8c5-3cde-40c5-a8ea-c8074a0e31a5',\n",
       " 'run_id': '881e98b3-41e6-4b82-815a-d99435ea632b',\n",
       " 'tag_id': 'cf1f3202-3db8-46c5-babf-99981853911c',\n",
       " 'value': 63.73835844567815,\n",
       " 'column_name': '',\n",
       " 'section': 'states'}"
      ]
     },
     "execution_count": 18,
     "metadata": {},
     "output_type": "execute_result"
    }
   ],
   "source": [
    "cra_export.prepare_plant_info(\n",
    "    plant_info=plant_status,\n",
    "    solutions=solutions, \n",
    "    actual_data=actual_values,\n",
    "    iso_format=iso_format,\n",
    "    timestamp_column=timestamp_column,\n",
    ")[0]"
   ]
  },
  {
   "cell_type": "markdown",
   "id": "c4016562-349c-4966-97b0-583fea52dc2c",
   "metadata": {},
   "source": [
    "### Target value"
   ]
  },
  {
   "cell_type": "markdown",
   "id": "21326a5b-fb33-4b63-b905-e3039e153c7d",
   "metadata": {},
   "source": [
    "The functions in this section are prepared to run for only one target variable. If the use case has more than one target, each function should be run once for each target and all the results should be sent to the CRA."
   ]
  },
  {
   "cell_type": "markdown",
   "id": "f6cd3681",
   "metadata": {},
   "source": [
    "#### ``prepare_actuals``"
   ]
  },
  {
   "cell_type": "markdown",
   "id": "ce99e636-97ca-4c56-a727-de71903c7a86",
   "metadata": {},
   "source": [
    "We provide the actual value of the target. \n",
    "\n",
    "If this function is used, the target will be provided after the cleaning and aggregation steps that the Optimus pipelines provide. This eases the comparison with other values, such as the baseline or the optimized value. However, as it is cleaned and aggregated it will not represent the value that the sensors provide. If the latter is desired, data for this endpoint should be sent to the CRA without processing and using a smaller granularity. "
   ]
  },
  {
   "cell_type": "code",
   "execution_count": 19,
   "id": "37ab4d4c-66ad-4a52-a29c-d931c72da2a5",
   "metadata": {},
   "outputs": [
    {
     "data": {
      "text/plain": [
       "{'id': '0383142e-7de3-468a-8d19-6fca9a076f6d',\n",
       " 'target_id': '7d583622-e55e-49df-9978-6d2b4bcaa5c3',\n",
       " 'value': 11.713022335543368,\n",
       " 'timestamp': '2017-09-05T23:00:00Z'}"
      ]
     },
     "execution_count": 19,
     "metadata": {},
     "output_type": "execute_result"
    }
   ],
   "source": [
    "cra_export.prepare_actuals(\n",
    "    actual_values_data=actual_values,\n",
    "    actual_values_col=\"silica_conc\",\n",
    "    target_meta=target_meta,\n",
    "    iso_format=iso_format,\n",
    "    timestamp_column=timestamp_column,\n",
    ")[0]"
   ]
  },
  {
   "cell_type": "markdown",
   "id": "3f2b67b8-7ab6-4374-ae90-d3fe5b0b92de",
   "metadata": {},
   "source": [
    "#### ``prepare_predictions``"
   ]
  },
  {
   "cell_type": "markdown",
   "id": "51e47fe6-fe56-488f-ad89-ef9624dde56b",
   "metadata": {},
   "source": [
    "This endpoint provides information about the different values that the target can take apart from the actual value (which is already sent using the previous function):\n",
    "* Baseline: Target estimation if no recommendations had been provided.\n",
    "* Optimized: Target estimation after the optimization process.\n",
    "* Predicted: Model prediction of the target value."
   ]
  },
  {
   "cell_type": "code",
   "execution_count": 20,
   "id": "04ec677e",
   "metadata": {},
   "outputs": [
    {
     "data": {
      "text/plain": [
       "{'id': 'b9f7e23a-9d52-4730-ab56-37dc4a114a4b',\n",
       " 'run_id': '881e98b3-41e6-4b82-815a-d99435ea632b',\n",
       " 'target_id': '7d583622-e55e-49df-9978-6d2b4bcaa5c3',\n",
       " 'baseline': 12.07067230477338,\n",
       " 'optimized': 10.57103023798864,\n",
       " 'predicted': 12.808895931727255,\n",
       " 'upper_bound': 13.008895931727254,\n",
       " 'lower_bound': 12.608895931727256}"
      ]
     },
     "execution_count": 20,
     "metadata": {},
     "output_type": "execute_result"
    }
   ],
   "source": [
    "cra_export.prepare_predictions(\n",
    "    baseline_values=baseline_predictions,\n",
    "    optimized_values=optimized_values,\n",
    "    model_prediction_bounds=model_prediction_bounds,\n",
    "    solutions=solutions,\n",
    "    target_meta=target_meta,\n",
    "    target_name=\"silica_conc\",\n",
    "    cols_export={\n",
    "        \"baseline\": \"baseline\",\n",
    "        \"optimized\": \"optimized\",\n",
    "    },\n",
    "    iso_format=iso_format,\n",
    "    timestamp_column=timestamp_column,\n",
    ")[0]"
   ]
  },
  {
   "cell_type": "markdown",
   "id": "02d5292d-269e-44fc-b920-b04a2aeee58e",
   "metadata": {},
   "source": [
    "### Set points"
   ]
  },
  {
   "cell_type": "markdown",
   "id": "146225bf-8fee-467d-8df3-bf3b5150afa3",
   "metadata": {},
   "source": [
    "#### `prepare_recommendations`"
   ]
  },
  {
   "cell_type": "markdown",
   "id": "036ae296",
   "metadata": {},
   "source": [
    "Here we send the recommended value for the set points. To prepare each recommendation, there are several parameters that need to be considered: \n",
    "\n",
    "* A default status to display. `\"Pending\"` below refers to the fact that a recommendation is waiting to be approved.\n",
    "* A default setting on whether a recommendation should be flagged. Here it defaults to `False` for all recommendations, but a custom logic could be implemented based on each CST's needs.\n",
    "* The keyword `on_control_only=True` refers to displaying all controls vs. only those that are currently \"on\". Use whichever option makes sense for your use case."
   ]
  },
  {
   "cell_type": "code",
   "execution_count": 21,
   "id": "5bcd60a2",
   "metadata": {},
   "outputs": [
    {
     "data": {
      "text/plain": [
       "{'id': 'eca31177-cada-4768-8b41-3c23b077fa47',\n",
       " 'value': 3465.9574468925084,\n",
       " 'tolerance': 400.0,\n",
       " 'run_id': '881e98b3-41e6-4b82-815a-d99435ea632b',\n",
       " 'tag_id': 'ec60d156-eb79-41b0-a907-ccedf677da9a',\n",
       " 'target_id': '7d583622-e55e-49df-9978-6d2b4bcaa5c3',\n",
       " 'is_flagged': False,\n",
       " 'status': 'Pending'}"
      ]
     },
     "execution_count": 21,
     "metadata": {},
     "output_type": "execute_result"
    }
   ],
   "source": [
    "cra_export.prepare_recommendations(\n",
    "    solutions=solutions,\n",
    "    controlled_parameters_config=controlled_parameters,\n",
    "    tag_meta=tags_meta,\n",
    "    target_meta=target_meta,\n",
    "    target_name=\"silica_conc\",\n",
    "    default_status=\"Pending\",\n",
    "    default_flagged = False,\n",
    "    active_controls_only=True,\n",
    ")[0]"
   ]
  },
  {
   "cell_type": "markdown",
   "id": "6de92a59-b46e-4280-a5ce-ed5078a62b9a",
   "metadata": {},
   "source": [
    "#### `prepare_implementation_status`"
   ]
  },
  {
   "cell_type": "markdown",
   "id": "395e9104-b0c8-4d82-b2dc-6b1deaf7f904",
   "metadata": {},
   "source": [
    "Next, we can update a previously sent recommendation with its implementation status."
   ]
  },
  {
   "cell_type": "code",
   "execution_count": 22,
   "id": "1cf017ff-dd54-4c55-9e8c-9365da63e125",
   "metadata": {},
   "outputs": [
    {
     "data": {
      "text/plain": [
       "{'id': '71a2729e-9275-4b09-a2ec-e3158d59c1b5', 'implementation_status': 0.75}"
      ]
     },
     "execution_count": 22,
     "metadata": {},
     "output_type": "execute_result"
    }
   ],
   "source": [
    "cra_export.prepare_implementation_status(implementation_status=implementation_status)[0]"
   ]
  },
  {
   "cell_type": "markdown",
   "id": "6749e57f-3c07-4d16-895b-1a54dd307675",
   "metadata": {},
   "source": [
    "#### `prepare_states`"
   ]
  },
  {
   "cell_type": "markdown",
   "id": "c59aab22-c402-40c5-8b23-4bcb2fc47176",
   "metadata": {},
   "source": [
    "Finally, we send the values before optimization of the set points that are used in the recommendations."
   ]
  },
  {
   "cell_type": "code",
   "execution_count": 23,
   "id": "7d9928b2-00e5-48ed-bddc-8e4f0fc56c49",
   "metadata": {},
   "outputs": [
    {
     "data": {
      "text/plain": [
       "{'id': '376376c5-b270-4c20-90dc-6fd1d6ca53d2',\n",
       " 'value': 3564.6864600000004,\n",
       " 'run_id': '881e98b3-41e6-4b82-815a-d99435ea632b',\n",
       " 'tag_id': 'ec60d156-eb79-41b0-a907-ccedf677da9a'}"
      ]
     },
     "execution_count": 23,
     "metadata": {},
     "output_type": "execute_result"
    }
   ],
   "source": [
    "cra_export.prepare_states(\n",
    "    solutions=solutions,\n",
    "    tag_meta=tags_meta,\n",
    ")[0]"
   ]
  },
  {
   "cell_type": "markdown",
   "id": "df8df2a7-437b-4aba-bcb7-22785e08ff78",
   "metadata": {},
   "source": [
    "### UI update"
   ]
  },
  {
   "cell_type": "markdown",
   "id": "29911f05-8ff2-4062-88ac-ec73f80f6c06",
   "metadata": {},
   "source": [
    "#### `prepare_sse`"
   ]
  },
  {
   "cell_type": "markdown",
   "id": "f6e4d015-9dda-48af-82cd-d346f27e4061",
   "metadata": {},
   "source": [
    "Once all information regarding a new optimization run is sent to the CRA, the CRA update needs to be updated. To signal it, the following is sent:"
   ]
  },
  {
   "cell_type": "code",
   "execution_count": 24,
   "id": "c6f65e0b-19d3-45a5-9557-42c30c5d2e76",
   "metadata": {},
   "outputs": [
    {
     "data": {
      "text/plain": [
       "{'event': 'ui_update'}"
      ]
     },
     "execution_count": 24,
     "metadata": {},
     "output_type": "execute_result"
    }
   ],
   "source": [
    "cra_export.prepare_sse()"
   ]
  },
  {
   "cell_type": "markdown",
   "id": "90743d91",
   "metadata": {},
   "source": [
    "## Post results to API \n",
    "\n",
    "The final step is to post your results to the OptimusAI CRA. Use the `requests` library to send a `POST` request to the corresponding CRA endpoints.\n",
    "\n",
    "Something like the following will work:\n",
    "\n",
    "```python\n",
    "requests.request(\n",
    "    {\n",
    "        \"url\": <cra-endpoint-url>,\n",
    "        \"method\": \"POST\",\n",
    "        \"auth\": <auth-details>,\n",
    "        \"json\": json_compatible_data,\n",
    "    }\n",
    ")\n",
    "```\n",
    "\n",
    "The pipeline version of the export code handles this step and only the url endpoint is required."
   ]
  }
 ],
 "metadata": {
  "kernelspec": {
   "display_name": "Python 3 (ipykernel)",
   "language": "python",
   "name": "python3"
  },
  "language_info": {
   "codemirror_mode": {
    "name": "ipython",
    "version": 3
   },
   "file_extension": ".py",
   "mimetype": "text/x-python",
   "name": "python",
   "nbconvert_exporter": "python",
   "pygments_lexer": "ipython3",
   "version": "3.10.13"
  },
  "toc": {
   "base_numbering": 1,
   "nav_menu": {},
   "number_sections": true,
   "sideBar": true,
   "skip_h1_title": false,
   "title_cell": "Table of Contents",
   "title_sidebar": "Contents",
   "toc_cell": false,
   "toc_position": {},
   "toc_section_display": true,
   "toc_window_display": true
  },
  "varInspector": {
   "cols": {
    "lenName": 16,
    "lenType": 16,
    "lenVar": 40
   },
   "kernels_config": {
    "python": {
     "delete_cmd_postfix": "",
     "delete_cmd_prefix": "del ",
     "library": "var_list.py",
     "varRefreshCmd": "print(var_dic_list())"
    },
    "r": {
     "delete_cmd_postfix": ") ",
     "delete_cmd_prefix": "rm(",
     "library": "var_list.r",
     "varRefreshCmd": "cat(var_dic_list()) "
    }
   },
   "types_to_exclude": [
    "module",
    "function",
    "builtin_function_or_method",
    "instance",
    "_Feature"
   ],
   "window_display": false
  },
  "vscode": {
   "interpreter": {
    "hash": "fafc7eee7de150c8a427b31921af63c0c3d0a2f414af683a5e82b516415abf3a"
   }
  }
 },
 "nbformat": 4,
 "nbformat_minor": 5
}
