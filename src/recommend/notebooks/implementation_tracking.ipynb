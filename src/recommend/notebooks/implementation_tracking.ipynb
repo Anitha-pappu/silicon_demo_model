{
 "cells": [
  {
   "cell_type": "markdown",
   "id": "9e540cb7-1ec4-4968-b77f-7b572600d722",
   "metadata": {},
   "source": [
    "# Implementation tracking tutorial"
   ]
  },
  {
   "cell_type": "markdown",
   "id": "f325a1ca-0419-4da0-a88f-bb262a9e5038",
   "metadata": {},
   "source": [
    "## Introduction"
   ]
  },
  {
   "cell_type": "markdown",
   "id": "a265d278-1d84-4e84-9450-4c021633ffba",
   "metadata": {},
   "source": [
    "Implementation tracking is a module that finds out if the recommendations that are exported into the CRA have been actually implemented. This notebook demonstrates the main steps of this process:\n",
    "\n",
    "* Prepare data for implementation calculations from the recommendations sent to CRA and the most recent sensor data.\n",
    "* Calculate the implementation status.\n",
    "\n",
    "The results from this pipeline can be exported into the CRA using the functionalities outlined in the [export tutorial](export.ipynb)."
   ]
  },
  {
   "cell_type": "markdown",
   "id": "5311ec2b-5fc0-4d7f-8ca4-dd39bc464f0f",
   "metadata": {},
   "source": [
    "## Setup"
   ]
  },
  {
   "cell_type": "code",
   "execution_count": 1,
   "id": "364a2948-3d45-484a-8a12-15844c236ce6",
   "metadata": {},
   "outputs": [],
   "source": [
    "# Resolve path when used in use case project\n",
    "import sys\n",
    "from pathlib import Path\n",
    "\n",
    "sys.path.insert(0, str(Path(\"../../\").resolve()))"
   ]
  },
  {
   "cell_type": "code",
   "execution_count": 2,
   "id": "141ce0d9-7733-4b69-8a42-e62a2157b18a",
   "metadata": {},
   "outputs": [
    {
     "name": "stdout",
     "output_type": "stream",
     "text": [
      "Using 0.39.0 version of recommend package\n"
     ]
    }
   ],
   "source": [
    "import recommend\n",
    "print(f'Using {recommend.__version__} version of recommend package')"
   ]
  },
  {
   "cell_type": "code",
   "execution_count": 3,
   "id": "ce7d20c1-46e8-47dc-9783-1633779e6244",
   "metadata": {},
   "outputs": [],
   "source": [
    "import numpy as np\n",
    "import pandas as pd"
   ]
  },
  {
   "cell_type": "markdown",
   "id": "b95d9a93-9deb-44b1-9781-ce2beb7848cb",
   "metadata": {},
   "source": [
    "## Example data"
   ]
  },
  {
   "cell_type": "markdown",
   "id": "4faccb5b-f3e2-4a6a-9830-bc8fa87a5c5d",
   "metadata": {},
   "source": [
    "We will be using four datasets to showcase the ``implementation_tracking`` functionalities.\n",
    "\n",
    "Optimization previous runs are used to find out when each recommendation was generated based on its ``run_id``."
   ]
  },
  {
   "cell_type": "code",
   "execution_count": 4,
   "id": "b513e0b4-ebaa-4360-80a3-151e1c54b7be",
   "metadata": {},
   "outputs": [
    {
     "data": {
      "text/plain": [
       "{'id': '1d5b3bdb-ed6e-4ec6-b961-bf00df66149e',\n",
       " 'timestamp': '2017-09-05T23:00:00Z'}"
      ]
     },
     "execution_count": 4,
     "metadata": {},
     "output_type": "execute_result"
    }
   ],
   "source": [
    "from recommend import datasets\n",
    "\n",
    "cra_runs = datasets.get_sample_runs_cra()\n",
    "cra_runs[0]"
   ]
  },
  {
   "cell_type": "markdown",
   "id": "bd31966b-ed9c-41eb-bde1-8e21f53f21cc",
   "metadata": {},
   "source": [
    "Previous recommendations sent to CRA are used to have information regarding what was advised to change in the control room."
   ]
  },
  {
   "cell_type": "code",
   "execution_count": 5,
   "id": "c96f4cc3-0ee4-4e27-83f0-f0137e5fb2a7",
   "metadata": {},
   "outputs": [
    {
     "data": {
      "text/plain": [
       "{'id': 'af1ddb6a-917c-466c-a301-54f1ca7fabb1',\n",
       " 'value': 3461.7177480471337,\n",
       " 'tolerance': 400.0,\n",
       " 'run_id': '1d5b3bdb-ed6e-4ec6-b961-bf00df66149e',\n",
       " 'tag_id': 'ec60d156-eb79-41b0-a907-ccedf677da9a',\n",
       " 'target_id': '7d583622-e55e-49df-9978-6d2b4bcaa5c3',\n",
       " 'is_flagged': False,\n",
       " 'status': 'Pending'}"
      ]
     },
     "execution_count": 5,
     "metadata": {},
     "output_type": "execute_result"
    }
   ],
   "source": [
    "cra_recs = datasets.get_sample_recommendations_cra()\n",
    "cra_recs[0]"
   ]
  },
  {
   "cell_type": "markdown",
   "id": "df51fdfd-4f12-4572-99cb-36d7aaa8eebc",
   "metadata": {},
   "source": [
    "Also, status data contains the value before optimization of controls."
   ]
  },
  {
   "cell_type": "code",
   "execution_count": 6,
   "id": "8b7ba0e9-e07e-49c1-b888-5c7d4fc549d1",
   "metadata": {},
   "outputs": [
    {
     "data": {
      "text/plain": [
       "{'id': 'dfa49855-b295-4c8a-a1bc-f21c6e6b9d23',\n",
       " 'value': 3564.6864600000004,\n",
       " 'run_id': '1d5b3bdb-ed6e-4ec6-b961-bf00df66149e',\n",
       " 'tag_id': 'ec60d156-eb79-41b0-a907-ccedf677da9a'}"
      ]
     },
     "execution_count": 6,
     "metadata": {},
     "output_type": "execute_result"
    }
   ],
   "source": [
    "cra_states = datasets.get_sample_states_cra()\n",
    "cra_states[0]"
   ]
  },
  {
   "cell_type": "markdown",
   "id": "db744bd7-7bc9-480e-8964-383e5eee7e29",
   "metadata": {},
   "source": [
    "Finally, tag values for the controls are required to evaluate whether the current tag value is consistent with the recommended one."
   ]
  },
  {
   "cell_type": "code",
   "execution_count": 7,
   "id": "c2a5f59a-11d5-4096-b63f-86695f1764a3",
   "metadata": {},
   "outputs": [
    {
     "data": {
      "text/html": [
       "<div>\n",
       "<style scoped>\n",
       "    .dataframe tbody tr th:only-of-type {\n",
       "        vertical-align: middle;\n",
       "    }\n",
       "\n",
       "    .dataframe tbody tr th {\n",
       "        vertical-align: top;\n",
       "    }\n",
       "\n",
       "    .dataframe thead th {\n",
       "        text-align: right;\n",
       "    }\n",
       "</style>\n",
       "<table border=\"1\" class=\"dataframe\">\n",
       "  <thead>\n",
       "    <tr style=\"text-align: right;\">\n",
       "      <th></th>\n",
       "      <th>timestamp</th>\n",
       "      <th>amina_flow</th>\n",
       "      <th>ore_pulp_density</th>\n",
       "      <th>ore_pulp_flow</th>\n",
       "      <th>ore_pulp_ph</th>\n",
       "      <th>starch_flow</th>\n",
       "      <th>total_air_flow</th>\n",
       "      <th>total_column_level</th>\n",
       "    </tr>\n",
       "  </thead>\n",
       "  <tbody>\n",
       "    <tr>\n",
       "      <th>0</th>\n",
       "      <td>2017-09-05 23:00:00+00:00</td>\n",
       "      <td>630.368125</td>\n",
       "      <td>1.744561</td>\n",
       "      <td>410.000000</td>\n",
       "      <td>9.564084</td>\n",
       "      <td>3564.686460</td>\n",
       "      <td>2097.828341</td>\n",
       "      <td>2638.478359</td>\n",
       "    </tr>\n",
       "    <tr>\n",
       "      <th>1</th>\n",
       "      <td>2017-09-06 02:00:00+00:00</td>\n",
       "      <td>640.858592</td>\n",
       "      <td>1.742618</td>\n",
       "      <td>408.920940</td>\n",
       "      <td>9.575665</td>\n",
       "      <td>3486.914953</td>\n",
       "      <td>2005.392683</td>\n",
       "      <td>3338.673017</td>\n",
       "    </tr>\n",
       "    <tr>\n",
       "      <th>2</th>\n",
       "      <td>2017-09-06 05:00:00+00:00</td>\n",
       "      <td>495.941623</td>\n",
       "      <td>1.626334</td>\n",
       "      <td>401.539085</td>\n",
       "      <td>9.500252</td>\n",
       "      <td>3517.233910</td>\n",
       "      <td>1990.812654</td>\n",
       "      <td>2690.721078</td>\n",
       "    </tr>\n",
       "    <tr>\n",
       "      <th>3</th>\n",
       "      <td>2017-09-06 08:00:00+00:00</td>\n",
       "      <td>553.022891</td>\n",
       "      <td>1.700219</td>\n",
       "      <td>408.732205</td>\n",
       "      <td>9.595444</td>\n",
       "      <td>3472.475790</td>\n",
       "      <td>2035.502478</td>\n",
       "      <td>2688.994746</td>\n",
       "    </tr>\n",
       "    <tr>\n",
       "      <th>4</th>\n",
       "      <td>2017-09-06 11:00:00+00:00</td>\n",
       "      <td>523.073518</td>\n",
       "      <td>1.682749</td>\n",
       "      <td>398.980120</td>\n",
       "      <td>9.533169</td>\n",
       "      <td>2910.032707</td>\n",
       "      <td>2046.846795</td>\n",
       "      <td>3225.537206</td>\n",
       "    </tr>\n",
       "  </tbody>\n",
       "</table>\n",
       "</div>"
      ],
      "text/plain": [
       "                  timestamp  amina_flow  ore_pulp_density  ore_pulp_flow  \\\n",
       "0 2017-09-05 23:00:00+00:00  630.368125          1.744561     410.000000   \n",
       "1 2017-09-06 02:00:00+00:00  640.858592          1.742618     408.920940   \n",
       "2 2017-09-06 05:00:00+00:00  495.941623          1.626334     401.539085   \n",
       "3 2017-09-06 08:00:00+00:00  553.022891          1.700219     408.732205   \n",
       "4 2017-09-06 11:00:00+00:00  523.073518          1.682749     398.980120   \n",
       "\n",
       "   ore_pulp_ph  starch_flow  total_air_flow  total_column_level  \n",
       "0     9.564084  3564.686460     2097.828341         2638.478359  \n",
       "1     9.575665  3486.914953     2005.392683         3338.673017  \n",
       "2     9.500252  3517.233910     1990.812654         2690.721078  \n",
       "3     9.595444  3472.475790     2035.502478         2688.994746  \n",
       "4     9.533169  2910.032707     2046.846795         3225.537206  "
      ]
     },
     "execution_count": 7,
     "metadata": {},
     "output_type": "execute_result"
    }
   ],
   "source": [
    "tag_data = datasets.get_sample_implementation_status_input_data()\n",
    "tag_data.head()"
   ]
  },
  {
   "cell_type": "markdown",
   "id": "52748310-bb70-4f53-863f-2c76dbedcadd",
   "metadata": {},
   "source": [
    "Finally, tag meta is needed to map the tag name and its id."
   ]
  },
  {
   "cell_type": "code",
   "execution_count": 8,
   "id": "1744edb8-85ec-46eb-bf40-563cb4e7e95d",
   "metadata": {},
   "outputs": [
    {
     "data": {
      "text/plain": [
       "MetaDataConfig(...)"
      ]
     },
     "execution_count": 8,
     "metadata": {},
     "output_type": "execute_result"
    }
   ],
   "source": [
    "tag_meta = datasets.get_sample_tags_meta()\n",
    "tag_meta"
   ]
  },
  {
   "cell_type": "markdown",
   "id": "cbe97b7a-d0d9-4700-98f1-31a6e5573aad",
   "metadata": {},
   "source": [
    "## Data preparation with ``collect_recs_vs_actual_implementation``"
   ]
  },
  {
   "cell_type": "markdown",
   "id": "d3299a2b-7947-48c1-bf35-a97aab5af2aa",
   "metadata": {},
   "source": [
    "The first step in implementation tracking is to consolidate the available data sources using the ``collect_recs_vs_actual_implementation`` function.\n",
    "\n",
    "It is possible to indicate the period to evaluate the recommendations. This is done by setting ``offset`` as the time period between the recommendation timestamp in ``cra_runs`` and its evaluation.\n",
    "\n",
    "The resulting dataframe contains one row per recommendation sent to the CRA with run information and three different values for such tag:\n",
    "* ``recommended_value``: Recommendation sent to the operators for the tag.\n",
    "* ``before_recs_value``: Value of the tag before being optimized (at ``run_timestamp`` - the timestamp used in the recommendations creation).\n",
    "* ``current_value``: Value of the tag on the implementation tracking evaluation period (at ``timestamp`` - the timestamp used to evaluate the recommendations)."
   ]
  },
  {
   "cell_type": "code",
   "execution_count": 9,
   "id": "6f730184-1f95-41e1-bb59-55cf1385705f",
   "metadata": {},
   "outputs": [
    {
     "data": {
      "text/html": [
       "<div>\n",
       "<style scoped>\n",
       "    .dataframe tbody tr th:only-of-type {\n",
       "        vertical-align: middle;\n",
       "    }\n",
       "\n",
       "    .dataframe tbody tr th {\n",
       "        vertical-align: top;\n",
       "    }\n",
       "\n",
       "    .dataframe thead th {\n",
       "        text-align: right;\n",
       "    }\n",
       "</style>\n",
       "<table border=\"1\" class=\"dataframe\">\n",
       "  <thead>\n",
       "    <tr style=\"text-align: right;\">\n",
       "      <th></th>\n",
       "      <th>tag_id</th>\n",
       "      <th>run_id</th>\n",
       "      <th>recommended_value</th>\n",
       "      <th>before_recs_value</th>\n",
       "      <th>id</th>\n",
       "      <th>run_timestamp</th>\n",
       "      <th>timestamp</th>\n",
       "      <th>current_value</th>\n",
       "    </tr>\n",
       "  </thead>\n",
       "  <tbody>\n",
       "    <tr>\n",
       "      <th>0</th>\n",
       "      <td>ec60d156-eb79-41b0-a907-ccedf677da9a</td>\n",
       "      <td>1d5b3bdb-ed6e-4ec6-b961-bf00df66149e</td>\n",
       "      <td>3461.717748</td>\n",
       "      <td>3564.686460</td>\n",
       "      <td>af1ddb6a-917c-466c-a301-54f1ca7fabb1</td>\n",
       "      <td>2017-09-05 23:00:00+00:00</td>\n",
       "      <td>2017-09-06 02:00:00+00:00</td>\n",
       "      <td>3486.914953</td>\n",
       "    </tr>\n",
       "    <tr>\n",
       "      <th>1</th>\n",
       "      <td>4206e334-b1ca-4639-8808-e83e3c3be395</td>\n",
       "      <td>1d5b3bdb-ed6e-4ec6-b961-bf00df66149e</td>\n",
       "      <td>546.209128</td>\n",
       "      <td>630.368125</td>\n",
       "      <td>7cc8cdac-7fd4-4e24-9d99-610dcd0d73e4</td>\n",
       "      <td>2017-09-05 23:00:00+00:00</td>\n",
       "      <td>2017-09-06 02:00:00+00:00</td>\n",
       "      <td>640.858592</td>\n",
       "    </tr>\n",
       "    <tr>\n",
       "      <th>2</th>\n",
       "      <td>4011b8b6-c59b-4e0d-9779-21d8c190b04b</td>\n",
       "      <td>1d5b3bdb-ed6e-4ec6-b961-bf00df66149e</td>\n",
       "      <td>400.055094</td>\n",
       "      <td>410.000000</td>\n",
       "      <td>2cd1d8f8-d138-4f7e-b88a-fcc3adf9c48b</td>\n",
       "      <td>2017-09-05 23:00:00+00:00</td>\n",
       "      <td>2017-09-06 02:00:00+00:00</td>\n",
       "      <td>408.920940</td>\n",
       "    </tr>\n",
       "    <tr>\n",
       "      <th>3</th>\n",
       "      <td>371f1681-6cae-4dc0-abc2-5e8e6a6a116b</td>\n",
       "      <td>1d5b3bdb-ed6e-4ec6-b961-bf00df66149e</td>\n",
       "      <td>9.763356</td>\n",
       "      <td>9.564084</td>\n",
       "      <td>51fd0ccf-0dd8-4338-9af7-13a964c7e4d9</td>\n",
       "      <td>2017-09-05 23:00:00+00:00</td>\n",
       "      <td>2017-09-06 02:00:00+00:00</td>\n",
       "      <td>9.575665</td>\n",
       "    </tr>\n",
       "    <tr>\n",
       "      <th>4</th>\n",
       "      <td>b57d45f0-7c63-4c5b-8b34-266df9be2e26</td>\n",
       "      <td>1d5b3bdb-ed6e-4ec6-b961-bf00df66149e</td>\n",
       "      <td>1.702584</td>\n",
       "      <td>1.744561</td>\n",
       "      <td>f7337e67-45fd-4931-b08e-db7a7138230f</td>\n",
       "      <td>2017-09-05 23:00:00+00:00</td>\n",
       "      <td>2017-09-06 02:00:00+00:00</td>\n",
       "      <td>1.742618</td>\n",
       "    </tr>\n",
       "  </tbody>\n",
       "</table>\n",
       "</div>"
      ],
      "text/plain": [
       "                                 tag_id                                run_id  \\\n",
       "0  ec60d156-eb79-41b0-a907-ccedf677da9a  1d5b3bdb-ed6e-4ec6-b961-bf00df66149e   \n",
       "1  4206e334-b1ca-4639-8808-e83e3c3be395  1d5b3bdb-ed6e-4ec6-b961-bf00df66149e   \n",
       "2  4011b8b6-c59b-4e0d-9779-21d8c190b04b  1d5b3bdb-ed6e-4ec6-b961-bf00df66149e   \n",
       "3  371f1681-6cae-4dc0-abc2-5e8e6a6a116b  1d5b3bdb-ed6e-4ec6-b961-bf00df66149e   \n",
       "4  b57d45f0-7c63-4c5b-8b34-266df9be2e26  1d5b3bdb-ed6e-4ec6-b961-bf00df66149e   \n",
       "\n",
       "   recommended_value  before_recs_value                                    id  \\\n",
       "0        3461.717748        3564.686460  af1ddb6a-917c-466c-a301-54f1ca7fabb1   \n",
       "1         546.209128         630.368125  7cc8cdac-7fd4-4e24-9d99-610dcd0d73e4   \n",
       "2         400.055094         410.000000  2cd1d8f8-d138-4f7e-b88a-fcc3adf9c48b   \n",
       "3           9.763356           9.564084  51fd0ccf-0dd8-4338-9af7-13a964c7e4d9   \n",
       "4           1.702584           1.744561  f7337e67-45fd-4931-b08e-db7a7138230f   \n",
       "\n",
       "              run_timestamp                 timestamp  current_value  \n",
       "0 2017-09-05 23:00:00+00:00 2017-09-06 02:00:00+00:00    3486.914953  \n",
       "1 2017-09-05 23:00:00+00:00 2017-09-06 02:00:00+00:00     640.858592  \n",
       "2 2017-09-05 23:00:00+00:00 2017-09-06 02:00:00+00:00     408.920940  \n",
       "3 2017-09-05 23:00:00+00:00 2017-09-06 02:00:00+00:00       9.575665  \n",
       "4 2017-09-05 23:00:00+00:00 2017-09-06 02:00:00+00:00       1.742618  "
      ]
     },
     "execution_count": 9,
     "metadata": {},
     "output_type": "execute_result"
    }
   ],
   "source": [
    "from recommend.implementation_tracker import collect_recs_vs_actual_implementation\n",
    "implementation_data = collect_recs_vs_actual_implementation(\n",
    "    cra_recs,\n",
    "    cra_states,\n",
    "    cra_runs,\n",
    "    tag_data,\n",
    "    tag_meta,\n",
    "    offset = \"3H\",\n",
    ")\n",
    "implementation_data.head()"
   ]
  },
  {
   "cell_type": "markdown",
   "id": "c03c4c30-badf-42d2-bcab-5ccb4f016ea6",
   "metadata": {},
   "source": [
    "## Implementation evaluation with ``calculate_implementation_status``"
   ]
  },
  {
   "cell_type": "markdown",
   "id": "a46df7f3-55fc-41b8-a990-8f808e2296fd",
   "metadata": {},
   "source": [
    "The next step is to calculate the implementation status based from the output data of the previous step. To do so, we use function ``calculate_implementation_status``. It returns a percentage of implementation (``implementation_perc``) between 0 and 1 per each tag and run.\n",
    "\n",
    "This function implements two methods (``\"deviation\"`` and ``\"progress\"``) for the calculations and allows for custom ones to be passed, as it is exemplified below.\n"
   ]
  },
  {
   "cell_type": "markdown",
   "id": "915c8542-542e-41bc-af80-87e72f11a781",
   "metadata": {},
   "source": [
    "### ``\"deviation\"`` implementation status"
   ]
  },
  {
   "cell_type": "markdown",
   "id": "416f8993-6f8f-4167-bbfe-15479043769a",
   "metadata": {},
   "source": [
    "``\"deviation\"`` methodology finds out if ``current_value`` is within a close range of the ``recommended_value``.\n",
    "\n",
    "The size of the range is defined by using the ``sensitivity`` parameter. It can have two meaning based on the value of parameter ``sensitivity_type``:\n",
    "* ``\"rel\"``: range is defined as ``recommended_value`` $\\times ( 1 \\pm$ ``sensitivity`` $)$\n",
    "* ``\"abs\"``: range is defined as ``recommended_value`` $\\pm$ ``sensitivity``\n",
    "\n",
    "Here we exemplify the use of the function using the ``rel`` ``sensitivity_type``."
   ]
  },
  {
   "cell_type": "code",
   "execution_count": 10,
   "id": "2cad8057-cb49-4bdb-b0f3-6ab10af2783d",
   "metadata": {},
   "outputs": [
    {
     "data": {
      "text/html": [
       "<div>\n",
       "<style scoped>\n",
       "    .dataframe tbody tr th:only-of-type {\n",
       "        vertical-align: middle;\n",
       "    }\n",
       "\n",
       "    .dataframe tbody tr th {\n",
       "        vertical-align: top;\n",
       "    }\n",
       "\n",
       "    .dataframe thead th {\n",
       "        text-align: right;\n",
       "    }\n",
       "</style>\n",
       "<table border=\"1\" class=\"dataframe\">\n",
       "  <thead>\n",
       "    <tr style=\"text-align: right;\">\n",
       "      <th></th>\n",
       "      <th>id</th>\n",
       "      <th>tag_id</th>\n",
       "      <th>run_id</th>\n",
       "      <th>implementation_perc</th>\n",
       "    </tr>\n",
       "  </thead>\n",
       "  <tbody>\n",
       "    <tr>\n",
       "      <th>0</th>\n",
       "      <td>af1ddb6a-917c-466c-a301-54f1ca7fabb1</td>\n",
       "      <td>ec60d156-eb79-41b0-a907-ccedf677da9a</td>\n",
       "      <td>1d5b3bdb-ed6e-4ec6-b961-bf00df66149e</td>\n",
       "      <td>1.0</td>\n",
       "    </tr>\n",
       "    <tr>\n",
       "      <th>1</th>\n",
       "      <td>7cc8cdac-7fd4-4e24-9d99-610dcd0d73e4</td>\n",
       "      <td>4206e334-b1ca-4639-8808-e83e3c3be395</td>\n",
       "      <td>1d5b3bdb-ed6e-4ec6-b961-bf00df66149e</td>\n",
       "      <td>0.0</td>\n",
       "    </tr>\n",
       "    <tr>\n",
       "      <th>2</th>\n",
       "      <td>2cd1d8f8-d138-4f7e-b88a-fcc3adf9c48b</td>\n",
       "      <td>4011b8b6-c59b-4e0d-9779-21d8c190b04b</td>\n",
       "      <td>1d5b3bdb-ed6e-4ec6-b961-bf00df66149e</td>\n",
       "      <td>1.0</td>\n",
       "    </tr>\n",
       "    <tr>\n",
       "      <th>3</th>\n",
       "      <td>51fd0ccf-0dd8-4338-9af7-13a964c7e4d9</td>\n",
       "      <td>371f1681-6cae-4dc0-abc2-5e8e6a6a116b</td>\n",
       "      <td>1d5b3bdb-ed6e-4ec6-b961-bf00df66149e</td>\n",
       "      <td>1.0</td>\n",
       "    </tr>\n",
       "    <tr>\n",
       "      <th>4</th>\n",
       "      <td>f7337e67-45fd-4931-b08e-db7a7138230f</td>\n",
       "      <td>b57d45f0-7c63-4c5b-8b34-266df9be2e26</td>\n",
       "      <td>1d5b3bdb-ed6e-4ec6-b961-bf00df66149e</td>\n",
       "      <td>1.0</td>\n",
       "    </tr>\n",
       "  </tbody>\n",
       "</table>\n",
       "</div>"
      ],
      "text/plain": [
       "                                     id                                tag_id  \\\n",
       "0  af1ddb6a-917c-466c-a301-54f1ca7fabb1  ec60d156-eb79-41b0-a907-ccedf677da9a   \n",
       "1  7cc8cdac-7fd4-4e24-9d99-610dcd0d73e4  4206e334-b1ca-4639-8808-e83e3c3be395   \n",
       "2  2cd1d8f8-d138-4f7e-b88a-fcc3adf9c48b  4011b8b6-c59b-4e0d-9779-21d8c190b04b   \n",
       "3  51fd0ccf-0dd8-4338-9af7-13a964c7e4d9  371f1681-6cae-4dc0-abc2-5e8e6a6a116b   \n",
       "4  f7337e67-45fd-4931-b08e-db7a7138230f  b57d45f0-7c63-4c5b-8b34-266df9be2e26   \n",
       "\n",
       "                                 run_id  implementation_perc  \n",
       "0  1d5b3bdb-ed6e-4ec6-b961-bf00df66149e                  1.0  \n",
       "1  1d5b3bdb-ed6e-4ec6-b961-bf00df66149e                  0.0  \n",
       "2  1d5b3bdb-ed6e-4ec6-b961-bf00df66149e                  1.0  \n",
       "3  1d5b3bdb-ed6e-4ec6-b961-bf00df66149e                  1.0  \n",
       "4  1d5b3bdb-ed6e-4ec6-b961-bf00df66149e                  1.0  "
      ]
     },
     "execution_count": 10,
     "metadata": {},
     "output_type": "execute_result"
    }
   ],
   "source": [
    "from recommend.implementation_tracker import calculate_implementation_status\n",
    "dev_imp = calculate_implementation_status(\n",
    "    implementation_data,\n",
    "    method = \"deviation\",\n",
    "    sensitivity = 0.05,\n",
    "    sensitivity_type = \"rel\",\n",
    ")\n",
    "dev_imp.head()"
   ]
  },
  {
   "cell_type": "markdown",
   "id": "e8eb1274-8df4-4f7a-bd2e-807efd8a89b6",
   "metadata": {},
   "source": [
    "It is also possible to define different sensitivities for each tag. This is done by providing a dictionary to ``sensitivity`` parameter, where the keys are the ``tag_id`` and the values the desired sensibility for each tag."
   ]
  },
  {
   "cell_type": "code",
   "execution_count": 11,
   "id": "6b385399-cbb4-4db6-b7fe-ceef43ac9339",
   "metadata": {},
   "outputs": [
    {
     "data": {
      "text/html": [
       "<div>\n",
       "<style scoped>\n",
       "    .dataframe tbody tr th:only-of-type {\n",
       "        vertical-align: middle;\n",
       "    }\n",
       "\n",
       "    .dataframe tbody tr th {\n",
       "        vertical-align: top;\n",
       "    }\n",
       "\n",
       "    .dataframe thead th {\n",
       "        text-align: right;\n",
       "    }\n",
       "</style>\n",
       "<table border=\"1\" class=\"dataframe\">\n",
       "  <thead>\n",
       "    <tr style=\"text-align: right;\">\n",
       "      <th></th>\n",
       "      <th>id</th>\n",
       "      <th>tag_id</th>\n",
       "      <th>run_id</th>\n",
       "      <th>implementation_perc</th>\n",
       "    </tr>\n",
       "  </thead>\n",
       "  <tbody>\n",
       "    <tr>\n",
       "      <th>0</th>\n",
       "      <td>af1ddb6a-917c-466c-a301-54f1ca7fabb1</td>\n",
       "      <td>ec60d156-eb79-41b0-a907-ccedf677da9a</td>\n",
       "      <td>1d5b3bdb-ed6e-4ec6-b961-bf00df66149e</td>\n",
       "      <td>0.0</td>\n",
       "    </tr>\n",
       "    <tr>\n",
       "      <th>1</th>\n",
       "      <td>7cc8cdac-7fd4-4e24-9d99-610dcd0d73e4</td>\n",
       "      <td>4206e334-b1ca-4639-8808-e83e3c3be395</td>\n",
       "      <td>1d5b3bdb-ed6e-4ec6-b961-bf00df66149e</td>\n",
       "      <td>0.0</td>\n",
       "    </tr>\n",
       "    <tr>\n",
       "      <th>2</th>\n",
       "      <td>2cd1d8f8-d138-4f7e-b88a-fcc3adf9c48b</td>\n",
       "      <td>4011b8b6-c59b-4e0d-9779-21d8c190b04b</td>\n",
       "      <td>1d5b3bdb-ed6e-4ec6-b961-bf00df66149e</td>\n",
       "      <td>0.0</td>\n",
       "    </tr>\n",
       "    <tr>\n",
       "      <th>3</th>\n",
       "      <td>51fd0ccf-0dd8-4338-9af7-13a964c7e4d9</td>\n",
       "      <td>371f1681-6cae-4dc0-abc2-5e8e6a6a116b</td>\n",
       "      <td>1d5b3bdb-ed6e-4ec6-b961-bf00df66149e</td>\n",
       "      <td>0.0</td>\n",
       "    </tr>\n",
       "    <tr>\n",
       "      <th>4</th>\n",
       "      <td>f7337e67-45fd-4931-b08e-db7a7138230f</td>\n",
       "      <td>b57d45f0-7c63-4c5b-8b34-266df9be2e26</td>\n",
       "      <td>1d5b3bdb-ed6e-4ec6-b961-bf00df66149e</td>\n",
       "      <td>0.0</td>\n",
       "    </tr>\n",
       "  </tbody>\n",
       "</table>\n",
       "</div>"
      ],
      "text/plain": [
       "                                     id                                tag_id  \\\n",
       "0  af1ddb6a-917c-466c-a301-54f1ca7fabb1  ec60d156-eb79-41b0-a907-ccedf677da9a   \n",
       "1  7cc8cdac-7fd4-4e24-9d99-610dcd0d73e4  4206e334-b1ca-4639-8808-e83e3c3be395   \n",
       "2  2cd1d8f8-d138-4f7e-b88a-fcc3adf9c48b  4011b8b6-c59b-4e0d-9779-21d8c190b04b   \n",
       "3  51fd0ccf-0dd8-4338-9af7-13a964c7e4d9  371f1681-6cae-4dc0-abc2-5e8e6a6a116b   \n",
       "4  f7337e67-45fd-4931-b08e-db7a7138230f  b57d45f0-7c63-4c5b-8b34-266df9be2e26   \n",
       "\n",
       "                                 run_id  implementation_perc  \n",
       "0  1d5b3bdb-ed6e-4ec6-b961-bf00df66149e                  0.0  \n",
       "1  1d5b3bdb-ed6e-4ec6-b961-bf00df66149e                  0.0  \n",
       "2  1d5b3bdb-ed6e-4ec6-b961-bf00df66149e                  0.0  \n",
       "3  1d5b3bdb-ed6e-4ec6-b961-bf00df66149e                  0.0  \n",
       "4  1d5b3bdb-ed6e-4ec6-b961-bf00df66149e                  0.0  "
      ]
     },
     "execution_count": 11,
     "metadata": {},
     "output_type": "execute_result"
    }
   ],
   "source": [
    "sensitivity_dict = {\n",
    "    \"starch_flow\": 0.01,\n",
    "    \"amina_flow\": 0.1,\n",
    "    \"ore_pulp_flow\": 0.05,\n",
    "    \"ore_pulp_ph\": 0.03,\n",
    "    \"ore_pulp_density\": 0.08,\n",
    "    \"total_air_flow\": 0.02,\n",
    "    \"total_column_level\": 0.04,\n",
    "}\n",
    "dev_imp_dict = calculate_implementation_status(\n",
    "    implementation_data,\n",
    "    method = \"deviation\",\n",
    "    sensitivity = sensitivity_dict,\n",
    "    sensitivity_type = \"rel\",\n",
    ")\n",
    "dev_imp_dict.head()"
   ]
  },
  {
   "cell_type": "markdown",
   "id": "6a7f4503-850b-4c18-a1c1-24c1ac2b6b42",
   "metadata": {},
   "source": [
    "### ``progress`` implementation status"
   ]
  },
  {
   "cell_type": "markdown",
   "id": "e593138a-784b-45d1-af1e-25432166a3d8",
   "metadata": {},
   "source": [
    "The second methodology provided calculates the implementation status as the ratio\n",
    "$$\n",
    "\\begin{align}\n",
    "\\text{actual change / suggested change}\n",
    "\\end{align}\n",
    "$$\n",
    "where\n",
    "$$\n",
    "\\begin{align}\n",
    "\\text{actual change = actual value - original value}\n",
    "\\end{align}\n",
    "$$\n",
    "\n",
    "$$\n",
    "\\begin{align}\n",
    "\\text{suggested change = recommended value - original value.}\n",
    "\\end{align}\n",
    "$$"
   ]
  },
  {
   "cell_type": "code",
   "execution_count": 12,
   "id": "21b83ef4-9e5f-4c6a-969d-e4945cedcc23",
   "metadata": {},
   "outputs": [
    {
     "data": {
      "text/html": [
       "<div>\n",
       "<style scoped>\n",
       "    .dataframe tbody tr th:only-of-type {\n",
       "        vertical-align: middle;\n",
       "    }\n",
       "\n",
       "    .dataframe tbody tr th {\n",
       "        vertical-align: top;\n",
       "    }\n",
       "\n",
       "    .dataframe thead th {\n",
       "        text-align: right;\n",
       "    }\n",
       "</style>\n",
       "<table border=\"1\" class=\"dataframe\">\n",
       "  <thead>\n",
       "    <tr style=\"text-align: right;\">\n",
       "      <th></th>\n",
       "      <th>id</th>\n",
       "      <th>tag_id</th>\n",
       "      <th>run_id</th>\n",
       "      <th>implementation_perc</th>\n",
       "    </tr>\n",
       "  </thead>\n",
       "  <tbody>\n",
       "    <tr>\n",
       "      <th>0</th>\n",
       "      <td>af1ddb6a-917c-466c-a301-54f1ca7fabb1</td>\n",
       "      <td>ec60d156-eb79-41b0-a907-ccedf677da9a</td>\n",
       "      <td>1d5b3bdb-ed6e-4ec6-b961-bf00df66149e</td>\n",
       "      <td>0.755293</td>\n",
       "    </tr>\n",
       "    <tr>\n",
       "      <th>1</th>\n",
       "      <td>7cc8cdac-7fd4-4e24-9d99-610dcd0d73e4</td>\n",
       "      <td>4206e334-b1ca-4639-8808-e83e3c3be395</td>\n",
       "      <td>1d5b3bdb-ed6e-4ec6-b961-bf00df66149e</td>\n",
       "      <td>-0.124651</td>\n",
       "    </tr>\n",
       "    <tr>\n",
       "      <th>2</th>\n",
       "      <td>2cd1d8f8-d138-4f7e-b88a-fcc3adf9c48b</td>\n",
       "      <td>4011b8b6-c59b-4e0d-9779-21d8c190b04b</td>\n",
       "      <td>1d5b3bdb-ed6e-4ec6-b961-bf00df66149e</td>\n",
       "      <td>0.108504</td>\n",
       "    </tr>\n",
       "    <tr>\n",
       "      <th>3</th>\n",
       "      <td>51fd0ccf-0dd8-4338-9af7-13a964c7e4d9</td>\n",
       "      <td>371f1681-6cae-4dc0-abc2-5e8e6a6a116b</td>\n",
       "      <td>1d5b3bdb-ed6e-4ec6-b961-bf00df66149e</td>\n",
       "      <td>0.058121</td>\n",
       "    </tr>\n",
       "    <tr>\n",
       "      <th>4</th>\n",
       "      <td>f7337e67-45fd-4931-b08e-db7a7138230f</td>\n",
       "      <td>b57d45f0-7c63-4c5b-8b34-266df9be2e26</td>\n",
       "      <td>1d5b3bdb-ed6e-4ec6-b961-bf00df66149e</td>\n",
       "      <td>0.046268</td>\n",
       "    </tr>\n",
       "  </tbody>\n",
       "</table>\n",
       "</div>"
      ],
      "text/plain": [
       "                                     id                                tag_id  \\\n",
       "0  af1ddb6a-917c-466c-a301-54f1ca7fabb1  ec60d156-eb79-41b0-a907-ccedf677da9a   \n",
       "1  7cc8cdac-7fd4-4e24-9d99-610dcd0d73e4  4206e334-b1ca-4639-8808-e83e3c3be395   \n",
       "2  2cd1d8f8-d138-4f7e-b88a-fcc3adf9c48b  4011b8b6-c59b-4e0d-9779-21d8c190b04b   \n",
       "3  51fd0ccf-0dd8-4338-9af7-13a964c7e4d9  371f1681-6cae-4dc0-abc2-5e8e6a6a116b   \n",
       "4  f7337e67-45fd-4931-b08e-db7a7138230f  b57d45f0-7c63-4c5b-8b34-266df9be2e26   \n",
       "\n",
       "                                 run_id  implementation_perc  \n",
       "0  1d5b3bdb-ed6e-4ec6-b961-bf00df66149e             0.755293  \n",
       "1  1d5b3bdb-ed6e-4ec6-b961-bf00df66149e            -0.124651  \n",
       "2  1d5b3bdb-ed6e-4ec6-b961-bf00df66149e             0.108504  \n",
       "3  1d5b3bdb-ed6e-4ec6-b961-bf00df66149e             0.058121  \n",
       "4  1d5b3bdb-ed6e-4ec6-b961-bf00df66149e             0.046268  "
      ]
     },
     "execution_count": 12,
     "metadata": {},
     "output_type": "execute_result"
    }
   ],
   "source": [
    "pro_imp = calculate_implementation_status(\n",
    "    implementation_data,\n",
    "    method = \"progress\",\n",
    ")\n",
    "pro_imp.head()"
   ]
  },
  {
   "cell_type": "markdown",
   "id": "8b372c3a-d8bf-4866-8c03-b39b552aa604",
   "metadata": {},
   "source": [
    "With this methodology, it is possible to obtain implementations that are outside the range 0-100%. If we want to limit our values to that interval, the argument ``clip`` can be used.\n",
    "\n",
    "Each ratio is first clipped between 0 and 2. Then, each value above 1 es considered to have implementation status of 2 - ratio. The logic behind this operation is that it is as bad to not reach the recommended value as surpassing it by a great amount. Every implementation percentage above 100% will be declining until it reaches 0% again."
   ]
  },
  {
   "cell_type": "code",
   "execution_count": 13,
   "id": "910d3833-09c0-46de-adc8-410b4675bd4a",
   "metadata": {},
   "outputs": [
    {
     "data": {
      "text/html": [
       "<div>\n",
       "<style scoped>\n",
       "    .dataframe tbody tr th:only-of-type {\n",
       "        vertical-align: middle;\n",
       "    }\n",
       "\n",
       "    .dataframe tbody tr th {\n",
       "        vertical-align: top;\n",
       "    }\n",
       "\n",
       "    .dataframe thead th {\n",
       "        text-align: right;\n",
       "    }\n",
       "</style>\n",
       "<table border=\"1\" class=\"dataframe\">\n",
       "  <thead>\n",
       "    <tr style=\"text-align: right;\">\n",
       "      <th></th>\n",
       "      <th>id</th>\n",
       "      <th>tag_id</th>\n",
       "      <th>run_id</th>\n",
       "      <th>implementation_perc</th>\n",
       "    </tr>\n",
       "  </thead>\n",
       "  <tbody>\n",
       "    <tr>\n",
       "      <th>0</th>\n",
       "      <td>af1ddb6a-917c-466c-a301-54f1ca7fabb1</td>\n",
       "      <td>ec60d156-eb79-41b0-a907-ccedf677da9a</td>\n",
       "      <td>1d5b3bdb-ed6e-4ec6-b961-bf00df66149e</td>\n",
       "      <td>0.755293</td>\n",
       "    </tr>\n",
       "    <tr>\n",
       "      <th>1</th>\n",
       "      <td>7cc8cdac-7fd4-4e24-9d99-610dcd0d73e4</td>\n",
       "      <td>4206e334-b1ca-4639-8808-e83e3c3be395</td>\n",
       "      <td>1d5b3bdb-ed6e-4ec6-b961-bf00df66149e</td>\n",
       "      <td>0.000000</td>\n",
       "    </tr>\n",
       "    <tr>\n",
       "      <th>2</th>\n",
       "      <td>2cd1d8f8-d138-4f7e-b88a-fcc3adf9c48b</td>\n",
       "      <td>4011b8b6-c59b-4e0d-9779-21d8c190b04b</td>\n",
       "      <td>1d5b3bdb-ed6e-4ec6-b961-bf00df66149e</td>\n",
       "      <td>0.108504</td>\n",
       "    </tr>\n",
       "    <tr>\n",
       "      <th>3</th>\n",
       "      <td>51fd0ccf-0dd8-4338-9af7-13a964c7e4d9</td>\n",
       "      <td>371f1681-6cae-4dc0-abc2-5e8e6a6a116b</td>\n",
       "      <td>1d5b3bdb-ed6e-4ec6-b961-bf00df66149e</td>\n",
       "      <td>0.058121</td>\n",
       "    </tr>\n",
       "    <tr>\n",
       "      <th>4</th>\n",
       "      <td>f7337e67-45fd-4931-b08e-db7a7138230f</td>\n",
       "      <td>b57d45f0-7c63-4c5b-8b34-266df9be2e26</td>\n",
       "      <td>1d5b3bdb-ed6e-4ec6-b961-bf00df66149e</td>\n",
       "      <td>0.046268</td>\n",
       "    </tr>\n",
       "  </tbody>\n",
       "</table>\n",
       "</div>"
      ],
      "text/plain": [
       "                                     id                                tag_id  \\\n",
       "0  af1ddb6a-917c-466c-a301-54f1ca7fabb1  ec60d156-eb79-41b0-a907-ccedf677da9a   \n",
       "1  7cc8cdac-7fd4-4e24-9d99-610dcd0d73e4  4206e334-b1ca-4639-8808-e83e3c3be395   \n",
       "2  2cd1d8f8-d138-4f7e-b88a-fcc3adf9c48b  4011b8b6-c59b-4e0d-9779-21d8c190b04b   \n",
       "3  51fd0ccf-0dd8-4338-9af7-13a964c7e4d9  371f1681-6cae-4dc0-abc2-5e8e6a6a116b   \n",
       "4  f7337e67-45fd-4931-b08e-db7a7138230f  b57d45f0-7c63-4c5b-8b34-266df9be2e26   \n",
       "\n",
       "                                 run_id  implementation_perc  \n",
       "0  1d5b3bdb-ed6e-4ec6-b961-bf00df66149e             0.755293  \n",
       "1  1d5b3bdb-ed6e-4ec6-b961-bf00df66149e             0.000000  \n",
       "2  1d5b3bdb-ed6e-4ec6-b961-bf00df66149e             0.108504  \n",
       "3  1d5b3bdb-ed6e-4ec6-b961-bf00df66149e             0.058121  \n",
       "4  1d5b3bdb-ed6e-4ec6-b961-bf00df66149e             0.046268  "
      ]
     },
     "execution_count": 13,
     "metadata": {},
     "output_type": "execute_result"
    }
   ],
   "source": [
    "pro_imp_clip = calculate_implementation_status(\n",
    "    implementation_data,\n",
    "    method = \"progress\",\n",
    "    clip = True,\n",
    ")\n",
    "pro_imp_clip.head()"
   ]
  },
  {
   "cell_type": "markdown",
   "id": "f35b82ae-6564-4f6c-974d-1bdd8a890800",
   "metadata": {},
   "source": [
    "### Custom implementation status"
   ]
  },
  {
   "cell_type": "markdown",
   "id": "4540831a-0833-47f7-8ab9-371c5352ed9e",
   "metadata": {},
   "source": [
    "It is possible to create custom methods to calculate the implementation status and pass them to ``calculate_implementation_status`` function.\n",
    "\n",
    "Those methods need to have the following protocol:"
   ]
  },
  {
   "cell_type": "code",
   "execution_count": 14,
   "id": "24579c7b-e20d-4116-a7e6-296b4c716885",
   "metadata": {},
   "outputs": [
    {
     "name": "stdout",
     "output_type": "stream",
     "text": [
      "class TMethod(tp.Protocol):\n",
      "    def __call__(\n",
      "        self,\n",
      "        implementation_data: pd.DataFrame,\n",
      "        **kwargs: tp.Any,\n",
      "    ) -> pd.DataFrame:\n",
      "        \"\"\"\n",
      "        Signature of functions that can be passed as method in\n",
      "        ``calculate_implementation_status``, where ``kwargs`` includes parameters\n",
      "        required to calculate the implementation status.\n",
      "\n",
      "        Expect to receive nans on ``current_value`` column of ``implementation_data``.\n",
      "        \"\"\"\n",
      "\n"
     ]
    }
   ],
   "source": [
    "from recommend.implementation_tracker._implementation_calculation import TMethod\n",
    "import inspect\n",
    "print(inspect.getsource(TMethod))"
   ]
  },
  {
   "cell_type": "markdown",
   "id": "f40c69e1-5956-49cc-a8f1-4d9a2eacd3b3",
   "metadata": {},
   "source": [
    "Let's exemplify this behavior with a function that considers that an implementation has been completed if the integer part of the ``current_value`` is the same as the ``recommended_value``."
   ]
  },
  {
   "cell_type": "code",
   "execution_count": 15,
   "id": "ebfd4c3f-b9c2-4e06-be16-f9e8ce083f2f",
   "metadata": {},
   "outputs": [
    {
     "data": {
      "text/html": [
       "<div>\n",
       "<style scoped>\n",
       "    .dataframe tbody tr th:only-of-type {\n",
       "        vertical-align: middle;\n",
       "    }\n",
       "\n",
       "    .dataframe tbody tr th {\n",
       "        vertical-align: top;\n",
       "    }\n",
       "\n",
       "    .dataframe thead th {\n",
       "        text-align: right;\n",
       "    }\n",
       "</style>\n",
       "<table border=\"1\" class=\"dataframe\">\n",
       "  <thead>\n",
       "    <tr style=\"text-align: right;\">\n",
       "      <th></th>\n",
       "      <th>tag_id</th>\n",
       "      <th>run_id</th>\n",
       "      <th>recommended_value</th>\n",
       "      <th>before_recs_value</th>\n",
       "      <th>id</th>\n",
       "      <th>run_timestamp</th>\n",
       "      <th>timestamp</th>\n",
       "      <th>current_value</th>\n",
       "      <th>implementation_perc</th>\n",
       "    </tr>\n",
       "  </thead>\n",
       "  <tbody>\n",
       "    <tr>\n",
       "      <th>0</th>\n",
       "      <td>ec60d156-eb79-41b0-a907-ccedf677da9a</td>\n",
       "      <td>1d5b3bdb-ed6e-4ec6-b961-bf00df66149e</td>\n",
       "      <td>3461.717748</td>\n",
       "      <td>3564.686460</td>\n",
       "      <td>af1ddb6a-917c-466c-a301-54f1ca7fabb1</td>\n",
       "      <td>2017-09-05 23:00:00+00:00</td>\n",
       "      <td>2017-09-06 02:00:00+00:00</td>\n",
       "      <td>3486.914953</td>\n",
       "      <td>False</td>\n",
       "    </tr>\n",
       "    <tr>\n",
       "      <th>1</th>\n",
       "      <td>4206e334-b1ca-4639-8808-e83e3c3be395</td>\n",
       "      <td>1d5b3bdb-ed6e-4ec6-b961-bf00df66149e</td>\n",
       "      <td>546.209128</td>\n",
       "      <td>630.368125</td>\n",
       "      <td>7cc8cdac-7fd4-4e24-9d99-610dcd0d73e4</td>\n",
       "      <td>2017-09-05 23:00:00+00:00</td>\n",
       "      <td>2017-09-06 02:00:00+00:00</td>\n",
       "      <td>640.858592</td>\n",
       "      <td>False</td>\n",
       "    </tr>\n",
       "    <tr>\n",
       "      <th>2</th>\n",
       "      <td>4011b8b6-c59b-4e0d-9779-21d8c190b04b</td>\n",
       "      <td>1d5b3bdb-ed6e-4ec6-b961-bf00df66149e</td>\n",
       "      <td>400.055094</td>\n",
       "      <td>410.000000</td>\n",
       "      <td>2cd1d8f8-d138-4f7e-b88a-fcc3adf9c48b</td>\n",
       "      <td>2017-09-05 23:00:00+00:00</td>\n",
       "      <td>2017-09-06 02:00:00+00:00</td>\n",
       "      <td>408.920940</td>\n",
       "      <td>False</td>\n",
       "    </tr>\n",
       "    <tr>\n",
       "      <th>3</th>\n",
       "      <td>371f1681-6cae-4dc0-abc2-5e8e6a6a116b</td>\n",
       "      <td>1d5b3bdb-ed6e-4ec6-b961-bf00df66149e</td>\n",
       "      <td>9.763356</td>\n",
       "      <td>9.564084</td>\n",
       "      <td>51fd0ccf-0dd8-4338-9af7-13a964c7e4d9</td>\n",
       "      <td>2017-09-05 23:00:00+00:00</td>\n",
       "      <td>2017-09-06 02:00:00+00:00</td>\n",
       "      <td>9.575665</td>\n",
       "      <td>True</td>\n",
       "    </tr>\n",
       "    <tr>\n",
       "      <th>4</th>\n",
       "      <td>b57d45f0-7c63-4c5b-8b34-266df9be2e26</td>\n",
       "      <td>1d5b3bdb-ed6e-4ec6-b961-bf00df66149e</td>\n",
       "      <td>1.702584</td>\n",
       "      <td>1.744561</td>\n",
       "      <td>f7337e67-45fd-4931-b08e-db7a7138230f</td>\n",
       "      <td>2017-09-05 23:00:00+00:00</td>\n",
       "      <td>2017-09-06 02:00:00+00:00</td>\n",
       "      <td>1.742618</td>\n",
       "      <td>True</td>\n",
       "    </tr>\n",
       "  </tbody>\n",
       "</table>\n",
       "</div>"
      ],
      "text/plain": [
       "                                 tag_id                                run_id  \\\n",
       "0  ec60d156-eb79-41b0-a907-ccedf677da9a  1d5b3bdb-ed6e-4ec6-b961-bf00df66149e   \n",
       "1  4206e334-b1ca-4639-8808-e83e3c3be395  1d5b3bdb-ed6e-4ec6-b961-bf00df66149e   \n",
       "2  4011b8b6-c59b-4e0d-9779-21d8c190b04b  1d5b3bdb-ed6e-4ec6-b961-bf00df66149e   \n",
       "3  371f1681-6cae-4dc0-abc2-5e8e6a6a116b  1d5b3bdb-ed6e-4ec6-b961-bf00df66149e   \n",
       "4  b57d45f0-7c63-4c5b-8b34-266df9be2e26  1d5b3bdb-ed6e-4ec6-b961-bf00df66149e   \n",
       "\n",
       "   recommended_value  before_recs_value                                    id  \\\n",
       "0        3461.717748        3564.686460  af1ddb6a-917c-466c-a301-54f1ca7fabb1   \n",
       "1         546.209128         630.368125  7cc8cdac-7fd4-4e24-9d99-610dcd0d73e4   \n",
       "2         400.055094         410.000000  2cd1d8f8-d138-4f7e-b88a-fcc3adf9c48b   \n",
       "3           9.763356           9.564084  51fd0ccf-0dd8-4338-9af7-13a964c7e4d9   \n",
       "4           1.702584           1.744561  f7337e67-45fd-4931-b08e-db7a7138230f   \n",
       "\n",
       "              run_timestamp                 timestamp  current_value  \\\n",
       "0 2017-09-05 23:00:00+00:00 2017-09-06 02:00:00+00:00    3486.914953   \n",
       "1 2017-09-05 23:00:00+00:00 2017-09-06 02:00:00+00:00     640.858592   \n",
       "2 2017-09-05 23:00:00+00:00 2017-09-06 02:00:00+00:00     408.920940   \n",
       "3 2017-09-05 23:00:00+00:00 2017-09-06 02:00:00+00:00       9.575665   \n",
       "4 2017-09-05 23:00:00+00:00 2017-09-06 02:00:00+00:00       1.742618   \n",
       "\n",
       "   implementation_perc  \n",
       "0                False  \n",
       "1                False  \n",
       "2                False  \n",
       "3                 True  \n",
       "4                 True  "
      ]
     },
     "execution_count": 15,
     "metadata": {},
     "output_type": "execute_result"
    }
   ],
   "source": [
    "def integer_implementation_method(\n",
    "    implementation_data: pd.DataFrame,\n",
    ") -> pd.DataFrame:\n",
    "    \"\"\"\n",
    "    Calculates implementation status by assessing the percentage os times that the integer part of the \n",
    "    recommended value is the same as the integer part of the current value.\n",
    "\n",
    "    Args:\n",
    "        implementation_data: data ready for implementation status calculations.\n",
    "\n",
    "    Returns:\n",
    "        Dataframe with one row per recommendation and run id with the implementation\n",
    "        status percentage\n",
    "    \"\"\"\n",
    "    implementation_data = implementation_data.copy()\n",
    "    implementation_data[\"implementation_perc\"] = (\n",
    "        np.round(implementation_data[\"current_value\"]) == np.round(implementation_data[\"recommended_value\"])\n",
    "    )\n",
    "\n",
    "    return implementation_data\n",
    "\n",
    "cust_imp = calculate_implementation_status(\n",
    "    implementation_data,\n",
    "    method = integer_implementation_method,\n",
    ")\n",
    "cust_imp.head()"
   ]
  }
 ],
 "metadata": {
  "kernelspec": {
   "display_name": "Python 3 (ipykernel)",
   "language": "python",
   "name": "python3"
  },
  "language_info": {
   "codemirror_mode": {
    "name": "ipython",
    "version": 3
   },
   "file_extension": ".py",
   "mimetype": "text/x-python",
   "name": "python",
   "nbconvert_exporter": "python",
   "pygments_lexer": "ipython3",
   "version": "3.10.13"
  }
 },
 "nbformat": 4,
 "nbformat_minor": 5
}
