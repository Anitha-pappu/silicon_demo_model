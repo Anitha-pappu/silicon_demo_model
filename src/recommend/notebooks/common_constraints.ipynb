{
 "cells": [
  {
   "cell_type": "code",
   "execution_count": 1,
   "id": "0de43a2e",
   "metadata": {},
   "outputs": [],
   "source": [
    "# Resolve path when used in a usecase project\n",
    "import sys\n",
    "from pathlib import Path\n",
    "\n",
    "sys.path.insert(0, str(Path(\"../../\").resolve()))"
   ]
  },
  {
   "cell_type": "code",
   "execution_count": 2,
   "id": "2f92b691",
   "metadata": {},
   "outputs": [],
   "source": [
    "import logging\n",
    "\n",
    "logging.basicConfig(level=logging.INFO, stream=sys.stdout)"
   ]
  },
  {
   "cell_type": "code",
   "execution_count": 3,
   "id": "01962477",
   "metadata": {},
   "outputs": [
    {
     "name": "stdout",
     "output_type": "stream",
     "text": [
      "INFO:numexpr.utils:NumExpr defaulting to 8 threads.\n",
      "Using 0.33.0 version of recommend package\n"
     ]
    }
   ],
   "source": [
    "import recommend\n",
    "print(f'Using {recommend.__version__} version of recommend package')"
   ]
  },
  {
   "cell_type": "markdown",
   "id": "99c1d43e",
   "metadata": {},
   "source": [
    "# `recommend.common_constraints` tutorial"
   ]
  },
  {
   "cell_type": "markdown",
   "id": "6ad6a27c",
   "metadata": {
    "heading_collapsed": true
   },
   "source": [
    "## `create_similar_value_penalty`\n",
    "\n",
    "Imagine you want to control 4 air flows as it it was a single parameter. I.e. all those four can be changed to a same value. This constraint can be introduces via `create_similar_value_penalty`.\n",
    "\n",
    "This function creates `n-1` penalties which align those controls, where `n` is number of controls (read implementation details below). **TL;DR:** we take a first column and align all columns against it."
   ]
  },
  {
   "cell_type": "code",
   "execution_count": 4,
   "id": "320ff7e4",
   "metadata": {
    "hidden": true
   },
   "outputs": [
    {
     "name": "stdout",
     "output_type": "stream",
     "text": [
      "Help on function create_similar_value_penalty in module recommend.common_constraints.common_penlaties.common_penalties:\n",
      "\n",
      "create_similar_value_penalty(controls: List[str], penalty_multiplier: float = 1.0) -> List[optimizer.constraint.penalty.Penalty]\n",
      "    Creates constraint that aligns two or more controls'.\n",
      "    \n",
      "    I.e. creates such penalties that make sure ``controls``\n",
      "    have similar recommended values.\n",
      "    \n",
      "    Implementation details:\n",
      "        First control from ``controls`` is considered a reference control.\n",
      "        All other controls are aligned against reference control.\n",
      "        Hence, number of penalties is ``len(controls)-1``\n",
      "        and each penalty is expressed as control \"==\" reference control.\n",
      "    \n",
      "    Example:\n",
      "        Imagine three controls \"A\", \"B\", \"C\". Then we produce two penalties:\n",
      "        \"A\" == \"B\" and \"A\" == \"C\".\n",
      "\n"
     ]
    }
   ],
   "source": [
    "from recommend.common_constraints import create_similar_value_penalty\n",
    "\n",
    "help(create_similar_value_penalty)"
   ]
  },
  {
   "cell_type": "markdown",
   "id": "9c427572",
   "metadata": {
    "hidden": true
   },
   "source": [
    "Let's check out how those penalties behave."
   ]
  },
  {
   "cell_type": "code",
   "execution_count": 5,
   "id": "60c9f635",
   "metadata": {
    "hidden": true
   },
   "outputs": [
    {
     "data": {
      "text/plain": [
       "[<optimizer.constraint.penalty.Penalty at 0x7fc861a09840>,\n",
       " <optimizer.constraint.penalty.Penalty at 0x7fc861a09570>,\n",
       " <optimizer.constraint.penalty.Penalty at 0x7fc861a08f70>]"
      ]
     },
     "execution_count": 5,
     "metadata": {},
     "output_type": "execute_result"
    }
   ],
   "source": [
    "air_flows = [\n",
    "    \"air_flow01\",\n",
    "    \"air_flow02\",\n",
    "    \"air_flow03\",\n",
    "    \"air_flow04\",\n",
    "]\n",
    "penalties = create_similar_value_penalty(controls=air_flows)\n",
    "penalties"
   ]
  },
  {
   "cell_type": "markdown",
   "id": "237da565",
   "metadata": {
    "hidden": true
   },
   "source": [
    "Now let's imagine we have three proposed sets of controls. And in first set we have all controls equal to the same. In the second set all control have set point 100 and only air_flow02 has 120. And in the third one all controls are different: 80/100/120/140."
   ]
  },
  {
   "cell_type": "code",
   "execution_count": 6,
   "id": "9811ba78",
   "metadata": {
    "hidden": true
   },
   "outputs": [
    {
     "data": {
      "text/html": [
       "<div>\n",
       "<style scoped>\n",
       "    .dataframe tbody tr th:only-of-type {\n",
       "        vertical-align: middle;\n",
       "    }\n",
       "\n",
       "    .dataframe tbody tr th {\n",
       "        vertical-align: top;\n",
       "    }\n",
       "\n",
       "    .dataframe thead th {\n",
       "        text-align: right;\n",
       "    }\n",
       "</style>\n",
       "<table border=\"1\" class=\"dataframe\">\n",
       "  <thead>\n",
       "    <tr style=\"text-align: right;\">\n",
       "      <th></th>\n",
       "      <th>air_flow01</th>\n",
       "      <th>air_flow02</th>\n",
       "      <th>air_flow03</th>\n",
       "      <th>air_flow04</th>\n",
       "    </tr>\n",
       "  </thead>\n",
       "  <tbody>\n",
       "    <tr>\n",
       "      <th>0</th>\n",
       "      <td>100</td>\n",
       "      <td>100</td>\n",
       "      <td>100</td>\n",
       "      <td>100</td>\n",
       "    </tr>\n",
       "    <tr>\n",
       "      <th>1</th>\n",
       "      <td>100</td>\n",
       "      <td>120</td>\n",
       "      <td>100</td>\n",
       "      <td>100</td>\n",
       "    </tr>\n",
       "    <tr>\n",
       "      <th>2</th>\n",
       "      <td>80</td>\n",
       "      <td>100</td>\n",
       "      <td>120</td>\n",
       "      <td>140</td>\n",
       "    </tr>\n",
       "  </tbody>\n",
       "</table>\n",
       "</div>"
      ],
      "text/plain": [
       "   air_flow01  air_flow02  air_flow03  air_flow04\n",
       "0         100         100         100         100\n",
       "1         100         120         100         100\n",
       "2          80         100         120         140"
      ]
     },
     "execution_count": 6,
     "metadata": {},
     "output_type": "execute_result"
    }
   ],
   "source": [
    "import pandas as pd\n",
    "\n",
    "proposed_controls = pd.DataFrame(\n",
    "    [\n",
    "        [100, 100, 100, 100],\n",
    "        [100, 120, 100, 100],\n",
    "        [80, 100, 120, 140],\n",
    "    ],\n",
    "    columns=air_flows,\n",
    ")\n",
    "proposed_controls"
   ]
  },
  {
   "cell_type": "markdown",
   "id": "cca03b4e",
   "metadata": {
    "hidden": true
   },
   "source": [
    "Now let's evaluate our total penalty value as it does OptimizationProblem – by applying penalties one by one.\n",
    "\n",
    "Note that we don't account for problem sense (max/min) and just want to calculate abs penalty value. The sign handling happens on the problem side"
   ]
  },
  {
   "cell_type": "code",
   "execution_count": 7,
   "id": "e16f58a3",
   "metadata": {
    "hidden": true
   },
   "outputs": [
    {
     "data": {
      "text/plain": [
       "0      0.0\n",
       "1     20.0\n",
       "2    120.0\n",
       "dtype: float64"
      ]
     },
     "execution_count": 7,
     "metadata": {},
     "output_type": "execute_result"
    }
   ],
   "source": [
    "import numpy as np\n",
    "\n",
    "total_penalty = np.zeros(len(proposed_controls))\n",
    "for penalty in penalties:\n",
    "    total_penalty += penalty(proposed_controls)\n",
    "total_penalty"
   ]
  },
  {
   "cell_type": "markdown",
   "id": "56097c2e",
   "metadata": {
    "hidden": true
   },
   "source": [
    "So we can see that for the first case we have zero penalty, for the second 20 (only second control has this difference with the rest), and the final one has the total penalty of the 120.\n",
    "\n",
    "Those differnces can be scaled by `penalty_multiplier` argument of `create_similar_value_penalty`."
   ]
  },
  {
   "cell_type": "markdown",
   "id": "2540dffe",
   "metadata": {
    "heading_collapsed": true
   },
   "source": [
    "## `create_similar_delta_penalty`\n",
    "\n",
    "Imagine you want to control 4 air flows delta. And you can can only control four at once disregarding their inital values. Meaning that initial amount of air in all three might be slightly different, but the amount you add/subtract is equally divided among four of those.\n",
    "\n",
    "So the recommendations you give for those controls must have the same delta wrt to initial controls' values.\n",
    "\n",
    "We ca constraint the solutions space by adding penalties for unequal deltas. This can be done via `create_similar_delta_penalty`. This function creates `n-1` penalties which align  controls' deltas, where `n` is number of controls (read implementation details below). **TL;DR:** we take a first column's delta and align all columns' deltas against it."
   ]
  },
  {
   "cell_type": "code",
   "execution_count": 8,
   "id": "65146167",
   "metadata": {
    "hidden": true
   },
   "outputs": [
    {
     "name": "stdout",
     "output_type": "stream",
     "text": [
      "Help on function create_similar_delta_penalty in module recommend.common_constraints.common_penlaties.common_penalties:\n",
      "\n",
      "create_similar_delta_penalty(row_to_optimise: pandas.core.frame.DataFrame, controls: List[str], penalty_multiplier: float = 1.0) -> List[optimizer.constraint.penalty.Penalty]\n",
      "    Creates constraint that aligns two or more controls' deltas.\n",
      "    \n",
      "    I.e. creates such penalties that make sure\n",
      "    ``controls`` have similar recommended delta = initial value - recommended value.\n",
      "    \n",
      "    Implementation details:\n",
      "        First control from ``controls`` is considered a reference control.\n",
      "        All deltas are aligned against reference control's delta.\n",
      "        Hence, number of penalties is ``len(controls)-1`` and each penalty\n",
      "        is expressed as control delta \"==\" reference control delta.\n",
      "    \n",
      "    Example:\n",
      "        Imagine three controls \"A\", \"B\", \"C\". Then we produce two penalties:\n",
      "        delta(\"A\") == delta(\"B\") and delta(\"A\") == delta(\"C\").\n",
      "\n"
     ]
    }
   ],
   "source": [
    "from recommend.common_constraints import create_similar_delta_penalty\n",
    "\n",
    "help(create_similar_delta_penalty)"
   ]
  },
  {
   "cell_type": "markdown",
   "id": "f33965c8",
   "metadata": {
    "hidden": true
   },
   "source": [
    "Let's check out how those penalties behave. By definition to create those, we need initial control values. Let's create the single-row dataframe (often referred to as `row_to_optimize` in `recommend` package) with those."
   ]
  },
  {
   "cell_type": "code",
   "execution_count": 9,
   "id": "e7526b3d",
   "metadata": {
    "hidden": true
   },
   "outputs": [
    {
     "data": {
      "text/html": [
       "<div>\n",
       "<style scoped>\n",
       "    .dataframe tbody tr th:only-of-type {\n",
       "        vertical-align: middle;\n",
       "    }\n",
       "\n",
       "    .dataframe tbody tr th {\n",
       "        vertical-align: top;\n",
       "    }\n",
       "\n",
       "    .dataframe thead th {\n",
       "        text-align: right;\n",
       "    }\n",
       "</style>\n",
       "<table border=\"1\" class=\"dataframe\">\n",
       "  <thead>\n",
       "    <tr style=\"text-align: right;\">\n",
       "      <th></th>\n",
       "      <th>air_flow01</th>\n",
       "      <th>air_flow02</th>\n",
       "      <th>air_flow03</th>\n",
       "      <th>air_flow04</th>\n",
       "    </tr>\n",
       "  </thead>\n",
       "  <tbody>\n",
       "    <tr>\n",
       "      <th>0</th>\n",
       "      <td>95</td>\n",
       "      <td>100</td>\n",
       "      <td>80</td>\n",
       "      <td>85</td>\n",
       "    </tr>\n",
       "  </tbody>\n",
       "</table>\n",
       "</div>"
      ],
      "text/plain": [
       "   air_flow01  air_flow02  air_flow03  air_flow04\n",
       "0          95         100          80          85"
      ]
     },
     "execution_count": 9,
     "metadata": {},
     "output_type": "execute_result"
    }
   ],
   "source": [
    "import pandas as pd\n",
    "\n",
    "initial_controls = pd.DataFrame(\n",
    "    [[95, 100, 80, 85]],\n",
    "    columns=air_flows,\n",
    ")\n",
    "initial_controls"
   ]
  },
  {
   "cell_type": "code",
   "execution_count": 10,
   "id": "569e9cfb",
   "metadata": {
    "hidden": true
   },
   "outputs": [
    {
     "data": {
      "text/plain": [
       "[<optimizer.constraint.penalty.Penalty at 0x7fc8526b8550>,\n",
       " <optimizer.constraint.penalty.Penalty at 0x7fc8526b8f40>,\n",
       " <optimizer.constraint.penalty.Penalty at 0x7fc8526b91b0>]"
      ]
     },
     "execution_count": 10,
     "metadata": {},
     "output_type": "execute_result"
    }
   ],
   "source": [
    "air_flows = [\n",
    "    \"air_flow01\",\n",
    "    \"air_flow02\",\n",
    "    \"air_flow03\",\n",
    "    \"air_flow04\",\n",
    "]\n",
    "penalties = create_similar_delta_penalty(\n",
    "    row_to_optimise=initial_controls, controls=air_flows,\n",
    ")\n",
    "penalties"
   ]
  },
  {
   "cell_type": "markdown",
   "id": "af0b2b47",
   "metadata": {
    "hidden": true
   },
   "source": [
    "Now let's imagine we have three proposed sets of controls. In first set we have all controls' deltas the same, equal to 10. In the second set all control's deltas are equal to 10 and only air_flow02 has change of 20. And in the third one all controls's deltas are different: 10, 20, 30, and 40."
   ]
  },
  {
   "cell_type": "code",
   "execution_count": 11,
   "id": "584ace91",
   "metadata": {
    "hidden": true
   },
   "outputs": [
    {
     "data": {
      "text/html": [
       "<div>\n",
       "<style scoped>\n",
       "    .dataframe tbody tr th:only-of-type {\n",
       "        vertical-align: middle;\n",
       "    }\n",
       "\n",
       "    .dataframe tbody tr th {\n",
       "        vertical-align: top;\n",
       "    }\n",
       "\n",
       "    .dataframe thead th {\n",
       "        text-align: right;\n",
       "    }\n",
       "</style>\n",
       "<table border=\"1\" class=\"dataframe\">\n",
       "  <thead>\n",
       "    <tr style=\"text-align: right;\">\n",
       "      <th></th>\n",
       "      <th>air_flow01</th>\n",
       "      <th>air_flow02</th>\n",
       "      <th>air_flow03</th>\n",
       "      <th>air_flow04</th>\n",
       "    </tr>\n",
       "  </thead>\n",
       "  <tbody>\n",
       "    <tr>\n",
       "      <th>0</th>\n",
       "      <td>105</td>\n",
       "      <td>110</td>\n",
       "      <td>90</td>\n",
       "      <td>95</td>\n",
       "    </tr>\n",
       "    <tr>\n",
       "      <th>1</th>\n",
       "      <td>105</td>\n",
       "      <td>120</td>\n",
       "      <td>90</td>\n",
       "      <td>95</td>\n",
       "    </tr>\n",
       "    <tr>\n",
       "      <th>2</th>\n",
       "      <td>105</td>\n",
       "      <td>120</td>\n",
       "      <td>110</td>\n",
       "      <td>125</td>\n",
       "    </tr>\n",
       "  </tbody>\n",
       "</table>\n",
       "</div>"
      ],
      "text/plain": [
       "   air_flow01  air_flow02  air_flow03  air_flow04\n",
       "0         105         110          90          95\n",
       "1         105         120          90          95\n",
       "2         105         120         110         125"
      ]
     },
     "execution_count": 11,
     "metadata": {},
     "output_type": "execute_result"
    }
   ],
   "source": [
    "import pandas as pd\n",
    "\n",
    "proposed_controls = pd.concat(\n",
    "    [initial_controls, initial_controls, initial_controls],\n",
    ").reset_index(drop=True)\n",
    "deltas = pd.DataFrame(\n",
    "    [\n",
    "        [10, 10, 10, 10],\n",
    "        [10, 20, 10, 10],\n",
    "        [10, 20, 30, 40],\n",
    "    ],\n",
    "    columns=air_flows,\n",
    ")\n",
    "proposed_controls += deltas\n",
    "proposed_controls"
   ]
  },
  {
   "cell_type": "markdown",
   "id": "a5fe5436",
   "metadata": {
    "hidden": true
   },
   "source": [
    "Now let's evaluate our total penalty value as it does OptimizationProblem – by applying penalties one by one.\n",
    "\n",
    "Note that we don't account for problem sense (max/min) and just want to calculate abs penalty value. The sign handling happens on the problem side"
   ]
  },
  {
   "cell_type": "code",
   "execution_count": 12,
   "id": "abbf7630",
   "metadata": {
    "hidden": true
   },
   "outputs": [
    {
     "data": {
      "text/plain": [
       "0     0.0\n",
       "1    10.0\n",
       "2    60.0\n",
       "dtype: float64"
      ]
     },
     "execution_count": 12,
     "metadata": {},
     "output_type": "execute_result"
    }
   ],
   "source": [
    "import numpy as np\n",
    "\n",
    "total_penalty = np.zeros(len(proposed_controls))\n",
    "for penalty in penalties:\n",
    "    total_penalty += penalty(proposed_controls)\n",
    "total_penalty"
   ]
  },
  {
   "cell_type": "markdown",
   "id": "594a2d6a",
   "metadata": {
    "hidden": true
   },
   "source": [
    "So we can see that for the first case we have zero penalty, for the second 10 (this is the difference of the between second control's delta and the rest), and the final set has the total penalty of the 60.\n",
    "\n",
    "Those differnces can be scaled by `penalty_multiplier` argument of `create_similar_delta_penalty`."
   ]
  },
  {
   "cell_type": "markdown",
   "id": "4a2b2ea3",
   "metadata": {
    "heading_collapsed": true
   },
   "source": [
    "## `create_discrete_grid_repair`\n",
    "\n",
    "Imagine you have a continuous solver and yet you'd like to have some parameter discrete (we don't recommend doing this as it solws down the optimizer and the preffered way of work is to choose mixed domain solver).\n",
    "\n",
    "This can be done via repair created by `create_discrete_grid_repair`."
   ]
  },
  {
   "cell_type": "code",
   "execution_count": 13,
   "id": "e2ff4f47",
   "metadata": {
    "hidden": true
   },
   "outputs": [
    {
     "name": "stdout",
     "output_type": "stream",
     "text": [
      "Help on function create_discrete_grid_repair in module recommend.common_constraints.common_repairs.discrete_grid_repair:\n",
      "\n",
      "create_discrete_grid_repair(column: str, op_min: float, op_max: float, step_size: float) -> optimizer.constraint.repair.SetRepair\n",
      "    Creates a new set-based constraint set repair for a given ``column``;\n",
      "    this repair will map column to a discrete grid [op_min, op_max]\n",
      "    with a fixed ``step_size``.\n",
      "    \n",
      "    Notes:\n",
      "        Grid is created via ``_get_linear_search_space`` with following rules:\n",
      "        * ``op_min`` and ``op_max`` is always included.\n",
      "        * the step size from ``op_max`` to previous value might differ from\n",
      "            ``step_size``\n",
      "    \n",
      "        Grid examples::\n",
      "            >>> _get_linear_search_space(2.0, 4.0, 0.5)\n",
      "            [2.0, 2.5, 3.0, 3.5, 4]\n",
      "            >>> _get_linear_search_space(2.0, 4.0, 0.7)\n",
      "            [2.0, 2.7, 3.4, 4.0]\n",
      "            >>> _get_linear_search_space(2.0, 4.0, 5.0)\n",
      "            [2.0, 4.0]\n",
      "\n"
     ]
    }
   ],
   "source": [
    "from recommend.common_constraints import create_discrete_grid_repair\n",
    "\n",
    "help(create_discrete_grid_repair)"
   ]
  },
  {
   "cell_type": "markdown",
   "id": "869300c1",
   "metadata": {
    "hidden": true
   },
   "source": [
    "In this example we'll constrain the `ore_pulp_density` value to be discrete from 50 to 100 with a step size of 10.\n",
    "\n",
    "This function creates a repair the control we pass with a given restrictions on the grid,  let'stry it out."
   ]
  },
  {
   "cell_type": "code",
   "execution_count": 14,
   "id": "0e76111c",
   "metadata": {
    "hidden": true
   },
   "outputs": [
    {
     "data": {
      "text/plain": [
       "<optimizer.constraint.repair.SetRepair at 0x7fc8526b9db0>"
      ]
     },
     "execution_count": 14,
     "metadata": {},
     "output_type": "execute_result"
    }
   ],
   "source": [
    "grid_repair = create_discrete_grid_repair(\n",
    "    \"ore_pulp_ph\", op_min=50, op_max=100, step_size=10,\n",
    ")\n",
    "grid_repair"
   ]
  },
  {
   "cell_type": "markdown",
   "id": "36d5746e",
   "metadata": {
    "hidden": true
   },
   "source": [
    "Now let's create a row with the ph level that is lower than lower bound, higher than upper bound, and in between the grid: closer to the left edge and to the right edge."
   ]
  },
  {
   "cell_type": "code",
   "execution_count": 15,
   "id": "0daed519",
   "metadata": {
    "hidden": true
   },
   "outputs": [
    {
     "data": {
      "text/html": [
       "<div>\n",
       "<style scoped>\n",
       "    .dataframe tbody tr th:only-of-type {\n",
       "        vertical-align: middle;\n",
       "    }\n",
       "\n",
       "    .dataframe tbody tr th {\n",
       "        vertical-align: top;\n",
       "    }\n",
       "\n",
       "    .dataframe thead th {\n",
       "        text-align: right;\n",
       "    }\n",
       "</style>\n",
       "<table border=\"1\" class=\"dataframe\">\n",
       "  <thead>\n",
       "    <tr style=\"text-align: right;\">\n",
       "      <th></th>\n",
       "      <th>ore_pulp_ph</th>\n",
       "    </tr>\n",
       "  </thead>\n",
       "  <tbody>\n",
       "    <tr>\n",
       "      <th>0</th>\n",
       "      <td>40</td>\n",
       "    </tr>\n",
       "    <tr>\n",
       "      <th>1</th>\n",
       "      <td>110</td>\n",
       "    </tr>\n",
       "    <tr>\n",
       "      <th>2</th>\n",
       "      <td>53</td>\n",
       "    </tr>\n",
       "    <tr>\n",
       "      <th>3</th>\n",
       "      <td>57</td>\n",
       "    </tr>\n",
       "  </tbody>\n",
       "</table>\n",
       "</div>"
      ],
      "text/plain": [
       "   ore_pulp_ph\n",
       "0           40\n",
       "1          110\n",
       "2           53\n",
       "3           57"
      ]
     },
     "execution_count": 15,
     "metadata": {},
     "output_type": "execute_result"
    }
   ],
   "source": [
    "proposed_controls = pd.DataFrame(\n",
    "    {\"ore_pulp_ph\": [40, 110, 53, 57]},\n",
    ")\n",
    "proposed_controls"
   ]
  },
  {
   "cell_type": "markdown",
   "id": "b3f80c37",
   "metadata": {
    "hidden": true
   },
   "source": [
    "You can see the repair works as intended fixing out of bounds values to bounds (first and second row), and out of the grid to the closes grid value 53 -> 55, and 57 -> 60."
   ]
  },
  {
   "cell_type": "code",
   "execution_count": 16,
   "id": "4e20b0a7",
   "metadata": {
    "hidden": true
   },
   "outputs": [
    {
     "data": {
      "text/html": [
       "<div>\n",
       "<style scoped>\n",
       "    .dataframe tbody tr th:only-of-type {\n",
       "        vertical-align: middle;\n",
       "    }\n",
       "\n",
       "    .dataframe tbody tr th {\n",
       "        vertical-align: top;\n",
       "    }\n",
       "\n",
       "    .dataframe thead th {\n",
       "        text-align: right;\n",
       "    }\n",
       "</style>\n",
       "<table border=\"1\" class=\"dataframe\">\n",
       "  <thead>\n",
       "    <tr style=\"text-align: right;\">\n",
       "      <th></th>\n",
       "      <th>ore_pulp_ph</th>\n",
       "    </tr>\n",
       "  </thead>\n",
       "  <tbody>\n",
       "    <tr>\n",
       "      <th>0</th>\n",
       "      <td>50</td>\n",
       "    </tr>\n",
       "    <tr>\n",
       "      <th>1</th>\n",
       "      <td>100</td>\n",
       "    </tr>\n",
       "    <tr>\n",
       "      <th>2</th>\n",
       "      <td>50</td>\n",
       "    </tr>\n",
       "    <tr>\n",
       "      <th>3</th>\n",
       "      <td>60</td>\n",
       "    </tr>\n",
       "  </tbody>\n",
       "</table>\n",
       "</div>"
      ],
      "text/plain": [
       "   ore_pulp_ph\n",
       "0           50\n",
       "1          100\n",
       "2           50\n",
       "3           60"
      ]
     },
     "execution_count": 16,
     "metadata": {},
     "output_type": "execute_result"
    }
   ],
   "source": [
    "grid_repair(proposed_controls)"
   ]
  },
  {
   "cell_type": "markdown",
   "id": "53b013fd",
   "metadata": {
    "heading_collapsed": true
   },
   "source": [
    "## `create_repairs_for_discrete_grid_controls`\n",
    "\n",
    "The same (refer to the `create_discrete_grid_repair` section) can be done to the set of controls. To do that you have to provide `ControlsConfig` (with configs for lower/upper bounds and step size) and names of the controls you'd like to constraint."
   ]
  },
  {
   "cell_type": "code",
   "execution_count": 17,
   "id": "02f99fd5",
   "metadata": {
    "hidden": true
   },
   "outputs": [
    {
     "name": "stdout",
     "output_type": "stream",
     "text": [
      "Help on function create_repairs_for_discrete_grid_controls in module recommend.common_constraints.common_repairs.discrete_grid_repair:\n",
      "\n",
      "create_repairs_for_discrete_grid_controls(controls: List[str], controlled_parameters_config: recommend.controlled_parameters.config.ControlledParametersConfig) -> List[optimizer.constraint.repair.SetRepair]\n",
      "    Generate repair for each control in ``controls`` that will map ``control``\n",
      "    to a discrete grid using ``controlled_parameters_config``.\n",
      "    \n",
      "    Note: the repair will be returned only for those controlled parameters\n",
      "    that have notnull step size in ``controlled_parameters_config``.\n",
      "    \n",
      "    Returns:\n",
      "        list of repairs, one for reach control\n",
      "        that has a specified step size in its config\n",
      "\n"
     ]
    }
   ],
   "source": [
    "from recommend.common_constraints import create_repairs_for_discrete_grid_controls\n",
    "help(create_repairs_for_discrete_grid_controls)"
   ]
  },
  {
   "cell_type": "code",
   "execution_count": 18,
   "id": "7b50f503",
   "metadata": {
    "hidden": true
   },
   "outputs": [
    {
     "data": {
      "text/plain": [
       "[<optimizer.constraint.repair.SetRepair at 0x7fc8526f42b0>,\n",
       " <optimizer.constraint.repair.SetRepair at 0x7fc8526f43d0>]"
      ]
     },
     "execution_count": 18,
     "metadata": {},
     "output_type": "execute_result"
    }
   ],
   "source": [
    "from recommend import ControlledParametersConfig\n",
    "\n",
    "controls_config = ControlledParametersConfig([\n",
    "    {\n",
    "        \"name\": \"ore_pulp_ph\",\n",
    "        \"op_min\": 10,\n",
    "        \"op_max\": 100,\n",
    "        \"step_size\": 30,\n",
    "    },\n",
    "    {\n",
    "        \"name\": \"ore_pulp_density\",\n",
    "        \"op_min\": 80,\n",
    "        \"op_max\": 90,\n",
    "        \"step_size\": 2,\n",
    "    },\n",
    "])\n",
    "create_repairs_for_discrete_grid_controls(\n",
    "    [\"ore_pulp_ph\", \"ore_pulp_density\"], controls_config,\n",
    ")"
   ]
  }
 ],
 "metadata": {
  "kernelspec": {
   "display_name": "Python [conda env:optimus_env]",
   "language": "python",
   "name": "conda-env-optimus_env-py"
  },
  "language_info": {
   "codemirror_mode": {
    "name": "ipython",
    "version": 3
   },
   "file_extension": ".py",
   "mimetype": "text/x-python",
   "name": "python",
   "nbconvert_exporter": "python",
   "pygments_lexer": "ipython3",
   "version": "3.10.13"
  },
  "toc": {
   "base_numbering": 1,
   "nav_menu": {},
   "number_sections": false,
   "sideBar": true,
   "skip_h1_title": true,
   "title_cell": "Table of Contents",
   "title_sidebar": "Contents",
   "toc_cell": false,
   "toc_position": {
    "height": "calc(100% - 180px)",
    "left": "10px",
    "top": "150px",
    "width": "242.078812px"
   },
   "toc_section_display": true,
   "toc_window_display": true
  },
  "varInspector": {
   "cols": {
    "lenName": 16,
    "lenType": 16,
    "lenVar": 40
   },
   "kernels_config": {
    "python": {
     "delete_cmd_postfix": "",
     "delete_cmd_prefix": "del ",
     "library": "var_list.py",
     "varRefreshCmd": "print(var_dic_list())"
    },
    "r": {
     "delete_cmd_postfix": ") ",
     "delete_cmd_prefix": "rm(",
     "library": "var_list.r",
     "varRefreshCmd": "cat(var_dic_list()) "
    }
   },
   "types_to_exclude": [
    "module",
    "function",
    "builtin_function_or_method",
    "instance",
    "_Feature"
   ],
   "window_display": false
  },
  "vscode": {
   "interpreter": {
    "hash": "fafc7eee7de150c8a427b31921af63c0c3d0a2f414af683a5e82b516415abf3a"
   }
  }
 },
 "nbformat": 4,
 "nbformat_minor": 5
}
