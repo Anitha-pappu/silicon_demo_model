{
 "cells": [
  {
   "cell_type": "code",
   "execution_count": 2,
   "id": "dd934b30",
   "metadata": {
    "ExecuteTime": {
     "end_time": "2023-11-14T16:13:54.005062Z",
     "start_time": "2023-11-14T16:13:54.002063Z"
    }
   },
   "outputs": [],
   "source": [
    "# Resolve path when used in a usecase project\n",
    "import sys\n",
    "from pathlib import Path\n",
    "\n",
    "sys.path.insert(0, str(Path(\"../../\").resolve()))"
   ]
  },
  {
   "cell_type": "code",
   "execution_count": 2,
   "id": "4fb30858",
   "metadata": {},
   "outputs": [
    {
     "name": "stdout",
     "output_type": "stream",
     "text": [
      "Using 0.25.3 version of recommend package\n"
     ]
    }
   ],
   "source": [
    "import recommend\n",
    "print(f'Using {recommend.__version__} version of recommend package')"
   ]
  },
  {
   "cell_type": "markdown",
   "id": "9d55c5f7",
   "metadata": {},
   "source": [
    "# Solutions Overview\n",
    "\n",
    "`recommend` package provides a function to create useful charts that allow users to analyze and report insights derived from recommendations$^1$.\n",
    "\n",
    "$^1$By recommendations we mean an instance of `recommend.Solutons` (the output of `recommend.optimize` function)."
   ]
  },
  {
   "cell_type": "markdown",
   "id": "931797ed",
   "metadata": {},
   "source": [
    "## `get_solutions_overview` \n",
    "\n",
    "**What it is**\n",
    "\n",
    "Mixed charts used for `recommend`'s bulk optimization `Solutions` overview:"
   ]
  },
  {
   "cell_type": "code",
   "execution_count": 3,
   "id": "bf85155a",
   "metadata": {
    "scrolled": false
   },
   "outputs": [
    {
     "name": "stdout",
     "output_type": "stream",
     "text": [
      "\n",
      "    Generates multi-level dict of figures for the Solutions Overview.\n",
      "\n",
      "    There are 7 main sections in this report:\n",
      "        1. Overall summary (what's the overall uplift;\n",
      "           how many rows were optimized; objective before & after comparison)\n",
      "        2. [WIP] Recs availability (what are the reasons our rows aren't optimized)\n",
      "        3. Constraints analysis (constraints timeline,\n",
      "           summary table by index and by constraint)\n",
      "        4. Data insights (includes basic EDA + solutions' data vs reference comparison)\n",
      "        5. [WIP] Model insights (compare model performance on two datasets\n",
      "           used for optimization and for training)\n",
      "        6. Controls analysis (compare controls on before & after the optimization)\n",
      "\n",
      "\n",
      "    This report can be viewed in the notebook or\n",
      "    used in report generation to produce standalone report file.\n",
      "\n",
      "    Args:\n",
      "        solutions: results of optimization (``recommend.optimize`` call)\n",
      "        actual_target_column: actual target values\n",
      "            (i.e. true, non-modelled value of objective seen at this step)\n",
      "        timestamp_column:\n",
      "        objective_units: is shown in the summary section\n",
      "        controls_config: list of controls' parameters that is parsed into\n",
      "            list[ControlledParameter]\n",
      "        reference_data: dataset used for models training;\n",
      "            if provided, used as a reference for comparing missing values,\n",
      "            controls from ``controls_config`` and\n",
      "            ``actual_target_column`` distributions\n",
      "        cluster_column: input data cluster column;\n",
      "            if provided, adds \"Cluster Analysis\" chart to \"Data Insights\" section\n",
      "\n",
      "    Returns:\n",
      "        Dictionary of recommendations analysis figures\n",
      "    \n"
     ]
    }
   ],
   "source": [
    "from recommend.report import get_solutions_overview\n",
    "print(get_solutions_overview.__doc__)"
   ]
  },
  {
   "cell_type": "markdown",
   "id": "5f548265",
   "metadata": {},
   "source": [
    "### Example: Output quantity optimization overview\n",
    "\n",
    "Suppose we have conducted an optimization of mill's output quantity ([see recommend tutorial for details](TODO)). In this example we show how to generate a comprehensive optimization's solutions' overview report using the `get_solutions_overview` function from `recommend.report` module.\n",
    "\n",
    "\n",
    "<div class=\"alert alert-info\">\n",
    "\n",
    "<b>Note:</b>\n",
    "\n",
    "The function assumes the user to have obtained optimization results an object from the `recommend.optimize` function. We will provide some mock artifacts as inputs to the function. Details on each artifact can be found in their docstrings.\n",
    "    \n",
    "</div>"
   ]
  },
  {
   "cell_type": "code",
   "execution_count": 4,
   "id": "70c1d494",
   "metadata": {},
   "outputs": [],
   "source": [
    "from recommend.datasets import (\n",
    "    get_sample_solutions,\n",
    "    get_sample_controlled_parameters_raw_config,\n",
    "    get_sample_recommend_input_data,\n",
    ")\n",
    "\n",
    "\n",
    "solutions = get_sample_solutions(include_mock_penalties=True)\n",
    "controls_config = get_sample_controlled_parameters_raw_config()\n",
    "train_data = get_sample_recommend_input_data()\n",
    "figs = get_solutions_overview(\n",
    "    solutions,\n",
    "    actual_target_column=\"silica_conc\",\n",
    "    objective_units=\"%\",\n",
    "    controls_config=controls_config,\n",
    "    reference_data=train_data,\n",
    "    cluster_column=\"silica_conc_cluster\",\n",
    ")"
   ]
  },
  {
   "cell_type": "markdown",
   "id": "7aca951e",
   "metadata": {},
   "source": [
    "The function outputs a nested dictionary of charts, which includes a full report. The structure of the report looks like this:\n",
    "\n",
    "```python\n",
    "\n",
    "figs = {\n",
    "    \"Results Overview\": {\n",
    "        \"Short Summary\": fig,\n",
    "        \"Objective Comparison\": fig,\n",
    "        \"Actual Target vs. Optimization Uplift\": fig,\n",
    "    },\n",
    "    \"Controls Analysis\": {\n",
    "        \"first_control\": fig,\n",
    "        \"second_control\": fig,\n",
    "        ...\n",
    "    },\n",
    "```"
   ]
  },
  {
   "cell_type": "markdown",
   "id": "7d2f69e5",
   "metadata": {},
   "source": [
    "<div class=\"alert alert-info\">\n",
    "<b>Uncomment the code below to render HTML</b>\n",
    "\n",
    "Once `oai.reporting` is installed `generate_html_report` can easily turn that into a nice standalone HTML report based on this nested structure.\n",
    "\n",
    "</div>"
   ]
  },
  {
   "cell_type": "code",
   "execution_count": 5,
   "id": "58113a3b",
   "metadata": {},
   "outputs": [],
   "source": [
    "# from reporting.rendering import generate_html_report\n",
    "\n",
    "\n",
    "# generate_html_report(\n",
    "#     report_structure=figs,\n",
    "#     render_path=\"./counterfactual_analysis_report.html\",\n",
    "#     report_meta_data=dict(title=\"Counterfactual Analysis Report\"),\n",
    "# )"
   ]
  },
  {
   "cell_type": "code",
   "execution_count": 6,
   "id": "9c6490e9",
   "metadata": {},
   "outputs": [],
   "source": [
    "# !open ./counterfactual_analysis_report.html"
   ]
  },
  {
   "cell_type": "markdown",
   "id": "d488d03b",
   "metadata": {},
   "source": [
    "<div class=\"alert alert-info\">\n",
    "<b>Uncomment code below to see widget</b>\n",
    "\n",
    "In case you are want to quickly review this nested dictionary of figures, you can use `create_plot_demonstration_widget`\n",
    "\n",
    "</div>"
   ]
  },
  {
   "cell_type": "code",
   "execution_count": 7,
   "id": "7e270585",
   "metadata": {},
   "outputs": [],
   "source": [
    "# from reporting.rendering.interactive import create_plot_demonstration_widget\n",
    "\n",
    "# create_plot_demonstration_widget(figs)"
   ]
  }
 ],
 "metadata": {
  "kernelspec": {
   "display_name": "Python 3 (ipykernel)",
   "language": "python",
   "name": "python3"
  },
  "language_info": {
   "codemirror_mode": {
    "name": "ipython",
    "version": 3
   },
   "file_extension": ".py",
   "mimetype": "text/x-python",
   "name": "python",
   "nbconvert_exporter": "python",
   "pygments_lexer": "ipython3",
   "version": "3.10.13"
  },
  "toc": {
   "base_numbering": 1,
   "nav_menu": {},
   "number_sections": false,
   "sideBar": true,
   "skip_h1_title": false,
   "title_cell": "Table of Contents",
   "title_sidebar": "Contents",
   "toc_cell": false,
   "toc_position": {
    "height": "calc(100% - 180px)",
    "left": "10px",
    "top": "150px",
    "width": "241.739136px"
   },
   "toc_section_display": true,
   "toc_window_display": true
  },
  "widgets": {
   "application/vnd.jupyter.widget-state+json": {
    "state": {
     "03cdaf681f3344cf8c27c263884ad0d4": {
      "model_module": "@jupyter-widgets/controls",
      "model_module_version": "2.0.0",
      "model_name": "DropdownModel",
      "state": {
       "_model_module_version": "2.0.0",
       "_options_labels": [
        "model_summary",
        "sklearn_model",
        "performance_train_metrics",
        "performance_test_metrics",
        "feature_importance_plot",
        "partial_dependence_plot",
        "train_timeline",
        "test_timeline",
        "model_actual_vs_predicted",
        "model_actual_vs_residual"
       ],
       "_view_module_version": "2.0.0",
       "description": "plot_name",
       "description_allow_html": false,
       "index": 0,
       "layout": "IPY_MODEL_c812a390d1bc48cda25ea2e9af466257",
       "style": "IPY_MODEL_c2af242ec11a48e49cb25c30b841e46e",
       "tabbable": null,
       "tooltip": null
      }
     },
     "0d32eb2eb4ca4127b49ef610294a8d6f": {
      "model_module": "@jupyter-widgets/base",
      "model_module_version": "2.0.0",
      "model_name": "LayoutModel",
      "state": {
       "_model_module_version": "2.0.0",
       "_view_module_version": "2.0.0",
       "border_bottom": null,
       "border_left": null,
       "border_right": null,
       "border_top": null
      }
     },
     "5e61e93702094df88d79a88f01305d5f": {
      "model_module": "@jupyter-widgets/base",
      "model_module_version": "2.0.0",
      "model_name": "LayoutModel",
      "state": {
       "_model_module_version": "2.0.0",
       "_view_module_version": "2.0.0",
       "border_bottom": null,
       "border_left": null,
       "border_right": null,
       "border_top": null
      }
     },
     "6514b2ad5b324c18bb9ef95d793db3a5": {
      "model_module": "@jupyter-widgets/controls",
      "model_module_version": "2.0.0",
      "model_name": "DescriptionStyleModel",
      "state": {
       "_model_module_version": "2.0.0",
       "_view_module_version": "2.0.0",
       "description_width": ""
      }
     },
     "6e2febb027614425a9d15941c365841d": {
      "model_module": "@jupyter-widgets/output",
      "model_module_version": "1.0.0",
      "model_name": "OutputModel",
      "state": {
       "layout": "IPY_MODEL_5e61e93702094df88d79a88f01305d5f",
       "outputs": [
        {
         "data": {
          "application/vnd.plotly.v1+json": {
           "config": {
            "plotlyServerURL": "https://plot.ly"
           },
           "data": [
            {
             "cells": {
              "align": "left",
              "fill": {
               "color": "white"
              },
              "font": {
               "color": "black",
               "size": 11
              },
              "line": {
               "color": "darkslategray"
              },
              "values": [
               [
                "# data points - train set",
                "# features - train set",
                "test MAE",
                "test RMSE",
                "test R2",
                "train R2",
                "model type"
               ],
               [
                3397,
                9,
                103.10418823529412,
                146.27857001585144,
                0.7388788815346112,
                0.9895153125428412,
                "SklearnPipeline"
               ]
              ]
             },
             "header": {
              "align": "left",
              "fill": {
               "color": "white"
              },
              "font": {
               "color": "black",
               "size": 11
              },
              "line": {
               "color": "darkslategray"
              },
              "values": [
               "<b>index</b>",
               "<b></b>"
              ]
             },
             "type": "table"
            }
           ],
           "layout": {
            "template": {
             "data": {
              "bar": [
               {
                "error_x": {
                 "color": "#2a3f5f"
                },
                "error_y": {
                 "color": "#2a3f5f"
                },
                "marker": {
                 "line": {
                  "color": "#E5ECF6",
                  "width": 0.5
                 },
                 "pattern": {
                  "fillmode": "overlay",
                  "size": 10,
                  "solidity": 0.2
                 }
                },
                "type": "bar"
               }
              ],
              "barpolar": [
               {
                "marker": {
                 "line": {
                  "color": "#E5ECF6",
                  "width": 0.5
                 },
                 "pattern": {
                  "fillmode": "overlay",
                  "size": 10,
                  "solidity": 0.2
                 }
                },
                "type": "barpolar"
               }
              ],
              "carpet": [
               {
                "aaxis": {
                 "endlinecolor": "#2a3f5f",
                 "gridcolor": "white",
                 "linecolor": "white",
                 "minorgridcolor": "white",
                 "startlinecolor": "#2a3f5f"
                },
                "baxis": {
                 "endlinecolor": "#2a3f5f",
                 "gridcolor": "white",
                 "linecolor": "white",
                 "minorgridcolor": "white",
                 "startlinecolor": "#2a3f5f"
                },
                "type": "carpet"
               }
              ],
              "choropleth": [
               {
                "colorbar": {
                 "outlinewidth": 0,
                 "ticks": ""
                },
                "type": "choropleth"
               }
              ],
              "contour": [
               {
                "colorbar": {
                 "outlinewidth": 0,
                 "ticks": ""
                },
                "colorscale": [
                 [
                  0,
                  "#0d0887"
                 ],
                 [
                  0.1111111111111111,
                  "#46039f"
                 ],
                 [
                  0.2222222222222222,
                  "#7201a8"
                 ],
                 [
                  0.3333333333333333,
                  "#9c179e"
                 ],
                 [
                  0.4444444444444444,
                  "#bd3786"
                 ],
                 [
                  0.5555555555555556,
                  "#d8576b"
                 ],
                 [
                  0.6666666666666666,
                  "#ed7953"
                 ],
                 [
                  0.7777777777777778,
                  "#fb9f3a"
                 ],
                 [
                  0.8888888888888888,
                  "#fdca26"
                 ],
                 [
                  1,
                  "#f0f921"
                 ]
                ],
                "type": "contour"
               }
              ],
              "contourcarpet": [
               {
                "colorbar": {
                 "outlinewidth": 0,
                 "ticks": ""
                },
                "type": "contourcarpet"
               }
              ],
              "heatmap": [
               {
                "colorbar": {
                 "outlinewidth": 0,
                 "ticks": ""
                },
                "colorscale": [
                 [
                  0,
                  "#0d0887"
                 ],
                 [
                  0.1111111111111111,
                  "#46039f"
                 ],
                 [
                  0.2222222222222222,
                  "#7201a8"
                 ],
                 [
                  0.3333333333333333,
                  "#9c179e"
                 ],
                 [
                  0.4444444444444444,
                  "#bd3786"
                 ],
                 [
                  0.5555555555555556,
                  "#d8576b"
                 ],
                 [
                  0.6666666666666666,
                  "#ed7953"
                 ],
                 [
                  0.7777777777777778,
                  "#fb9f3a"
                 ],
                 [
                  0.8888888888888888,
                  "#fdca26"
                 ],
                 [
                  1,
                  "#f0f921"
                 ]
                ],
                "type": "heatmap"
               }
              ],
              "heatmapgl": [
               {
                "colorbar": {
                 "outlinewidth": 0,
                 "ticks": ""
                },
                "colorscale": [
                 [
                  0,
                  "#0d0887"
                 ],
                 [
                  0.1111111111111111,
                  "#46039f"
                 ],
                 [
                  0.2222222222222222,
                  "#7201a8"
                 ],
                 [
                  0.3333333333333333,
                  "#9c179e"
                 ],
                 [
                  0.4444444444444444,
                  "#bd3786"
                 ],
                 [
                  0.5555555555555556,
                  "#d8576b"
                 ],
                 [
                  0.6666666666666666,
                  "#ed7953"
                 ],
                 [
                  0.7777777777777778,
                  "#fb9f3a"
                 ],
                 [
                  0.8888888888888888,
                  "#fdca26"
                 ],
                 [
                  1,
                  "#f0f921"
                 ]
                ],
                "type": "heatmapgl"
               }
              ],
              "histogram": [
               {
                "marker": {
                 "pattern": {
                  "fillmode": "overlay",
                  "size": 10,
                  "solidity": 0.2
                 }
                },
                "type": "histogram"
               }
              ],
              "histogram2d": [
               {
                "colorbar": {
                 "outlinewidth": 0,
                 "ticks": ""
                },
                "colorscale": [
                 [
                  0,
                  "#0d0887"
                 ],
                 [
                  0.1111111111111111,
                  "#46039f"
                 ],
                 [
                  0.2222222222222222,
                  "#7201a8"
                 ],
                 [
                  0.3333333333333333,
                  "#9c179e"
                 ],
                 [
                  0.4444444444444444,
                  "#bd3786"
                 ],
                 [
                  0.5555555555555556,
                  "#d8576b"
                 ],
                 [
                  0.6666666666666666,
                  "#ed7953"
                 ],
                 [
                  0.7777777777777778,
                  "#fb9f3a"
                 ],
                 [
                  0.8888888888888888,
                  "#fdca26"
                 ],
                 [
                  1,
                  "#f0f921"
                 ]
                ],
                "type": "histogram2d"
               }
              ],
              "histogram2dcontour": [
               {
                "colorbar": {
                 "outlinewidth": 0,
                 "ticks": ""
                },
                "colorscale": [
                 [
                  0,
                  "#0d0887"
                 ],
                 [
                  0.1111111111111111,
                  "#46039f"
                 ],
                 [
                  0.2222222222222222,
                  "#7201a8"
                 ],
                 [
                  0.3333333333333333,
                  "#9c179e"
                 ],
                 [
                  0.4444444444444444,
                  "#bd3786"
                 ],
                 [
                  0.5555555555555556,
                  "#d8576b"
                 ],
                 [
                  0.6666666666666666,
                  "#ed7953"
                 ],
                 [
                  0.7777777777777778,
                  "#fb9f3a"
                 ],
                 [
                  0.8888888888888888,
                  "#fdca26"
                 ],
                 [
                  1,
                  "#f0f921"
                 ]
                ],
                "type": "histogram2dcontour"
               }
              ],
              "mesh3d": [
               {
                "colorbar": {
                 "outlinewidth": 0,
                 "ticks": ""
                },
                "type": "mesh3d"
               }
              ],
              "parcoords": [
               {
                "line": {
                 "colorbar": {
                  "outlinewidth": 0,
                  "ticks": ""
                 }
                },
                "type": "parcoords"
               }
              ],
              "pie": [
               {
                "automargin": true,
                "type": "pie"
               }
              ],
              "scatter": [
               {
                "fillpattern": {
                 "fillmode": "overlay",
                 "size": 10,
                 "solidity": 0.2
                },
                "type": "scatter"
               }
              ],
              "scatter3d": [
               {
                "line": {
                 "colorbar": {
                  "outlinewidth": 0,
                  "ticks": ""
                 }
                },
                "marker": {
                 "colorbar": {
                  "outlinewidth": 0,
                  "ticks": ""
                 }
                },
                "type": "scatter3d"
               }
              ],
              "scattercarpet": [
               {
                "marker": {
                 "colorbar": {
                  "outlinewidth": 0,
                  "ticks": ""
                 }
                },
                "type": "scattercarpet"
               }
              ],
              "scattergeo": [
               {
                "marker": {
                 "colorbar": {
                  "outlinewidth": 0,
                  "ticks": ""
                 }
                },
                "type": "scattergeo"
               }
              ],
              "scattergl": [
               {
                "marker": {
                 "colorbar": {
                  "outlinewidth": 0,
                  "ticks": ""
                 }
                },
                "type": "scattergl"
               }
              ],
              "scattermapbox": [
               {
                "marker": {
                 "colorbar": {
                  "outlinewidth": 0,
                  "ticks": ""
                 }
                },
                "type": "scattermapbox"
               }
              ],
              "scatterpolar": [
               {
                "marker": {
                 "colorbar": {
                  "outlinewidth": 0,
                  "ticks": ""
                 }
                },
                "type": "scatterpolar"
               }
              ],
              "scatterpolargl": [
               {
                "marker": {
                 "colorbar": {
                  "outlinewidth": 0,
                  "ticks": ""
                 }
                },
                "type": "scatterpolargl"
               }
              ],
              "scatterternary": [
               {
                "marker": {
                 "colorbar": {
                  "outlinewidth": 0,
                  "ticks": ""
                 }
                },
                "type": "scatterternary"
               }
              ],
              "surface": [
               {
                "colorbar": {
                 "outlinewidth": 0,
                 "ticks": ""
                },
                "colorscale": [
                 [
                  0,
                  "#0d0887"
                 ],
                 [
                  0.1111111111111111,
                  "#46039f"
                 ],
                 [
                  0.2222222222222222,
                  "#7201a8"
                 ],
                 [
                  0.3333333333333333,
                  "#9c179e"
                 ],
                 [
                  0.4444444444444444,
                  "#bd3786"
                 ],
                 [
                  0.5555555555555556,
                  "#d8576b"
                 ],
                 [
                  0.6666666666666666,
                  "#ed7953"
                 ],
                 [
                  0.7777777777777778,
                  "#fb9f3a"
                 ],
                 [
                  0.8888888888888888,
                  "#fdca26"
                 ],
                 [
                  1,
                  "#f0f921"
                 ]
                ],
                "type": "surface"
               }
              ],
              "table": [
               {
                "cells": {
                 "fill": {
                  "color": "#EBF0F8"
                 },
                 "line": {
                  "color": "white"
                 }
                },
                "header": {
                 "fill": {
                  "color": "#C8D4E3"
                 },
                 "line": {
                  "color": "white"
                 }
                },
                "type": "table"
               }
              ]
             },
             "layout": {
              "annotationdefaults": {
               "arrowcolor": "#2a3f5f",
               "arrowhead": 0,
               "arrowwidth": 1
              },
              "autotypenumbers": "strict",
              "coloraxis": {
               "colorbar": {
                "outlinewidth": 0,
                "ticks": ""
               }
              },
              "colorscale": {
               "diverging": [
                [
                 0,
                 "#8e0152"
                ],
                [
                 0.1,
                 "#c51b7d"
                ],
                [
                 0.2,
                 "#de77ae"
                ],
                [
                 0.3,
                 "#f1b6da"
                ],
                [
                 0.4,
                 "#fde0ef"
                ],
                [
                 0.5,
                 "#f7f7f7"
                ],
                [
                 0.6,
                 "#e6f5d0"
                ],
                [
                 0.7,
                 "#b8e186"
                ],
                [
                 0.8,
                 "#7fbc41"
                ],
                [
                 0.9,
                 "#4d9221"
                ],
                [
                 1,
                 "#276419"
                ]
               ],
               "sequential": [
                [
                 0,
                 "#0d0887"
                ],
                [
                 0.1111111111111111,
                 "#46039f"
                ],
                [
                 0.2222222222222222,
                 "#7201a8"
                ],
                [
                 0.3333333333333333,
                 "#9c179e"
                ],
                [
                 0.4444444444444444,
                 "#bd3786"
                ],
                [
                 0.5555555555555556,
                 "#d8576b"
                ],
                [
                 0.6666666666666666,
                 "#ed7953"
                ],
                [
                 0.7777777777777778,
                 "#fb9f3a"
                ],
                [
                 0.8888888888888888,
                 "#fdca26"
                ],
                [
                 1,
                 "#f0f921"
                ]
               ],
               "sequentialminus": [
                [
                 0,
                 "#0d0887"
                ],
                [
                 0.1111111111111111,
                 "#46039f"
                ],
                [
                 0.2222222222222222,
                 "#7201a8"
                ],
                [
                 0.3333333333333333,
                 "#9c179e"
                ],
                [
                 0.4444444444444444,
                 "#bd3786"
                ],
                [
                 0.5555555555555556,
                 "#d8576b"
                ],
                [
                 0.6666666666666666,
                 "#ed7953"
                ],
                [
                 0.7777777777777778,
                 "#fb9f3a"
                ],
                [
                 0.8888888888888888,
                 "#fdca26"
                ],
                [
                 1,
                 "#f0f921"
                ]
               ]
              },
              "colorway": [
               "#636efa",
               "#EF553B",
               "#00cc96",
               "#ab63fa",
               "#FFA15A",
               "#19d3f3",
               "#FF6692",
               "#B6E880",
               "#FF97FF",
               "#FECB52"
              ],
              "font": {
               "color": "#2a3f5f"
              },
              "geo": {
               "bgcolor": "white",
               "lakecolor": "white",
               "landcolor": "#E5ECF6",
               "showlakes": true,
               "showland": true,
               "subunitcolor": "white"
              },
              "hoverlabel": {
               "align": "left"
              },
              "hovermode": "closest",
              "mapbox": {
               "style": "light"
              },
              "paper_bgcolor": "white",
              "plot_bgcolor": "#E5ECF6",
              "polar": {
               "angularaxis": {
                "gridcolor": "white",
                "linecolor": "white",
                "ticks": ""
               },
               "bgcolor": "#E5ECF6",
               "radialaxis": {
                "gridcolor": "white",
                "linecolor": "white",
                "ticks": ""
               }
              },
              "scene": {
               "xaxis": {
                "backgroundcolor": "#E5ECF6",
                "gridcolor": "white",
                "gridwidth": 2,
                "linecolor": "white",
                "showbackground": true,
                "ticks": "",
                "zerolinecolor": "white"
               },
               "yaxis": {
                "backgroundcolor": "#E5ECF6",
                "gridcolor": "white",
                "gridwidth": 2,
                "linecolor": "white",
                "showbackground": true,
                "ticks": "",
                "zerolinecolor": "white"
               },
               "zaxis": {
                "backgroundcolor": "#E5ECF6",
                "gridcolor": "white",
                "gridwidth": 2,
                "linecolor": "white",
                "showbackground": true,
                "ticks": "",
                "zerolinecolor": "white"
               }
              },
              "shapedefaults": {
               "line": {
                "color": "#2a3f5f"
               }
              },
              "ternary": {
               "aaxis": {
                "gridcolor": "white",
                "linecolor": "white",
                "ticks": ""
               },
               "baxis": {
                "gridcolor": "white",
                "linecolor": "white",
                "ticks": ""
               },
               "bgcolor": "#E5ECF6",
               "caxis": {
                "gridcolor": "white",
                "linecolor": "white",
                "ticks": ""
               }
              },
              "title": {
               "x": 0.05
              },
              "xaxis": {
               "automargin": true,
               "gridcolor": "white",
               "linecolor": "white",
               "ticks": "",
               "title": {
                "standoff": 15
               },
               "zerolinecolor": "white",
               "zerolinewidth": 2
              },
              "yaxis": {
               "automargin": true,
               "gridcolor": "white",
               "linecolor": "white",
               "ticks": "",
               "title": {
                "standoff": 15
               },
               "zerolinecolor": "white",
               "zerolinewidth": 2
              }
             }
            },
            "title": {
             "text": "Model summary",
             "x": 0
            }
           }
          },
          "text/html": "<div>                            <div id=\"ae7b15aa-663c-4a02-b08e-c40fc315bac6\" class=\"plotly-graph-div\" style=\"height:525px; width:100%;\"></div>            <script type=\"text/javascript\">                require([\"plotly\"], function(Plotly) {                    window.PLOTLYENV=window.PLOTLYENV || {};                                    if (document.getElementById(\"ae7b15aa-663c-4a02-b08e-c40fc315bac6\")) {                    Plotly.newPlot(                        \"ae7b15aa-663c-4a02-b08e-c40fc315bac6\",                        [{\"cells\":{\"align\":\"left\",\"fill\":{\"color\":\"white\"},\"font\":{\"color\":\"black\",\"size\":11},\"line\":{\"color\":\"darkslategray\"},\"values\":[[\"# data points - train set\",\"# features - train set\",\"test MAE\",\"test RMSE\",\"test R2\",\"train R2\",\"model type\"],[3397,9,103.10418823529412,146.27857001585144,0.7388788815346112,0.9895153125428412,\"SklearnPipeline\"]]},\"header\":{\"align\":\"left\",\"fill\":{\"color\":\"white\"},\"font\":{\"color\":\"black\",\"size\":11},\"line\":{\"color\":\"darkslategray\"},\"values\":[\"<b>index</b>\",\"<b></b>\"]},\"type\":\"table\"}],                        {\"template\":{\"data\":{\"histogram2dcontour\":[{\"type\":\"histogram2dcontour\",\"colorbar\":{\"outlinewidth\":0,\"ticks\":\"\"},\"colorscale\":[[0.0,\"#0d0887\"],[0.1111111111111111,\"#46039f\"],[0.2222222222222222,\"#7201a8\"],[0.3333333333333333,\"#9c179e\"],[0.4444444444444444,\"#bd3786\"],[0.5555555555555556,\"#d8576b\"],[0.6666666666666666,\"#ed7953\"],[0.7777777777777778,\"#fb9f3a\"],[0.8888888888888888,\"#fdca26\"],[1.0,\"#f0f921\"]]}],\"choropleth\":[{\"type\":\"choropleth\",\"colorbar\":{\"outlinewidth\":0,\"ticks\":\"\"}}],\"histogram2d\":[{\"type\":\"histogram2d\",\"colorbar\":{\"outlinewidth\":0,\"ticks\":\"\"},\"colorscale\":[[0.0,\"#0d0887\"],[0.1111111111111111,\"#46039f\"],[0.2222222222222222,\"#7201a8\"],[0.3333333333333333,\"#9c179e\"],[0.4444444444444444,\"#bd3786\"],[0.5555555555555556,\"#d8576b\"],[0.6666666666666666,\"#ed7953\"],[0.7777777777777778,\"#fb9f3a\"],[0.8888888888888888,\"#fdca26\"],[1.0,\"#f0f921\"]]}],\"heatmap\":[{\"type\":\"heatmap\",\"colorbar\":{\"outlinewidth\":0,\"ticks\":\"\"},\"colorscale\":[[0.0,\"#0d0887\"],[0.1111111111111111,\"#46039f\"],[0.2222222222222222,\"#7201a8\"],[0.3333333333333333,\"#9c179e\"],[0.4444444444444444,\"#bd3786\"],[0.5555555555555556,\"#d8576b\"],[0.6666666666666666,\"#ed7953\"],[0.7777777777777778,\"#fb9f3a\"],[0.8888888888888888,\"#fdca26\"],[1.0,\"#f0f921\"]]}],\"heatmapgl\":[{\"type\":\"heatmapgl\",\"colorbar\":{\"outlinewidth\":0,\"ticks\":\"\"},\"colorscale\":[[0.0,\"#0d0887\"],[0.1111111111111111,\"#46039f\"],[0.2222222222222222,\"#7201a8\"],[0.3333333333333333,\"#9c179e\"],[0.4444444444444444,\"#bd3786\"],[0.5555555555555556,\"#d8576b\"],[0.6666666666666666,\"#ed7953\"],[0.7777777777777778,\"#fb9f3a\"],[0.8888888888888888,\"#fdca26\"],[1.0,\"#f0f921\"]]}],\"contourcarpet\":[{\"type\":\"contourcarpet\",\"colorbar\":{\"outlinewidth\":0,\"ticks\":\"\"}}],\"contour\":[{\"type\":\"contour\",\"colorbar\":{\"outlinewidth\":0,\"ticks\":\"\"},\"colorscale\":[[0.0,\"#0d0887\"],[0.1111111111111111,\"#46039f\"],[0.2222222222222222,\"#7201a8\"],[0.3333333333333333,\"#9c179e\"],[0.4444444444444444,\"#bd3786\"],[0.5555555555555556,\"#d8576b\"],[0.6666666666666666,\"#ed7953\"],[0.7777777777777778,\"#fb9f3a\"],[0.8888888888888888,\"#fdca26\"],[1.0,\"#f0f921\"]]}],\"surface\":[{\"type\":\"surface\",\"colorbar\":{\"outlinewidth\":0,\"ticks\":\"\"},\"colorscale\":[[0.0,\"#0d0887\"],[0.1111111111111111,\"#46039f\"],[0.2222222222222222,\"#7201a8\"],[0.3333333333333333,\"#9c179e\"],[0.4444444444444444,\"#bd3786\"],[0.5555555555555556,\"#d8576b\"],[0.6666666666666666,\"#ed7953\"],[0.7777777777777778,\"#fb9f3a\"],[0.8888888888888888,\"#fdca26\"],[1.0,\"#f0f921\"]]}],\"mesh3d\":[{\"type\":\"mesh3d\",\"colorbar\":{\"outlinewidth\":0,\"ticks\":\"\"}}],\"scatter\":[{\"fillpattern\":{\"fillmode\":\"overlay\",\"size\":10,\"solidity\":0.2},\"type\":\"scatter\"}],\"parcoords\":[{\"type\":\"parcoords\",\"line\":{\"colorbar\":{\"outlinewidth\":0,\"ticks\":\"\"}}}],\"scatterpolargl\":[{\"type\":\"scatterpolargl\",\"marker\":{\"colorbar\":{\"outlinewidth\":0,\"ticks\":\"\"}}}],\"bar\":[{\"error_x\":{\"color\":\"#2a3f5f\"},\"error_y\":{\"color\":\"#2a3f5f\"},\"marker\":{\"line\":{\"color\":\"#E5ECF6\",\"width\":0.5},\"pattern\":{\"fillmode\":\"overlay\",\"size\":10,\"solidity\":0.2}},\"type\":\"bar\"}],\"scattergeo\":[{\"type\":\"scattergeo\",\"marker\":{\"colorbar\":{\"outlinewidth\":0,\"ticks\":\"\"}}}],\"scatterpolar\":[{\"type\":\"scatterpolar\",\"marker\":{\"colorbar\":{\"outlinewidth\":0,\"ticks\":\"\"}}}],\"histogram\":[{\"marker\":{\"pattern\":{\"fillmode\":\"overlay\",\"size\":10,\"solidity\":0.2}},\"type\":\"histogram\"}],\"scattergl\":[{\"type\":\"scattergl\",\"marker\":{\"colorbar\":{\"outlinewidth\":0,\"ticks\":\"\"}}}],\"scatter3d\":[{\"type\":\"scatter3d\",\"line\":{\"colorbar\":{\"outlinewidth\":0,\"ticks\":\"\"}},\"marker\":{\"colorbar\":{\"outlinewidth\":0,\"ticks\":\"\"}}}],\"scattermapbox\":[{\"type\":\"scattermapbox\",\"marker\":{\"colorbar\":{\"outlinewidth\":0,\"ticks\":\"\"}}}],\"scatterternary\":[{\"type\":\"scatterternary\",\"marker\":{\"colorbar\":{\"outlinewidth\":0,\"ticks\":\"\"}}}],\"scattercarpet\":[{\"type\":\"scattercarpet\",\"marker\":{\"colorbar\":{\"outlinewidth\":0,\"ticks\":\"\"}}}],\"carpet\":[{\"aaxis\":{\"endlinecolor\":\"#2a3f5f\",\"gridcolor\":\"white\",\"linecolor\":\"white\",\"minorgridcolor\":\"white\",\"startlinecolor\":\"#2a3f5f\"},\"baxis\":{\"endlinecolor\":\"#2a3f5f\",\"gridcolor\":\"white\",\"linecolor\":\"white\",\"minorgridcolor\":\"white\",\"startlinecolor\":\"#2a3f5f\"},\"type\":\"carpet\"}],\"table\":[{\"cells\":{\"fill\":{\"color\":\"#EBF0F8\"},\"line\":{\"color\":\"white\"}},\"header\":{\"fill\":{\"color\":\"#C8D4E3\"},\"line\":{\"color\":\"white\"}},\"type\":\"table\"}],\"barpolar\":[{\"marker\":{\"line\":{\"color\":\"#E5ECF6\",\"width\":0.5},\"pattern\":{\"fillmode\":\"overlay\",\"size\":10,\"solidity\":0.2}},\"type\":\"barpolar\"}],\"pie\":[{\"automargin\":true,\"type\":\"pie\"}]},\"layout\":{\"autotypenumbers\":\"strict\",\"colorway\":[\"#636efa\",\"#EF553B\",\"#00cc96\",\"#ab63fa\",\"#FFA15A\",\"#19d3f3\",\"#FF6692\",\"#B6E880\",\"#FF97FF\",\"#FECB52\"],\"font\":{\"color\":\"#2a3f5f\"},\"hovermode\":\"closest\",\"hoverlabel\":{\"align\":\"left\"},\"paper_bgcolor\":\"white\",\"plot_bgcolor\":\"#E5ECF6\",\"polar\":{\"bgcolor\":\"#E5ECF6\",\"angularaxis\":{\"gridcolor\":\"white\",\"linecolor\":\"white\",\"ticks\":\"\"},\"radialaxis\":{\"gridcolor\":\"white\",\"linecolor\":\"white\",\"ticks\":\"\"}},\"ternary\":{\"bgcolor\":\"#E5ECF6\",\"aaxis\":{\"gridcolor\":\"white\",\"linecolor\":\"white\",\"ticks\":\"\"},\"baxis\":{\"gridcolor\":\"white\",\"linecolor\":\"white\",\"ticks\":\"\"},\"caxis\":{\"gridcolor\":\"white\",\"linecolor\":\"white\",\"ticks\":\"\"}},\"coloraxis\":{\"colorbar\":{\"outlinewidth\":0,\"ticks\":\"\"}},\"colorscale\":{\"sequential\":[[0.0,\"#0d0887\"],[0.1111111111111111,\"#46039f\"],[0.2222222222222222,\"#7201a8\"],[0.3333333333333333,\"#9c179e\"],[0.4444444444444444,\"#bd3786\"],[0.5555555555555556,\"#d8576b\"],[0.6666666666666666,\"#ed7953\"],[0.7777777777777778,\"#fb9f3a\"],[0.8888888888888888,\"#fdca26\"],[1.0,\"#f0f921\"]],\"sequentialminus\":[[0.0,\"#0d0887\"],[0.1111111111111111,\"#46039f\"],[0.2222222222222222,\"#7201a8\"],[0.3333333333333333,\"#9c179e\"],[0.4444444444444444,\"#bd3786\"],[0.5555555555555556,\"#d8576b\"],[0.6666666666666666,\"#ed7953\"],[0.7777777777777778,\"#fb9f3a\"],[0.8888888888888888,\"#fdca26\"],[1.0,\"#f0f921\"]],\"diverging\":[[0,\"#8e0152\"],[0.1,\"#c51b7d\"],[0.2,\"#de77ae\"],[0.3,\"#f1b6da\"],[0.4,\"#fde0ef\"],[0.5,\"#f7f7f7\"],[0.6,\"#e6f5d0\"],[0.7,\"#b8e186\"],[0.8,\"#7fbc41\"],[0.9,\"#4d9221\"],[1,\"#276419\"]]},\"xaxis\":{\"gridcolor\":\"white\",\"linecolor\":\"white\",\"ticks\":\"\",\"title\":{\"standoff\":15},\"zerolinecolor\":\"white\",\"automargin\":true,\"zerolinewidth\":2},\"yaxis\":{\"gridcolor\":\"white\",\"linecolor\":\"white\",\"ticks\":\"\",\"title\":{\"standoff\":15},\"zerolinecolor\":\"white\",\"automargin\":true,\"zerolinewidth\":2},\"scene\":{\"xaxis\":{\"backgroundcolor\":\"#E5ECF6\",\"gridcolor\":\"white\",\"linecolor\":\"white\",\"showbackground\":true,\"ticks\":\"\",\"zerolinecolor\":\"white\",\"gridwidth\":2},\"yaxis\":{\"backgroundcolor\":\"#E5ECF6\",\"gridcolor\":\"white\",\"linecolor\":\"white\",\"showbackground\":true,\"ticks\":\"\",\"zerolinecolor\":\"white\",\"gridwidth\":2},\"zaxis\":{\"backgroundcolor\":\"#E5ECF6\",\"gridcolor\":\"white\",\"linecolor\":\"white\",\"showbackground\":true,\"ticks\":\"\",\"zerolinecolor\":\"white\",\"gridwidth\":2}},\"shapedefaults\":{\"line\":{\"color\":\"#2a3f5f\"}},\"annotationdefaults\":{\"arrowcolor\":\"#2a3f5f\",\"arrowhead\":0,\"arrowwidth\":1},\"geo\":{\"bgcolor\":\"white\",\"landcolor\":\"#E5ECF6\",\"subunitcolor\":\"white\",\"showland\":true,\"showlakes\":true,\"lakecolor\":\"white\"},\"title\":{\"x\":0.05},\"mapbox\":{\"style\":\"light\"}}},\"title\":{\"text\":\"Model summary\",\"x\":0}},                        {\"responsive\": true}                    ).then(function(){\n                            \nvar gd = document.getElementById('ae7b15aa-663c-4a02-b08e-c40fc315bac6');\nvar x = new MutationObserver(function (mutations, observer) {{\n        var display = window.getComputedStyle(gd).display;\n        if (!display || display === 'none') {{\n            console.log([gd, 'removed!']);\n            Plotly.purge(gd);\n            observer.disconnect();\n        }}\n}});\n\n// Listen for the removal of the full notebook cells\nvar notebookContainer = gd.closest('#notebook-container');\nif (notebookContainer) {{\n    x.observe(notebookContainer, {childList: true});\n}}\n\n// Listen for the clearing of the current output cell\nvar outputEl = gd.closest('.output');\nif (outputEl) {{\n    x.observe(outputEl, {childList: true});\n}}\n\n                        })                };                });            </script>        </div>"
         },
         "metadata": {},
         "output_type": "display_data"
        }
       ],
       "tabbable": null,
       "tooltip": null
      }
     },
     "807ca980df7346ef84b91dfb5241f60c": {
      "model_module": "@jupyter-widgets/base",
      "model_module_version": "2.0.0",
      "model_name": "LayoutModel",
      "state": {
       "_model_module_version": "2.0.0",
       "_view_module_version": "2.0.0",
       "border_bottom": null,
       "border_left": null,
       "border_right": null,
       "border_top": null
      }
     },
     "99a684988a91489393aacdbb45a0fb62": {
      "model_module": "@jupyter-widgets/base",
      "model_module_version": "2.0.0",
      "model_name": "LayoutModel",
      "state": {
       "_model_module_version": "2.0.0",
       "_view_module_version": "2.0.0",
       "border_bottom": null,
       "border_left": null,
       "border_right": null,
       "border_top": null
      }
     },
     "a50e9412e3f242adb71549ae52a5f107": {
      "model_module": "@jupyter-widgets/controls",
      "model_module_version": "2.0.0",
      "model_name": "DropdownModel",
      "state": {
       "_model_module_version": "2.0.0",
       "_options_labels": [
        "model_summary",
        "sklearn_model",
        "performance_train_metrics",
        "performance_test_metrics",
        "feature_importance_plot",
        "partial_dependence_plot",
        "train_timeline",
        "test_timeline",
        "model_actual_vs_predicted",
        "model_actual_vs_residual"
       ],
       "_view_module_version": "2.0.0",
       "description": "plot_name",
       "description_allow_html": false,
       "index": 8,
       "layout": "IPY_MODEL_99a684988a91489393aacdbb45a0fb62",
       "style": "IPY_MODEL_6514b2ad5b324c18bb9ef95d793db3a5",
       "tabbable": null,
       "tooltip": null
      }
     },
     "c2af242ec11a48e49cb25c30b841e46e": {
      "model_module": "@jupyter-widgets/controls",
      "model_module_version": "2.0.0",
      "model_name": "DescriptionStyleModel",
      "state": {
       "_model_module_version": "2.0.0",
       "_view_module_version": "2.0.0",
       "description_width": ""
      }
     },
     "c812a390d1bc48cda25ea2e9af466257": {
      "model_module": "@jupyter-widgets/base",
      "model_module_version": "2.0.0",
      "model_name": "LayoutModel",
      "state": {
       "_model_module_version": "2.0.0",
       "_view_module_version": "2.0.0",
       "border_bottom": null,
       "border_left": null,
       "border_right": null,
       "border_top": null
      }
     },
     "d50a1508f54b42fe80030efb12d54ecf": {
      "model_module": "@jupyter-widgets/output",
      "model_module_version": "1.0.0",
      "model_name": "OutputModel",
      "state": {
       "layout": "IPY_MODEL_0d32eb2eb4ca4127b49ef610294a8d6f",
       "outputs": [
        {
         "data": {
          "application/vnd.plotly.v1+json": {
           "config": {
            "plotlyServerURL": "https://plot.ly"
           },
           "data": [
            {
             "hovertemplate": "outp_quantity=%{x}<br>prediction=%{y}<extra></extra>",
             "legendgroup": "",
             "marker": {
              "color": "#9267D3",
              "symbol": "circle"
             },
             "mode": "markers",
             "name": "",
             "orientation": "v",
             "showlegend": false,
             "type": "scatter",
             "x": [
              699,
              646,
              697,
              680,
              692,
              734,
              708,
              726,
              711,
              710,
              935,
              937,
              943,
              950,
              928,
              920,
              1030,
              1044,
              1076,
              1061,
              1067,
              1047,
              992,
              928,
              904,
              924,
              923,
              926,
              892,
              923,
              894,
              878,
              893,
              937,
              962,
              951,
              946,
              947,
              957,
              961,
              591,
              410,
              335,
              289,
              284,
              263,
              409,
              570,
              598,
              566,
              597,
              603,
              893,
              965,
              946,
              954,
              969,
              984,
              714,
              602,
              610,
              570,
              587,
              604,
              740,
              779,
              795,
              821,
              800,
              827,
              14,
              0,
              0,
              0,
              0,
              0,
              0,
              0,
              0,
              0,
              0,
              0,
              935,
              949,
              914,
              946,
              952,
              936,
              898,
              914,
              912,
              905,
              935,
              931,
              954,
              971,
              960,
              982,
              962,
              1009,
              951,
              919,
              888,
              899,
              879,
              921,
              824,
              763,
              804,
              765,
              779,
              767,
              918,
              926,
              931,
              879,
              924,
              907,
              818,
              831,
              824,
              848,
              803,
              816,
              828,
              829,
              842,
              838,
              821,
              821,
              842,
              820,
              784,
              786,
              786,
              777,
              523,
              378,
              356,
              318,
              291,
              298,
              357,
              406,
              389,
              379,
              387,
              398,
              768,
              955,
              971,
              955,
              939,
              954,
              1056,
              1068,
              1031,
              1069,
              1042,
              1059,
              983,
              973,
              948,
              956,
              965,
              948,
              818,
              770,
              819,
              792,
              776,
              818,
              749,
              735,
              728,
              756,
              738,
              756,
              884,
              945,
              940,
              937,
              956,
              938,
              697,
              495,
              465,
              397,
              419,
              392,
              659,
              805,
              777,
              759,
              800,
              807,
              956,
              1022,
              999,
              988,
              1015,
              1007,
              903,
              810,
              798,
              779,
              749,
              775,
              873,
              897,
              898,
              896,
              927,
              866,
              887,
              899,
              892,
              919,
              886,
              921,
              807,
              841,
              823,
              851,
              797,
              812,
              659,
              468,
              431,
              371,
              374,
              358,
              751,
              835,
              906,
              875,
              886,
              903,
              15,
              0,
              0,
              0,
              0,
              0,
              0,
              0,
              0,
              0,
              0,
              0,
              706,
              695,
              715,
              703,
              632,
              707,
              829,
              843,
              813,
              801,
              819,
              821,
              900,
              945,
              925,
              980,
              931,
              939,
              854,
              829,
              857,
              883,
              878,
              864,
              957,
              995,
              1033,
              1005,
              996,
              1000,
              1050,
              1077,
              1076,
              1078,
              1096,
              1082,
              843,
              763,
              781,
              798,
              793,
              766,
              997,
              1070,
              1059,
              1075,
              1054,
              1058,
              888,
              732,
              715,
              713,
              711,
              698,
              709,
              717,
              737,
              695,
              690,
              739,
              973,
              1080,
              1063,
              1055,
              1076,
              1079,
              837,
              721,
              667,
              663,
              628,
              652,
              959,
              1061,
              1063,
              1051,
              1103,
              1095,
              926,
              906,
              900,
              865,
              894,
              857,
              1035,
              1085,
              1077,
              1081,
              1070,
              1095,
              862,
              794,
              795,
              806,
              793,
              784,
              1035,
              1048,
              1030,
              1045,
              1027,
              1040,
              869,
              828,
              824,
              866,
              831,
              833,
              942,
              970,
              984,
              993,
              956,
              987,
              1048,
              1073,
              1034,
              1040,
              1039,
              1036,
              944,
              917,
              890,
              899,
              895,
              927,
              983,
              947,
              983,
              987,
              966,
              985,
              1076,
              1063,
              1079,
              1100,
              1111,
              1094,
              1007,
              967,
              956,
              952,
              939,
              960,
              924,
              908,
              905,
              900,
              896,
              950,
              1050,
              1039,
              1021,
              1037,
              1025,
              1020,
              22,
              0,
              0,
              0,
              0,
              0,
              0,
              0,
              0,
              0,
              0,
              0,
              1068,
              1098,
              1112,
              1094,
              1098,
              1115,
              954,
              901,
              911,
              905,
              913,
              922,
              1043,
              1077,
              1073,
              1081,
              1065,
              1056,
              1067,
              1077,
              1058,
              1070,
              1032,
              1052,
              940,
              884,
              888,
              874,
              872,
              863,
              1019,
              1053,
              1036,
              1070,
              1031,
              1045,
              928,
              873,
              876,
              891,
              872,
              913,
              891,
              929,
              891,
              931,
              940,
              932,
              891,
              723,
              694,
              706,
              667,
              664,
              947,
              981,
              997,
              990,
              976,
              971,
              867,
              877,
              863,
              901,
              876,
              867,
              1029,
              1015,
              985,
              1011,
              1042,
              1032,
              1051,
              1046,
              1041,
              1042,
              1070,
              1043,
              900,
              783,
              826,
              794,
              734,
              752,
              1035,
              1100,
              1101,
              1051,
              1108,
              1109,
              970,
              913,
              966,
              924,
              935,
              932,
              1066,
              1065,
              1080,
              1069,
              1069,
              1073,
              965,
              928,
              901,
              849,
              903,
              915,
              1017,
              1027,
              991,
              1003,
              1037,
              1003,
              1024,
              1064,
              1079,
              1081,
              1065,
              1063,
              1018,
              1023,
              1032,
              992,
              1019,
              996,
              775,
              683,
              697,
              667,
              661,
              645,
              993,
              1058,
              1090,
              1071,
              1081,
              1087,
              1055,
              1086,
              1107,
              1085,
              1049,
              1074,
              1034,
              1036,
              997,
              1012,
              995,
              958,
              844,
              785,
              812,
              826,
              776,
              798,
              10,
              0,
              0,
              0,
              0,
              0,
              0,
              0,
              0,
              0,
              0,
              0,
              1038,
              1096,
              1083,
              1149,
              1091,
              1125,
              1125,
              1106,
              1117,
              1114,
              1119,
              1135,
              1078,
              1090,
              1101,
              1068,
              1096,
              1082,
              989,
              963,
              975,
              970,
              986,
              973,
              1027,
              1055,
              1053,
              1041,
              1036,
              1017,
              1101,
              1131,
              1147,
              1087,
              1139,
              1144,
              943,
              870,
              861,
              885,
              849,
              869,
              878,
              884,
              860,
              877,
              868,
              849,
              991,
              1000,
              978,
              988,
              1017,
              956,
              764,
              691,
              664,
              667,
              659,
              646,
              1053,
              1114,
              1144,
              1153,
              1116,
              1122,
              1113,
              1124,
              1100,
              1105,
              1111,
              1101,
              1142,
              1083,
              1115,
              1110,
              1119,
              1106,
              1036,
              974,
              1006,
              1018,
              972,
              991,
              925,
              931,
              909,
              884,
              895,
              866,
              874,
              913,
              928,
              940,
              913,
              926,
              849,
              770,
              736,
              805,
              749,
              719,
              922,
              990,
              982,
              982,
              981,
              993,
              1094,
              1114,
              1121,
              1137,
              1095,
              1114,
              1072,
              1059,
              1053,
              1047,
              1041,
              1034,
              1039,
              1026,
              1048,
              1073,
              1044,
              1038,
              936,
              938,
              925,
              953,
              928,
              945,
              984,
              995,
              1004,
              1005,
              1025,
              1009,
              1025,
              1042,
              1057,
              1018,
              1078,
              1045,
              875,
              846,
              839,
              799,
              804,
              795,
              974,
              1002,
              964,
              999,
              1000,
              1013,
              15,
              0,
              0,
              0,
              0,
              0,
              0,
              0,
              0,
              0,
              0,
              0,
              1096,
              1147,
              1134,
              1138,
              1141,
              1147,
              1085,
              1082,
              1084,
              1100,
              1074,
              1068,
              1023,
              1015,
              1012,
              1002,
              967,
              979,
              989,
              982,
              944,
              983,
              965,
              969,
              1124,
              1120,
              1129,
              1137,
              1122,
              1119,
              1114,
              1156,
              1119,
              1142,
              1110,
              1116,
              981,
              939,
              960,
              954,
              926,
              934,
              1056,
              1108,
              1076,
              1095,
              1069,
              1074,
              945,
              804,
              759,
              761,
              773,
              798,
              974,
              1001,
              1038,
              1050,
              1029,
              1054,
              1044,
              1133,
              1105,
              1097,
              1116,
              1118,
              1087,
              1084,
              1084,
              1063,
              1059,
              1083,
              1064,
              1073,
              1070,
              1066,
              1067,
              1078,
              1117,
              1094,
              1104,
              1068,
              1088,
              1115,
              1081,
              1084,
              1081,
              1069,
              1091,
              1096,
              899,
              781,
              765,
              749,
              741,
              176
             ],
             "xaxis": "x",
             "y": [
              648.58,
              678.47,
              689.1,
              675.92,
              620.38,
              673.78,
              621.08,
              633.33,
              677.92,
              747.23,
              923.57,
              932.75,
              947.26,
              925.31,
              925.42,
              992.23,
              1020.61,
              1036.17,
              1035.29,
              1039.28,
              1021.26,
              989.09,
              931.58,
              912.85,
              923.52,
              924.84,
              931.58,
              905.9,
              873.11,
              870.59,
              857.23,
              871.78,
              854.47,
              867.03,
              969.96,
              965.91,
              975.84,
              967.96,
              979.31,
              706.57,
              483.7,
              439.42,
              425.29,
              413.42,
              414.81,
              452.23,
              640.15,
              663.1,
              620.89,
              641.75,
              664.49,
              581.94,
              979.61,
              957.56,
              989.64,
              976.57,
              963.93,
              866.3,
              641.06,
              638.59,
              631.59,
              648.56,
              666.03,
              532.06,
              848.87,
              733.1,
              640.6,
              676.6,
              572.39,
              667.89,
              8.34,
              8.15,
              0.13,
              0.13,
              0.13,
              0.13,
              0.13,
              0.13,
              0.13,
              0.13,
              0.13,
              76.67,
              967.92,
              933.75,
              970.63,
              967.8,
              941.03,
              903.95,
              925.98,
              929.38,
              752.93,
              886.74,
              875.66,
              870.98,
              1002.52,
              969.57,
              981.77,
              982.14,
              966.73,
              980.29,
              872.84,
              838.16,
              842.56,
              830.02,
              860.55,
              916.77,
              822.05,
              685.19,
              830.43,
              776.26,
              777.87,
              638.34,
              905.9,
              953.44,
              921.42,
              949.51,
              899.25,
              860.99,
              903.29,
              854.31,
              916.28,
              845.6,
              895.63,
              875.82,
              807.61,
              859.25,
              826.03,
              855.83,
              831.94,
              831.91,
              847.26,
              771.91,
              790.25,
              768.02,
              764.9,
              492.81,
              398.76,
              436.74,
              379.52,
              327.83,
              382,
              424.93,
              438.08,
              418.19,
              403.99,
              466.04,
              487.61,
              843.69,
              943.08,
              982.22,
              969.8,
              960,
              934.44,
              1021.89,
              1051.28,
              982.33,
              1044.84,
              1043.03,
              1003.34,
              972.58,
              958.34,
              964.68,
              963.29,
              955,
              950.15,
              919.73,
              845.83,
              685.74,
              838.67,
              848.22,
              687.01,
              833.54,
              842.58,
              848.49,
              854.48,
              843.77,
              842.73,
              596.17,
              815.74,
              876.38,
              875.23,
              885.09,
              890.23,
              728.44,
              531.11,
              432.22,
              477.12,
              468.29,
              448.85,
              479.7,
              803.53,
              864.54,
              864.99,
              873.67,
              784.52,
              861.42,
              978.58,
              966.43,
              951.32,
              948.87,
              961.95,
              730.19,
              768.79,
              780.85,
              862.81,
              850.05,
              862.53,
              629.55,
              666.12,
              728.56,
              719.51,
              928.22,
              667.63,
              762.12,
              704.19,
              732.04,
              816.68,
              772.31,
              855.5,
              802.86,
              670.88,
              673.3,
              659.09,
              639.95,
              696.31,
              728.62,
              477.09,
              424.1,
              424.04,
              424.71,
              449.04,
              335.04,
              761.8,
              720.59,
              719.98,
              780.98,
              809.05,
              913.64,
              9.04,
              12.38,
              0,
              0,
              0,
              0,
              0,
              0,
              0,
              0,
              0,
              22.18,
              612.92,
              604.52,
              561.74,
              576.6,
              610.41,
              583.79,
              756.41,
              774.58,
              793.59,
              773.74,
              800.28,
              704.21,
              941.25,
              871.15,
              940.62,
              916.69,
              921.9,
              730.39,
              601.53,
              601.95,
              624.31,
              615.03,
              635.27,
              792.43,
              972.38,
              986.9,
              979.76,
              961.68,
              962.98,
              1003.16,
              1045.65,
              1040.18,
              1047.45,
              1037.43,
              1040.82,
              745.69,
              566.61,
              567.42,
              577.09,
              600.73,
              595.97,
              879.71,
              1049.29,
              1037.5,
              1042.43,
              1050.89,
              1044.94,
              679.55,
              815.79,
              743.49,
              733.7,
              781.69,
              745.34,
              625.65,
              588.52,
              636.03,
              489.49,
              501.36,
              639.65,
              763.23,
              1038.75,
              1047.23,
              1022.88,
              1042.4,
              1049.34,
              743.48,
              489.09,
              488.54,
              476.76,
              637.11,
              502.56,
              795.13,
              1049.29,
              1046.86,
              1044.5,
              1047.16,
              1042.19,
              955.76,
              621.03,
              654.3,
              666.79,
              659.28,
              621.39,
              880.18,
              1033.54,
              1040.4,
              1043.73,
              1039.01,
              1030.71,
              700.43,
              582.74,
              601.22,
              643.25,
              571.09,
              565.24,
              903.5,
              1042.53,
              993.47,
              1008.32,
              1010.87,
              1020.28,
              670.47,
              586.2,
              569.95,
              549.05,
              559.3,
              547.57,
              779.94,
              885.77,
              877.87,
              880.22,
              877.43,
              885.5,
              929.99,
              1036.56,
              1000.24,
              1002.31,
              1036.69,
              1001.48,
              936,
              677.97,
              556.34,
              637.91,
              627.85,
              796.56,
              837.19,
              937.36,
              940.64,
              922.69,
              934.59,
              944.07,
              1037.25,
              1036.92,
              1039.39,
              1040.67,
              1035.53,
              1039.02,
              971.6,
              857.03,
              853.23,
              867.91,
              840.19,
              860.04,
              839.29,
              594.5,
              500.32,
              598.73,
              598.73,
              823.18,
              924.53,
              995.51,
              971.94,
              994.35,
              985.57,
              983.3,
              912.33,
              8.28,
              8.76,
              0.13,
              0.13,
              0.13,
              0.13,
              0.13,
              0.13,
              0.13,
              0.13,
              0.13,
              403.94,
              1035.56,
              1041.72,
              1032.13,
              1045.02,
              1040.96,
              949.93,
              604.25,
              554.73,
              529.95,
              597.91,
              704.38,
              949.07,
              1029.1,
              1020.54,
              1024.03,
              1026.63,
              1010.51,
              1005.25,
              1023.46,
              1029.43,
              1022.16,
              1002.67,
              1009.54,
              953.86,
              592.4,
              603.02,
              581.55,
              549.73,
              558.86,
              866.56,
              1014.54,
              1046.71,
              1046.61,
              989.13,
              1009.05,
              924.22,
              552.5,
              562.08,
              585.13,
              577.58,
              613.28,
              558.01,
              778.76,
              642.07,
              789.46,
              795.19,
              806.6,
              535.9,
              816.36,
              625.18,
              732.88,
              704.2,
              721.82,
              705.46,
              971.5,
              855.88,
              839.25,
              814.64,
              803.43,
              678.92,
              609.75,
              624.01,
              607.42,
              624.87,
              581.82,
              903.17,
              1014.68,
              966.45,
              1012.18,
              1003.34,
              1005.35,
              1011.57,
              1044.77,
              1015.63,
              1009.96,
              1029.22,
              1004.84,
              741.9,
              847.16,
              645.88,
              584.66,
              816.48,
              857.92,
              954.38,
              1030.39,
              1038.49,
              1042.45,
              1037.93,
              1039.57,
              951.86,
              627.07,
              796.47,
              782.5,
              770.35,
              768.71,
              943.54,
              1038.96,
              1035.53,
              1035.03,
              1033.33,
              1037.12,
              962.27,
              761.33,
              592.19,
              594.31,
              549.46,
              575.11,
              884.62,
              999.78,
              931.02,
              961.55,
              1000.96,
              963.88,
              1007.82,
              1041.86,
              1043.14,
              1042.87,
              1019.08,
              1031.34,
              977.12,
              961.63,
              998.72,
              955.23,
              983.9,
              985.63,
              864.23,
              283.41,
              266.88,
              289.59,
              306.56,
              266.51,
              826.83,
              1047.39,
              1040.85,
              1007.07,
              1041.66,
              1042.93,
              1052.21,
              1044.63,
              1040.93,
              1032.78,
              1016.26,
              1044.42,
              1013.87,
              1009.04,
              969.19,
              1009.74,
              968.53,
              945.88,
              710.97,
              648.59,
              623.23,
              637.58,
              492.16,
              557.85,
              650.5,
              7.52,
              10.28,
              0.13,
              0.13,
              0.13,
              0.13,
              0.13,
              0.13,
              0.13,
              0.13,
              0.13,
              394.92,
              1046.38,
              1037.18,
              1039.48,
              1038.95,
              1039.26,
              1040.64,
              1039.29,
              1041.97,
              1032.99,
              1037.67,
              1031.34,
              1047.77,
              1027.87,
              1024.5,
              1026.06,
              1024.43,
              1024.9,
              962.25,
              782.96,
              791.9,
              792.19,
              853.65,
              788.77,
              902.15,
              1003.36,
              993.67,
              1005.73,
              1005.7,
              950.46,
              1022.55,
              1041.75,
              1040.39,
              1035.38,
              1041.17,
              1043.14,
              971.25,
              564.46,
              566.97,
              585.22,
              579.33,
              546.53,
              550.41,
              560.6,
              562.64,
              559.6,
              577.53,
              570.81,
              853.82,
              838.67,
              835.74,
              818.52,
              837.42,
              928.07,
              869.65,
              361.23,
              371.42,
              356.98,
              368.15,
              381.46,
              786.81,
              1036.72,
              1048.02,
              1033.56,
              1042.95,
              1045.27,
              1047.19,
              1035.33,
              1040.05,
              1043.03,
              1038.09,
              1037.03,
              1040.47,
              1025.47,
              1015.61,
              1028.05,
              1028.14,
              1029.43,
              1006.83,
              846.87,
              904.89,
              922.09,
              893.03,
              890.53,
              847.07,
              759.46,
              580.56,
              556.71,
              545,
              588.76,
              576.04,
              629.56,
              734.17,
              750.42,
              600.6,
              735.76,
              582.34,
              411.58,
              427.6,
              648.79,
              430.49,
              426.54,
              616.61,
              921.03,
              837.71,
              838.66,
              838.35,
              891.39,
              976.74,
              1017.87,
              1019.57,
              1031.14,
              1027.91,
              1016.35,
              1028.88,
              1031.29,
              1003.9,
              992.86,
              995.47,
              1004.06,
              1004.29,
              894.9,
              930.31,
              929.33,
              948.77,
              926.02,
              856.43,
              734.17,
              630.99,
              746.59,
              731.41,
              756.39,
              823.64,
              795.74,
              854.7,
              863.63,
              907.52,
              878.13,
              919.1,
              924.52,
              981.92,
              930.57,
              983.83,
              911.66,
              698.31,
              610.34,
              611.59,
              589.21,
              612.23,
              615.06,
              748.98,
              901.89,
              847.75,
              906.41,
              904.21,
              928.69,
              904.46,
              8.16,
              8.47,
              0.13,
              0.13,
              0.13,
              0.13,
              0.13,
              0.13,
              0.13,
              0.13,
              0.13,
              280.36,
              1028.52,
              1032.96,
              1034.81,
              1033.89,
              1027.37,
              1032.3,
              1038.38,
              1038.76,
              1038.98,
              1033.72,
              1026.76,
              952.92,
              897.06,
              896.51,
              844.5,
              861.1,
              862.38,
              864.01,
              895.75,
              829.79,
              839.33,
              823.94,
              833.91,
              976.56,
              1030.43,
              1026.86,
              1031.28,
              1023.3,
              1029.68,
              1021.19,
              1035.41,
              1035.7,
              1036.25,
              1035.29,
              1034.85,
              960.31,
              794.71,
              832.96,
              831.3,
              646.82,
              810.4,
              957.68,
              1029.62,
              1035.19,
              1029.85,
              1032.26,
              1026.65,
              953.99,
              626.72,
              440.1,
              425.21,
              474.81,
              605.75,
              790.66,
              834.33,
              1011.6,
              1011.66,
              1019.78,
              1009.55,
              1005.74,
              1040.13,
              1037.23,
              1035.64,
              1044,
              1042.9,
              1044.04,
              1035.16,
              1036.13,
              1036.12,
              1003.84,
              1033.03,
              1008.12,
              1028.96,
              1037.14,
              1037.62,
              1040.17,
              1036.04,
              1033.81,
              1026.42,
              1021.43,
              1026.21,
              1028.8,
              1025.27,
              1017.67,
              1024.54,
              1017.12,
              999.18,
              1017.85,
              1029.04,
              816.46,
              325.72,
              327.3,
              322.57,
              352.28,
              542.63,
              130.63
             ],
             "yaxis": "y"
            }
           ],
           "layout": {
            "shapes": [
             {
              "line": {
               "dash": "dot"
              },
              "type": "line",
              "x0": 0,
              "x1": 1156,
              "xref": "x",
              "y0": 0,
              "y1": 1156,
              "yref": "y"
             }
            ],
            "template": {
             "data": {
              "bar": [
               {
                "error_x": {
                 "color": "#2a3f5f"
                },
                "error_y": {
                 "color": "#2a3f5f"
                },
                "marker": {
                 "line": {
                  "color": "#E5ECF6",
                  "width": 0.5
                 },
                 "pattern": {
                  "fillmode": "overlay",
                  "size": 10,
                  "solidity": 0.2
                 }
                },
                "type": "bar"
               }
              ],
              "barpolar": [
               {
                "marker": {
                 "line": {
                  "color": "#E5ECF6",
                  "width": 0.5
                 },
                 "pattern": {
                  "fillmode": "overlay",
                  "size": 10,
                  "solidity": 0.2
                 }
                },
                "type": "barpolar"
               }
              ],
              "carpet": [
               {
                "aaxis": {
                 "endlinecolor": "#2a3f5f",
                 "gridcolor": "white",
                 "linecolor": "white",
                 "minorgridcolor": "white",
                 "startlinecolor": "#2a3f5f"
                },
                "baxis": {
                 "endlinecolor": "#2a3f5f",
                 "gridcolor": "white",
                 "linecolor": "white",
                 "minorgridcolor": "white",
                 "startlinecolor": "#2a3f5f"
                },
                "type": "carpet"
               }
              ],
              "choropleth": [
               {
                "colorbar": {
                 "outlinewidth": 0,
                 "ticks": ""
                },
                "type": "choropleth"
               }
              ],
              "contour": [
               {
                "colorbar": {
                 "outlinewidth": 0,
                 "ticks": ""
                },
                "colorscale": [
                 [
                  0,
                  "#0d0887"
                 ],
                 [
                  0.1111111111111111,
                  "#46039f"
                 ],
                 [
                  0.2222222222222222,
                  "#7201a8"
                 ],
                 [
                  0.3333333333333333,
                  "#9c179e"
                 ],
                 [
                  0.4444444444444444,
                  "#bd3786"
                 ],
                 [
                  0.5555555555555556,
                  "#d8576b"
                 ],
                 [
                  0.6666666666666666,
                  "#ed7953"
                 ],
                 [
                  0.7777777777777778,
                  "#fb9f3a"
                 ],
                 [
                  0.8888888888888888,
                  "#fdca26"
                 ],
                 [
                  1,
                  "#f0f921"
                 ]
                ],
                "type": "contour"
               }
              ],
              "contourcarpet": [
               {
                "colorbar": {
                 "outlinewidth": 0,
                 "ticks": ""
                },
                "type": "contourcarpet"
               }
              ],
              "heatmap": [
               {
                "colorbar": {
                 "outlinewidth": 0,
                 "ticks": ""
                },
                "colorscale": [
                 [
                  0,
                  "#0d0887"
                 ],
                 [
                  0.1111111111111111,
                  "#46039f"
                 ],
                 [
                  0.2222222222222222,
                  "#7201a8"
                 ],
                 [
                  0.3333333333333333,
                  "#9c179e"
                 ],
                 [
                  0.4444444444444444,
                  "#bd3786"
                 ],
                 [
                  0.5555555555555556,
                  "#d8576b"
                 ],
                 [
                  0.6666666666666666,
                  "#ed7953"
                 ],
                 [
                  0.7777777777777778,
                  "#fb9f3a"
                 ],
                 [
                  0.8888888888888888,
                  "#fdca26"
                 ],
                 [
                  1,
                  "#f0f921"
                 ]
                ],
                "type": "heatmap"
               }
              ],
              "heatmapgl": [
               {
                "colorbar": {
                 "outlinewidth": 0,
                 "ticks": ""
                },
                "colorscale": [
                 [
                  0,
                  "#0d0887"
                 ],
                 [
                  0.1111111111111111,
                  "#46039f"
                 ],
                 [
                  0.2222222222222222,
                  "#7201a8"
                 ],
                 [
                  0.3333333333333333,
                  "#9c179e"
                 ],
                 [
                  0.4444444444444444,
                  "#bd3786"
                 ],
                 [
                  0.5555555555555556,
                  "#d8576b"
                 ],
                 [
                  0.6666666666666666,
                  "#ed7953"
                 ],
                 [
                  0.7777777777777778,
                  "#fb9f3a"
                 ],
                 [
                  0.8888888888888888,
                  "#fdca26"
                 ],
                 [
                  1,
                  "#f0f921"
                 ]
                ],
                "type": "heatmapgl"
               }
              ],
              "histogram": [
               {
                "marker": {
                 "pattern": {
                  "fillmode": "overlay",
                  "size": 10,
                  "solidity": 0.2
                 }
                },
                "type": "histogram"
               }
              ],
              "histogram2d": [
               {
                "colorbar": {
                 "outlinewidth": 0,
                 "ticks": ""
                },
                "colorscale": [
                 [
                  0,
                  "#0d0887"
                 ],
                 [
                  0.1111111111111111,
                  "#46039f"
                 ],
                 [
                  0.2222222222222222,
                  "#7201a8"
                 ],
                 [
                  0.3333333333333333,
                  "#9c179e"
                 ],
                 [
                  0.4444444444444444,
                  "#bd3786"
                 ],
                 [
                  0.5555555555555556,
                  "#d8576b"
                 ],
                 [
                  0.6666666666666666,
                  "#ed7953"
                 ],
                 [
                  0.7777777777777778,
                  "#fb9f3a"
                 ],
                 [
                  0.8888888888888888,
                  "#fdca26"
                 ],
                 [
                  1,
                  "#f0f921"
                 ]
                ],
                "type": "histogram2d"
               }
              ],
              "histogram2dcontour": [
               {
                "colorbar": {
                 "outlinewidth": 0,
                 "ticks": ""
                },
                "colorscale": [
                 [
                  0,
                  "#0d0887"
                 ],
                 [
                  0.1111111111111111,
                  "#46039f"
                 ],
                 [
                  0.2222222222222222,
                  "#7201a8"
                 ],
                 [
                  0.3333333333333333,
                  "#9c179e"
                 ],
                 [
                  0.4444444444444444,
                  "#bd3786"
                 ],
                 [
                  0.5555555555555556,
                  "#d8576b"
                 ],
                 [
                  0.6666666666666666,
                  "#ed7953"
                 ],
                 [
                  0.7777777777777778,
                  "#fb9f3a"
                 ],
                 [
                  0.8888888888888888,
                  "#fdca26"
                 ],
                 [
                  1,
                  "#f0f921"
                 ]
                ],
                "type": "histogram2dcontour"
               }
              ],
              "mesh3d": [
               {
                "colorbar": {
                 "outlinewidth": 0,
                 "ticks": ""
                },
                "type": "mesh3d"
               }
              ],
              "parcoords": [
               {
                "line": {
                 "colorbar": {
                  "outlinewidth": 0,
                  "ticks": ""
                 }
                },
                "type": "parcoords"
               }
              ],
              "pie": [
               {
                "automargin": true,
                "type": "pie"
               }
              ],
              "scatter": [
               {
                "fillpattern": {
                 "fillmode": "overlay",
                 "size": 10,
                 "solidity": 0.2
                },
                "type": "scatter"
               }
              ],
              "scatter3d": [
               {
                "line": {
                 "colorbar": {
                  "outlinewidth": 0,
                  "ticks": ""
                 }
                },
                "marker": {
                 "colorbar": {
                  "outlinewidth": 0,
                  "ticks": ""
                 }
                },
                "type": "scatter3d"
               }
              ],
              "scattercarpet": [
               {
                "marker": {
                 "colorbar": {
                  "outlinewidth": 0,
                  "ticks": ""
                 }
                },
                "type": "scattercarpet"
               }
              ],
              "scattergeo": [
               {
                "marker": {
                 "colorbar": {
                  "outlinewidth": 0,
                  "ticks": ""
                 }
                },
                "type": "scattergeo"
               }
              ],
              "scattergl": [
               {
                "marker": {
                 "colorbar": {
                  "outlinewidth": 0,
                  "ticks": ""
                 }
                },
                "type": "scattergl"
               }
              ],
              "scattermapbox": [
               {
                "marker": {
                 "colorbar": {
                  "outlinewidth": 0,
                  "ticks": ""
                 }
                },
                "type": "scattermapbox"
               }
              ],
              "scatterpolar": [
               {
                "marker": {
                 "colorbar": {
                  "outlinewidth": 0,
                  "ticks": ""
                 }
                },
                "type": "scatterpolar"
               }
              ],
              "scatterpolargl": [
               {
                "marker": {
                 "colorbar": {
                  "outlinewidth": 0,
                  "ticks": ""
                 }
                },
                "type": "scatterpolargl"
               }
              ],
              "scatterternary": [
               {
                "marker": {
                 "colorbar": {
                  "outlinewidth": 0,
                  "ticks": ""
                 }
                },
                "type": "scatterternary"
               }
              ],
              "surface": [
               {
                "colorbar": {
                 "outlinewidth": 0,
                 "ticks": ""
                },
                "colorscale": [
                 [
                  0,
                  "#0d0887"
                 ],
                 [
                  0.1111111111111111,
                  "#46039f"
                 ],
                 [
                  0.2222222222222222,
                  "#7201a8"
                 ],
                 [
                  0.3333333333333333,
                  "#9c179e"
                 ],
                 [
                  0.4444444444444444,
                  "#bd3786"
                 ],
                 [
                  0.5555555555555556,
                  "#d8576b"
                 ],
                 [
                  0.6666666666666666,
                  "#ed7953"
                 ],
                 [
                  0.7777777777777778,
                  "#fb9f3a"
                 ],
                 [
                  0.8888888888888888,
                  "#fdca26"
                 ],
                 [
                  1,
                  "#f0f921"
                 ]
                ],
                "type": "surface"
               }
              ],
              "table": [
               {
                "cells": {
                 "fill": {
                  "color": "#EBF0F8"
                 },
                 "line": {
                  "color": "white"
                 }
                },
                "header": {
                 "fill": {
                  "color": "#C8D4E3"
                 },
                 "line": {
                  "color": "white"
                 }
                },
                "type": "table"
               }
              ]
             },
             "layout": {
              "annotationdefaults": {
               "arrowcolor": "#2a3f5f",
               "arrowhead": 0,
               "arrowwidth": 1
              },
              "autotypenumbers": "strict",
              "coloraxis": {
               "colorbar": {
                "outlinewidth": 0,
                "ticks": ""
               }
              },
              "colorscale": {
               "diverging": [
                [
                 0,
                 "#8e0152"
                ],
                [
                 0.1,
                 "#c51b7d"
                ],
                [
                 0.2,
                 "#de77ae"
                ],
                [
                 0.3,
                 "#f1b6da"
                ],
                [
                 0.4,
                 "#fde0ef"
                ],
                [
                 0.5,
                 "#f7f7f7"
                ],
                [
                 0.6,
                 "#e6f5d0"
                ],
                [
                 0.7,
                 "#b8e186"
                ],
                [
                 0.8,
                 "#7fbc41"
                ],
                [
                 0.9,
                 "#4d9221"
                ],
                [
                 1,
                 "#276419"
                ]
               ],
               "sequential": [
                [
                 0,
                 "#0d0887"
                ],
                [
                 0.1111111111111111,
                 "#46039f"
                ],
                [
                 0.2222222222222222,
                 "#7201a8"
                ],
                [
                 0.3333333333333333,
                 "#9c179e"
                ],
                [
                 0.4444444444444444,
                 "#bd3786"
                ],
                [
                 0.5555555555555556,
                 "#d8576b"
                ],
                [
                 0.6666666666666666,
                 "#ed7953"
                ],
                [
                 0.7777777777777778,
                 "#fb9f3a"
                ],
                [
                 0.8888888888888888,
                 "#fdca26"
                ],
                [
                 1,
                 "#f0f921"
                ]
               ],
               "sequentialminus": [
                [
                 0,
                 "#0d0887"
                ],
                [
                 0.1111111111111111,
                 "#46039f"
                ],
                [
                 0.2222222222222222,
                 "#7201a8"
                ],
                [
                 0.3333333333333333,
                 "#9c179e"
                ],
                [
                 0.4444444444444444,
                 "#bd3786"
                ],
                [
                 0.5555555555555556,
                 "#d8576b"
                ],
                [
                 0.6666666666666666,
                 "#ed7953"
                ],
                [
                 0.7777777777777778,
                 "#fb9f3a"
                ],
                [
                 0.8888888888888888,
                 "#fdca26"
                ],
                [
                 1,
                 "#f0f921"
                ]
               ]
              },
              "colorway": [
               "#636efa",
               "#EF553B",
               "#00cc96",
               "#ab63fa",
               "#FFA15A",
               "#19d3f3",
               "#FF6692",
               "#B6E880",
               "#FF97FF",
               "#FECB52"
              ],
              "font": {
               "color": "#2a3f5f"
              },
              "geo": {
               "bgcolor": "white",
               "lakecolor": "white",
               "landcolor": "#E5ECF6",
               "showlakes": true,
               "showland": true,
               "subunitcolor": "white"
              },
              "hoverlabel": {
               "align": "left"
              },
              "hovermode": "closest",
              "mapbox": {
               "style": "light"
              },
              "paper_bgcolor": "white",
              "plot_bgcolor": "#E5ECF6",
              "polar": {
               "angularaxis": {
                "gridcolor": "white",
                "linecolor": "white",
                "ticks": ""
               },
               "bgcolor": "#E5ECF6",
               "radialaxis": {
                "gridcolor": "white",
                "linecolor": "white",
                "ticks": ""
               }
              },
              "scene": {
               "xaxis": {
                "backgroundcolor": "#E5ECF6",
                "gridcolor": "white",
                "gridwidth": 2,
                "linecolor": "white",
                "showbackground": true,
                "ticks": "",
                "zerolinecolor": "white"
               },
               "yaxis": {
                "backgroundcolor": "#E5ECF6",
                "gridcolor": "white",
                "gridwidth": 2,
                "linecolor": "white",
                "showbackground": true,
                "ticks": "",
                "zerolinecolor": "white"
               },
               "zaxis": {
                "backgroundcolor": "#E5ECF6",
                "gridcolor": "white",
                "gridwidth": 2,
                "linecolor": "white",
                "showbackground": true,
                "ticks": "",
                "zerolinecolor": "white"
               }
              },
              "shapedefaults": {
               "line": {
                "color": "#2a3f5f"
               }
              },
              "ternary": {
               "aaxis": {
                "gridcolor": "white",
                "linecolor": "white",
                "ticks": ""
               },
               "baxis": {
                "gridcolor": "white",
                "linecolor": "white",
                "ticks": ""
               },
               "bgcolor": "#E5ECF6",
               "caxis": {
                "gridcolor": "white",
                "linecolor": "white",
                "ticks": ""
               }
              },
              "title": {
               "x": 0.05
              },
              "xaxis": {
               "automargin": true,
               "gridcolor": "white",
               "linecolor": "white",
               "ticks": "",
               "title": {
                "standoff": 15
               },
               "zerolinecolor": "white",
               "zerolinewidth": 2
              },
              "yaxis": {
               "automargin": true,
               "gridcolor": "white",
               "linecolor": "white",
               "ticks": "",
               "title": {
                "standoff": 15
               },
               "zerolinecolor": "white",
               "zerolinewidth": 2
              }
             }
            },
            "title": {
             "text": "Test model actual vs predicted",
             "x": 0
            },
            "xaxis": {
             "title": {
              "text": "Actual"
             }
            },
            "yaxis": {
             "title": {
              "text": "Predicted"
             }
            }
           }
          },
          "text/html": "<div>                            <div id=\"5367dfe5-5fc9-49bd-afbf-c3b84033a430\" class=\"plotly-graph-div\" style=\"height:525px; width:100%;\"></div>            <script type=\"text/javascript\">                require([\"plotly\"], function(Plotly) {                    window.PLOTLYENV=window.PLOTLYENV || {};                                    if (document.getElementById(\"5367dfe5-5fc9-49bd-afbf-c3b84033a430\")) {                    Plotly.newPlot(                        \"5367dfe5-5fc9-49bd-afbf-c3b84033a430\",                        [{\"hovertemplate\":\"outp_quantity=%{x}<br>prediction=%{y}<extra></extra>\",\"legendgroup\":\"\",\"marker\":{\"color\":\"#9267D3\",\"symbol\":\"circle\"},\"mode\":\"markers\",\"name\":\"\",\"orientation\":\"v\",\"showlegend\":false,\"x\":[699.0,646.0,697.0,680.0,692.0,734.0,708.0,726.0,711.0,710.0,935.0,937.0,943.0,950.0,928.0,920.0,1030.0,1044.0,1076.0,1061.0,1067.0,1047.0,992.0,928.0,904.0,924.0,923.0,926.0,892.0,923.0,894.0,878.0,893.0,937.0,962.0,951.0,946.0,947.0,957.0,961.0,591.0,410.0,335.0,289.0,284.0,263.0,409.0,570.0,598.0,566.0,597.0,603.0,893.0,965.0,946.0,954.0,969.0,984.0,714.0,602.0,610.0,570.0,587.0,604.0,740.0,779.0,795.0,821.0,800.0,827.0,14.0,0.0,0.0,0.0,0.0,0.0,0.0,0.0,0.0,0.0,0.0,0.0,935.0,949.0,914.0,946.0,952.0,936.0,898.0,914.0,912.0,905.0,935.0,931.0,954.0,971.0,960.0,982.0,962.0,1009.0,951.0,919.0,888.0,899.0,879.0,921.0,824.0,763.0,804.0,765.0,779.0,767.0,918.0,926.0,931.0,879.0,924.0,907.0,818.0,831.0,824.0,848.0,803.0,816.0,828.0,829.0,842.0,838.0,821.0,821.0,842.0,820.0,784.0,786.0,786.0,777.0,523.0,378.0,356.0,318.0,291.0,298.0,357.0,406.0,389.0,379.0,387.0,398.0,768.0,955.0,971.0,955.0,939.0,954.0,1056.0,1068.0,1031.0,1069.0,1042.0,1059.0,983.0,973.0,948.0,956.0,965.0,948.0,818.0,770.0,819.0,792.0,776.0,818.0,749.0,735.0,728.0,756.0,738.0,756.0,884.0,945.0,940.0,937.0,956.0,938.0,697.0,495.0,465.0,397.0,419.0,392.0,659.0,805.0,777.0,759.0,800.0,807.0,956.0,1022.0,999.0,988.0,1015.0,1007.0,903.0,810.0,798.0,779.0,749.0,775.0,873.0,897.0,898.0,896.0,927.0,866.0,887.0,899.0,892.0,919.0,886.0,921.0,807.0,841.0,823.0,851.0,797.0,812.0,659.0,468.0,431.0,371.0,374.0,358.0,751.0,835.0,906.0,875.0,886.0,903.0,15.0,0.0,0.0,0.0,0.0,0.0,0.0,0.0,0.0,0.0,0.0,0.0,706.0,695.0,715.0,703.0,632.0,707.0,829.0,843.0,813.0,801.0,819.0,821.0,900.0,945.0,925.0,980.0,931.0,939.0,854.0,829.0,857.0,883.0,878.0,864.0,957.0,995.0,1033.0,1005.0,996.0,1000.0,1050.0,1077.0,1076.0,1078.0,1096.0,1082.0,843.0,763.0,781.0,798.0,793.0,766.0,997.0,1070.0,1059.0,1075.0,1054.0,1058.0,888.0,732.0,715.0,713.0,711.0,698.0,709.0,717.0,737.0,695.0,690.0,739.0,973.0,1080.0,1063.0,1055.0,1076.0,1079.0,837.0,721.0,667.0,663.0,628.0,652.0,959.0,1061.0,1063.0,1051.0,1103.0,1095.0,926.0,906.0,900.0,865.0,894.0,857.0,1035.0,1085.0,1077.0,1081.0,1070.0,1095.0,862.0,794.0,795.0,806.0,793.0,784.0,1035.0,1048.0,1030.0,1045.0,1027.0,1040.0,869.0,828.0,824.0,866.0,831.0,833.0,942.0,970.0,984.0,993.0,956.0,987.0,1048.0,1073.0,1034.0,1040.0,1039.0,1036.0,944.0,917.0,890.0,899.0,895.0,927.0,983.0,947.0,983.0,987.0,966.0,985.0,1076.0,1063.0,1079.0,1100.0,1111.0,1094.0,1007.0,967.0,956.0,952.0,939.0,960.0,924.0,908.0,905.0,900.0,896.0,950.0,1050.0,1039.0,1021.0,1037.0,1025.0,1020.0,22.0,0.0,0.0,0.0,0.0,0.0,0.0,0.0,0.0,0.0,0.0,0.0,1068.0,1098.0,1112.0,1094.0,1098.0,1115.0,954.0,901.0,911.0,905.0,913.0,922.0,1043.0,1077.0,1073.0,1081.0,1065.0,1056.0,1067.0,1077.0,1058.0,1070.0,1032.0,1052.0,940.0,884.0,888.0,874.0,872.0,863.0,1019.0,1053.0,1036.0,1070.0,1031.0,1045.0,928.0,873.0,876.0,891.0,872.0,913.0,891.0,929.0,891.0,931.0,940.0,932.0,891.0,723.0,694.0,706.0,667.0,664.0,947.0,981.0,997.0,990.0,976.0,971.0,867.0,877.0,863.0,901.0,876.0,867.0,1029.0,1015.0,985.0,1011.0,1042.0,1032.0,1051.0,1046.0,1041.0,1042.0,1070.0,1043.0,900.0,783.0,826.0,794.0,734.0,752.0,1035.0,1100.0,1101.0,1051.0,1108.0,1109.0,970.0,913.0,966.0,924.0,935.0,932.0,1066.0,1065.0,1080.0,1069.0,1069.0,1073.0,965.0,928.0,901.0,849.0,903.0,915.0,1017.0,1027.0,991.0,1003.0,1037.0,1003.0,1024.0,1064.0,1079.0,1081.0,1065.0,1063.0,1018.0,1023.0,1032.0,992.0,1019.0,996.0,775.0,683.0,697.0,667.0,661.0,645.0,993.0,1058.0,1090.0,1071.0,1081.0,1087.0,1055.0,1086.0,1107.0,1085.0,1049.0,1074.0,1034.0,1036.0,997.0,1012.0,995.0,958.0,844.0,785.0,812.0,826.0,776.0,798.0,10.0,0.0,0.0,0.0,0.0,0.0,0.0,0.0,0.0,0.0,0.0,0.0,1038.0,1096.0,1083.0,1149.0,1091.0,1125.0,1125.0,1106.0,1117.0,1114.0,1119.0,1135.0,1078.0,1090.0,1101.0,1068.0,1096.0,1082.0,989.0,963.0,975.0,970.0,986.0,973.0,1027.0,1055.0,1053.0,1041.0,1036.0,1017.0,1101.0,1131.0,1147.0,1087.0,1139.0,1144.0,943.0,870.0,861.0,885.0,849.0,869.0,878.0,884.0,860.0,877.0,868.0,849.0,991.0,1000.0,978.0,988.0,1017.0,956.0,764.0,691.0,664.0,667.0,659.0,646.0,1053.0,1114.0,1144.0,1153.0,1116.0,1122.0,1113.0,1124.0,1100.0,1105.0,1111.0,1101.0,1142.0,1083.0,1115.0,1110.0,1119.0,1106.0,1036.0,974.0,1006.0,1018.0,972.0,991.0,925.0,931.0,909.0,884.0,895.0,866.0,874.0,913.0,928.0,940.0,913.0,926.0,849.0,770.0,736.0,805.0,749.0,719.0,922.0,990.0,982.0,982.0,981.0,993.0,1094.0,1114.0,1121.0,1137.0,1095.0,1114.0,1072.0,1059.0,1053.0,1047.0,1041.0,1034.0,1039.0,1026.0,1048.0,1073.0,1044.0,1038.0,936.0,938.0,925.0,953.0,928.0,945.0,984.0,995.0,1004.0,1005.0,1025.0,1009.0,1025.0,1042.0,1057.0,1018.0,1078.0,1045.0,875.0,846.0,839.0,799.0,804.0,795.0,974.0,1002.0,964.0,999.0,1000.0,1013.0,15.0,0.0,0.0,0.0,0.0,0.0,0.0,0.0,0.0,0.0,0.0,0.0,1096.0,1147.0,1134.0,1138.0,1141.0,1147.0,1085.0,1082.0,1084.0,1100.0,1074.0,1068.0,1023.0,1015.0,1012.0,1002.0,967.0,979.0,989.0,982.0,944.0,983.0,965.0,969.0,1124.0,1120.0,1129.0,1137.0,1122.0,1119.0,1114.0,1156.0,1119.0,1142.0,1110.0,1116.0,981.0,939.0,960.0,954.0,926.0,934.0,1056.0,1108.0,1076.0,1095.0,1069.0,1074.0,945.0,804.0,759.0,761.0,773.0,798.0,974.0,1001.0,1038.0,1050.0,1029.0,1054.0,1044.0,1133.0,1105.0,1097.0,1116.0,1118.0,1087.0,1084.0,1084.0,1063.0,1059.0,1083.0,1064.0,1073.0,1070.0,1066.0,1067.0,1078.0,1117.0,1094.0,1104.0,1068.0,1088.0,1115.0,1081.0,1084.0,1081.0,1069.0,1091.0,1096.0,899.0,781.0,765.0,749.0,741.0,176.0],\"xaxis\":\"x\",\"y\":[648.58,678.47,689.1,675.92,620.38,673.78,621.08,633.33,677.92,747.23,923.57,932.75,947.26,925.31,925.42,992.23,1020.61,1036.17,1035.29,1039.28,1021.26,989.09,931.58,912.85,923.52,924.84,931.58,905.9,873.11,870.59,857.23,871.78,854.47,867.03,969.96,965.91,975.84,967.96,979.31,706.57,483.7,439.42,425.29,413.42,414.81,452.23,640.15,663.1,620.89,641.75,664.49,581.94,979.61,957.56,989.64,976.57,963.93,866.3,641.06,638.59,631.59,648.56,666.03,532.06,848.87,733.1,640.6,676.6,572.39,667.89,8.34,8.15,0.13,0.13,0.13,0.13,0.13,0.13,0.13,0.13,0.13,76.67,967.92,933.75,970.63,967.8,941.03,903.95,925.98,929.38,752.93,886.74,875.66,870.98,1002.52,969.57,981.77,982.14,966.73,980.29,872.84,838.16,842.56,830.02,860.55,916.77,822.05,685.19,830.43,776.26,777.87,638.34,905.9,953.44,921.42,949.51,899.25,860.99,903.29,854.31,916.28,845.6,895.63,875.82,807.61,859.25,826.03,855.83,831.94,831.91,847.26,771.91,790.25,768.02,764.9,492.81,398.76,436.74,379.52,327.83,382.0,424.93,438.08,418.19,403.99,466.04,487.61,843.69,943.08,982.22,969.8,960.0,934.44,1021.89,1051.28,982.33,1044.84,1043.03,1003.34,972.58,958.34,964.68,963.29,955.0,950.15,919.73,845.83,685.74,838.67,848.22,687.01,833.54,842.58,848.49,854.48,843.77,842.73,596.17,815.74,876.38,875.23,885.09,890.23,728.44,531.11,432.22,477.12,468.29,448.85,479.7,803.53,864.54,864.99,873.67,784.52,861.42,978.58,966.43,951.32,948.87,961.95,730.19,768.79,780.85,862.81,850.05,862.53,629.55,666.12,728.56,719.51,928.22,667.63,762.12,704.19,732.04,816.68,772.31,855.5,802.86,670.88,673.3,659.09,639.95,696.31,728.62,477.09,424.1,424.04,424.71,449.04,335.04,761.8,720.59,719.98,780.98,809.05,913.64,9.04,12.38,0.0,0.0,0.0,0.0,0.0,0.0,0.0,0.0,0.0,22.18,612.92,604.52,561.74,576.6,610.41,583.79,756.41,774.58,793.59,773.74,800.28,704.21,941.25,871.15,940.62,916.69,921.9,730.39,601.53,601.95,624.31,615.03,635.27,792.43,972.38,986.9,979.76,961.68,962.98,1003.16,1045.65,1040.18,1047.45,1037.43,1040.82,745.69,566.61,567.42,577.09,600.73,595.97,879.71,1049.29,1037.5,1042.43,1050.89,1044.94,679.55,815.79,743.49,733.7,781.69,745.34,625.65,588.52,636.03,489.49,501.36,639.65,763.23,1038.75,1047.23,1022.88,1042.4,1049.34,743.48,489.09,488.54,476.76,637.11,502.56,795.13,1049.29,1046.86,1044.5,1047.16,1042.19,955.76,621.03,654.3,666.79,659.28,621.39,880.18,1033.54,1040.4,1043.73,1039.01,1030.71,700.43,582.74,601.22,643.25,571.09,565.24,903.5,1042.53,993.47,1008.32,1010.87,1020.28,670.47,586.2,569.95,549.05,559.3,547.57,779.94,885.77,877.87,880.22,877.43,885.5,929.99,1036.56,1000.24,1002.31,1036.69,1001.48,936.0,677.97,556.34,637.91,627.85,796.56,837.19,937.36,940.64,922.69,934.59,944.07,1037.25,1036.92,1039.39,1040.67,1035.53,1039.02,971.6,857.03,853.23,867.91,840.19,860.04,839.29,594.5,500.32,598.73,598.73,823.18,924.53,995.51,971.94,994.35,985.57,983.3,912.33,8.28,8.76,0.13,0.13,0.13,0.13,0.13,0.13,0.13,0.13,0.13,403.94,1035.56,1041.72,1032.13,1045.02,1040.96,949.93,604.25,554.73,529.95,597.91,704.38,949.07,1029.1,1020.54,1024.03,1026.63,1010.51,1005.25,1023.46,1029.43,1022.16,1002.67,1009.54,953.86,592.4,603.02,581.55,549.73,558.86,866.56,1014.54,1046.71,1046.61,989.13,1009.05,924.22,552.5,562.08,585.13,577.58,613.28,558.01,778.76,642.07,789.46,795.19,806.6,535.9,816.36,625.18,732.88,704.2,721.82,705.46,971.5,855.88,839.25,814.64,803.43,678.92,609.75,624.01,607.42,624.87,581.82,903.17,1014.68,966.45,1012.18,1003.34,1005.35,1011.57,1044.77,1015.63,1009.96,1029.22,1004.84,741.9,847.16,645.88,584.66,816.48,857.92,954.38,1030.39,1038.49,1042.45,1037.93,1039.57,951.86,627.07,796.47,782.5,770.35,768.71,943.54,1038.96,1035.53,1035.03,1033.33,1037.12,962.27,761.33,592.19,594.31,549.46,575.11,884.62,999.78,931.02,961.55,1000.96,963.88,1007.82,1041.86,1043.14,1042.87,1019.08,1031.34,977.12,961.63,998.72,955.23,983.9,985.63,864.23,283.41,266.88,289.59,306.56,266.51,826.83,1047.39,1040.85,1007.07,1041.66,1042.93,1052.21,1044.63,1040.93,1032.78,1016.26,1044.42,1013.87,1009.04,969.19,1009.74,968.53,945.88,710.97,648.59,623.23,637.58,492.16,557.85,650.5,7.52,10.28,0.13,0.13,0.13,0.13,0.13,0.13,0.13,0.13,0.13,394.92,1046.38,1037.18,1039.48,1038.95,1039.26,1040.64,1039.29,1041.97,1032.99,1037.67,1031.34,1047.77,1027.87,1024.5,1026.06,1024.43,1024.9,962.25,782.96,791.9,792.19,853.65,788.77,902.15,1003.36,993.67,1005.73,1005.7,950.46,1022.55,1041.75,1040.39,1035.38,1041.17,1043.14,971.25,564.46,566.97,585.22,579.33,546.53,550.41,560.6,562.64,559.6,577.53,570.81,853.82,838.67,835.74,818.52,837.42,928.07,869.65,361.23,371.42,356.98,368.15,381.46,786.81,1036.72,1048.02,1033.56,1042.95,1045.27,1047.19,1035.33,1040.05,1043.03,1038.09,1037.03,1040.47,1025.47,1015.61,1028.05,1028.14,1029.43,1006.83,846.87,904.89,922.09,893.03,890.53,847.07,759.46,580.56,556.71,545.0,588.76,576.04,629.56,734.17,750.42,600.6,735.76,582.34,411.58,427.6,648.79,430.49,426.54,616.61,921.03,837.71,838.66,838.35,891.39,976.74,1017.87,1019.57,1031.14,1027.91,1016.35,1028.88,1031.29,1003.9,992.86,995.47,1004.06,1004.29,894.9,930.31,929.33,948.77,926.02,856.43,734.17,630.99,746.59,731.41,756.39,823.64,795.74,854.7,863.63,907.52,878.13,919.1,924.52,981.92,930.57,983.83,911.66,698.31,610.34,611.59,589.21,612.23,615.06,748.98,901.89,847.75,906.41,904.21,928.69,904.46,8.16,8.47,0.13,0.13,0.13,0.13,0.13,0.13,0.13,0.13,0.13,280.36,1028.52,1032.96,1034.81,1033.89,1027.37,1032.3,1038.38,1038.76,1038.98,1033.72,1026.76,952.92,897.06,896.51,844.5,861.1,862.38,864.01,895.75,829.79,839.33,823.94,833.91,976.56,1030.43,1026.86,1031.28,1023.3,1029.68,1021.19,1035.41,1035.7,1036.25,1035.29,1034.85,960.31,794.71,832.96,831.3,646.82,810.4,957.68,1029.62,1035.19,1029.85,1032.26,1026.65,953.99,626.72,440.1,425.21,474.81,605.75,790.66,834.33,1011.6,1011.66,1019.78,1009.55,1005.74,1040.13,1037.23,1035.64,1044.0,1042.9,1044.04,1035.16,1036.13,1036.12,1003.84,1033.03,1008.12,1028.96,1037.14,1037.62,1040.17,1036.04,1033.81,1026.42,1021.43,1026.21,1028.8,1025.27,1017.67,1024.54,1017.12,999.18,1017.85,1029.04,816.46,325.72,327.3,322.57,352.28,542.63,130.63],\"yaxis\":\"y\",\"type\":\"scatter\"}],                        {\"template\":{\"data\":{\"histogram2dcontour\":[{\"type\":\"histogram2dcontour\",\"colorbar\":{\"outlinewidth\":0,\"ticks\":\"\"},\"colorscale\":[[0.0,\"#0d0887\"],[0.1111111111111111,\"#46039f\"],[0.2222222222222222,\"#7201a8\"],[0.3333333333333333,\"#9c179e\"],[0.4444444444444444,\"#bd3786\"],[0.5555555555555556,\"#d8576b\"],[0.6666666666666666,\"#ed7953\"],[0.7777777777777778,\"#fb9f3a\"],[0.8888888888888888,\"#fdca26\"],[1.0,\"#f0f921\"]]}],\"choropleth\":[{\"type\":\"choropleth\",\"colorbar\":{\"outlinewidth\":0,\"ticks\":\"\"}}],\"histogram2d\":[{\"type\":\"histogram2d\",\"colorbar\":{\"outlinewidth\":0,\"ticks\":\"\"},\"colorscale\":[[0.0,\"#0d0887\"],[0.1111111111111111,\"#46039f\"],[0.2222222222222222,\"#7201a8\"],[0.3333333333333333,\"#9c179e\"],[0.4444444444444444,\"#bd3786\"],[0.5555555555555556,\"#d8576b\"],[0.6666666666666666,\"#ed7953\"],[0.7777777777777778,\"#fb9f3a\"],[0.8888888888888888,\"#fdca26\"],[1.0,\"#f0f921\"]]}],\"heatmap\":[{\"type\":\"heatmap\",\"colorbar\":{\"outlinewidth\":0,\"ticks\":\"\"},\"colorscale\":[[0.0,\"#0d0887\"],[0.1111111111111111,\"#46039f\"],[0.2222222222222222,\"#7201a8\"],[0.3333333333333333,\"#9c179e\"],[0.4444444444444444,\"#bd3786\"],[0.5555555555555556,\"#d8576b\"],[0.6666666666666666,\"#ed7953\"],[0.7777777777777778,\"#fb9f3a\"],[0.8888888888888888,\"#fdca26\"],[1.0,\"#f0f921\"]]}],\"heatmapgl\":[{\"type\":\"heatmapgl\",\"colorbar\":{\"outlinewidth\":0,\"ticks\":\"\"},\"colorscale\":[[0.0,\"#0d0887\"],[0.1111111111111111,\"#46039f\"],[0.2222222222222222,\"#7201a8\"],[0.3333333333333333,\"#9c179e\"],[0.4444444444444444,\"#bd3786\"],[0.5555555555555556,\"#d8576b\"],[0.6666666666666666,\"#ed7953\"],[0.7777777777777778,\"#fb9f3a\"],[0.8888888888888888,\"#fdca26\"],[1.0,\"#f0f921\"]]}],\"contourcarpet\":[{\"type\":\"contourcarpet\",\"colorbar\":{\"outlinewidth\":0,\"ticks\":\"\"}}],\"contour\":[{\"type\":\"contour\",\"colorbar\":{\"outlinewidth\":0,\"ticks\":\"\"},\"colorscale\":[[0.0,\"#0d0887\"],[0.1111111111111111,\"#46039f\"],[0.2222222222222222,\"#7201a8\"],[0.3333333333333333,\"#9c179e\"],[0.4444444444444444,\"#bd3786\"],[0.5555555555555556,\"#d8576b\"],[0.6666666666666666,\"#ed7953\"],[0.7777777777777778,\"#fb9f3a\"],[0.8888888888888888,\"#fdca26\"],[1.0,\"#f0f921\"]]}],\"surface\":[{\"type\":\"surface\",\"colorbar\":{\"outlinewidth\":0,\"ticks\":\"\"},\"colorscale\":[[0.0,\"#0d0887\"],[0.1111111111111111,\"#46039f\"],[0.2222222222222222,\"#7201a8\"],[0.3333333333333333,\"#9c179e\"],[0.4444444444444444,\"#bd3786\"],[0.5555555555555556,\"#d8576b\"],[0.6666666666666666,\"#ed7953\"],[0.7777777777777778,\"#fb9f3a\"],[0.8888888888888888,\"#fdca26\"],[1.0,\"#f0f921\"]]}],\"mesh3d\":[{\"type\":\"mesh3d\",\"colorbar\":{\"outlinewidth\":0,\"ticks\":\"\"}}],\"scatter\":[{\"fillpattern\":{\"fillmode\":\"overlay\",\"size\":10,\"solidity\":0.2},\"type\":\"scatter\"}],\"parcoords\":[{\"type\":\"parcoords\",\"line\":{\"colorbar\":{\"outlinewidth\":0,\"ticks\":\"\"}}}],\"scatterpolargl\":[{\"type\":\"scatterpolargl\",\"marker\":{\"colorbar\":{\"outlinewidth\":0,\"ticks\":\"\"}}}],\"bar\":[{\"error_x\":{\"color\":\"#2a3f5f\"},\"error_y\":{\"color\":\"#2a3f5f\"},\"marker\":{\"line\":{\"color\":\"#E5ECF6\",\"width\":0.5},\"pattern\":{\"fillmode\":\"overlay\",\"size\":10,\"solidity\":0.2}},\"type\":\"bar\"}],\"scattergeo\":[{\"type\":\"scattergeo\",\"marker\":{\"colorbar\":{\"outlinewidth\":0,\"ticks\":\"\"}}}],\"scatterpolar\":[{\"type\":\"scatterpolar\",\"marker\":{\"colorbar\":{\"outlinewidth\":0,\"ticks\":\"\"}}}],\"histogram\":[{\"marker\":{\"pattern\":{\"fillmode\":\"overlay\",\"size\":10,\"solidity\":0.2}},\"type\":\"histogram\"}],\"scattergl\":[{\"type\":\"scattergl\",\"marker\":{\"colorbar\":{\"outlinewidth\":0,\"ticks\":\"\"}}}],\"scatter3d\":[{\"type\":\"scatter3d\",\"line\":{\"colorbar\":{\"outlinewidth\":0,\"ticks\":\"\"}},\"marker\":{\"colorbar\":{\"outlinewidth\":0,\"ticks\":\"\"}}}],\"scattermapbox\":[{\"type\":\"scattermapbox\",\"marker\":{\"colorbar\":{\"outlinewidth\":0,\"ticks\":\"\"}}}],\"scatterternary\":[{\"type\":\"scatterternary\",\"marker\":{\"colorbar\":{\"outlinewidth\":0,\"ticks\":\"\"}}}],\"scattercarpet\":[{\"type\":\"scattercarpet\",\"marker\":{\"colorbar\":{\"outlinewidth\":0,\"ticks\":\"\"}}}],\"carpet\":[{\"aaxis\":{\"endlinecolor\":\"#2a3f5f\",\"gridcolor\":\"white\",\"linecolor\":\"white\",\"minorgridcolor\":\"white\",\"startlinecolor\":\"#2a3f5f\"},\"baxis\":{\"endlinecolor\":\"#2a3f5f\",\"gridcolor\":\"white\",\"linecolor\":\"white\",\"minorgridcolor\":\"white\",\"startlinecolor\":\"#2a3f5f\"},\"type\":\"carpet\"}],\"table\":[{\"cells\":{\"fill\":{\"color\":\"#EBF0F8\"},\"line\":{\"color\":\"white\"}},\"header\":{\"fill\":{\"color\":\"#C8D4E3\"},\"line\":{\"color\":\"white\"}},\"type\":\"table\"}],\"barpolar\":[{\"marker\":{\"line\":{\"color\":\"#E5ECF6\",\"width\":0.5},\"pattern\":{\"fillmode\":\"overlay\",\"size\":10,\"solidity\":0.2}},\"type\":\"barpolar\"}],\"pie\":[{\"automargin\":true,\"type\":\"pie\"}]},\"layout\":{\"autotypenumbers\":\"strict\",\"colorway\":[\"#636efa\",\"#EF553B\",\"#00cc96\",\"#ab63fa\",\"#FFA15A\",\"#19d3f3\",\"#FF6692\",\"#B6E880\",\"#FF97FF\",\"#FECB52\"],\"font\":{\"color\":\"#2a3f5f\"},\"hovermode\":\"closest\",\"hoverlabel\":{\"align\":\"left\"},\"paper_bgcolor\":\"white\",\"plot_bgcolor\":\"#E5ECF6\",\"polar\":{\"bgcolor\":\"#E5ECF6\",\"angularaxis\":{\"gridcolor\":\"white\",\"linecolor\":\"white\",\"ticks\":\"\"},\"radialaxis\":{\"gridcolor\":\"white\",\"linecolor\":\"white\",\"ticks\":\"\"}},\"ternary\":{\"bgcolor\":\"#E5ECF6\",\"aaxis\":{\"gridcolor\":\"white\",\"linecolor\":\"white\",\"ticks\":\"\"},\"baxis\":{\"gridcolor\":\"white\",\"linecolor\":\"white\",\"ticks\":\"\"},\"caxis\":{\"gridcolor\":\"white\",\"linecolor\":\"white\",\"ticks\":\"\"}},\"coloraxis\":{\"colorbar\":{\"outlinewidth\":0,\"ticks\":\"\"}},\"colorscale\":{\"sequential\":[[0.0,\"#0d0887\"],[0.1111111111111111,\"#46039f\"],[0.2222222222222222,\"#7201a8\"],[0.3333333333333333,\"#9c179e\"],[0.4444444444444444,\"#bd3786\"],[0.5555555555555556,\"#d8576b\"],[0.6666666666666666,\"#ed7953\"],[0.7777777777777778,\"#fb9f3a\"],[0.8888888888888888,\"#fdca26\"],[1.0,\"#f0f921\"]],\"sequentialminus\":[[0.0,\"#0d0887\"],[0.1111111111111111,\"#46039f\"],[0.2222222222222222,\"#7201a8\"],[0.3333333333333333,\"#9c179e\"],[0.4444444444444444,\"#bd3786\"],[0.5555555555555556,\"#d8576b\"],[0.6666666666666666,\"#ed7953\"],[0.7777777777777778,\"#fb9f3a\"],[0.8888888888888888,\"#fdca26\"],[1.0,\"#f0f921\"]],\"diverging\":[[0,\"#8e0152\"],[0.1,\"#c51b7d\"],[0.2,\"#de77ae\"],[0.3,\"#f1b6da\"],[0.4,\"#fde0ef\"],[0.5,\"#f7f7f7\"],[0.6,\"#e6f5d0\"],[0.7,\"#b8e186\"],[0.8,\"#7fbc41\"],[0.9,\"#4d9221\"],[1,\"#276419\"]]},\"xaxis\":{\"gridcolor\":\"white\",\"linecolor\":\"white\",\"ticks\":\"\",\"title\":{\"standoff\":15},\"zerolinecolor\":\"white\",\"automargin\":true,\"zerolinewidth\":2},\"yaxis\":{\"gridcolor\":\"white\",\"linecolor\":\"white\",\"ticks\":\"\",\"title\":{\"standoff\":15},\"zerolinecolor\":\"white\",\"automargin\":true,\"zerolinewidth\":2},\"scene\":{\"xaxis\":{\"backgroundcolor\":\"#E5ECF6\",\"gridcolor\":\"white\",\"linecolor\":\"white\",\"showbackground\":true,\"ticks\":\"\",\"zerolinecolor\":\"white\",\"gridwidth\":2},\"yaxis\":{\"backgroundcolor\":\"#E5ECF6\",\"gridcolor\":\"white\",\"linecolor\":\"white\",\"showbackground\":true,\"ticks\":\"\",\"zerolinecolor\":\"white\",\"gridwidth\":2},\"zaxis\":{\"backgroundcolor\":\"#E5ECF6\",\"gridcolor\":\"white\",\"linecolor\":\"white\",\"showbackground\":true,\"ticks\":\"\",\"zerolinecolor\":\"white\",\"gridwidth\":2}},\"shapedefaults\":{\"line\":{\"color\":\"#2a3f5f\"}},\"annotationdefaults\":{\"arrowcolor\":\"#2a3f5f\",\"arrowhead\":0,\"arrowwidth\":1},\"geo\":{\"bgcolor\":\"white\",\"landcolor\":\"#E5ECF6\",\"subunitcolor\":\"white\",\"showland\":true,\"showlakes\":true,\"lakecolor\":\"white\"},\"title\":{\"x\":0.05},\"mapbox\":{\"style\":\"light\"}}},\"title\":{\"text\":\"Test model actual vs predicted\",\"x\":0},\"xaxis\":{\"title\":{\"text\":\"Actual\"}},\"yaxis\":{\"title\":{\"text\":\"Predicted\"}},\"shapes\":[{\"line\":{\"dash\":\"dot\"},\"type\":\"line\",\"x0\":0.0,\"x1\":1156.0,\"xref\":\"x\",\"y0\":0.0,\"y1\":1156.0,\"yref\":\"y\"}]},                        {\"responsive\": true}                    ).then(function(){\n                            \nvar gd = document.getElementById('5367dfe5-5fc9-49bd-afbf-c3b84033a430');\nvar x = new MutationObserver(function (mutations, observer) {{\n        var display = window.getComputedStyle(gd).display;\n        if (!display || display === 'none') {{\n            console.log([gd, 'removed!']);\n            Plotly.purge(gd);\n            observer.disconnect();\n        }}\n}});\n\n// Listen for the removal of the full notebook cells\nvar notebookContainer = gd.closest('#notebook-container');\nif (notebookContainer) {{\n    x.observe(notebookContainer, {childList: true});\n}}\n\n// Listen for the clearing of the current output cell\nvar outputEl = gd.closest('.output');\nif (outputEl) {{\n    x.observe(outputEl, {childList: true});\n}}\n\n                        })                };                });            </script>        </div>"
         },
         "metadata": {},
         "output_type": "display_data"
        }
       ],
       "tabbable": null,
       "tooltip": null
      }
     },
     "d5b8109889634e8d83b457811b27d0cb": {
      "model_module": "@jupyter-widgets/controls",
      "model_module_version": "2.0.0",
      "model_name": "VBoxModel",
      "state": {
       "_dom_classes": [
        "widget-interact"
       ],
       "_model_module_version": "2.0.0",
       "_view_module_version": "2.0.0",
       "children": [
        "IPY_MODEL_03cdaf681f3344cf8c27c263884ad0d4",
        "IPY_MODEL_6e2febb027614425a9d15941c365841d"
       ],
       "layout": "IPY_MODEL_ea0b5909753a42f08f28cf1589141811",
       "tabbable": null,
       "tooltip": null
      }
     },
     "d8a0d75710794ec2884c988a771e3c41": {
      "model_module": "@jupyter-widgets/controls",
      "model_module_version": "2.0.0",
      "model_name": "VBoxModel",
      "state": {
       "_dom_classes": [
        "widget-interact"
       ],
       "_model_module_version": "2.0.0",
       "_view_module_version": "2.0.0",
       "children": [
        "IPY_MODEL_a50e9412e3f242adb71549ae52a5f107",
        "IPY_MODEL_d50a1508f54b42fe80030efb12d54ecf"
       ],
       "layout": "IPY_MODEL_807ca980df7346ef84b91dfb5241f60c",
       "tabbable": null,
       "tooltip": null
      }
     },
     "ea0b5909753a42f08f28cf1589141811": {
      "model_module": "@jupyter-widgets/base",
      "model_module_version": "2.0.0",
      "model_name": "LayoutModel",
      "state": {
       "_model_module_version": "2.0.0",
       "_view_module_version": "2.0.0",
       "border_bottom": null,
       "border_left": null,
       "border_right": null,
       "border_top": null
      }
     }
    },
    "version_major": 2,
    "version_minor": 0
   }
  }
 },
 "nbformat": 4,
 "nbformat_minor": 5
}
